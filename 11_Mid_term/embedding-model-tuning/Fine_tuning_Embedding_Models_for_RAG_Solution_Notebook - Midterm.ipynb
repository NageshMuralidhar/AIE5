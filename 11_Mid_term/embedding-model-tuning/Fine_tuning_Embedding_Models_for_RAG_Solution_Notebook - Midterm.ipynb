{
  "cells": [
    {
      "cell_type": "markdown",
      "metadata": {
        "id": "ckbbj5diaHkg"
      },
      "source": [
        "# Fine-tuning Embeddings for RAG on Specific Data\n",
        "\n",
        "\n"
      ]
    },
    {
      "cell_type": "markdown",
      "metadata": {
        "id": "9c_EUibmcDU3"
      },
      "source": [
        "### Nest Asyncio"
      ]
    },
    {
      "cell_type": "code",
      "execution_count": 1,
      "metadata": {
        "id": "zq-6s7LbPnKH"
      },
      "outputs": [],
      "source": [
        "import nest_asyncio\n",
        "\n",
        "nest_asyncio.apply()"
      ]
    },
    {
      "cell_type": "markdown",
      "metadata": {
        "id": "0FM-eUlrcI8a"
      },
      "source": [
        "### Provide OpenAI API Key"
      ]
    },
    {
      "cell_type": "code",
      "execution_count": 2,
      "metadata": {
        "colab": {
          "base_uri": "https://localhost:8080/"
        },
        "id": "wA_mlurVqtrp",
        "outputId": "18cccb1e-095f-40fa-def5-2454f9bcdcae"
      },
      "outputs": [],
      "source": [
        "import os\n",
        "import getpass\n",
        "\n",
        "os.environ[\"OPENAI_API_KEY\"] = getpass.getpass(\"Enter Your OpenAI API Key: \")"
      ]
    },
    {
      "cell_type": "code",
      "execution_count": 12,
      "metadata": {
        "id": "DHJhTzsvN75t"
      },
      "outputs": [],
      "source": [
        "from langchain_community.document_loaders import DirectoryLoader\n",
        "from langchain_community.document_loaders import BSHTMLLoader\n",
        "\n",
        "path = \"data/\"\n",
        "text_loader = DirectoryLoader(path, glob=\"*.html\", loader_cls=BSHTMLLoader)"
      ]
    },
    {
      "cell_type": "code",
      "execution_count": 13,
      "metadata": {
        "id": "NsPrOOqXOsNX"
      },
      "outputs": [],
      "source": [
        "from langchain_text_splitters import RecursiveCharacterTextSplitter\n",
        "\n",
        "text_splitter = RecursiveCharacterTextSplitter(\n",
        "    chunk_size = 750,\n",
        "    chunk_overlap  = 20,\n",
        "    length_function = len\n",
        ")"
      ]
    },
    {
      "cell_type": "code",
      "execution_count": 14,
      "metadata": {
        "id": "OMYPX6N6Os8M"
      },
      "outputs": [],
      "source": [
        "training_documents = text_splitter.split_documents(text_loader.load())"
      ]
    },
    {
      "cell_type": "code",
      "execution_count": 15,
      "metadata": {
        "colab": {
          "base_uri": "https://localhost:8080/"
        },
        "id": "PAozuMoNOvnp",
        "outputId": "dc1d663e-7153-4c51-cedb-d1bc3888c4ae"
      },
      "outputs": [
        {
          "data": {
            "text/plain": [
              "52"
            ]
          },
          "execution_count": 15,
          "metadata": {},
          "output_type": "execute_result"
        }
      ],
      "source": [
        "len(training_documents)"
      ]
    },
    {
      "cell_type": "code",
      "execution_count": 16,
      "metadata": {
        "id": "AwyIForybIpo"
      },
      "outputs": [],
      "source": [
        "import uuid\n",
        "\n",
        "id_set = set()\n",
        "\n",
        "for document in training_documents:\n",
        "  id = str(uuid.uuid4())\n",
        "  while id in id_set:\n",
        "    id = uuid.uuid4()\n",
        "  id_set.add(id)\n",
        "  document.metadata[\"id\"] = id"
      ]
    },
    {
      "cell_type": "code",
      "execution_count": 17,
      "metadata": {},
      "outputs": [
        {
          "data": {
            "text/plain": [
              "[Document(metadata={'source': 'data/podcast_blog.html', 'title': 'Tech & Science Podcast Blog', 'id': '844e47da-c0b5-42a2-a17e-929fb08381e5'}, page_content=\"Tech & Science Podcast Blog\\n\\n\\n\\nTech & Science Podcast Transcripts\\n\\nAre Humans Dumb?\\nTopic: are humans dumb\\n\\n[INTRO]\\n\\nWelcome to our podcast where we delve into the intriguing question: Are humans dumb? Today, we will explore this topic from two contrasting perspectives - skepticism and belief. Let's navigate through the complexities of human cognition and behavior to uncover the opportunities, risks, key questions, and potential solutions surrounding this thought-provoking issue.\\n\\n[SKEPTIC PERSPECTIVE]\"),\n",
              " Document(metadata={'source': 'data/podcast_blog.html', 'title': 'Tech & Science Podcast Blog', 'id': 'cd856edb-6390-443f-97af-34fc5c9ad6e7'}, page_content=\"Let's start with the skeptic's viewpoint. When examining the information related to human intelligence, it's essential to consider the evolutionary perspective. The study suggesting a decline in human cognition over time raises crucial questions about intelligence trends. However, we must critically assess the study's methodology and sample size to validate its findings. How can we ensure the accuracy of such studies and their implications for human cognition?\\n\\n[Transition to Subjectivity in Judging Intelligence]\"),\n",
              " Document(metadata={'source': 'data/podcast_blog.html', 'title': 'Tech & Science Podcast Blog', 'id': '3fd565d7-be84-452c-9b07-9f8db3f96264'}, page_content=\"Moving on to the subjectivity in judging intelligence, the diverse perceptions of human intellect highlight the challenge of defining and measuring intelligence comprehensively. How can we develop a more inclusive and accurate understanding of intelligence that considers the full spectrum of human capabilities and limitations?\\n\\n[BELIEVER PERSPECTIVE]\\n\\nShifting to the believer's perspective, despite concerns about human cognition, there are opportunities for growth and improvement. The evolution of problem-solving abilities through technology and collaboration offers a pathway to enhance individual judgment. How can we leverage technological advancements and collaborative efforts to boost problem-solving skills in society?\\n\\n[CONCLUSION]\"),\n",
              " Document(metadata={'source': 'data/podcast_blog.html', 'title': 'Tech & Science Podcast Blog', 'id': 'c171087a-f572-4154-b5ea-f122ec616c6e'}, page_content=\"[CONCLUSION]\\n\\nIn conclusion, the debate on human intelligence is multifaceted, encompassing evolutionary, social, ethical, and psychological dimensions. By exploring diverse perspectives and considering the opportunities and risks associated with human cognition, we can pave the way for growth and improvement.\\n\\n[TAKEAWAYS]\\n\\nAs we reflect on today's discussion, remember to approach discussions on intelligence with empathy and respect, embrace innovation while exercising prudence, and seek opportunities for personal and societal growth. By understanding the complexities of human cognition and behavior, we can strive towards a more inclusive and intellectually vibrant future.\"),\n",
              " Document(metadata={'source': 'data/podcast_blog.html', 'title': 'Tech & Science Podcast Blog', 'id': '8d61f214-e407-48dd-8535-72ed0f9d959a'}, page_content=\"Quantum Computing and Cryptography\\nTopic: What are the latest developments in quantum computing and how will they impact cryptography?\\n\\nWelcome to the Quantum Computing and Cryptography podcast, where we delve into the latest developments shaping the future of data security. Today, we're exploring the impact of quantum computing on cryptography, weighing the opportunities and challenges it presents.\\n\\n[SKEPTIC PERSPECTIVE]\"),\n",
              " Document(metadata={'source': 'data/podcast_blog.html', 'title': 'Tech & Science Podcast Blog', 'id': 'fbe08fd0-9d56-47c9-b163-6b65e58a1277'}, page_content=\"Quantum computing's advancements offer exciting prospects for cryptography, but we must tread carefully amidst the challenges. One key aspect is the development of Post-Quantum Cryptography (PQC). While researchers are making strides in PQC algorithms, the transition to quantum-safe protocols poses significant hurdles. Implementing these new standards across systems without compromising security is a complex task.\\n\\n[BELIEVER PERSPECTIVE]\"),\n",
              " Document(metadata={'source': 'data/podcast_blog.html', 'title': 'Tech & Science Podcast Blog', 'id': '65f4c5e9-ce5c-460b-a376-ece105244664'}, page_content=\"The latest quantum computing developments offer a blend of challenges and opportunities for cryptography. Advancements in Post-Quantum Cryptography and innovative solutions like Quantum Key Distribution present avenues to enhance encryption techniques and secure data effectively. By investing in R&D for quantum-safe protocols, organizations can adapt to the evolving cryptographic landscape.\\n\\n[CONCLUSION]\\n\\nAs we wrap up, it's clear that quantum computing's impact on cryptography is both promising and complex. Organizations must proactively engage with these challenges to build a secure and resilient cryptographic infrastructure for the future.\\n\\n[ACTIONABLE TAKEAWAYS]\"),\n",
              " Document(metadata={'source': 'data/podcast_blog.html', 'title': 'Tech & Science Podcast Blog', 'id': '9ff3615a-1eac-429f-87bc-b2d3a03a13b9'}, page_content='1. Stay updated on advancements in Post-Quantum Cryptography and Quantum Key Distribution.\\n2. Invest in research and development of quantum-resistant encryption techniques.\\n3. Collaborate with industry stakeholders to establish robust security standards.\\n4. Plan a phased transition towards quantum-safe protocols to ensure compatibility with current systems.\\n        \\n\\n\\nEnvironmental Impact of Fast Fashion\\nTopic: Explain the environmental impact of fast fashion and sustainable alternatives\\n\\n[INTRO]'),\n",
              " Document(metadata={'source': 'data/podcast_blog.html', 'title': 'Tech & Science Podcast Blog', 'id': 'cf1e8154-764f-4934-9bc3-b2fada473c83'}, page_content=\"[INTRO]\\n\\nWelcome to our podcast where we delve into the environmental impact of fast fashion and explore sustainable alternatives. Today, we'll navigate through the complexities of this issue by presenting a balanced debate between skeptics and believers of sustainable fashion.\\n\\n[SKEPTIC PERSPECTIVE]\\n\\nLet's start by examining the skeptic's viewpoint. Fast fashion undeniably poses a significant environmental threat, with its resource depletion, greenhouse gas emissions, and chemical pollution. While sustainable alternatives offer hope, they come with their own set of challenges.\"),\n",
              " Document(metadata={'source': 'data/podcast_blog.html', 'title': 'Tech & Science Podcast Blog', 'id': '1e81c0f2-d2f8-449f-b4b7-8dab6b6302c9'}, page_content='The cost considerations associated with sustainable fashion can hinder accessibility for lower-income consumers, potentially widening disparities in the industry. Moreover, greenwashing practices by some fast fashion brands mislead consumers, making it hard to distinguish truly sustainable options.\\n\\n[POSITIVE ASPECTS]\\n\\nDespite these challenges, believers in sustainable fashion see a silver lining. Sustainable materials like organic cotton and hemp offer a path to reduce resource usage and carbon footprints. By embracing renewable energy sources and engaging consumers to prioritize quality over quantity, the industry can drive positive change.\\n\\n[CONCLUSION]'),\n",
              " Document(metadata={'source': 'data/podcast_blog.html', 'title': 'Tech & Science Podcast Blog', 'id': 'f4978967-2f69-4446-b773-72aaeb7fb235'}, page_content=\"[CONCLUSION]\\n\\nAs we conclude, it's evident that the fashion industry stands at a crossroads. Embracing sustainable alternatives not only mitigates environmental harm but also fosters innovation and consumer trust. By working together and embracing change, we can pave the way for a more environmentally conscious fashion ecosystem.\\n\\n[TAKEAWAYS]\\n\\nRemember, your choices as a consumer matter. Support brands that prioritize sustainability, stay informed, and advocate for a greener fashion industry. Together, we can make a difference.\\n        \\n\\n\\nAI Impact on Job Markets\\nTopic: How does artificial intelligence impact job markets and what skills will be important in the future?\"),\n",
              " Document(metadata={'source': 'data/podcast_blog.html', 'title': 'Tech & Science Podcast Blog', 'id': 'ffc8ddba-5a16-4651-86f6-d615afdbb835'}, page_content='Welcome to the AI Impact podcast, where we explore the intersection of artificial intelligence and job markets. Today, we delve into a crucial debate on how AI influences job opportunities and the essential skills needed for the future.\\n\\n[SKEPTIC PERSPECTIVE]\\n\\nJob displacement and skill mismatch are critical concerns. While AI creates new job opportunities, it also has the potential to automate and eliminate certain roles, leading to challenges for workers who need to transition into AI-related fields. How can we address these skill mismatches and ensure a smooth transition for displaced workers?\\n\\n[BELIEVER PERSPECTIVE]'),\n",
              " Document(metadata={'source': 'data/podcast_blog.html', 'title': 'Tech & Science Podcast Blog', 'id': '60357fd5-95e7-4877-b73d-5de6e6b34db5'}, page_content=\"Transforming job markets through AI automation can lead to more engaging and creative roles. The emergence of new job opportunities allows for specialization and innovation. How can individuals seize these opportunities for personal growth and career advancement?\\n\\n[CONCLUSION]\\n\\nAs we wrap up, it's clear that preparing for an AI-driven economy requires a proactive approach to skills development, education, and certification. By embracing the opportunities and addressing the risks, individuals can thrive in the evolving landscape of AI integration in job markets.\\n\\n[ACTIONABLE TAKEAWAYS]\"),\n",
              " Document(metadata={'source': 'data/podcast_blog.html', 'title': 'Tech & Science Podcast Blog', 'id': 'f255e14f-d522-40c9-9888-374aeda361d2'}, page_content=\"1. Evaluate your current skill set and identify areas for AI-related upskilling.\\n2. Stay informed about industry trends and advancements in AI technology.\\n3. Explore reputable AI education programs and certifications to enhance your expertise.\\n4. Advocate for inclusive access to AI education initiatives in your community or organization.\\n        \\n\\n\\nSocial Media and Mental Health\\nTopic: What are the psychological effects of social media on mental health?\\n\\n[INTRO]\\n\\nWelcome to our podcast where we delve into the intriguing topic of the psychological effects of social media on mental health. Today, we'll explore the various perspectives surrounding this issue and discuss the opportunities and challenges it presents.\\n\\n[DEBATE BEGINS]\"),\n",
              " Document(metadata={'source': 'data/podcast_blog.html', 'title': 'Tech & Science Podcast Blog', 'id': '6774d1cd-0710-403f-b455-1230225e0277'}, page_content='[DEBATE BEGINS]\\n\\nOur skeptic raises valid points about the complexities of studying the relationship between social media and mental health. The distinction between causation and correlation is crucial. While studies suggest a link between excessive social media use and mental health issues, establishing direct causality can be challenging due to confounding factors.\\n\\n[BELIEVER PERSPECTIVE]'),\n",
              " Document(metadata={'source': 'data/podcast_blog.html', 'title': 'Tech & Science Podcast Blog', 'id': '5a9f82d3-acff-4cb9-ab43-61ff790a744f'}, page_content='On the other hand, our believer highlights the positive aspects and opportunities for growth in this space. Increased awareness and education about healthy social media habits, the potential for community support, the availability of digital wellbeing tools, positive content creation, and the therapeutic benefits of online platforms all offer avenues for promoting mental health and wellbeing.\\n\\n[CONCLUSION]'),\n",
              " Document(metadata={'source': 'data/podcast_blog.html', 'title': 'Tech & Science Podcast Blog', 'id': 'c56e86a6-44b7-4b00-853a-0166f4235f56'}, page_content=\"[CONCLUSION]\\n\\nAs we wrap up, it's clear that navigating the psychological effects of social media on mental health requires a comprehensive approach. By collaborating with social media platforms, implementing educational campaigns, fostering supportive communities, advocating for mental health policies, and supporting mental health professionals, we can work towards a healthier online environment.\\n\\nRemember, striking a balance between the benefits and risks of social media use is essential. Let's continue the conversation and strive to make social media a positive force for mental health and wellbeing.\\n        \\n\\n\\nBlockchain Beyond Cryptocurrency\\nTopic: Explain the basics of blockchain technology and its applications beyond cryptocurrency\"),\n",
              " Document(metadata={'source': 'data/podcast_blog.html', 'title': 'Tech & Science Podcast Blog', 'id': '01ed10ad-820f-40fe-a6fa-1f18f706dcb2'}, page_content=\"[INTRO]\\n\\nWelcome to the Tech Innovators Podcast, where we explore the latest trends and technologies shaping our future. Today, we dive into the world of blockchain technology and its applications beyond cryptocurrency.\\n\\n[SKEPTIC PERSPECTIVE]\\n\\nWhen discussing blockchain technology beyond cryptocurrency, it's crucial to acknowledge the challenges that come with its widespread adoption. Scalability issues, energy consumption concerns, regulatory hurdles, interoperability challenges, security risks, and user adoption barriers pose significant obstacles. These limitations must be addressed to unlock the full potential of blockchain technology across industries.\\n\\n[BELIEVER PERSPECTIVE]\"),\n",
              " Document(metadata={'source': 'data/podcast_blog.html', 'title': 'Tech & Science Podcast Blog', 'id': '78bd076e-0f07-4cb5-80a7-ad95cb3b4920'}, page_content='On the flip side, blockchain technology offers a myriad of opportunities in cybersecurity, data storage, smart contracts, supply chain management, healthcare, and finance. Its decentralized and secure nature enhances data security, transparency, and efficiency in various sectors. By leveraging these applications, industries can revolutionize their operations and drive progress and trust.\\n\\n[CONCLUSION]'),\n",
              " Document(metadata={'source': 'data/podcast_blog.html', 'title': 'Tech & Science Podcast Blog', 'id': 'b03a442c-f098-4b19-8299-37cf4e0b0e03'}, page_content=\"[CONCLUSION]\\n\\nAs we wrap up today's discussion, it's clear that blockchain technology holds immense promise beyond cryptocurrencies. By addressing scalability, regulatory, and security challenges, while leveraging its diverse applications, industries can unlock the full potential of blockchain technology. Remember, collaboration, research, education, and innovation are key to harnessing the power of blockchain for a more secure and efficient future.\\n        \\n\\n\\nRenewable Energy Breakthroughs\\nTopic: What are the latest breakthroughs in renewable energy technology?\\n\\n[INTRO]\"),\n",
              " Document(metadata={'source': 'data/podcast_blog.html', 'title': 'Tech & Science Podcast Blog', 'id': 'c807f79b-b1f4-41fc-b9b0-fd5fed0cffc1'}, page_content=\"[INTRO]\\n\\nWelcome to the Renewable Energy Revolution podcast, where we explore the latest breakthroughs in renewable energy technology. Today, we dive into a debate between skeptics and believers about the opportunities and risks associated with these innovations.\\n\\n[SKEPTIC PERSPECTIVE]\\n\\nThe latest breakthroughs in renewable energy technology hold promise for a sustainable future, but it's crucial to dissect the challenges they bring. Green hydrogen production, for instance, faces hurdles due to high costs and infrastructure demands. Scaling up efficiently is key to its success.\\n\\n[BELIEVER PERSPECTIVE]\"),\n",
              " Document(metadata={'source': 'data/podcast_blog.html', 'title': 'Tech & Science Podcast Blog', 'id': 'cb3fbc1b-4e87-456d-bfa7-e3f721af1789'}, page_content=\"Green hydrogen production offers a revolutionary way to store excess renewable energy and decarbonize various sectors. By leveraging renewable sources, we can address energy intermittency issues and foster a cleaner energy ecosystem.\\n\\n[CONCLUSION]\\n\\nAs we navigate the complexities of integrating the latest renewable energy technologies, it's essential to address key questions and find solutions for a sustainable and resilient energy future. By collaborating, investing in research, and advocating for supportive policies, we can accelerate the transition to a greener and brighter future.\\n        \\n\\n\\nSpace Exploration Benefits\\nTopic: How does space exploration benefit everyday life on Earth?\\n\\n[INTRO]\"),\n",
              " Document(metadata={'source': 'data/podcast_blog.html', 'title': 'Tech & Science Podcast Blog', 'id': '37a30058-5d3a-4b6c-bd4c-00494483a17e'}, page_content=\"[INTRO]\\n\\nWelcome to the Space Explorers Podcast, where we unravel the mysteries of the cosmos and explore how they impact our lives here on Earth. Today, we're diving into a thought-provoking debate on the benefits and challenges of space exploration for everyday life.\\n\\n[SKEPTIC PERSPECTIVE]\\n\\nSpace exploration undeniably brings advancements, but we must consider the cost and resource allocation involved. Funds diverted to space programs could address pressing issues like poverty and healthcare. The environmental impact and equity concerns also raise red flags.\\n\\n[BELIEVER PERSPECTIVE]\"),\n",
              " Document(metadata={'source': 'data/podcast_blog.html', 'title': 'Tech & Science Podcast Blog', 'id': 'c257da12-d376-42dd-bd6f-694d3d477371'}, page_content=\"While the skeptic raises valid points, let's not overlook the positive impacts of space exploration. Health innovations, technological advancements, and job creation are just the tip of the iceberg. Space missions inspire curiosity, drive education, and pave the way for future colonization.\\n\\n[CONCLUSION]\\n\\nAs we conclude this enlightening discussion, remember that the cosmos hold both promise and peril. By navigating the complexities of space exploration with wisdom and foresight, we can unlock a universe of possibilities while safeguarding our planet and its inhabitants.\\n        \\n\\n\\nMedical Research Advances in Cancer Treatment\\nTopic: What are the most promising advances in medical research for treating cancer?\\n\\n[INTRO]\"),\n",
              " Document(metadata={'source': 'data/podcast_blog.html', 'title': 'Tech & Science Podcast Blog', 'id': '97e2bf55-7092-440b-9c7c-b729ace30709'}, page_content=\"[INTRO]\\n\\nWelcome to the Health Innovations podcast, where we explore the latest advances in medical research. Today, we dive into the topic of the most promising breakthroughs in cancer treatment. We'll hear from two perspectives - one skeptical and one optimistic - to provide a balanced view on the opportunities and challenges in this field.\\n\\n[SKEPTIC PERSPECTIVE]\\n\\nWhile the advancements in medical research for cancer treatment are promising, we must acknowledge the hurdles that come with them. Immunotherapy faces issues with response variability and severe side effects that need careful management. Clinical trials may not always represent the diversity of the population, and long-term effects can differ from short-term benefits.\"),\n",
              " Document(metadata={'source': 'data/podcast_blog.html', 'title': 'Tech & Science Podcast Blog', 'id': 'f7304046-f810-4555-b7de-0a5f075cf885'}, page_content=\"[BELIEVER PERSPECTIVE]\\n\\nThe recent advances in cancer research present a wealth of opportunities. Immunotherapy, clinical trials, genomic data integration, surgical platforms, and new treatments offer groundbreaking approaches that can lead to personalized treatments, reduced side effects, and improved survival rates.\\n\\n[CONCLUSION]\\n\\nAs we wrap up, it's clear that while the advancements in cancer research offer hope for transformative treatments, addressing challenges and ensuring ethical, accessible, and efficient implementation is crucial. By collaborating, monitoring, and prioritizing patient well-being, we can truly revolutionize cancer care for a brighter future.\"),\n",
              " Document(metadata={'source': 'data/podcast_blog.html', 'title': 'Tech & Science Podcast Blog', 'id': 'ef72fa9e-824c-4cac-968d-4a964eaa1468'}, page_content=\"Impact of Microplastics on Marine Ecosystems\\nTopic: Explain the impact of microplastics on marine ecosystems\\n\\n[INTRO]\\n\\nWelcome to our podcast where we delve into the critical issue of microplastic pollution and its impact on marine ecosystems. Today, we'll explore the multifaceted debate surrounding this environmental challenge, from the risks it poses to the opportunities for positive change.\\n\\n[SKEPTIC PERSPECTIVE]\"),\n",
              " Document(metadata={'source': 'data/podcast_blog.html', 'title': 'Tech & Science Podcast Blog', 'id': 'fd172a14-8952-4671-9125-d518cd8490fc'}, page_content=\"The sources we've examined underscore the grave consequences of microplastics on marine life. These tiny particles cause physical harm, toxicity, and pose a threat through entanglement and ingestion. The widespread presence of microplastics in the ocean not only endangers marine organisms but also raises concerns for the broader environment and human health.\\n\\n[BELIEVER PERSPECTIVE]\\n\\nWhile the impact of microplastics is indeed alarming, there are avenues for positive change. Researchers are actively studying microplastics, paving the way for innovative cleanup technologies. Increasing public awareness and education can drive behavioral changes, while regulations and policies can limit plastic usage.\\n\\n[CONCLUSION]\"),\n",
              " Document(metadata={'source': 'data/podcast_blog.html', 'title': 'Tech & Science Podcast Blog', 'id': '7e674910-06b3-448a-9428-a48de94b3b81'}, page_content=\"[CONCLUSION]\\n\\nAs we wrap up, it's evident that the impact of microplastics on marine ecosystems is multifaceted. By recognizing the challenges and opportunities, we can collectively work towards a cleaner and healthier marine environment. Stay informed, stay engaged, and let's make a positive difference for our oceans.\\n        \\n\\n\\nGenetic Engineering and CRISPR Technology\\nTopic: What are the ethical implications of genetic engineering and CRISPR technology?\\n\\n[INTRO]\\n\\nWelcome to our podcast where we delve into the ethical implications of genetic engineering and CRISPR technology. Today, we'll explore the diverse perspectives surrounding this cutting-edge technology, from the risks and challenges to the promising opportunities it presents.\"),\n",
              " Document(metadata={'source': 'data/podcast_blog.html', 'title': 'Tech & Science Podcast Blog', 'id': '856b29bf-165f-4fc2-b0d8-71f029022d32'}, page_content='[SKEPTIC PERSPECTIVE]\\n\\nGenetic engineering and CRISPR technology introduce a myriad of ethical dilemmas that cannot be ignored. The ability to edit the human germline raises profound questions about heritable changes, long-term consequences, and the moral responsibility tied to altering the gene pool. Additionally, issues surrounding informed consent, access to technology, unintended consequences, and the risk of eugenics and discrimination loom large.\\n\\n[BELIEVER PERSPECTIVE]'),\n",
              " Document(metadata={'source': 'data/podcast_blog.html', 'title': 'Tech & Science Podcast Blog', 'id': '7dd47941-2cbf-46eb-8d66-549217593cb2'}, page_content=\"While ethical concerns are valid, it's essential to recognize the immense opportunities CRISPR technology presents. From precision medicine advancements to enhanced food security and environmental conservation, CRISPR offers a pathway to personalized healthcare, resilient crops, and sustainable practices.\\n\\n[CONCLUSION]\\n\\nAs we wrap up, it's evident that the ethical implications of genetic engineering and CRISPR technology are multifaceted. By striking a balance between innovation and ethical considerations, we can navigate this complex landscape responsibly.\\n        \\n\\n\\n5G Technology and Telecommunications\\nTopic: How is 5G technology changing telecommunications and what are its potential risks?\\n\\n[INTRO]\"),\n",
              " Document(metadata={'source': 'data/podcast_blog.html', 'title': 'Tech & Science Podcast Blog', 'id': 'd2e228ef-1bd0-470b-9c2f-9287951b75ea'}, page_content=\"[INTRO]\\n\\nWelcome to the TechTalk podcast, where we delve into the latest advancements shaping the world of technology. Today, we're exploring the transformative impact of 5G technology on telecommunications and the critical considerations surrounding its adoption.\\n\\n[SKEPTIC PERSPECTIVE]\\n\\nWhile 5G presents exciting opportunities, we mustn't overlook the potential risks. Health concerns related to radiofrequency radiation, cybersecurity threats, infrastructure challenges, regulatory considerations are paramount. The impact on human health and the need for robust cybersecurity measures are critical aspects that require thorough research and regulatory oversight.\\n\\n[BELIEVER PERSPECTIVE]\"),\n",
              " Document(metadata={'source': 'data/podcast_blog.html', 'title': 'Tech & Science Podcast Blog', 'id': '002aade2-8fa4-4a72-8536-c9a72cb45b4d'}, page_content=\"5G technology is a game-changer in connectivity, empowering businesses to innovate, enhancing IoT capabilities, enabling smart city initiatives, and revolutionizing healthcare delivery. The potential for faster speeds, low latency, and seamless communication opens doors to a more connected and efficient future.\\n\\n[CONCLUSION]\\n\\nAs we wrap up, it's evident that 5G technology is reshaping telecommunications with its promise of faster speeds, enhanced connectivity, and innovative solutions. However, to fully harness its potential, stakeholders must navigate the risks diligently.\\n        \\n\\n\\nAutonomous Vehicle Technology\\nTopic: What are the latest developments in autonomous vehicle technology?\\n\\n[INTRO]\"),\n",
              " Document(metadata={'source': 'data/podcast_blog.html', 'title': 'Tech & Science Podcast Blog', 'id': '40d83bd1-23fc-4057-9f32-4dd764e04bf4'}, page_content=\"[INTRO]\\n\\nWelcome to the latest episode of Innovate Now, where we explore the cutting-edge world of technology. Today, we're exploring the advancements in autonomous vehicle technology and the diverse perspectives surrounding its development.\\n\\n[SKEPTIC PERSPECTIVE]\\n\\nLet's kick off by acknowledging the significant challenges and limitations that accompany the latest developments in autonomous vehicle technology. Safety concerns, regulatory hurdles, cybersecurity risks, infrastructure readiness, ethical dilemmas, technological limitations, and consumer acceptance all pose substantial obstacles.\\n\\n[BELIEVER PERSPECTIVE]\"),\n",
              " Document(metadata={'source': 'data/podcast_blog.html', 'title': 'Tech & Science Podcast Blog', 'id': 'd52aa670-361a-4931-95f5-91003efa29b8'}, page_content=\"While it's crucial to address these challenges, it's equally important to recognize the promising opportunities that autonomous vehicles bring. Collaborative efforts between universities and industries, the integration of AI for enhanced safety and efficiency, improved self-driving capabilities, economic growth potential, enhanced user experiences, and the progressive shift towards automation all paint a picture of a future filled with innovation and sustainability.\\n\\n[CONCLUSION]\\n\\nAs we navigate the complexities of autonomous vehicle technology, it's clear that a balanced approach considering both risks and opportunities is key to shaping a future where innovation and societal well-being go hand in hand.\"),\n",
              " Document(metadata={'source': 'data/podcast_blog.html', 'title': 'Tech & Science Podcast Blog', 'id': '51a7c8bc-23ca-4464-a779-1772d082aef3'}, page_content='Climate Change Science and Impacts\\nTopic: Explain the science behind climate change and its global impacts\\n\\n[INTRO]\\n\\nWelcome to the Climate Change Conundrum, where we unravel the complexities of the science behind climate change and its global impacts. Today, we dive into a debate between skeptics and believers, exploring the challenges and opportunities that come with addressing this pressing issue.\\n\\n[SKEPTIC PERSPECTIVE]'),\n",
              " Document(metadata={'source': 'data/podcast_blog.html', 'title': 'Tech & Science Podcast Blog', 'id': '5c11b76e-1800-494c-a1fe-08d47de28f24'}, page_content=\"As we delve into the science of climate change, it's vital to acknowledge the challenges that come with mitigating its impacts. One key aspect is the balance between mitigation and adaptation strategies. Finding the right equilibrium between reducing emissions and adjusting to inevitable changes poses a significant challenge.\\n\\n[BELIEVER PERSPECTIVE]\"),\n",
              " Document(metadata={'source': 'data/podcast_blog.html', 'title': 'Tech & Science Podcast Blog', 'id': 'b2d40433-a11a-4b27-805c-27a32237f1c4'}, page_content=\"While the challenges are undeniable, the science of climate change also offers a beacon of hope. The wealth of data provides a solid foundation for raising awareness and education, empowering informed decision-making. Innovations in technology, collaborative efforts like the Paris Agreement, and opportunities for economic growth in the transition to a low-carbon economy showcase the positive side of addressing climate change.\\n\\n[CONCLUSION]\\n\\nAs we navigate the climate change conundrum, it's evident that a multifaceted approach is essential. By embracing innovation, collaboration, education, and sustainable practices, we can pave the way for a more resilient and sustainable future.\"),\n",
              " Document(metadata={'source': 'data/podcast_blog.html', 'title': 'Tech & Science Podcast Blog', 'id': '822ca5a3-a622-48e8-8712-0365e4607d1d'}, page_content=\"Machine Learning in Healthcare\\nTopic: How is machine learning transforming healthcare diagnosis and treatment?\\n\\n[INTRO]\\n\\nWelcome to the Healthcare Tech Talk podcast, where we explore the intersection of technology and healthcare. Today, we dive into the transformative impact of machine learning on healthcare diagnosis and treatment.\\n\\n[SKEPTIC PERSPECTIVE]\\n\\nMachine learning in healthcare offers immense potential, but it's crucial to address the challenges and limitations to ensure its ethical and effective implementation. Data Privacy and Security, Bias and Fairness in algorithms, and the lack of Interpretability in some models raise questions about accountability.\\n\\n[BELIEVER PERSPECTIVE]\"),\n",
              " Document(metadata={'source': 'data/podcast_blog.html', 'title': 'Tech & Science Podcast Blog', 'id': '375b4e09-5432-4d48-a720-e4563b96d46b'}, page_content='Machine learning presents numerous opportunities in healthcare. It enables Enhanced Patient Care through personalized treatment plans and Efficiency and Speed in diagnosis. The ability to derive Innovative Insights from data can lead to groundbreaking discoveries.\\n\\n[CONCLUSION]\\n\\nTo wrap up, stakeholders must balance the promises of machine learning with ethical considerations to revolutionize healthcare responsibly.\\n        \\n\\n\\nConspiracy Theory Psychology\\nTopic: What are the psychological factors behind conspiracy theory belief?\\n\\n[INTRO]'),\n",
              " Document(metadata={'source': 'data/podcast_blog.html', 'title': 'Tech & Science Podcast Blog', 'id': '5921600e-f987-4e8f-8e44-8bfae2ffbe8c'}, page_content=\"[INTRO]\\n\\nWelcome to our podcast, where we delve into the intriguing topic of the psychological factors behind conspiracy theory belief. Today, we'll explore the complexities surrounding why individuals are drawn to such narratives and discuss opportunities and risks associated with understanding and addressing these beliefs.\\n\\n[SKEPTIC PERSPECTIVE]\\n\\nWhen examining the psychological factors behind conspiracy theory beliefs, it's crucial to acknowledge the intricate web of influences at play. Confirmation bias, social dynamics, group polarization, and psychological vulnerabilities all contribute to the formation and maintenance of these beliefs.\\n\\n[BELIEVER PERSPECTIVE]\"),\n",
              " Document(metadata={'source': 'data/podcast_blog.html', 'title': 'Tech & Science Podcast Blog', 'id': '607b53c6-1622-4c81-af72-b6f738e5969a'}, page_content=\"Understanding the psychological factors behind belief in conspiracy theories offers opportunities for constructive interventions. By enhancing critical thinking skills, building trust in institutions, and emphasizing emotional intelligence, we can help individuals navigate uncertainty without resorting to conspiratorial explanations.\\n\\n[CONCLUSION]\\n\\nAs we conclude our discussion, it's evident that understanding the psychological factors behind conspiracy theory belief is a multifaceted endeavor. By embracing the opportunities presented and navigating the risks thoughtfully, we can work towards a more informed, resilient, and united society.\"),\n",
              " Document(metadata={'source': 'data/podcast_blog.html', 'title': 'Tech & Science Podcast Blog', 'id': '9deabcd2-a0fc-4b06-98b6-144ad9528770'}, page_content=\"Urbanization and Biodiversity\\nTopic: Explain the impact of urbanization on biodiversity and ecosystems\\n\\n[INTRO]\\n\\nWelcome to our podcast where we delve into the impact of urbanization on biodiversity and ecosystems. Today, we'll explore the complexities surrounding this issue and discuss potential solutions for sustainable urban development.\\n\\n[SKEPTIC PERSPECTIVE]\\n\\nUrbanization has been shown to have detrimental effects on biodiversity and ecosystems. Fragmentation and isolation of habitats, introduction of invasive species, pollution, and climate change are among the key challenges highlighted.\\n\\n[BELIEVER PERSPECTIVE]\"),\n",
              " Document(metadata={'source': 'data/podcast_blog.html', 'title': 'Tech & Science Podcast Blog', 'id': '753c2dce-bd8a-41fc-93ed-16fd987ad356'}, page_content='By incorporating green spaces, promoting urban wildlife conservation, and engaging communities in conservation efforts, urban areas can become hubs for biodiversity. Sustainable development practices, coupled with policy support for nature conservation, can create a harmonious balance between urban development and biodiversity preservation.\\n\\n[CONCLUSION]\\n\\nIn conclusion, addressing the impact of urbanization on biodiversity requires a multifaceted approach that considers environmental, social, and economic factors. By integrating green practices, engaging communities, and advocating for nature-friendly policies, urban areas can become thriving ecosystems that benefit both humans and wildlife.'),\n",
              " Document(metadata={'source': 'data/podcast_blog.html', 'title': 'Tech & Science Podcast Blog', 'id': 'b6754cac-0dc6-42b0-8eaf-9e4973308aa2'}, page_content=\"Nutrition and Mental Health\\nTopic: How does nutrition affect mental health and cognitive function?\\n\\n[INTRO]\\n\\nWelcome to our podcast where we explore the intriguing connection between nutrition and mental health. Today, we dive into a debate surrounding the impact of diet on cognitive function and well-being.\\n\\n[SKEPTIC PERSPECTIVE]\\n\\nIt's crucial to acknowledge that while nutrient deficiencies can affect mental health and cognition, individual responses to diet vary significantly due to genetic factors and health conditions. This variability complicates the direct link between nutrition and brain function.\\n\\n[BELIEVER PERSPECTIVE]\"),\n",
              " Document(metadata={'source': 'data/podcast_blog.html', 'title': 'Tech & Science Podcast Blog', 'id': '56a13307-a0cd-4294-9adc-e38ab2e8efe6'}, page_content=\"Nutrient deficiencies can be addressed proactively through balanced diets and targeted supplementation, potentially alleviating symptoms of depression and cognitive decline. The gut-brain connection underscores the importance of a nutritious diet in maintaining mental clarity and emotional well-being.\\n\\n[CONCLUSION]\\n\\nAs we wrap up, it's clear that the relationship between nutrition and mental health is multifaceted. By acknowledging the challenges and opportunities, we can strive for a balanced approach that maximizes the benefits of a healthy diet while addressing the risks involved.\\n        \\n\\n\\nRenewable Energy Storage Solutions\\nTopic: What are the latest advances in renewable energy storage solutions?\\n\\n[INTRO]\"),\n",
              " Document(metadata={'source': 'data/podcast_blog.html', 'title': 'Tech & Science Podcast Blog', 'id': 'ae35b402-8ef2-4667-8781-ff4164a4de7a'}, page_content=\"[INTRO]\\n\\nWelcome to the Renewable Energy Revolution podcast, where we explore the latest advances in renewable energy storage solutions. Today, we dive into a debate between skeptics and believers on the opportunities and risks surrounding these innovations.\\n\\n[SKEPTIC PERSPECTIVE]\\n\\nWhile the advancements in renewable energy storage solutions show promise, it's essential to consider the challenges they pose. The cost, scalability, resource dependency, reliability, regulatory frameworks, cybersecurity concerns, and environmental impact are critical factors that need attention.\\n\\n[BELIEVER PERSPECTIVE]\"),\n",
              " Document(metadata={'source': 'data/podcast_blog.html', 'title': 'Tech & Science Podcast Blog', 'id': 'a4388bb6-4cb1-4196-98bc-9e78090421ae'}, page_content=\"The latest advances offer exciting opportunities to transform our energy landscape. Zinc-Air and Sodium-Ion batteries, AI-driven systems, cutting-edge innovations, and battery energy storage systems present efficient and sustainable solutions.\\n\\n[CONCLUSION]\\n\\nAs we wrap up, it's clear that renewable energy storage solutions hold immense potential in transforming our energy landscape. By addressing the challenges and leveraging the opportunities, we can create dynamic and sustainable energy systems for the future.\\n        \\n\\n\\nGut Bacteria and Human Health\\nTopic: Explain the role of gut bacteria in human health and disease\\n\\n[INTRO]\"),\n",
              " Document(metadata={'source': 'data/podcast_blog.html', 'title': 'Tech & Science Podcast Blog', 'id': '9a8ab8a7-5783-4021-a267-eecfa288c139'}, page_content='[INTRO]\\n\\nWelcome to \"Health Matters,\" where we delve into the fascinating world of human health and well-being. Today, we\\'re exploring the intricate relationship between gut bacteria and human health.\\n\\n[SKEPTIC PERSPECTIVE]\\n\\nThe diversity of gut microbiota among individuals poses a significant challenge in establishing universal guidelines or treatments. Additionally, determining causation versus correlation in studies linking gut bacteria to health conditions remains a complex task.\\n\\n[BELIEVER PERSPECTIVE]\\n\\nPersonalized health interventions based on gut microbiota analysis offer a tailored approach to improving health outcomes. By optimizing diets and developing targeted therapies, we can revolutionize disease management.\\n\\n[CONCLUSION]'),\n",
              " Document(metadata={'source': 'data/podcast_blog.html', 'title': 'Tech & Science Podcast Blog', 'id': '5ae41f53-894e-49c6-820d-e5b89559808a'}, page_content='[CONCLUSION]\\n\\nAs we wrap up, it\\'s clear that understanding the complexities and potentials of our gut microbiota is a crucial step towards a healthier tomorrow. Stay tuned for more insightful discussions on \"Health Matters.\"\\n        \\n\\n\\nAugmented Reality in Education\\nTopic: How is augmented reality changing education and professional training?\\n\\n[INTRO]\\n\\nWelcome to the TechEd Talk podcast, where we explore the intersection of technology and education. Today, we dive into the fascinating realm of augmented reality and its impact on education and professional training.\\n\\n[SKEPTIC PERSPECTIVE]'),\n",
              " Document(metadata={'source': 'data/podcast_blog.html', 'title': 'Tech & Science Podcast Blog', 'id': 'e4637449-a1e3-4952-bc9e-dbbdf26d9716'}, page_content=\"When discussing the integration of augmented reality (AR) in education and professional training, it's crucial to acknowledge the challenges that may arise. Cost and Access, Technical Issues, Training and Support for educators, Privacy and Ethical Concerns, and Content Quality and Pedagogical Integration are vital considerations.\\n\\n[BELIEVER PERSPECTIVE]\\n\\nAugmented reality offers a plethora of benefits in education and professional training. It provides Enhanced Learning Experiences through interactivity and immersion, Cost-Effective Training Solutions, Improved Accessibility and Inclusivity for all learners, and Collaborative Teaching Methods.\\n\\n[CONCLUSION]\"),\n",
              " Document(metadata={'source': 'data/podcast_blog.html', 'title': 'Tech & Science Podcast Blog', 'id': '4a1c5ce3-4614-4849-9ede-71c3927dd202'}, page_content=\"[CONCLUSION]\\n\\nAs we wrap up, it's clear that augmented reality holds immense potential in transforming education and professional training. By addressing the challenges and leveraging the opportunities, we can create dynamic and engaging learning environments for all stakeholders involved.\")]"
            ]
          },
          "execution_count": 17,
          "metadata": {},
          "output_type": "execute_result"
        }
      ],
      "source": [
        "training_documents"
      ]
    },
    {
      "cell_type": "code",
      "execution_count": 18,
      "metadata": {},
      "outputs": [
        {
          "data": {
            "text/plain": [
              "52"
            ]
          },
          "execution_count": 18,
          "metadata": {},
          "output_type": "execute_result"
        }
      ],
      "source": [
        "len(training_documents)"
      ]
    },
    {
      "cell_type": "code",
      "execution_count": 19,
      "metadata": {
        "id": "MTS4GTSEcnG4"
      },
      "outputs": [],
      "source": [
        "training_split_documents = training_documents[:len(training_documents) - 24]\n",
        "val_split_documents = training_documents[-24: -12]\n",
        "test_split_documents = training_documents[-12:]"
      ]
    },
    {
      "cell_type": "code",
      "execution_count": 20,
      "metadata": {},
      "outputs": [
        {
          "data": {
            "text/plain": [
              "28"
            ]
          },
          "execution_count": 20,
          "metadata": {},
          "output_type": "execute_result"
        }
      ],
      "source": [
        "len(training_split_documents)"
      ]
    },
    {
      "cell_type": "code",
      "execution_count": 21,
      "metadata": {},
      "outputs": [
        {
          "data": {
            "text/plain": [
              "12"
            ]
          },
          "execution_count": 21,
          "metadata": {},
          "output_type": "execute_result"
        }
      ],
      "source": [
        "len(val_split_documents)"
      ]
    },
    {
      "cell_type": "code",
      "execution_count": 22,
      "metadata": {},
      "outputs": [
        {
          "data": {
            "text/plain": [
              "12"
            ]
          },
          "execution_count": 22,
          "metadata": {},
          "output_type": "execute_result"
        }
      ],
      "source": [
        "len(test_split_documents)"
      ]
    },
    {
      "cell_type": "code",
      "execution_count": 23,
      "metadata": {
        "id": "_EWfmIscMrvg"
      },
      "outputs": [],
      "source": [
        "from langchain_openai import ChatOpenAI\n",
        "\n",
        "qa_chat_model = ChatOpenAI(\n",
        "    model=\"gpt-4o-mini\",\n",
        "    temperature=0\n",
        ")"
      ]
    },
    {
      "cell_type": "code",
      "execution_count": 24,
      "metadata": {
        "id": "diEWcw00NMSj"
      },
      "outputs": [],
      "source": [
        "from langchain_core.prompts import ChatPromptTemplate\n",
        "\n",
        "qa_prompt = \"\"\"\\\n",
        "Given the following context, you must generate questions based on only the provided context.\n",
        "\n",
        "You are to generate {n_questions} questions which should be provided in the following format:\n",
        "\n",
        "1. QUESTION #1\n",
        "2. QUESTION #2\n",
        "...\n",
        "\n",
        "Context:\n",
        "{context}\n",
        "\"\"\"\n",
        "\n",
        "qa_prompt_template = ChatPromptTemplate.from_template(qa_prompt)"
      ]
    },
    {
      "cell_type": "code",
      "execution_count": 25,
      "metadata": {},
      "outputs": [
        {
          "data": {
            "text/plain": [
              "ChatPromptTemplate(input_variables=['context', 'n_questions'], input_types={}, partial_variables={}, messages=[HumanMessagePromptTemplate(prompt=PromptTemplate(input_variables=['context', 'n_questions'], input_types={}, partial_variables={}, template='Given the following context, you must generate questions based on only the provided context.\\n\\nYou are to generate {n_questions} questions which should be provided in the following format:\\n\\n1. QUESTION #1\\n2. QUESTION #2\\n...\\n\\nContext:\\n{context}\\n'), additional_kwargs={})])"
            ]
          },
          "execution_count": 25,
          "metadata": {},
          "output_type": "execute_result"
        }
      ],
      "source": [
        "qa_prompt_template"
      ]
    },
    {
      "cell_type": "code",
      "execution_count": 26,
      "metadata": {
        "id": "ggl9SSjiNbpG"
      },
      "outputs": [],
      "source": [
        "question_generation_chain = qa_prompt_template | qa_chat_model"
      ]
    },
    {
      "cell_type": "code",
      "execution_count": 27,
      "metadata": {
        "id": "U4yi4NfTCnLc"
      },
      "outputs": [],
      "source": [
        "import uuid\n",
        "import re\n",
        "\n",
        "async def create_questions(documents, n_questions):\n",
        "    questions = {}\n",
        "    relevant_docs = {}\n",
        "\n",
        "    for document in documents:\n",
        "        # Generate questions using the chat model\n",
        "        question_response = await qa_prompt_template.ainvoke({\"context\": document.page_content, \"n_questions\": n_questions})\n",
        "        \n",
        "        # Debug: Print the type and structure of the response\n",
        "        print(f\"Type of response: {type(question_response)}\")\n",
        "        print(f\"Dir of response: {dir(question_response)}\")\n",
        "        print(f\"Response: {question_response}\")\n",
        "        \n",
        "        try:\n",
        "            # Try different ways to get the content\n",
        "            if hasattr(question_response, 'text'):\n",
        "                question_text = question_response.text\n",
        "            elif hasattr(question_response, 'message'):\n",
        "                question_text = question_response.message.content\n",
        "            else:\n",
        "                # If all else fails, try string conversion\n",
        "                question_text = str(question_response)\n",
        "            \n",
        "            # Parse the numbered questions from the response\n",
        "            parsed_questions = re.findall(r'\\d+\\.\\s+(.*?)(?=\\d+\\.|$)', question_text, re.DOTALL)\n",
        "            \n",
        "            # For each parsed question, create a unique ID and store the question\n",
        "            for question in parsed_questions:\n",
        "                question = question.strip()  # Clean up any extra whitespace\n",
        "                if question:  # Only process non-empty questions\n",
        "                    question_id = str(uuid.uuid4())\n",
        "                    questions[question_id] = question\n",
        "                    relevant_docs[question_id] = [document.metadata[\"id\"]]\n",
        "                    \n",
        "        except Exception as e:\n",
        "            print(f\"Error processing document: {e}\")\n",
        "            raise\n",
        "\n",
        "    return questions, relevant_docs"
      ]
    },
    {
      "cell_type": "code",
      "execution_count": 28,
      "metadata": {
        "colab": {
          "base_uri": "https://localhost:8080/"
        },
        "id": "85Dq6KRqEs0F",
        "outputId": "60dcd580-b6e8-4e3b-d605-05b492ca5c96"
      },
      "outputs": [
        {
          "name": "stdout",
          "output_type": "stream",
          "text": [
            "Type of response: <class 'langchain_core.prompt_values.ChatPromptValue'>\n",
            "Dir of response: ['__abstractmethods__', '__annotations__', '__class__', '__class_getitem__', '__class_vars__', '__copy__', '__deepcopy__', '__delattr__', '__dict__', '__dir__', '__doc__', '__eq__', '__fields__', '__fields_set__', '__firstlineno__', '__format__', '__ge__', '__get_pydantic_core_schema__', '__get_pydantic_json_schema__', '__getattr__', '__getattribute__', '__getstate__', '__gt__', '__hash__', '__init__', '__init_subclass__', '__iter__', '__le__', '__lt__', '__module__', '__ne__', '__new__', '__pretty__', '__private_attributes__', '__pydantic_complete__', '__pydantic_computed_fields__', '__pydantic_core_schema__', '__pydantic_custom_init__', '__pydantic_decorators__', '__pydantic_extra__', '__pydantic_fields__', '__pydantic_fields_set__', '__pydantic_generic_metadata__', '__pydantic_init_subclass__', '__pydantic_parent_namespace__', '__pydantic_post_init__', '__pydantic_private__', '__pydantic_root_model__', '__pydantic_serializer__', '__pydantic_validator__', '__reduce__', '__reduce_ex__', '__replace__', '__repr__', '__repr_args__', '__repr_name__', '__repr_recursion__', '__repr_str__', '__rich_repr__', '__setattr__', '__setstate__', '__signature__', '__sizeof__', '__slots__', '__static_attributes__', '__str__', '__subclasshook__', '__weakref__', '_abc_impl', '_calculate_keys', '_check_frozen', '_copy_and_set_values', '_get_value', '_iter', 'construct', 'copy', 'dict', 'from_orm', 'get_lc_namespace', 'is_lc_serializable', 'json', 'lc_attributes', 'lc_id', 'lc_secrets', 'messages', 'model_computed_fields', 'model_config', 'model_construct', 'model_copy', 'model_dump', 'model_dump_json', 'model_extra', 'model_fields', 'model_fields_set', 'model_json_schema', 'model_parametrized_name', 'model_post_init', 'model_rebuild', 'model_validate', 'model_validate_json', 'model_validate_strings', 'parse_file', 'parse_obj', 'parse_raw', 'schema', 'schema_json', 'to_json', 'to_json_not_implemented', 'to_messages', 'to_string', 'update_forward_refs', 'validate']\n",
            "Response: messages=[HumanMessage(content=\"Given the following context, you must generate questions based on only the provided context.\\n\\nYou are to generate 2 questions which should be provided in the following format:\\n\\n1. QUESTION #1\\n2. QUESTION #2\\n...\\n\\nContext:\\nTech & Science Podcast Blog\\n\\n\\n\\nTech & Science Podcast Transcripts\\n\\nAre Humans Dumb?\\nTopic: are humans dumb\\n\\n[INTRO]\\n\\nWelcome to our podcast where we delve into the intriguing question: Are humans dumb? Today, we will explore this topic from two contrasting perspectives - skepticism and belief. Let's navigate through the complexities of human cognition and behavior to uncover the opportunities, risks, key questions, and potential solutions surrounding this thought-provoking issue.\\n\\n[SKEPTIC PERSPECTIVE]\\n\", additional_kwargs={}, response_metadata={})]\n",
            "Type of response: <class 'langchain_core.prompt_values.ChatPromptValue'>\n",
            "Dir of response: ['__abstractmethods__', '__annotations__', '__class__', '__class_getitem__', '__class_vars__', '__copy__', '__deepcopy__', '__delattr__', '__dict__', '__dir__', '__doc__', '__eq__', '__fields__', '__fields_set__', '__firstlineno__', '__format__', '__ge__', '__get_pydantic_core_schema__', '__get_pydantic_json_schema__', '__getattr__', '__getattribute__', '__getstate__', '__gt__', '__hash__', '__init__', '__init_subclass__', '__iter__', '__le__', '__lt__', '__module__', '__ne__', '__new__', '__pretty__', '__private_attributes__', '__pydantic_complete__', '__pydantic_computed_fields__', '__pydantic_core_schema__', '__pydantic_custom_init__', '__pydantic_decorators__', '__pydantic_extra__', '__pydantic_fields__', '__pydantic_fields_set__', '__pydantic_generic_metadata__', '__pydantic_init_subclass__', '__pydantic_parent_namespace__', '__pydantic_post_init__', '__pydantic_private__', '__pydantic_root_model__', '__pydantic_serializer__', '__pydantic_validator__', '__reduce__', '__reduce_ex__', '__replace__', '__repr__', '__repr_args__', '__repr_name__', '__repr_recursion__', '__repr_str__', '__rich_repr__', '__setattr__', '__setstate__', '__signature__', '__sizeof__', '__slots__', '__static_attributes__', '__str__', '__subclasshook__', '__weakref__', '_abc_impl', '_calculate_keys', '_check_frozen', '_copy_and_set_values', '_get_value', '_iter', 'construct', 'copy', 'dict', 'from_orm', 'get_lc_namespace', 'is_lc_serializable', 'json', 'lc_attributes', 'lc_id', 'lc_secrets', 'messages', 'model_computed_fields', 'model_config', 'model_construct', 'model_copy', 'model_dump', 'model_dump_json', 'model_extra', 'model_fields', 'model_fields_set', 'model_json_schema', 'model_parametrized_name', 'model_post_init', 'model_rebuild', 'model_validate', 'model_validate_json', 'model_validate_strings', 'parse_file', 'parse_obj', 'parse_raw', 'schema', 'schema_json', 'to_json', 'to_json_not_implemented', 'to_messages', 'to_string', 'update_forward_refs', 'validate']\n",
            "Response: messages=[HumanMessage(content=\"Given the following context, you must generate questions based on only the provided context.\\n\\nYou are to generate 2 questions which should be provided in the following format:\\n\\n1. QUESTION #1\\n2. QUESTION #2\\n...\\n\\nContext:\\nLet's start with the skeptic's viewpoint. When examining the information related to human intelligence, it's essential to consider the evolutionary perspective. The study suggesting a decline in human cognition over time raises crucial questions about intelligence trends. However, we must critically assess the study's methodology and sample size to validate its findings. How can we ensure the accuracy of such studies and their implications for human cognition?\\n\\n[Transition to Subjectivity in Judging Intelligence]\\n\", additional_kwargs={}, response_metadata={})]\n",
            "Type of response: <class 'langchain_core.prompt_values.ChatPromptValue'>\n",
            "Dir of response: ['__abstractmethods__', '__annotations__', '__class__', '__class_getitem__', '__class_vars__', '__copy__', '__deepcopy__', '__delattr__', '__dict__', '__dir__', '__doc__', '__eq__', '__fields__', '__fields_set__', '__firstlineno__', '__format__', '__ge__', '__get_pydantic_core_schema__', '__get_pydantic_json_schema__', '__getattr__', '__getattribute__', '__getstate__', '__gt__', '__hash__', '__init__', '__init_subclass__', '__iter__', '__le__', '__lt__', '__module__', '__ne__', '__new__', '__pretty__', '__private_attributes__', '__pydantic_complete__', '__pydantic_computed_fields__', '__pydantic_core_schema__', '__pydantic_custom_init__', '__pydantic_decorators__', '__pydantic_extra__', '__pydantic_fields__', '__pydantic_fields_set__', '__pydantic_generic_metadata__', '__pydantic_init_subclass__', '__pydantic_parent_namespace__', '__pydantic_post_init__', '__pydantic_private__', '__pydantic_root_model__', '__pydantic_serializer__', '__pydantic_validator__', '__reduce__', '__reduce_ex__', '__replace__', '__repr__', '__repr_args__', '__repr_name__', '__repr_recursion__', '__repr_str__', '__rich_repr__', '__setattr__', '__setstate__', '__signature__', '__sizeof__', '__slots__', '__static_attributes__', '__str__', '__subclasshook__', '__weakref__', '_abc_impl', '_calculate_keys', '_check_frozen', '_copy_and_set_values', '_get_value', '_iter', 'construct', 'copy', 'dict', 'from_orm', 'get_lc_namespace', 'is_lc_serializable', 'json', 'lc_attributes', 'lc_id', 'lc_secrets', 'messages', 'model_computed_fields', 'model_config', 'model_construct', 'model_copy', 'model_dump', 'model_dump_json', 'model_extra', 'model_fields', 'model_fields_set', 'model_json_schema', 'model_parametrized_name', 'model_post_init', 'model_rebuild', 'model_validate', 'model_validate_json', 'model_validate_strings', 'parse_file', 'parse_obj', 'parse_raw', 'schema', 'schema_json', 'to_json', 'to_json_not_implemented', 'to_messages', 'to_string', 'update_forward_refs', 'validate']\n",
            "Response: messages=[HumanMessage(content=\"Given the following context, you must generate questions based on only the provided context.\\n\\nYou are to generate 2 questions which should be provided in the following format:\\n\\n1. QUESTION #1\\n2. QUESTION #2\\n...\\n\\nContext:\\nMoving on to the subjectivity in judging intelligence, the diverse perceptions of human intellect highlight the challenge of defining and measuring intelligence comprehensively. How can we develop a more inclusive and accurate understanding of intelligence that considers the full spectrum of human capabilities and limitations?\\n\\n[BELIEVER PERSPECTIVE]\\n\\nShifting to the believer's perspective, despite concerns about human cognition, there are opportunities for growth and improvement. The evolution of problem-solving abilities through technology and collaboration offers a pathway to enhance individual judgment. How can we leverage technological advancements and collaborative efforts to boost problem-solving skills in society?\\n\\n[CONCLUSION]\\n\", additional_kwargs={}, response_metadata={})]\n",
            "Type of response: <class 'langchain_core.prompt_values.ChatPromptValue'>\n",
            "Dir of response: ['__abstractmethods__', '__annotations__', '__class__', '__class_getitem__', '__class_vars__', '__copy__', '__deepcopy__', '__delattr__', '__dict__', '__dir__', '__doc__', '__eq__', '__fields__', '__fields_set__', '__firstlineno__', '__format__', '__ge__', '__get_pydantic_core_schema__', '__get_pydantic_json_schema__', '__getattr__', '__getattribute__', '__getstate__', '__gt__', '__hash__', '__init__', '__init_subclass__', '__iter__', '__le__', '__lt__', '__module__', '__ne__', '__new__', '__pretty__', '__private_attributes__', '__pydantic_complete__', '__pydantic_computed_fields__', '__pydantic_core_schema__', '__pydantic_custom_init__', '__pydantic_decorators__', '__pydantic_extra__', '__pydantic_fields__', '__pydantic_fields_set__', '__pydantic_generic_metadata__', '__pydantic_init_subclass__', '__pydantic_parent_namespace__', '__pydantic_post_init__', '__pydantic_private__', '__pydantic_root_model__', '__pydantic_serializer__', '__pydantic_validator__', '__reduce__', '__reduce_ex__', '__replace__', '__repr__', '__repr_args__', '__repr_name__', '__repr_recursion__', '__repr_str__', '__rich_repr__', '__setattr__', '__setstate__', '__signature__', '__sizeof__', '__slots__', '__static_attributes__', '__str__', '__subclasshook__', '__weakref__', '_abc_impl', '_calculate_keys', '_check_frozen', '_copy_and_set_values', '_get_value', '_iter', 'construct', 'copy', 'dict', 'from_orm', 'get_lc_namespace', 'is_lc_serializable', 'json', 'lc_attributes', 'lc_id', 'lc_secrets', 'messages', 'model_computed_fields', 'model_config', 'model_construct', 'model_copy', 'model_dump', 'model_dump_json', 'model_extra', 'model_fields', 'model_fields_set', 'model_json_schema', 'model_parametrized_name', 'model_post_init', 'model_rebuild', 'model_validate', 'model_validate_json', 'model_validate_strings', 'parse_file', 'parse_obj', 'parse_raw', 'schema', 'schema_json', 'to_json', 'to_json_not_implemented', 'to_messages', 'to_string', 'update_forward_refs', 'validate']\n",
            "Response: messages=[HumanMessage(content=\"Given the following context, you must generate questions based on only the provided context.\\n\\nYou are to generate 2 questions which should be provided in the following format:\\n\\n1. QUESTION #1\\n2. QUESTION #2\\n...\\n\\nContext:\\n[CONCLUSION]\\n\\nIn conclusion, the debate on human intelligence is multifaceted, encompassing evolutionary, social, ethical, and psychological dimensions. By exploring diverse perspectives and considering the opportunities and risks associated with human cognition, we can pave the way for growth and improvement.\\n\\n[TAKEAWAYS]\\n\\nAs we reflect on today's discussion, remember to approach discussions on intelligence with empathy and respect, embrace innovation while exercising prudence, and seek opportunities for personal and societal growth. By understanding the complexities of human cognition and behavior, we can strive towards a more inclusive and intellectually vibrant future.\\n\", additional_kwargs={}, response_metadata={})]\n",
            "Type of response: <class 'langchain_core.prompt_values.ChatPromptValue'>\n",
            "Dir of response: ['__abstractmethods__', '__annotations__', '__class__', '__class_getitem__', '__class_vars__', '__copy__', '__deepcopy__', '__delattr__', '__dict__', '__dir__', '__doc__', '__eq__', '__fields__', '__fields_set__', '__firstlineno__', '__format__', '__ge__', '__get_pydantic_core_schema__', '__get_pydantic_json_schema__', '__getattr__', '__getattribute__', '__getstate__', '__gt__', '__hash__', '__init__', '__init_subclass__', '__iter__', '__le__', '__lt__', '__module__', '__ne__', '__new__', '__pretty__', '__private_attributes__', '__pydantic_complete__', '__pydantic_computed_fields__', '__pydantic_core_schema__', '__pydantic_custom_init__', '__pydantic_decorators__', '__pydantic_extra__', '__pydantic_fields__', '__pydantic_fields_set__', '__pydantic_generic_metadata__', '__pydantic_init_subclass__', '__pydantic_parent_namespace__', '__pydantic_post_init__', '__pydantic_private__', '__pydantic_root_model__', '__pydantic_serializer__', '__pydantic_validator__', '__reduce__', '__reduce_ex__', '__replace__', '__repr__', '__repr_args__', '__repr_name__', '__repr_recursion__', '__repr_str__', '__rich_repr__', '__setattr__', '__setstate__', '__signature__', '__sizeof__', '__slots__', '__static_attributes__', '__str__', '__subclasshook__', '__weakref__', '_abc_impl', '_calculate_keys', '_check_frozen', '_copy_and_set_values', '_get_value', '_iter', 'construct', 'copy', 'dict', 'from_orm', 'get_lc_namespace', 'is_lc_serializable', 'json', 'lc_attributes', 'lc_id', 'lc_secrets', 'messages', 'model_computed_fields', 'model_config', 'model_construct', 'model_copy', 'model_dump', 'model_dump_json', 'model_extra', 'model_fields', 'model_fields_set', 'model_json_schema', 'model_parametrized_name', 'model_post_init', 'model_rebuild', 'model_validate', 'model_validate_json', 'model_validate_strings', 'parse_file', 'parse_obj', 'parse_raw', 'schema', 'schema_json', 'to_json', 'to_json_not_implemented', 'to_messages', 'to_string', 'update_forward_refs', 'validate']\n",
            "Response: messages=[HumanMessage(content=\"Given the following context, you must generate questions based on only the provided context.\\n\\nYou are to generate 2 questions which should be provided in the following format:\\n\\n1. QUESTION #1\\n2. QUESTION #2\\n...\\n\\nContext:\\nQuantum Computing and Cryptography\\nTopic: What are the latest developments in quantum computing and how will they impact cryptography?\\n\\nWelcome to the Quantum Computing and Cryptography podcast, where we delve into the latest developments shaping the future of data security. Today, we're exploring the impact of quantum computing on cryptography, weighing the opportunities and challenges it presents.\\n\\n[SKEPTIC PERSPECTIVE]\\n\", additional_kwargs={}, response_metadata={})]\n",
            "Type of response: <class 'langchain_core.prompt_values.ChatPromptValue'>\n",
            "Dir of response: ['__abstractmethods__', '__annotations__', '__class__', '__class_getitem__', '__class_vars__', '__copy__', '__deepcopy__', '__delattr__', '__dict__', '__dir__', '__doc__', '__eq__', '__fields__', '__fields_set__', '__firstlineno__', '__format__', '__ge__', '__get_pydantic_core_schema__', '__get_pydantic_json_schema__', '__getattr__', '__getattribute__', '__getstate__', '__gt__', '__hash__', '__init__', '__init_subclass__', '__iter__', '__le__', '__lt__', '__module__', '__ne__', '__new__', '__pretty__', '__private_attributes__', '__pydantic_complete__', '__pydantic_computed_fields__', '__pydantic_core_schema__', '__pydantic_custom_init__', '__pydantic_decorators__', '__pydantic_extra__', '__pydantic_fields__', '__pydantic_fields_set__', '__pydantic_generic_metadata__', '__pydantic_init_subclass__', '__pydantic_parent_namespace__', '__pydantic_post_init__', '__pydantic_private__', '__pydantic_root_model__', '__pydantic_serializer__', '__pydantic_validator__', '__reduce__', '__reduce_ex__', '__replace__', '__repr__', '__repr_args__', '__repr_name__', '__repr_recursion__', '__repr_str__', '__rich_repr__', '__setattr__', '__setstate__', '__signature__', '__sizeof__', '__slots__', '__static_attributes__', '__str__', '__subclasshook__', '__weakref__', '_abc_impl', '_calculate_keys', '_check_frozen', '_copy_and_set_values', '_get_value', '_iter', 'construct', 'copy', 'dict', 'from_orm', 'get_lc_namespace', 'is_lc_serializable', 'json', 'lc_attributes', 'lc_id', 'lc_secrets', 'messages', 'model_computed_fields', 'model_config', 'model_construct', 'model_copy', 'model_dump', 'model_dump_json', 'model_extra', 'model_fields', 'model_fields_set', 'model_json_schema', 'model_parametrized_name', 'model_post_init', 'model_rebuild', 'model_validate', 'model_validate_json', 'model_validate_strings', 'parse_file', 'parse_obj', 'parse_raw', 'schema', 'schema_json', 'to_json', 'to_json_not_implemented', 'to_messages', 'to_string', 'update_forward_refs', 'validate']\n",
            "Response: messages=[HumanMessage(content=\"Given the following context, you must generate questions based on only the provided context.\\n\\nYou are to generate 2 questions which should be provided in the following format:\\n\\n1. QUESTION #1\\n2. QUESTION #2\\n...\\n\\nContext:\\nQuantum computing's advancements offer exciting prospects for cryptography, but we must tread carefully amidst the challenges. One key aspect is the development of Post-Quantum Cryptography (PQC). While researchers are making strides in PQC algorithms, the transition to quantum-safe protocols poses significant hurdles. Implementing these new standards across systems without compromising security is a complex task.\\n\\n[BELIEVER PERSPECTIVE]\\n\", additional_kwargs={}, response_metadata={})]\n",
            "Type of response: <class 'langchain_core.prompt_values.ChatPromptValue'>\n",
            "Dir of response: ['__abstractmethods__', '__annotations__', '__class__', '__class_getitem__', '__class_vars__', '__copy__', '__deepcopy__', '__delattr__', '__dict__', '__dir__', '__doc__', '__eq__', '__fields__', '__fields_set__', '__firstlineno__', '__format__', '__ge__', '__get_pydantic_core_schema__', '__get_pydantic_json_schema__', '__getattr__', '__getattribute__', '__getstate__', '__gt__', '__hash__', '__init__', '__init_subclass__', '__iter__', '__le__', '__lt__', '__module__', '__ne__', '__new__', '__pretty__', '__private_attributes__', '__pydantic_complete__', '__pydantic_computed_fields__', '__pydantic_core_schema__', '__pydantic_custom_init__', '__pydantic_decorators__', '__pydantic_extra__', '__pydantic_fields__', '__pydantic_fields_set__', '__pydantic_generic_metadata__', '__pydantic_init_subclass__', '__pydantic_parent_namespace__', '__pydantic_post_init__', '__pydantic_private__', '__pydantic_root_model__', '__pydantic_serializer__', '__pydantic_validator__', '__reduce__', '__reduce_ex__', '__replace__', '__repr__', '__repr_args__', '__repr_name__', '__repr_recursion__', '__repr_str__', '__rich_repr__', '__setattr__', '__setstate__', '__signature__', '__sizeof__', '__slots__', '__static_attributes__', '__str__', '__subclasshook__', '__weakref__', '_abc_impl', '_calculate_keys', '_check_frozen', '_copy_and_set_values', '_get_value', '_iter', 'construct', 'copy', 'dict', 'from_orm', 'get_lc_namespace', 'is_lc_serializable', 'json', 'lc_attributes', 'lc_id', 'lc_secrets', 'messages', 'model_computed_fields', 'model_config', 'model_construct', 'model_copy', 'model_dump', 'model_dump_json', 'model_extra', 'model_fields', 'model_fields_set', 'model_json_schema', 'model_parametrized_name', 'model_post_init', 'model_rebuild', 'model_validate', 'model_validate_json', 'model_validate_strings', 'parse_file', 'parse_obj', 'parse_raw', 'schema', 'schema_json', 'to_json', 'to_json_not_implemented', 'to_messages', 'to_string', 'update_forward_refs', 'validate']\n",
            "Response: messages=[HumanMessage(content=\"Given the following context, you must generate questions based on only the provided context.\\n\\nYou are to generate 2 questions which should be provided in the following format:\\n\\n1. QUESTION #1\\n2. QUESTION #2\\n...\\n\\nContext:\\nThe latest quantum computing developments offer a blend of challenges and opportunities for cryptography. Advancements in Post-Quantum Cryptography and innovative solutions like Quantum Key Distribution present avenues to enhance encryption techniques and secure data effectively. By investing in R&D for quantum-safe protocols, organizations can adapt to the evolving cryptographic landscape.\\n\\n[CONCLUSION]\\n\\nAs we wrap up, it's clear that quantum computing's impact on cryptography is both promising and complex. Organizations must proactively engage with these challenges to build a secure and resilient cryptographic infrastructure for the future.\\n\\n[ACTIONABLE TAKEAWAYS]\\n\", additional_kwargs={}, response_metadata={})]\n",
            "Type of response: <class 'langchain_core.prompt_values.ChatPromptValue'>\n",
            "Dir of response: ['__abstractmethods__', '__annotations__', '__class__', '__class_getitem__', '__class_vars__', '__copy__', '__deepcopy__', '__delattr__', '__dict__', '__dir__', '__doc__', '__eq__', '__fields__', '__fields_set__', '__firstlineno__', '__format__', '__ge__', '__get_pydantic_core_schema__', '__get_pydantic_json_schema__', '__getattr__', '__getattribute__', '__getstate__', '__gt__', '__hash__', '__init__', '__init_subclass__', '__iter__', '__le__', '__lt__', '__module__', '__ne__', '__new__', '__pretty__', '__private_attributes__', '__pydantic_complete__', '__pydantic_computed_fields__', '__pydantic_core_schema__', '__pydantic_custom_init__', '__pydantic_decorators__', '__pydantic_extra__', '__pydantic_fields__', '__pydantic_fields_set__', '__pydantic_generic_metadata__', '__pydantic_init_subclass__', '__pydantic_parent_namespace__', '__pydantic_post_init__', '__pydantic_private__', '__pydantic_root_model__', '__pydantic_serializer__', '__pydantic_validator__', '__reduce__', '__reduce_ex__', '__replace__', '__repr__', '__repr_args__', '__repr_name__', '__repr_recursion__', '__repr_str__', '__rich_repr__', '__setattr__', '__setstate__', '__signature__', '__sizeof__', '__slots__', '__static_attributes__', '__str__', '__subclasshook__', '__weakref__', '_abc_impl', '_calculate_keys', '_check_frozen', '_copy_and_set_values', '_get_value', '_iter', 'construct', 'copy', 'dict', 'from_orm', 'get_lc_namespace', 'is_lc_serializable', 'json', 'lc_attributes', 'lc_id', 'lc_secrets', 'messages', 'model_computed_fields', 'model_config', 'model_construct', 'model_copy', 'model_dump', 'model_dump_json', 'model_extra', 'model_fields', 'model_fields_set', 'model_json_schema', 'model_parametrized_name', 'model_post_init', 'model_rebuild', 'model_validate', 'model_validate_json', 'model_validate_strings', 'parse_file', 'parse_obj', 'parse_raw', 'schema', 'schema_json', 'to_json', 'to_json_not_implemented', 'to_messages', 'to_string', 'update_forward_refs', 'validate']\n",
            "Response: messages=[HumanMessage(content='Given the following context, you must generate questions based on only the provided context.\\n\\nYou are to generate 2 questions which should be provided in the following format:\\n\\n1. QUESTION #1\\n2. QUESTION #2\\n...\\n\\nContext:\\n1. Stay updated on advancements in Post-Quantum Cryptography and Quantum Key Distribution.\\n2. Invest in research and development of quantum-resistant encryption techniques.\\n3. Collaborate with industry stakeholders to establish robust security standards.\\n4. Plan a phased transition towards quantum-safe protocols to ensure compatibility with current systems.\\n        \\n\\n\\nEnvironmental Impact of Fast Fashion\\nTopic: Explain the environmental impact of fast fashion and sustainable alternatives\\n\\n[INTRO]\\n', additional_kwargs={}, response_metadata={})]\n",
            "Type of response: <class 'langchain_core.prompt_values.ChatPromptValue'>\n",
            "Dir of response: ['__abstractmethods__', '__annotations__', '__class__', '__class_getitem__', '__class_vars__', '__copy__', '__deepcopy__', '__delattr__', '__dict__', '__dir__', '__doc__', '__eq__', '__fields__', '__fields_set__', '__firstlineno__', '__format__', '__ge__', '__get_pydantic_core_schema__', '__get_pydantic_json_schema__', '__getattr__', '__getattribute__', '__getstate__', '__gt__', '__hash__', '__init__', '__init_subclass__', '__iter__', '__le__', '__lt__', '__module__', '__ne__', '__new__', '__pretty__', '__private_attributes__', '__pydantic_complete__', '__pydantic_computed_fields__', '__pydantic_core_schema__', '__pydantic_custom_init__', '__pydantic_decorators__', '__pydantic_extra__', '__pydantic_fields__', '__pydantic_fields_set__', '__pydantic_generic_metadata__', '__pydantic_init_subclass__', '__pydantic_parent_namespace__', '__pydantic_post_init__', '__pydantic_private__', '__pydantic_root_model__', '__pydantic_serializer__', '__pydantic_validator__', '__reduce__', '__reduce_ex__', '__replace__', '__repr__', '__repr_args__', '__repr_name__', '__repr_recursion__', '__repr_str__', '__rich_repr__', '__setattr__', '__setstate__', '__signature__', '__sizeof__', '__slots__', '__static_attributes__', '__str__', '__subclasshook__', '__weakref__', '_abc_impl', '_calculate_keys', '_check_frozen', '_copy_and_set_values', '_get_value', '_iter', 'construct', 'copy', 'dict', 'from_orm', 'get_lc_namespace', 'is_lc_serializable', 'json', 'lc_attributes', 'lc_id', 'lc_secrets', 'messages', 'model_computed_fields', 'model_config', 'model_construct', 'model_copy', 'model_dump', 'model_dump_json', 'model_extra', 'model_fields', 'model_fields_set', 'model_json_schema', 'model_parametrized_name', 'model_post_init', 'model_rebuild', 'model_validate', 'model_validate_json', 'model_validate_strings', 'parse_file', 'parse_obj', 'parse_raw', 'schema', 'schema_json', 'to_json', 'to_json_not_implemented', 'to_messages', 'to_string', 'update_forward_refs', 'validate']\n",
            "Response: messages=[HumanMessage(content=\"Given the following context, you must generate questions based on only the provided context.\\n\\nYou are to generate 2 questions which should be provided in the following format:\\n\\n1. QUESTION #1\\n2. QUESTION #2\\n...\\n\\nContext:\\n[INTRO]\\n\\nWelcome to our podcast where we delve into the environmental impact of fast fashion and explore sustainable alternatives. Today, we'll navigate through the complexities of this issue by presenting a balanced debate between skeptics and believers of sustainable fashion.\\n\\n[SKEPTIC PERSPECTIVE]\\n\\nLet's start by examining the skeptic's viewpoint. Fast fashion undeniably poses a significant environmental threat, with its resource depletion, greenhouse gas emissions, and chemical pollution. While sustainable alternatives offer hope, they come with their own set of challenges.\\n\", additional_kwargs={}, response_metadata={})]\n",
            "Type of response: <class 'langchain_core.prompt_values.ChatPromptValue'>\n",
            "Dir of response: ['__abstractmethods__', '__annotations__', '__class__', '__class_getitem__', '__class_vars__', '__copy__', '__deepcopy__', '__delattr__', '__dict__', '__dir__', '__doc__', '__eq__', '__fields__', '__fields_set__', '__firstlineno__', '__format__', '__ge__', '__get_pydantic_core_schema__', '__get_pydantic_json_schema__', '__getattr__', '__getattribute__', '__getstate__', '__gt__', '__hash__', '__init__', '__init_subclass__', '__iter__', '__le__', '__lt__', '__module__', '__ne__', '__new__', '__pretty__', '__private_attributes__', '__pydantic_complete__', '__pydantic_computed_fields__', '__pydantic_core_schema__', '__pydantic_custom_init__', '__pydantic_decorators__', '__pydantic_extra__', '__pydantic_fields__', '__pydantic_fields_set__', '__pydantic_generic_metadata__', '__pydantic_init_subclass__', '__pydantic_parent_namespace__', '__pydantic_post_init__', '__pydantic_private__', '__pydantic_root_model__', '__pydantic_serializer__', '__pydantic_validator__', '__reduce__', '__reduce_ex__', '__replace__', '__repr__', '__repr_args__', '__repr_name__', '__repr_recursion__', '__repr_str__', '__rich_repr__', '__setattr__', '__setstate__', '__signature__', '__sizeof__', '__slots__', '__static_attributes__', '__str__', '__subclasshook__', '__weakref__', '_abc_impl', '_calculate_keys', '_check_frozen', '_copy_and_set_values', '_get_value', '_iter', 'construct', 'copy', 'dict', 'from_orm', 'get_lc_namespace', 'is_lc_serializable', 'json', 'lc_attributes', 'lc_id', 'lc_secrets', 'messages', 'model_computed_fields', 'model_config', 'model_construct', 'model_copy', 'model_dump', 'model_dump_json', 'model_extra', 'model_fields', 'model_fields_set', 'model_json_schema', 'model_parametrized_name', 'model_post_init', 'model_rebuild', 'model_validate', 'model_validate_json', 'model_validate_strings', 'parse_file', 'parse_obj', 'parse_raw', 'schema', 'schema_json', 'to_json', 'to_json_not_implemented', 'to_messages', 'to_string', 'update_forward_refs', 'validate']\n",
            "Response: messages=[HumanMessage(content='Given the following context, you must generate questions based on only the provided context.\\n\\nYou are to generate 2 questions which should be provided in the following format:\\n\\n1. QUESTION #1\\n2. QUESTION #2\\n...\\n\\nContext:\\nThe cost considerations associated with sustainable fashion can hinder accessibility for lower-income consumers, potentially widening disparities in the industry. Moreover, greenwashing practices by some fast fashion brands mislead consumers, making it hard to distinguish truly sustainable options.\\n\\n[POSITIVE ASPECTS]\\n\\nDespite these challenges, believers in sustainable fashion see a silver lining. Sustainable materials like organic cotton and hemp offer a path to reduce resource usage and carbon footprints. By embracing renewable energy sources and engaging consumers to prioritize quality over quantity, the industry can drive positive change.\\n\\n[CONCLUSION]\\n', additional_kwargs={}, response_metadata={})]\n",
            "Type of response: <class 'langchain_core.prompt_values.ChatPromptValue'>\n",
            "Dir of response: ['__abstractmethods__', '__annotations__', '__class__', '__class_getitem__', '__class_vars__', '__copy__', '__deepcopy__', '__delattr__', '__dict__', '__dir__', '__doc__', '__eq__', '__fields__', '__fields_set__', '__firstlineno__', '__format__', '__ge__', '__get_pydantic_core_schema__', '__get_pydantic_json_schema__', '__getattr__', '__getattribute__', '__getstate__', '__gt__', '__hash__', '__init__', '__init_subclass__', '__iter__', '__le__', '__lt__', '__module__', '__ne__', '__new__', '__pretty__', '__private_attributes__', '__pydantic_complete__', '__pydantic_computed_fields__', '__pydantic_core_schema__', '__pydantic_custom_init__', '__pydantic_decorators__', '__pydantic_extra__', '__pydantic_fields__', '__pydantic_fields_set__', '__pydantic_generic_metadata__', '__pydantic_init_subclass__', '__pydantic_parent_namespace__', '__pydantic_post_init__', '__pydantic_private__', '__pydantic_root_model__', '__pydantic_serializer__', '__pydantic_validator__', '__reduce__', '__reduce_ex__', '__replace__', '__repr__', '__repr_args__', '__repr_name__', '__repr_recursion__', '__repr_str__', '__rich_repr__', '__setattr__', '__setstate__', '__signature__', '__sizeof__', '__slots__', '__static_attributes__', '__str__', '__subclasshook__', '__weakref__', '_abc_impl', '_calculate_keys', '_check_frozen', '_copy_and_set_values', '_get_value', '_iter', 'construct', 'copy', 'dict', 'from_orm', 'get_lc_namespace', 'is_lc_serializable', 'json', 'lc_attributes', 'lc_id', 'lc_secrets', 'messages', 'model_computed_fields', 'model_config', 'model_construct', 'model_copy', 'model_dump', 'model_dump_json', 'model_extra', 'model_fields', 'model_fields_set', 'model_json_schema', 'model_parametrized_name', 'model_post_init', 'model_rebuild', 'model_validate', 'model_validate_json', 'model_validate_strings', 'parse_file', 'parse_obj', 'parse_raw', 'schema', 'schema_json', 'to_json', 'to_json_not_implemented', 'to_messages', 'to_string', 'update_forward_refs', 'validate']\n",
            "Response: messages=[HumanMessage(content=\"Given the following context, you must generate questions based on only the provided context.\\n\\nYou are to generate 2 questions which should be provided in the following format:\\n\\n1. QUESTION #1\\n2. QUESTION #2\\n...\\n\\nContext:\\n[CONCLUSION]\\n\\nAs we conclude, it's evident that the fashion industry stands at a crossroads. Embracing sustainable alternatives not only mitigates environmental harm but also fosters innovation and consumer trust. By working together and embracing change, we can pave the way for a more environmentally conscious fashion ecosystem.\\n\\n[TAKEAWAYS]\\n\\nRemember, your choices as a consumer matter. Support brands that prioritize sustainability, stay informed, and advocate for a greener fashion industry. Together, we can make a difference.\\n        \\n\\n\\nAI Impact on Job Markets\\nTopic: How does artificial intelligence impact job markets and what skills will be important in the future?\\n\", additional_kwargs={}, response_metadata={})]\n",
            "Type of response: <class 'langchain_core.prompt_values.ChatPromptValue'>\n",
            "Dir of response: ['__abstractmethods__', '__annotations__', '__class__', '__class_getitem__', '__class_vars__', '__copy__', '__deepcopy__', '__delattr__', '__dict__', '__dir__', '__doc__', '__eq__', '__fields__', '__fields_set__', '__firstlineno__', '__format__', '__ge__', '__get_pydantic_core_schema__', '__get_pydantic_json_schema__', '__getattr__', '__getattribute__', '__getstate__', '__gt__', '__hash__', '__init__', '__init_subclass__', '__iter__', '__le__', '__lt__', '__module__', '__ne__', '__new__', '__pretty__', '__private_attributes__', '__pydantic_complete__', '__pydantic_computed_fields__', '__pydantic_core_schema__', '__pydantic_custom_init__', '__pydantic_decorators__', '__pydantic_extra__', '__pydantic_fields__', '__pydantic_fields_set__', '__pydantic_generic_metadata__', '__pydantic_init_subclass__', '__pydantic_parent_namespace__', '__pydantic_post_init__', '__pydantic_private__', '__pydantic_root_model__', '__pydantic_serializer__', '__pydantic_validator__', '__reduce__', '__reduce_ex__', '__replace__', '__repr__', '__repr_args__', '__repr_name__', '__repr_recursion__', '__repr_str__', '__rich_repr__', '__setattr__', '__setstate__', '__signature__', '__sizeof__', '__slots__', '__static_attributes__', '__str__', '__subclasshook__', '__weakref__', '_abc_impl', '_calculate_keys', '_check_frozen', '_copy_and_set_values', '_get_value', '_iter', 'construct', 'copy', 'dict', 'from_orm', 'get_lc_namespace', 'is_lc_serializable', 'json', 'lc_attributes', 'lc_id', 'lc_secrets', 'messages', 'model_computed_fields', 'model_config', 'model_construct', 'model_copy', 'model_dump', 'model_dump_json', 'model_extra', 'model_fields', 'model_fields_set', 'model_json_schema', 'model_parametrized_name', 'model_post_init', 'model_rebuild', 'model_validate', 'model_validate_json', 'model_validate_strings', 'parse_file', 'parse_obj', 'parse_raw', 'schema', 'schema_json', 'to_json', 'to_json_not_implemented', 'to_messages', 'to_string', 'update_forward_refs', 'validate']\n",
            "Response: messages=[HumanMessage(content='Given the following context, you must generate questions based on only the provided context.\\n\\nYou are to generate 2 questions which should be provided in the following format:\\n\\n1. QUESTION #1\\n2. QUESTION #2\\n...\\n\\nContext:\\nWelcome to the AI Impact podcast, where we explore the intersection of artificial intelligence and job markets. Today, we delve into a crucial debate on how AI influences job opportunities and the essential skills needed for the future.\\n\\n[SKEPTIC PERSPECTIVE]\\n\\nJob displacement and skill mismatch are critical concerns. While AI creates new job opportunities, it also has the potential to automate and eliminate certain roles, leading to challenges for workers who need to transition into AI-related fields. How can we address these skill mismatches and ensure a smooth transition for displaced workers?\\n\\n[BELIEVER PERSPECTIVE]\\n', additional_kwargs={}, response_metadata={})]\n",
            "Type of response: <class 'langchain_core.prompt_values.ChatPromptValue'>\n",
            "Dir of response: ['__abstractmethods__', '__annotations__', '__class__', '__class_getitem__', '__class_vars__', '__copy__', '__deepcopy__', '__delattr__', '__dict__', '__dir__', '__doc__', '__eq__', '__fields__', '__fields_set__', '__firstlineno__', '__format__', '__ge__', '__get_pydantic_core_schema__', '__get_pydantic_json_schema__', '__getattr__', '__getattribute__', '__getstate__', '__gt__', '__hash__', '__init__', '__init_subclass__', '__iter__', '__le__', '__lt__', '__module__', '__ne__', '__new__', '__pretty__', '__private_attributes__', '__pydantic_complete__', '__pydantic_computed_fields__', '__pydantic_core_schema__', '__pydantic_custom_init__', '__pydantic_decorators__', '__pydantic_extra__', '__pydantic_fields__', '__pydantic_fields_set__', '__pydantic_generic_metadata__', '__pydantic_init_subclass__', '__pydantic_parent_namespace__', '__pydantic_post_init__', '__pydantic_private__', '__pydantic_root_model__', '__pydantic_serializer__', '__pydantic_validator__', '__reduce__', '__reduce_ex__', '__replace__', '__repr__', '__repr_args__', '__repr_name__', '__repr_recursion__', '__repr_str__', '__rich_repr__', '__setattr__', '__setstate__', '__signature__', '__sizeof__', '__slots__', '__static_attributes__', '__str__', '__subclasshook__', '__weakref__', '_abc_impl', '_calculate_keys', '_check_frozen', '_copy_and_set_values', '_get_value', '_iter', 'construct', 'copy', 'dict', 'from_orm', 'get_lc_namespace', 'is_lc_serializable', 'json', 'lc_attributes', 'lc_id', 'lc_secrets', 'messages', 'model_computed_fields', 'model_config', 'model_construct', 'model_copy', 'model_dump', 'model_dump_json', 'model_extra', 'model_fields', 'model_fields_set', 'model_json_schema', 'model_parametrized_name', 'model_post_init', 'model_rebuild', 'model_validate', 'model_validate_json', 'model_validate_strings', 'parse_file', 'parse_obj', 'parse_raw', 'schema', 'schema_json', 'to_json', 'to_json_not_implemented', 'to_messages', 'to_string', 'update_forward_refs', 'validate']\n",
            "Response: messages=[HumanMessage(content=\"Given the following context, you must generate questions based on only the provided context.\\n\\nYou are to generate 2 questions which should be provided in the following format:\\n\\n1. QUESTION #1\\n2. QUESTION #2\\n...\\n\\nContext:\\nTransforming job markets through AI automation can lead to more engaging and creative roles. The emergence of new job opportunities allows for specialization and innovation. How can individuals seize these opportunities for personal growth and career advancement?\\n\\n[CONCLUSION]\\n\\nAs we wrap up, it's clear that preparing for an AI-driven economy requires a proactive approach to skills development, education, and certification. By embracing the opportunities and addressing the risks, individuals can thrive in the evolving landscape of AI integration in job markets.\\n\\n[ACTIONABLE TAKEAWAYS]\\n\", additional_kwargs={}, response_metadata={})]\n",
            "Type of response: <class 'langchain_core.prompt_values.ChatPromptValue'>\n",
            "Dir of response: ['__abstractmethods__', '__annotations__', '__class__', '__class_getitem__', '__class_vars__', '__copy__', '__deepcopy__', '__delattr__', '__dict__', '__dir__', '__doc__', '__eq__', '__fields__', '__fields_set__', '__firstlineno__', '__format__', '__ge__', '__get_pydantic_core_schema__', '__get_pydantic_json_schema__', '__getattr__', '__getattribute__', '__getstate__', '__gt__', '__hash__', '__init__', '__init_subclass__', '__iter__', '__le__', '__lt__', '__module__', '__ne__', '__new__', '__pretty__', '__private_attributes__', '__pydantic_complete__', '__pydantic_computed_fields__', '__pydantic_core_schema__', '__pydantic_custom_init__', '__pydantic_decorators__', '__pydantic_extra__', '__pydantic_fields__', '__pydantic_fields_set__', '__pydantic_generic_metadata__', '__pydantic_init_subclass__', '__pydantic_parent_namespace__', '__pydantic_post_init__', '__pydantic_private__', '__pydantic_root_model__', '__pydantic_serializer__', '__pydantic_validator__', '__reduce__', '__reduce_ex__', '__replace__', '__repr__', '__repr_args__', '__repr_name__', '__repr_recursion__', '__repr_str__', '__rich_repr__', '__setattr__', '__setstate__', '__signature__', '__sizeof__', '__slots__', '__static_attributes__', '__str__', '__subclasshook__', '__weakref__', '_abc_impl', '_calculate_keys', '_check_frozen', '_copy_and_set_values', '_get_value', '_iter', 'construct', 'copy', 'dict', 'from_orm', 'get_lc_namespace', 'is_lc_serializable', 'json', 'lc_attributes', 'lc_id', 'lc_secrets', 'messages', 'model_computed_fields', 'model_config', 'model_construct', 'model_copy', 'model_dump', 'model_dump_json', 'model_extra', 'model_fields', 'model_fields_set', 'model_json_schema', 'model_parametrized_name', 'model_post_init', 'model_rebuild', 'model_validate', 'model_validate_json', 'model_validate_strings', 'parse_file', 'parse_obj', 'parse_raw', 'schema', 'schema_json', 'to_json', 'to_json_not_implemented', 'to_messages', 'to_string', 'update_forward_refs', 'validate']\n",
            "Response: messages=[HumanMessage(content=\"Given the following context, you must generate questions based on only the provided context.\\n\\nYou are to generate 2 questions which should be provided in the following format:\\n\\n1. QUESTION #1\\n2. QUESTION #2\\n...\\n\\nContext:\\n1. Evaluate your current skill set and identify areas for AI-related upskilling.\\n2. Stay informed about industry trends and advancements in AI technology.\\n3. Explore reputable AI education programs and certifications to enhance your expertise.\\n4. Advocate for inclusive access to AI education initiatives in your community or organization.\\n        \\n\\n\\nSocial Media and Mental Health\\nTopic: What are the psychological effects of social media on mental health?\\n\\n[INTRO]\\n\\nWelcome to our podcast where we delve into the intriguing topic of the psychological effects of social media on mental health. Today, we'll explore the various perspectives surrounding this issue and discuss the opportunities and challenges it presents.\\n\\n[DEBATE BEGINS]\\n\", additional_kwargs={}, response_metadata={})]\n",
            "Type of response: <class 'langchain_core.prompt_values.ChatPromptValue'>\n",
            "Dir of response: ['__abstractmethods__', '__annotations__', '__class__', '__class_getitem__', '__class_vars__', '__copy__', '__deepcopy__', '__delattr__', '__dict__', '__dir__', '__doc__', '__eq__', '__fields__', '__fields_set__', '__firstlineno__', '__format__', '__ge__', '__get_pydantic_core_schema__', '__get_pydantic_json_schema__', '__getattr__', '__getattribute__', '__getstate__', '__gt__', '__hash__', '__init__', '__init_subclass__', '__iter__', '__le__', '__lt__', '__module__', '__ne__', '__new__', '__pretty__', '__private_attributes__', '__pydantic_complete__', '__pydantic_computed_fields__', '__pydantic_core_schema__', '__pydantic_custom_init__', '__pydantic_decorators__', '__pydantic_extra__', '__pydantic_fields__', '__pydantic_fields_set__', '__pydantic_generic_metadata__', '__pydantic_init_subclass__', '__pydantic_parent_namespace__', '__pydantic_post_init__', '__pydantic_private__', '__pydantic_root_model__', '__pydantic_serializer__', '__pydantic_validator__', '__reduce__', '__reduce_ex__', '__replace__', '__repr__', '__repr_args__', '__repr_name__', '__repr_recursion__', '__repr_str__', '__rich_repr__', '__setattr__', '__setstate__', '__signature__', '__sizeof__', '__slots__', '__static_attributes__', '__str__', '__subclasshook__', '__weakref__', '_abc_impl', '_calculate_keys', '_check_frozen', '_copy_and_set_values', '_get_value', '_iter', 'construct', 'copy', 'dict', 'from_orm', 'get_lc_namespace', 'is_lc_serializable', 'json', 'lc_attributes', 'lc_id', 'lc_secrets', 'messages', 'model_computed_fields', 'model_config', 'model_construct', 'model_copy', 'model_dump', 'model_dump_json', 'model_extra', 'model_fields', 'model_fields_set', 'model_json_schema', 'model_parametrized_name', 'model_post_init', 'model_rebuild', 'model_validate', 'model_validate_json', 'model_validate_strings', 'parse_file', 'parse_obj', 'parse_raw', 'schema', 'schema_json', 'to_json', 'to_json_not_implemented', 'to_messages', 'to_string', 'update_forward_refs', 'validate']\n",
            "Response: messages=[HumanMessage(content='Given the following context, you must generate questions based on only the provided context.\\n\\nYou are to generate 2 questions which should be provided in the following format:\\n\\n1. QUESTION #1\\n2. QUESTION #2\\n...\\n\\nContext:\\n[DEBATE BEGINS]\\n\\nOur skeptic raises valid points about the complexities of studying the relationship between social media and mental health. The distinction between causation and correlation is crucial. While studies suggest a link between excessive social media use and mental health issues, establishing direct causality can be challenging due to confounding factors.\\n\\n[BELIEVER PERSPECTIVE]\\n', additional_kwargs={}, response_metadata={})]\n",
            "Type of response: <class 'langchain_core.prompt_values.ChatPromptValue'>\n",
            "Dir of response: ['__abstractmethods__', '__annotations__', '__class__', '__class_getitem__', '__class_vars__', '__copy__', '__deepcopy__', '__delattr__', '__dict__', '__dir__', '__doc__', '__eq__', '__fields__', '__fields_set__', '__firstlineno__', '__format__', '__ge__', '__get_pydantic_core_schema__', '__get_pydantic_json_schema__', '__getattr__', '__getattribute__', '__getstate__', '__gt__', '__hash__', '__init__', '__init_subclass__', '__iter__', '__le__', '__lt__', '__module__', '__ne__', '__new__', '__pretty__', '__private_attributes__', '__pydantic_complete__', '__pydantic_computed_fields__', '__pydantic_core_schema__', '__pydantic_custom_init__', '__pydantic_decorators__', '__pydantic_extra__', '__pydantic_fields__', '__pydantic_fields_set__', '__pydantic_generic_metadata__', '__pydantic_init_subclass__', '__pydantic_parent_namespace__', '__pydantic_post_init__', '__pydantic_private__', '__pydantic_root_model__', '__pydantic_serializer__', '__pydantic_validator__', '__reduce__', '__reduce_ex__', '__replace__', '__repr__', '__repr_args__', '__repr_name__', '__repr_recursion__', '__repr_str__', '__rich_repr__', '__setattr__', '__setstate__', '__signature__', '__sizeof__', '__slots__', '__static_attributes__', '__str__', '__subclasshook__', '__weakref__', '_abc_impl', '_calculate_keys', '_check_frozen', '_copy_and_set_values', '_get_value', '_iter', 'construct', 'copy', 'dict', 'from_orm', 'get_lc_namespace', 'is_lc_serializable', 'json', 'lc_attributes', 'lc_id', 'lc_secrets', 'messages', 'model_computed_fields', 'model_config', 'model_construct', 'model_copy', 'model_dump', 'model_dump_json', 'model_extra', 'model_fields', 'model_fields_set', 'model_json_schema', 'model_parametrized_name', 'model_post_init', 'model_rebuild', 'model_validate', 'model_validate_json', 'model_validate_strings', 'parse_file', 'parse_obj', 'parse_raw', 'schema', 'schema_json', 'to_json', 'to_json_not_implemented', 'to_messages', 'to_string', 'update_forward_refs', 'validate']\n",
            "Response: messages=[HumanMessage(content='Given the following context, you must generate questions based on only the provided context.\\n\\nYou are to generate 2 questions which should be provided in the following format:\\n\\n1. QUESTION #1\\n2. QUESTION #2\\n...\\n\\nContext:\\nOn the other hand, our believer highlights the positive aspects and opportunities for growth in this space. Increased awareness and education about healthy social media habits, the potential for community support, the availability of digital wellbeing tools, positive content creation, and the therapeutic benefits of online platforms all offer avenues for promoting mental health and wellbeing.\\n\\n[CONCLUSION]\\n', additional_kwargs={}, response_metadata={})]\n",
            "Type of response: <class 'langchain_core.prompt_values.ChatPromptValue'>\n",
            "Dir of response: ['__abstractmethods__', '__annotations__', '__class__', '__class_getitem__', '__class_vars__', '__copy__', '__deepcopy__', '__delattr__', '__dict__', '__dir__', '__doc__', '__eq__', '__fields__', '__fields_set__', '__firstlineno__', '__format__', '__ge__', '__get_pydantic_core_schema__', '__get_pydantic_json_schema__', '__getattr__', '__getattribute__', '__getstate__', '__gt__', '__hash__', '__init__', '__init_subclass__', '__iter__', '__le__', '__lt__', '__module__', '__ne__', '__new__', '__pretty__', '__private_attributes__', '__pydantic_complete__', '__pydantic_computed_fields__', '__pydantic_core_schema__', '__pydantic_custom_init__', '__pydantic_decorators__', '__pydantic_extra__', '__pydantic_fields__', '__pydantic_fields_set__', '__pydantic_generic_metadata__', '__pydantic_init_subclass__', '__pydantic_parent_namespace__', '__pydantic_post_init__', '__pydantic_private__', '__pydantic_root_model__', '__pydantic_serializer__', '__pydantic_validator__', '__reduce__', '__reduce_ex__', '__replace__', '__repr__', '__repr_args__', '__repr_name__', '__repr_recursion__', '__repr_str__', '__rich_repr__', '__setattr__', '__setstate__', '__signature__', '__sizeof__', '__slots__', '__static_attributes__', '__str__', '__subclasshook__', '__weakref__', '_abc_impl', '_calculate_keys', '_check_frozen', '_copy_and_set_values', '_get_value', '_iter', 'construct', 'copy', 'dict', 'from_orm', 'get_lc_namespace', 'is_lc_serializable', 'json', 'lc_attributes', 'lc_id', 'lc_secrets', 'messages', 'model_computed_fields', 'model_config', 'model_construct', 'model_copy', 'model_dump', 'model_dump_json', 'model_extra', 'model_fields', 'model_fields_set', 'model_json_schema', 'model_parametrized_name', 'model_post_init', 'model_rebuild', 'model_validate', 'model_validate_json', 'model_validate_strings', 'parse_file', 'parse_obj', 'parse_raw', 'schema', 'schema_json', 'to_json', 'to_json_not_implemented', 'to_messages', 'to_string', 'update_forward_refs', 'validate']\n",
            "Response: messages=[HumanMessage(content=\"Given the following context, you must generate questions based on only the provided context.\\n\\nYou are to generate 2 questions which should be provided in the following format:\\n\\n1. QUESTION #1\\n2. QUESTION #2\\n...\\n\\nContext:\\n[CONCLUSION]\\n\\nAs we wrap up, it's clear that navigating the psychological effects of social media on mental health requires a comprehensive approach. By collaborating with social media platforms, implementing educational campaigns, fostering supportive communities, advocating for mental health policies, and supporting mental health professionals, we can work towards a healthier online environment.\\n\\nRemember, striking a balance between the benefits and risks of social media use is essential. Let's continue the conversation and strive to make social media a positive force for mental health and wellbeing.\\n        \\n\\n\\nBlockchain Beyond Cryptocurrency\\nTopic: Explain the basics of blockchain technology and its applications beyond cryptocurrency\\n\", additional_kwargs={}, response_metadata={})]\n",
            "Type of response: <class 'langchain_core.prompt_values.ChatPromptValue'>\n",
            "Dir of response: ['__abstractmethods__', '__annotations__', '__class__', '__class_getitem__', '__class_vars__', '__copy__', '__deepcopy__', '__delattr__', '__dict__', '__dir__', '__doc__', '__eq__', '__fields__', '__fields_set__', '__firstlineno__', '__format__', '__ge__', '__get_pydantic_core_schema__', '__get_pydantic_json_schema__', '__getattr__', '__getattribute__', '__getstate__', '__gt__', '__hash__', '__init__', '__init_subclass__', '__iter__', '__le__', '__lt__', '__module__', '__ne__', '__new__', '__pretty__', '__private_attributes__', '__pydantic_complete__', '__pydantic_computed_fields__', '__pydantic_core_schema__', '__pydantic_custom_init__', '__pydantic_decorators__', '__pydantic_extra__', '__pydantic_fields__', '__pydantic_fields_set__', '__pydantic_generic_metadata__', '__pydantic_init_subclass__', '__pydantic_parent_namespace__', '__pydantic_post_init__', '__pydantic_private__', '__pydantic_root_model__', '__pydantic_serializer__', '__pydantic_validator__', '__reduce__', '__reduce_ex__', '__replace__', '__repr__', '__repr_args__', '__repr_name__', '__repr_recursion__', '__repr_str__', '__rich_repr__', '__setattr__', '__setstate__', '__signature__', '__sizeof__', '__slots__', '__static_attributes__', '__str__', '__subclasshook__', '__weakref__', '_abc_impl', '_calculate_keys', '_check_frozen', '_copy_and_set_values', '_get_value', '_iter', 'construct', 'copy', 'dict', 'from_orm', 'get_lc_namespace', 'is_lc_serializable', 'json', 'lc_attributes', 'lc_id', 'lc_secrets', 'messages', 'model_computed_fields', 'model_config', 'model_construct', 'model_copy', 'model_dump', 'model_dump_json', 'model_extra', 'model_fields', 'model_fields_set', 'model_json_schema', 'model_parametrized_name', 'model_post_init', 'model_rebuild', 'model_validate', 'model_validate_json', 'model_validate_strings', 'parse_file', 'parse_obj', 'parse_raw', 'schema', 'schema_json', 'to_json', 'to_json_not_implemented', 'to_messages', 'to_string', 'update_forward_refs', 'validate']\n",
            "Response: messages=[HumanMessage(content=\"Given the following context, you must generate questions based on only the provided context.\\n\\nYou are to generate 2 questions which should be provided in the following format:\\n\\n1. QUESTION #1\\n2. QUESTION #2\\n...\\n\\nContext:\\n[INTRO]\\n\\nWelcome to the Tech Innovators Podcast, where we explore the latest trends and technologies shaping our future. Today, we dive into the world of blockchain technology and its applications beyond cryptocurrency.\\n\\n[SKEPTIC PERSPECTIVE]\\n\\nWhen discussing blockchain technology beyond cryptocurrency, it's crucial to acknowledge the challenges that come with its widespread adoption. Scalability issues, energy consumption concerns, regulatory hurdles, interoperability challenges, security risks, and user adoption barriers pose significant obstacles. These limitations must be addressed to unlock the full potential of blockchain technology across industries.\\n\\n[BELIEVER PERSPECTIVE]\\n\", additional_kwargs={}, response_metadata={})]\n",
            "Type of response: <class 'langchain_core.prompt_values.ChatPromptValue'>\n",
            "Dir of response: ['__abstractmethods__', '__annotations__', '__class__', '__class_getitem__', '__class_vars__', '__copy__', '__deepcopy__', '__delattr__', '__dict__', '__dir__', '__doc__', '__eq__', '__fields__', '__fields_set__', '__firstlineno__', '__format__', '__ge__', '__get_pydantic_core_schema__', '__get_pydantic_json_schema__', '__getattr__', '__getattribute__', '__getstate__', '__gt__', '__hash__', '__init__', '__init_subclass__', '__iter__', '__le__', '__lt__', '__module__', '__ne__', '__new__', '__pretty__', '__private_attributes__', '__pydantic_complete__', '__pydantic_computed_fields__', '__pydantic_core_schema__', '__pydantic_custom_init__', '__pydantic_decorators__', '__pydantic_extra__', '__pydantic_fields__', '__pydantic_fields_set__', '__pydantic_generic_metadata__', '__pydantic_init_subclass__', '__pydantic_parent_namespace__', '__pydantic_post_init__', '__pydantic_private__', '__pydantic_root_model__', '__pydantic_serializer__', '__pydantic_validator__', '__reduce__', '__reduce_ex__', '__replace__', '__repr__', '__repr_args__', '__repr_name__', '__repr_recursion__', '__repr_str__', '__rich_repr__', '__setattr__', '__setstate__', '__signature__', '__sizeof__', '__slots__', '__static_attributes__', '__str__', '__subclasshook__', '__weakref__', '_abc_impl', '_calculate_keys', '_check_frozen', '_copy_and_set_values', '_get_value', '_iter', 'construct', 'copy', 'dict', 'from_orm', 'get_lc_namespace', 'is_lc_serializable', 'json', 'lc_attributes', 'lc_id', 'lc_secrets', 'messages', 'model_computed_fields', 'model_config', 'model_construct', 'model_copy', 'model_dump', 'model_dump_json', 'model_extra', 'model_fields', 'model_fields_set', 'model_json_schema', 'model_parametrized_name', 'model_post_init', 'model_rebuild', 'model_validate', 'model_validate_json', 'model_validate_strings', 'parse_file', 'parse_obj', 'parse_raw', 'schema', 'schema_json', 'to_json', 'to_json_not_implemented', 'to_messages', 'to_string', 'update_forward_refs', 'validate']\n",
            "Response: messages=[HumanMessage(content='Given the following context, you must generate questions based on only the provided context.\\n\\nYou are to generate 2 questions which should be provided in the following format:\\n\\n1. QUESTION #1\\n2. QUESTION #2\\n...\\n\\nContext:\\nOn the flip side, blockchain technology offers a myriad of opportunities in cybersecurity, data storage, smart contracts, supply chain management, healthcare, and finance. Its decentralized and secure nature enhances data security, transparency, and efficiency in various sectors. By leveraging these applications, industries can revolutionize their operations and drive progress and trust.\\n\\n[CONCLUSION]\\n', additional_kwargs={}, response_metadata={})]\n",
            "Type of response: <class 'langchain_core.prompt_values.ChatPromptValue'>\n",
            "Dir of response: ['__abstractmethods__', '__annotations__', '__class__', '__class_getitem__', '__class_vars__', '__copy__', '__deepcopy__', '__delattr__', '__dict__', '__dir__', '__doc__', '__eq__', '__fields__', '__fields_set__', '__firstlineno__', '__format__', '__ge__', '__get_pydantic_core_schema__', '__get_pydantic_json_schema__', '__getattr__', '__getattribute__', '__getstate__', '__gt__', '__hash__', '__init__', '__init_subclass__', '__iter__', '__le__', '__lt__', '__module__', '__ne__', '__new__', '__pretty__', '__private_attributes__', '__pydantic_complete__', '__pydantic_computed_fields__', '__pydantic_core_schema__', '__pydantic_custom_init__', '__pydantic_decorators__', '__pydantic_extra__', '__pydantic_fields__', '__pydantic_fields_set__', '__pydantic_generic_metadata__', '__pydantic_init_subclass__', '__pydantic_parent_namespace__', '__pydantic_post_init__', '__pydantic_private__', '__pydantic_root_model__', '__pydantic_serializer__', '__pydantic_validator__', '__reduce__', '__reduce_ex__', '__replace__', '__repr__', '__repr_args__', '__repr_name__', '__repr_recursion__', '__repr_str__', '__rich_repr__', '__setattr__', '__setstate__', '__signature__', '__sizeof__', '__slots__', '__static_attributes__', '__str__', '__subclasshook__', '__weakref__', '_abc_impl', '_calculate_keys', '_check_frozen', '_copy_and_set_values', '_get_value', '_iter', 'construct', 'copy', 'dict', 'from_orm', 'get_lc_namespace', 'is_lc_serializable', 'json', 'lc_attributes', 'lc_id', 'lc_secrets', 'messages', 'model_computed_fields', 'model_config', 'model_construct', 'model_copy', 'model_dump', 'model_dump_json', 'model_extra', 'model_fields', 'model_fields_set', 'model_json_schema', 'model_parametrized_name', 'model_post_init', 'model_rebuild', 'model_validate', 'model_validate_json', 'model_validate_strings', 'parse_file', 'parse_obj', 'parse_raw', 'schema', 'schema_json', 'to_json', 'to_json_not_implemented', 'to_messages', 'to_string', 'update_forward_refs', 'validate']\n",
            "Response: messages=[HumanMessage(content=\"Given the following context, you must generate questions based on only the provided context.\\n\\nYou are to generate 2 questions which should be provided in the following format:\\n\\n1. QUESTION #1\\n2. QUESTION #2\\n...\\n\\nContext:\\n[CONCLUSION]\\n\\nAs we wrap up today's discussion, it's clear that blockchain technology holds immense promise beyond cryptocurrencies. By addressing scalability, regulatory, and security challenges, while leveraging its diverse applications, industries can unlock the full potential of blockchain technology. Remember, collaboration, research, education, and innovation are key to harnessing the power of blockchain for a more secure and efficient future.\\n        \\n\\n\\nRenewable Energy Breakthroughs\\nTopic: What are the latest breakthroughs in renewable energy technology?\\n\\n[INTRO]\\n\", additional_kwargs={}, response_metadata={})]\n",
            "Type of response: <class 'langchain_core.prompt_values.ChatPromptValue'>\n",
            "Dir of response: ['__abstractmethods__', '__annotations__', '__class__', '__class_getitem__', '__class_vars__', '__copy__', '__deepcopy__', '__delattr__', '__dict__', '__dir__', '__doc__', '__eq__', '__fields__', '__fields_set__', '__firstlineno__', '__format__', '__ge__', '__get_pydantic_core_schema__', '__get_pydantic_json_schema__', '__getattr__', '__getattribute__', '__getstate__', '__gt__', '__hash__', '__init__', '__init_subclass__', '__iter__', '__le__', '__lt__', '__module__', '__ne__', '__new__', '__pretty__', '__private_attributes__', '__pydantic_complete__', '__pydantic_computed_fields__', '__pydantic_core_schema__', '__pydantic_custom_init__', '__pydantic_decorators__', '__pydantic_extra__', '__pydantic_fields__', '__pydantic_fields_set__', '__pydantic_generic_metadata__', '__pydantic_init_subclass__', '__pydantic_parent_namespace__', '__pydantic_post_init__', '__pydantic_private__', '__pydantic_root_model__', '__pydantic_serializer__', '__pydantic_validator__', '__reduce__', '__reduce_ex__', '__replace__', '__repr__', '__repr_args__', '__repr_name__', '__repr_recursion__', '__repr_str__', '__rich_repr__', '__setattr__', '__setstate__', '__signature__', '__sizeof__', '__slots__', '__static_attributes__', '__str__', '__subclasshook__', '__weakref__', '_abc_impl', '_calculate_keys', '_check_frozen', '_copy_and_set_values', '_get_value', '_iter', 'construct', 'copy', 'dict', 'from_orm', 'get_lc_namespace', 'is_lc_serializable', 'json', 'lc_attributes', 'lc_id', 'lc_secrets', 'messages', 'model_computed_fields', 'model_config', 'model_construct', 'model_copy', 'model_dump', 'model_dump_json', 'model_extra', 'model_fields', 'model_fields_set', 'model_json_schema', 'model_parametrized_name', 'model_post_init', 'model_rebuild', 'model_validate', 'model_validate_json', 'model_validate_strings', 'parse_file', 'parse_obj', 'parse_raw', 'schema', 'schema_json', 'to_json', 'to_json_not_implemented', 'to_messages', 'to_string', 'update_forward_refs', 'validate']\n",
            "Response: messages=[HumanMessage(content=\"Given the following context, you must generate questions based on only the provided context.\\n\\nYou are to generate 2 questions which should be provided in the following format:\\n\\n1. QUESTION #1\\n2. QUESTION #2\\n...\\n\\nContext:\\n[INTRO]\\n\\nWelcome to the Renewable Energy Revolution podcast, where we explore the latest breakthroughs in renewable energy technology. Today, we dive into a debate between skeptics and believers about the opportunities and risks associated with these innovations.\\n\\n[SKEPTIC PERSPECTIVE]\\n\\nThe latest breakthroughs in renewable energy technology hold promise for a sustainable future, but it's crucial to dissect the challenges they bring. Green hydrogen production, for instance, faces hurdles due to high costs and infrastructure demands. Scaling up efficiently is key to its success.\\n\\n[BELIEVER PERSPECTIVE]\\n\", additional_kwargs={}, response_metadata={})]\n",
            "Type of response: <class 'langchain_core.prompt_values.ChatPromptValue'>\n",
            "Dir of response: ['__abstractmethods__', '__annotations__', '__class__', '__class_getitem__', '__class_vars__', '__copy__', '__deepcopy__', '__delattr__', '__dict__', '__dir__', '__doc__', '__eq__', '__fields__', '__fields_set__', '__firstlineno__', '__format__', '__ge__', '__get_pydantic_core_schema__', '__get_pydantic_json_schema__', '__getattr__', '__getattribute__', '__getstate__', '__gt__', '__hash__', '__init__', '__init_subclass__', '__iter__', '__le__', '__lt__', '__module__', '__ne__', '__new__', '__pretty__', '__private_attributes__', '__pydantic_complete__', '__pydantic_computed_fields__', '__pydantic_core_schema__', '__pydantic_custom_init__', '__pydantic_decorators__', '__pydantic_extra__', '__pydantic_fields__', '__pydantic_fields_set__', '__pydantic_generic_metadata__', '__pydantic_init_subclass__', '__pydantic_parent_namespace__', '__pydantic_post_init__', '__pydantic_private__', '__pydantic_root_model__', '__pydantic_serializer__', '__pydantic_validator__', '__reduce__', '__reduce_ex__', '__replace__', '__repr__', '__repr_args__', '__repr_name__', '__repr_recursion__', '__repr_str__', '__rich_repr__', '__setattr__', '__setstate__', '__signature__', '__sizeof__', '__slots__', '__static_attributes__', '__str__', '__subclasshook__', '__weakref__', '_abc_impl', '_calculate_keys', '_check_frozen', '_copy_and_set_values', '_get_value', '_iter', 'construct', 'copy', 'dict', 'from_orm', 'get_lc_namespace', 'is_lc_serializable', 'json', 'lc_attributes', 'lc_id', 'lc_secrets', 'messages', 'model_computed_fields', 'model_config', 'model_construct', 'model_copy', 'model_dump', 'model_dump_json', 'model_extra', 'model_fields', 'model_fields_set', 'model_json_schema', 'model_parametrized_name', 'model_post_init', 'model_rebuild', 'model_validate', 'model_validate_json', 'model_validate_strings', 'parse_file', 'parse_obj', 'parse_raw', 'schema', 'schema_json', 'to_json', 'to_json_not_implemented', 'to_messages', 'to_string', 'update_forward_refs', 'validate']\n",
            "Response: messages=[HumanMessage(content=\"Given the following context, you must generate questions based on only the provided context.\\n\\nYou are to generate 2 questions which should be provided in the following format:\\n\\n1. QUESTION #1\\n2. QUESTION #2\\n...\\n\\nContext:\\nGreen hydrogen production offers a revolutionary way to store excess renewable energy and decarbonize various sectors. By leveraging renewable sources, we can address energy intermittency issues and foster a cleaner energy ecosystem.\\n\\n[CONCLUSION]\\n\\nAs we navigate the complexities of integrating the latest renewable energy technologies, it's essential to address key questions and find solutions for a sustainable and resilient energy future. By collaborating, investing in research, and advocating for supportive policies, we can accelerate the transition to a greener and brighter future.\\n        \\n\\n\\nSpace Exploration Benefits\\nTopic: How does space exploration benefit everyday life on Earth?\\n\\n[INTRO]\\n\", additional_kwargs={}, response_metadata={})]\n",
            "Type of response: <class 'langchain_core.prompt_values.ChatPromptValue'>\n",
            "Dir of response: ['__abstractmethods__', '__annotations__', '__class__', '__class_getitem__', '__class_vars__', '__copy__', '__deepcopy__', '__delattr__', '__dict__', '__dir__', '__doc__', '__eq__', '__fields__', '__fields_set__', '__firstlineno__', '__format__', '__ge__', '__get_pydantic_core_schema__', '__get_pydantic_json_schema__', '__getattr__', '__getattribute__', '__getstate__', '__gt__', '__hash__', '__init__', '__init_subclass__', '__iter__', '__le__', '__lt__', '__module__', '__ne__', '__new__', '__pretty__', '__private_attributes__', '__pydantic_complete__', '__pydantic_computed_fields__', '__pydantic_core_schema__', '__pydantic_custom_init__', '__pydantic_decorators__', '__pydantic_extra__', '__pydantic_fields__', '__pydantic_fields_set__', '__pydantic_generic_metadata__', '__pydantic_init_subclass__', '__pydantic_parent_namespace__', '__pydantic_post_init__', '__pydantic_private__', '__pydantic_root_model__', '__pydantic_serializer__', '__pydantic_validator__', '__reduce__', '__reduce_ex__', '__replace__', '__repr__', '__repr_args__', '__repr_name__', '__repr_recursion__', '__repr_str__', '__rich_repr__', '__setattr__', '__setstate__', '__signature__', '__sizeof__', '__slots__', '__static_attributes__', '__str__', '__subclasshook__', '__weakref__', '_abc_impl', '_calculate_keys', '_check_frozen', '_copy_and_set_values', '_get_value', '_iter', 'construct', 'copy', 'dict', 'from_orm', 'get_lc_namespace', 'is_lc_serializable', 'json', 'lc_attributes', 'lc_id', 'lc_secrets', 'messages', 'model_computed_fields', 'model_config', 'model_construct', 'model_copy', 'model_dump', 'model_dump_json', 'model_extra', 'model_fields', 'model_fields_set', 'model_json_schema', 'model_parametrized_name', 'model_post_init', 'model_rebuild', 'model_validate', 'model_validate_json', 'model_validate_strings', 'parse_file', 'parse_obj', 'parse_raw', 'schema', 'schema_json', 'to_json', 'to_json_not_implemented', 'to_messages', 'to_string', 'update_forward_refs', 'validate']\n",
            "Response: messages=[HumanMessage(content=\"Given the following context, you must generate questions based on only the provided context.\\n\\nYou are to generate 2 questions which should be provided in the following format:\\n\\n1. QUESTION #1\\n2. QUESTION #2\\n...\\n\\nContext:\\n[INTRO]\\n\\nWelcome to the Space Explorers Podcast, where we unravel the mysteries of the cosmos and explore how they impact our lives here on Earth. Today, we're diving into a thought-provoking debate on the benefits and challenges of space exploration for everyday life.\\n\\n[SKEPTIC PERSPECTIVE]\\n\\nSpace exploration undeniably brings advancements, but we must consider the cost and resource allocation involved. Funds diverted to space programs could address pressing issues like poverty and healthcare. The environmental impact and equity concerns also raise red flags.\\n\\n[BELIEVER PERSPECTIVE]\\n\", additional_kwargs={}, response_metadata={})]\n",
            "Type of response: <class 'langchain_core.prompt_values.ChatPromptValue'>\n",
            "Dir of response: ['__abstractmethods__', '__annotations__', '__class__', '__class_getitem__', '__class_vars__', '__copy__', '__deepcopy__', '__delattr__', '__dict__', '__dir__', '__doc__', '__eq__', '__fields__', '__fields_set__', '__firstlineno__', '__format__', '__ge__', '__get_pydantic_core_schema__', '__get_pydantic_json_schema__', '__getattr__', '__getattribute__', '__getstate__', '__gt__', '__hash__', '__init__', '__init_subclass__', '__iter__', '__le__', '__lt__', '__module__', '__ne__', '__new__', '__pretty__', '__private_attributes__', '__pydantic_complete__', '__pydantic_computed_fields__', '__pydantic_core_schema__', '__pydantic_custom_init__', '__pydantic_decorators__', '__pydantic_extra__', '__pydantic_fields__', '__pydantic_fields_set__', '__pydantic_generic_metadata__', '__pydantic_init_subclass__', '__pydantic_parent_namespace__', '__pydantic_post_init__', '__pydantic_private__', '__pydantic_root_model__', '__pydantic_serializer__', '__pydantic_validator__', '__reduce__', '__reduce_ex__', '__replace__', '__repr__', '__repr_args__', '__repr_name__', '__repr_recursion__', '__repr_str__', '__rich_repr__', '__setattr__', '__setstate__', '__signature__', '__sizeof__', '__slots__', '__static_attributes__', '__str__', '__subclasshook__', '__weakref__', '_abc_impl', '_calculate_keys', '_check_frozen', '_copy_and_set_values', '_get_value', '_iter', 'construct', 'copy', 'dict', 'from_orm', 'get_lc_namespace', 'is_lc_serializable', 'json', 'lc_attributes', 'lc_id', 'lc_secrets', 'messages', 'model_computed_fields', 'model_config', 'model_construct', 'model_copy', 'model_dump', 'model_dump_json', 'model_extra', 'model_fields', 'model_fields_set', 'model_json_schema', 'model_parametrized_name', 'model_post_init', 'model_rebuild', 'model_validate', 'model_validate_json', 'model_validate_strings', 'parse_file', 'parse_obj', 'parse_raw', 'schema', 'schema_json', 'to_json', 'to_json_not_implemented', 'to_messages', 'to_string', 'update_forward_refs', 'validate']\n",
            "Response: messages=[HumanMessage(content=\"Given the following context, you must generate questions based on only the provided context.\\n\\nYou are to generate 2 questions which should be provided in the following format:\\n\\n1. QUESTION #1\\n2. QUESTION #2\\n...\\n\\nContext:\\nWhile the skeptic raises valid points, let's not overlook the positive impacts of space exploration. Health innovations, technological advancements, and job creation are just the tip of the iceberg. Space missions inspire curiosity, drive education, and pave the way for future colonization.\\n\\n[CONCLUSION]\\n\\nAs we conclude this enlightening discussion, remember that the cosmos hold both promise and peril. By navigating the complexities of space exploration with wisdom and foresight, we can unlock a universe of possibilities while safeguarding our planet and its inhabitants.\\n        \\n\\n\\nMedical Research Advances in Cancer Treatment\\nTopic: What are the most promising advances in medical research for treating cancer?\\n\\n[INTRO]\\n\", additional_kwargs={}, response_metadata={})]\n",
            "Type of response: <class 'langchain_core.prompt_values.ChatPromptValue'>\n",
            "Dir of response: ['__abstractmethods__', '__annotations__', '__class__', '__class_getitem__', '__class_vars__', '__copy__', '__deepcopy__', '__delattr__', '__dict__', '__dir__', '__doc__', '__eq__', '__fields__', '__fields_set__', '__firstlineno__', '__format__', '__ge__', '__get_pydantic_core_schema__', '__get_pydantic_json_schema__', '__getattr__', '__getattribute__', '__getstate__', '__gt__', '__hash__', '__init__', '__init_subclass__', '__iter__', '__le__', '__lt__', '__module__', '__ne__', '__new__', '__pretty__', '__private_attributes__', '__pydantic_complete__', '__pydantic_computed_fields__', '__pydantic_core_schema__', '__pydantic_custom_init__', '__pydantic_decorators__', '__pydantic_extra__', '__pydantic_fields__', '__pydantic_fields_set__', '__pydantic_generic_metadata__', '__pydantic_init_subclass__', '__pydantic_parent_namespace__', '__pydantic_post_init__', '__pydantic_private__', '__pydantic_root_model__', '__pydantic_serializer__', '__pydantic_validator__', '__reduce__', '__reduce_ex__', '__replace__', '__repr__', '__repr_args__', '__repr_name__', '__repr_recursion__', '__repr_str__', '__rich_repr__', '__setattr__', '__setstate__', '__signature__', '__sizeof__', '__slots__', '__static_attributes__', '__str__', '__subclasshook__', '__weakref__', '_abc_impl', '_calculate_keys', '_check_frozen', '_copy_and_set_values', '_get_value', '_iter', 'construct', 'copy', 'dict', 'from_orm', 'get_lc_namespace', 'is_lc_serializable', 'json', 'lc_attributes', 'lc_id', 'lc_secrets', 'messages', 'model_computed_fields', 'model_config', 'model_construct', 'model_copy', 'model_dump', 'model_dump_json', 'model_extra', 'model_fields', 'model_fields_set', 'model_json_schema', 'model_parametrized_name', 'model_post_init', 'model_rebuild', 'model_validate', 'model_validate_json', 'model_validate_strings', 'parse_file', 'parse_obj', 'parse_raw', 'schema', 'schema_json', 'to_json', 'to_json_not_implemented', 'to_messages', 'to_string', 'update_forward_refs', 'validate']\n",
            "Response: messages=[HumanMessage(content=\"Given the following context, you must generate questions based on only the provided context.\\n\\nYou are to generate 2 questions which should be provided in the following format:\\n\\n1. QUESTION #1\\n2. QUESTION #2\\n...\\n\\nContext:\\n[INTRO]\\n\\nWelcome to the Health Innovations podcast, where we explore the latest advances in medical research. Today, we dive into the topic of the most promising breakthroughs in cancer treatment. We'll hear from two perspectives - one skeptical and one optimistic - to provide a balanced view on the opportunities and challenges in this field.\\n\\n[SKEPTIC PERSPECTIVE]\\n\\nWhile the advancements in medical research for cancer treatment are promising, we must acknowledge the hurdles that come with them. Immunotherapy faces issues with response variability and severe side effects that need careful management. Clinical trials may not always represent the diversity of the population, and long-term effects can differ from short-term benefits.\\n\", additional_kwargs={}, response_metadata={})]\n",
            "Type of response: <class 'langchain_core.prompt_values.ChatPromptValue'>\n",
            "Dir of response: ['__abstractmethods__', '__annotations__', '__class__', '__class_getitem__', '__class_vars__', '__copy__', '__deepcopy__', '__delattr__', '__dict__', '__dir__', '__doc__', '__eq__', '__fields__', '__fields_set__', '__firstlineno__', '__format__', '__ge__', '__get_pydantic_core_schema__', '__get_pydantic_json_schema__', '__getattr__', '__getattribute__', '__getstate__', '__gt__', '__hash__', '__init__', '__init_subclass__', '__iter__', '__le__', '__lt__', '__module__', '__ne__', '__new__', '__pretty__', '__private_attributes__', '__pydantic_complete__', '__pydantic_computed_fields__', '__pydantic_core_schema__', '__pydantic_custom_init__', '__pydantic_decorators__', '__pydantic_extra__', '__pydantic_fields__', '__pydantic_fields_set__', '__pydantic_generic_metadata__', '__pydantic_init_subclass__', '__pydantic_parent_namespace__', '__pydantic_post_init__', '__pydantic_private__', '__pydantic_root_model__', '__pydantic_serializer__', '__pydantic_validator__', '__reduce__', '__reduce_ex__', '__replace__', '__repr__', '__repr_args__', '__repr_name__', '__repr_recursion__', '__repr_str__', '__rich_repr__', '__setattr__', '__setstate__', '__signature__', '__sizeof__', '__slots__', '__static_attributes__', '__str__', '__subclasshook__', '__weakref__', '_abc_impl', '_calculate_keys', '_check_frozen', '_copy_and_set_values', '_get_value', '_iter', 'construct', 'copy', 'dict', 'from_orm', 'get_lc_namespace', 'is_lc_serializable', 'json', 'lc_attributes', 'lc_id', 'lc_secrets', 'messages', 'model_computed_fields', 'model_config', 'model_construct', 'model_copy', 'model_dump', 'model_dump_json', 'model_extra', 'model_fields', 'model_fields_set', 'model_json_schema', 'model_parametrized_name', 'model_post_init', 'model_rebuild', 'model_validate', 'model_validate_json', 'model_validate_strings', 'parse_file', 'parse_obj', 'parse_raw', 'schema', 'schema_json', 'to_json', 'to_json_not_implemented', 'to_messages', 'to_string', 'update_forward_refs', 'validate']\n",
            "Response: messages=[HumanMessage(content=\"Given the following context, you must generate questions based on only the provided context.\\n\\nYou are to generate 2 questions which should be provided in the following format:\\n\\n1. QUESTION #1\\n2. QUESTION #2\\n...\\n\\nContext:\\n[BELIEVER PERSPECTIVE]\\n\\nThe recent advances in cancer research present a wealth of opportunities. Immunotherapy, clinical trials, genomic data integration, surgical platforms, and new treatments offer groundbreaking approaches that can lead to personalized treatments, reduced side effects, and improved survival rates.\\n\\n[CONCLUSION]\\n\\nAs we wrap up, it's clear that while the advancements in cancer research offer hope for transformative treatments, addressing challenges and ensuring ethical, accessible, and efficient implementation is crucial. By collaborating, monitoring, and prioritizing patient well-being, we can truly revolutionize cancer care for a brighter future.\\n\", additional_kwargs={}, response_metadata={})]\n",
            "Type of response: <class 'langchain_core.prompt_values.ChatPromptValue'>\n",
            "Dir of response: ['__abstractmethods__', '__annotations__', '__class__', '__class_getitem__', '__class_vars__', '__copy__', '__deepcopy__', '__delattr__', '__dict__', '__dir__', '__doc__', '__eq__', '__fields__', '__fields_set__', '__firstlineno__', '__format__', '__ge__', '__get_pydantic_core_schema__', '__get_pydantic_json_schema__', '__getattr__', '__getattribute__', '__getstate__', '__gt__', '__hash__', '__init__', '__init_subclass__', '__iter__', '__le__', '__lt__', '__module__', '__ne__', '__new__', '__pretty__', '__private_attributes__', '__pydantic_complete__', '__pydantic_computed_fields__', '__pydantic_core_schema__', '__pydantic_custom_init__', '__pydantic_decorators__', '__pydantic_extra__', '__pydantic_fields__', '__pydantic_fields_set__', '__pydantic_generic_metadata__', '__pydantic_init_subclass__', '__pydantic_parent_namespace__', '__pydantic_post_init__', '__pydantic_private__', '__pydantic_root_model__', '__pydantic_serializer__', '__pydantic_validator__', '__reduce__', '__reduce_ex__', '__replace__', '__repr__', '__repr_args__', '__repr_name__', '__repr_recursion__', '__repr_str__', '__rich_repr__', '__setattr__', '__setstate__', '__signature__', '__sizeof__', '__slots__', '__static_attributes__', '__str__', '__subclasshook__', '__weakref__', '_abc_impl', '_calculate_keys', '_check_frozen', '_copy_and_set_values', '_get_value', '_iter', 'construct', 'copy', 'dict', 'from_orm', 'get_lc_namespace', 'is_lc_serializable', 'json', 'lc_attributes', 'lc_id', 'lc_secrets', 'messages', 'model_computed_fields', 'model_config', 'model_construct', 'model_copy', 'model_dump', 'model_dump_json', 'model_extra', 'model_fields', 'model_fields_set', 'model_json_schema', 'model_parametrized_name', 'model_post_init', 'model_rebuild', 'model_validate', 'model_validate_json', 'model_validate_strings', 'parse_file', 'parse_obj', 'parse_raw', 'schema', 'schema_json', 'to_json', 'to_json_not_implemented', 'to_messages', 'to_string', 'update_forward_refs', 'validate']\n",
            "Response: messages=[HumanMessage(content=\"Given the following context, you must generate questions based on only the provided context.\\n\\nYou are to generate 2 questions which should be provided in the following format:\\n\\n1. QUESTION #1\\n2. QUESTION #2\\n...\\n\\nContext:\\nImpact of Microplastics on Marine Ecosystems\\nTopic: Explain the impact of microplastics on marine ecosystems\\n\\n[INTRO]\\n\\nWelcome to our podcast where we delve into the critical issue of microplastic pollution and its impact on marine ecosystems. Today, we'll explore the multifaceted debate surrounding this environmental challenge, from the risks it poses to the opportunities for positive change.\\n\\n[SKEPTIC PERSPECTIVE]\\n\", additional_kwargs={}, response_metadata={})]\n",
            "Type of response: <class 'langchain_core.prompt_values.ChatPromptValue'>\n",
            "Dir of response: ['__abstractmethods__', '__annotations__', '__class__', '__class_getitem__', '__class_vars__', '__copy__', '__deepcopy__', '__delattr__', '__dict__', '__dir__', '__doc__', '__eq__', '__fields__', '__fields_set__', '__firstlineno__', '__format__', '__ge__', '__get_pydantic_core_schema__', '__get_pydantic_json_schema__', '__getattr__', '__getattribute__', '__getstate__', '__gt__', '__hash__', '__init__', '__init_subclass__', '__iter__', '__le__', '__lt__', '__module__', '__ne__', '__new__', '__pretty__', '__private_attributes__', '__pydantic_complete__', '__pydantic_computed_fields__', '__pydantic_core_schema__', '__pydantic_custom_init__', '__pydantic_decorators__', '__pydantic_extra__', '__pydantic_fields__', '__pydantic_fields_set__', '__pydantic_generic_metadata__', '__pydantic_init_subclass__', '__pydantic_parent_namespace__', '__pydantic_post_init__', '__pydantic_private__', '__pydantic_root_model__', '__pydantic_serializer__', '__pydantic_validator__', '__reduce__', '__reduce_ex__', '__replace__', '__repr__', '__repr_args__', '__repr_name__', '__repr_recursion__', '__repr_str__', '__rich_repr__', '__setattr__', '__setstate__', '__signature__', '__sizeof__', '__slots__', '__static_attributes__', '__str__', '__subclasshook__', '__weakref__', '_abc_impl', '_calculate_keys', '_check_frozen', '_copy_and_set_values', '_get_value', '_iter', 'construct', 'copy', 'dict', 'from_orm', 'get_lc_namespace', 'is_lc_serializable', 'json', 'lc_attributes', 'lc_id', 'lc_secrets', 'messages', 'model_computed_fields', 'model_config', 'model_construct', 'model_copy', 'model_dump', 'model_dump_json', 'model_extra', 'model_fields', 'model_fields_set', 'model_json_schema', 'model_parametrized_name', 'model_post_init', 'model_rebuild', 'model_validate', 'model_validate_json', 'model_validate_strings', 'parse_file', 'parse_obj', 'parse_raw', 'schema', 'schema_json', 'to_json', 'to_json_not_implemented', 'to_messages', 'to_string', 'update_forward_refs', 'validate']\n",
            "Response: messages=[HumanMessage(content=\"Given the following context, you must generate questions based on only the provided context.\\n\\nYou are to generate 2 questions which should be provided in the following format:\\n\\n1. QUESTION #1\\n2. QUESTION #2\\n...\\n\\nContext:\\nThe sources we've examined underscore the grave consequences of microplastics on marine life. These tiny particles cause physical harm, toxicity, and pose a threat through entanglement and ingestion. The widespread presence of microplastics in the ocean not only endangers marine organisms but also raises concerns for the broader environment and human health.\\n\\n[BELIEVER PERSPECTIVE]\\n\\nWhile the impact of microplastics is indeed alarming, there are avenues for positive change. Researchers are actively studying microplastics, paving the way for innovative cleanup technologies. Increasing public awareness and education can drive behavioral changes, while regulations and policies can limit plastic usage.\\n\\n[CONCLUSION]\\n\", additional_kwargs={}, response_metadata={})]\n"
          ]
        }
      ],
      "source": [
        "training_questions, training_relevant_contexts = await create_questions(training_split_documents, 2)"
      ]
    },
    {
      "cell_type": "markdown",
      "metadata": {
        "id": "_FSTG0bb7w73"
      },
      "source": [
        "We'll use the function to generate training, validation, and test data."
      ]
    },
    {
      "cell_type": "code",
      "execution_count": 29,
      "metadata": {
        "colab": {
          "base_uri": "https://localhost:8080/"
        },
        "id": "eIZm4CqGVzBx",
        "outputId": "65a7703a-c528-40f6-aff4-1be84902cfc4"
      },
      "outputs": [
        {
          "name": "stdout",
          "output_type": "stream",
          "text": [
            "Type of response: <class 'langchain_core.prompt_values.ChatPromptValue'>\n",
            "Dir of response: ['__abstractmethods__', '__annotations__', '__class__', '__class_getitem__', '__class_vars__', '__copy__', '__deepcopy__', '__delattr__', '__dict__', '__dir__', '__doc__', '__eq__', '__fields__', '__fields_set__', '__firstlineno__', '__format__', '__ge__', '__get_pydantic_core_schema__', '__get_pydantic_json_schema__', '__getattr__', '__getattribute__', '__getstate__', '__gt__', '__hash__', '__init__', '__init_subclass__', '__iter__', '__le__', '__lt__', '__module__', '__ne__', '__new__', '__pretty__', '__private_attributes__', '__pydantic_complete__', '__pydantic_computed_fields__', '__pydantic_core_schema__', '__pydantic_custom_init__', '__pydantic_decorators__', '__pydantic_extra__', '__pydantic_fields__', '__pydantic_fields_set__', '__pydantic_generic_metadata__', '__pydantic_init_subclass__', '__pydantic_parent_namespace__', '__pydantic_post_init__', '__pydantic_private__', '__pydantic_root_model__', '__pydantic_serializer__', '__pydantic_validator__', '__reduce__', '__reduce_ex__', '__replace__', '__repr__', '__repr_args__', '__repr_name__', '__repr_recursion__', '__repr_str__', '__rich_repr__', '__setattr__', '__setstate__', '__signature__', '__sizeof__', '__slots__', '__static_attributes__', '__str__', '__subclasshook__', '__weakref__', '_abc_impl', '_calculate_keys', '_check_frozen', '_copy_and_set_values', '_get_value', '_iter', 'construct', 'copy', 'dict', 'from_orm', 'get_lc_namespace', 'is_lc_serializable', 'json', 'lc_attributes', 'lc_id', 'lc_secrets', 'messages', 'model_computed_fields', 'model_config', 'model_construct', 'model_copy', 'model_dump', 'model_dump_json', 'model_extra', 'model_fields', 'model_fields_set', 'model_json_schema', 'model_parametrized_name', 'model_post_init', 'model_rebuild', 'model_validate', 'model_validate_json', 'model_validate_strings', 'parse_file', 'parse_obj', 'parse_raw', 'schema', 'schema_json', 'to_json', 'to_json_not_implemented', 'to_messages', 'to_string', 'update_forward_refs', 'validate']\n",
            "Response: messages=[HumanMessage(content=\"Given the following context, you must generate questions based on only the provided context.\\n\\nYou are to generate 2 questions which should be provided in the following format:\\n\\n1. QUESTION #1\\n2. QUESTION #2\\n...\\n\\nContext:\\n[CONCLUSION]\\n\\nAs we wrap up, it's evident that the impact of microplastics on marine ecosystems is multifaceted. By recognizing the challenges and opportunities, we can collectively work towards a cleaner and healthier marine environment. Stay informed, stay engaged, and let's make a positive difference for our oceans.\\n        \\n\\n\\nGenetic Engineering and CRISPR Technology\\nTopic: What are the ethical implications of genetic engineering and CRISPR technology?\\n\\n[INTRO]\\n\\nWelcome to our podcast where we delve into the ethical implications of genetic engineering and CRISPR technology. Today, we'll explore the diverse perspectives surrounding this cutting-edge technology, from the risks and challenges to the promising opportunities it presents.\\n\", additional_kwargs={}, response_metadata={})]\n",
            "Type of response: <class 'langchain_core.prompt_values.ChatPromptValue'>\n",
            "Dir of response: ['__abstractmethods__', '__annotations__', '__class__', '__class_getitem__', '__class_vars__', '__copy__', '__deepcopy__', '__delattr__', '__dict__', '__dir__', '__doc__', '__eq__', '__fields__', '__fields_set__', '__firstlineno__', '__format__', '__ge__', '__get_pydantic_core_schema__', '__get_pydantic_json_schema__', '__getattr__', '__getattribute__', '__getstate__', '__gt__', '__hash__', '__init__', '__init_subclass__', '__iter__', '__le__', '__lt__', '__module__', '__ne__', '__new__', '__pretty__', '__private_attributes__', '__pydantic_complete__', '__pydantic_computed_fields__', '__pydantic_core_schema__', '__pydantic_custom_init__', '__pydantic_decorators__', '__pydantic_extra__', '__pydantic_fields__', '__pydantic_fields_set__', '__pydantic_generic_metadata__', '__pydantic_init_subclass__', '__pydantic_parent_namespace__', '__pydantic_post_init__', '__pydantic_private__', '__pydantic_root_model__', '__pydantic_serializer__', '__pydantic_validator__', '__reduce__', '__reduce_ex__', '__replace__', '__repr__', '__repr_args__', '__repr_name__', '__repr_recursion__', '__repr_str__', '__rich_repr__', '__setattr__', '__setstate__', '__signature__', '__sizeof__', '__slots__', '__static_attributes__', '__str__', '__subclasshook__', '__weakref__', '_abc_impl', '_calculate_keys', '_check_frozen', '_copy_and_set_values', '_get_value', '_iter', 'construct', 'copy', 'dict', 'from_orm', 'get_lc_namespace', 'is_lc_serializable', 'json', 'lc_attributes', 'lc_id', 'lc_secrets', 'messages', 'model_computed_fields', 'model_config', 'model_construct', 'model_copy', 'model_dump', 'model_dump_json', 'model_extra', 'model_fields', 'model_fields_set', 'model_json_schema', 'model_parametrized_name', 'model_post_init', 'model_rebuild', 'model_validate', 'model_validate_json', 'model_validate_strings', 'parse_file', 'parse_obj', 'parse_raw', 'schema', 'schema_json', 'to_json', 'to_json_not_implemented', 'to_messages', 'to_string', 'update_forward_refs', 'validate']\n",
            "Response: messages=[HumanMessage(content='Given the following context, you must generate questions based on only the provided context.\\n\\nYou are to generate 2 questions which should be provided in the following format:\\n\\n1. QUESTION #1\\n2. QUESTION #2\\n...\\n\\nContext:\\n[SKEPTIC PERSPECTIVE]\\n\\nGenetic engineering and CRISPR technology introduce a myriad of ethical dilemmas that cannot be ignored. The ability to edit the human germline raises profound questions about heritable changes, long-term consequences, and the moral responsibility tied to altering the gene pool. Additionally, issues surrounding informed consent, access to technology, unintended consequences, and the risk of eugenics and discrimination loom large.\\n\\n[BELIEVER PERSPECTIVE]\\n', additional_kwargs={}, response_metadata={})]\n",
            "Type of response: <class 'langchain_core.prompt_values.ChatPromptValue'>\n",
            "Dir of response: ['__abstractmethods__', '__annotations__', '__class__', '__class_getitem__', '__class_vars__', '__copy__', '__deepcopy__', '__delattr__', '__dict__', '__dir__', '__doc__', '__eq__', '__fields__', '__fields_set__', '__firstlineno__', '__format__', '__ge__', '__get_pydantic_core_schema__', '__get_pydantic_json_schema__', '__getattr__', '__getattribute__', '__getstate__', '__gt__', '__hash__', '__init__', '__init_subclass__', '__iter__', '__le__', '__lt__', '__module__', '__ne__', '__new__', '__pretty__', '__private_attributes__', '__pydantic_complete__', '__pydantic_computed_fields__', '__pydantic_core_schema__', '__pydantic_custom_init__', '__pydantic_decorators__', '__pydantic_extra__', '__pydantic_fields__', '__pydantic_fields_set__', '__pydantic_generic_metadata__', '__pydantic_init_subclass__', '__pydantic_parent_namespace__', '__pydantic_post_init__', '__pydantic_private__', '__pydantic_root_model__', '__pydantic_serializer__', '__pydantic_validator__', '__reduce__', '__reduce_ex__', '__replace__', '__repr__', '__repr_args__', '__repr_name__', '__repr_recursion__', '__repr_str__', '__rich_repr__', '__setattr__', '__setstate__', '__signature__', '__sizeof__', '__slots__', '__static_attributes__', '__str__', '__subclasshook__', '__weakref__', '_abc_impl', '_calculate_keys', '_check_frozen', '_copy_and_set_values', '_get_value', '_iter', 'construct', 'copy', 'dict', 'from_orm', 'get_lc_namespace', 'is_lc_serializable', 'json', 'lc_attributes', 'lc_id', 'lc_secrets', 'messages', 'model_computed_fields', 'model_config', 'model_construct', 'model_copy', 'model_dump', 'model_dump_json', 'model_extra', 'model_fields', 'model_fields_set', 'model_json_schema', 'model_parametrized_name', 'model_post_init', 'model_rebuild', 'model_validate', 'model_validate_json', 'model_validate_strings', 'parse_file', 'parse_obj', 'parse_raw', 'schema', 'schema_json', 'to_json', 'to_json_not_implemented', 'to_messages', 'to_string', 'update_forward_refs', 'validate']\n",
            "Response: messages=[HumanMessage(content=\"Given the following context, you must generate questions based on only the provided context.\\n\\nYou are to generate 2 questions which should be provided in the following format:\\n\\n1. QUESTION #1\\n2. QUESTION #2\\n...\\n\\nContext:\\nWhile ethical concerns are valid, it's essential to recognize the immense opportunities CRISPR technology presents. From precision medicine advancements to enhanced food security and environmental conservation, CRISPR offers a pathway to personalized healthcare, resilient crops, and sustainable practices.\\n\\n[CONCLUSION]\\n\\nAs we wrap up, it's evident that the ethical implications of genetic engineering and CRISPR technology are multifaceted. By striking a balance between innovation and ethical considerations, we can navigate this complex landscape responsibly.\\n        \\n\\n\\n5G Technology and Telecommunications\\nTopic: How is 5G technology changing telecommunications and what are its potential risks?\\n\\n[INTRO]\\n\", additional_kwargs={}, response_metadata={})]\n",
            "Type of response: <class 'langchain_core.prompt_values.ChatPromptValue'>\n",
            "Dir of response: ['__abstractmethods__', '__annotations__', '__class__', '__class_getitem__', '__class_vars__', '__copy__', '__deepcopy__', '__delattr__', '__dict__', '__dir__', '__doc__', '__eq__', '__fields__', '__fields_set__', '__firstlineno__', '__format__', '__ge__', '__get_pydantic_core_schema__', '__get_pydantic_json_schema__', '__getattr__', '__getattribute__', '__getstate__', '__gt__', '__hash__', '__init__', '__init_subclass__', '__iter__', '__le__', '__lt__', '__module__', '__ne__', '__new__', '__pretty__', '__private_attributes__', '__pydantic_complete__', '__pydantic_computed_fields__', '__pydantic_core_schema__', '__pydantic_custom_init__', '__pydantic_decorators__', '__pydantic_extra__', '__pydantic_fields__', '__pydantic_fields_set__', '__pydantic_generic_metadata__', '__pydantic_init_subclass__', '__pydantic_parent_namespace__', '__pydantic_post_init__', '__pydantic_private__', '__pydantic_root_model__', '__pydantic_serializer__', '__pydantic_validator__', '__reduce__', '__reduce_ex__', '__replace__', '__repr__', '__repr_args__', '__repr_name__', '__repr_recursion__', '__repr_str__', '__rich_repr__', '__setattr__', '__setstate__', '__signature__', '__sizeof__', '__slots__', '__static_attributes__', '__str__', '__subclasshook__', '__weakref__', '_abc_impl', '_calculate_keys', '_check_frozen', '_copy_and_set_values', '_get_value', '_iter', 'construct', 'copy', 'dict', 'from_orm', 'get_lc_namespace', 'is_lc_serializable', 'json', 'lc_attributes', 'lc_id', 'lc_secrets', 'messages', 'model_computed_fields', 'model_config', 'model_construct', 'model_copy', 'model_dump', 'model_dump_json', 'model_extra', 'model_fields', 'model_fields_set', 'model_json_schema', 'model_parametrized_name', 'model_post_init', 'model_rebuild', 'model_validate', 'model_validate_json', 'model_validate_strings', 'parse_file', 'parse_obj', 'parse_raw', 'schema', 'schema_json', 'to_json', 'to_json_not_implemented', 'to_messages', 'to_string', 'update_forward_refs', 'validate']\n",
            "Response: messages=[HumanMessage(content=\"Given the following context, you must generate questions based on only the provided context.\\n\\nYou are to generate 2 questions which should be provided in the following format:\\n\\n1. QUESTION #1\\n2. QUESTION #2\\n...\\n\\nContext:\\n[INTRO]\\n\\nWelcome to the TechTalk podcast, where we delve into the latest advancements shaping the world of technology. Today, we're exploring the transformative impact of 5G technology on telecommunications and the critical considerations surrounding its adoption.\\n\\n[SKEPTIC PERSPECTIVE]\\n\\nWhile 5G presents exciting opportunities, we mustn't overlook the potential risks. Health concerns related to radiofrequency radiation, cybersecurity threats, infrastructure challenges, regulatory considerations are paramount. The impact on human health and the need for robust cybersecurity measures are critical aspects that require thorough research and regulatory oversight.\\n\\n[BELIEVER PERSPECTIVE]\\n\", additional_kwargs={}, response_metadata={})]\n",
            "Type of response: <class 'langchain_core.prompt_values.ChatPromptValue'>\n",
            "Dir of response: ['__abstractmethods__', '__annotations__', '__class__', '__class_getitem__', '__class_vars__', '__copy__', '__deepcopy__', '__delattr__', '__dict__', '__dir__', '__doc__', '__eq__', '__fields__', '__fields_set__', '__firstlineno__', '__format__', '__ge__', '__get_pydantic_core_schema__', '__get_pydantic_json_schema__', '__getattr__', '__getattribute__', '__getstate__', '__gt__', '__hash__', '__init__', '__init_subclass__', '__iter__', '__le__', '__lt__', '__module__', '__ne__', '__new__', '__pretty__', '__private_attributes__', '__pydantic_complete__', '__pydantic_computed_fields__', '__pydantic_core_schema__', '__pydantic_custom_init__', '__pydantic_decorators__', '__pydantic_extra__', '__pydantic_fields__', '__pydantic_fields_set__', '__pydantic_generic_metadata__', '__pydantic_init_subclass__', '__pydantic_parent_namespace__', '__pydantic_post_init__', '__pydantic_private__', '__pydantic_root_model__', '__pydantic_serializer__', '__pydantic_validator__', '__reduce__', '__reduce_ex__', '__replace__', '__repr__', '__repr_args__', '__repr_name__', '__repr_recursion__', '__repr_str__', '__rich_repr__', '__setattr__', '__setstate__', '__signature__', '__sizeof__', '__slots__', '__static_attributes__', '__str__', '__subclasshook__', '__weakref__', '_abc_impl', '_calculate_keys', '_check_frozen', '_copy_and_set_values', '_get_value', '_iter', 'construct', 'copy', 'dict', 'from_orm', 'get_lc_namespace', 'is_lc_serializable', 'json', 'lc_attributes', 'lc_id', 'lc_secrets', 'messages', 'model_computed_fields', 'model_config', 'model_construct', 'model_copy', 'model_dump', 'model_dump_json', 'model_extra', 'model_fields', 'model_fields_set', 'model_json_schema', 'model_parametrized_name', 'model_post_init', 'model_rebuild', 'model_validate', 'model_validate_json', 'model_validate_strings', 'parse_file', 'parse_obj', 'parse_raw', 'schema', 'schema_json', 'to_json', 'to_json_not_implemented', 'to_messages', 'to_string', 'update_forward_refs', 'validate']\n",
            "Response: messages=[HumanMessage(content=\"Given the following context, you must generate questions based on only the provided context.\\n\\nYou are to generate 2 questions which should be provided in the following format:\\n\\n1. QUESTION #1\\n2. QUESTION #2\\n...\\n\\nContext:\\n5G technology is a game-changer in connectivity, empowering businesses to innovate, enhancing IoT capabilities, enabling smart city initiatives, and revolutionizing healthcare delivery. The potential for faster speeds, low latency, and seamless communication opens doors to a more connected and efficient future.\\n\\n[CONCLUSION]\\n\\nAs we wrap up, it's evident that 5G technology is reshaping telecommunications with its promise of faster speeds, enhanced connectivity, and innovative solutions. However, to fully harness its potential, stakeholders must navigate the risks diligently.\\n        \\n\\n\\nAutonomous Vehicle Technology\\nTopic: What are the latest developments in autonomous vehicle technology?\\n\\n[INTRO]\\n\", additional_kwargs={}, response_metadata={})]\n",
            "Type of response: <class 'langchain_core.prompt_values.ChatPromptValue'>\n",
            "Dir of response: ['__abstractmethods__', '__annotations__', '__class__', '__class_getitem__', '__class_vars__', '__copy__', '__deepcopy__', '__delattr__', '__dict__', '__dir__', '__doc__', '__eq__', '__fields__', '__fields_set__', '__firstlineno__', '__format__', '__ge__', '__get_pydantic_core_schema__', '__get_pydantic_json_schema__', '__getattr__', '__getattribute__', '__getstate__', '__gt__', '__hash__', '__init__', '__init_subclass__', '__iter__', '__le__', '__lt__', '__module__', '__ne__', '__new__', '__pretty__', '__private_attributes__', '__pydantic_complete__', '__pydantic_computed_fields__', '__pydantic_core_schema__', '__pydantic_custom_init__', '__pydantic_decorators__', '__pydantic_extra__', '__pydantic_fields__', '__pydantic_fields_set__', '__pydantic_generic_metadata__', '__pydantic_init_subclass__', '__pydantic_parent_namespace__', '__pydantic_post_init__', '__pydantic_private__', '__pydantic_root_model__', '__pydantic_serializer__', '__pydantic_validator__', '__reduce__', '__reduce_ex__', '__replace__', '__repr__', '__repr_args__', '__repr_name__', '__repr_recursion__', '__repr_str__', '__rich_repr__', '__setattr__', '__setstate__', '__signature__', '__sizeof__', '__slots__', '__static_attributes__', '__str__', '__subclasshook__', '__weakref__', '_abc_impl', '_calculate_keys', '_check_frozen', '_copy_and_set_values', '_get_value', '_iter', 'construct', 'copy', 'dict', 'from_orm', 'get_lc_namespace', 'is_lc_serializable', 'json', 'lc_attributes', 'lc_id', 'lc_secrets', 'messages', 'model_computed_fields', 'model_config', 'model_construct', 'model_copy', 'model_dump', 'model_dump_json', 'model_extra', 'model_fields', 'model_fields_set', 'model_json_schema', 'model_parametrized_name', 'model_post_init', 'model_rebuild', 'model_validate', 'model_validate_json', 'model_validate_strings', 'parse_file', 'parse_obj', 'parse_raw', 'schema', 'schema_json', 'to_json', 'to_json_not_implemented', 'to_messages', 'to_string', 'update_forward_refs', 'validate']\n",
            "Response: messages=[HumanMessage(content=\"Given the following context, you must generate questions based on only the provided context.\\n\\nYou are to generate 2 questions which should be provided in the following format:\\n\\n1. QUESTION #1\\n2. QUESTION #2\\n...\\n\\nContext:\\n[INTRO]\\n\\nWelcome to the latest episode of Innovate Now, where we explore the cutting-edge world of technology. Today, we're exploring the advancements in autonomous vehicle technology and the diverse perspectives surrounding its development.\\n\\n[SKEPTIC PERSPECTIVE]\\n\\nLet's kick off by acknowledging the significant challenges and limitations that accompany the latest developments in autonomous vehicle technology. Safety concerns, regulatory hurdles, cybersecurity risks, infrastructure readiness, ethical dilemmas, technological limitations, and consumer acceptance all pose substantial obstacles.\\n\\n[BELIEVER PERSPECTIVE]\\n\", additional_kwargs={}, response_metadata={})]\n",
            "Type of response: <class 'langchain_core.prompt_values.ChatPromptValue'>\n",
            "Dir of response: ['__abstractmethods__', '__annotations__', '__class__', '__class_getitem__', '__class_vars__', '__copy__', '__deepcopy__', '__delattr__', '__dict__', '__dir__', '__doc__', '__eq__', '__fields__', '__fields_set__', '__firstlineno__', '__format__', '__ge__', '__get_pydantic_core_schema__', '__get_pydantic_json_schema__', '__getattr__', '__getattribute__', '__getstate__', '__gt__', '__hash__', '__init__', '__init_subclass__', '__iter__', '__le__', '__lt__', '__module__', '__ne__', '__new__', '__pretty__', '__private_attributes__', '__pydantic_complete__', '__pydantic_computed_fields__', '__pydantic_core_schema__', '__pydantic_custom_init__', '__pydantic_decorators__', '__pydantic_extra__', '__pydantic_fields__', '__pydantic_fields_set__', '__pydantic_generic_metadata__', '__pydantic_init_subclass__', '__pydantic_parent_namespace__', '__pydantic_post_init__', '__pydantic_private__', '__pydantic_root_model__', '__pydantic_serializer__', '__pydantic_validator__', '__reduce__', '__reduce_ex__', '__replace__', '__repr__', '__repr_args__', '__repr_name__', '__repr_recursion__', '__repr_str__', '__rich_repr__', '__setattr__', '__setstate__', '__signature__', '__sizeof__', '__slots__', '__static_attributes__', '__str__', '__subclasshook__', '__weakref__', '_abc_impl', '_calculate_keys', '_check_frozen', '_copy_and_set_values', '_get_value', '_iter', 'construct', 'copy', 'dict', 'from_orm', 'get_lc_namespace', 'is_lc_serializable', 'json', 'lc_attributes', 'lc_id', 'lc_secrets', 'messages', 'model_computed_fields', 'model_config', 'model_construct', 'model_copy', 'model_dump', 'model_dump_json', 'model_extra', 'model_fields', 'model_fields_set', 'model_json_schema', 'model_parametrized_name', 'model_post_init', 'model_rebuild', 'model_validate', 'model_validate_json', 'model_validate_strings', 'parse_file', 'parse_obj', 'parse_raw', 'schema', 'schema_json', 'to_json', 'to_json_not_implemented', 'to_messages', 'to_string', 'update_forward_refs', 'validate']\n",
            "Response: messages=[HumanMessage(content=\"Given the following context, you must generate questions based on only the provided context.\\n\\nYou are to generate 2 questions which should be provided in the following format:\\n\\n1. QUESTION #1\\n2. QUESTION #2\\n...\\n\\nContext:\\nWhile it's crucial to address these challenges, it's equally important to recognize the promising opportunities that autonomous vehicles bring. Collaborative efforts between universities and industries, the integration of AI for enhanced safety and efficiency, improved self-driving capabilities, economic growth potential, enhanced user experiences, and the progressive shift towards automation all paint a picture of a future filled with innovation and sustainability.\\n\\n[CONCLUSION]\\n\\nAs we navigate the complexities of autonomous vehicle technology, it's clear that a balanced approach considering both risks and opportunities is key to shaping a future where innovation and societal well-being go hand in hand.\\n\", additional_kwargs={}, response_metadata={})]\n",
            "Type of response: <class 'langchain_core.prompt_values.ChatPromptValue'>\n",
            "Dir of response: ['__abstractmethods__', '__annotations__', '__class__', '__class_getitem__', '__class_vars__', '__copy__', '__deepcopy__', '__delattr__', '__dict__', '__dir__', '__doc__', '__eq__', '__fields__', '__fields_set__', '__firstlineno__', '__format__', '__ge__', '__get_pydantic_core_schema__', '__get_pydantic_json_schema__', '__getattr__', '__getattribute__', '__getstate__', '__gt__', '__hash__', '__init__', '__init_subclass__', '__iter__', '__le__', '__lt__', '__module__', '__ne__', '__new__', '__pretty__', '__private_attributes__', '__pydantic_complete__', '__pydantic_computed_fields__', '__pydantic_core_schema__', '__pydantic_custom_init__', '__pydantic_decorators__', '__pydantic_extra__', '__pydantic_fields__', '__pydantic_fields_set__', '__pydantic_generic_metadata__', '__pydantic_init_subclass__', '__pydantic_parent_namespace__', '__pydantic_post_init__', '__pydantic_private__', '__pydantic_root_model__', '__pydantic_serializer__', '__pydantic_validator__', '__reduce__', '__reduce_ex__', '__replace__', '__repr__', '__repr_args__', '__repr_name__', '__repr_recursion__', '__repr_str__', '__rich_repr__', '__setattr__', '__setstate__', '__signature__', '__sizeof__', '__slots__', '__static_attributes__', '__str__', '__subclasshook__', '__weakref__', '_abc_impl', '_calculate_keys', '_check_frozen', '_copy_and_set_values', '_get_value', '_iter', 'construct', 'copy', 'dict', 'from_orm', 'get_lc_namespace', 'is_lc_serializable', 'json', 'lc_attributes', 'lc_id', 'lc_secrets', 'messages', 'model_computed_fields', 'model_config', 'model_construct', 'model_copy', 'model_dump', 'model_dump_json', 'model_extra', 'model_fields', 'model_fields_set', 'model_json_schema', 'model_parametrized_name', 'model_post_init', 'model_rebuild', 'model_validate', 'model_validate_json', 'model_validate_strings', 'parse_file', 'parse_obj', 'parse_raw', 'schema', 'schema_json', 'to_json', 'to_json_not_implemented', 'to_messages', 'to_string', 'update_forward_refs', 'validate']\n",
            "Response: messages=[HumanMessage(content='Given the following context, you must generate questions based on only the provided context.\\n\\nYou are to generate 2 questions which should be provided in the following format:\\n\\n1. QUESTION #1\\n2. QUESTION #2\\n...\\n\\nContext:\\nClimate Change Science and Impacts\\nTopic: Explain the science behind climate change and its global impacts\\n\\n[INTRO]\\n\\nWelcome to the Climate Change Conundrum, where we unravel the complexities of the science behind climate change and its global impacts. Today, we dive into a debate between skeptics and believers, exploring the challenges and opportunities that come with addressing this pressing issue.\\n\\n[SKEPTIC PERSPECTIVE]\\n', additional_kwargs={}, response_metadata={})]\n",
            "Type of response: <class 'langchain_core.prompt_values.ChatPromptValue'>\n",
            "Dir of response: ['__abstractmethods__', '__annotations__', '__class__', '__class_getitem__', '__class_vars__', '__copy__', '__deepcopy__', '__delattr__', '__dict__', '__dir__', '__doc__', '__eq__', '__fields__', '__fields_set__', '__firstlineno__', '__format__', '__ge__', '__get_pydantic_core_schema__', '__get_pydantic_json_schema__', '__getattr__', '__getattribute__', '__getstate__', '__gt__', '__hash__', '__init__', '__init_subclass__', '__iter__', '__le__', '__lt__', '__module__', '__ne__', '__new__', '__pretty__', '__private_attributes__', '__pydantic_complete__', '__pydantic_computed_fields__', '__pydantic_core_schema__', '__pydantic_custom_init__', '__pydantic_decorators__', '__pydantic_extra__', '__pydantic_fields__', '__pydantic_fields_set__', '__pydantic_generic_metadata__', '__pydantic_init_subclass__', '__pydantic_parent_namespace__', '__pydantic_post_init__', '__pydantic_private__', '__pydantic_root_model__', '__pydantic_serializer__', '__pydantic_validator__', '__reduce__', '__reduce_ex__', '__replace__', '__repr__', '__repr_args__', '__repr_name__', '__repr_recursion__', '__repr_str__', '__rich_repr__', '__setattr__', '__setstate__', '__signature__', '__sizeof__', '__slots__', '__static_attributes__', '__str__', '__subclasshook__', '__weakref__', '_abc_impl', '_calculate_keys', '_check_frozen', '_copy_and_set_values', '_get_value', '_iter', 'construct', 'copy', 'dict', 'from_orm', 'get_lc_namespace', 'is_lc_serializable', 'json', 'lc_attributes', 'lc_id', 'lc_secrets', 'messages', 'model_computed_fields', 'model_config', 'model_construct', 'model_copy', 'model_dump', 'model_dump_json', 'model_extra', 'model_fields', 'model_fields_set', 'model_json_schema', 'model_parametrized_name', 'model_post_init', 'model_rebuild', 'model_validate', 'model_validate_json', 'model_validate_strings', 'parse_file', 'parse_obj', 'parse_raw', 'schema', 'schema_json', 'to_json', 'to_json_not_implemented', 'to_messages', 'to_string', 'update_forward_refs', 'validate']\n",
            "Response: messages=[HumanMessage(content=\"Given the following context, you must generate questions based on only the provided context.\\n\\nYou are to generate 2 questions which should be provided in the following format:\\n\\n1. QUESTION #1\\n2. QUESTION #2\\n...\\n\\nContext:\\nAs we delve into the science of climate change, it's vital to acknowledge the challenges that come with mitigating its impacts. One key aspect is the balance between mitigation and adaptation strategies. Finding the right equilibrium between reducing emissions and adjusting to inevitable changes poses a significant challenge.\\n\\n[BELIEVER PERSPECTIVE]\\n\", additional_kwargs={}, response_metadata={})]\n",
            "Type of response: <class 'langchain_core.prompt_values.ChatPromptValue'>\n",
            "Dir of response: ['__abstractmethods__', '__annotations__', '__class__', '__class_getitem__', '__class_vars__', '__copy__', '__deepcopy__', '__delattr__', '__dict__', '__dir__', '__doc__', '__eq__', '__fields__', '__fields_set__', '__firstlineno__', '__format__', '__ge__', '__get_pydantic_core_schema__', '__get_pydantic_json_schema__', '__getattr__', '__getattribute__', '__getstate__', '__gt__', '__hash__', '__init__', '__init_subclass__', '__iter__', '__le__', '__lt__', '__module__', '__ne__', '__new__', '__pretty__', '__private_attributes__', '__pydantic_complete__', '__pydantic_computed_fields__', '__pydantic_core_schema__', '__pydantic_custom_init__', '__pydantic_decorators__', '__pydantic_extra__', '__pydantic_fields__', '__pydantic_fields_set__', '__pydantic_generic_metadata__', '__pydantic_init_subclass__', '__pydantic_parent_namespace__', '__pydantic_post_init__', '__pydantic_private__', '__pydantic_root_model__', '__pydantic_serializer__', '__pydantic_validator__', '__reduce__', '__reduce_ex__', '__replace__', '__repr__', '__repr_args__', '__repr_name__', '__repr_recursion__', '__repr_str__', '__rich_repr__', '__setattr__', '__setstate__', '__signature__', '__sizeof__', '__slots__', '__static_attributes__', '__str__', '__subclasshook__', '__weakref__', '_abc_impl', '_calculate_keys', '_check_frozen', '_copy_and_set_values', '_get_value', '_iter', 'construct', 'copy', 'dict', 'from_orm', 'get_lc_namespace', 'is_lc_serializable', 'json', 'lc_attributes', 'lc_id', 'lc_secrets', 'messages', 'model_computed_fields', 'model_config', 'model_construct', 'model_copy', 'model_dump', 'model_dump_json', 'model_extra', 'model_fields', 'model_fields_set', 'model_json_schema', 'model_parametrized_name', 'model_post_init', 'model_rebuild', 'model_validate', 'model_validate_json', 'model_validate_strings', 'parse_file', 'parse_obj', 'parse_raw', 'schema', 'schema_json', 'to_json', 'to_json_not_implemented', 'to_messages', 'to_string', 'update_forward_refs', 'validate']\n",
            "Response: messages=[HumanMessage(content=\"Given the following context, you must generate questions based on only the provided context.\\n\\nYou are to generate 2 questions which should be provided in the following format:\\n\\n1. QUESTION #1\\n2. QUESTION #2\\n...\\n\\nContext:\\nWhile the challenges are undeniable, the science of climate change also offers a beacon of hope. The wealth of data provides a solid foundation for raising awareness and education, empowering informed decision-making. Innovations in technology, collaborative efforts like the Paris Agreement, and opportunities for economic growth in the transition to a low-carbon economy showcase the positive side of addressing climate change.\\n\\n[CONCLUSION]\\n\\nAs we navigate the climate change conundrum, it's evident that a multifaceted approach is essential. By embracing innovation, collaboration, education, and sustainable practices, we can pave the way for a more resilient and sustainable future.\\n\", additional_kwargs={}, response_metadata={})]\n",
            "Type of response: <class 'langchain_core.prompt_values.ChatPromptValue'>\n",
            "Dir of response: ['__abstractmethods__', '__annotations__', '__class__', '__class_getitem__', '__class_vars__', '__copy__', '__deepcopy__', '__delattr__', '__dict__', '__dir__', '__doc__', '__eq__', '__fields__', '__fields_set__', '__firstlineno__', '__format__', '__ge__', '__get_pydantic_core_schema__', '__get_pydantic_json_schema__', '__getattr__', '__getattribute__', '__getstate__', '__gt__', '__hash__', '__init__', '__init_subclass__', '__iter__', '__le__', '__lt__', '__module__', '__ne__', '__new__', '__pretty__', '__private_attributes__', '__pydantic_complete__', '__pydantic_computed_fields__', '__pydantic_core_schema__', '__pydantic_custom_init__', '__pydantic_decorators__', '__pydantic_extra__', '__pydantic_fields__', '__pydantic_fields_set__', '__pydantic_generic_metadata__', '__pydantic_init_subclass__', '__pydantic_parent_namespace__', '__pydantic_post_init__', '__pydantic_private__', '__pydantic_root_model__', '__pydantic_serializer__', '__pydantic_validator__', '__reduce__', '__reduce_ex__', '__replace__', '__repr__', '__repr_args__', '__repr_name__', '__repr_recursion__', '__repr_str__', '__rich_repr__', '__setattr__', '__setstate__', '__signature__', '__sizeof__', '__slots__', '__static_attributes__', '__str__', '__subclasshook__', '__weakref__', '_abc_impl', '_calculate_keys', '_check_frozen', '_copy_and_set_values', '_get_value', '_iter', 'construct', 'copy', 'dict', 'from_orm', 'get_lc_namespace', 'is_lc_serializable', 'json', 'lc_attributes', 'lc_id', 'lc_secrets', 'messages', 'model_computed_fields', 'model_config', 'model_construct', 'model_copy', 'model_dump', 'model_dump_json', 'model_extra', 'model_fields', 'model_fields_set', 'model_json_schema', 'model_parametrized_name', 'model_post_init', 'model_rebuild', 'model_validate', 'model_validate_json', 'model_validate_strings', 'parse_file', 'parse_obj', 'parse_raw', 'schema', 'schema_json', 'to_json', 'to_json_not_implemented', 'to_messages', 'to_string', 'update_forward_refs', 'validate']\n",
            "Response: messages=[HumanMessage(content=\"Given the following context, you must generate questions based on only the provided context.\\n\\nYou are to generate 2 questions which should be provided in the following format:\\n\\n1. QUESTION #1\\n2. QUESTION #2\\n...\\n\\nContext:\\nMachine Learning in Healthcare\\nTopic: How is machine learning transforming healthcare diagnosis and treatment?\\n\\n[INTRO]\\n\\nWelcome to the Healthcare Tech Talk podcast, where we explore the intersection of technology and healthcare. Today, we dive into the transformative impact of machine learning on healthcare diagnosis and treatment.\\n\\n[SKEPTIC PERSPECTIVE]\\n\\nMachine learning in healthcare offers immense potential, but it's crucial to address the challenges and limitations to ensure its ethical and effective implementation. Data Privacy and Security, Bias and Fairness in algorithms, and the lack of Interpretability in some models raise questions about accountability.\\n\\n[BELIEVER PERSPECTIVE]\\n\", additional_kwargs={}, response_metadata={})]\n",
            "Type of response: <class 'langchain_core.prompt_values.ChatPromptValue'>\n",
            "Dir of response: ['__abstractmethods__', '__annotations__', '__class__', '__class_getitem__', '__class_vars__', '__copy__', '__deepcopy__', '__delattr__', '__dict__', '__dir__', '__doc__', '__eq__', '__fields__', '__fields_set__', '__firstlineno__', '__format__', '__ge__', '__get_pydantic_core_schema__', '__get_pydantic_json_schema__', '__getattr__', '__getattribute__', '__getstate__', '__gt__', '__hash__', '__init__', '__init_subclass__', '__iter__', '__le__', '__lt__', '__module__', '__ne__', '__new__', '__pretty__', '__private_attributes__', '__pydantic_complete__', '__pydantic_computed_fields__', '__pydantic_core_schema__', '__pydantic_custom_init__', '__pydantic_decorators__', '__pydantic_extra__', '__pydantic_fields__', '__pydantic_fields_set__', '__pydantic_generic_metadata__', '__pydantic_init_subclass__', '__pydantic_parent_namespace__', '__pydantic_post_init__', '__pydantic_private__', '__pydantic_root_model__', '__pydantic_serializer__', '__pydantic_validator__', '__reduce__', '__reduce_ex__', '__replace__', '__repr__', '__repr_args__', '__repr_name__', '__repr_recursion__', '__repr_str__', '__rich_repr__', '__setattr__', '__setstate__', '__signature__', '__sizeof__', '__slots__', '__static_attributes__', '__str__', '__subclasshook__', '__weakref__', '_abc_impl', '_calculate_keys', '_check_frozen', '_copy_and_set_values', '_get_value', '_iter', 'construct', 'copy', 'dict', 'from_orm', 'get_lc_namespace', 'is_lc_serializable', 'json', 'lc_attributes', 'lc_id', 'lc_secrets', 'messages', 'model_computed_fields', 'model_config', 'model_construct', 'model_copy', 'model_dump', 'model_dump_json', 'model_extra', 'model_fields', 'model_fields_set', 'model_json_schema', 'model_parametrized_name', 'model_post_init', 'model_rebuild', 'model_validate', 'model_validate_json', 'model_validate_strings', 'parse_file', 'parse_obj', 'parse_raw', 'schema', 'schema_json', 'to_json', 'to_json_not_implemented', 'to_messages', 'to_string', 'update_forward_refs', 'validate']\n",
            "Response: messages=[HumanMessage(content='Given the following context, you must generate questions based on only the provided context.\\n\\nYou are to generate 2 questions which should be provided in the following format:\\n\\n1. QUESTION #1\\n2. QUESTION #2\\n...\\n\\nContext:\\nMachine learning presents numerous opportunities in healthcare. It enables Enhanced Patient Care through personalized treatment plans and Efficiency and Speed in diagnosis. The ability to derive Innovative Insights from data can lead to groundbreaking discoveries.\\n\\n[CONCLUSION]\\n\\nTo wrap up, stakeholders must balance the promises of machine learning with ethical considerations to revolutionize healthcare responsibly.\\n        \\n\\n\\nConspiracy Theory Psychology\\nTopic: What are the psychological factors behind conspiracy theory belief?\\n\\n[INTRO]\\n', additional_kwargs={}, response_metadata={})]\n"
          ]
        }
      ],
      "source": [
        "val_questions, val_relevant_contexts = await create_questions(val_split_documents, 2)"
      ]
    },
    {
      "cell_type": "code",
      "execution_count": 30,
      "metadata": {
        "colab": {
          "base_uri": "https://localhost:8080/"
        },
        "id": "o6qUHg9sV2_y",
        "outputId": "b03bf5c6-d392-40bf-a061-1daceba2962e"
      },
      "outputs": [
        {
          "name": "stdout",
          "output_type": "stream",
          "text": [
            "Type of response: <class 'langchain_core.prompt_values.ChatPromptValue'>\n",
            "Dir of response: ['__abstractmethods__', '__annotations__', '__class__', '__class_getitem__', '__class_vars__', '__copy__', '__deepcopy__', '__delattr__', '__dict__', '__dir__', '__doc__', '__eq__', '__fields__', '__fields_set__', '__firstlineno__', '__format__', '__ge__', '__get_pydantic_core_schema__', '__get_pydantic_json_schema__', '__getattr__', '__getattribute__', '__getstate__', '__gt__', '__hash__', '__init__', '__init_subclass__', '__iter__', '__le__', '__lt__', '__module__', '__ne__', '__new__', '__pretty__', '__private_attributes__', '__pydantic_complete__', '__pydantic_computed_fields__', '__pydantic_core_schema__', '__pydantic_custom_init__', '__pydantic_decorators__', '__pydantic_extra__', '__pydantic_fields__', '__pydantic_fields_set__', '__pydantic_generic_metadata__', '__pydantic_init_subclass__', '__pydantic_parent_namespace__', '__pydantic_post_init__', '__pydantic_private__', '__pydantic_root_model__', '__pydantic_serializer__', '__pydantic_validator__', '__reduce__', '__reduce_ex__', '__replace__', '__repr__', '__repr_args__', '__repr_name__', '__repr_recursion__', '__repr_str__', '__rich_repr__', '__setattr__', '__setstate__', '__signature__', '__sizeof__', '__slots__', '__static_attributes__', '__str__', '__subclasshook__', '__weakref__', '_abc_impl', '_calculate_keys', '_check_frozen', '_copy_and_set_values', '_get_value', '_iter', 'construct', 'copy', 'dict', 'from_orm', 'get_lc_namespace', 'is_lc_serializable', 'json', 'lc_attributes', 'lc_id', 'lc_secrets', 'messages', 'model_computed_fields', 'model_config', 'model_construct', 'model_copy', 'model_dump', 'model_dump_json', 'model_extra', 'model_fields', 'model_fields_set', 'model_json_schema', 'model_parametrized_name', 'model_post_init', 'model_rebuild', 'model_validate', 'model_validate_json', 'model_validate_strings', 'parse_file', 'parse_obj', 'parse_raw', 'schema', 'schema_json', 'to_json', 'to_json_not_implemented', 'to_messages', 'to_string', 'update_forward_refs', 'validate']\n",
            "Response: messages=[HumanMessage(content=\"Given the following context, you must generate questions based on only the provided context.\\n\\nYou are to generate 2 questions which should be provided in the following format:\\n\\n1. QUESTION #1\\n2. QUESTION #2\\n...\\n\\nContext:\\n[INTRO]\\n\\nWelcome to our podcast, where we delve into the intriguing topic of the psychological factors behind conspiracy theory belief. Today, we'll explore the complexities surrounding why individuals are drawn to such narratives and discuss opportunities and risks associated with understanding and addressing these beliefs.\\n\\n[SKEPTIC PERSPECTIVE]\\n\\nWhen examining the psychological factors behind conspiracy theory beliefs, it's crucial to acknowledge the intricate web of influences at play. Confirmation bias, social dynamics, group polarization, and psychological vulnerabilities all contribute to the formation and maintenance of these beliefs.\\n\\n[BELIEVER PERSPECTIVE]\\n\", additional_kwargs={}, response_metadata={})]\n",
            "Type of response: <class 'langchain_core.prompt_values.ChatPromptValue'>\n",
            "Dir of response: ['__abstractmethods__', '__annotations__', '__class__', '__class_getitem__', '__class_vars__', '__copy__', '__deepcopy__', '__delattr__', '__dict__', '__dir__', '__doc__', '__eq__', '__fields__', '__fields_set__', '__firstlineno__', '__format__', '__ge__', '__get_pydantic_core_schema__', '__get_pydantic_json_schema__', '__getattr__', '__getattribute__', '__getstate__', '__gt__', '__hash__', '__init__', '__init_subclass__', '__iter__', '__le__', '__lt__', '__module__', '__ne__', '__new__', '__pretty__', '__private_attributes__', '__pydantic_complete__', '__pydantic_computed_fields__', '__pydantic_core_schema__', '__pydantic_custom_init__', '__pydantic_decorators__', '__pydantic_extra__', '__pydantic_fields__', '__pydantic_fields_set__', '__pydantic_generic_metadata__', '__pydantic_init_subclass__', '__pydantic_parent_namespace__', '__pydantic_post_init__', '__pydantic_private__', '__pydantic_root_model__', '__pydantic_serializer__', '__pydantic_validator__', '__reduce__', '__reduce_ex__', '__replace__', '__repr__', '__repr_args__', '__repr_name__', '__repr_recursion__', '__repr_str__', '__rich_repr__', '__setattr__', '__setstate__', '__signature__', '__sizeof__', '__slots__', '__static_attributes__', '__str__', '__subclasshook__', '__weakref__', '_abc_impl', '_calculate_keys', '_check_frozen', '_copy_and_set_values', '_get_value', '_iter', 'construct', 'copy', 'dict', 'from_orm', 'get_lc_namespace', 'is_lc_serializable', 'json', 'lc_attributes', 'lc_id', 'lc_secrets', 'messages', 'model_computed_fields', 'model_config', 'model_construct', 'model_copy', 'model_dump', 'model_dump_json', 'model_extra', 'model_fields', 'model_fields_set', 'model_json_schema', 'model_parametrized_name', 'model_post_init', 'model_rebuild', 'model_validate', 'model_validate_json', 'model_validate_strings', 'parse_file', 'parse_obj', 'parse_raw', 'schema', 'schema_json', 'to_json', 'to_json_not_implemented', 'to_messages', 'to_string', 'update_forward_refs', 'validate']\n",
            "Response: messages=[HumanMessage(content=\"Given the following context, you must generate questions based on only the provided context.\\n\\nYou are to generate 2 questions which should be provided in the following format:\\n\\n1. QUESTION #1\\n2. QUESTION #2\\n...\\n\\nContext:\\nUnderstanding the psychological factors behind belief in conspiracy theories offers opportunities for constructive interventions. By enhancing critical thinking skills, building trust in institutions, and emphasizing emotional intelligence, we can help individuals navigate uncertainty without resorting to conspiratorial explanations.\\n\\n[CONCLUSION]\\n\\nAs we conclude our discussion, it's evident that understanding the psychological factors behind conspiracy theory belief is a multifaceted endeavor. By embracing the opportunities presented and navigating the risks thoughtfully, we can work towards a more informed, resilient, and united society.\\n\", additional_kwargs={}, response_metadata={})]\n",
            "Type of response: <class 'langchain_core.prompt_values.ChatPromptValue'>\n",
            "Dir of response: ['__abstractmethods__', '__annotations__', '__class__', '__class_getitem__', '__class_vars__', '__copy__', '__deepcopy__', '__delattr__', '__dict__', '__dir__', '__doc__', '__eq__', '__fields__', '__fields_set__', '__firstlineno__', '__format__', '__ge__', '__get_pydantic_core_schema__', '__get_pydantic_json_schema__', '__getattr__', '__getattribute__', '__getstate__', '__gt__', '__hash__', '__init__', '__init_subclass__', '__iter__', '__le__', '__lt__', '__module__', '__ne__', '__new__', '__pretty__', '__private_attributes__', '__pydantic_complete__', '__pydantic_computed_fields__', '__pydantic_core_schema__', '__pydantic_custom_init__', '__pydantic_decorators__', '__pydantic_extra__', '__pydantic_fields__', '__pydantic_fields_set__', '__pydantic_generic_metadata__', '__pydantic_init_subclass__', '__pydantic_parent_namespace__', '__pydantic_post_init__', '__pydantic_private__', '__pydantic_root_model__', '__pydantic_serializer__', '__pydantic_validator__', '__reduce__', '__reduce_ex__', '__replace__', '__repr__', '__repr_args__', '__repr_name__', '__repr_recursion__', '__repr_str__', '__rich_repr__', '__setattr__', '__setstate__', '__signature__', '__sizeof__', '__slots__', '__static_attributes__', '__str__', '__subclasshook__', '__weakref__', '_abc_impl', '_calculate_keys', '_check_frozen', '_copy_and_set_values', '_get_value', '_iter', 'construct', 'copy', 'dict', 'from_orm', 'get_lc_namespace', 'is_lc_serializable', 'json', 'lc_attributes', 'lc_id', 'lc_secrets', 'messages', 'model_computed_fields', 'model_config', 'model_construct', 'model_copy', 'model_dump', 'model_dump_json', 'model_extra', 'model_fields', 'model_fields_set', 'model_json_schema', 'model_parametrized_name', 'model_post_init', 'model_rebuild', 'model_validate', 'model_validate_json', 'model_validate_strings', 'parse_file', 'parse_obj', 'parse_raw', 'schema', 'schema_json', 'to_json', 'to_json_not_implemented', 'to_messages', 'to_string', 'update_forward_refs', 'validate']\n",
            "Response: messages=[HumanMessage(content=\"Given the following context, you must generate questions based on only the provided context.\\n\\nYou are to generate 2 questions which should be provided in the following format:\\n\\n1. QUESTION #1\\n2. QUESTION #2\\n...\\n\\nContext:\\nUrbanization and Biodiversity\\nTopic: Explain the impact of urbanization on biodiversity and ecosystems\\n\\n[INTRO]\\n\\nWelcome to our podcast where we delve into the impact of urbanization on biodiversity and ecosystems. Today, we'll explore the complexities surrounding this issue and discuss potential solutions for sustainable urban development.\\n\\n[SKEPTIC PERSPECTIVE]\\n\\nUrbanization has been shown to have detrimental effects on biodiversity and ecosystems. Fragmentation and isolation of habitats, introduction of invasive species, pollution, and climate change are among the key challenges highlighted.\\n\\n[BELIEVER PERSPECTIVE]\\n\", additional_kwargs={}, response_metadata={})]\n",
            "Type of response: <class 'langchain_core.prompt_values.ChatPromptValue'>\n",
            "Dir of response: ['__abstractmethods__', '__annotations__', '__class__', '__class_getitem__', '__class_vars__', '__copy__', '__deepcopy__', '__delattr__', '__dict__', '__dir__', '__doc__', '__eq__', '__fields__', '__fields_set__', '__firstlineno__', '__format__', '__ge__', '__get_pydantic_core_schema__', '__get_pydantic_json_schema__', '__getattr__', '__getattribute__', '__getstate__', '__gt__', '__hash__', '__init__', '__init_subclass__', '__iter__', '__le__', '__lt__', '__module__', '__ne__', '__new__', '__pretty__', '__private_attributes__', '__pydantic_complete__', '__pydantic_computed_fields__', '__pydantic_core_schema__', '__pydantic_custom_init__', '__pydantic_decorators__', '__pydantic_extra__', '__pydantic_fields__', '__pydantic_fields_set__', '__pydantic_generic_metadata__', '__pydantic_init_subclass__', '__pydantic_parent_namespace__', '__pydantic_post_init__', '__pydantic_private__', '__pydantic_root_model__', '__pydantic_serializer__', '__pydantic_validator__', '__reduce__', '__reduce_ex__', '__replace__', '__repr__', '__repr_args__', '__repr_name__', '__repr_recursion__', '__repr_str__', '__rich_repr__', '__setattr__', '__setstate__', '__signature__', '__sizeof__', '__slots__', '__static_attributes__', '__str__', '__subclasshook__', '__weakref__', '_abc_impl', '_calculate_keys', '_check_frozen', '_copy_and_set_values', '_get_value', '_iter', 'construct', 'copy', 'dict', 'from_orm', 'get_lc_namespace', 'is_lc_serializable', 'json', 'lc_attributes', 'lc_id', 'lc_secrets', 'messages', 'model_computed_fields', 'model_config', 'model_construct', 'model_copy', 'model_dump', 'model_dump_json', 'model_extra', 'model_fields', 'model_fields_set', 'model_json_schema', 'model_parametrized_name', 'model_post_init', 'model_rebuild', 'model_validate', 'model_validate_json', 'model_validate_strings', 'parse_file', 'parse_obj', 'parse_raw', 'schema', 'schema_json', 'to_json', 'to_json_not_implemented', 'to_messages', 'to_string', 'update_forward_refs', 'validate']\n",
            "Response: messages=[HumanMessage(content='Given the following context, you must generate questions based on only the provided context.\\n\\nYou are to generate 2 questions which should be provided in the following format:\\n\\n1. QUESTION #1\\n2. QUESTION #2\\n...\\n\\nContext:\\nBy incorporating green spaces, promoting urban wildlife conservation, and engaging communities in conservation efforts, urban areas can become hubs for biodiversity. Sustainable development practices, coupled with policy support for nature conservation, can create a harmonious balance between urban development and biodiversity preservation.\\n\\n[CONCLUSION]\\n\\nIn conclusion, addressing the impact of urbanization on biodiversity requires a multifaceted approach that considers environmental, social, and economic factors. By integrating green practices, engaging communities, and advocating for nature-friendly policies, urban areas can become thriving ecosystems that benefit both humans and wildlife.\\n', additional_kwargs={}, response_metadata={})]\n",
            "Type of response: <class 'langchain_core.prompt_values.ChatPromptValue'>\n",
            "Dir of response: ['__abstractmethods__', '__annotations__', '__class__', '__class_getitem__', '__class_vars__', '__copy__', '__deepcopy__', '__delattr__', '__dict__', '__dir__', '__doc__', '__eq__', '__fields__', '__fields_set__', '__firstlineno__', '__format__', '__ge__', '__get_pydantic_core_schema__', '__get_pydantic_json_schema__', '__getattr__', '__getattribute__', '__getstate__', '__gt__', '__hash__', '__init__', '__init_subclass__', '__iter__', '__le__', '__lt__', '__module__', '__ne__', '__new__', '__pretty__', '__private_attributes__', '__pydantic_complete__', '__pydantic_computed_fields__', '__pydantic_core_schema__', '__pydantic_custom_init__', '__pydantic_decorators__', '__pydantic_extra__', '__pydantic_fields__', '__pydantic_fields_set__', '__pydantic_generic_metadata__', '__pydantic_init_subclass__', '__pydantic_parent_namespace__', '__pydantic_post_init__', '__pydantic_private__', '__pydantic_root_model__', '__pydantic_serializer__', '__pydantic_validator__', '__reduce__', '__reduce_ex__', '__replace__', '__repr__', '__repr_args__', '__repr_name__', '__repr_recursion__', '__repr_str__', '__rich_repr__', '__setattr__', '__setstate__', '__signature__', '__sizeof__', '__slots__', '__static_attributes__', '__str__', '__subclasshook__', '__weakref__', '_abc_impl', '_calculate_keys', '_check_frozen', '_copy_and_set_values', '_get_value', '_iter', 'construct', 'copy', 'dict', 'from_orm', 'get_lc_namespace', 'is_lc_serializable', 'json', 'lc_attributes', 'lc_id', 'lc_secrets', 'messages', 'model_computed_fields', 'model_config', 'model_construct', 'model_copy', 'model_dump', 'model_dump_json', 'model_extra', 'model_fields', 'model_fields_set', 'model_json_schema', 'model_parametrized_name', 'model_post_init', 'model_rebuild', 'model_validate', 'model_validate_json', 'model_validate_strings', 'parse_file', 'parse_obj', 'parse_raw', 'schema', 'schema_json', 'to_json', 'to_json_not_implemented', 'to_messages', 'to_string', 'update_forward_refs', 'validate']\n",
            "Response: messages=[HumanMessage(content=\"Given the following context, you must generate questions based on only the provided context.\\n\\nYou are to generate 2 questions which should be provided in the following format:\\n\\n1. QUESTION #1\\n2. QUESTION #2\\n...\\n\\nContext:\\nNutrition and Mental Health\\nTopic: How does nutrition affect mental health and cognitive function?\\n\\n[INTRO]\\n\\nWelcome to our podcast where we explore the intriguing connection between nutrition and mental health. Today, we dive into a debate surrounding the impact of diet on cognitive function and well-being.\\n\\n[SKEPTIC PERSPECTIVE]\\n\\nIt's crucial to acknowledge that while nutrient deficiencies can affect mental health and cognition, individual responses to diet vary significantly due to genetic factors and health conditions. This variability complicates the direct link between nutrition and brain function.\\n\\n[BELIEVER PERSPECTIVE]\\n\", additional_kwargs={}, response_metadata={})]\n",
            "Type of response: <class 'langchain_core.prompt_values.ChatPromptValue'>\n",
            "Dir of response: ['__abstractmethods__', '__annotations__', '__class__', '__class_getitem__', '__class_vars__', '__copy__', '__deepcopy__', '__delattr__', '__dict__', '__dir__', '__doc__', '__eq__', '__fields__', '__fields_set__', '__firstlineno__', '__format__', '__ge__', '__get_pydantic_core_schema__', '__get_pydantic_json_schema__', '__getattr__', '__getattribute__', '__getstate__', '__gt__', '__hash__', '__init__', '__init_subclass__', '__iter__', '__le__', '__lt__', '__module__', '__ne__', '__new__', '__pretty__', '__private_attributes__', '__pydantic_complete__', '__pydantic_computed_fields__', '__pydantic_core_schema__', '__pydantic_custom_init__', '__pydantic_decorators__', '__pydantic_extra__', '__pydantic_fields__', '__pydantic_fields_set__', '__pydantic_generic_metadata__', '__pydantic_init_subclass__', '__pydantic_parent_namespace__', '__pydantic_post_init__', '__pydantic_private__', '__pydantic_root_model__', '__pydantic_serializer__', '__pydantic_validator__', '__reduce__', '__reduce_ex__', '__replace__', '__repr__', '__repr_args__', '__repr_name__', '__repr_recursion__', '__repr_str__', '__rich_repr__', '__setattr__', '__setstate__', '__signature__', '__sizeof__', '__slots__', '__static_attributes__', '__str__', '__subclasshook__', '__weakref__', '_abc_impl', '_calculate_keys', '_check_frozen', '_copy_and_set_values', '_get_value', '_iter', 'construct', 'copy', 'dict', 'from_orm', 'get_lc_namespace', 'is_lc_serializable', 'json', 'lc_attributes', 'lc_id', 'lc_secrets', 'messages', 'model_computed_fields', 'model_config', 'model_construct', 'model_copy', 'model_dump', 'model_dump_json', 'model_extra', 'model_fields', 'model_fields_set', 'model_json_schema', 'model_parametrized_name', 'model_post_init', 'model_rebuild', 'model_validate', 'model_validate_json', 'model_validate_strings', 'parse_file', 'parse_obj', 'parse_raw', 'schema', 'schema_json', 'to_json', 'to_json_not_implemented', 'to_messages', 'to_string', 'update_forward_refs', 'validate']\n",
            "Response: messages=[HumanMessage(content=\"Given the following context, you must generate questions based on only the provided context.\\n\\nYou are to generate 2 questions which should be provided in the following format:\\n\\n1. QUESTION #1\\n2. QUESTION #2\\n...\\n\\nContext:\\nNutrient deficiencies can be addressed proactively through balanced diets and targeted supplementation, potentially alleviating symptoms of depression and cognitive decline. The gut-brain connection underscores the importance of a nutritious diet in maintaining mental clarity and emotional well-being.\\n\\n[CONCLUSION]\\n\\nAs we wrap up, it's clear that the relationship between nutrition and mental health is multifaceted. By acknowledging the challenges and opportunities, we can strive for a balanced approach that maximizes the benefits of a healthy diet while addressing the risks involved.\\n        \\n\\n\\nRenewable Energy Storage Solutions\\nTopic: What are the latest advances in renewable energy storage solutions?\\n\\n[INTRO]\\n\", additional_kwargs={}, response_metadata={})]\n",
            "Type of response: <class 'langchain_core.prompt_values.ChatPromptValue'>\n",
            "Dir of response: ['__abstractmethods__', '__annotations__', '__class__', '__class_getitem__', '__class_vars__', '__copy__', '__deepcopy__', '__delattr__', '__dict__', '__dir__', '__doc__', '__eq__', '__fields__', '__fields_set__', '__firstlineno__', '__format__', '__ge__', '__get_pydantic_core_schema__', '__get_pydantic_json_schema__', '__getattr__', '__getattribute__', '__getstate__', '__gt__', '__hash__', '__init__', '__init_subclass__', '__iter__', '__le__', '__lt__', '__module__', '__ne__', '__new__', '__pretty__', '__private_attributes__', '__pydantic_complete__', '__pydantic_computed_fields__', '__pydantic_core_schema__', '__pydantic_custom_init__', '__pydantic_decorators__', '__pydantic_extra__', '__pydantic_fields__', '__pydantic_fields_set__', '__pydantic_generic_metadata__', '__pydantic_init_subclass__', '__pydantic_parent_namespace__', '__pydantic_post_init__', '__pydantic_private__', '__pydantic_root_model__', '__pydantic_serializer__', '__pydantic_validator__', '__reduce__', '__reduce_ex__', '__replace__', '__repr__', '__repr_args__', '__repr_name__', '__repr_recursion__', '__repr_str__', '__rich_repr__', '__setattr__', '__setstate__', '__signature__', '__sizeof__', '__slots__', '__static_attributes__', '__str__', '__subclasshook__', '__weakref__', '_abc_impl', '_calculate_keys', '_check_frozen', '_copy_and_set_values', '_get_value', '_iter', 'construct', 'copy', 'dict', 'from_orm', 'get_lc_namespace', 'is_lc_serializable', 'json', 'lc_attributes', 'lc_id', 'lc_secrets', 'messages', 'model_computed_fields', 'model_config', 'model_construct', 'model_copy', 'model_dump', 'model_dump_json', 'model_extra', 'model_fields', 'model_fields_set', 'model_json_schema', 'model_parametrized_name', 'model_post_init', 'model_rebuild', 'model_validate', 'model_validate_json', 'model_validate_strings', 'parse_file', 'parse_obj', 'parse_raw', 'schema', 'schema_json', 'to_json', 'to_json_not_implemented', 'to_messages', 'to_string', 'update_forward_refs', 'validate']\n",
            "Response: messages=[HumanMessage(content=\"Given the following context, you must generate questions based on only the provided context.\\n\\nYou are to generate 2 questions which should be provided in the following format:\\n\\n1. QUESTION #1\\n2. QUESTION #2\\n...\\n\\nContext:\\n[INTRO]\\n\\nWelcome to the Renewable Energy Revolution podcast, where we explore the latest advances in renewable energy storage solutions. Today, we dive into a debate between skeptics and believers on the opportunities and risks surrounding these innovations.\\n\\n[SKEPTIC PERSPECTIVE]\\n\\nWhile the advancements in renewable energy storage solutions show promise, it's essential to consider the challenges they pose. The cost, scalability, resource dependency, reliability, regulatory frameworks, cybersecurity concerns, and environmental impact are critical factors that need attention.\\n\\n[BELIEVER PERSPECTIVE]\\n\", additional_kwargs={}, response_metadata={})]\n",
            "Type of response: <class 'langchain_core.prompt_values.ChatPromptValue'>\n",
            "Dir of response: ['__abstractmethods__', '__annotations__', '__class__', '__class_getitem__', '__class_vars__', '__copy__', '__deepcopy__', '__delattr__', '__dict__', '__dir__', '__doc__', '__eq__', '__fields__', '__fields_set__', '__firstlineno__', '__format__', '__ge__', '__get_pydantic_core_schema__', '__get_pydantic_json_schema__', '__getattr__', '__getattribute__', '__getstate__', '__gt__', '__hash__', '__init__', '__init_subclass__', '__iter__', '__le__', '__lt__', '__module__', '__ne__', '__new__', '__pretty__', '__private_attributes__', '__pydantic_complete__', '__pydantic_computed_fields__', '__pydantic_core_schema__', '__pydantic_custom_init__', '__pydantic_decorators__', '__pydantic_extra__', '__pydantic_fields__', '__pydantic_fields_set__', '__pydantic_generic_metadata__', '__pydantic_init_subclass__', '__pydantic_parent_namespace__', '__pydantic_post_init__', '__pydantic_private__', '__pydantic_root_model__', '__pydantic_serializer__', '__pydantic_validator__', '__reduce__', '__reduce_ex__', '__replace__', '__repr__', '__repr_args__', '__repr_name__', '__repr_recursion__', '__repr_str__', '__rich_repr__', '__setattr__', '__setstate__', '__signature__', '__sizeof__', '__slots__', '__static_attributes__', '__str__', '__subclasshook__', '__weakref__', '_abc_impl', '_calculate_keys', '_check_frozen', '_copy_and_set_values', '_get_value', '_iter', 'construct', 'copy', 'dict', 'from_orm', 'get_lc_namespace', 'is_lc_serializable', 'json', 'lc_attributes', 'lc_id', 'lc_secrets', 'messages', 'model_computed_fields', 'model_config', 'model_construct', 'model_copy', 'model_dump', 'model_dump_json', 'model_extra', 'model_fields', 'model_fields_set', 'model_json_schema', 'model_parametrized_name', 'model_post_init', 'model_rebuild', 'model_validate', 'model_validate_json', 'model_validate_strings', 'parse_file', 'parse_obj', 'parse_raw', 'schema', 'schema_json', 'to_json', 'to_json_not_implemented', 'to_messages', 'to_string', 'update_forward_refs', 'validate']\n",
            "Response: messages=[HumanMessage(content=\"Given the following context, you must generate questions based on only the provided context.\\n\\nYou are to generate 2 questions which should be provided in the following format:\\n\\n1. QUESTION #1\\n2. QUESTION #2\\n...\\n\\nContext:\\nThe latest advances offer exciting opportunities to transform our energy landscape. Zinc-Air and Sodium-Ion batteries, AI-driven systems, cutting-edge innovations, and battery energy storage systems present efficient and sustainable solutions.\\n\\n[CONCLUSION]\\n\\nAs we wrap up, it's clear that renewable energy storage solutions hold immense potential in transforming our energy landscape. By addressing the challenges and leveraging the opportunities, we can create dynamic and sustainable energy systems for the future.\\n        \\n\\n\\nGut Bacteria and Human Health\\nTopic: Explain the role of gut bacteria in human health and disease\\n\\n[INTRO]\\n\", additional_kwargs={}, response_metadata={})]\n",
            "Type of response: <class 'langchain_core.prompt_values.ChatPromptValue'>\n",
            "Dir of response: ['__abstractmethods__', '__annotations__', '__class__', '__class_getitem__', '__class_vars__', '__copy__', '__deepcopy__', '__delattr__', '__dict__', '__dir__', '__doc__', '__eq__', '__fields__', '__fields_set__', '__firstlineno__', '__format__', '__ge__', '__get_pydantic_core_schema__', '__get_pydantic_json_schema__', '__getattr__', '__getattribute__', '__getstate__', '__gt__', '__hash__', '__init__', '__init_subclass__', '__iter__', '__le__', '__lt__', '__module__', '__ne__', '__new__', '__pretty__', '__private_attributes__', '__pydantic_complete__', '__pydantic_computed_fields__', '__pydantic_core_schema__', '__pydantic_custom_init__', '__pydantic_decorators__', '__pydantic_extra__', '__pydantic_fields__', '__pydantic_fields_set__', '__pydantic_generic_metadata__', '__pydantic_init_subclass__', '__pydantic_parent_namespace__', '__pydantic_post_init__', '__pydantic_private__', '__pydantic_root_model__', '__pydantic_serializer__', '__pydantic_validator__', '__reduce__', '__reduce_ex__', '__replace__', '__repr__', '__repr_args__', '__repr_name__', '__repr_recursion__', '__repr_str__', '__rich_repr__', '__setattr__', '__setstate__', '__signature__', '__sizeof__', '__slots__', '__static_attributes__', '__str__', '__subclasshook__', '__weakref__', '_abc_impl', '_calculate_keys', '_check_frozen', '_copy_and_set_values', '_get_value', '_iter', 'construct', 'copy', 'dict', 'from_orm', 'get_lc_namespace', 'is_lc_serializable', 'json', 'lc_attributes', 'lc_id', 'lc_secrets', 'messages', 'model_computed_fields', 'model_config', 'model_construct', 'model_copy', 'model_dump', 'model_dump_json', 'model_extra', 'model_fields', 'model_fields_set', 'model_json_schema', 'model_parametrized_name', 'model_post_init', 'model_rebuild', 'model_validate', 'model_validate_json', 'model_validate_strings', 'parse_file', 'parse_obj', 'parse_raw', 'schema', 'schema_json', 'to_json', 'to_json_not_implemented', 'to_messages', 'to_string', 'update_forward_refs', 'validate']\n",
            "Response: messages=[HumanMessage(content='Given the following context, you must generate questions based on only the provided context.\\n\\nYou are to generate 2 questions which should be provided in the following format:\\n\\n1. QUESTION #1\\n2. QUESTION #2\\n...\\n\\nContext:\\n[INTRO]\\n\\nWelcome to \"Health Matters,\" where we delve into the fascinating world of human health and well-being. Today, we\\'re exploring the intricate relationship between gut bacteria and human health.\\n\\n[SKEPTIC PERSPECTIVE]\\n\\nThe diversity of gut microbiota among individuals poses a significant challenge in establishing universal guidelines or treatments. Additionally, determining causation versus correlation in studies linking gut bacteria to health conditions remains a complex task.\\n\\n[BELIEVER PERSPECTIVE]\\n\\nPersonalized health interventions based on gut microbiota analysis offer a tailored approach to improving health outcomes. By optimizing diets and developing targeted therapies, we can revolutionize disease management.\\n\\n[CONCLUSION]\\n', additional_kwargs={}, response_metadata={})]\n",
            "Type of response: <class 'langchain_core.prompt_values.ChatPromptValue'>\n",
            "Dir of response: ['__abstractmethods__', '__annotations__', '__class__', '__class_getitem__', '__class_vars__', '__copy__', '__deepcopy__', '__delattr__', '__dict__', '__dir__', '__doc__', '__eq__', '__fields__', '__fields_set__', '__firstlineno__', '__format__', '__ge__', '__get_pydantic_core_schema__', '__get_pydantic_json_schema__', '__getattr__', '__getattribute__', '__getstate__', '__gt__', '__hash__', '__init__', '__init_subclass__', '__iter__', '__le__', '__lt__', '__module__', '__ne__', '__new__', '__pretty__', '__private_attributes__', '__pydantic_complete__', '__pydantic_computed_fields__', '__pydantic_core_schema__', '__pydantic_custom_init__', '__pydantic_decorators__', '__pydantic_extra__', '__pydantic_fields__', '__pydantic_fields_set__', '__pydantic_generic_metadata__', '__pydantic_init_subclass__', '__pydantic_parent_namespace__', '__pydantic_post_init__', '__pydantic_private__', '__pydantic_root_model__', '__pydantic_serializer__', '__pydantic_validator__', '__reduce__', '__reduce_ex__', '__replace__', '__repr__', '__repr_args__', '__repr_name__', '__repr_recursion__', '__repr_str__', '__rich_repr__', '__setattr__', '__setstate__', '__signature__', '__sizeof__', '__slots__', '__static_attributes__', '__str__', '__subclasshook__', '__weakref__', '_abc_impl', '_calculate_keys', '_check_frozen', '_copy_and_set_values', '_get_value', '_iter', 'construct', 'copy', 'dict', 'from_orm', 'get_lc_namespace', 'is_lc_serializable', 'json', 'lc_attributes', 'lc_id', 'lc_secrets', 'messages', 'model_computed_fields', 'model_config', 'model_construct', 'model_copy', 'model_dump', 'model_dump_json', 'model_extra', 'model_fields', 'model_fields_set', 'model_json_schema', 'model_parametrized_name', 'model_post_init', 'model_rebuild', 'model_validate', 'model_validate_json', 'model_validate_strings', 'parse_file', 'parse_obj', 'parse_raw', 'schema', 'schema_json', 'to_json', 'to_json_not_implemented', 'to_messages', 'to_string', 'update_forward_refs', 'validate']\n",
            "Response: messages=[HumanMessage(content='Given the following context, you must generate questions based on only the provided context.\\n\\nYou are to generate 2 questions which should be provided in the following format:\\n\\n1. QUESTION #1\\n2. QUESTION #2\\n...\\n\\nContext:\\n[CONCLUSION]\\n\\nAs we wrap up, it\\'s clear that understanding the complexities and potentials of our gut microbiota is a crucial step towards a healthier tomorrow. Stay tuned for more insightful discussions on \"Health Matters.\"\\n        \\n\\n\\nAugmented Reality in Education\\nTopic: How is augmented reality changing education and professional training?\\n\\n[INTRO]\\n\\nWelcome to the TechEd Talk podcast, where we explore the intersection of technology and education. Today, we dive into the fascinating realm of augmented reality and its impact on education and professional training.\\n\\n[SKEPTIC PERSPECTIVE]\\n', additional_kwargs={}, response_metadata={})]\n",
            "Type of response: <class 'langchain_core.prompt_values.ChatPromptValue'>\n",
            "Dir of response: ['__abstractmethods__', '__annotations__', '__class__', '__class_getitem__', '__class_vars__', '__copy__', '__deepcopy__', '__delattr__', '__dict__', '__dir__', '__doc__', '__eq__', '__fields__', '__fields_set__', '__firstlineno__', '__format__', '__ge__', '__get_pydantic_core_schema__', '__get_pydantic_json_schema__', '__getattr__', '__getattribute__', '__getstate__', '__gt__', '__hash__', '__init__', '__init_subclass__', '__iter__', '__le__', '__lt__', '__module__', '__ne__', '__new__', '__pretty__', '__private_attributes__', '__pydantic_complete__', '__pydantic_computed_fields__', '__pydantic_core_schema__', '__pydantic_custom_init__', '__pydantic_decorators__', '__pydantic_extra__', '__pydantic_fields__', '__pydantic_fields_set__', '__pydantic_generic_metadata__', '__pydantic_init_subclass__', '__pydantic_parent_namespace__', '__pydantic_post_init__', '__pydantic_private__', '__pydantic_root_model__', '__pydantic_serializer__', '__pydantic_validator__', '__reduce__', '__reduce_ex__', '__replace__', '__repr__', '__repr_args__', '__repr_name__', '__repr_recursion__', '__repr_str__', '__rich_repr__', '__setattr__', '__setstate__', '__signature__', '__sizeof__', '__slots__', '__static_attributes__', '__str__', '__subclasshook__', '__weakref__', '_abc_impl', '_calculate_keys', '_check_frozen', '_copy_and_set_values', '_get_value', '_iter', 'construct', 'copy', 'dict', 'from_orm', 'get_lc_namespace', 'is_lc_serializable', 'json', 'lc_attributes', 'lc_id', 'lc_secrets', 'messages', 'model_computed_fields', 'model_config', 'model_construct', 'model_copy', 'model_dump', 'model_dump_json', 'model_extra', 'model_fields', 'model_fields_set', 'model_json_schema', 'model_parametrized_name', 'model_post_init', 'model_rebuild', 'model_validate', 'model_validate_json', 'model_validate_strings', 'parse_file', 'parse_obj', 'parse_raw', 'schema', 'schema_json', 'to_json', 'to_json_not_implemented', 'to_messages', 'to_string', 'update_forward_refs', 'validate']\n",
            "Response: messages=[HumanMessage(content=\"Given the following context, you must generate questions based on only the provided context.\\n\\nYou are to generate 2 questions which should be provided in the following format:\\n\\n1. QUESTION #1\\n2. QUESTION #2\\n...\\n\\nContext:\\nWhen discussing the integration of augmented reality (AR) in education and professional training, it's crucial to acknowledge the challenges that may arise. Cost and Access, Technical Issues, Training and Support for educators, Privacy and Ethical Concerns, and Content Quality and Pedagogical Integration are vital considerations.\\n\\n[BELIEVER PERSPECTIVE]\\n\\nAugmented reality offers a plethora of benefits in education and professional training. It provides Enhanced Learning Experiences through interactivity and immersion, Cost-Effective Training Solutions, Improved Accessibility and Inclusivity for all learners, and Collaborative Teaching Methods.\\n\\n[CONCLUSION]\\n\", additional_kwargs={}, response_metadata={})]\n",
            "Type of response: <class 'langchain_core.prompt_values.ChatPromptValue'>\n",
            "Dir of response: ['__abstractmethods__', '__annotations__', '__class__', '__class_getitem__', '__class_vars__', '__copy__', '__deepcopy__', '__delattr__', '__dict__', '__dir__', '__doc__', '__eq__', '__fields__', '__fields_set__', '__firstlineno__', '__format__', '__ge__', '__get_pydantic_core_schema__', '__get_pydantic_json_schema__', '__getattr__', '__getattribute__', '__getstate__', '__gt__', '__hash__', '__init__', '__init_subclass__', '__iter__', '__le__', '__lt__', '__module__', '__ne__', '__new__', '__pretty__', '__private_attributes__', '__pydantic_complete__', '__pydantic_computed_fields__', '__pydantic_core_schema__', '__pydantic_custom_init__', '__pydantic_decorators__', '__pydantic_extra__', '__pydantic_fields__', '__pydantic_fields_set__', '__pydantic_generic_metadata__', '__pydantic_init_subclass__', '__pydantic_parent_namespace__', '__pydantic_post_init__', '__pydantic_private__', '__pydantic_root_model__', '__pydantic_serializer__', '__pydantic_validator__', '__reduce__', '__reduce_ex__', '__replace__', '__repr__', '__repr_args__', '__repr_name__', '__repr_recursion__', '__repr_str__', '__rich_repr__', '__setattr__', '__setstate__', '__signature__', '__sizeof__', '__slots__', '__static_attributes__', '__str__', '__subclasshook__', '__weakref__', '_abc_impl', '_calculate_keys', '_check_frozen', '_copy_and_set_values', '_get_value', '_iter', 'construct', 'copy', 'dict', 'from_orm', 'get_lc_namespace', 'is_lc_serializable', 'json', 'lc_attributes', 'lc_id', 'lc_secrets', 'messages', 'model_computed_fields', 'model_config', 'model_construct', 'model_copy', 'model_dump', 'model_dump_json', 'model_extra', 'model_fields', 'model_fields_set', 'model_json_schema', 'model_parametrized_name', 'model_post_init', 'model_rebuild', 'model_validate', 'model_validate_json', 'model_validate_strings', 'parse_file', 'parse_obj', 'parse_raw', 'schema', 'schema_json', 'to_json', 'to_json_not_implemented', 'to_messages', 'to_string', 'update_forward_refs', 'validate']\n",
            "Response: messages=[HumanMessage(content=\"Given the following context, you must generate questions based on only the provided context.\\n\\nYou are to generate 2 questions which should be provided in the following format:\\n\\n1. QUESTION #1\\n2. QUESTION #2\\n...\\n\\nContext:\\n[CONCLUSION]\\n\\nAs we wrap up, it's clear that augmented reality holds immense potential in transforming education and professional training. By addressing the challenges and leveraging the opportunities, we can create dynamic and engaging learning environments for all stakeholders involved.\\n\", additional_kwargs={}, response_metadata={})]\n"
          ]
        }
      ],
      "source": [
        "test_questions, test_relevant_contexts = await create_questions(test_split_documents, 2)"
      ]
    },
    {
      "cell_type": "markdown",
      "metadata": {
        "id": "K_jYOnAI43zK"
      },
      "source": [
        "### Reformating and Saving Datasets"
      ]
    },
    {
      "cell_type": "code",
      "execution_count": 31,
      "metadata": {
        "id": "iF6IFFq9VsNu"
      },
      "outputs": [],
      "source": [
        "import json\n",
        "\n",
        "training_corpus = {train_item.metadata[\"id\"] : train_item.page_content for train_item in training_split_documents}\n",
        "\n",
        "train_dataset = {\n",
        "    \"questions\" : training_questions,\n",
        "    \"relevant_contexts\" : training_relevant_contexts,\n",
        "    \"corpus\" : training_corpus\n",
        "}\n",
        "\n",
        "with open(\"training_dataset.jsonl\", \"w\") as f:\n",
        "  json.dump(train_dataset, f)"
      ]
    },
    {
      "cell_type": "code",
      "execution_count": 32,
      "metadata": {
        "id": "PqF9WaueV-V8"
      },
      "outputs": [],
      "source": [
        "val_corpus = {val_item.metadata[\"id\"] : val_item.page_content for val_item in val_split_documents}\n",
        "\n",
        "val_dataset = {\n",
        "    \"questions\" : val_questions,\n",
        "    \"relevant_contexts\" : val_relevant_contexts,\n",
        "    \"corpus\" : val_corpus\n",
        "}\n",
        "\n",
        "with open(\"val_dataset.jsonl\", \"w\") as f:\n",
        "  json.dump(val_dataset, f)"
      ]
    },
    {
      "cell_type": "code",
      "execution_count": 33,
      "metadata": {
        "id": "0DSQ7WMnWAu6"
      },
      "outputs": [],
      "source": [
        "train_corpus = {test_item.metadata[\"id\"] : test_item.page_content for test_item in test_split_documents}\n",
        "\n",
        "test_dataset = {\n",
        "    \"questions\" : test_questions,\n",
        "    \"relevant_contexts\" : test_relevant_contexts,\n",
        "    \"corpus\" : train_corpus\n",
        "}\n",
        "\n",
        "with open(\"test_dataset.jsonl\", \"w\") as f:\n",
        "  json.dump(test_dataset, f)"
      ]
    },
    {
      "cell_type": "markdown",
      "metadata": {
        "id": "vAwklqQCgVi-"
      },
      "source": [
        "## Task 4: Fine-tuning "
      ]
    },
    {
      "cell_type": "code",
      "execution_count": 34,
      "metadata": {
        "colab": {
          "base_uri": "https://localhost:8080/"
        },
        "id": "G-PGsQB7Xo6V",
        "outputId": "8df58392-a82b-45f9-ce4e-b4155522e2c6"
      },
      "outputs": [],
      "source": [
        "from sentence_transformers import SentenceTransformer\n",
        "\n",
        "model_id = \"sentence-transformers/all-MiniLM-L6-v2\"\n",
        "model = SentenceTransformer(model_id)"
      ]
    },
    {
      "cell_type": "code",
      "execution_count": 35,
      "metadata": {
        "id": "B-WbpuUWYFJr"
      },
      "outputs": [],
      "source": [
        "from torch.utils.data import DataLoader\n",
        "from torch.utils.data import Dataset\n",
        "from sentence_transformers import InputExample"
      ]
    },
    {
      "cell_type": "code",
      "execution_count": 36,
      "metadata": {
        "id": "8Lokhy6KYHAv"
      },
      "outputs": [],
      "source": [
        "BATCH_SIZE = 5"
      ]
    },
    {
      "cell_type": "markdown",
      "metadata": {
        "id": "b-6DT8hc8PmT"
      },
      "source": [
        "Let's move our dataset into the expected format for training."
      ]
    },
    {
      "cell_type": "code",
      "execution_count": 37,
      "metadata": {
        "id": "JJk37zQsYJ4P"
      },
      "outputs": [],
      "source": [
        "corpus = train_dataset['corpus']\n",
        "queries = train_dataset['questions']\n",
        "relevant_docs = train_dataset['relevant_contexts']\n",
        "\n",
        "examples = []\n",
        "for query_id, query in queries.items():\n",
        "    doc_id = relevant_docs[query_id][0]\n",
        "    text = corpus[doc_id]\n",
        "    example = InputExample(texts=[query, text])\n",
        "    examples.append(example)"
      ]
    },
    {
      "cell_type": "code",
      "execution_count": 38,
      "metadata": {
        "id": "tiizmeIqZ_-w"
      },
      "outputs": [],
      "source": [
        "loader = DataLoader(\n",
        "    examples, batch_size=BATCH_SIZE\n",
        ")"
      ]
    },
    {
      "cell_type": "code",
      "execution_count": 44,
      "metadata": {
        "id": "Uga4nnBqlVeh"
      },
      "outputs": [],
      "source": [
        "from sentence_transformers.losses import MatryoshkaLoss, MultipleNegativesRankingLoss\n",
        "\n",
        "matryoshka_dimensions = [48, 96, 192, 384]\n",
        "inner_train_loss = MultipleNegativesRankingLoss(model)\n",
        "train_loss = MatryoshkaLoss(\n",
        "    model, inner_train_loss, matryoshka_dims=matryoshka_dimensions\n",
        ")"
      ]
    },
    {
      "cell_type": "code",
      "execution_count": 45,
      "metadata": {
        "id": "f0hAFwUyaHQG"
      },
      "outputs": [],
      "source": [
        "from sentence_transformers.evaluation import InformationRetrievalEvaluator\n",
        "\n",
        "corpus = val_dataset['corpus']\n",
        "queries = val_dataset['questions']\n",
        "relevant_docs = val_dataset['relevant_contexts']\n",
        "\n",
        "evaluator = InformationRetrievalEvaluator(queries, corpus, relevant_docs)"
      ]
    },
    {
      "cell_type": "code",
      "execution_count": 46,
      "metadata": {
        "id": "svZG0pBHiQr6"
      },
      "outputs": [],
      "source": [
        "EPOCHS = 5"
      ]
    },
    {
      "cell_type": "code",
      "execution_count": 47,
      "metadata": {},
      "outputs": [
        {
          "data": {
            "text/html": [
              "Changes to your `wandb` environment variables will be ignored because your `wandb` session has already started. For more information on how to modify your settings with `wandb.init()` arguments, please refer to <a href='https://wandb.me/wandb-init' target=\"_blank\">the W&B docs</a>."
            ],
            "text/plain": [
              "<IPython.core.display.HTML object>"
            ]
          },
          "metadata": {},
          "output_type": "display_data"
        },
        {
          "data": {
            "text/html": [
              "<button onClick=\"this.nextSibling.style.display='block';this.style.display='none';\">Display W&B run</button><iframe src='https://wandb.ai/dummy/dummy/runs/9wp8bnex?jupyter=true' style='border:none;width:100%;height:420px;display:none;'></iframe>"
            ],
            "text/plain": [
              "<wandb.sdk.wandb_run.Run at 0x7f85078139d0>"
            ]
          },
          "execution_count": 47,
          "metadata": {},
          "output_type": "execute_result"
        }
      ],
      "source": [
        "import wandb\n",
        "wandb.init(mode=\"disabled\")"
      ]
    },
    {
      "cell_type": "code",
      "execution_count": 62,
      "metadata": {
        "colab": {
          "base_uri": "https://localhost:8080/",
          "height": 753,
          "referenced_widgets": [
            "0d3fc6edfdab4fe9aff8e805632eadad",
            "ebe8aa7a82124b57bce2d826c1dea0fa",
            "aa11c10b4234452d9430744ab89b59a2",
            "ca05cbcd72cb41d9856804ffb17b26cb",
            "cc2a33e9a7ac4c5699346fcbf53b7c95",
            "408f4dfce21a45cfad36047677ec8658",
            "ca5804644ef345c1b4f670fb7f088fe8",
            "2a872283afaa4a33a9bc3f9e57b3650b",
            "fe4d1052824c4ed29c38c5311087e650",
            "e283b1608c4d4266a03c57dc95aabb2e",
            "bfc4997e3bd94e66bebaa1ffdae1b99e"
          ]
        },
        "id": "aDhUHZY-iR09",
        "outputId": "6dbd9320-f7b9-46d6-b891-efdd12086631"
      },
      "outputs": [
        {
          "data": {
            "text/html": [
              "\n",
              "    <div>\n",
              "      \n",
              "      <progress value='65' max='65' style='width:300px; height:20px; vertical-align: middle;'></progress>\n",
              "      [65/65 00:05, Epoch 5/5]\n",
              "    </div>\n",
              "    <table border=\"1\" class=\"dataframe\">\n",
              "  <thead>\n",
              " <tr style=\"text-align: left;\">\n",
              "      <th>Step</th>\n",
              "      <th>Training Loss</th>\n",
              "      <th>Validation Loss</th>\n",
              "      <th>Cosine Accuracy@1</th>\n",
              "      <th>Cosine Accuracy@3</th>\n",
              "      <th>Cosine Accuracy@5</th>\n",
              "      <th>Cosine Accuracy@10</th>\n",
              "      <th>Cosine Precision@1</th>\n",
              "      <th>Cosine Precision@3</th>\n",
              "      <th>Cosine Precision@5</th>\n",
              "      <th>Cosine Precision@10</th>\n",
              "      <th>Cosine Recall@1</th>\n",
              "      <th>Cosine Recall@3</th>\n",
              "      <th>Cosine Recall@5</th>\n",
              "      <th>Cosine Recall@10</th>\n",
              "      <th>Cosine Ndcg@10</th>\n",
              "      <th>Cosine Mrr@10</th>\n",
              "      <th>Cosine Map@100</th>\n",
              "    </tr>\n",
              "  </thead>\n",
              "  <tbody>\n",
              "    <tr>\n",
              "      <td>13</td>\n",
              "      <td>No log</td>\n",
              "      <td>No log</td>\n",
              "      <td>0.541667</td>\n",
              "      <td>0.625000</td>\n",
              "      <td>0.708333</td>\n",
              "      <td>0.916667</td>\n",
              "      <td>0.541667</td>\n",
              "      <td>0.208333</td>\n",
              "      <td>0.141667</td>\n",
              "      <td>0.091667</td>\n",
              "      <td>0.541667</td>\n",
              "      <td>0.625000</td>\n",
              "      <td>0.708333</td>\n",
              "      <td>0.916667</td>\n",
              "      <td>0.689315</td>\n",
              "      <td>0.622040</td>\n",
              "      <td>0.629300</td>\n",
              "    </tr>\n",
              "    <tr>\n",
              "      <td>26</td>\n",
              "      <td>No log</td>\n",
              "      <td>No log</td>\n",
              "      <td>0.541667</td>\n",
              "      <td>0.625000</td>\n",
              "      <td>0.708333</td>\n",
              "      <td>0.916667</td>\n",
              "      <td>0.541667</td>\n",
              "      <td>0.208333</td>\n",
              "      <td>0.141667</td>\n",
              "      <td>0.091667</td>\n",
              "      <td>0.541667</td>\n",
              "      <td>0.625000</td>\n",
              "      <td>0.708333</td>\n",
              "      <td>0.916667</td>\n",
              "      <td>0.689315</td>\n",
              "      <td>0.622040</td>\n",
              "      <td>0.629300</td>\n",
              "    </tr>\n",
              "    <tr>\n",
              "      <td>39</td>\n",
              "      <td>No log</td>\n",
              "      <td>No log</td>\n",
              "      <td>0.541667</td>\n",
              "      <td>0.625000</td>\n",
              "      <td>0.708333</td>\n",
              "      <td>0.916667</td>\n",
              "      <td>0.541667</td>\n",
              "      <td>0.208333</td>\n",
              "      <td>0.141667</td>\n",
              "      <td>0.091667</td>\n",
              "      <td>0.541667</td>\n",
              "      <td>0.625000</td>\n",
              "      <td>0.708333</td>\n",
              "      <td>0.916667</td>\n",
              "      <td>0.689315</td>\n",
              "      <td>0.622040</td>\n",
              "      <td>0.629300</td>\n",
              "    </tr>\n",
              "    <tr>\n",
              "      <td>50</td>\n",
              "      <td>No log</td>\n",
              "      <td>No log</td>\n",
              "      <td>0.541667</td>\n",
              "      <td>0.625000</td>\n",
              "      <td>0.708333</td>\n",
              "      <td>0.916667</td>\n",
              "      <td>0.541667</td>\n",
              "      <td>0.208333</td>\n",
              "      <td>0.141667</td>\n",
              "      <td>0.091667</td>\n",
              "      <td>0.541667</td>\n",
              "      <td>0.625000</td>\n",
              "      <td>0.708333</td>\n",
              "      <td>0.916667</td>\n",
              "      <td>0.689315</td>\n",
              "      <td>0.622040</td>\n",
              "      <td>0.629300</td>\n",
              "    </tr>\n",
              "    <tr>\n",
              "      <td>52</td>\n",
              "      <td>No log</td>\n",
              "      <td>No log</td>\n",
              "      <td>0.541667</td>\n",
              "      <td>0.625000</td>\n",
              "      <td>0.708333</td>\n",
              "      <td>0.916667</td>\n",
              "      <td>0.541667</td>\n",
              "      <td>0.208333</td>\n",
              "      <td>0.141667</td>\n",
              "      <td>0.091667</td>\n",
              "      <td>0.541667</td>\n",
              "      <td>0.625000</td>\n",
              "      <td>0.708333</td>\n",
              "      <td>0.916667</td>\n",
              "      <td>0.689315</td>\n",
              "      <td>0.622040</td>\n",
              "      <td>0.629300</td>\n",
              "    </tr>\n",
              "    <tr>\n",
              "      <td>65</td>\n",
              "      <td>No log</td>\n",
              "      <td>No log</td>\n",
              "      <td>0.541667</td>\n",
              "      <td>0.625000</td>\n",
              "      <td>0.708333</td>\n",
              "      <td>0.916667</td>\n",
              "      <td>0.541667</td>\n",
              "      <td>0.208333</td>\n",
              "      <td>0.141667</td>\n",
              "      <td>0.091667</td>\n",
              "      <td>0.541667</td>\n",
              "      <td>0.625000</td>\n",
              "      <td>0.708333</td>\n",
              "      <td>0.916667</td>\n",
              "      <td>0.689315</td>\n",
              "      <td>0.622040</td>\n",
              "      <td>0.629300</td>\n",
              "    </tr>\n",
              "  </tbody>\n",
              "</table><p>"
            ],
            "text/plain": [
              "<IPython.core.display.HTML object>"
            ]
          },
          "metadata": {},
          "output_type": "display_data"
        }
      ],
      "source": [
        "warmup_steps = int(len(loader) * EPOCHS * 0.1)\n",
        "\n",
        "model.fit(\n",
        "    train_objectives=[(loader, train_loss)],\n",
        "    epochs=EPOCHS,\n",
        "    warmup_steps=warmup_steps,\n",
        "    output_path='finetuned-minilm-l6-v2',\n",
        "    show_progress_bar=True,\n",
        "    evaluator=evaluator,\n",
        "    evaluation_steps=50\n",
        ")"
      ]
    },
    {
      "cell_type": "code",
      "execution_count": 49,
      "metadata": {
        "colab": {
          "base_uri": "https://localhost:8080/",
          "height": 17,
          "referenced_widgets": [
            "58699484312f460cb96ac44e3af14aa2",
            "d45a7d95e5b14a6f88d5798fec9c40a7",
            "b011a6ccf8e745c6be6f3a17b7d61dce",
            "1016780729b04ba489d488922173ddae",
            "9d34dac405fd40139d5dc04eecef55ed",
            "d6169577ffb341a69eb0175e301b6a44",
            "d4acc9a7aca04564bfaefe33de079394",
            "4e2c257232c3472697e03350de43cb30",
            "381c780ce17e4662981175400fb8a0f8",
            "878dc96f87dd45f389948a546db33e94",
            "006bf6f5ebaf400486a6b82610381db0",
            "9198dd0fa8f04aa7b75307aa2d513bfb",
            "59cd26ae53024fbd85431b6683cd119c",
            "4e7ccd97042c4fb9a201b6dc76762e04",
            "72ec09e2cbbf4788b1561abfcdd0819a",
            "fb1e19624fde4d3c8048ce00264d6056",
            "9638a0456e0c41b1b9b9757932f55c53",
            "18825dc83221412ab602830fc00db71b",
            "a6ea48a80c194d128959422368aa0e10",
            "9f4026c62c60493caa18c014ae414e65"
          ]
        },
        "id": "b3iwclvyRD8L",
        "outputId": "1471e984-9351-478c-de34-6eb32263fa30"
      },
      "outputs": [
        {
          "data": {
            "application/vnd.jupyter.widget-view+json": {
              "model_id": "27acdfbb69d04ef8a3826723c45ac92d",
              "version_major": 2,
              "version_minor": 0
            },
            "text/plain": [
              "VBox(children=(HTML(value='<center> <img\\nsrc=https://huggingface.co/front/assets/huggingface_logo-noborder.sv…"
            ]
          },
          "metadata": {},
          "output_type": "display_data"
        }
      ],
      "source": [
        "from huggingface_hub import notebook_login\n",
        "\n",
        "notebook_login()"
      ]
    },
    {
      "cell_type": "code",
      "execution_count": 50,
      "metadata": {
        "id": "_pn-Y6yjRoHk"
      },
      "outputs": [],
      "source": [
        "hf_username = \"dataera2013\""
      ]
    },
    {
      "cell_type": "code",
      "execution_count": 63,
      "metadata": {
        "colab": {
          "base_uri": "https://localhost:8080/",
          "height": 67,
          "referenced_widgets": [
            "e5c86e0e33264ed8b6325e44f9421653",
            "acf3991e5d644f468264f561b28b514a",
            "4a723c6a56e94309b2e3abe63f28aedc",
            "ef25768d3b0746b48c6d02e9bd151bf9",
            "cc1f0bc4a1a74568b9c74a7392a1568f",
            "95160a05de5b402b9bdb0bd2d099cd00",
            "cf376b0ea3544055b8867d7013526502",
            "869814ecd49e46f9a33dd53130e6953f",
            "cc7d460d3c5a4ac6a9b64929736d6598",
            "13e9bf583f6442d395334947379a280a",
            "1995b4d98fe044e38f1980d47033ca40"
          ]
        },
        "id": "Nqhf3zWa9AiJ",
        "outputId": "c601b2a8-f8e9-4d71-9c7b-8ea4999ff077"
      },
      "outputs": [
        {
          "data": {
            "application/vnd.jupyter.widget-view+json": {
              "model_id": "ccac428e9ee74cea95eeeaeaeddff74f",
              "version_major": 2,
              "version_minor": 0
            },
            "text/plain": [
              "model.safetensors:   0%|          | 0.00/90.9M [00:00<?, ?B/s]"
            ]
          },
          "metadata": {},
          "output_type": "display_data"
        },
        {
          "data": {
            "text/plain": [
              "'https://huggingface.co/dataera2013/midterm-small-model-2/commit/3e2bc609b5d19419e0c5b87b6b07feac51af8ebd'"
            ]
          },
          "execution_count": 63,
          "metadata": {},
          "output_type": "execute_result"
        }
      ],
      "source": [
        "model.push_to_hub(f\"{hf_username}/midterm-small-model-2\")"
      ]
    },
    {
      "cell_type": "markdown",
      "metadata": {
        "id": "6bo0zW5k9Poq"
      },
      "source": [
        "## Task 5: Evaluating our Retriever"
      ]
    },
    {
      "cell_type": "code",
      "execution_count": 64,
      "metadata": {
        "id": "Vq-2oqU0wHFr"
      },
      "outputs": [],
      "source": [
        "import pandas as pd\n",
        "\n",
        "from langchain_community.vectorstores import FAISS\n",
        "from langchain_openai.embeddings import OpenAIEmbeddings\n",
        "from langchain_core.documents import Document\n",
        "from tqdm.auto import tqdm"
      ]
    },
    {
      "cell_type": "code",
      "execution_count": 65,
      "metadata": {
        "id": "0713_3cowX4q"
      },
      "outputs": [],
      "source": [
        "def evaluate_openai(\n",
        "    dataset,\n",
        "    embed_model,\n",
        "    top_k=5,\n",
        "    verbose=False,\n",
        "):\n",
        "  corpus = dataset['corpus']\n",
        "  questions = dataset['questions']\n",
        "  relevant_docs = dataset['relevant_contexts']\n",
        "  documents = [Document(page_content=content, metadata={\"id\": doc_id}) for doc_id, content in corpus.items()]\n",
        "  vectorstore = FAISS.from_documents(documents, embed_model)\n",
        "\n",
        "  retriever = vectorstore.as_retriever(search_kwargs={\"k\": top_k})\n",
        "\n",
        "  eval_results = []\n",
        "  for id, question in tqdm(questions.items()):\n",
        "    retrieved_nodes = retriever.invoke(question)\n",
        "    retrieved_ids = [node.metadata[\"id\"] for node in retrieved_nodes]\n",
        "    expected_id = relevant_docs[id][0]\n",
        "    is_hit = expected_id in retrieved_ids\n",
        "    eval_results.append({\"id\": id, \"question\": question, \"expected_id\": expected_id, \"is_hit\": is_hit})\n",
        "\n",
        "  return eval_results"
      ]
    },
    {
      "cell_type": "markdown",
      "metadata": {
        "id": "ijaeYpf593IW"
      },
      "source": [
        "### `text-embedding-3-small`"
      ]
    },
    {
      "cell_type": "code",
      "execution_count": 66,
      "metadata": {
        "colab": {
          "base_uri": "https://localhost:8080/"
        },
        "id": "kyY3PztaxnU3",
        "outputId": "5a1ec5e9-00fc-4140-d5b6-aa752dd4c9fa"
      },
      "outputs": [
        {
          "data": {
            "application/vnd.jupyter.widget-view+json": {
              "model_id": "e864d41caf9943d99d587f5a2e552490",
              "version_major": 2,
              "version_minor": 0
            },
            "text/plain": [
              "  0%|          | 0/24 [00:00<?, ?it/s]"
            ]
          },
          "metadata": {},
          "output_type": "display_data"
        }
      ],
      "source": [
        "te3_openai = OpenAIEmbeddings(model=\"text-embedding-3-small\")\n",
        "te3_results = evaluate_openai(test_dataset, te3_openai)"
      ]
    },
    {
      "cell_type": "code",
      "execution_count": 68,
      "metadata": {
        "id": "kkyW90TCxx_i"
      },
      "outputs": [],
      "source": [
        "te3_results_df = pd.DataFrame(te3_results)"
      ]
    },
    {
      "cell_type": "code",
      "execution_count": 69,
      "metadata": {
        "colab": {
          "base_uri": "https://localhost:8080/"
        },
        "id": "MscVRdNCylJ-",
        "outputId": "275beff8-3c59-4063-8270-c01736b4ee05"
      },
      "outputs": [
        {
          "data": {
            "text/plain": [
              "np.float64(0.7083333333333334)"
            ]
          },
          "execution_count": 69,
          "metadata": {},
          "output_type": "execute_result"
        }
      ],
      "source": [
        "te3_hit_rate = te3_results_df[\"is_hit\"].mean()\n",
        "te3_hit_rate"
      ]
    },
    {
      "cell_type": "code",
      "execution_count": 70,
      "metadata": {
        "colab": {
          "base_uri": "https://localhost:8080/"
        },
        "id": "OEskxwvFypHe",
        "outputId": "a3aad8ce-48ef-4d8f-9ed0-122b1ec9a000"
      },
      "outputs": [
        {
          "data": {
            "application/vnd.jupyter.widget-view+json": {
              "model_id": "e4c0a4a8f9cb4483be9c56a2ea7c740b",
              "version_major": 2,
              "version_minor": 0
            },
            "text/plain": [
              "  0%|          | 0/24 [00:00<?, ?it/s]"
            ]
          },
          "metadata": {},
          "output_type": "display_data"
        }
      ],
      "source": [
        "from langchain_huggingface import HuggingFaceEmbeddings\n",
        "\n",
        "huggingface_embeddings = HuggingFaceEmbeddings(model_name=\"sentence-transformers/all-MiniLM-L6-v2\")\n",
        "arctic_embed_m_results = evaluate_openai(test_dataset, huggingface_embeddings)"
      ]
    },
    {
      "cell_type": "code",
      "execution_count": 71,
      "metadata": {
        "id": "KlKgiXTWzMTg"
      },
      "outputs": [],
      "source": [
        "arctic_embed_m_results_df = pd.DataFrame(arctic_embed_m_results)"
      ]
    },
    {
      "cell_type": "code",
      "execution_count": 72,
      "metadata": {},
      "outputs": [
        {
          "data": {
            "text/html": [
              "<div>\n",
              "<style scoped>\n",
              "    .dataframe tbody tr th:only-of-type {\n",
              "        vertical-align: middle;\n",
              "    }\n",
              "\n",
              "    .dataframe tbody tr th {\n",
              "        vertical-align: top;\n",
              "    }\n",
              "\n",
              "    .dataframe thead th {\n",
              "        text-align: right;\n",
              "    }\n",
              "</style>\n",
              "<table border=\"1\" class=\"dataframe\">\n",
              "  <thead>\n",
              "    <tr style=\"text-align: right;\">\n",
              "      <th></th>\n",
              "      <th>id</th>\n",
              "      <th>question</th>\n",
              "      <th>expected_id</th>\n",
              "      <th>is_hit</th>\n",
              "    </tr>\n",
              "  </thead>\n",
              "  <tbody>\n",
              "    <tr>\n",
              "      <th>0</th>\n",
              "      <td>802fc41d-f59f-4aeb-b4e0-40be6974385e</td>\n",
              "      <td>QUESTION #1\\n</td>\n",
              "      <td>5921600e-f987-4e8f-8e44-8bfae2ffbe8c</td>\n",
              "      <td>False</td>\n",
              "    </tr>\n",
              "    <tr>\n",
              "      <th>1</th>\n",
              "      <td>e7431897-c386-4de0-bdba-4d9fa442c953</td>\n",
              "      <td>QUESTION #2\\n...\\n\\nContext:\\n[INTRO]\\n\\nWelco...</td>\n",
              "      <td>5921600e-f987-4e8f-8e44-8bfae2ffbe8c</td>\n",
              "      <td>True</td>\n",
              "    </tr>\n",
              "    <tr>\n",
              "      <th>2</th>\n",
              "      <td>d08b7d43-657b-49f1-91f7-3b4d20a0d01f</td>\n",
              "      <td>QUESTION #1\\n</td>\n",
              "      <td>607b53c6-1622-4c81-af72-b6f738e5969a</td>\n",
              "      <td>True</td>\n",
              "    </tr>\n",
              "    <tr>\n",
              "      <th>3</th>\n",
              "      <td>e336d5f6-99b1-49ce-b15e-207f0973e6f9</td>\n",
              "      <td>QUESTION #2\\n...\\n\\nContext:\\nUnderstanding th...</td>\n",
              "      <td>607b53c6-1622-4c81-af72-b6f738e5969a</td>\n",
              "      <td>True</td>\n",
              "    </tr>\n",
              "    <tr>\n",
              "      <th>4</th>\n",
              "      <td>3038149e-df54-4321-86af-acd4d8a1b1d8</td>\n",
              "      <td>QUESTION #1\\n</td>\n",
              "      <td>9deabcd2-a0fc-4b06-98b6-144ad9528770</td>\n",
              "      <td>True</td>\n",
              "    </tr>\n",
              "    <tr>\n",
              "      <th>5</th>\n",
              "      <td>d00aab12-b584-41fd-812f-54124abaa4a1</td>\n",
              "      <td>QUESTION #2\\n...\\n\\nContext:\\nUrbanization and...</td>\n",
              "      <td>9deabcd2-a0fc-4b06-98b6-144ad9528770</td>\n",
              "      <td>True</td>\n",
              "    </tr>\n",
              "    <tr>\n",
              "      <th>6</th>\n",
              "      <td>d705b6d3-1531-4bd8-b82b-27a1de72a821</td>\n",
              "      <td>QUESTION #1\\n</td>\n",
              "      <td>753c2dce-bd8a-41fc-93ed-16fd987ad356</td>\n",
              "      <td>False</td>\n",
              "    </tr>\n",
              "    <tr>\n",
              "      <th>7</th>\n",
              "      <td>8b0abfee-adec-4c60-aadd-752c885843d2</td>\n",
              "      <td>QUESTION #2\\n...\\n\\nContext:\\nBy incorporating...</td>\n",
              "      <td>753c2dce-bd8a-41fc-93ed-16fd987ad356</td>\n",
              "      <td>True</td>\n",
              "    </tr>\n",
              "    <tr>\n",
              "      <th>8</th>\n",
              "      <td>397339ba-3cb7-4b7f-9279-fe597f1020de</td>\n",
              "      <td>QUESTION #1\\n</td>\n",
              "      <td>b6754cac-0dc6-42b0-8eaf-9e4973308aa2</td>\n",
              "      <td>True</td>\n",
              "    </tr>\n",
              "    <tr>\n",
              "      <th>9</th>\n",
              "      <td>2c9b94f0-1897-4fa7-963f-d99158496560</td>\n",
              "      <td>QUESTION #2\\n...\\n\\nContext:\\nNutrition and Me...</td>\n",
              "      <td>b6754cac-0dc6-42b0-8eaf-9e4973308aa2</td>\n",
              "      <td>True</td>\n",
              "    </tr>\n",
              "    <tr>\n",
              "      <th>10</th>\n",
              "      <td>f5770915-2101-4e24-9af6-2116c8fe1308</td>\n",
              "      <td>QUESTION #1\\n</td>\n",
              "      <td>56a13307-a0cd-4294-9adc-e38ab2e8efe6</td>\n",
              "      <td>False</td>\n",
              "    </tr>\n",
              "    <tr>\n",
              "      <th>11</th>\n",
              "      <td>38e56699-d805-4e62-8cf7-ddc10c390fd2</td>\n",
              "      <td>QUESTION #2\\n...\\n\\nContext:\\nNutrient deficie...</td>\n",
              "      <td>56a13307-a0cd-4294-9adc-e38ab2e8efe6</td>\n",
              "      <td>True</td>\n",
              "    </tr>\n",
              "    <tr>\n",
              "      <th>12</th>\n",
              "      <td>cf9adcf0-7522-4014-a046-e7c41b0b7dae</td>\n",
              "      <td>QUESTION #1\\n</td>\n",
              "      <td>ae35b402-8ef2-4667-8781-ff4164a4de7a</td>\n",
              "      <td>True</td>\n",
              "    </tr>\n",
              "    <tr>\n",
              "      <th>13</th>\n",
              "      <td>e40cf2b1-f42c-4168-b8dc-05b60fe68010</td>\n",
              "      <td>QUESTION #2\\n...\\n\\nContext:\\n[INTRO]\\n\\nWelco...</td>\n",
              "      <td>ae35b402-8ef2-4667-8781-ff4164a4de7a</td>\n",
              "      <td>True</td>\n",
              "    </tr>\n",
              "    <tr>\n",
              "      <th>14</th>\n",
              "      <td>35388300-eaf4-4e7b-85f3-20f1590c8283</td>\n",
              "      <td>QUESTION #1\\n</td>\n",
              "      <td>a4388bb6-4cb1-4196-98bc-9e78090421ae</td>\n",
              "      <td>False</td>\n",
              "    </tr>\n",
              "    <tr>\n",
              "      <th>15</th>\n",
              "      <td>28b6d184-d05f-42d7-9d72-d6bc652ba0b3</td>\n",
              "      <td>QUESTION #2\\n...\\n\\nContext:\\nThe latest advan...</td>\n",
              "      <td>a4388bb6-4cb1-4196-98bc-9e78090421ae</td>\n",
              "      <td>True</td>\n",
              "    </tr>\n",
              "    <tr>\n",
              "      <th>16</th>\n",
              "      <td>fe96a2ab-961f-468d-91ef-5d3a6d1f3ca7</td>\n",
              "      <td>QUESTION #1\\n</td>\n",
              "      <td>9a8ab8a7-5783-4021-a267-eecfa288c139</td>\n",
              "      <td>False</td>\n",
              "    </tr>\n",
              "    <tr>\n",
              "      <th>17</th>\n",
              "      <td>2c449b75-fdbc-47c6-9adf-7b2548d6bfd8</td>\n",
              "      <td>QUESTION #2\\n...\\n\\nContext:\\n[INTRO]\\n\\nWelco...</td>\n",
              "      <td>9a8ab8a7-5783-4021-a267-eecfa288c139</td>\n",
              "      <td>True</td>\n",
              "    </tr>\n",
              "    <tr>\n",
              "      <th>18</th>\n",
              "      <td>7ab07a47-970b-4400-9b5a-4c42463f6295</td>\n",
              "      <td>QUESTION #1\\n</td>\n",
              "      <td>5ae41f53-894e-49c6-820d-e5b89559808a</td>\n",
              "      <td>True</td>\n",
              "    </tr>\n",
              "    <tr>\n",
              "      <th>19</th>\n",
              "      <td>80d199f2-7a60-439b-9d1c-803614ccad79</td>\n",
              "      <td>QUESTION #2\\n...\\n\\nContext:\\n[CONCLUSION]\\n\\n...</td>\n",
              "      <td>5ae41f53-894e-49c6-820d-e5b89559808a</td>\n",
              "      <td>True</td>\n",
              "    </tr>\n",
              "    <tr>\n",
              "      <th>20</th>\n",
              "      <td>dd07f94c-2e7f-49ef-81fe-a0b22a28a5a0</td>\n",
              "      <td>QUESTION #1\\n</td>\n",
              "      <td>e4637449-a1e3-4952-bc9e-dbbdf26d9716</td>\n",
              "      <td>False</td>\n",
              "    </tr>\n",
              "    <tr>\n",
              "      <th>21</th>\n",
              "      <td>f09b8b9e-e6dd-4e3e-955c-f6ad2d8c1051</td>\n",
              "      <td>QUESTION #2\\n...\\n\\nContext:\\nWhen discussing ...</td>\n",
              "      <td>e4637449-a1e3-4952-bc9e-dbbdf26d9716</td>\n",
              "      <td>True</td>\n",
              "    </tr>\n",
              "    <tr>\n",
              "      <th>22</th>\n",
              "      <td>eaf8148d-139b-495a-b53c-4e0e417e4387</td>\n",
              "      <td>QUESTION #1\\n</td>\n",
              "      <td>4a1c5ce3-4614-4849-9ede-71c3927dd202</td>\n",
              "      <td>False</td>\n",
              "    </tr>\n",
              "    <tr>\n",
              "      <th>23</th>\n",
              "      <td>f01a391f-199b-4cc9-aa5b-8b1da257502a</td>\n",
              "      <td>QUESTION #2\\n...\\n\\nContext:\\n[CONCLUSION]\\n\\n...</td>\n",
              "      <td>4a1c5ce3-4614-4849-9ede-71c3927dd202</td>\n",
              "      <td>True</td>\n",
              "    </tr>\n",
              "  </tbody>\n",
              "</table>\n",
              "</div>"
            ],
            "text/plain": [
              "                                      id  \\\n",
              "0   802fc41d-f59f-4aeb-b4e0-40be6974385e   \n",
              "1   e7431897-c386-4de0-bdba-4d9fa442c953   \n",
              "2   d08b7d43-657b-49f1-91f7-3b4d20a0d01f   \n",
              "3   e336d5f6-99b1-49ce-b15e-207f0973e6f9   \n",
              "4   3038149e-df54-4321-86af-acd4d8a1b1d8   \n",
              "5   d00aab12-b584-41fd-812f-54124abaa4a1   \n",
              "6   d705b6d3-1531-4bd8-b82b-27a1de72a821   \n",
              "7   8b0abfee-adec-4c60-aadd-752c885843d2   \n",
              "8   397339ba-3cb7-4b7f-9279-fe597f1020de   \n",
              "9   2c9b94f0-1897-4fa7-963f-d99158496560   \n",
              "10  f5770915-2101-4e24-9af6-2116c8fe1308   \n",
              "11  38e56699-d805-4e62-8cf7-ddc10c390fd2   \n",
              "12  cf9adcf0-7522-4014-a046-e7c41b0b7dae   \n",
              "13  e40cf2b1-f42c-4168-b8dc-05b60fe68010   \n",
              "14  35388300-eaf4-4e7b-85f3-20f1590c8283   \n",
              "15  28b6d184-d05f-42d7-9d72-d6bc652ba0b3   \n",
              "16  fe96a2ab-961f-468d-91ef-5d3a6d1f3ca7   \n",
              "17  2c449b75-fdbc-47c6-9adf-7b2548d6bfd8   \n",
              "18  7ab07a47-970b-4400-9b5a-4c42463f6295   \n",
              "19  80d199f2-7a60-439b-9d1c-803614ccad79   \n",
              "20  dd07f94c-2e7f-49ef-81fe-a0b22a28a5a0   \n",
              "21  f09b8b9e-e6dd-4e3e-955c-f6ad2d8c1051   \n",
              "22  eaf8148d-139b-495a-b53c-4e0e417e4387   \n",
              "23  f01a391f-199b-4cc9-aa5b-8b1da257502a   \n",
              "\n",
              "                                             question  \\\n",
              "0                                       QUESTION #1\\n   \n",
              "1   QUESTION #2\\n...\\n\\nContext:\\n[INTRO]\\n\\nWelco...   \n",
              "2                                       QUESTION #1\\n   \n",
              "3   QUESTION #2\\n...\\n\\nContext:\\nUnderstanding th...   \n",
              "4                                       QUESTION #1\\n   \n",
              "5   QUESTION #2\\n...\\n\\nContext:\\nUrbanization and...   \n",
              "6                                       QUESTION #1\\n   \n",
              "7   QUESTION #2\\n...\\n\\nContext:\\nBy incorporating...   \n",
              "8                                       QUESTION #1\\n   \n",
              "9   QUESTION #2\\n...\\n\\nContext:\\nNutrition and Me...   \n",
              "10                                      QUESTION #1\\n   \n",
              "11  QUESTION #2\\n...\\n\\nContext:\\nNutrient deficie...   \n",
              "12                                      QUESTION #1\\n   \n",
              "13  QUESTION #2\\n...\\n\\nContext:\\n[INTRO]\\n\\nWelco...   \n",
              "14                                      QUESTION #1\\n   \n",
              "15  QUESTION #2\\n...\\n\\nContext:\\nThe latest advan...   \n",
              "16                                      QUESTION #1\\n   \n",
              "17  QUESTION #2\\n...\\n\\nContext:\\n[INTRO]\\n\\nWelco...   \n",
              "18                                      QUESTION #1\\n   \n",
              "19  QUESTION #2\\n...\\n\\nContext:\\n[CONCLUSION]\\n\\n...   \n",
              "20                                      QUESTION #1\\n   \n",
              "21  QUESTION #2\\n...\\n\\nContext:\\nWhen discussing ...   \n",
              "22                                      QUESTION #1\\n   \n",
              "23  QUESTION #2\\n...\\n\\nContext:\\n[CONCLUSION]\\n\\n...   \n",
              "\n",
              "                             expected_id  is_hit  \n",
              "0   5921600e-f987-4e8f-8e44-8bfae2ffbe8c   False  \n",
              "1   5921600e-f987-4e8f-8e44-8bfae2ffbe8c    True  \n",
              "2   607b53c6-1622-4c81-af72-b6f738e5969a    True  \n",
              "3   607b53c6-1622-4c81-af72-b6f738e5969a    True  \n",
              "4   9deabcd2-a0fc-4b06-98b6-144ad9528770    True  \n",
              "5   9deabcd2-a0fc-4b06-98b6-144ad9528770    True  \n",
              "6   753c2dce-bd8a-41fc-93ed-16fd987ad356   False  \n",
              "7   753c2dce-bd8a-41fc-93ed-16fd987ad356    True  \n",
              "8   b6754cac-0dc6-42b0-8eaf-9e4973308aa2    True  \n",
              "9   b6754cac-0dc6-42b0-8eaf-9e4973308aa2    True  \n",
              "10  56a13307-a0cd-4294-9adc-e38ab2e8efe6   False  \n",
              "11  56a13307-a0cd-4294-9adc-e38ab2e8efe6    True  \n",
              "12  ae35b402-8ef2-4667-8781-ff4164a4de7a    True  \n",
              "13  ae35b402-8ef2-4667-8781-ff4164a4de7a    True  \n",
              "14  a4388bb6-4cb1-4196-98bc-9e78090421ae   False  \n",
              "15  a4388bb6-4cb1-4196-98bc-9e78090421ae    True  \n",
              "16  9a8ab8a7-5783-4021-a267-eecfa288c139   False  \n",
              "17  9a8ab8a7-5783-4021-a267-eecfa288c139    True  \n",
              "18  5ae41f53-894e-49c6-820d-e5b89559808a    True  \n",
              "19  5ae41f53-894e-49c6-820d-e5b89559808a    True  \n",
              "20  e4637449-a1e3-4952-bc9e-dbbdf26d9716   False  \n",
              "21  e4637449-a1e3-4952-bc9e-dbbdf26d9716    True  \n",
              "22  4a1c5ce3-4614-4849-9ede-71c3927dd202   False  \n",
              "23  4a1c5ce3-4614-4849-9ede-71c3927dd202    True  "
            ]
          },
          "execution_count": 72,
          "metadata": {},
          "output_type": "execute_result"
        }
      ],
      "source": [
        "arctic_embed_m_results_df"
      ]
    },
    {
      "cell_type": "code",
      "execution_count": 73,
      "metadata": {
        "colab": {
          "base_uri": "https://localhost:8080/"
        },
        "id": "zV5vJWrJzOhc",
        "outputId": "30049be6-deb9-4ceb-dc13-24d7e125f131"
      },
      "outputs": [
        {
          "data": {
            "text/plain": [
              "np.float64(0.7083333333333334)"
            ]
          },
          "execution_count": 73,
          "metadata": {},
          "output_type": "execute_result"
        }
      ],
      "source": [
        "arctic_embed_m_hit_rate = arctic_embed_m_results_df[\"is_hit\"].mean()\n",
        "arctic_embed_m_hit_rate"
      ]
    },
    {
      "cell_type": "code",
      "execution_count": 74,
      "metadata": {
        "colab": {
          "base_uri": "https://localhost:8080/"
        },
        "id": "Ilse1LduzP1i",
        "outputId": "292ab58f-7594-45fc-a5b8-1062cc553f66"
      },
      "outputs": [
        {
          "data": {
            "application/vnd.jupyter.widget-view+json": {
              "model_id": "5499d0aabfdf48e1b3d2e402940b6785",
              "version_major": 2,
              "version_minor": 0
            },
            "text/plain": [
              "  0%|          | 0/24 [00:00<?, ?it/s]"
            ]
          },
          "metadata": {},
          "output_type": "display_data"
        }
      ],
      "source": [
        "finetune_embeddings = HuggingFaceEmbeddings(model_name=\"finetuned-minilm-l6-v2\")\n",
        "finetune_results = evaluate_openai(test_dataset, finetune_embeddings)"
      ]
    },
    {
      "cell_type": "code",
      "execution_count": 75,
      "metadata": {
        "id": "xxhZPqkNzZlh"
      },
      "outputs": [],
      "source": [
        "finetune_results_df = pd.DataFrame(finetune_results)"
      ]
    },
    {
      "cell_type": "code",
      "execution_count": 76,
      "metadata": {
        "colab": {
          "base_uri": "https://localhost:8080/"
        },
        "id": "4thAK2BXzaj6",
        "outputId": "e890b5d1-86b7-4bfe-8ffe-a779a132e0c6"
      },
      "outputs": [
        {
          "data": {
            "text/plain": [
              "np.float64(0.7083333333333334)"
            ]
          },
          "execution_count": 76,
          "metadata": {},
          "output_type": "execute_result"
        }
      ],
      "source": [
        "finetune_hit_rate = finetune_results_df[\"is_hit\"].mean()\n",
        "finetune_hit_rate"
      ]
    },
    {
      "cell_type": "markdown",
      "metadata": {
        "id": "iegFM209mBk3"
      },
      "source": [
        "Vibe Checking the RAG Pipeline"
      ]
    },
    {
      "cell_type": "markdown",
      "metadata": {
        "id": "Xzg0AA5krgR4"
      },
      "source": [
        "### Creating New Chunks\n",
        "\n",
        "In order to try and evaluate our system more fairly, let's create new chunks that we will use to create our Vector Store."
      ]
    },
    {
      "cell_type": "code",
      "execution_count": 77,
      "metadata": {
        "id": "KwQ2_LqNr0Tw"
      },
      "outputs": [],
      "source": [
        "text_splitter = RecursiveCharacterTextSplitter(\n",
        "    chunk_size = 600,\n",
        "    chunk_overlap  = 50,\n",
        "    length_function = len\n",
        ")\n",
        "\n",
        "training_documents = text_splitter.split_documents(text_loader.load())"
      ]
    },
    {
      "cell_type": "markdown",
      "metadata": {
        "id": "gIdxahHXpP-c"
      },
      "source": [
        "### Base Chain\n",
        "\n",
        "We'll start by constructing our base chain, which will use the untrained retrieval model."
      ]
    },
    {
      "cell_type": "markdown",
      "metadata": {
        "id": "bOsxIXpNpWC2"
      },
      "source": [
        "#### R - Retrieval"
      ]
    },
    {
      "cell_type": "code",
      "execution_count": 78,
      "metadata": {
        "id": "azIGIKYfmNCT"
      },
      "outputs": [],
      "source": [
        "from langchain_community.vectorstores import FAISS\n",
        "\n",
        "base_vectorstore = FAISS.from_documents(training_documents, huggingface_embeddings)\n",
        "base_retriever = base_vectorstore.as_retriever(search_kwargs={\"k\": 6})"
      ]
    },
    {
      "cell_type": "markdown",
      "metadata": {
        "id": "l-1nVZ0KpX5N"
      },
      "source": [
        "#### A - Augmented"
      ]
    },
    {
      "cell_type": "code",
      "execution_count": 79,
      "metadata": {
        "id": "G10Fr-aKojeA"
      },
      "outputs": [],
      "source": [
        "from langchain_core.prompts import ChatPromptTemplate\n",
        "\n",
        "RAG_PROMPT = \"\"\"\\\n",
        "Given a provided context and a question, you must answer the question. If you do not know the answer, you must state that you do not know.\n",
        "\n",
        "Context:\n",
        "{context}\n",
        "\n",
        "Question:\n",
        "{question}\n",
        "\n",
        "Answer:\n",
        "\"\"\"\n",
        "\n",
        "rag_prompt_template = ChatPromptTemplate.from_template(RAG_PROMPT)"
      ]
    },
    {
      "cell_type": "markdown",
      "metadata": {
        "id": "Euq6RQEopZvD"
      },
      "source": [
        "#### G - Generation"
      ]
    },
    {
      "cell_type": "code",
      "execution_count": 80,
      "metadata": {
        "id": "5-mfbbrypMHG"
      },
      "outputs": [],
      "source": [
        "rag_llm =  ChatOpenAI(\n",
        "    model=\"gpt-4o-mini\",\n",
        "    temperature=0\n",
        ")"
      ]
    },
    {
      "cell_type": "markdown",
      "metadata": {
        "id": "wQ2p4mnUpbYY"
      },
      "source": [
        "#### RAG - LCEL RAG Pipeline"
      ]
    },
    {
      "cell_type": "code",
      "execution_count": 81,
      "metadata": {
        "id": "ssuR-LaboyGq"
      },
      "outputs": [],
      "source": [
        "from operator import itemgetter\n",
        "from langchain_core.output_parsers import StrOutputParser\n",
        "from langchain_core.runnables import RunnablePassthrough, RunnableParallel\n",
        "\n",
        "base_rag_chain = (\n",
        "    {\"context\": itemgetter(\"question\") | base_retriever, \"question\": itemgetter(\"question\")}\n",
        "    | RunnablePassthrough.assign(context=itemgetter(\"context\"))\n",
        "    | {\"response\": rag_prompt_template | rag_llm | StrOutputParser(), \"context\": itemgetter(\"context\")}\n",
        ")"
      ]
    },
    {
      "cell_type": "code",
      "execution_count": 82,
      "metadata": {
        "colab": {
          "base_uri": "https://localhost:8080/",
          "height": 87
        },
        "id": "emm6WbB9pfKt",
        "outputId": "f0e0c83f-c617-493e-99ce-869061a315f3"
      },
      "outputs": [
        {
          "data": {
            "text/plain": [
              "'I do not know.'"
            ]
          },
          "execution_count": 82,
          "metadata": {},
          "output_type": "execute_result"
        }
      ],
      "source": [
        "base_rag_chain.invoke({\"question\" : \"What is an agent?\"})[\"response\"]"
      ]
    },
    {
      "cell_type": "code",
      "execution_count": 83,
      "metadata": {
        "colab": {
          "base_uri": "https://localhost:8080/",
          "height": 87
        },
        "id": "mUOrd0OBprAq",
        "outputId": "0070d677-0bde-48be-a8a3-f0c53b9eee90"
      },
      "outputs": [
        {
          "data": {
            "text/plain": [
              "'The main challenges in implementing AI in healthcare include:\\n\\n1. **Data Privacy and Security**: Ensuring that patient data is protected and used ethically.\\n2. **Bias and Fairness in Algorithms**: Addressing potential biases in AI models that could lead to unfair treatment outcomes.\\n3. **Lack of Interpretability**: Some AI models are complex and difficult to interpret, raising questions about accountability and trust in their decisions.\\n\\nThe opportunities in implementing AI in healthcare include:\\n\\n1. **Improved Diagnosis and Treatment**: Machine learning can enhance the accuracy and efficiency of diagnoses and treatment plans.\\n2. **Personalized Medicine**: AI can help tailor treatments to individual patients based on their unique data.\\n3. **Operational Efficiency**: AI can streamline administrative processes, reducing costs and improving patient care.\\n\\nOverall, while there are significant challenges to address, the potential benefits of AI in healthcare are substantial.'"
            ]
          },
          "execution_count": 83,
          "metadata": {},
          "output_type": "execute_result"
        }
      ],
      "source": [
        "base_rag_chain.invoke({\"question\" : \"What are the main challenges and opportunities in implementing AI in healthcare?\"})[\"response\"]"
      ]
    },
    {
      "cell_type": "code",
      "execution_count": 84,
      "metadata": {
        "colab": {
          "base_uri": "https://localhost:8080/",
          "height": 70
        },
        "id": "OnfuFl59py7I",
        "outputId": "37480e29-17a6-40e2-fe8a-7eb6ea270569"
      },
      "outputs": [
        {
          "data": {
            "text/plain": [
              "'The ethical concerns surrounding CRISPR technology include the ability to edit the human germline, which raises questions about heritable changes and long-term consequences. There are also concerns about moral responsibility related to altering the gene pool, informed consent, access to technology, unintended consequences, and the risks of eugenics and discrimination.'"
            ]
          },
          "execution_count": 84,
          "metadata": {},
          "output_type": "execute_result"
        }
      ],
      "source": [
        "base_rag_chain.invoke({\"question\" : \"What are the ethical concerns surrounding CRISPR technology?\"})[\"response\"]"
      ]
    },
    {
      "cell_type": "code",
      "execution_count": 85,
      "metadata": {
        "colab": {
          "base_uri": "https://localhost:8080/",
          "height": 122
        },
        "id": "-NmqwHBDqTZ8",
        "outputId": "86d7b59a-97c6-4b65-805f-ae449e3b1a20"
      },
      "outputs": [
        {
          "data": {
            "text/plain": [
              "'The skeptic is discussing the psychological factors behind conspiracy theory beliefs, emphasizing the influences of confirmation bias, social dynamics, group polarization, and psychological vulnerabilities that contribute to the formation and maintenance of these beliefs. Additionally, in the context of human intelligence, the skeptic raises questions about the validity of studies suggesting a decline in human cognition over time, urging a critical assessment of the methodology and sample size used in such studies.'"
            ]
          },
          "execution_count": 85,
          "metadata": {},
          "output_type": "execute_result"
        }
      ],
      "source": [
        "base_rag_chain.invoke({\"question\" : \"What is the skeptic talking about?\"})[\"response\"]"
      ]
    },
    {
      "cell_type": "markdown",
      "metadata": {
        "id": "SqNS0UJAp3lC"
      },
      "source": [
        "### Fine-tuned Embedding Model\n",
        "\n",
        "Now let's rebuild our RAG chain with the Fine-tuned model - the only component we need to change is our `FAISS` vectorstore!"
      ]
    },
    {
      "cell_type": "code",
      "execution_count": 86,
      "metadata": {
        "id": "ihO7tP6mqATy"
      },
      "outputs": [],
      "source": [
        "finetune_vectorstore = FAISS.from_documents(training_documents, finetune_embeddings)\n",
        "finetune_retriever = finetune_vectorstore.as_retriever(search_kwargs={\"k\": 6})"
      ]
    },
    {
      "cell_type": "code",
      "execution_count": 87,
      "metadata": {
        "id": "1_cIFvWzqKGY"
      },
      "outputs": [],
      "source": [
        "finetune_rag_chain = (\n",
        "    {\"context\": itemgetter(\"question\") | finetune_retriever, \"question\": itemgetter(\"question\")}\n",
        "    | RunnablePassthrough.assign(context=itemgetter(\"context\"))\n",
        "    | {\"response\": rag_prompt_template | rag_llm | StrOutputParser(), \"context\": itemgetter(\"context\")}\n",
        ")"
      ]
    },
    {
      "cell_type": "code",
      "execution_count": 89,
      "metadata": {
        "colab": {
          "base_uri": "https://localhost:8080/",
          "height": 70
        },
        "id": "OJmRHJF2qNgj",
        "outputId": "b99d4b58-8487-48ec-ee6c-8ea93f9b0192"
      },
      "outputs": [
        {
          "data": {
            "text/plain": [
              "'I do not know.'"
            ]
          },
          "execution_count": 89,
          "metadata": {},
          "output_type": "execute_result"
        }
      ],
      "source": [
        "finetune_rag_chain.invoke({\"question\" : \"What is an Agent?\"})[\"response\"]"
      ]
    },
    {
      "cell_type": "code",
      "execution_count": 90,
      "metadata": {
        "colab": {
          "base_uri": "https://localhost:8080/",
          "height": 122
        },
        "id": "EnK-c2ugqPPh",
        "outputId": "b8300e0a-1b51-48dd-93c3-254e0aa84e36"
      },
      "outputs": [
        {
          "data": {
            "text/plain": [
              "'The main challenges in implementing AI in healthcare include:\\n\\n1. **Data Privacy and Security**: Ensuring that patient data is protected and used ethically.\\n2. **Bias and Fairness in Algorithms**: Addressing potential biases in AI models that could lead to unfair treatment or outcomes.\\n3. **Lack of Interpretability**: Some AI models are complex and difficult to interpret, raising questions about accountability and trust in AI-driven decisions.\\n\\nThe opportunities in implementing AI in healthcare include:\\n\\n1. **Improved Diagnosis and Treatment**: AI can enhance the accuracy and efficiency of healthcare diagnosis and treatment.\\n2. **Personalized Medicine**: AI can help tailor treatments to individual patients based on their unique data.\\n3. **Operational Efficiency**: AI can streamline healthcare operations, reducing costs and improving patient care.\\n\\nOverall, while there are significant challenges to address, the potential benefits of AI in healthcare are substantial.'"
            ]
          },
          "execution_count": 90,
          "metadata": {},
          "output_type": "execute_result"
        }
      ],
      "source": [
        "finetune_rag_chain.invoke({\"question\" : \"What are the main challenges and opportunities in implementing AI in healthcare?\"})[\"response\"]"
      ]
    },
    {
      "cell_type": "code",
      "execution_count": 91,
      "metadata": {
        "colab": {
          "base_uri": "https://localhost:8080/",
          "height": 70
        },
        "id": "83hssg1AWozc",
        "outputId": "8d1ef134-7889-4379-a49b-6c0a476b7a1a"
      },
      "outputs": [
        {
          "data": {
            "text/plain": [
              "'The ethical concerns surrounding CRISPR technology include the ability to edit the human germline, which raises questions about heritable changes and long-term consequences. There are also concerns about moral responsibility related to altering the gene pool, issues of informed consent, access to technology, unintended consequences, and the risks of eugenics and discrimination.'"
            ]
          },
          "execution_count": 91,
          "metadata": {},
          "output_type": "execute_result"
        }
      ],
      "source": [
        "finetune_rag_chain.invoke({\"question\" : \"What are the ethical concerns surrounding CRISPR technology?\"})[\"response\"]"
      ]
    },
    {
      "cell_type": "code",
      "execution_count": 92,
      "metadata": {
        "colab": {
          "base_uri": "https://localhost:8080/",
          "height": 122
        },
        "id": "rsHmGeFbqRET",
        "outputId": "1ab223c2-d2fc-46ac-8541-af038de3166d"
      },
      "outputs": [
        {
          "data": {
            "text/plain": [
              "'The skeptic is discussing the psychological factors behind conspiracy theory beliefs, emphasizing the influences such as confirmation bias, social dynamics, group polarization, and psychological vulnerabilities that contribute to the formation and maintenance of these beliefs. Additionally, in the context of human intelligence, the skeptic is questioning the validity of studies suggesting a decline in human cognition over time, urging a critical assessment of the methodology and sample size used in such studies.'"
            ]
          },
          "execution_count": 92,
          "metadata": {},
          "output_type": "execute_result"
        }
      ],
      "source": [
        "finetune_rag_chain.invoke({\"question\" : \"What is the skeptic talking about?\"})[\"response\"]"
      ]
    },
    {
      "cell_type": "code",
      "execution_count": 93,
      "metadata": {},
      "outputs": [
        {
          "name": "stderr",
          "output_type": "stream",
          "text": [
            "[nltk_data] Downloading collection 'all'\n",
            "[nltk_data]    | \n",
            "[nltk_data]    | Downloading package abc to\n",
            "[nltk_data]    |     /home/nageshbm/nltk_data...\n",
            "[nltk_data]    |   Package abc is already up-to-date!\n",
            "[nltk_data]    | Downloading package alpino to\n",
            "[nltk_data]    |     /home/nageshbm/nltk_data...\n",
            "[nltk_data]    |   Package alpino is already up-to-date!\n",
            "[nltk_data]    | Downloading package averaged_perceptron_tagger to\n",
            "[nltk_data]    |     /home/nageshbm/nltk_data...\n",
            "[nltk_data]    |   Package averaged_perceptron_tagger is already up-\n",
            "[nltk_data]    |       to-date!\n",
            "[nltk_data]    | Downloading package averaged_perceptron_tagger_eng to\n",
            "[nltk_data]    |     /home/nageshbm/nltk_data...\n",
            "[nltk_data]    |   Package averaged_perceptron_tagger_eng is already\n",
            "[nltk_data]    |       up-to-date!\n",
            "[nltk_data]    | Downloading package averaged_perceptron_tagger_ru to\n",
            "[nltk_data]    |     /home/nageshbm/nltk_data...\n",
            "[nltk_data]    |   Package averaged_perceptron_tagger_ru is already\n",
            "[nltk_data]    |       up-to-date!\n",
            "[nltk_data]    | Downloading package averaged_perceptron_tagger_rus to\n",
            "[nltk_data]    |     /home/nageshbm/nltk_data...\n",
            "[nltk_data]    |   Package averaged_perceptron_tagger_rus is already\n",
            "[nltk_data]    |       up-to-date!\n",
            "[nltk_data]    | Downloading package basque_grammars to\n",
            "[nltk_data]    |     /home/nageshbm/nltk_data...\n",
            "[nltk_data]    |   Package basque_grammars is already up-to-date!\n",
            "[nltk_data]    | Downloading package bcp47 to\n",
            "[nltk_data]    |     /home/nageshbm/nltk_data...\n",
            "[nltk_data]    |   Package bcp47 is already up-to-date!\n",
            "[nltk_data]    | Downloading package biocreative_ppi to\n",
            "[nltk_data]    |     /home/nageshbm/nltk_data...\n",
            "[nltk_data]    |   Package biocreative_ppi is already up-to-date!\n",
            "[nltk_data]    | Downloading package bllip_wsj_no_aux to\n",
            "[nltk_data]    |     /home/nageshbm/nltk_data...\n",
            "[nltk_data]    |   Package bllip_wsj_no_aux is already up-to-date!\n",
            "[nltk_data]    | Downloading package book_grammars to\n",
            "[nltk_data]    |     /home/nageshbm/nltk_data...\n",
            "[nltk_data]    |   Package book_grammars is already up-to-date!\n",
            "[nltk_data]    | Downloading package brown to\n",
            "[nltk_data]    |     /home/nageshbm/nltk_data...\n",
            "[nltk_data]    |   Package brown is already up-to-date!\n",
            "[nltk_data]    | Downloading package brown_tei to\n",
            "[nltk_data]    |     /home/nageshbm/nltk_data...\n",
            "[nltk_data]    |   Package brown_tei is already up-to-date!\n",
            "[nltk_data]    | Downloading package cess_cat to\n",
            "[nltk_data]    |     /home/nageshbm/nltk_data...\n",
            "[nltk_data]    |   Package cess_cat is already up-to-date!\n",
            "[nltk_data]    | Downloading package cess_esp to\n",
            "[nltk_data]    |     /home/nageshbm/nltk_data...\n",
            "[nltk_data]    |   Package cess_esp is already up-to-date!\n",
            "[nltk_data]    | Downloading package chat80 to\n",
            "[nltk_data]    |     /home/nageshbm/nltk_data...\n",
            "[nltk_data]    |   Package chat80 is already up-to-date!\n",
            "[nltk_data]    | Downloading package city_database to\n",
            "[nltk_data]    |     /home/nageshbm/nltk_data...\n",
            "[nltk_data]    |   Package city_database is already up-to-date!\n",
            "[nltk_data]    | Downloading package cmudict to\n",
            "[nltk_data]    |     /home/nageshbm/nltk_data...\n",
            "[nltk_data]    |   Package cmudict is already up-to-date!\n",
            "[nltk_data]    | Downloading package comparative_sentences to\n",
            "[nltk_data]    |     /home/nageshbm/nltk_data...\n",
            "[nltk_data]    |   Package comparative_sentences is already up-to-\n",
            "[nltk_data]    |       date!\n",
            "[nltk_data]    | Downloading package comtrans to\n",
            "[nltk_data]    |     /home/nageshbm/nltk_data...\n",
            "[nltk_data]    |   Package comtrans is already up-to-date!\n",
            "[nltk_data]    | Downloading package conll2000 to\n",
            "[nltk_data]    |     /home/nageshbm/nltk_data...\n",
            "[nltk_data]    |   Package conll2000 is already up-to-date!\n",
            "[nltk_data]    | Downloading package conll2002 to\n",
            "[nltk_data]    |     /home/nageshbm/nltk_data...\n",
            "[nltk_data]    |   Package conll2002 is already up-to-date!\n",
            "[nltk_data]    | Downloading package conll2007 to\n",
            "[nltk_data]    |     /home/nageshbm/nltk_data...\n",
            "[nltk_data]    |   Package conll2007 is already up-to-date!\n",
            "[nltk_data]    | Downloading package crubadan to\n",
            "[nltk_data]    |     /home/nageshbm/nltk_data...\n",
            "[nltk_data]    |   Package crubadan is already up-to-date!\n",
            "[nltk_data]    | Downloading package dependency_treebank to\n",
            "[nltk_data]    |     /home/nageshbm/nltk_data...\n",
            "[nltk_data]    |   Package dependency_treebank is already up-to-date!\n",
            "[nltk_data]    | Downloading package dolch to\n",
            "[nltk_data]    |     /home/nageshbm/nltk_data...\n",
            "[nltk_data]    |   Package dolch is already up-to-date!\n",
            "[nltk_data]    | Downloading package europarl_raw to\n",
            "[nltk_data]    |     /home/nageshbm/nltk_data...\n",
            "[nltk_data]    |   Package europarl_raw is already up-to-date!\n",
            "[nltk_data]    | Downloading package extended_omw to\n",
            "[nltk_data]    |     /home/nageshbm/nltk_data...\n",
            "[nltk_data]    |   Package extended_omw is already up-to-date!\n",
            "[nltk_data]    | Downloading package floresta to\n",
            "[nltk_data]    |     /home/nageshbm/nltk_data...\n",
            "[nltk_data]    |   Package floresta is already up-to-date!\n",
            "[nltk_data]    | Downloading package framenet_v15 to\n",
            "[nltk_data]    |     /home/nageshbm/nltk_data...\n",
            "[nltk_data]    |   Package framenet_v15 is already up-to-date!\n",
            "[nltk_data]    | Downloading package framenet_v17 to\n",
            "[nltk_data]    |     /home/nageshbm/nltk_data...\n",
            "[nltk_data]    |   Package framenet_v17 is already up-to-date!\n",
            "[nltk_data]    | Downloading package gazetteers to\n",
            "[nltk_data]    |     /home/nageshbm/nltk_data...\n",
            "[nltk_data]    |   Package gazetteers is already up-to-date!\n",
            "[nltk_data]    | Downloading package genesis to\n",
            "[nltk_data]    |     /home/nageshbm/nltk_data...\n",
            "[nltk_data]    |   Package genesis is already up-to-date!\n",
            "[nltk_data]    | Downloading package gutenberg to\n",
            "[nltk_data]    |     /home/nageshbm/nltk_data...\n",
            "[nltk_data]    |   Package gutenberg is already up-to-date!\n",
            "[nltk_data]    | Downloading package ieer to\n",
            "[nltk_data]    |     /home/nageshbm/nltk_data...\n",
            "[nltk_data]    |   Package ieer is already up-to-date!\n",
            "[nltk_data]    | Downloading package inaugural to\n",
            "[nltk_data]    |     /home/nageshbm/nltk_data...\n",
            "[nltk_data]    |   Unzipping corpora/inaugural.zip.\n",
            "[nltk_data]    | Downloading package indian to\n",
            "[nltk_data]    |     /home/nageshbm/nltk_data...\n",
            "[nltk_data]    |   Package indian is already up-to-date!\n",
            "[nltk_data]    | Downloading package jeita to\n",
            "[nltk_data]    |     /home/nageshbm/nltk_data...\n",
            "[nltk_data]    |   Package jeita is already up-to-date!\n",
            "[nltk_data]    | Downloading package kimmo to\n",
            "[nltk_data]    |     /home/nageshbm/nltk_data...\n",
            "[nltk_data]    |   Package kimmo is already up-to-date!\n",
            "[nltk_data]    | Downloading package knbc to\n",
            "[nltk_data]    |     /home/nageshbm/nltk_data...\n",
            "[nltk_data]    |   Package knbc is already up-to-date!\n",
            "[nltk_data]    | Downloading package large_grammars to\n",
            "[nltk_data]    |     /home/nageshbm/nltk_data...\n",
            "[nltk_data]    |   Package large_grammars is already up-to-date!\n",
            "[nltk_data]    | Downloading package lin_thesaurus to\n",
            "[nltk_data]    |     /home/nageshbm/nltk_data...\n",
            "[nltk_data]    |   Package lin_thesaurus is already up-to-date!\n",
            "[nltk_data]    | Downloading package mac_morpho to\n",
            "[nltk_data]    |     /home/nageshbm/nltk_data...\n",
            "[nltk_data]    |   Package mac_morpho is already up-to-date!\n",
            "[nltk_data]    | Downloading package machado to\n",
            "[nltk_data]    |     /home/nageshbm/nltk_data...\n",
            "[nltk_data]    |   Package machado is already up-to-date!\n",
            "[nltk_data]    | Downloading package masc_tagged to\n",
            "[nltk_data]    |     /home/nageshbm/nltk_data...\n",
            "[nltk_data]    |   Package masc_tagged is already up-to-date!\n",
            "[nltk_data]    | Downloading package maxent_ne_chunker to\n",
            "[nltk_data]    |     /home/nageshbm/nltk_data...\n",
            "[nltk_data]    |   Package maxent_ne_chunker is already up-to-date!\n",
            "[nltk_data]    | Downloading package maxent_ne_chunker_tab to\n",
            "[nltk_data]    |     /home/nageshbm/nltk_data...\n",
            "[nltk_data]    |   Package maxent_ne_chunker_tab is already up-to-\n",
            "[nltk_data]    |       date!\n",
            "[nltk_data]    | Downloading package maxent_treebank_pos_tagger to\n",
            "[nltk_data]    |     /home/nageshbm/nltk_data...\n",
            "[nltk_data]    |   Package maxent_treebank_pos_tagger is already up-\n",
            "[nltk_data]    |       to-date!\n",
            "[nltk_data]    | Downloading package maxent_treebank_pos_tagger_tab to\n",
            "[nltk_data]    |     /home/nageshbm/nltk_data...\n",
            "[nltk_data]    |   Package maxent_treebank_pos_tagger_tab is already\n",
            "[nltk_data]    |       up-to-date!\n",
            "[nltk_data]    | Downloading package moses_sample to\n",
            "[nltk_data]    |     /home/nageshbm/nltk_data...\n",
            "[nltk_data]    |   Package moses_sample is already up-to-date!\n",
            "[nltk_data]    | Downloading package movie_reviews to\n",
            "[nltk_data]    |     /home/nageshbm/nltk_data...\n",
            "[nltk_data]    |   Package movie_reviews is already up-to-date!\n",
            "[nltk_data]    | Downloading package mte_teip5 to\n",
            "[nltk_data]    |     /home/nageshbm/nltk_data...\n",
            "[nltk_data]    |   Package mte_teip5 is already up-to-date!\n",
            "[nltk_data]    | Downloading package mwa_ppdb to\n",
            "[nltk_data]    |     /home/nageshbm/nltk_data...\n",
            "[nltk_data]    |   Package mwa_ppdb is already up-to-date!\n",
            "[nltk_data]    | Downloading package names to\n",
            "[nltk_data]    |     /home/nageshbm/nltk_data...\n",
            "[nltk_data]    |   Package names is already up-to-date!\n",
            "[nltk_data]    | Downloading package nombank.1.0 to\n",
            "[nltk_data]    |     /home/nageshbm/nltk_data...\n",
            "[nltk_data]    |   Package nombank.1.0 is already up-to-date!\n",
            "[nltk_data]    | Downloading package nonbreaking_prefixes to\n",
            "[nltk_data]    |     /home/nageshbm/nltk_data...\n",
            "[nltk_data]    |   Package nonbreaking_prefixes is already up-to-date!\n",
            "[nltk_data]    | Downloading package nps_chat to\n",
            "[nltk_data]    |     /home/nageshbm/nltk_data...\n",
            "[nltk_data]    |   Package nps_chat is already up-to-date!\n",
            "[nltk_data]    | Downloading package omw to\n",
            "[nltk_data]    |     /home/nageshbm/nltk_data...\n",
            "[nltk_data]    |   Package omw is already up-to-date!\n",
            "[nltk_data]    | Downloading package omw-1.4 to\n",
            "[nltk_data]    |     /home/nageshbm/nltk_data...\n",
            "[nltk_data]    |   Package omw-1.4 is already up-to-date!\n",
            "[nltk_data]    | Downloading package opinion_lexicon to\n",
            "[nltk_data]    |     /home/nageshbm/nltk_data...\n",
            "[nltk_data]    |   Package opinion_lexicon is already up-to-date!\n",
            "[nltk_data]    | Downloading package panlex_swadesh to\n",
            "[nltk_data]    |     /home/nageshbm/nltk_data...\n",
            "[nltk_data]    |   Package panlex_swadesh is already up-to-date!\n",
            "[nltk_data]    | Downloading package paradigms to\n",
            "[nltk_data]    |     /home/nageshbm/nltk_data...\n",
            "[nltk_data]    |   Package paradigms is already up-to-date!\n",
            "[nltk_data]    | Downloading package pe08 to\n",
            "[nltk_data]    |     /home/nageshbm/nltk_data...\n",
            "[nltk_data]    |   Package pe08 is already up-to-date!\n",
            "[nltk_data]    | Downloading package perluniprops to\n",
            "[nltk_data]    |     /home/nageshbm/nltk_data...\n",
            "[nltk_data]    |   Package perluniprops is already up-to-date!\n",
            "[nltk_data]    | Downloading package pil to\n",
            "[nltk_data]    |     /home/nageshbm/nltk_data...\n",
            "[nltk_data]    |   Package pil is already up-to-date!\n",
            "[nltk_data]    | Downloading package pl196x to\n",
            "[nltk_data]    |     /home/nageshbm/nltk_data...\n",
            "[nltk_data]    |   Package pl196x is already up-to-date!\n",
            "[nltk_data]    | Downloading package porter_test to\n",
            "[nltk_data]    |     /home/nageshbm/nltk_data...\n",
            "[nltk_data]    |   Package porter_test is already up-to-date!\n",
            "[nltk_data]    | Downloading package ppattach to\n",
            "[nltk_data]    |     /home/nageshbm/nltk_data...\n",
            "[nltk_data]    |   Package ppattach is already up-to-date!\n",
            "[nltk_data]    | Downloading package problem_reports to\n",
            "[nltk_data]    |     /home/nageshbm/nltk_data...\n",
            "[nltk_data]    |   Package problem_reports is already up-to-date!\n",
            "[nltk_data]    | Downloading package product_reviews_1 to\n",
            "[nltk_data]    |     /home/nageshbm/nltk_data...\n",
            "[nltk_data]    |   Package product_reviews_1 is already up-to-date!\n",
            "[nltk_data]    | Downloading package product_reviews_2 to\n",
            "[nltk_data]    |     /home/nageshbm/nltk_data...\n",
            "[nltk_data]    |   Package product_reviews_2 is already up-to-date!\n",
            "[nltk_data]    | Downloading package propbank to\n",
            "[nltk_data]    |     /home/nageshbm/nltk_data...\n",
            "[nltk_data]    |   Package propbank is already up-to-date!\n",
            "[nltk_data]    | Downloading package pros_cons to\n",
            "[nltk_data]    |     /home/nageshbm/nltk_data...\n",
            "[nltk_data]    |   Package pros_cons is already up-to-date!\n",
            "[nltk_data]    | Downloading package ptb to\n",
            "[nltk_data]    |     /home/nageshbm/nltk_data...\n",
            "[nltk_data]    |   Package ptb is already up-to-date!\n",
            "[nltk_data]    | Downloading package punkt to\n",
            "[nltk_data]    |     /home/nageshbm/nltk_data...\n",
            "[nltk_data]    |   Package punkt is already up-to-date!\n",
            "[nltk_data]    | Downloading package punkt_tab to\n",
            "[nltk_data]    |     /home/nageshbm/nltk_data...\n",
            "[nltk_data]    |   Unzipping tokenizers/punkt_tab.zip.\n",
            "[nltk_data]    | Downloading package qc to /home/nageshbm/nltk_data...\n",
            "[nltk_data]    |   Package qc is already up-to-date!\n",
            "[nltk_data]    | Downloading package reuters to\n",
            "[nltk_data]    |     /home/nageshbm/nltk_data...\n",
            "[nltk_data]    |   Package reuters is already up-to-date!\n",
            "[nltk_data]    | Downloading package rslp to\n",
            "[nltk_data]    |     /home/nageshbm/nltk_data...\n",
            "[nltk_data]    |   Package rslp is already up-to-date!\n",
            "[nltk_data]    | Downloading package rte to\n",
            "[nltk_data]    |     /home/nageshbm/nltk_data...\n",
            "[nltk_data]    |   Package rte is already up-to-date!\n",
            "[nltk_data]    | Downloading package sample_grammars to\n",
            "[nltk_data]    |     /home/nageshbm/nltk_data...\n",
            "[nltk_data]    |   Package sample_grammars is already up-to-date!\n",
            "[nltk_data]    | Downloading package semcor to\n",
            "[nltk_data]    |     /home/nageshbm/nltk_data...\n",
            "[nltk_data]    |   Package semcor is already up-to-date!\n",
            "[nltk_data]    | Downloading package senseval to\n",
            "[nltk_data]    |     /home/nageshbm/nltk_data...\n",
            "[nltk_data]    |   Package senseval is already up-to-date!\n",
            "[nltk_data]    | Downloading package sentence_polarity to\n",
            "[nltk_data]    |     /home/nageshbm/nltk_data...\n",
            "[nltk_data]    |   Package sentence_polarity is already up-to-date!\n",
            "[nltk_data]    | Downloading package sentiwordnet to\n",
            "[nltk_data]    |     /home/nageshbm/nltk_data...\n",
            "[nltk_data]    |   Package sentiwordnet is already up-to-date!\n",
            "[nltk_data]    | Downloading package shakespeare to\n",
            "[nltk_data]    |     /home/nageshbm/nltk_data...\n",
            "[nltk_data]    |   Package shakespeare is already up-to-date!\n",
            "[nltk_data]    | Downloading package sinica_treebank to\n",
            "[nltk_data]    |     /home/nageshbm/nltk_data...\n",
            "[nltk_data]    |   Package sinica_treebank is already up-to-date!\n",
            "[nltk_data]    | Downloading package smultron to\n",
            "[nltk_data]    |     /home/nageshbm/nltk_data...\n",
            "[nltk_data]    |   Package smultron is already up-to-date!\n",
            "[nltk_data]    | Downloading package snowball_data to\n",
            "[nltk_data]    |     /home/nageshbm/nltk_data...\n",
            "[nltk_data]    |   Package snowball_data is already up-to-date!\n",
            "[nltk_data]    | Downloading package spanish_grammars to\n",
            "[nltk_data]    |     /home/nageshbm/nltk_data...\n",
            "[nltk_data]    |   Package spanish_grammars is already up-to-date!\n",
            "[nltk_data]    | Downloading package state_union to\n",
            "[nltk_data]    |     /home/nageshbm/nltk_data...\n",
            "[nltk_data]    |   Package state_union is already up-to-date!\n",
            "[nltk_data]    | Downloading package stopwords to\n",
            "[nltk_data]    |     /home/nageshbm/nltk_data...\n",
            "[nltk_data]    |   Unzipping corpora/stopwords.zip.\n",
            "[nltk_data]    | Downloading package subjectivity to\n",
            "[nltk_data]    |     /home/nageshbm/nltk_data...\n",
            "[nltk_data]    |   Package subjectivity is already up-to-date!\n",
            "[nltk_data]    | Downloading package swadesh to\n",
            "[nltk_data]    |     /home/nageshbm/nltk_data...\n",
            "[nltk_data]    |   Package swadesh is already up-to-date!\n",
            "[nltk_data]    | Downloading package switchboard to\n",
            "[nltk_data]    |     /home/nageshbm/nltk_data...\n",
            "[nltk_data]    |   Package switchboard is already up-to-date!\n",
            "[nltk_data]    | Downloading package tagsets to\n",
            "[nltk_data]    |     /home/nageshbm/nltk_data...\n",
            "[nltk_data]    |   Package tagsets is already up-to-date!\n",
            "[nltk_data]    | Downloading package tagsets_json to\n",
            "[nltk_data]    |     /home/nageshbm/nltk_data...\n",
            "[nltk_data]    |   Package tagsets_json is already up-to-date!\n",
            "[nltk_data]    | Downloading package timit to\n",
            "[nltk_data]    |     /home/nageshbm/nltk_data...\n",
            "[nltk_data]    |   Package timit is already up-to-date!\n",
            "[nltk_data]    | Downloading package toolbox to\n",
            "[nltk_data]    |     /home/nageshbm/nltk_data...\n",
            "[nltk_data]    |   Package toolbox is already up-to-date!\n",
            "[nltk_data]    | Downloading package treebank to\n",
            "[nltk_data]    |     /home/nageshbm/nltk_data...\n",
            "[nltk_data]    |   Package treebank is already up-to-date!\n",
            "[nltk_data]    | Downloading package twitter_samples to\n",
            "[nltk_data]    |     /home/nageshbm/nltk_data...\n",
            "[nltk_data]    |   Package twitter_samples is already up-to-date!\n",
            "[nltk_data]    | Downloading package udhr to\n",
            "[nltk_data]    |     /home/nageshbm/nltk_data...\n",
            "[nltk_data]    |   Package udhr is already up-to-date!\n",
            "[nltk_data]    | Downloading package udhr2 to\n",
            "[nltk_data]    |     /home/nageshbm/nltk_data...\n",
            "[nltk_data]    |   Package udhr2 is already up-to-date!\n",
            "[nltk_data]    | Downloading package unicode_samples to\n",
            "[nltk_data]    |     /home/nageshbm/nltk_data...\n",
            "[nltk_data]    |   Package unicode_samples is already up-to-date!\n",
            "[nltk_data]    | Downloading package universal_tagset to\n",
            "[nltk_data]    |     /home/nageshbm/nltk_data...\n",
            "[nltk_data]    |   Package universal_tagset is already up-to-date!\n",
            "[nltk_data]    | Downloading package universal_treebanks_v20 to\n",
            "[nltk_data]    |     /home/nageshbm/nltk_data...\n",
            "[nltk_data]    |   Package universal_treebanks_v20 is already up-to-\n",
            "[nltk_data]    |       date!\n",
            "[nltk_data]    | Downloading package vader_lexicon to\n",
            "[nltk_data]    |     /home/nageshbm/nltk_data...\n",
            "[nltk_data]    |   Package vader_lexicon is already up-to-date!\n",
            "[nltk_data]    | Downloading package verbnet to\n",
            "[nltk_data]    |     /home/nageshbm/nltk_data...\n",
            "[nltk_data]    |   Package verbnet is already up-to-date!\n",
            "[nltk_data]    | Downloading package verbnet3 to\n",
            "[nltk_data]    |     /home/nageshbm/nltk_data...\n",
            "[nltk_data]    |   Package verbnet3 is already up-to-date!\n",
            "[nltk_data]    | Downloading package webtext to\n",
            "[nltk_data]    |     /home/nageshbm/nltk_data...\n",
            "[nltk_data]    |   Package webtext is already up-to-date!\n",
            "[nltk_data]    | Downloading package wmt15_eval to\n",
            "[nltk_data]    |     /home/nageshbm/nltk_data...\n",
            "[nltk_data]    |   Package wmt15_eval is already up-to-date!\n",
            "[nltk_data]    | Downloading package word2vec_sample to\n",
            "[nltk_data]    |     /home/nageshbm/nltk_data...\n",
            "[nltk_data]    |   Package word2vec_sample is already up-to-date!\n",
            "[nltk_data]    | Downloading package wordnet to\n",
            "[nltk_data]    |     /home/nageshbm/nltk_data...\n",
            "[nltk_data]    |   Package wordnet is already up-to-date!\n",
            "[nltk_data]    | Downloading package wordnet2021 to\n",
            "[nltk_data]    |     /home/nageshbm/nltk_data...\n",
            "[nltk_data]    |   Package wordnet2021 is already up-to-date!\n",
            "[nltk_data]    | Downloading package wordnet2022 to\n",
            "[nltk_data]    |     /home/nageshbm/nltk_data...\n",
            "[nltk_data]    |   Package wordnet2022 is already up-to-date!\n",
            "[nltk_data]    | Downloading package wordnet31 to\n",
            "[nltk_data]    |     /home/nageshbm/nltk_data...\n",
            "[nltk_data]    |   Package wordnet31 is already up-to-date!\n",
            "[nltk_data]    | Downloading package wordnet_ic to\n",
            "[nltk_data]    |     /home/nageshbm/nltk_data...\n",
            "[nltk_data]    |   Package wordnet_ic is already up-to-date!\n",
            "[nltk_data]    | Downloading package words to\n",
            "[nltk_data]    |     /home/nageshbm/nltk_data...\n",
            "[nltk_data]    |   Package words is already up-to-date!\n",
            "[nltk_data]    | Downloading package ycoe to\n",
            "[nltk_data]    |     /home/nageshbm/nltk_data...\n",
            "[nltk_data]    |   Package ycoe is already up-to-date!\n",
            "[nltk_data]    | \n",
            "[nltk_data]  Done downloading collection all\n"
          ]
        }
      ],
      "source": [
        "# First, install all required NLTK data\n",
        "import nltk\n",
        "import ssl\n",
        "\n",
        "try:\n",
        "    _create_unverified_https_context = ssl._create_unverified_context\n",
        "except AttributeError:\n",
        "    pass\n",
        "else:\n",
        "    ssl._create_default_https_context = _create_unverified_https_context\n",
        "\n",
        "# Download all NLTK data\n",
        "nltk.download('all')\n",
        "\n",
        "# Now proceed with loading\n",
        "from langchain_community.document_loaders import DirectoryLoader\n",
        "path = \"data/\"\n",
        "loader = DirectoryLoader(path, glob=\"*.html\")\n",
        "docs = loader.load()"
      ]
    },
    {
      "cell_type": "code",
      "execution_count": 94,
      "metadata": {},
      "outputs": [],
      "source": [
        "# Now proceed with loading the HTML files\n",
        "from langchain_community.document_loaders import DirectoryLoader\n",
        "\n",
        "path = \"data/\"\n",
        "loader = DirectoryLoader(path, glob=\"*.html\")\n",
        "docs = loader.load()"
      ]
    },
    {
      "cell_type": "code",
      "execution_count": 95,
      "metadata": {},
      "outputs": [
        {
          "name": "stderr",
          "output_type": "stream",
          "text": [
            "/mnt/c/Users/email/Desktop/bootcamp/AIE5/11_Mid_term/embedding-model-tuning/.venv/lib/python3.13/site-packages/pysbd/segmenter.py:66: SyntaxWarning: invalid escape sequence '\\s'\n",
            "  for match in re.finditer('{0}\\s*'.format(re.escape(sent)), self.original_text):\n",
            "/mnt/c/Users/email/Desktop/bootcamp/AIE5/11_Mid_term/embedding-model-tuning/.venv/lib/python3.13/site-packages/pysbd/lang/arabic.py:29: SyntaxWarning: invalid escape sequence '\\.'\n",
            "  txt = re.sub('(?<={0})\\.'.format(am), '∯', txt)\n",
            "/mnt/c/Users/email/Desktop/bootcamp/AIE5/11_Mid_term/embedding-model-tuning/.venv/lib/python3.13/site-packages/pysbd/lang/persian.py:29: SyntaxWarning: invalid escape sequence '\\.'\n",
            "  txt = re.sub('(?<={0})\\.'.format(am), '∯', txt)\n"
          ]
        }
      ],
      "source": [
        "from ragas.llms import LangchainLLMWrapper\n",
        "from ragas.embeddings import LangchainEmbeddingsWrapper\n",
        "from langchain_openai import ChatOpenAI\n",
        "from langchain_openai import OpenAIEmbeddings\n",
        "generator_llm = LangchainLLMWrapper(ChatOpenAI(model=\"gpt-4o\"))\n",
        "generator_embeddings = LangchainEmbeddingsWrapper(OpenAIEmbeddings())"
      ]
    },
    {
      "cell_type": "code",
      "execution_count": 96,
      "metadata": {},
      "outputs": [
        {
          "data": {
            "application/vnd.jupyter.widget-view+json": {
              "model_id": "a57349e0d46545fe96261f5f05c0b610",
              "version_major": 2,
              "version_minor": 0
            },
            "text/plain": [
              "Applying HeadlinesExtractor:   0%|          | 0/1 [00:00<?, ?it/s]"
            ]
          },
          "metadata": {},
          "output_type": "display_data"
        },
        {
          "data": {
            "application/vnd.jupyter.widget-view+json": {
              "model_id": "4c4272eeab674731b8c593481d580399",
              "version_major": 2,
              "version_minor": 0
            },
            "text/plain": [
              "Applying HeadlineSplitter:   0%|          | 0/1 [00:00<?, ?it/s]"
            ]
          },
          "metadata": {},
          "output_type": "display_data"
        },
        {
          "data": {
            "application/vnd.jupyter.widget-view+json": {
              "model_id": "648e40b96977431392b5e9b38a83d7b3",
              "version_major": 2,
              "version_minor": 0
            },
            "text/plain": [
              "Applying SummaryExtractor:   0%|          | 0/1 [00:00<?, ?it/s]"
            ]
          },
          "metadata": {},
          "output_type": "display_data"
        },
        {
          "data": {
            "application/vnd.jupyter.widget-view+json": {
              "model_id": "b534751f06fb4a35831f7a3e95579c7f",
              "version_major": 2,
              "version_minor": 0
            },
            "text/plain": [
              "Applying CustomNodeFilter:   0%|          | 0/6 [00:00<?, ?it/s]"
            ]
          },
          "metadata": {},
          "output_type": "display_data"
        },
        {
          "data": {
            "application/vnd.jupyter.widget-view+json": {
              "model_id": "d7f2bd4281f94d0b926f4832964e93a7",
              "version_major": 2,
              "version_minor": 0
            },
            "text/plain": [
              "Applying [EmbeddingExtractor, ThemesExtractor, NERExtractor]:   0%|          | 0/13 [00:00<?, ?it/s]"
            ]
          },
          "metadata": {},
          "output_type": "display_data"
        },
        {
          "data": {
            "application/vnd.jupyter.widget-view+json": {
              "model_id": "06d34fae31704885aecbe94931347fd7",
              "version_major": 2,
              "version_minor": 0
            },
            "text/plain": [
              "Applying [CosineSimilarityBuilder, OverlapScoreBuilder]:   0%|          | 0/2 [00:00<?, ?it/s]"
            ]
          },
          "metadata": {},
          "output_type": "display_data"
        },
        {
          "data": {
            "application/vnd.jupyter.widget-view+json": {
              "model_id": "6daa40bf3a6e4b63a4ab85334dbb063c",
              "version_major": 2,
              "version_minor": 0
            },
            "text/plain": [
              "Generating personas:   0%|          | 0/1 [00:00<?, ?it/s]"
            ]
          },
          "metadata": {},
          "output_type": "display_data"
        },
        {
          "data": {
            "application/vnd.jupyter.widget-view+json": {
              "model_id": "c0806fdaa5554c1cb82b083316e3a0b1",
              "version_major": 2,
              "version_minor": 0
            },
            "text/plain": [
              "Generating Scenarios:   0%|          | 0/1 [00:00<?, ?it/s]"
            ]
          },
          "metadata": {},
          "output_type": "display_data"
        },
        {
          "data": {
            "application/vnd.jupyter.widget-view+json": {
              "model_id": "e6f71b73eb08430e89dbc7989ed5a409",
              "version_major": 2,
              "version_minor": 0
            },
            "text/plain": [
              "Generating Samples:   0%|          | 0/10 [00:00<?, ?it/s]"
            ]
          },
          "metadata": {},
          "output_type": "display_data"
        }
      ],
      "source": [
        "from ragas.testset import TestsetGenerator\n",
        "\n",
        "generator = TestsetGenerator(llm=generator_llm, embedding_model=generator_embeddings)\n",
        "dataset = generator.generate_with_langchain_docs(docs, testset_size=10)"
      ]
    },
    {
      "cell_type": "code",
      "execution_count": 97,
      "metadata": {},
      "outputs": [
        {
          "data": {
            "text/html": [
              "<div>\n",
              "<style scoped>\n",
              "    .dataframe tbody tr th:only-of-type {\n",
              "        vertical-align: middle;\n",
              "    }\n",
              "\n",
              "    .dataframe tbody tr th {\n",
              "        vertical-align: top;\n",
              "    }\n",
              "\n",
              "    .dataframe thead th {\n",
              "        text-align: right;\n",
              "    }\n",
              "</style>\n",
              "<table border=\"1\" class=\"dataframe\">\n",
              "  <thead>\n",
              "    <tr style=\"text-align: right;\">\n",
              "      <th></th>\n",
              "      <th>user_input</th>\n",
              "      <th>reference_contexts</th>\n",
              "      <th>reference</th>\n",
              "      <th>synthesizer_name</th>\n",
              "    </tr>\n",
              "  </thead>\n",
              "  <tbody>\n",
              "    <tr>\n",
              "      <th>0</th>\n",
              "      <td>Wut iz Post-Quantum Cryptography?</td>\n",
              "      <td>[Tech &amp; Science Podcast Transcripts Are Humans...</td>\n",
              "      <td>Post-Quantum Cryptography (PQC) involves the d...</td>\n",
              "      <td>single_hop_specifc_query_synthesizer</td>\n",
              "    </tr>\n",
              "    <tr>\n",
              "      <th>1</th>\n",
              "      <td>What are the latest developments in Quantum Co...</td>\n",
              "      <td>[Tech &amp; Science Podcast Transcripts Are Humans...</td>\n",
              "      <td>The latest developments in quantum computing p...</td>\n",
              "      <td>single_hop_specifc_query_synthesizer</td>\n",
              "    </tr>\n",
              "    <tr>\n",
              "      <th>2</th>\n",
              "      <td>How duz AI impact job markits and wut skills w...</td>\n",
              "      <td>[Environmental Impact of Fast Fashion Topic: E...</td>\n",
              "      <td>AI impacts job markets by creating new job opp...</td>\n",
              "      <td>single_hop_specifc_query_synthesizer</td>\n",
              "    </tr>\n",
              "    <tr>\n",
              "      <th>3</th>\n",
              "      <td>What are the environmental impacts of fast fas...</td>\n",
              "      <td>[Environmental Impact of Fast Fashion Topic: E...</td>\n",
              "      <td>Fast fashion poses a significant environmental...</td>\n",
              "      <td>single_hop_specifc_query_synthesizer</td>\n",
              "    </tr>\n",
              "    <tr>\n",
              "      <th>4</th>\n",
              "      <td>How does the Tech Innovators Podcast address t...</td>\n",
              "      <td>[Social Media and Mental Health Topic: What ar...</td>\n",
              "      <td>The Tech Innovators Podcast discusses the chal...</td>\n",
              "      <td>single_hop_specifc_query_synthesizer</td>\n",
              "    </tr>\n",
              "    <tr>\n",
              "      <th>5</th>\n",
              "      <td>what space explorers podcast talk about?</td>\n",
              "      <td>[Social Media and Mental Health Topic: What ar...</td>\n",
              "      <td>The Space Explorers Podcast discusses the bene...</td>\n",
              "      <td>single_hop_specifc_query_synthesizer</td>\n",
              "    </tr>\n",
              "    <tr>\n",
              "      <th>6</th>\n",
              "      <td>how 5G tech change telecommunications and what...</td>\n",
              "      <td>[that while the advancements in cancer researc...</td>\n",
              "      <td>5G technology is reshaping telecommunications ...</td>\n",
              "      <td>single_hop_specifc_query_synthesizer</td>\n",
              "    </tr>\n",
              "    <tr>\n",
              "      <th>7</th>\n",
              "      <td>what climate change do?</td>\n",
              "      <td>[that while the advancements in cancer researc...</td>\n",
              "      <td>The context does not provide specific informat...</td>\n",
              "      <td>single_hop_specifc_query_synthesizer</td>\n",
              "    </tr>\n",
              "    <tr>\n",
              "      <th>8</th>\n",
              "      <td>What are the psychological factors behind cons...</td>\n",
              "      <td>[pave the way for a more resilient and sustain...</td>\n",
              "      <td>The psychological factors behind conspiracy th...</td>\n",
              "      <td>single_hop_specifc_query_synthesizer</td>\n",
              "    </tr>\n",
              "    <tr>\n",
              "      <th>9</th>\n",
              "      <td>What are the psychological factors that contri...</td>\n",
              "      <td>[pave the way for a more resilient and sustain...</td>\n",
              "      <td>The psychological factors behind conspiracy th...</td>\n",
              "      <td>single_hop_specifc_query_synthesizer</td>\n",
              "    </tr>\n",
              "  </tbody>\n",
              "</table>\n",
              "</div>"
            ],
            "text/plain": [
              "                                          user_input  \\\n",
              "0                  Wut iz Post-Quantum Cryptography?   \n",
              "1  What are the latest developments in Quantum Co...   \n",
              "2  How duz AI impact job markits and wut skills w...   \n",
              "3  What are the environmental impacts of fast fas...   \n",
              "4  How does the Tech Innovators Podcast address t...   \n",
              "5           what space explorers podcast talk about?   \n",
              "6  how 5G tech change telecommunications and what...   \n",
              "7                            what climate change do?   \n",
              "8  What are the psychological factors behind cons...   \n",
              "9  What are the psychological factors that contri...   \n",
              "\n",
              "                                  reference_contexts  \\\n",
              "0  [Tech & Science Podcast Transcripts Are Humans...   \n",
              "1  [Tech & Science Podcast Transcripts Are Humans...   \n",
              "2  [Environmental Impact of Fast Fashion Topic: E...   \n",
              "3  [Environmental Impact of Fast Fashion Topic: E...   \n",
              "4  [Social Media and Mental Health Topic: What ar...   \n",
              "5  [Social Media and Mental Health Topic: What ar...   \n",
              "6  [that while the advancements in cancer researc...   \n",
              "7  [that while the advancements in cancer researc...   \n",
              "8  [pave the way for a more resilient and sustain...   \n",
              "9  [pave the way for a more resilient and sustain...   \n",
              "\n",
              "                                           reference  \\\n",
              "0  Post-Quantum Cryptography (PQC) involves the d...   \n",
              "1  The latest developments in quantum computing p...   \n",
              "2  AI impacts job markets by creating new job opp...   \n",
              "3  Fast fashion poses a significant environmental...   \n",
              "4  The Tech Innovators Podcast discusses the chal...   \n",
              "5  The Space Explorers Podcast discusses the bene...   \n",
              "6  5G technology is reshaping telecommunications ...   \n",
              "7  The context does not provide specific informat...   \n",
              "8  The psychological factors behind conspiracy th...   \n",
              "9  The psychological factors behind conspiracy th...   \n",
              "\n",
              "                       synthesizer_name  \n",
              "0  single_hop_specifc_query_synthesizer  \n",
              "1  single_hop_specifc_query_synthesizer  \n",
              "2  single_hop_specifc_query_synthesizer  \n",
              "3  single_hop_specifc_query_synthesizer  \n",
              "4  single_hop_specifc_query_synthesizer  \n",
              "5  single_hop_specifc_query_synthesizer  \n",
              "6  single_hop_specifc_query_synthesizer  \n",
              "7  single_hop_specifc_query_synthesizer  \n",
              "8  single_hop_specifc_query_synthesizer  \n",
              "9  single_hop_specifc_query_synthesizer  "
            ]
          },
          "execution_count": 97,
          "metadata": {},
          "output_type": "execute_result"
        }
      ],
      "source": [
        "dataset.to_pandas()"
      ]
    },
    {
      "cell_type": "code",
      "execution_count": 98,
      "metadata": {},
      "outputs": [],
      "source": [
        "path = \"data/\"\n",
        "loader = DirectoryLoader(path, glob=\"*.html\")\n",
        "docs = loader.load()"
      ]
    },
    {
      "cell_type": "code",
      "execution_count": 99,
      "metadata": {},
      "outputs": [],
      "source": [
        "base_embeddings = HuggingFaceEmbeddings(model_name=\"Snowflake/snowflake-arctic-embed-l\")"
      ]
    },
    {
      "cell_type": "code",
      "execution_count": 100,
      "metadata": {},
      "outputs": [
        {
          "name": "stderr",
          "output_type": "stream",
          "text": [
            "Some weights of BertModel were not initialized from the model checkpoint at dataera2013/legal-ft-2 and are newly initialized: ['pooler.dense.bias', 'pooler.dense.weight']\n",
            "You should probably TRAIN this model on a down-stream task to be able to use it for predictions and inference.\n"
          ]
        }
      ],
      "source": [
        "ft_embeddings = HuggingFaceEmbeddings(model_name=\"dataera2013/legal-ft-2\")"
      ]
    },
    {
      "cell_type": "code",
      "execution_count": 101,
      "metadata": {},
      "outputs": [],
      "source": [
        "from langchain_qdrant import QdrantVectorStore\n",
        "from qdrant_client import QdrantClient\n",
        "from qdrant_client.http.models import Distance, VectorParams\n",
        "\n",
        "client = QdrantClient(\":memory:\")\n",
        "\n",
        "client.create_collection(\n",
        "    collection_name=\"base_ai_across_years\",\n",
        "    vectors_config=VectorParams(size=1024, distance=Distance.COSINE),\n",
        ")\n",
        "\n",
        "client.create_collection(\n",
        "    collection_name=\"ft_ai_across_years\",\n",
        "    vectors_config=VectorParams(size=1024, distance=Distance.COSINE),\n",
        ")\n",
        "\n",
        "base_vector_store = QdrantVectorStore(\n",
        "    client=client,\n",
        "    collection_name=\"base_ai_across_years\",\n",
        "    embedding=base_embeddings,\n",
        ")\n",
        "\n",
        "ft_vector_store = QdrantVectorStore(\n",
        "    client=client,\n",
        "    collection_name=\"ft_ai_across_years\",\n",
        "    embedding=ft_embeddings,\n",
        ")"
      ]
    },
    {
      "cell_type": "code",
      "execution_count": 102,
      "metadata": {},
      "outputs": [
        {
          "data": {
            "text/plain": [
              "38"
            ]
          },
          "execution_count": 102,
          "metadata": {},
          "output_type": "execute_result"
        }
      ],
      "source": [
        "from langchain.text_splitter import RecursiveCharacterTextSplitter\n",
        "\n",
        "text_splitter = RecursiveCharacterTextSplitter(chunk_size=1000, chunk_overlap=200)\n",
        "split_documents = text_splitter.split_documents(docs)\n",
        "len(split_documents)"
      ]
    },
    {
      "cell_type": "code",
      "execution_count": 103,
      "metadata": {},
      "outputs": [],
      "source": [
        "_ = base_vector_store.add_documents(documents=split_documents)"
      ]
    },
    {
      "cell_type": "code",
      "execution_count": 104,
      "metadata": {},
      "outputs": [],
      "source": [
        "__ = ft_vector_store.add_documents(documents=split_documents)"
      ]
    },
    {
      "cell_type": "code",
      "execution_count": 105,
      "metadata": {},
      "outputs": [],
      "source": [
        "base_retriever = base_vector_store.as_retriever(search_kwargs={\"k\": 5})\n",
        "ft_retriever = ft_vector_store.as_retriever(search_kwargs={\"k\": 5})"
      ]
    },
    {
      "cell_type": "code",
      "execution_count": 106,
      "metadata": {},
      "outputs": [],
      "source": [
        "def base_retrieve(state):\n",
        "  retrieved_docs = base_retriever.invoke(state[\"question\"])\n",
        "  return {\"context\" : retrieved_docs}\n",
        "\n",
        "def ft_retrieve(state): \n",
        "  retrieved_docs = ft_retriever.invoke(state[\"question\"])\n",
        "  return {\"context\" : retrieved_docs}"
      ]
    },
    {
      "cell_type": "code",
      "execution_count": 107,
      "metadata": {},
      "outputs": [],
      "source": [
        "from langchain.prompts import ChatPromptTemplate\n",
        "\n",
        "RAG_PROMPT = \"\"\"\\\n",
        "You are a helpful assistant who answers questions based on provided context. You must only use the provided context, and cannot use your own knowledge.\n",
        "\n",
        "### Question\n",
        "{question}\n",
        "\n",
        "### Context\n",
        "{context}\n",
        "\"\"\"\n",
        "\n",
        "rag_prompt = ChatPromptTemplate.from_template(RAG_PROMPT)"
      ]
    },
    {
      "cell_type": "code",
      "execution_count": 108,
      "metadata": {},
      "outputs": [],
      "source": [
        "from langchain_openai import ChatOpenAI\n",
        "\n",
        "llm = ChatOpenAI(model=\"gpt-4o-mini\")"
      ]
    },
    {
      "cell_type": "code",
      "execution_count": 109,
      "metadata": {},
      "outputs": [],
      "source": [
        "def generate(state):\n",
        "  docs_content = \"\\n\\n\".join(doc.page_content for doc in state[\"context\"])\n",
        "  messages = rag_prompt.format_messages(question=state[\"question\"], context=docs_content)\n",
        "  response = llm.invoke(messages)\n",
        "  return {\"response\" : response.content}"
      ]
    },
    {
      "cell_type": "code",
      "execution_count": 110,
      "metadata": {},
      "outputs": [],
      "source": [
        "from langgraph.graph import START, StateGraph\n",
        "from typing_extensions import List, TypedDict\n",
        "from langchain_core.documents import Document\n",
        "\n",
        "class BaseState(TypedDict):\n",
        "  question: str\n",
        "  context: List[Document]\n",
        "  response: str\n",
        "\n",
        "class FState(TypedDict):\n",
        "  question: str\n",
        "  context: List[Document]\n",
        "  response: str\n"
      ]
    },
    {
      "cell_type": "code",
      "execution_count": 111,
      "metadata": {},
      "outputs": [],
      "source": [
        "base_graph_builder = StateGraph(BaseState).add_sequence([base_retrieve, generate])\n",
        "base_graph_builder.add_edge(START, \"base_retrieve\")\n",
        "base_graph = base_graph_builder.compile()\n",
        "\n",
        "ft_graph_builder = StateGraph(FState).add_sequence([ft_retrieve, generate])\n",
        "ft_graph_builder.add_edge(START, \"ft_retrieve\")\n",
        "ft_graph = ft_graph_builder.compile()"
      ]
    },
    {
      "cell_type": "code",
      "execution_count": 113,
      "metadata": {},
      "outputs": [
        {
          "data": {
            "text/plain": [
              "'People believe in conspiracy theories due to several psychological factors. These include confirmation bias, social dynamics, group polarization, and psychological vulnerabilities. Confirmation bias leads individuals to seek out information that supports their preexisting beliefs, while social dynamics and group polarization can strengthen these beliefs within specific communities. Psychological vulnerabilities also play a significant role, as certain individuals may turn to conspiracy theories as a way to make sense of complex or uncertain situations in their lives. Understanding these factors offers opportunities for constructive interventions, such as enhancing critical thinking skills and building trust in institutions.'"
            ]
          },
          "execution_count": 113,
          "metadata": {},
          "output_type": "execute_result"
        }
      ],
      "source": [
        "response = base_graph.invoke({\"question\" : \"Why do people believe in conspiracy theories?\"})\n",
        "response[\"response\"]"
      ]
    },
    {
      "cell_type": "code",
      "execution_count": 114,
      "metadata": {},
      "outputs": [
        {
          "data": {
            "text/plain": [
              "'People believe in conspiracy theories due to a variety of psychological factors. These include:\\n\\n1. **Confirmation Bias**: Individuals tend to favor information that confirms their existing beliefs, which can lead them to accept conspiracy theories that align with their worldview.\\n\\n2. **Social Dynamics**: Group polarization can occur within communities that support conspiracy theories, reinforcing these beliefs and making individuals more entrenched in their views.\\n\\n3. **Psychological Vulnerabilities**: Certain psychological traits or vulnerabilities can make individuals more susceptible to conspiracy narratives, particularly in times of uncertainty or fear.\\n\\nBy understanding these factors, there are opportunities to promote critical thinking, build trust in institutions, and enhance emotional intelligence, helping individuals cope with uncertainty without resorting to conspiracy theories.'"
            ]
          },
          "execution_count": 114,
          "metadata": {},
          "output_type": "execute_result"
        }
      ],
      "source": [
        "response = ft_graph.invoke({\"question\" : \"Why do people believe in conspiracy theories?\"})\n",
        "response[\"response\"]"
      ]
    },
    {
      "cell_type": "code",
      "execution_count": 115,
      "metadata": {},
      "outputs": [],
      "source": [
        "base_dataset = dataset\n",
        "ft_dataset = dataset\n",
        "\n",
        "for base_test_row in base_dataset:\n",
        "  base_response = base_graph.invoke({\"question\" : base_test_row.eval_sample.user_input})\n",
        "  base_test_row.eval_sample.response = base_response[\"response\"]\n",
        "  base_test_row.eval_sample.retrieved_contexts = [context.page_content for context in base_response[\"context\"]]\n",
        "\n",
        "for ft_test_row in ft_dataset:\n",
        "  ft_response = ft_graph.invoke({\"question\" : ft_test_row.eval_sample.user_input})\n",
        "  ft_test_row.eval_sample.response = ft_response[\"response\"]\n",
        "  ft_test_row.eval_sample.retrieved_contexts = [context.page_content for context in ft_response[\"context\"]]"
      ]
    },
    {
      "cell_type": "code",
      "execution_count": 116,
      "metadata": {},
      "outputs": [
        {
          "data": {
            "text/html": [
              "<div>\n",
              "<style scoped>\n",
              "    .dataframe tbody tr th:only-of-type {\n",
              "        vertical-align: middle;\n",
              "    }\n",
              "\n",
              "    .dataframe tbody tr th {\n",
              "        vertical-align: top;\n",
              "    }\n",
              "\n",
              "    .dataframe thead th {\n",
              "        text-align: right;\n",
              "    }\n",
              "</style>\n",
              "<table border=\"1\" class=\"dataframe\">\n",
              "  <thead>\n",
              "    <tr style=\"text-align: right;\">\n",
              "      <th></th>\n",
              "      <th>user_input</th>\n",
              "      <th>retrieved_contexts</th>\n",
              "      <th>reference_contexts</th>\n",
              "      <th>response</th>\n",
              "      <th>reference</th>\n",
              "      <th>synthesizer_name</th>\n",
              "    </tr>\n",
              "  </thead>\n",
              "  <tbody>\n",
              "    <tr>\n",
              "      <th>0</th>\n",
              "      <td>Wut iz Post-Quantum Cryptography?</td>\n",
              "      <td>[[BELIEVER PERSPECTIVE]\\n\\nThe latest quantum ...</td>\n",
              "      <td>[Tech &amp; Science Podcast Transcripts Are Humans...</td>\n",
              "      <td>Post-Quantum Cryptography (PQC) refers to the ...</td>\n",
              "      <td>Post-Quantum Cryptography (PQC) involves the d...</td>\n",
              "      <td>single_hop_specifc_query_synthesizer</td>\n",
              "    </tr>\n",
              "    <tr>\n",
              "      <th>1</th>\n",
              "      <td>What are the latest developments in Quantum Co...</td>\n",
              "      <td>[Quantum Computing and Cryptography\\n\\nTopic: ...</td>\n",
              "      <td>[Tech &amp; Science Podcast Transcripts Are Humans...</td>\n",
              "      <td>The latest developments in quantum computing h...</td>\n",
              "      <td>The latest developments in quantum computing p...</td>\n",
              "      <td>single_hop_specifc_query_synthesizer</td>\n",
              "    </tr>\n",
              "    <tr>\n",
              "      <th>2</th>\n",
              "      <td>How duz AI impact job markits and wut skills w...</td>\n",
              "      <td>[[SKEPTIC PERSPECTIVE]\\n\\nJob displacement and...</td>\n",
              "      <td>[Environmental Impact of Fast Fashion Topic: E...</td>\n",
              "      <td>AI impacts job markets by creating new job opp...</td>\n",
              "      <td>AI impacts job markets by creating new job opp...</td>\n",
              "      <td>single_hop_specifc_query_synthesizer</td>\n",
              "    </tr>\n",
              "    <tr>\n",
              "      <th>3</th>\n",
              "      <td>What are the environmental impacts of fast fas...</td>\n",
              "      <td>[[SKEPTIC PERSPECTIVE]\\n\\nLet's start by exami...</td>\n",
              "      <td>[Environmental Impact of Fast Fashion Topic: E...</td>\n",
              "      <td>Fast fashion has significant environmental imp...</td>\n",
              "      <td>Fast fashion poses a significant environmental...</td>\n",
              "      <td>single_hop_specifc_query_synthesizer</td>\n",
              "    </tr>\n",
              "    <tr>\n",
              "      <th>4</th>\n",
              "      <td>How does the Tech Innovators Podcast address t...</td>\n",
              "      <td>[[SKEPTIC PERSPECTIVE]\\n\\nWhen discussing bloc...</td>\n",
              "      <td>[Social Media and Mental Health Topic: What ar...</td>\n",
              "      <td>The Tech Innovators Podcast addresses the chal...</td>\n",
              "      <td>The Tech Innovators Podcast discusses the chal...</td>\n",
              "      <td>single_hop_specifc_query_synthesizer</td>\n",
              "    </tr>\n",
              "    <tr>\n",
              "      <th>5</th>\n",
              "      <td>what space explorers podcast talk about?</td>\n",
              "      <td>[Space Exploration Benefits\\n\\nTopic: How does...</td>\n",
              "      <td>[Social Media and Mental Health Topic: What ar...</td>\n",
              "      <td>The Space Explorers Podcast discusses the bene...</td>\n",
              "      <td>The Space Explorers Podcast discusses the bene...</td>\n",
              "      <td>single_hop_specifc_query_synthesizer</td>\n",
              "    </tr>\n",
              "    <tr>\n",
              "      <th>6</th>\n",
              "      <td>how 5G tech change telecommunications and what...</td>\n",
              "      <td>[[CONCLUSION]\\n\\nAs we wrap up, it's evident t...</td>\n",
              "      <td>[that while the advancements in cancer researc...</td>\n",
              "      <td>5G technology is significantly changing teleco...</td>\n",
              "      <td>5G technology is reshaping telecommunications ...</td>\n",
              "      <td>single_hop_specifc_query_synthesizer</td>\n",
              "    </tr>\n",
              "    <tr>\n",
              "      <th>7</th>\n",
              "      <td>what climate change do?</td>\n",
              "      <td>[Climate Change Science and Impacts\\n\\nTopic: ...</td>\n",
              "      <td>[that while the advancements in cancer researc...</td>\n",
              "      <td>Climate change contributes to a variety of glo...</td>\n",
              "      <td>The context does not provide specific informat...</td>\n",
              "      <td>single_hop_specifc_query_synthesizer</td>\n",
              "    </tr>\n",
              "    <tr>\n",
              "      <th>8</th>\n",
              "      <td>What are the psychological factors behind cons...</td>\n",
              "      <td>[[CONCLUSION]\\n\\nTo wrap up, stakeholders must...</td>\n",
              "      <td>[pave the way for a more resilient and sustain...</td>\n",
              "      <td>The psychological factors behind conspiracy th...</td>\n",
              "      <td>The psychological factors behind conspiracy th...</td>\n",
              "      <td>single_hop_specifc_query_synthesizer</td>\n",
              "    </tr>\n",
              "    <tr>\n",
              "      <th>9</th>\n",
              "      <td>What are the psychological factors that contri...</td>\n",
              "      <td>[[CONCLUSION]\\n\\nTo wrap up, stakeholders must...</td>\n",
              "      <td>[pave the way for a more resilient and sustain...</td>\n",
              "      <td>The psychological factors contributing to beli...</td>\n",
              "      <td>The psychological factors behind conspiracy th...</td>\n",
              "      <td>single_hop_specifc_query_synthesizer</td>\n",
              "    </tr>\n",
              "  </tbody>\n",
              "</table>\n",
              "</div>"
            ],
            "text/plain": [
              "                                          user_input  \\\n",
              "0                  Wut iz Post-Quantum Cryptography?   \n",
              "1  What are the latest developments in Quantum Co...   \n",
              "2  How duz AI impact job markits and wut skills w...   \n",
              "3  What are the environmental impacts of fast fas...   \n",
              "4  How does the Tech Innovators Podcast address t...   \n",
              "5           what space explorers podcast talk about?   \n",
              "6  how 5G tech change telecommunications and what...   \n",
              "7                            what climate change do?   \n",
              "8  What are the psychological factors behind cons...   \n",
              "9  What are the psychological factors that contri...   \n",
              "\n",
              "                                  retrieved_contexts  \\\n",
              "0  [[BELIEVER PERSPECTIVE]\\n\\nThe latest quantum ...   \n",
              "1  [Quantum Computing and Cryptography\\n\\nTopic: ...   \n",
              "2  [[SKEPTIC PERSPECTIVE]\\n\\nJob displacement and...   \n",
              "3  [[SKEPTIC PERSPECTIVE]\\n\\nLet's start by exami...   \n",
              "4  [[SKEPTIC PERSPECTIVE]\\n\\nWhen discussing bloc...   \n",
              "5  [Space Exploration Benefits\\n\\nTopic: How does...   \n",
              "6  [[CONCLUSION]\\n\\nAs we wrap up, it's evident t...   \n",
              "7  [Climate Change Science and Impacts\\n\\nTopic: ...   \n",
              "8  [[CONCLUSION]\\n\\nTo wrap up, stakeholders must...   \n",
              "9  [[CONCLUSION]\\n\\nTo wrap up, stakeholders must...   \n",
              "\n",
              "                                  reference_contexts  \\\n",
              "0  [Tech & Science Podcast Transcripts Are Humans...   \n",
              "1  [Tech & Science Podcast Transcripts Are Humans...   \n",
              "2  [Environmental Impact of Fast Fashion Topic: E...   \n",
              "3  [Environmental Impact of Fast Fashion Topic: E...   \n",
              "4  [Social Media and Mental Health Topic: What ar...   \n",
              "5  [Social Media and Mental Health Topic: What ar...   \n",
              "6  [that while the advancements in cancer researc...   \n",
              "7  [that while the advancements in cancer researc...   \n",
              "8  [pave the way for a more resilient and sustain...   \n",
              "9  [pave the way for a more resilient and sustain...   \n",
              "\n",
              "                                            response  \\\n",
              "0  Post-Quantum Cryptography (PQC) refers to the ...   \n",
              "1  The latest developments in quantum computing h...   \n",
              "2  AI impacts job markets by creating new job opp...   \n",
              "3  Fast fashion has significant environmental imp...   \n",
              "4  The Tech Innovators Podcast addresses the chal...   \n",
              "5  The Space Explorers Podcast discusses the bene...   \n",
              "6  5G technology is significantly changing teleco...   \n",
              "7  Climate change contributes to a variety of glo...   \n",
              "8  The psychological factors behind conspiracy th...   \n",
              "9  The psychological factors contributing to beli...   \n",
              "\n",
              "                                           reference  \\\n",
              "0  Post-Quantum Cryptography (PQC) involves the d...   \n",
              "1  The latest developments in quantum computing p...   \n",
              "2  AI impacts job markets by creating new job opp...   \n",
              "3  Fast fashion poses a significant environmental...   \n",
              "4  The Tech Innovators Podcast discusses the chal...   \n",
              "5  The Space Explorers Podcast discusses the bene...   \n",
              "6  5G technology is reshaping telecommunications ...   \n",
              "7  The context does not provide specific informat...   \n",
              "8  The psychological factors behind conspiracy th...   \n",
              "9  The psychological factors behind conspiracy th...   \n",
              "\n",
              "                       synthesizer_name  \n",
              "0  single_hop_specifc_query_synthesizer  \n",
              "1  single_hop_specifc_query_synthesizer  \n",
              "2  single_hop_specifc_query_synthesizer  \n",
              "3  single_hop_specifc_query_synthesizer  \n",
              "4  single_hop_specifc_query_synthesizer  \n",
              "5  single_hop_specifc_query_synthesizer  \n",
              "6  single_hop_specifc_query_synthesizer  \n",
              "7  single_hop_specifc_query_synthesizer  \n",
              "8  single_hop_specifc_query_synthesizer  \n",
              "9  single_hop_specifc_query_synthesizer  "
            ]
          },
          "execution_count": 116,
          "metadata": {},
          "output_type": "execute_result"
        }
      ],
      "source": [
        "base_dataset.to_pandas()"
      ]
    },
    {
      "cell_type": "code",
      "execution_count": 117,
      "metadata": {},
      "outputs": [
        {
          "data": {
            "text/html": [
              "<div>\n",
              "<style scoped>\n",
              "    .dataframe tbody tr th:only-of-type {\n",
              "        vertical-align: middle;\n",
              "    }\n",
              "\n",
              "    .dataframe tbody tr th {\n",
              "        vertical-align: top;\n",
              "    }\n",
              "\n",
              "    .dataframe thead th {\n",
              "        text-align: right;\n",
              "    }\n",
              "</style>\n",
              "<table border=\"1\" class=\"dataframe\">\n",
              "  <thead>\n",
              "    <tr style=\"text-align: right;\">\n",
              "      <th></th>\n",
              "      <th>user_input</th>\n",
              "      <th>retrieved_contexts</th>\n",
              "      <th>reference_contexts</th>\n",
              "      <th>response</th>\n",
              "      <th>reference</th>\n",
              "      <th>synthesizer_name</th>\n",
              "    </tr>\n",
              "  </thead>\n",
              "  <tbody>\n",
              "    <tr>\n",
              "      <th>0</th>\n",
              "      <td>Wut iz Post-Quantum Cryptography?</td>\n",
              "      <td>[[BELIEVER PERSPECTIVE]\\n\\nThe latest quantum ...</td>\n",
              "      <td>[Tech &amp; Science Podcast Transcripts Are Humans...</td>\n",
              "      <td>Post-Quantum Cryptography (PQC) refers to the ...</td>\n",
              "      <td>Post-Quantum Cryptography (PQC) involves the d...</td>\n",
              "      <td>single_hop_specifc_query_synthesizer</td>\n",
              "    </tr>\n",
              "    <tr>\n",
              "      <th>1</th>\n",
              "      <td>What are the latest developments in Quantum Co...</td>\n",
              "      <td>[Quantum Computing and Cryptography\\n\\nTopic: ...</td>\n",
              "      <td>[Tech &amp; Science Podcast Transcripts Are Humans...</td>\n",
              "      <td>The latest developments in quantum computing h...</td>\n",
              "      <td>The latest developments in quantum computing p...</td>\n",
              "      <td>single_hop_specifc_query_synthesizer</td>\n",
              "    </tr>\n",
              "    <tr>\n",
              "      <th>2</th>\n",
              "      <td>How duz AI impact job markits and wut skills w...</td>\n",
              "      <td>[[SKEPTIC PERSPECTIVE]\\n\\nJob displacement and...</td>\n",
              "      <td>[Environmental Impact of Fast Fashion Topic: E...</td>\n",
              "      <td>AI impacts job markets by creating new job opp...</td>\n",
              "      <td>AI impacts job markets by creating new job opp...</td>\n",
              "      <td>single_hop_specifc_query_synthesizer</td>\n",
              "    </tr>\n",
              "    <tr>\n",
              "      <th>3</th>\n",
              "      <td>What are the environmental impacts of fast fas...</td>\n",
              "      <td>[[SKEPTIC PERSPECTIVE]\\n\\nLet's start by exami...</td>\n",
              "      <td>[Environmental Impact of Fast Fashion Topic: E...</td>\n",
              "      <td>Fast fashion has significant environmental imp...</td>\n",
              "      <td>Fast fashion poses a significant environmental...</td>\n",
              "      <td>single_hop_specifc_query_synthesizer</td>\n",
              "    </tr>\n",
              "    <tr>\n",
              "      <th>4</th>\n",
              "      <td>How does the Tech Innovators Podcast address t...</td>\n",
              "      <td>[[SKEPTIC PERSPECTIVE]\\n\\nWhen discussing bloc...</td>\n",
              "      <td>[Social Media and Mental Health Topic: What ar...</td>\n",
              "      <td>The Tech Innovators Podcast addresses the chal...</td>\n",
              "      <td>The Tech Innovators Podcast discusses the chal...</td>\n",
              "      <td>single_hop_specifc_query_synthesizer</td>\n",
              "    </tr>\n",
              "    <tr>\n",
              "      <th>5</th>\n",
              "      <td>what space explorers podcast talk about?</td>\n",
              "      <td>[Space Exploration Benefits\\n\\nTopic: How does...</td>\n",
              "      <td>[Social Media and Mental Health Topic: What ar...</td>\n",
              "      <td>The Space Explorers Podcast discusses the bene...</td>\n",
              "      <td>The Space Explorers Podcast discusses the bene...</td>\n",
              "      <td>single_hop_specifc_query_synthesizer</td>\n",
              "    </tr>\n",
              "    <tr>\n",
              "      <th>6</th>\n",
              "      <td>how 5G tech change telecommunications and what...</td>\n",
              "      <td>[[CONCLUSION]\\n\\nAs we wrap up, it's evident t...</td>\n",
              "      <td>[that while the advancements in cancer researc...</td>\n",
              "      <td>5G technology is significantly changing teleco...</td>\n",
              "      <td>5G technology is reshaping telecommunications ...</td>\n",
              "      <td>single_hop_specifc_query_synthesizer</td>\n",
              "    </tr>\n",
              "    <tr>\n",
              "      <th>7</th>\n",
              "      <td>what climate change do?</td>\n",
              "      <td>[Climate Change Science and Impacts\\n\\nTopic: ...</td>\n",
              "      <td>[that while the advancements in cancer researc...</td>\n",
              "      <td>Climate change contributes to a variety of glo...</td>\n",
              "      <td>The context does not provide specific informat...</td>\n",
              "      <td>single_hop_specifc_query_synthesizer</td>\n",
              "    </tr>\n",
              "    <tr>\n",
              "      <th>8</th>\n",
              "      <td>What are the psychological factors behind cons...</td>\n",
              "      <td>[[CONCLUSION]\\n\\nTo wrap up, stakeholders must...</td>\n",
              "      <td>[pave the way for a more resilient and sustain...</td>\n",
              "      <td>The psychological factors behind conspiracy th...</td>\n",
              "      <td>The psychological factors behind conspiracy th...</td>\n",
              "      <td>single_hop_specifc_query_synthesizer</td>\n",
              "    </tr>\n",
              "    <tr>\n",
              "      <th>9</th>\n",
              "      <td>What are the psychological factors that contri...</td>\n",
              "      <td>[[CONCLUSION]\\n\\nTo wrap up, stakeholders must...</td>\n",
              "      <td>[pave the way for a more resilient and sustain...</td>\n",
              "      <td>The psychological factors contributing to beli...</td>\n",
              "      <td>The psychological factors behind conspiracy th...</td>\n",
              "      <td>single_hop_specifc_query_synthesizer</td>\n",
              "    </tr>\n",
              "  </tbody>\n",
              "</table>\n",
              "</div>"
            ],
            "text/plain": [
              "                                          user_input  \\\n",
              "0                  Wut iz Post-Quantum Cryptography?   \n",
              "1  What are the latest developments in Quantum Co...   \n",
              "2  How duz AI impact job markits and wut skills w...   \n",
              "3  What are the environmental impacts of fast fas...   \n",
              "4  How does the Tech Innovators Podcast address t...   \n",
              "5           what space explorers podcast talk about?   \n",
              "6  how 5G tech change telecommunications and what...   \n",
              "7                            what climate change do?   \n",
              "8  What are the psychological factors behind cons...   \n",
              "9  What are the psychological factors that contri...   \n",
              "\n",
              "                                  retrieved_contexts  \\\n",
              "0  [[BELIEVER PERSPECTIVE]\\n\\nThe latest quantum ...   \n",
              "1  [Quantum Computing and Cryptography\\n\\nTopic: ...   \n",
              "2  [[SKEPTIC PERSPECTIVE]\\n\\nJob displacement and...   \n",
              "3  [[SKEPTIC PERSPECTIVE]\\n\\nLet's start by exami...   \n",
              "4  [[SKEPTIC PERSPECTIVE]\\n\\nWhen discussing bloc...   \n",
              "5  [Space Exploration Benefits\\n\\nTopic: How does...   \n",
              "6  [[CONCLUSION]\\n\\nAs we wrap up, it's evident t...   \n",
              "7  [Climate Change Science and Impacts\\n\\nTopic: ...   \n",
              "8  [[CONCLUSION]\\n\\nTo wrap up, stakeholders must...   \n",
              "9  [[CONCLUSION]\\n\\nTo wrap up, stakeholders must...   \n",
              "\n",
              "                                  reference_contexts  \\\n",
              "0  [Tech & Science Podcast Transcripts Are Humans...   \n",
              "1  [Tech & Science Podcast Transcripts Are Humans...   \n",
              "2  [Environmental Impact of Fast Fashion Topic: E...   \n",
              "3  [Environmental Impact of Fast Fashion Topic: E...   \n",
              "4  [Social Media and Mental Health Topic: What ar...   \n",
              "5  [Social Media and Mental Health Topic: What ar...   \n",
              "6  [that while the advancements in cancer researc...   \n",
              "7  [that while the advancements in cancer researc...   \n",
              "8  [pave the way for a more resilient and sustain...   \n",
              "9  [pave the way for a more resilient and sustain...   \n",
              "\n",
              "                                            response  \\\n",
              "0  Post-Quantum Cryptography (PQC) refers to the ...   \n",
              "1  The latest developments in quantum computing h...   \n",
              "2  AI impacts job markets by creating new job opp...   \n",
              "3  Fast fashion has significant environmental imp...   \n",
              "4  The Tech Innovators Podcast addresses the chal...   \n",
              "5  The Space Explorers Podcast discusses the bene...   \n",
              "6  5G technology is significantly changing teleco...   \n",
              "7  Climate change contributes to a variety of glo...   \n",
              "8  The psychological factors behind conspiracy th...   \n",
              "9  The psychological factors contributing to beli...   \n",
              "\n",
              "                                           reference  \\\n",
              "0  Post-Quantum Cryptography (PQC) involves the d...   \n",
              "1  The latest developments in quantum computing p...   \n",
              "2  AI impacts job markets by creating new job opp...   \n",
              "3  Fast fashion poses a significant environmental...   \n",
              "4  The Tech Innovators Podcast discusses the chal...   \n",
              "5  The Space Explorers Podcast discusses the bene...   \n",
              "6  5G technology is reshaping telecommunications ...   \n",
              "7  The context does not provide specific informat...   \n",
              "8  The psychological factors behind conspiracy th...   \n",
              "9  The psychological factors behind conspiracy th...   \n",
              "\n",
              "                       synthesizer_name  \n",
              "0  single_hop_specifc_query_synthesizer  \n",
              "1  single_hop_specifc_query_synthesizer  \n",
              "2  single_hop_specifc_query_synthesizer  \n",
              "3  single_hop_specifc_query_synthesizer  \n",
              "4  single_hop_specifc_query_synthesizer  \n",
              "5  single_hop_specifc_query_synthesizer  \n",
              "6  single_hop_specifc_query_synthesizer  \n",
              "7  single_hop_specifc_query_synthesizer  \n",
              "8  single_hop_specifc_query_synthesizer  \n",
              "9  single_hop_specifc_query_synthesizer  "
            ]
          },
          "execution_count": 117,
          "metadata": {},
          "output_type": "execute_result"
        }
      ],
      "source": [
        "ft_dataset.to_pandas()"
      ]
    },
    {
      "cell_type": "code",
      "execution_count": 118,
      "metadata": {},
      "outputs": [],
      "source": [
        "from ragas import EvaluationDataset\n",
        "\n",
        "base_evaluation_dataset = EvaluationDataset.from_pandas(base_dataset.to_pandas())\n",
        "ft_evaluation_dataset = EvaluationDataset.from_pandas(ft_dataset.to_pandas())"
      ]
    },
    {
      "cell_type": "code",
      "execution_count": 119,
      "metadata": {},
      "outputs": [],
      "source": [
        "from ragas import evaluate\n",
        "from ragas.llms import LangchainLLMWrapper\n",
        "\n",
        "evaluator_llm = LangchainLLMWrapper(ChatOpenAI(model=\"gpt-4o-mini\"))"
      ]
    },
    {
      "cell_type": "code",
      "execution_count": 120,
      "metadata": {},
      "outputs": [
        {
          "data": {
            "application/vnd.jupyter.widget-view+json": {
              "model_id": "03b65a0f25164722b9ff69b104d533da",
              "version_major": 2,
              "version_minor": 0
            },
            "text/plain": [
              "Evaluating:   0%|          | 0/60 [00:00<?, ?it/s]"
            ]
          },
          "metadata": {},
          "output_type": "display_data"
        },
        {
          "data": {
            "application/vnd.jupyter.widget-view+json": {
              "model_id": "fcc6c876d00c4a03b834f136d6e24065",
              "version_major": 2,
              "version_minor": 0
            },
            "text/plain": [
              "Evaluating:   0%|          | 0/60 [00:00<?, ?it/s]"
            ]
          },
          "metadata": {},
          "output_type": "display_data"
        }
      ],
      "source": [
        "from ragas.metrics import LLMContextRecall, Faithfulness, FactualCorrectness, ResponseRelevancy, ContextEntityRecall, NoiseSensitivity\n",
        "from ragas import evaluate, RunConfig\n",
        "\n",
        "custom_run_config = RunConfig(timeout=360)\n",
        "\n",
        "base_result = evaluate(\n",
        "    dataset=base_evaluation_dataset,\n",
        "    metrics=[LLMContextRecall(), Faithfulness(), FactualCorrectness(), ResponseRelevancy(), ContextEntityRecall(), NoiseSensitivity()],\n",
        "    llm=evaluator_llm,\n",
        "    run_config=custom_run_config\n",
        ")\n",
        "\n",
        "ft_result = evaluate(\n",
        "    dataset=ft_evaluation_dataset,\n",
        "    metrics=[LLMContextRecall(), Faithfulness(), FactualCorrectness(), ResponseRelevancy(), ContextEntityRecall(), NoiseSensitivity()],\n",
        "    llm=evaluator_llm,\n",
        "    run_config=custom_run_config\n",
        ")"
      ]
    },
    {
      "cell_type": "code",
      "execution_count": 121,
      "metadata": {},
      "outputs": [
        {
          "data": {
            "text/plain": [
              "{'context_recall': 0.9167, 'faithfulness': 0.9222, 'factual_correctness': 0.5960, 'answer_relevancy': 0.8666, 'context_entity_recall': 0.5856, 'noise_sensitivity_relevant': 0.3764}"
            ]
          },
          "execution_count": 121,
          "metadata": {},
          "output_type": "execute_result"
        }
      ],
      "source": [
        "base_result"
      ]
    },
    {
      "cell_type": "code",
      "execution_count": 122,
      "metadata": {},
      "outputs": [
        {
          "data": {
            "text/plain": [
              "{'context_recall': 0.8667, 'faithfulness': 0.9196, 'factual_correctness': 0.6200, 'answer_relevancy': 0.8643, 'context_entity_recall': 0.5689, 'noise_sensitivity_relevant': 0.3823}"
            ]
          },
          "execution_count": 122,
          "metadata": {},
          "output_type": "execute_result"
        }
      ],
      "source": [
        "ft_result"
      ]
    },
    {
      "cell_type": "markdown",
      "metadata": {},
      "source": [
        "# Analysis of Base and Fine-tuned Model Results\n",
        "\n",
        "Here’s a detailed analysis comparing the `base_result` and `ft_result` dictionaries, including percentage changes for each metric.\n",
        "\n",
        "# Model Performance Comparison Report\n",
        "\n",
        "## 🔍 Key Findings\n",
        "- Base model demonstrates superior retrieval capabilities\n",
        "- Fine-tuned model shows slight improvement in factual accuracy\n",
        "- Both models maintain consistent faithfulness scores\n",
        "\n",
        "## 📊 Metric-by-Metric Analysis\n",
        "\n",
        "| Metric | Base Model | Fine-tuned Model | Change |\n",
        "|--------|------------|------------------|--------|\n",
        "| Context Recall | 0.9167 | 0.8667 | -5.00% |\n",
        "| Faithfulness | 0.9222 | 0.9196 | -0.26% |\n",
        "| Factual Correctness | 0.5960 | 0.6200 | +2.40% |\n",
        "| Answer Relevancy | 0.8666 | 0.8643 | -0.23% |\n",
        "| Context Entity Recall | 0.5856 | 0.5689 | -1.67% |\n",
        "| Noise Sensitivity | 0.3764 | 0.3823 | +0.59% |\n",
        "\n",
        "## 💡 Conclusion\n",
        "The fine-tuning process resulted in a trade-off:\n",
        "- **Gains**: Improved factual correctness (+2.4%)\n",
        "- **Losses**: Decreased context recall (-5%)\n",
        "- **Stable**: Faithfulness and answer relevancy remained largely unchanged\n",
        "\n",
        "The minimal differences suggest the base model was already well-optimized for the podcast content domain. This shows the benefits of choosing the fine-tuned model when factual accuracy is the priority for podcast related context.\n"
      ]
    },
    {
      "cell_type": "markdown",
      "metadata": {},
      "source": []
    }
  ],
  "metadata": {
    "accelerator": "GPU",
    "colab": {
      "gpuType": "L4",
      "machine_shape": "hm",
      "provenance": []
    },
    "kernelspec": {
      "display_name": ".venv",
      "language": "python",
      "name": "python3"
    },
    "language_info": {
      "codemirror_mode": {
        "name": "ipython",
        "version": 3
      },
      "file_extension": ".py",
      "mimetype": "text/x-python",
      "name": "python",
      "nbconvert_exporter": "python",
      "pygments_lexer": "ipython3",
      "version": "3.13.1"
    },
    "widgets": {
      "application/vnd.jupyter.widget-state+json": {
        "006bf6f5ebaf400486a6b82610381db0": {
          "model_module": "@jupyter-widgets/controls",
          "model_module_version": "1.5.0",
          "model_name": "DescriptionStyleModel",
          "state": {
            "_model_module": "@jupyter-widgets/controls",
            "_model_module_version": "1.5.0",
            "_model_name": "DescriptionStyleModel",
            "_view_count": null,
            "_view_module": "@jupyter-widgets/base",
            "_view_module_version": "1.2.0",
            "_view_name": "StyleView",
            "description_width": ""
          }
        },
        "0d3fc6edfdab4fe9aff8e805632eadad": {
          "model_module": "@jupyter-widgets/controls",
          "model_module_version": "1.5.0",
          "model_name": "HBoxModel",
          "state": {
            "_dom_classes": [],
            "_model_module": "@jupyter-widgets/controls",
            "_model_module_version": "1.5.0",
            "_model_name": "HBoxModel",
            "_view_count": null,
            "_view_module": "@jupyter-widgets/controls",
            "_view_module_version": "1.5.0",
            "_view_name": "HBoxView",
            "box_style": "",
            "children": [
              "IPY_MODEL_ebe8aa7a82124b57bce2d826c1dea0fa",
              "IPY_MODEL_aa11c10b4234452d9430744ab89b59a2",
              "IPY_MODEL_ca05cbcd72cb41d9856804ffb17b26cb"
            ],
            "layout": "IPY_MODEL_cc2a33e9a7ac4c5699346fcbf53b7c95"
          }
        },
        "1016780729b04ba489d488922173ddae": {
          "model_module": "@jupyter-widgets/controls",
          "model_module_version": "1.5.0",
          "model_name": "CheckboxModel",
          "state": {
            "_dom_classes": [],
            "_model_module": "@jupyter-widgets/controls",
            "_model_module_version": "1.5.0",
            "_model_name": "CheckboxModel",
            "_view_count": null,
            "_view_module": "@jupyter-widgets/controls",
            "_view_module_version": "1.5.0",
            "_view_name": "CheckboxView",
            "description": "Add token as git credential?",
            "description_tooltip": null,
            "disabled": false,
            "indent": true,
            "layout": "IPY_MODEL_9198dd0fa8f04aa7b75307aa2d513bfb",
            "style": "IPY_MODEL_59cd26ae53024fbd85431b6683cd119c",
            "value": true
          }
        },
        "13e9bf583f6442d395334947379a280a": {
          "model_module": "@jupyter-widgets/base",
          "model_module_version": "1.2.0",
          "model_name": "LayoutModel",
          "state": {
            "_model_module": "@jupyter-widgets/base",
            "_model_module_version": "1.2.0",
            "_model_name": "LayoutModel",
            "_view_count": null,
            "_view_module": "@jupyter-widgets/base",
            "_view_module_version": "1.2.0",
            "_view_name": "LayoutView",
            "align_content": null,
            "align_items": null,
            "align_self": null,
            "border": null,
            "bottom": null,
            "display": null,
            "flex": null,
            "flex_flow": null,
            "grid_area": null,
            "grid_auto_columns": null,
            "grid_auto_flow": null,
            "grid_auto_rows": null,
            "grid_column": null,
            "grid_gap": null,
            "grid_row": null,
            "grid_template_areas": null,
            "grid_template_columns": null,
            "grid_template_rows": null,
            "height": null,
            "justify_content": null,
            "justify_items": null,
            "left": null,
            "margin": null,
            "max_height": null,
            "max_width": null,
            "min_height": null,
            "min_width": null,
            "object_fit": null,
            "object_position": null,
            "order": null,
            "overflow": null,
            "overflow_x": null,
            "overflow_y": null,
            "padding": null,
            "right": null,
            "top": null,
            "visibility": null,
            "width": null
          }
        },
        "18825dc83221412ab602830fc00db71b": {
          "model_module": "@jupyter-widgets/controls",
          "model_module_version": "1.5.0",
          "model_name": "LabelModel",
          "state": {
            "_dom_classes": [],
            "_model_module": "@jupyter-widgets/controls",
            "_model_module_version": "1.5.0",
            "_model_name": "LabelModel",
            "_view_count": null,
            "_view_module": "@jupyter-widgets/controls",
            "_view_module_version": "1.5.0",
            "_view_name": "LabelView",
            "description": "",
            "description_tooltip": null,
            "layout": "IPY_MODEL_a6ea48a80c194d128959422368aa0e10",
            "placeholder": "​",
            "style": "IPY_MODEL_9f4026c62c60493caa18c014ae414e65",
            "value": "Connecting..."
          }
        },
        "1995b4d98fe044e38f1980d47033ca40": {
          "model_module": "@jupyter-widgets/controls",
          "model_module_version": "1.5.0",
          "model_name": "DescriptionStyleModel",
          "state": {
            "_model_module": "@jupyter-widgets/controls",
            "_model_module_version": "1.5.0",
            "_model_name": "DescriptionStyleModel",
            "_view_count": null,
            "_view_module": "@jupyter-widgets/base",
            "_view_module_version": "1.2.0",
            "_view_name": "StyleView",
            "description_width": ""
          }
        },
        "2a872283afaa4a33a9bc3f9e57b3650b": {
          "model_module": "@jupyter-widgets/base",
          "model_module_version": "1.2.0",
          "model_name": "LayoutModel",
          "state": {
            "_model_module": "@jupyter-widgets/base",
            "_model_module_version": "1.2.0",
            "_model_name": "LayoutModel",
            "_view_count": null,
            "_view_module": "@jupyter-widgets/base",
            "_view_module_version": "1.2.0",
            "_view_name": "LayoutView",
            "align_content": null,
            "align_items": null,
            "align_self": null,
            "border": null,
            "bottom": null,
            "display": null,
            "flex": null,
            "flex_flow": null,
            "grid_area": null,
            "grid_auto_columns": null,
            "grid_auto_flow": null,
            "grid_auto_rows": null,
            "grid_column": null,
            "grid_gap": null,
            "grid_row": null,
            "grid_template_areas": null,
            "grid_template_columns": null,
            "grid_template_rows": null,
            "height": null,
            "justify_content": null,
            "justify_items": null,
            "left": null,
            "margin": null,
            "max_height": null,
            "max_width": null,
            "min_height": null,
            "min_width": null,
            "object_fit": null,
            "object_position": null,
            "order": null,
            "overflow": null,
            "overflow_x": null,
            "overflow_y": null,
            "padding": null,
            "right": null,
            "top": null,
            "visibility": null,
            "width": null
          }
        },
        "381c780ce17e4662981175400fb8a0f8": {
          "model_module": "@jupyter-widgets/controls",
          "model_module_version": "1.5.0",
          "model_name": "DescriptionStyleModel",
          "state": {
            "_model_module": "@jupyter-widgets/controls",
            "_model_module_version": "1.5.0",
            "_model_name": "DescriptionStyleModel",
            "_view_count": null,
            "_view_module": "@jupyter-widgets/base",
            "_view_module_version": "1.2.0",
            "_view_name": "StyleView",
            "description_width": ""
          }
        },
        "408f4dfce21a45cfad36047677ec8658": {
          "model_module": "@jupyter-widgets/base",
          "model_module_version": "1.2.0",
          "model_name": "LayoutModel",
          "state": {
            "_model_module": "@jupyter-widgets/base",
            "_model_module_version": "1.2.0",
            "_model_name": "LayoutModel",
            "_view_count": null,
            "_view_module": "@jupyter-widgets/base",
            "_view_module_version": "1.2.0",
            "_view_name": "LayoutView",
            "align_content": null,
            "align_items": null,
            "align_self": null,
            "border": null,
            "bottom": null,
            "display": null,
            "flex": null,
            "flex_flow": null,
            "grid_area": null,
            "grid_auto_columns": null,
            "grid_auto_flow": null,
            "grid_auto_rows": null,
            "grid_column": null,
            "grid_gap": null,
            "grid_row": null,
            "grid_template_areas": null,
            "grid_template_columns": null,
            "grid_template_rows": null,
            "height": null,
            "justify_content": null,
            "justify_items": null,
            "left": null,
            "margin": null,
            "max_height": null,
            "max_width": null,
            "min_height": null,
            "min_width": null,
            "object_fit": null,
            "object_position": null,
            "order": null,
            "overflow": null,
            "overflow_x": null,
            "overflow_y": null,
            "padding": null,
            "right": null,
            "top": null,
            "visibility": null,
            "width": null
          }
        },
        "4a723c6a56e94309b2e3abe63f28aedc": {
          "model_module": "@jupyter-widgets/controls",
          "model_module_version": "1.5.0",
          "model_name": "FloatProgressModel",
          "state": {
            "_dom_classes": [],
            "_model_module": "@jupyter-widgets/controls",
            "_model_module_version": "1.5.0",
            "_model_name": "FloatProgressModel",
            "_view_count": null,
            "_view_module": "@jupyter-widgets/controls",
            "_view_module_version": "1.5.0",
            "_view_name": "ProgressView",
            "bar_style": "success",
            "description": "",
            "description_tooltip": null,
            "layout": "IPY_MODEL_869814ecd49e46f9a33dd53130e6953f",
            "max": 1336413848,
            "min": 0,
            "orientation": "horizontal",
            "style": "IPY_MODEL_cc7d460d3c5a4ac6a9b64929736d6598",
            "value": 1336413848
          }
        },
        "4e2c257232c3472697e03350de43cb30": {
          "model_module": "@jupyter-widgets/base",
          "model_module_version": "1.2.0",
          "model_name": "LayoutModel",
          "state": {
            "_model_module": "@jupyter-widgets/base",
            "_model_module_version": "1.2.0",
            "_model_name": "LayoutModel",
            "_view_count": null,
            "_view_module": "@jupyter-widgets/base",
            "_view_module_version": "1.2.0",
            "_view_name": "LayoutView",
            "align_content": null,
            "align_items": null,
            "align_self": null,
            "border": null,
            "bottom": null,
            "display": null,
            "flex": null,
            "flex_flow": null,
            "grid_area": null,
            "grid_auto_columns": null,
            "grid_auto_flow": null,
            "grid_auto_rows": null,
            "grid_column": null,
            "grid_gap": null,
            "grid_row": null,
            "grid_template_areas": null,
            "grid_template_columns": null,
            "grid_template_rows": null,
            "height": null,
            "justify_content": null,
            "justify_items": null,
            "left": null,
            "margin": null,
            "max_height": null,
            "max_width": null,
            "min_height": null,
            "min_width": null,
            "object_fit": null,
            "object_position": null,
            "order": null,
            "overflow": null,
            "overflow_x": null,
            "overflow_y": null,
            "padding": null,
            "right": null,
            "top": null,
            "visibility": null,
            "width": null
          }
        },
        "4e7ccd97042c4fb9a201b6dc76762e04": {
          "model_module": "@jupyter-widgets/base",
          "model_module_version": "1.2.0",
          "model_name": "LayoutModel",
          "state": {
            "_model_module": "@jupyter-widgets/base",
            "_model_module_version": "1.2.0",
            "_model_name": "LayoutModel",
            "_view_count": null,
            "_view_module": "@jupyter-widgets/base",
            "_view_module_version": "1.2.0",
            "_view_name": "LayoutView",
            "align_content": null,
            "align_items": null,
            "align_self": null,
            "border": null,
            "bottom": null,
            "display": null,
            "flex": null,
            "flex_flow": null,
            "grid_area": null,
            "grid_auto_columns": null,
            "grid_auto_flow": null,
            "grid_auto_rows": null,
            "grid_column": null,
            "grid_gap": null,
            "grid_row": null,
            "grid_template_areas": null,
            "grid_template_columns": null,
            "grid_template_rows": null,
            "height": null,
            "justify_content": null,
            "justify_items": null,
            "left": null,
            "margin": null,
            "max_height": null,
            "max_width": null,
            "min_height": null,
            "min_width": null,
            "object_fit": null,
            "object_position": null,
            "order": null,
            "overflow": null,
            "overflow_x": null,
            "overflow_y": null,
            "padding": null,
            "right": null,
            "top": null,
            "visibility": null,
            "width": null
          }
        },
        "58699484312f460cb96ac44e3af14aa2": {
          "model_module": "@jupyter-widgets/controls",
          "model_module_version": "1.5.0",
          "model_name": "VBoxModel",
          "state": {
            "_dom_classes": [],
            "_model_module": "@jupyter-widgets/controls",
            "_model_module_version": "1.5.0",
            "_model_name": "VBoxModel",
            "_view_count": null,
            "_view_module": "@jupyter-widgets/controls",
            "_view_module_version": "1.5.0",
            "_view_name": "VBoxView",
            "box_style": "",
            "children": [],
            "layout": "IPY_MODEL_d4acc9a7aca04564bfaefe33de079394"
          }
        },
        "59cd26ae53024fbd85431b6683cd119c": {
          "model_module": "@jupyter-widgets/controls",
          "model_module_version": "1.5.0",
          "model_name": "DescriptionStyleModel",
          "state": {
            "_model_module": "@jupyter-widgets/controls",
            "_model_module_version": "1.5.0",
            "_model_name": "DescriptionStyleModel",
            "_view_count": null,
            "_view_module": "@jupyter-widgets/base",
            "_view_module_version": "1.2.0",
            "_view_name": "StyleView",
            "description_width": ""
          }
        },
        "72ec09e2cbbf4788b1561abfcdd0819a": {
          "model_module": "@jupyter-widgets/controls",
          "model_module_version": "1.5.0",
          "model_name": "ButtonStyleModel",
          "state": {
            "_model_module": "@jupyter-widgets/controls",
            "_model_module_version": "1.5.0",
            "_model_name": "ButtonStyleModel",
            "_view_count": null,
            "_view_module": "@jupyter-widgets/base",
            "_view_module_version": "1.2.0",
            "_view_name": "StyleView",
            "button_color": null,
            "font_weight": ""
          }
        },
        "869814ecd49e46f9a33dd53130e6953f": {
          "model_module": "@jupyter-widgets/base",
          "model_module_version": "1.2.0",
          "model_name": "LayoutModel",
          "state": {
            "_model_module": "@jupyter-widgets/base",
            "_model_module_version": "1.2.0",
            "_model_name": "LayoutModel",
            "_view_count": null,
            "_view_module": "@jupyter-widgets/base",
            "_view_module_version": "1.2.0",
            "_view_name": "LayoutView",
            "align_content": null,
            "align_items": null,
            "align_self": null,
            "border": null,
            "bottom": null,
            "display": null,
            "flex": null,
            "flex_flow": null,
            "grid_area": null,
            "grid_auto_columns": null,
            "grid_auto_flow": null,
            "grid_auto_rows": null,
            "grid_column": null,
            "grid_gap": null,
            "grid_row": null,
            "grid_template_areas": null,
            "grid_template_columns": null,
            "grid_template_rows": null,
            "height": null,
            "justify_content": null,
            "justify_items": null,
            "left": null,
            "margin": null,
            "max_height": null,
            "max_width": null,
            "min_height": null,
            "min_width": null,
            "object_fit": null,
            "object_position": null,
            "order": null,
            "overflow": null,
            "overflow_x": null,
            "overflow_y": null,
            "padding": null,
            "right": null,
            "top": null,
            "visibility": null,
            "width": null
          }
        },
        "878dc96f87dd45f389948a546db33e94": {
          "model_module": "@jupyter-widgets/base",
          "model_module_version": "1.2.0",
          "model_name": "LayoutModel",
          "state": {
            "_model_module": "@jupyter-widgets/base",
            "_model_module_version": "1.2.0",
            "_model_name": "LayoutModel",
            "_view_count": null,
            "_view_module": "@jupyter-widgets/base",
            "_view_module_version": "1.2.0",
            "_view_name": "LayoutView",
            "align_content": null,
            "align_items": null,
            "align_self": null,
            "border": null,
            "bottom": null,
            "display": null,
            "flex": null,
            "flex_flow": null,
            "grid_area": null,
            "grid_auto_columns": null,
            "grid_auto_flow": null,
            "grid_auto_rows": null,
            "grid_column": null,
            "grid_gap": null,
            "grid_row": null,
            "grid_template_areas": null,
            "grid_template_columns": null,
            "grid_template_rows": null,
            "height": null,
            "justify_content": null,
            "justify_items": null,
            "left": null,
            "margin": null,
            "max_height": null,
            "max_width": null,
            "min_height": null,
            "min_width": null,
            "object_fit": null,
            "object_position": null,
            "order": null,
            "overflow": null,
            "overflow_x": null,
            "overflow_y": null,
            "padding": null,
            "right": null,
            "top": null,
            "visibility": null,
            "width": null
          }
        },
        "9198dd0fa8f04aa7b75307aa2d513bfb": {
          "model_module": "@jupyter-widgets/base",
          "model_module_version": "1.2.0",
          "model_name": "LayoutModel",
          "state": {
            "_model_module": "@jupyter-widgets/base",
            "_model_module_version": "1.2.0",
            "_model_name": "LayoutModel",
            "_view_count": null,
            "_view_module": "@jupyter-widgets/base",
            "_view_module_version": "1.2.0",
            "_view_name": "LayoutView",
            "align_content": null,
            "align_items": null,
            "align_self": null,
            "border": null,
            "bottom": null,
            "display": null,
            "flex": null,
            "flex_flow": null,
            "grid_area": null,
            "grid_auto_columns": null,
            "grid_auto_flow": null,
            "grid_auto_rows": null,
            "grid_column": null,
            "grid_gap": null,
            "grid_row": null,
            "grid_template_areas": null,
            "grid_template_columns": null,
            "grid_template_rows": null,
            "height": null,
            "justify_content": null,
            "justify_items": null,
            "left": null,
            "margin": null,
            "max_height": null,
            "max_width": null,
            "min_height": null,
            "min_width": null,
            "object_fit": null,
            "object_position": null,
            "order": null,
            "overflow": null,
            "overflow_x": null,
            "overflow_y": null,
            "padding": null,
            "right": null,
            "top": null,
            "visibility": null,
            "width": null
          }
        },
        "95160a05de5b402b9bdb0bd2d099cd00": {
          "model_module": "@jupyter-widgets/base",
          "model_module_version": "1.2.0",
          "model_name": "LayoutModel",
          "state": {
            "_model_module": "@jupyter-widgets/base",
            "_model_module_version": "1.2.0",
            "_model_name": "LayoutModel",
            "_view_count": null,
            "_view_module": "@jupyter-widgets/base",
            "_view_module_version": "1.2.0",
            "_view_name": "LayoutView",
            "align_content": null,
            "align_items": null,
            "align_self": null,
            "border": null,
            "bottom": null,
            "display": null,
            "flex": null,
            "flex_flow": null,
            "grid_area": null,
            "grid_auto_columns": null,
            "grid_auto_flow": null,
            "grid_auto_rows": null,
            "grid_column": null,
            "grid_gap": null,
            "grid_row": null,
            "grid_template_areas": null,
            "grid_template_columns": null,
            "grid_template_rows": null,
            "height": null,
            "justify_content": null,
            "justify_items": null,
            "left": null,
            "margin": null,
            "max_height": null,
            "max_width": null,
            "min_height": null,
            "min_width": null,
            "object_fit": null,
            "object_position": null,
            "order": null,
            "overflow": null,
            "overflow_x": null,
            "overflow_y": null,
            "padding": null,
            "right": null,
            "top": null,
            "visibility": null,
            "width": null
          }
        },
        "9638a0456e0c41b1b9b9757932f55c53": {
          "model_module": "@jupyter-widgets/controls",
          "model_module_version": "1.5.0",
          "model_name": "DescriptionStyleModel",
          "state": {
            "_model_module": "@jupyter-widgets/controls",
            "_model_module_version": "1.5.0",
            "_model_name": "DescriptionStyleModel",
            "_view_count": null,
            "_view_module": "@jupyter-widgets/base",
            "_view_module_version": "1.2.0",
            "_view_name": "StyleView",
            "description_width": ""
          }
        },
        "9d34dac405fd40139d5dc04eecef55ed": {
          "model_module": "@jupyter-widgets/controls",
          "model_module_version": "1.5.0",
          "model_name": "ButtonModel",
          "state": {
            "_dom_classes": [],
            "_model_module": "@jupyter-widgets/controls",
            "_model_module_version": "1.5.0",
            "_model_name": "ButtonModel",
            "_view_count": null,
            "_view_module": "@jupyter-widgets/controls",
            "_view_module_version": "1.5.0",
            "_view_name": "ButtonView",
            "button_style": "",
            "description": "Login",
            "disabled": false,
            "icon": "",
            "layout": "IPY_MODEL_4e7ccd97042c4fb9a201b6dc76762e04",
            "style": "IPY_MODEL_72ec09e2cbbf4788b1561abfcdd0819a",
            "tooltip": ""
          }
        },
        "9f4026c62c60493caa18c014ae414e65": {
          "model_module": "@jupyter-widgets/controls",
          "model_module_version": "1.5.0",
          "model_name": "DescriptionStyleModel",
          "state": {
            "_model_module": "@jupyter-widgets/controls",
            "_model_module_version": "1.5.0",
            "_model_name": "DescriptionStyleModel",
            "_view_count": null,
            "_view_module": "@jupyter-widgets/base",
            "_view_module_version": "1.2.0",
            "_view_name": "StyleView",
            "description_width": ""
          }
        },
        "a6ea48a80c194d128959422368aa0e10": {
          "model_module": "@jupyter-widgets/base",
          "model_module_version": "1.2.0",
          "model_name": "LayoutModel",
          "state": {
            "_model_module": "@jupyter-widgets/base",
            "_model_module_version": "1.2.0",
            "_model_name": "LayoutModel",
            "_view_count": null,
            "_view_module": "@jupyter-widgets/base",
            "_view_module_version": "1.2.0",
            "_view_name": "LayoutView",
            "align_content": null,
            "align_items": null,
            "align_self": null,
            "border": null,
            "bottom": null,
            "display": null,
            "flex": null,
            "flex_flow": null,
            "grid_area": null,
            "grid_auto_columns": null,
            "grid_auto_flow": null,
            "grid_auto_rows": null,
            "grid_column": null,
            "grid_gap": null,
            "grid_row": null,
            "grid_template_areas": null,
            "grid_template_columns": null,
            "grid_template_rows": null,
            "height": null,
            "justify_content": null,
            "justify_items": null,
            "left": null,
            "margin": null,
            "max_height": null,
            "max_width": null,
            "min_height": null,
            "min_width": null,
            "object_fit": null,
            "object_position": null,
            "order": null,
            "overflow": null,
            "overflow_x": null,
            "overflow_y": null,
            "padding": null,
            "right": null,
            "top": null,
            "visibility": null,
            "width": null
          }
        },
        "aa11c10b4234452d9430744ab89b59a2": {
          "model_module": "@jupyter-widgets/controls",
          "model_module_version": "1.5.0",
          "model_name": "FloatProgressModel",
          "state": {
            "_dom_classes": [],
            "_model_module": "@jupyter-widgets/controls",
            "_model_module_version": "1.5.0",
            "_model_name": "FloatProgressModel",
            "_view_count": null,
            "_view_module": "@jupyter-widgets/controls",
            "_view_module_version": "1.5.0",
            "_view_name": "ProgressView",
            "bar_style": "",
            "description": "",
            "description_tooltip": null,
            "layout": "IPY_MODEL_2a872283afaa4a33a9bc3f9e57b3650b",
            "max": 1,
            "min": 0,
            "orientation": "horizontal",
            "style": "IPY_MODEL_fe4d1052824c4ed29c38c5311087e650",
            "value": 1
          }
        },
        "acf3991e5d644f468264f561b28b514a": {
          "model_module": "@jupyter-widgets/controls",
          "model_module_version": "1.5.0",
          "model_name": "HTMLModel",
          "state": {
            "_dom_classes": [],
            "_model_module": "@jupyter-widgets/controls",
            "_model_module_version": "1.5.0",
            "_model_name": "HTMLModel",
            "_view_count": null,
            "_view_module": "@jupyter-widgets/controls",
            "_view_module_version": "1.5.0",
            "_view_name": "HTMLView",
            "description": "",
            "description_tooltip": null,
            "layout": "IPY_MODEL_95160a05de5b402b9bdb0bd2d099cd00",
            "placeholder": "​",
            "style": "IPY_MODEL_cf376b0ea3544055b8867d7013526502",
            "value": "model.safetensors: 100%"
          }
        },
        "b011a6ccf8e745c6be6f3a17b7d61dce": {
          "model_module": "@jupyter-widgets/controls",
          "model_module_version": "1.5.0",
          "model_name": "PasswordModel",
          "state": {
            "_dom_classes": [],
            "_model_module": "@jupyter-widgets/controls",
            "_model_module_version": "1.5.0",
            "_model_name": "PasswordModel",
            "_view_count": null,
            "_view_module": "@jupyter-widgets/controls",
            "_view_module_version": "1.5.0",
            "_view_name": "PasswordView",
            "continuous_update": true,
            "description": "Token:",
            "description_tooltip": null,
            "disabled": false,
            "layout": "IPY_MODEL_878dc96f87dd45f389948a546db33e94",
            "placeholder": "​",
            "style": "IPY_MODEL_006bf6f5ebaf400486a6b82610381db0",
            "value": ""
          }
        },
        "bfc4997e3bd94e66bebaa1ffdae1b99e": {
          "model_module": "@jupyter-widgets/controls",
          "model_module_version": "1.5.0",
          "model_name": "DescriptionStyleModel",
          "state": {
            "_model_module": "@jupyter-widgets/controls",
            "_model_module_version": "1.5.0",
            "_model_name": "DescriptionStyleModel",
            "_view_count": null,
            "_view_module": "@jupyter-widgets/base",
            "_view_module_version": "1.2.0",
            "_view_name": "StyleView",
            "description_width": ""
          }
        },
        "ca05cbcd72cb41d9856804ffb17b26cb": {
          "model_module": "@jupyter-widgets/controls",
          "model_module_version": "1.5.0",
          "model_name": "HTMLModel",
          "state": {
            "_dom_classes": [],
            "_model_module": "@jupyter-widgets/controls",
            "_model_module_version": "1.5.0",
            "_model_name": "HTMLModel",
            "_view_count": null,
            "_view_module": "@jupyter-widgets/controls",
            "_view_module_version": "1.5.0",
            "_view_name": "HTMLView",
            "description": "",
            "description_tooltip": null,
            "layout": "IPY_MODEL_e283b1608c4d4266a03c57dc95aabb2e",
            "placeholder": "​",
            "style": "IPY_MODEL_bfc4997e3bd94e66bebaa1ffdae1b99e",
            "value": " 0/1 [00:00&lt;?, ?example/s]"
          }
        },
        "ca5804644ef345c1b4f670fb7f088fe8": {
          "model_module": "@jupyter-widgets/controls",
          "model_module_version": "1.5.0",
          "model_name": "DescriptionStyleModel",
          "state": {
            "_model_module": "@jupyter-widgets/controls",
            "_model_module_version": "1.5.0",
            "_model_name": "DescriptionStyleModel",
            "_view_count": null,
            "_view_module": "@jupyter-widgets/base",
            "_view_module_version": "1.2.0",
            "_view_name": "StyleView",
            "description_width": ""
          }
        },
        "cc1f0bc4a1a74568b9c74a7392a1568f": {
          "model_module": "@jupyter-widgets/base",
          "model_module_version": "1.2.0",
          "model_name": "LayoutModel",
          "state": {
            "_model_module": "@jupyter-widgets/base",
            "_model_module_version": "1.2.0",
            "_model_name": "LayoutModel",
            "_view_count": null,
            "_view_module": "@jupyter-widgets/base",
            "_view_module_version": "1.2.0",
            "_view_name": "LayoutView",
            "align_content": null,
            "align_items": null,
            "align_self": null,
            "border": null,
            "bottom": null,
            "display": null,
            "flex": null,
            "flex_flow": null,
            "grid_area": null,
            "grid_auto_columns": null,
            "grid_auto_flow": null,
            "grid_auto_rows": null,
            "grid_column": null,
            "grid_gap": null,
            "grid_row": null,
            "grid_template_areas": null,
            "grid_template_columns": null,
            "grid_template_rows": null,
            "height": null,
            "justify_content": null,
            "justify_items": null,
            "left": null,
            "margin": null,
            "max_height": null,
            "max_width": null,
            "min_height": null,
            "min_width": null,
            "object_fit": null,
            "object_position": null,
            "order": null,
            "overflow": null,
            "overflow_x": null,
            "overflow_y": null,
            "padding": null,
            "right": null,
            "top": null,
            "visibility": null,
            "width": null
          }
        },
        "cc2a33e9a7ac4c5699346fcbf53b7c95": {
          "model_module": "@jupyter-widgets/base",
          "model_module_version": "1.2.0",
          "model_name": "LayoutModel",
          "state": {
            "_model_module": "@jupyter-widgets/base",
            "_model_module_version": "1.2.0",
            "_model_name": "LayoutModel",
            "_view_count": null,
            "_view_module": "@jupyter-widgets/base",
            "_view_module_version": "1.2.0",
            "_view_name": "LayoutView",
            "align_content": null,
            "align_items": null,
            "align_self": null,
            "border": null,
            "bottom": null,
            "display": null,
            "flex": null,
            "flex_flow": null,
            "grid_area": null,
            "grid_auto_columns": null,
            "grid_auto_flow": null,
            "grid_auto_rows": null,
            "grid_column": null,
            "grid_gap": null,
            "grid_row": null,
            "grid_template_areas": null,
            "grid_template_columns": null,
            "grid_template_rows": null,
            "height": null,
            "justify_content": null,
            "justify_items": null,
            "left": null,
            "margin": null,
            "max_height": null,
            "max_width": null,
            "min_height": null,
            "min_width": null,
            "object_fit": null,
            "object_position": null,
            "order": null,
            "overflow": null,
            "overflow_x": null,
            "overflow_y": null,
            "padding": null,
            "right": null,
            "top": null,
            "visibility": "hidden",
            "width": null
          }
        },
        "cc7d460d3c5a4ac6a9b64929736d6598": {
          "model_module": "@jupyter-widgets/controls",
          "model_module_version": "1.5.0",
          "model_name": "ProgressStyleModel",
          "state": {
            "_model_module": "@jupyter-widgets/controls",
            "_model_module_version": "1.5.0",
            "_model_name": "ProgressStyleModel",
            "_view_count": null,
            "_view_module": "@jupyter-widgets/base",
            "_view_module_version": "1.2.0",
            "_view_name": "StyleView",
            "bar_color": null,
            "description_width": ""
          }
        },
        "cf376b0ea3544055b8867d7013526502": {
          "model_module": "@jupyter-widgets/controls",
          "model_module_version": "1.5.0",
          "model_name": "DescriptionStyleModel",
          "state": {
            "_model_module": "@jupyter-widgets/controls",
            "_model_module_version": "1.5.0",
            "_model_name": "DescriptionStyleModel",
            "_view_count": null,
            "_view_module": "@jupyter-widgets/base",
            "_view_module_version": "1.2.0",
            "_view_name": "StyleView",
            "description_width": ""
          }
        },
        "d45a7d95e5b14a6f88d5798fec9c40a7": {
          "model_module": "@jupyter-widgets/controls",
          "model_module_version": "1.5.0",
          "model_name": "HTMLModel",
          "state": {
            "_dom_classes": [],
            "_model_module": "@jupyter-widgets/controls",
            "_model_module_version": "1.5.0",
            "_model_name": "HTMLModel",
            "_view_count": null,
            "_view_module": "@jupyter-widgets/controls",
            "_view_module_version": "1.5.0",
            "_view_name": "HTMLView",
            "description": "",
            "description_tooltip": null,
            "layout": "IPY_MODEL_4e2c257232c3472697e03350de43cb30",
            "placeholder": "​",
            "style": "IPY_MODEL_381c780ce17e4662981175400fb8a0f8",
            "value": "<center> <img\nsrc=https://huggingface.co/front/assets/huggingface_logo-noborder.svg\nalt='Hugging Face'> <br> Copy a token from <a\nhref=\"https://huggingface.co/settings/tokens\" target=\"_blank\">your Hugging Face\ntokens page</a> and paste it below. <br> Immediately click login after copying\nyour token or it might be stored in plain text in this notebook file. </center>"
          }
        },
        "d4acc9a7aca04564bfaefe33de079394": {
          "model_module": "@jupyter-widgets/base",
          "model_module_version": "1.2.0",
          "model_name": "LayoutModel",
          "state": {
            "_model_module": "@jupyter-widgets/base",
            "_model_module_version": "1.2.0",
            "_model_name": "LayoutModel",
            "_view_count": null,
            "_view_module": "@jupyter-widgets/base",
            "_view_module_version": "1.2.0",
            "_view_name": "LayoutView",
            "align_content": null,
            "align_items": "center",
            "align_self": null,
            "border": null,
            "bottom": null,
            "display": "flex",
            "flex": null,
            "flex_flow": "column",
            "grid_area": null,
            "grid_auto_columns": null,
            "grid_auto_flow": null,
            "grid_auto_rows": null,
            "grid_column": null,
            "grid_gap": null,
            "grid_row": null,
            "grid_template_areas": null,
            "grid_template_columns": null,
            "grid_template_rows": null,
            "height": null,
            "justify_content": null,
            "justify_items": null,
            "left": null,
            "margin": null,
            "max_height": null,
            "max_width": null,
            "min_height": null,
            "min_width": null,
            "object_fit": null,
            "object_position": null,
            "order": null,
            "overflow": null,
            "overflow_x": null,
            "overflow_y": null,
            "padding": null,
            "right": null,
            "top": null,
            "visibility": null,
            "width": "50%"
          }
        },
        "d6169577ffb341a69eb0175e301b6a44": {
          "model_module": "@jupyter-widgets/controls",
          "model_module_version": "1.5.0",
          "model_name": "HTMLModel",
          "state": {
            "_dom_classes": [],
            "_model_module": "@jupyter-widgets/controls",
            "_model_module_version": "1.5.0",
            "_model_name": "HTMLModel",
            "_view_count": null,
            "_view_module": "@jupyter-widgets/controls",
            "_view_module_version": "1.5.0",
            "_view_name": "HTMLView",
            "description": "",
            "description_tooltip": null,
            "layout": "IPY_MODEL_fb1e19624fde4d3c8048ce00264d6056",
            "placeholder": "​",
            "style": "IPY_MODEL_9638a0456e0c41b1b9b9757932f55c53",
            "value": "\n<b>Pro Tip:</b> If you don't already have one, you can create a dedicated\n'notebooks' token with 'write' access, that you can then easily reuse for all\nnotebooks. </center>"
          }
        },
        "e283b1608c4d4266a03c57dc95aabb2e": {
          "model_module": "@jupyter-widgets/base",
          "model_module_version": "1.2.0",
          "model_name": "LayoutModel",
          "state": {
            "_model_module": "@jupyter-widgets/base",
            "_model_module_version": "1.2.0",
            "_model_name": "LayoutModel",
            "_view_count": null,
            "_view_module": "@jupyter-widgets/base",
            "_view_module_version": "1.2.0",
            "_view_name": "LayoutView",
            "align_content": null,
            "align_items": null,
            "align_self": null,
            "border": null,
            "bottom": null,
            "display": null,
            "flex": null,
            "flex_flow": null,
            "grid_area": null,
            "grid_auto_columns": null,
            "grid_auto_flow": null,
            "grid_auto_rows": null,
            "grid_column": null,
            "grid_gap": null,
            "grid_row": null,
            "grid_template_areas": null,
            "grid_template_columns": null,
            "grid_template_rows": null,
            "height": null,
            "justify_content": null,
            "justify_items": null,
            "left": null,
            "margin": null,
            "max_height": null,
            "max_width": null,
            "min_height": null,
            "min_width": null,
            "object_fit": null,
            "object_position": null,
            "order": null,
            "overflow": null,
            "overflow_x": null,
            "overflow_y": null,
            "padding": null,
            "right": null,
            "top": null,
            "visibility": null,
            "width": null
          }
        },
        "e5c86e0e33264ed8b6325e44f9421653": {
          "model_module": "@jupyter-widgets/controls",
          "model_module_version": "1.5.0",
          "model_name": "HBoxModel",
          "state": {
            "_dom_classes": [],
            "_model_module": "@jupyter-widgets/controls",
            "_model_module_version": "1.5.0",
            "_model_name": "HBoxModel",
            "_view_count": null,
            "_view_module": "@jupyter-widgets/controls",
            "_view_module_version": "1.5.0",
            "_view_name": "HBoxView",
            "box_style": "",
            "children": [
              "IPY_MODEL_acf3991e5d644f468264f561b28b514a",
              "IPY_MODEL_4a723c6a56e94309b2e3abe63f28aedc",
              "IPY_MODEL_ef25768d3b0746b48c6d02e9bd151bf9"
            ],
            "layout": "IPY_MODEL_cc1f0bc4a1a74568b9c74a7392a1568f"
          }
        },
        "ebe8aa7a82124b57bce2d826c1dea0fa": {
          "model_module": "@jupyter-widgets/controls",
          "model_module_version": "1.5.0",
          "model_name": "HTMLModel",
          "state": {
            "_dom_classes": [],
            "_model_module": "@jupyter-widgets/controls",
            "_model_module_version": "1.5.0",
            "_model_name": "HTMLModel",
            "_view_count": null,
            "_view_module": "@jupyter-widgets/controls",
            "_view_module_version": "1.5.0",
            "_view_name": "HTMLView",
            "description": "",
            "description_tooltip": null,
            "layout": "IPY_MODEL_408f4dfce21a45cfad36047677ec8658",
            "placeholder": "​",
            "style": "IPY_MODEL_ca5804644ef345c1b4f670fb7f088fe8",
            "value": "Computing widget examples:   0%"
          }
        },
        "ef25768d3b0746b48c6d02e9bd151bf9": {
          "model_module": "@jupyter-widgets/controls",
          "model_module_version": "1.5.0",
          "model_name": "HTMLModel",
          "state": {
            "_dom_classes": [],
            "_model_module": "@jupyter-widgets/controls",
            "_model_module_version": "1.5.0",
            "_model_name": "HTMLModel",
            "_view_count": null,
            "_view_module": "@jupyter-widgets/controls",
            "_view_module_version": "1.5.0",
            "_view_name": "HTMLView",
            "description": "",
            "description_tooltip": null,
            "layout": "IPY_MODEL_13e9bf583f6442d395334947379a280a",
            "placeholder": "​",
            "style": "IPY_MODEL_1995b4d98fe044e38f1980d47033ca40",
            "value": " 1.34G/1.34G [01:11&lt;00:00, 21.0MB/s]"
          }
        },
        "fb1e19624fde4d3c8048ce00264d6056": {
          "model_module": "@jupyter-widgets/base",
          "model_module_version": "1.2.0",
          "model_name": "LayoutModel",
          "state": {
            "_model_module": "@jupyter-widgets/base",
            "_model_module_version": "1.2.0",
            "_model_name": "LayoutModel",
            "_view_count": null,
            "_view_module": "@jupyter-widgets/base",
            "_view_module_version": "1.2.0",
            "_view_name": "LayoutView",
            "align_content": null,
            "align_items": null,
            "align_self": null,
            "border": null,
            "bottom": null,
            "display": null,
            "flex": null,
            "flex_flow": null,
            "grid_area": null,
            "grid_auto_columns": null,
            "grid_auto_flow": null,
            "grid_auto_rows": null,
            "grid_column": null,
            "grid_gap": null,
            "grid_row": null,
            "grid_template_areas": null,
            "grid_template_columns": null,
            "grid_template_rows": null,
            "height": null,
            "justify_content": null,
            "justify_items": null,
            "left": null,
            "margin": null,
            "max_height": null,
            "max_width": null,
            "min_height": null,
            "min_width": null,
            "object_fit": null,
            "object_position": null,
            "order": null,
            "overflow": null,
            "overflow_x": null,
            "overflow_y": null,
            "padding": null,
            "right": null,
            "top": null,
            "visibility": null,
            "width": null
          }
        },
        "fe4d1052824c4ed29c38c5311087e650": {
          "model_module": "@jupyter-widgets/controls",
          "model_module_version": "1.5.0",
          "model_name": "ProgressStyleModel",
          "state": {
            "_model_module": "@jupyter-widgets/controls",
            "_model_module_version": "1.5.0",
            "_model_name": "ProgressStyleModel",
            "_view_count": null,
            "_view_module": "@jupyter-widgets/base",
            "_view_module_version": "1.2.0",
            "_view_name": "StyleView",
            "bar_color": null,
            "description_width": ""
          }
        }
      }
    }
  },
  "nbformat": 4,
  "nbformat_minor": 0
}
