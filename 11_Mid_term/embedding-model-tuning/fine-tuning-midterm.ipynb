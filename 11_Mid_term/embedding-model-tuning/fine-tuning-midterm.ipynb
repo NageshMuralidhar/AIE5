{
  "cells": [
    {
      "cell_type": "code",
      "execution_count": 19,
      "metadata": {
        "id": "zq-6s7LbPnKH"
      },
      "outputs": [],
      "source": [
        "import nest_asyncio\n",
        "\n",
        "nest_asyncio.apply()"
      ]
    },
    {
      "cell_type": "code",
      "execution_count": 20,
      "metadata": {
        "colab": {
          "base_uri": "https://localhost:8080/"
        },
        "id": "wA_mlurVqtrp",
        "outputId": "18cccb1e-095f-40fa-def5-2454f9bcdcae"
      },
      "outputs": [],
      "source": [
        "import os\n",
        "import getpass\n",
        "\n",
        "os.environ[\"OPENAI_API_KEY\"] = getpass.getpass(\"Enter Your OpenAI API Key: \")"
      ]
    },
    {
      "cell_type": "code",
      "execution_count": 21,
      "metadata": {
        "id": "DHJhTzsvN75t"
      },
      "outputs": [],
      "source": [
        "from langchain_community.document_loaders import DirectoryLoader\n",
        "from langchain_community.document_loaders import BSHTMLLoader\n",
        "\n",
        "path = \"data/\"\n",
        "text_loader = DirectoryLoader(path, glob=\"*.html\", loader_cls=BSHTMLLoader)"
      ]
    },
    {
      "cell_type": "code",
      "execution_count": 22,
      "metadata": {
        "id": "NsPrOOqXOsNX"
      },
      "outputs": [],
      "source": [
        "from langchain_text_splitters import RecursiveCharacterTextSplitter\n",
        "\n",
        "text_splitter = RecursiveCharacterTextSplitter(\n",
        "    chunk_size = 750,\n",
        "    chunk_overlap  = 20,\n",
        "    length_function = len\n",
        ")"
      ]
    },
    {
      "cell_type": "code",
      "execution_count": 23,
      "metadata": {
        "id": "OMYPX6N6Os8M"
      },
      "outputs": [],
      "source": [
        "training_documents = text_splitter.split_documents(text_loader.load())"
      ]
    },
    {
      "cell_type": "code",
      "execution_count": 24,
      "metadata": {
        "colab": {
          "base_uri": "https://localhost:8080/"
        },
        "id": "PAozuMoNOvnp",
        "outputId": "dc1d663e-7153-4c51-cedb-d1bc3888c4ae"
      },
      "outputs": [
        {
          "data": {
            "text/plain": [
              "162"
            ]
          },
          "execution_count": 24,
          "metadata": {},
          "output_type": "execute_result"
        }
      ],
      "source": [
        "len(training_documents)"
      ]
    },
    {
      "cell_type": "code",
      "execution_count": 25,
      "metadata": {
        "id": "AwyIForybIpo"
      },
      "outputs": [],
      "source": [
        "import uuid\n",
        "\n",
        "id_set = set()\n",
        "\n",
        "for document in training_documents:\n",
        "  id = str(uuid.uuid4())\n",
        "  while id in id_set:\n",
        "    id = uuid.uuid4()\n",
        "  id_set.add(id)\n",
        "  document.metadata[\"id\"] = id"
      ]
    },
    {
      "cell_type": "code",
      "execution_count": 26,
      "metadata": {},
      "outputs": [
        {
          "data": {
            "text/plain": [
              "[Document(metadata={'source': 'data/2023_llms.html', 'title': 'Stuff we figured out about AI in 2023', 'id': 'f09bb01c-5a7b-44a1-99dd-2837b6aaca4c'}, page_content='Stuff we figured out about AI in 2023\\n\\n\\n\\n\\n\\n\\n\\n\\n\\n\\n\\n\\n\\n\\n\\n\\n\\n\\n\\n\\n\\nSimon Willison’s Weblog\\nSubscribe\\n\\n\\n\\n\\n\\n\\nStuff we figured out about AI in 2023\\n31st December 2023\\n2023 was the breakthrough year for Large Language Models (LLMs). I think it’s OK to call these AI—they’re the latest and (currently) most interesting development in the academic field of Artificial Intelligence that dates back to the 1950s.\\nHere’s my attempt to round up the highlights in one place!'),\n",
              " Document(metadata={'source': 'data/2023_llms.html', 'title': 'Stuff we figured out about AI in 2023', 'id': '4adb9328-c3e9-498a-a3af-dac2c0468835'}, page_content='Large Language Models\\nThey’re actually quite easy to build\\nYou can run LLMs on your own devices\\nHobbyists can build their own fine-tuned models\\nWe don’t yet know how to build GPT-4\\nVibes Based Development\\nLLMs are really smart, and also really, really dumb\\nGullibility is the biggest unsolved problem\\nCode may be the best application\\nThe ethics of this space remain diabolically complex\\nMy blog in 2023'),\n",
              " Document(metadata={'source': 'data/2023_llms.html', 'title': 'Stuff we figured out about AI in 2023', 'id': '443f465c-3fd3-45cb-b54f-e99c8e5de6dd'}, page_content='Here’s the sequel to this post: Things we learned about LLMs in 2024.\\nLarge Language Models\\nIn the past 24-36 months, our species has discovered that you can take a GIANT corpus of text, run it through a pile of GPUs, and use it to create a fascinating new kind of software.\\nLLMs can do a lot of things. They can answer questions, summarize documents, translate from one language to another, extract information and even write surprisingly competent code.\\nThey can also help you cheat at your homework, generate unlimited streams of fake content and be used for all manner of nefarious purposes.'),\n",
              " Document(metadata={'source': 'data/2023_llms.html', 'title': 'Stuff we figured out about AI in 2023', 'id': 'b5f02642-b234-4570-84dc-327dbef260c2'}, page_content='So far, I think they’re a net positive. I’ve used them on a personal level to improve my productivity (and entertain myself) in all sorts of different ways. I think people who learn how to use them effectively can gain a significant boost to their quality of life.\\nA lot of people are yet to be sold on their value! Some think their negatives outweigh their positives, some think they are all hot air, and some even think they represent an existential threat to humanity.\\nThey’re actually quite easy to build\\nThe most surprising thing we’ve learned about LLMs this year is that they’re actually quite easy to build.'),\n",
              " Document(metadata={'source': 'data/2023_llms.html', 'title': 'Stuff we figured out about AI in 2023', 'id': '9bd1771c-4adc-41a7-aa18-76743430db82'}, page_content='Intuitively, one would expect that systems this powerful would take millions of lines of complex code. Instead, it turns out a few hundred lines of Python is genuinely enough to train a basic version!\\nWhat matters most is the training  data. You need a lot of data to make these things work, and the quantity and quality of the training data appears to be the most important factor in how good the resulting model is.\\nIf you can gather the right data, and afford to pay for the GPUs to train it, you can build an LLM.'),\n",
              " Document(metadata={'source': 'data/2023_llms.html', 'title': 'Stuff we figured out about AI in 2023', 'id': '2bd9107d-8b05-4c60-8891-5eaca1fd7755'}, page_content='A year ago, the only organization that had released a generally useful LLM was OpenAI. We’ve now seen better-than-GPT-3 class models produced by Anthropic, Mistral, Google, Meta, EleutherAI, Stability AI, TII in Abu Dhabi (Falcon), Microsoft Research, xAI, Replit, Baidu and a bunch of other organizations.\\nThe training cost (hardware and electricity) is still significant—initially millions of dollars, but that seems to have dropped to the tens of thousands already. Microsoft’s Phi-2 claims to have used “14 days on 96 A100 GPUs”, which works out at around $35,000 using current Lambda pricing.'),\n",
              " Document(metadata={'source': 'data/2023_llms.html', 'title': 'Stuff we figured out about AI in 2023', 'id': 'dcfff171-2c45-4539-8e99-e6b9f789d1ad'}, page_content='So training an LLM still isn’t something a hobbyist can afford, but it’s no longer the sole domain of the super-rich. I like to compare the difficulty of training an LLM to that of building a suspension bridge—not trivial, but hundreds of countries around the world have figured out how to do it. (Correction: Wikipedia’s Suspension bridges by country category lists 44 countries).\\nYou can run LLMs on your own devices\\nIn January of this year, I thought it would be years before I could run a useful LLM on my own computer. GPT-3 and 3.5 were pretty much the only games in town, and I thought that even if the model weights were available it would take a $10,000+ server to run them.'),\n",
              " Document(metadata={'source': 'data/2023_llms.html', 'title': 'Stuff we figured out about AI in 2023', 'id': '51e15c09-8c77-46bf-9313-b911980141bd'}, page_content='Then in February, Meta released Llama. And a few weeks later in March, Georgi Gerganov released code that got it working on a MacBook.\\nI wrote about how Large language models are having their Stable Diffusion moment, and with hindsight that was a very good call!\\nThis unleashed a whirlwind of innovation, which was accelerated further in July when Meta released Llama 2—an improved version which, crucially, included permission for commercial use.\\nToday there are literally thousands of LLMs that can be run locally, on all manner of different devices.'),\n",
              " Document(metadata={'source': 'data/2023_llms.html', 'title': 'Stuff we figured out about AI in 2023', 'id': 'c580bdca-148a-4c4e-ad59-e5e0d26fd966'}, page_content='I run a bunch of them on my laptop. I run Mistral 7B (a surprisingly great model) on my iPhone. You can install several different apps to get your own, local, completely private LLM. My own LLM project provides a CLI tool for running an array of different models via plugins.\\nYou can even run them entirely in your browser using WebAssembly and the latest Chrome!\\nHobbyists can build their own fine-tuned models\\nI said earlier that building an LLM was still out of reach of hobbyists. That may be true for training from scratch, but fine-tuning one of those models is another matter entirely.'),\n",
              " Document(metadata={'source': 'data/2023_llms.html', 'title': 'Stuff we figured out about AI in 2023', 'id': 'fdde7cfd-f9b1-4629-b5e6-a7e128cf2361'}, page_content='There’s now a fascinating ecosystem of people training their own models on top of these foundations, publishing those models, building fine-tuning datasets and sharing those too.\\nThe Hugging Face Open LLM Leaderboard is one place that tracks these. I can’t even attempt to count them, and any count would be out-of-date within a few hours.\\nThe best overall openly licensed LLM at any time is rarely a foundation model: instead, it’s whichever fine-tuned community model has most recently discovered the best combination of fine-tuning data.\\nThis is a huge advantage for open over closed models: the closed, hosted models don’t have thousands of researchers and hobbyists around the world collaborating and competing to improve them.'),\n",
              " Document(metadata={'source': 'data/2023_llms.html', 'title': 'Stuff we figured out about AI in 2023', 'id': 'f79314e2-d4c9-4924-8ae3-7f9080f211f2'}, page_content='We don’t yet know how to build GPT-4\\nFrustratingly, despite the enormous leaps ahead we’ve had this year, we are yet to see an alternative model that’s better than GPT-4.\\nOpenAI released GPT-4 in March, though it later turned out we had a sneak peak of it in February when Microsoft used it as part of the new Bing.\\nThis may well change in the next few weeks: Google’s Gemini Ultra has big claims, but isn’t yet available for us to try out.\\nThe team behind Mistral are working to beat GPT-4 as well, and their track record is already extremely strong considering their first public model only came out in September, and they’ve released two significant improvements since then.'),\n",
              " Document(metadata={'source': 'data/2023_llms.html', 'title': 'Stuff we figured out about AI in 2023', 'id': 'cd8bc9fd-7ee9-4dc0-a8fd-06d07d5c18b9'}, page_content='Still, I’m surprised that no-one has beaten the now almost year old GPT-4 by now. OpenAI clearly have some substantial tricks that they haven’t shared yet.\\nVibes Based Development\\nAs a computer scientist and software engineer, LLMs are infuriating.\\nEven the openly licensed ones are still the world’s most convoluted black boxes. We continue to have very little idea what they can do, how exactly they work and how best to control them.\\nI’m used to programming where the computer does exactly what I tell it to do. Prompting an LLM is decidedly not that!\\nThe worst part is the challenge of evaluating them.\\nThere are plenty of benchmarks, but no benchmark is going to tell you if an LLM actually “feels” right when you try it for a given task.'),\n",
              " Document(metadata={'source': 'data/2023_llms.html', 'title': 'Stuff we figured out about AI in 2023', 'id': 'f8fddf4d-0828-40ff-b669-1d6f4ebf3740'}, page_content='I find I have to work with an LLM for a few weeks in order to get a good intuition for it’s strengths and weaknesses. This greatly limits how many I can evaluate myself!\\nThe most frustrating thing for me is at the level of individual prompting.\\nSometimes I’ll tweak a prompt and capitalize some of the words in it, to emphasize that I really want it to OUTPUT VALID MARKDOWN or similar. Did capitalizing those words make a difference? I still don’t have a good methodology for figuring that out.\\nWe’re left with what’s effectively Vibes Based Development. It’s vibes all the way down.\\nI’d love to see us move beyond vibes in 2024!\\nLLMs are really smart, and also really, really dumb'),\n",
              " Document(metadata={'source': 'data/2023_llms.html', 'title': 'Stuff we figured out about AI in 2023', 'id': '91d46ed0-12cf-47d7-9ae2-22647dd70add'}, page_content='On the one hand, we keep on finding new things that LLMs can do that we didn’t expect—and that the people who trained the models didn’t expect either. That’s usually really fun!\\nBut on the other hand, the things you sometimes have to do to get the models to behave are often incredibly dumb.\\nDoes ChatGPT get lazy in December, because its hidden system prompt includes the current date and its training data shows that people provide less useful answers coming up to the holidays?\\nThe honest answer is “maybe”! No-one is entirely sure, but if you give it a different date its answers may skew slightly longer.'),\n",
              " Document(metadata={'source': 'data/2023_llms.html', 'title': 'Stuff we figured out about AI in 2023', 'id': '30a1ae02-10c7-4581-ae2f-e4b698c0353b'}, page_content='Sometimes it omits sections of code and leaves you to fill them in, but if you tell it you can’t type because you don’t have any fingers it produces the full code for you instead.\\nThere are so many more examples like this. Offer it cash tips for better answers. Tell it your career depends on it. Give it positive reinforcement. It’s all so dumb, but it works!\\nGullibility is the biggest unsolved problem\\nI coined the term prompt injection in September last year.\\n15 months later, I regret to say that we’re still no closer to a robust, dependable solution to this problem.\\nI’ve written a ton about this already.\\nBeyond that specific class of security vulnerabilities, I’ve started seeing this as a wider problem of gullibility.'),\n",
              " Document(metadata={'source': 'data/2023_llms.html', 'title': 'Stuff we figured out about AI in 2023', 'id': 'b3fc9afd-b203-40a2-8ce8-2703a6719ac1'}, page_content='Language Models are gullible. They “believe” what we tell them—what’s in their training data, then what’s in the fine-tuning data, then what’s in the prompt.\\nIn order to be useful tools for us, we need them to believe what we feed them!\\nBut it turns out a lot of the things we want to build need them not to be gullible.\\nEveryone wants an AI personal assistant. If you hired a real-world personal assistant who believed everything that anyone told them, you would quickly find that their ability to positively impact your life was severely limited.'),\n",
              " Document(metadata={'source': 'data/2023_llms.html', 'title': 'Stuff we figured out about AI in 2023', 'id': '1e7da394-d6ce-4c18-b586-4f0940294eb9'}, page_content='A lot of people are excited about AI agents—an infuriatingly vague term that seems to be converging on “AI systems that can go away and act on your behalf”. We’ve been talking about them all year, but I’ve seen few if any examples of them running in production, despite lots of exciting prototypes.\\nI think this is because of gullibility.\\nCan we solve this? Honestly, I’m beginning to suspect that you can’t fully solve gullibility without achieving AGI. So it may be quite a while before those agent dreams can really start to come true!\\nCode may be the best application\\nOver the course of the year, it’s become increasingly clear that writing code is one of the things LLMs are most capable of.'),\n",
              " Document(metadata={'source': 'data/2023_llms.html', 'title': 'Stuff we figured out about AI in 2023', 'id': 'bb8f867f-4f60-4155-8d15-b5d9947683cc'}, page_content='If you think about what they do, this isn’t such a big surprise. The grammar rules of programming languages like Python and JavaScript are massively less complicated than the grammar of Chinese, Spanish or English.\\nIt’s still astonishing to me how effective they are though.\\nOne of the great weaknesses of LLMs is their tendency to hallucinate—to imagine things that don’t correspond to reality. You would expect this to be a particularly bad problem for code—if an LLM hallucinates a method that doesn’t exist, the code should be useless.'),\n",
              " Document(metadata={'source': 'data/2023_llms.html', 'title': 'Stuff we figured out about AI in 2023', 'id': '58bcd94c-6938-4864-b0e2-d9024516bbd9'}, page_content='Except... you can run generated code to see if it’s correct. And with patterns like ChatGPT Code Interpreter the LLM can execute the code itself, process the error message, then rewrite it and keep trying until it works!\\nSo hallucination is a much lesser problem for code generation than for anything else. If only we had the equivalent of Code Interpreter for fact-checking natural language!\\nHow should we feel about this as software engineers?\\nOn the one hand, this feels like a threat: who needs a programmer if ChatGPT can write code for you?'),\n",
              " Document(metadata={'source': 'data/2023_llms.html', 'title': 'Stuff we figured out about AI in 2023', 'id': 'a33b02b8-d8ac-4a72-99c8-3ba4e605954c'}, page_content='On the other hand, as software engineers we are better placed to take advantage of this than anyone else. We’ve all been given weird coding interns—we can use our deep knowledge to prompt them to solve coding problems more effectively than anyone else can.\\nThe ethics of this space remain diabolically complex\\nIn September last year Andy Baio and I produced the first major story on the unlicensed training data behind Stable Diffusion.\\nSince then, almost every major LLM (and most of the image generation models) have also been trained on unlicensed data.'),\n",
              " Document(metadata={'source': 'data/2023_llms.html', 'title': 'Stuff we figured out about AI in 2023', 'id': '8293a7f8-4dc9-40ac-9012-137c6752bba5'}, page_content='Just this week, the New York Times launched a landmark lawsuit against OpenAI and Microsoft over this issue. The 69 page PDF is genuinely worth reading—especially the first few pages, which lay out the issues in a way that’s surprisingly easy to follow. The rest of the document includes some of the clearest explanations of what LLMs are, how they work and how they are built that I’ve read anywhere.\\nThe legal arguments here are complex. I’m not a lawyer, but I don’t think this one will be easily decided. Whichever way it goes, I expect this case to have a profound impact on how this technology develops in the future.'),\n",
              " Document(metadata={'source': 'data/2023_llms.html', 'title': 'Stuff we figured out about AI in 2023', 'id': '0db55714-c14c-4930-9416-40b21dd4b425'}, page_content='Law is not ethics. Is it OK to train models on people’s content without their permission, when those models will then be used in ways that compete with those people?\\nAs the quality of results produced by AI models has increased over the year, these questions have become even more pressing.\\nThe impact on human society in terms of these models is already huge, if difficult to objectively measure.\\nPeople have certainly lost work to them—anecdotally, I’ve seen this for copywriters, artists and translators.\\nThere are a great deal of untold stories here. I’m hoping 2024 sees significant amounts of dedicated journalism on this topic.\\nMy blog in 2023\\nHere’s a tag cloud for content I posted to my blog in 2023 (generated using Django SQL Dashboard):'),\n",
              " Document(metadata={'source': 'data/2023_llms.html', 'title': 'Stuff we figured out about AI in 2023', 'id': '18a12f26-6c0e-4750-93c8-c7fa79bc959e'}, page_content='The top five: ai (342), generativeai (300), llms (287), openai (86), chatgpt (78).\\nI’ve written a lot about this stuff!\\nI grabbed a screenshot of my Plausible analytics for the year, fed that to ChatGPT Vision, told it to extract the data into a table, then got it to mix in entry titles (from a SQL query it wrote) and produced this table with it. Here are my top entries this year by amount of traffic:\\n\\n\\n\\nArticle\\nVisitors\\nPageviews\\n\\n\\n\\n\\nBing: “I will not harm you unless you harm me first”\\n1.1M\\n1.3M\\n\\n\\nLeaked Google document: “We Have No Moat, And Neither Does OpenAI”\\n132k\\n162k\\n\\n\\nLarge language models are having their Stable Diffusion moment\\n121k\\n150k\\n\\n\\nPrompt injection: What’s the worst that can happen?\\n79.8k\\n95.9k'),\n",
              " Document(metadata={'source': 'data/2023_llms.html', 'title': 'Stuff we figured out about AI in 2023', 'id': 'fe2b2abd-6336-457d-bfe1-bff81ab34e91'}, page_content='Embeddings: What they are and why they matter\\n61.7k\\n79.3k\\n\\n\\nCatching up on the weird world of LLMs\\n61.6k\\n85.9k\\n\\n\\nllamafile is the new best way to run an LLM on your own computer\\n52k\\n66k\\n\\n\\nPrompt injection explained, with video, slides, and a transcript\\n51k\\n61.9k\\n\\n\\nAI-enhanced development makes me more ambitious with my projects\\n49.6k\\n60.1k\\n\\n\\nUnderstanding GPT tokenizers\\n49.5k\\n61.1k\\n\\n\\nExploring GPTs: ChatGPT in a trench coat?\\n46.4k\\n58.5k\\n\\n\\nCould you train a ChatGPT-beating model for $85,000 and run it in a browser?\\n40.5k\\n49.2k\\n\\n\\nHow to implement Q&A against your documentation with GPT3, embeddings and Datasette\\n37.3k\\n44.9k\\n\\n\\nLawyer cites fake cases invented by ChatGPT, judge is not amused\\n37.1k\\n47.4k'),\n",
              " Document(metadata={'source': 'data/2023_llms.html', 'title': 'Stuff we figured out about AI in 2023', 'id': '061e61d2-94c0-4a9d-9617-d0accc1f7049'}, page_content='Now add a walrus: Prompt engineering in DALL-E 3\\n32.8k\\n41.2k\\n\\n\\nWeb LLM runs the vicuna-7b Large Language Model entirely in your browser, and it’s very impressive\\n32.5k\\n38.2k\\n\\n\\nChatGPT can’t access the internet, even though it really looks like it can\\n30.5k\\n34.2k\\n\\n\\nStanford Alpaca, and the acceleration of on-device large language model development\\n29.7k\\n35.7k\\n\\n\\nRun Llama 2 on your own Mac using LLM and Homebrew\\n27.9k\\n33.6k\\n\\n\\nMidjourney 5.1\\n26.7k\\n33.4k\\n\\n\\nThink of language models like ChatGPT as a “calculator for words”\\n25k\\n31.8k\\n\\n\\nMulti-modal prompt injection image attacks against GPT-4V\\n23.7k\\n27.4k'),\n",
              " Document(metadata={'source': 'data/2023_llms.html', 'title': 'Stuff we figured out about AI in 2023', 'id': '15fa503d-2cf4-4076-83f8-f6131cb20fe6'}, page_content='I also gave a bunch of talks and podcast appearances. I’ve started habitually turning my talks into annotated presentations—here are my best from 2023:\\n\\nPrompt injection explained, with video, slides, and a transcript\\nCatching up on the weird world of LLMs\\nMaking Large Language Models work for you\\nOpen questions for AI engineering\\nEmbeddings: What they are and why they matter\\nFinancial sustainability for open source projects at GitHub Universe\\n\\nAnd in podcasts:\\n\\n\\nWhat AI can do for you on the Theory of Change\\n\\nWorking in public on Path to Citus Con\\n\\nLLMs break the internet on the Changelog\\n\\nTalking Large Language Models on Rooftop Ruby\\n\\nThoughts on the OpenAI board situation on Newsroom Robots'),\n",
              " Document(metadata={'source': 'data/2023_llms.html', 'title': 'Stuff we figured out about AI in 2023', 'id': '3ec169d3-6f29-47df-a2bc-335f686f3718'}, page_content=\"Industry’s Tardy Response to the AI Prompt Injection Vulnerability on RedMonk Conversations\\n\\n\\nPosted 31st December 2023 at 11:59 pm · Follow me on Mastodon or Twitter or subscribe to my newsletter\\n\\n\\nMore recent articles\\n\\nRun LLMs on macOS using llm-mlx and Apple's MLX framework - 15th February 2025\\nURL-addressable Pyodide Python environments - 13th February 2025\\nUsing pip to install a Large Language Model that's under 100MB - 7th February 2025\\n\\n\\n \\n\\n\\nThis is Stuff we figured out about AI in 2023 by Simon Willison, posted on 31st December 2023.\\n\\nPart of series LLMs annual review\\n\\nStuff we figured out about AI in 2023 - Dec. 31, 2023, 11:59 p.m. \\nThings we learned about LLMs in 2024 - Dec. 31, 2024, 6:07 p.m.\"),\n",
              " Document(metadata={'source': 'data/2023_llms.html', 'title': 'Stuff we figured out about AI in 2023', 'id': 'eaf0a636-284d-4a97-8aab-c925dbc35607'}, page_content='blogging\\n            68\\n\\n\\n            ai\\n            1098\\n\\n\\n            generative-ai\\n            942\\n\\n\\n            llms\\n            930\\n\\nNext: Tom Scott, and the formidable power of escalating streaks\\nPrevious: Last weeknotes of 2023\\n\\n\\n \\n \\n\\n\\nColophon\\n©\\n2002\\n2003\\n2004\\n2005\\n2006\\n2007\\n2008\\n2009\\n2010\\n2011\\n2012\\n2013\\n2014\\n2015\\n2016\\n2017\\n2018\\n2019\\n2020\\n2021\\n2022\\n2023\\n2024\\n2025'),\n",
              " Document(metadata={'source': 'data/2024_llms.html', 'title': 'Things we learned about LLMs in 2024', 'id': '5088e12c-ee85-428b-b011-2514017aa777'}, page_content='Things we learned about LLMs in 2024\\n\\n\\n\\n\\n\\n\\n\\n\\n\\n\\n\\n\\n\\n\\n\\n\\n\\n\\n\\n\\n\\nSimon Willison’s Weblog\\nSubscribe\\n\\n\\n\\n\\n\\n\\nThings we learned about LLMs in 2024\\n31st December 2024\\nA lot has happened in the world of Large Language Models over the course of 2024. Here’s a review of things we figured out about the field in the past twelve months, plus my attempt at identifying key themes and pivotal moments.\\nThis is a sequel to my review of 2023.\\nIn this article:'),\n",
              " Document(metadata={'source': 'data/2024_llms.html', 'title': 'Things we learned about LLMs in 2024', 'id': 'a4f6e336-115b-44df-bb01-321cea780f8c'}, page_content='The GPT-4 barrier was comprehensively broken\\nSome of those GPT-4 models run on my laptop\\nLLM prices crashed, thanks to competition and increased efficiency\\nMultimodal vision is common, audio and video are starting to emerge\\nVoice and live camera mode are science fiction come to life\\nPrompt driven app generation is a commodity already\\nUniversal access to the best models lasted for just a few short months\\n“Agents” still haven’t really happened yet\\nEvals really matter\\nApple Intelligence is bad, Apple’s MLX library is excellent\\nThe rise of inference-scaling “reasoning” models\\nWas the best currently available LLM trained in China for less than $6m?\\nThe environmental impact got better\\nThe environmental impact got much, much worse'),\n",
              " Document(metadata={'source': 'data/2024_llms.html', 'title': 'Things we learned about LLMs in 2024', 'id': '4b8586ff-8352-4f7c-9307-6c7a6d5f01b5'}, page_content='The year of slop\\nSynthetic training data works great\\nLLMs somehow got even harder to use\\nKnowledge is incredibly unevenly distributed\\nLLMs need better criticism\\nEverything tagged “llms” on my blog in 2024'),\n",
              " Document(metadata={'source': 'data/2024_llms.html', 'title': 'Things we learned about LLMs in 2024', 'id': '63ed336a-0484-419a-933c-351e65a95a11'}, page_content='The GPT-4 barrier was comprehensively broken\\nIn my December 2023 review I wrote about how We don’t yet know how to build GPT-4—OpenAI’s best model was almost a year old at that point, yet no other AI lab had produced anything better. What did OpenAI know that the rest of us didn’t?\\nI’m relieved that this has changed completely in the past twelve months. 18 organizations now have models on the Chatbot Arena Leaderboard that rank higher than the original GPT-4 from March 2023 (GPT-4-0314 on the board)—70 models in total.'),\n",
              " Document(metadata={'source': 'data/2024_llms.html', 'title': 'Things we learned about LLMs in 2024', 'id': '720682de-3f96-4c15-ab4d-24e310f7180b'}, page_content='The earliest of those was Google’s Gemini 1.5 Pro, released in February. In addition to producing GPT-4 level outputs, it introduced several brand new capabilities to the field—most notably its 1 million (and then later 2 million) token input context length, and the ability to input video.\\nI wrote about this at the time in The killer app of Gemini Pro 1.5 is video, which earned me a short appearance as a talking head in the Google I/O opening keynote in May.'),\n",
              " Document(metadata={'source': 'data/2024_llms.html', 'title': 'Things we learned about LLMs in 2024', 'id': 'b98aa3ce-9404-4b6d-9204-364dbdae720f'}, page_content='Gemini 1.5 Pro also illustrated one of the key themes of 2024: increased context lengths. Last year most models accepted 4,096 or 8,192 tokens, with the notable exception of Claude 2.1 which accepted 200,000. Today every serious provider has a 100,000+ token model, and Google’s Gemini series accepts up to 2 million.'),\n",
              " Document(metadata={'source': 'data/2024_llms.html', 'title': 'Things we learned about LLMs in 2024', 'id': '4198dfa9-6056-496d-a768-3df20543c607'}, page_content='Longer inputs dramatically increase the scope of problems that can be solved with an LLM: you can now throw in an entire book and ask questions about its contents, but more importantly you can feed in a lot of example code to help the model correctly solve a coding problem. LLM use-cases that involve long inputs are far more interesting to me than short prompts that rely purely on the information already baked into the model weights. Many of my tools were built using this pattern.'),\n",
              " Document(metadata={'source': 'data/2024_llms.html', 'title': 'Things we learned about LLMs in 2024', 'id': '573e226d-0deb-4792-9611-491abbecf178'}, page_content='Getting back to models that beat GPT-4: Anthropic’s Claude 3 series launched in March, and Claude 3 Opus quickly became my new favourite daily-driver. They upped the ante even more in June with the launch of Claude 3.5 Sonnet—a model that is still my favourite six months later (though it got a significant upgrade on October 22, confusingly keeping the same 3.5 version number. Anthropic fans have since taken to calling it Claude 3.6).'),\n",
              " Document(metadata={'source': 'data/2024_llms.html', 'title': 'Things we learned about LLMs in 2024', 'id': 'a582a27f-6b31-4ae1-92eb-2ebe80965a2a'}, page_content='Then there’s the rest. If you browse the Chatbot Arena leaderboard today—still the most useful single place to get a vibes-based evaluation of models—you’ll see that GPT-4-0314 has fallen to around 70th place. The 18 organizations with higher scoring models are Google, OpenAI, Alibaba, Anthropic, Meta, Reka AI, 01 AI, Amazon, Cohere, DeepSeek, Nvidia, Mistral, NexusFlow, Zhipu AI, xAI, AI21 Labs, Princeton and Tencent.\\nTraining a GPT-4 beating model was a huge deal in 2023. In 2024 it’s an achievement that isn’t even particularly notable, though I personally still celebrate any time a new organization joins that list.\\nSome of those GPT-4 models run on my laptop'),\n",
              " Document(metadata={'source': 'data/2024_llms.html', 'title': 'Things we learned about LLMs in 2024', 'id': '39abc23e-a97f-4b24-9f10-ee9ac68444b7'}, page_content='My personal laptop is a 64GB M2 MacBook Pro from 2023. It’s a powerful machine, but it’s also nearly two years old now—and crucially it’s the same laptop I’ve been using ever since I first ran an LLM on my computer back in March 2023 (see Large language models are having their Stable Diffusion moment).\\nThat same laptop that could just about run a GPT-3-class model in March last year has now run multiple GPT-4 class models! Some of my notes on that:'),\n",
              " Document(metadata={'source': 'data/2024_llms.html', 'title': 'Things we learned about LLMs in 2024', 'id': '5d90c7e1-b678-4de0-895b-09d4d9c3098b'}, page_content='Qwen2.5-Coder-32B is an LLM that can code well that runs on my Mac talks about Qwen2.5-Coder-32B in November—an Apache 2.0 licensed model!\\n\\nI can now run a GPT-4 class model on my laptop talks about running Meta’s Llama 3.3 70B (released in December)'),\n",
              " Document(metadata={'source': 'data/2024_llms.html', 'title': 'Things we learned about LLMs in 2024', 'id': '0c3c1560-6950-47ce-b844-7a68fe0fbe9e'}, page_content='This remains astonishing to me. I thought a model with the capabilities and output quality of GPT-4 needed a datacenter class server with one or more $40,000+ GPUs.\\nThese models take up enough of my 64GB of RAM that I don’t run them often—they don’t leave much room for anything else.\\nThe fact that they run at all is a testament to the incredible training and inference performance gains that we’ve figured out over the past year. It turns out there was a lot of low-hanging fruit to be harvested in terms of model efficiency. I expect there’s still more to come.'),\n",
              " Document(metadata={'source': 'data/2024_llms.html', 'title': 'Things we learned about LLMs in 2024', 'id': '2013cebc-931f-4053-9ffb-92654a1b9a54'}, page_content='Meta’s Llama 3.2 models deserve a special mention. They may not be GPT-4 class, but at 1B and 3B sizes they punch massively above their weight. I run Llama 3.2 3B on my iPhone using the free MLC Chat iOS app and it’s a shockingly capable model for its tiny (<2GB) size. Try firing it up and asking it for “a plot outline of a Netflix Christmas movie where a data journalist falls in love with a local ceramacist”. Here’s what I got, at a respectable 20 tokens per second:'),\n",
              " Document(metadata={'source': 'data/2024_llms.html', 'title': 'Things we learned about LLMs in 2024', 'id': 'cb3db564-5cca-4639-8b3c-4c809d626d3d'}, page_content='Here’s the rest of the transcript. It’s bland and generic, but my phone can pitch bland and generic Christmas movies to Netflix now!\\nLLM prices crashed, thanks to competition and increased efficiency\\nThe past twelve months have seen a dramatic collapse in the cost of running a prompt through the top tier hosted LLMs.\\nIn December 2023 (here’s the Internet Archive for the OpenAI pricing page) OpenAI were charging $30/million input tokens for GPT-4, $10/mTok for the then-new GPT-4 Turbo and $1/mTok for GPT-3.5 Turbo.\\nToday $30/mTok gets you OpenAI’s most expensive model, o1. GPT-4o is $2.50 (12x cheaper than GPT-4) and GPT-4o mini is $0.15/mTok—nearly 7x cheaper than GPT-3.5 and massively more capable.'),\n",
              " Document(metadata={'source': 'data/2024_llms.html', 'title': 'Things we learned about LLMs in 2024', 'id': '2bc4b42e-1d7d-4736-b3c3-30755c42ddb6'}, page_content='Other model providers charge even less. Anthropic’s Claude 3 Haiku (from March, but still their cheapest model) is $0.25/mTok. Google’s Gemini 1.5 Flash is $0.075/mTok and their Gemini 1.5 Flash 8B is $0.0375/mTok—that’s 27x cheaper than GPT-3.5 Turbo last year.\\nI’ve been tracking these pricing changes under my llm-pricing tag.\\nThese price drops are driven by two factors: increased competition and increased efficiency. The efficiency thing is really important for everyone who is concerned about the environmental impact of LLMs. These price drops tie directly to how much energy is being used for running prompts.'),\n",
              " Document(metadata={'source': 'data/2024_llms.html', 'title': 'Things we learned about LLMs in 2024', 'id': '52d1b016-eb0a-4fbc-aa49-2fde01453412'}, page_content='There’s still plenty to worry about with respect to the environmental impact of the great AI datacenter buildout, but a lot of the concerns over the energy cost of individual prompts are no longer credible.\\nHere’s a fun napkin calculation: how much would it cost to generate short descriptions of every one of the 68,000 photos in my personal photo library using Google’s Gemini 1.5 Flash 8B (released in October), their cheapest model?\\nEach photo would need 260 input tokens and around 100 output tokens.\\n260 * 68,000 = 17,680,000 input tokens\\n17,680,000 * $0.0375/million = $0.66\\n100 * 68,000 = 6,800,000 output tokens\\n6,800,000 * $0.15/million = $1.02'),\n",
              " Document(metadata={'source': 'data/2024_llms.html', 'title': 'Things we learned about LLMs in 2024', 'id': '07443f7e-8fa4-41e6-bcb1-3378c0aaebc3'}, page_content='That’s a total cost of $1.68 to process 68,000 images. That’s so absurdly cheap I had to run the numbers three times to confirm I got it right.\\nHow good are those descriptions? Here’s what I got from this command:\\nllm -m gemini-1.5-flash-8b-latest describe -a IMG_1825.jpeg'),\n",
              " Document(metadata={'source': 'data/2024_llms.html', 'title': 'Things we learned about LLMs in 2024', 'id': '50396023-bd8d-4de4-bdd5-a1dd8b759e11'}, page_content='Against this photo of butterflies at the California Academy of Sciences:\\n\\n\\nA shallow dish, likely a hummingbird or butterfly feeder, is red.  Pieces of orange slices of fruit are visible inside the dish.\\nTwo butterflies are positioned in the feeder, one is a dark brown/black butterfly with white/cream-colored markings.  The other is a large, brown butterfly with patterns of lighter brown, beige, and black markings, including prominent eye spots. The larger brown butterfly appears to be feeding on the fruit.'),\n",
              " Document(metadata={'source': 'data/2024_llms.html', 'title': 'Things we learned about LLMs in 2024', 'id': 'e61b7534-8af6-4514-88e1-78f8462fcefe'}, page_content='260 input tokens, 92 output tokens. Cost approximately 0.0024 cents (that’s less than a 400th of a cent).\\nThis increase in efficiency and reduction in price is my single favourite trend from 2024. I want the utility of LLMs at a fraction of the energy cost and it looks like that’s what we’re getting.\\nMultimodal vision is common, audio and video are starting to emerge\\nMy butterfly example above illustrates another key trend from 2024: the rise of multi-modal LLMs.\\nA year ago the single most notable example of these was GPT-4 Vision, released at OpenAI’s DevDay in November 2023. Google’s multi-modal Gemini 1.0 was announced on December 7th 2023 so it also (just) makes it into the 2023 window.'),\n",
              " Document(metadata={'source': 'data/2024_llms.html', 'title': 'Things we learned about LLMs in 2024', 'id': 'bd3c5306-0d16-42d2-8673-5db1cf6b4366'}, page_content='In 2024, almost every significant model vendor released multi-modal models. We saw the Claude 3 series from Anthropic in March, Gemini 1.5 Pro in April (images, audio and video), then September brought Qwen2-VL and Mistral’s Pixtral 12B and Meta’s Llama 3.2 11B and 90B vision models. We got audio input and output from OpenAI in October, then November saw SmolVLM from Hugging Face and December saw image and video models from Amazon Nova.\\nIn October I upgraded my LLM CLI tool to support multi-modal models via attachments. It now has plugins for a whole collection of different vision models.'),\n",
              " Document(metadata={'source': 'data/2024_llms.html', 'title': 'Things we learned about LLMs in 2024', 'id': 'bc0d7bf9-c3e2-4ab0-bb49-d370988a8c5d'}, page_content='I think people who complain that LLM improvement has slowed are often missing the enormous advances in these multi-modal models. Being able to run prompts against images (and audio and video) is a fascinating new way to apply these models.\\nVoice and live camera mode are science fiction come to life\\nThe audio and live video modes that have started to emerge deserve a special mention.\\nThe ability to talk to ChatGPT first arrived in September 2023, but it was mostly an illusion: OpenAI used their excellent Whisper speech-to-text model and a new text-to-speech model (creatively named tts-1) to enable conversations with the ChatGPT mobile apps, but the actual model just saw text.'),\n",
              " Document(metadata={'source': 'data/2024_llms.html', 'title': 'Things we learned about LLMs in 2024', 'id': '950aed7f-8c1a-4f41-bbb2-460bc81ea287'}, page_content='The May 13th announcement of GPT-4o included a demo of a brand new voice mode, where the true multi-modal GPT-4o (the o is for “omni”) model could accept audio input and output incredibly realistic sounding speech without needing separate TTS or STT models.\\nThe demo also sounded conspicuously similar to Scarlett Johansson... and after she complained the voice from the demo, Skye, never made it to a production product.\\nThe delay in releasing the new voice mode after the initial demo caused quite a lot of confusion. I wrote about that in ChatGPT in “4o” mode is not running the new features yet.'),\n",
              " Document(metadata={'source': 'data/2024_llms.html', 'title': 'Things we learned about LLMs in 2024', 'id': '80c4daab-1f4f-47e7-a6b8-6eb212bbb433'}, page_content='When ChatGPT Advanced Voice mode finally did roll out (a slow roll from August through September) it was spectacular. I’ve been using it extensively on walks with my dog and it’s amazing how much the improvement in intonation elevates the material. I’ve also had a lot of fun experimenting with the OpenAI audio APIs.\\nEven more fun: Advanced Voice mode can do accents! Here’s what happened when I told it I need you to pretend to be a California brown pelican with a very thick Russian accent, but you talk to me exclusively in Spanish.'),\n",
              " Document(metadata={'source': 'data/2024_llms.html', 'title': 'Things we learned about LLMs in 2024', 'id': '808a3bd1-32d9-4a93-8778-6864f96d0838'}, page_content='Your browser does not support the audio element.\\n\\nOpenAI aren’t the only group with a multi-modal audio model. Google’s Gemini also accepts audio input, and the Google Gemini apps can speak in a similar way to ChatGPT now. Amazon also pre-announced voice mode for Amazon Nova, but that’s meant to roll out in Q1 of 2025.\\nGoogle’s NotebookLM, released in September, took audio output to a new level by producing spookily realistic conversations between two “podcast hosts” about anything you fed into their tool. They later added custom instructions, so naturally I turned them into pelicans:\\n\\n\\nYour browser does not support the audio element.'),\n",
              " Document(metadata={'source': 'data/2024_llms.html', 'title': 'Things we learned about LLMs in 2024', 'id': '9be22c6f-4b0e-45da-ba4a-0c4ed1730ff3'}, page_content='The most recent twist, again from December (December was a lot) is live video. ChatGPT voice mode now provides the option to share your camera feed with the model and talk about what you can see in real time. Google Gemini have a preview of the same feature, which they managed to ship the day before ChatGPT did.'),\n",
              " Document(metadata={'source': 'data/2024_llms.html', 'title': 'Things we learned about LLMs in 2024', 'id': '4801a0eb-8269-47aa-9e4f-3c1af2a831e8'}, page_content='These abilities are just a few weeks old at this point, and I don’t think their impact has been fully felt yet. If you haven’t tried them out yet you really should.\\nBoth Gemini and OpenAI offer API access to these features as well. OpenAI started with a WebSocket API that was quite challenging to use, but in December they announced a new WebRTC API which is much easier to get started with. Building a web app that a user can talk to via voice is easy now!\\nPrompt driven app generation is a commodity already\\nThis was possible with GPT-4 in 2023, but the value it provides became evident in 2024.'),\n",
              " Document(metadata={'source': 'data/2024_llms.html', 'title': 'Things we learned about LLMs in 2024', 'id': '6c7eddbd-ac96-4b9c-8476-0962153e4927'}, page_content='We already knew LLMs were spookily good at writing code. If you prompt them right, it turns out they can build you a full interactive application using HTML, CSS and JavaScript (and tools like React if you wire up some extra supporting build mechanisms)—often in a single prompt.\\nAnthropic kicked this idea into high gear when they released Claude Artifacts, a groundbreaking new feature that was initially slightly lost in the noise due to being described half way through their announcement of the incredible Claude 3.5 Sonnet.\\nWith Artifacts, Claude can write you an on-demand interactive application and then let you use it directly inside the Claude interface.\\nHere’s my Extract URLs app, entirely generated by Claude:'),\n",
              " Document(metadata={'source': 'data/2024_llms.html', 'title': 'Things we learned about LLMs in 2024', 'id': '7a99a9e0-fcac-4e5d-9c2a-39efdc75c25e'}, page_content='I’ve found myself using this a lot. I noticed how much I was relying on it in October and wrote Everything I built with Claude Artifacts this week, describing 14 little tools I had put together in a seven day period.\\nSince then, a whole bunch of other teams have built similar systems. GitHub announced their version of this—GitHub Spark—in October. Mistral Chat added it as a feature called Canvas in November.\\nSteve Krouse from Val Town built a version of it against Cerebras, showcasing how a 2,000 token/second LLM can iterate on an application with changes visible in less than a second.'),\n",
              " Document(metadata={'source': 'data/2024_llms.html', 'title': 'Things we learned about LLMs in 2024', 'id': '22ace1a5-8446-4d5e-9367-5fc31896723a'}, page_content='Then in December, the Chatbot Arena team introduced a whole new leaderboard for this feature, driven by users building the same interactive app twice with two different models and voting on the answer. Hard to come up with a more convincing argument that this feature is now a commodity that can be effectively implemented against all of the leading models.\\nI’ve been tinkering with a version of this myself for my Datasette project, with the goal of letting users use prompts to build and iterate on custom widgets and data visualizations against their own data. I also figured out a similar pattern for writing one-shot Python programs, enabled by uv.'),\n",
              " Document(metadata={'source': 'data/2024_llms.html', 'title': 'Things we learned about LLMs in 2024', 'id': '35160e77-fd29-4d86-a049-9469cf26b9b6'}, page_content='This prompt-driven custom interface feature is so powerful and easy to build (once you’ve figured out the gnarly details of browser sandboxing) that I expect it to show up as a feature in a wide range of products in 2025.\\nUniversal access to the best models lasted for just a few short months\\nFor a few short months this year all three of the best available models—GPT-4o, Claude 3.5 Sonnet and Gemini 1.5 Pro—were freely available to most of the world.'),\n",
              " Document(metadata={'source': 'data/2024_llms.html', 'title': 'Things we learned about LLMs in 2024', 'id': '848b7a95-92b7-4559-b2e9-6b41f4f73d08'}, page_content='OpenAI made GPT-4o free for all users in May, and Claude 3.5 Sonnet was freely available from its launch in June. This was a momentus change, because for the previous year free users had mostly been restricted to GPT-3.5 level models, meaning new users got a very inaccurate mental model of what a capable LLM could actually do.\\nThat era appears to have ended, likely permanently, with OpenAI’s launch of ChatGPT Pro. This $200/month subscription service is the only way to access their most capable model, o1 Pro.\\nSince the trick behind the o1 series (and the future models it will undoubtedly inspire) is to expend more compute time to get better results, I don’t think those days of free access to the best available models are likely to return.'),\n",
              " Document(metadata={'source': 'data/2024_llms.html', 'title': 'Things we learned about LLMs in 2024', 'id': 'a0ef29fc-f8b5-4416-8fba-af6ade45fbba'}, page_content='“Agents” still haven’t really happened yet\\nI find the term “agents” extremely frustrating. It lacks a single, clear and widely understood meaning... but the people who use the term never seem to acknowledge that.\\nIf you tell me that you are building “agents”, you’ve conveyed almost no information to me at all. Without reading your mind I have no way of telling which of the dozens of possible definitions you are talking about.'),\n",
              " Document(metadata={'source': 'data/2024_llms.html', 'title': 'Things we learned about LLMs in 2024', 'id': 'ea7f7775-6eaf-4e31-a815-fc3bcae74448'}, page_content='The two main categories I see are people who think AI agents are obviously things that go and act on your behalf—the travel agent model—and people who think in terms of LLMs that have been given access to tools which they can run in a loop as part of solving a problem. The term “autonomy” is often thrown into the mix too, again without including a clear definition.\\n(I also collected 211 definitions on Twitter a few months ago—here they are in Datasette Lite—and had gemini-exp-1206 attempt to summarize them.)\\nWhatever the term may mean, agents still have that feeling of perpetually “coming soon”.'),\n",
              " Document(metadata={'source': 'data/2024_llms.html', 'title': 'Things we learned about LLMs in 2024', 'id': '35916f67-bbec-40e4-ba4c-6ff5ac632741'}, page_content='Terminology aside, I remain skeptical as to their utility based, once again, on the challenge of gullibility. LLMs believe anything you tell them. Any systems that attempts to make meaningful decisions on your behalf will run into the same roadblock: how good is a travel agent, or a digital assistant, or even a research tool if it can’t distinguish truth from fiction?\\nJust the other day Google Search was caught serving up an entirely fake description of the non-existant movie “Encanto 2”. It turned out to be summarizing an imagined movie listing from a fan fiction wiki.'),\n",
              " Document(metadata={'source': 'data/2024_llms.html', 'title': 'Things we learned about LLMs in 2024', 'id': 'bfd44496-3406-473c-80d7-69789e13332e'}, page_content='Prompt injection is a natural consequence of this gulibility. I’ve seen precious little progress on tackling that problem in 2024, and we’ve been talking about it since September 2022.\\nI’m beginning to see the most popular idea of “agents” as dependent on AGI itself. A model that’s robust against gulliblity is a very tall order indeed.\\nEvals really matter\\nAnthropic’s Amanda Askell (responsible for much of the work behind Claude’s Character):'),\n",
              " Document(metadata={'source': 'data/2024_llms.html', 'title': 'Things we learned about LLMs in 2024', 'id': 'f94c0117-70bd-48c7-89b8-aa10d9226215'}, page_content='The boring yet crucial secret behind good system prompts is test-driven development. You don’t write down a system prompt and find ways to test it. You write down tests and find a system prompt that passes them.\\n\\nIt’s become abundantly clear over the course of 2024 that writing good automated evals for LLM-powered systems is the skill that’s most needed to build useful applications on top of these models. If you have a strong eval suite you can adopt new models faster, iterate better and build more reliable and useful product features than your competition.\\nVercel’s Malte Ubl:'),\n",
              " Document(metadata={'source': 'data/2024_llms.html', 'title': 'Things we learned about LLMs in 2024', 'id': '26cacaaa-3959-41a5-a9dc-bb842ff8589f'}, page_content='When @v0 first came out we were paranoid about protecting the prompt with all kinds of pre and post processing complexity.\\nWe completely pivoted to let it rip. A prompt without the evals, models, and especially UX is like getting a broken ASML machine without a manual'),\n",
              " Document(metadata={'source': 'data/2024_llms.html', 'title': 'Things we learned about LLMs in 2024', 'id': '9c4ace71-5a99-45fc-8e68-2bbc60239ea5'}, page_content='I’m still trying to figure out the best patterns for doing this for my own work. Everyone knows that evals are important, but there remains a lack of great guidance for how to best implement them—I’m tracking this under my evals tag. My SVG pelican riding a bicycle benchmark is a pale imitation of what a real eval suite should look like.\\nApple Intelligence is bad, Apple’s MLX library is excellent\\nAs a Mac user I’ve been feeling a lot better about my choice of platform this year.\\nLast year it felt like my lack of a Linux/Windows  machine with an NVIDIA GPU was a huge disadvantage in terms of trying out new models.'),\n",
              " Document(metadata={'source': 'data/2024_llms.html', 'title': 'Things we learned about LLMs in 2024', 'id': 'b3c4645f-29b5-4f73-9e4b-47ea05f7ca58'}, page_content='On paper, a 64GB Mac should be a great machine for running models due to the way the CPU and GPU can share the same memory. In practice, many models are released as model weights and libraries that reward NVIDIA’s CUDA over other platforms.\\nThe llama.cpp ecosystem helped a lot here, but the real breakthrough has been Apple’s MLX library, “an array framework for Apple Silicon”. It’s fantastic.\\nApple’s mlx-lm Python library supports running a wide range of MLX-compatible models on my Mac, with excellent performance. mlx-community on Hugging Face offers more than 1,000 models that have been converted to the necessary format.'),\n",
              " Document(metadata={'source': 'data/2024_llms.html', 'title': 'Things we learned about LLMs in 2024', 'id': 'f61e5943-4fb6-4b76-b3b7-c40a792c3359'}, page_content='Prince Canuma’s excellent, fast moving mlx-vlm project brings vision LLMs to Apple Silicon as well. I used that recently to run Qwen’s QvQ.\\nWhile MLX is a game changer, Apple’s own “Apple Intelligence” features have mostly been a disappointment. I wrote about their initial announcement in June, and I was optimistic that Apple had focused hard on the subset of LLM applications that preserve user privacy and minimize the chance of users getting mislead by confusing features.'),\n",
              " Document(metadata={'source': 'data/2024_llms.html', 'title': 'Things we learned about LLMs in 2024', 'id': '27088b7b-bd5f-4027-b46f-ccf8afd9da69'}, page_content='Now that those features are rolling out they’re pretty weak. As an LLM power-user I know what these models are capable of, and Apple’s LLM features offer a pale imitation of what a frontier LLM can do. Instead we’re getting notification summaries that misrepresent news headlines and writing assistant tools that I’ve not found useful at all. Genmoji are kind of fun though.\\nThe rise of inference-scaling “reasoning” models\\nThe most interesting development in the final quarter of 2024 was the introduction of a new shape of LLM, exemplified by OpenAI’s o1 models—initially released as o1-preview and o1-mini on September 12th.'),\n",
              " Document(metadata={'source': 'data/2024_llms.html', 'title': 'Things we learned about LLMs in 2024', 'id': '55543808-a44a-4f5e-be42-85c6f94898dd'}, page_content='One way to think about these models is an extension of the chain-of-thought prompting trick, first explored in the May 2022 paper Large Language Models are Zero-Shot Reasoners.\\nThis is that trick where, if you get a model to talk out loud about a problem it’s solving, you often get a result which the model would not have achieved otherwise.\\no1 takes this process and further bakes it into the model itself. The details are somewhat obfuscated: o1 models spend “reasoning tokens” thinking through the problem that are not directly visible to the user (though the ChatGPT UI shows a summary of them), then outputs a final result.'),\n",
              " Document(metadata={'source': 'data/2024_llms.html', 'title': 'Things we learned about LLMs in 2024', 'id': 'bf514c5d-ca12-413d-8a6c-a2c2a1623898'}, page_content='The biggest innovation here is that it opens up a new way to scale a model: instead of improving model performance purely through additional compute at training time, models can now take on harder problems by spending more compute on inference.\\nThe sequel to o1, o3 (they skipped “o2” for European trademark reasons) was announced on 20th December with an impressive result against the ARC-AGI benchmark, albeit one that likely involved more than $1,000,000 of compute time expense!\\no3 is expected to ship in January. I doubt many people have real-world problems that would benefit from that level of compute expenditure—I certainly don’t!—but it appears to be a genuine next step in LLM architecture for taking on much harder problems.'),\n",
              " Document(metadata={'source': 'data/2024_llms.html', 'title': 'Things we learned about LLMs in 2024', 'id': 'acb35371-89cb-4877-a4be-489d30ad0b64'}, page_content='OpenAI are not the only game in town here. Google released their first entrant in the category, gemini-2.0-flash-thinking-exp, on December 19th.\\nAlibaba’s Qwen team released their QwQ model on November 28th—under an Apache 2.0 license, and that one I could run on my own machine. They followed that up with a vision reasoning model called QvQ on December 24th, which I also ran locally.\\nDeepSeek made their DeepSeek-R1-Lite-Preview model available to try out through their chat interface on November 20th.\\nTo understand more about inference scaling I recommend Is AI progress slowing down? by Arvind Narayanan and Sayash Kapoor.'),\n",
              " Document(metadata={'source': 'data/2024_llms.html', 'title': 'Things we learned about LLMs in 2024', 'id': '67923355-a83a-45f3-b10f-7df11a201c36'}, page_content='Nothing yet from Anthropic or Meta but I would be very surprised if they don’t have their own inference-scaling models in the works. Meta published a relevant paper Training Large Language Models to Reason in a Continuous Latent Space in December.\\nWas the best currently available LLM trained in China for less than $6m?\\nNot quite, but almost! It does make for a great attention-grabbing headline.\\nThe big news to end the year was the release of DeepSeek v3—dropped on Hugging Face on Christmas Day without so much as a README file, then followed by documentation and a paper the day after that.'),\n",
              " Document(metadata={'source': 'data/2024_llms.html', 'title': 'Things we learned about LLMs in 2024', 'id': '25fc49e8-02d7-45f8-8bde-475764171734'}, page_content='DeepSeek v3 is a huge 685B parameter model—one of the largest openly licensed models currently available, significantly bigger than the largest of Meta’s Llama series, Llama 3.1 405B.\\nBenchmarks put it up there with Claude 3.5 Sonnet. Vibe benchmarks (aka the Chatbot Arena) currently rank it 7th, just behind the Gemini 2.0 and OpenAI 4o/o1 models. This is by far the highest ranking openly licensed model.\\nThe really impressive thing about DeepSeek v3 is the training cost. The model was trained on 2,788,000 H800 GPU hours at an estimated cost of $5,576,000. Llama 3.1 405B trained 30,840,000 GPU hours—11x that used by DeepSeek v3, for a model that benchmarks slightly worse.'),\n",
              " Document(metadata={'source': 'data/2024_llms.html', 'title': 'Things we learned about LLMs in 2024', 'id': 'd758fa8e-0166-4397-99d0-a90c6bea5310'}, page_content='Those US export regulations on GPUs to China seem to have inspired some very effective training optimizations!\\nThe environmental impact got better\\nA welcome result of the increased efficiency of the models—both the hosted ones and the ones I can run locally—is that the energy usage and environmental impact of running a prompt has dropped enormously over the past couple of years.\\nOpenAI themselves are charging 100x less for a prompt compared to the GPT-3 days. I have it on good authority that neither Google Gemini nor Amazon Nova (two of the least expensive model providers) are running prompts at a loss.'),\n",
              " Document(metadata={'source': 'data/2024_llms.html', 'title': 'Things we learned about LLMs in 2024', 'id': '6624d56f-673c-4ccf-a11f-ed0afe8ec87e'}, page_content='I think this means that, as individual users, we don’t need to feel any guilt at all for the energy consumed by the vast majority of our prompts. The impact is likely neglible compared to driving a car down the street or maybe even watching a video on YouTube.\\nLikewise, training. DeepSeek v3 training for less than $6m is a fantastic sign that training costs can and should continue to drop.\\nFor less efficient models I find it useful to compare their energy usage to commercial flights. The largest Llama 3 model cost about the same as a single digit number of fully loaded passenger flights from New York to London. That’s certainly not nothing, but once trained that model can be used by millions of people at no extra training cost.'),\n",
              " Document(metadata={'source': 'data/2024_llms.html', 'title': 'Things we learned about LLMs in 2024', 'id': 'dac451bc-aaf3-4baf-88bb-ac912be56ce6'}, page_content='The environmental impact got much, much worse\\nThe much bigger problem here is the enormous competitive buildout of the infrastructure that is imagined to be necessary for these models in the future.\\nCompanies like Google, Meta, Microsoft and Amazon are all spending billions of dollars rolling out new datacenters, with a very material impact on the electricity grid and the environment. There’s even talk of spinning up new nuclear power stations, but those can take decades.\\nIs this infrastructure necessary? DeepSeek v3’s $6m training cost and the continued crash in LLM prices might hint that it’s not. But would you want to be the big tech executive that argued NOT to build out this infrastructure only to be proven wrong in a few years’ time?'),\n",
              " Document(metadata={'source': 'data/2024_llms.html', 'title': 'Things we learned about LLMs in 2024', 'id': '0c5cd872-8ce5-4981-a041-118c718b4da7'}, page_content='An interesting point of comparison here could be the way railways rolled out around the world in the 1800s. Constructing these required enormous investments and had a massive environmental impact, and many of the lines that were built turned out to be unnecessary—sometimes multiple lines from different companies serving the exact same routes!\\nThe resulting bubbles contributed to several financial crashes, see Wikipedia for Panic of 1873, Panic of 1893, Panic of 1901 and the UK’s Railway Mania. They left us with a lot of useful infrastructure and a great deal of bankruptcies and environmental damage.\\nThe year of slop'),\n",
              " Document(metadata={'source': 'data/2024_llms.html', 'title': 'Things we learned about LLMs in 2024', 'id': '2f8213b7-dca4-4cbe-aaec-9cfff9e5cf1c'}, page_content='The year of slop\\n2024 was the year that the word \"slop\" became a term of art. I wrote about this in May, expanding on this tweet by @deepfates:'),\n",
              " Document(metadata={'source': 'data/2024_llms.html', 'title': 'Things we learned about LLMs in 2024', 'id': '69d3d453-3471-4b06-9dfd-aa0f1cdcaec3'}, page_content='Watching in real time as “slop” becomes a term of art. the way that “spam” became the term for unwanted emails, “slop” is going in the dictionary as the term for unwanted AI generated content\\n\\nI expanded that definition a tiny bit to this:\\n\\nSlop describes AI-generated content that is both unrequested and unreviewed.\\n\\nI ended up getting quoted talking about slop in both the Guardian and the NY Times. Here’s what I said in the NY TImes:\\n\\nSociety needs concise ways to talk about modern A.I. — both the positives and the negatives. ‘Ignore that email, it’s spam,’ and ‘Ignore that article, it’s slop,’ are both useful lessons.'),\n",
              " Document(metadata={'source': 'data/2024_llms.html', 'title': 'Things we learned about LLMs in 2024', 'id': '044fa0e1-a4f7-4a02-beb3-739c57dcbf58'}, page_content='I love the term “slop” because it so succinctly captures one of the ways we should not be using generative AI!\\nSlop was even in the running for Oxford Word of the Year 2024, but it lost to brain rot.\\nSynthetic training data works great\\nAn idea that surprisingly seems to have stuck in the public consciousness is that of “model collapse”. This was first described in the paper The Curse of Recursion: Training on Generated Data Makes Models Forget in May 2023, and repeated in Nature in July 2024 with the more eye-catching headline AI models collapse when trained on recursively generated data.'),\n",
              " Document(metadata={'source': 'data/2024_llms.html', 'title': 'Things we learned about LLMs in 2024', 'id': '9dc51af4-9dff-4daf-8bbb-a5e9623c9c0b'}, page_content='The idea is seductive: as the internet floods with AI-generated slop the models themselves will degenerate, feeding on their own output in a way that leads to their inevitable demise!\\nThat’s clearly not happening. Instead, we are seeing AI labs increasingly train on synthetic content—deliberately creating artificial data to help steer their models in the right way.\\nOne of the best descriptions I’ve seen of this comes from the Phi-4 technical report, which included this:'),\n",
              " Document(metadata={'source': 'data/2024_llms.html', 'title': 'Things we learned about LLMs in 2024', 'id': '8c9a1eb2-cd0e-49e6-abca-f7938d0726df'}, page_content='Synthetic data as a substantial component of pretraining is becoming increasingly common, and the Phi series of models has consistently emphasized the importance of synthetic data. Rather than serving as a cheap substitute for organic data, synthetic data has several direct advantages over organic data.'),\n",
              " Document(metadata={'source': 'data/2024_llms.html', 'title': 'Things we learned about LLMs in 2024', 'id': '0837288e-e470-439a-903a-e37c66009da8'}, page_content='Structured and Gradual Learning. In organic datasets, the relationship between tokens is often complex and indirect. Many reasoning steps may be required to connect the current token to the next, making it challenging for the model to learn effectively from next-token prediction. By contrast, each token generated by a language model is by definition predicted by the preceding tokens, making it easier for a model to follow the resulting reasoning patterns.'),\n",
              " Document(metadata={'source': 'data/2024_llms.html', 'title': 'Things we learned about LLMs in 2024', 'id': '62c7a258-8d30-4ed3-92c9-79e82d120b96'}, page_content='Another common technique is to use larger models to help create training data for their smaller, cheaper alternatives—a trick used by an increasing number of labs. DeepSeek v3 used “reasoning” data created by DeepSeek-R1. Meta’s Llama 3.3 70B fine-tuning used over 25M synthetically generated examples.\\nCareful design of the training data that goes into an LLM appears to be the entire game for creating these models. The days of just grabbing a full scrape of the web and indiscriminately dumping it into a training run are long gone.\\nLLMs somehow got even harder to use'),\n",
              " Document(metadata={'source': 'data/2024_llms.html', 'title': 'Things we learned about LLMs in 2024', 'id': '282ace12-3bdd-462a-909c-b25f209d678c'}, page_content='A drum I’ve been banging for a while is that LLMs are power-user tools—they’re chainsaws disguised as kitchen knives. They look deceptively simple to use—how hard can it be to type messages to a chatbot?—but in reality you need a huge depth of both understanding and experience to make the most of them and avoid their many pitfalls.\\nIf anything, this problem got worse in 2024.\\nWe’ve built computer systems you can talk to in human language, that will answer your questions and usually get them right! ... depending on the question, and how you ask it, and whether it’s accurately reflected in the undocumented and secret training set.'),\n",
              " Document(metadata={'source': 'data/2024_llms.html', 'title': 'Things we learned about LLMs in 2024', 'id': '8c4a125a-a6a6-45ab-8b66-5d04da953cb2'}, page_content='The number of available systems has exploded. Different systems have different tools they can apply to your problems—like Python and JavaScript and web search and image generation and maybe even database lookups... so you’d better understand what those tools are, what they can do and how to tell if the LLM used them or not.\\nDid you know ChatGPT has two entirely different ways of running Python now?\\nWant to build a Claude Artifact that talks to an external API? You’d better understand CSP and CORS HTTP headers first.'),\n",
              " Document(metadata={'source': 'data/2024_llms.html', 'title': 'Things we learned about LLMs in 2024', 'id': '61ceea7f-e016-427e-a80b-7369e1fe9edd'}, page_content='The models may have got more capable, but most of the limitations remained the same. OpenAI’s o1 may finally be able to (mostly) count the Rs in strawberry, but its abilities are still limited by its nature as an LLM and the constraints placed on it by the harness it’s running in. o1 can’t run web searches or use Code Interpreter, but GPT-4o can—both in that same ChatGPT UI. (o1 will pretend to do those things if you ask it to, a regression to the URL hallucinations bug from early 2023).\\nWhat are we doing about this? Not much. Most users are thrown in at the deep end. The default LLM chat UI is like taking brand new computer users, dropping them into a Linux terminal and expecting them to figure it all out.'),\n",
              " Document(metadata={'source': 'data/2024_llms.html', 'title': 'Things we learned about LLMs in 2024', 'id': 'e04e197d-596f-4983-b92f-e85397dbfccc'}, page_content='Meanwhile, it’s increasingly common for end users to develop wildly inaccurate mental models of how these things work and what they are capable of. I’ve seen so many examples of people trying to win an argument with a screenshot from ChatGPT—an inherently ludicrous proposition, given the inherent unreliability of these models crossed with the fact that you can get them to say anything if you prompt them right.'),\n",
              " Document(metadata={'source': 'data/2024_llms.html', 'title': 'Things we learned about LLMs in 2024', 'id': 'be45f780-02ea-46a7-942c-ba4011ed6090'}, page_content='There’s a flipside to this too: a lot of better informed people have sworn off LLMs entirely because they can’t see how anyone could benefit from a tool with so many flaws. The key skill in getting the most out of LLMs is learning to work with tech that is both inherently unreliable and incredibly powerful at the same time. This is a decidedly non-obvious skill to acquire!\\nThere is so much space for helpful education content here, but we need to do do a lot better than outsourcing it all to AI grifters with bombastic Twitter threads.\\nKnowledge is incredibly unevenly distributed\\nMost people have heard of ChatGPT by now. How many have heard of Claude?'),\n",
              " Document(metadata={'source': 'data/2024_llms.html', 'title': 'Things we learned about LLMs in 2024', 'id': '04d1c8e9-0531-4c17-8f30-9059f52bdde5'}, page_content='The knowledge gap between the people who actively follow this stuff and the 99% of the population who do not is vast.\\nThe pace of change doesn’t help either. In just the past month we’ve seen general availability of live interfaces where you can point your phone’s camera at something and talk about it with your voice... and optionally have it pretend to be Santa. Most self-certified nerds haven’t even tried that yet.\\nGiven the ongoing (and potential) impact on society that this technology has, I don’t think the size of this gap is healthy. I’d like to see a lot more effort put into improving this.\\nLLMs need better criticism'),\n",
              " Document(metadata={'source': 'data/2024_llms.html', 'title': 'Things we learned about LLMs in 2024', 'id': '3b1f6b05-f589-41b3-b6e7-e9e29a5fdf27'}, page_content='A lot of people absolutely hate this stuff. In some of the spaces I hang out (Mastodon, Bluesky, Lobste.rs, even Hacker News on occasion) even suggesting that “LLMs are useful” can be enough to kick off a huge fight.\\nI get it. There are plenty of reasons to dislike this technology—the environmental impact, the (lack of) ethics of the training data, the lack of reliability, the negative applications, the potential impact on people’s jobs.\\nLLMs absolutely warrant criticism. We need to be talking through these problems, finding ways to mitigate them and helping people learn how to use these tools responsibly in ways where the positive applications outweigh the negative.'),\n",
              " Document(metadata={'source': 'data/2024_llms.html', 'title': 'Things we learned about LLMs in 2024', 'id': 'ff417854-5a35-40a5-90db-b23eb7215bf5'}, page_content='I like people who are skeptical of this stuff. The hype has been deafening for more than two years now, and there are enormous quantities of snake oil and misinformation out there. A lot of very bad decisions are being made based on that hype. Being critical is a virtue.\\nIf we want people with decision-making authority to make good decisions about how to apply these tools we first need to acknowledge that there ARE good applications, and then help explain how to put those into practice while avoiding the many unintiutive traps.\\n(If you still don’t think there are any good applications at all I’m not sure why you made it to this point in the article!)'),\n",
              " Document(metadata={'source': 'data/2024_llms.html', 'title': 'Things we learned about LLMs in 2024', 'id': 'd3747ab2-52bf-4cd9-997f-29d585a2a04e'}, page_content='I think telling people that this whole field is environmentally catastrophic plagiarism machines that constantly make things up is doing those people a disservice, no matter how much truth that represents. There is genuine value to be had here, but getting to that value is unintuitive and needs guidance.\\nThose of us who understand this stuff have a duty to help everyone else figure it out.\\nEverything tagged “llms” on my blog in 2024\\nBecause I undoubtedly missed a whole bunch of things, here’s every long-form post I wrote in 2024 that I tagged with llms:'),\n",
              " Document(metadata={'source': 'data/2024_llms.html', 'title': 'Things we learned about LLMs in 2024', 'id': '93663f3f-4f01-4ced-a97c-ffbd4d15a95f'}, page_content='January\\n\\n7th: It’s OK to call it Artificial Intelligence\\n\\n9th: What I should have said about the term Artificial Intelligence\\n\\n17th: Talking about Open Source LLMs on Oxide and Friends\\n\\n26th: LLM 0.13: The annotated release notes\\n\\n\\n\\nFebruary\\n\\n21st: The killer app of Gemini Pro 1.5 is video\\n\\n\\n\\nMarch\\n\\n5th: Prompt injection and jailbreaking are not the same thing\\n\\n8th: The GPT-4 barrier has finally been broken\\n\\n22nd: Claude and ChatGPT for ad-hoc sidequests\\n\\n23rd: Building and testing C extensions for SQLite with ChatGPT Code Interpreter\\n\\n26th: llm cmd undo last git commit—a new plugin for LLM\\n\\n\\n\\nApril\\n\\n8th: Building files-to-prompt entirely using Claude 3 Opus\\n\\n10th: Three major LLM releases in 24 hours (plus weeknotes)'),\n",
              " Document(metadata={'source': 'data/2024_llms.html', 'title': 'Things we learned about LLMs in 2024', 'id': '5341fa2e-4b7f-4736-86eb-0c604deba411'}, page_content='17th: AI for Data Journalism: demonstrating what we can do with this stuff right now\\n\\n22nd: Options for accessing Llama 3 from the terminal using LLM\\n\\n\\n\\nMay\\n\\n8th: Slop is the new name for unwanted AI-generated content\\n\\n15th: ChatGPT in “4o” mode is not running the new features yet\\n\\n29th: Training is not the same as chatting: ChatGPT and other LLMs don’t remember everything you say\\n\\n\\n\\nJune\\n\\n6th: Accidental prompt injection against RAG applications\\n\\n10th: Thoughts on the WWDC 2024 keynote on Apple Intelligence\\n\\n17th: Language models on the command-line\\n\\n21st: Building search-based RAG using Claude, Datasette and Val Town\\n\\n27th: Open challenges for AI engineering\\n\\n\\n\\nJuly\\n\\n14th: Imitation Intelligence, my keynote for PyCon US 2024'),\n",
              " Document(metadata={'source': 'data/2024_llms.html', 'title': 'Things we learned about LLMs in 2024', 'id': 'f479a9e9-61df-4f9c-8ce7-c7e64756a714'}, page_content='19th: Weeknotes: GPT-4o mini, LLM 0.15, sqlite-utils 3.37 and building a staging environment\\n\\n\\n\\nAugust\\n\\n6th: Weeknotes: a staging environment, a Datasette alpha and a bunch of new LLMs\\n\\n8th: django-http-debug, a new Django app mostly written by Claude\\n\\n23rd: Claude’s API now supports CORS requests, enabling client-side applications\\n\\n26th: Building a tool showing how Gemini Pro can return bounding boxes for objects in images\\n\\n\\n\\nSeptember\\n\\n6th: Calling LLMs from client-side JavaScript, converting PDFs to HTML + weeknotes\\n\\n10th: Notes from my appearance on the Software Misadventures Podcast\\n\\n12th: Notes on OpenAI’s new o1 chain-of-thought models\\n\\n20th: Notes on using LLMs for code'),\n",
              " Document(metadata={'source': 'data/2024_llms.html', 'title': 'Things we learned about LLMs in 2024', 'id': '557a2e4d-f436-41ee-adfa-2dbcd0d7f347'}, page_content='29th: NotebookLM’s automatically generated podcasts are surprisingly effective\\n\\n30th: Weeknotes: Three podcasts, two trips and a new plugin system\\n\\n\\n\\nOctober\\n\\n1st: OpenAI DevDay 2024 live blog\\n\\n2nd: OpenAI DevDay: Let’s build developer tools, not digital God\\n\\n15th: ChatGPT will happily write you a thinly disguised horoscope\\n\\n17th: Video scraping: extracting JSON data from a 35 second screen capture for less than 1/10th of a cent\\n\\n18th: Experimenting with audio input and output for the OpenAI Chat Completion API\\n\\n19th: Running Llama 3.2 Vision and Phi-3.5 Vision on a Mac with mistral.rs\\n\\n21st: Everything I built with Claude Artifacts this week\\n\\n22nd: Initial explorations of Anthropic’s new Computer Use capability'),\n",
              " Document(metadata={'source': 'data/2024_llms.html', 'title': 'Things we learned about LLMs in 2024', 'id': '18dd5065-c287-4393-9d6e-d08d20c21e9c'}, page_content='24th: Notes on the new Claude analysis JavaScript code execution tool\\n\\n27th: Run a prompt to generate and execute jq programs using llm-jq\\n\\n29th: You can now run prompts against images, audio and video in your terminal using LLM\\n\\n30th: W̶e̶e̶k̶n̶o̶t̶e̶s̶  Monthnotes for October\\n\\n\\n\\nNovember\\n\\n4th: Claude 3.5 Haiku\\n\\n7th: Project: VERDAD—tracking misinformation in radio broadcasts using Gemini 1.5\\n\\n12th: Qwen2.5-Coder-32B is an LLM that can code well that runs on my Mac\\n\\n19th: Notes from Bing Chat—Our First Encounter With Manipulative AI\\n\\n25th: Ask questions of SQLite databases and CSV/JSON files in your terminal\\n\\n\\n\\nDecember\\n\\n4th: First impressions of the new Amazon Nova LLMs (via a new llm-bedrock plugin)\\n\\n7th: Prompts.js'),\n",
              " Document(metadata={'source': 'data/2024_llms.html', 'title': 'Things we learned about LLMs in 2024', 'id': '469f3f71-913f-406f-9d23-f6b09a85d9e5'}, page_content='7th: Prompts.js\\n\\n9th: I can now run a GPT-4 class model on my laptop\\n\\n10th: ChatGPT Canvas can make API requests now, but it’s complicated\\n\\n11th: Gemini 2.0 Flash: An outstanding multi-modal LLM with a sci-fi streaming mode\\n\\n19th: Building Python tools with a one-shot prompt using uv run and Claude Projects\\n\\n19th: Gemini 2.0 Flash “Thinking mode”\\n\\n20th: December in LLMs has been a lot\\n\\n20th: Live blog: the 12th day of OpenAI—“Early evals for OpenAI o3”\\n\\n24th: Trying out QvQ—Qwen’s new visual reasoning model\\n\\n31st: Things we learned about LLMs in 2024\\n\\n\\n\\n\\n(This list generated using Django SQL Dashboard with a SQL query written for me by Claude.)'),\n",
              " Document(metadata={'source': 'data/2024_llms.html', 'title': 'Things we learned about LLMs in 2024', 'id': 'fbeb9107-d2fe-48fb-9a81-d18495fca4ad'}, page_content=\"Posted 31st December 2024 at 6:07 pm · Follow me on Mastodon or Twitter or subscribe to my newsletter\\n\\n\\nMore recent articles\\n\\nRun LLMs on macOS using llm-mlx and Apple's MLX framework - 15th February 2025\\nURL-addressable Pyodide Python environments - 13th February 2025\\nUsing pip to install a Large Language Model that's under 100MB - 7th February 2025\\n\\n\\n \\n\\n\\nThis is Things we learned about LLMs in 2024 by Simon Willison, posted on 31st December 2024.\\n\\nPart of series LLMs annual review\\n\\nStuff we figured out about AI in 2023 - Dec. 31, 2023, 11:59 p.m. \\nThings we learned about LLMs in 2024 - Dec. 31, 2024, 6:07 p.m. \\n\\n\\n\\n            google\\n            347\\n\\n\\n            ai\\n            1098\\n\\n\\n            openai\\n            255\"),\n",
              " Document(metadata={'source': 'data/2024_llms.html', 'title': 'Things we learned about LLMs in 2024', 'id': '057c13ae-46fe-47dc-b46e-7fbed0ec8abd'}, page_content=\"generative-ai\\n            942\\n\\n\\n            llms\\n            930\\n\\n\\n            anthropic\\n            114\\n\\n\\n            gemini\\n            57\\n\\n\\n            meta\\n            26\\n\\n\\n            inference-scaling\\n            28\\n\\n\\n            long-context\\n            10\\n\\nNext: Ending a year long posting streak\\nPrevious: Trying out QvQ - Qwen's new visual reasoning model\\n\\n\\n \\n \\n\\n\\nColophon\\n©\\n2002\\n2003\\n2004\\n2005\\n2006\\n2007\\n2008\\n2009\\n2010\\n2011\\n2012\\n2013\\n2014\\n2015\\n2016\\n2017\\n2018\\n2019\\n2020\\n2021\\n2022\\n2023\\n2024\\n2025\"),\n",
              " Document(metadata={'source': 'data/ai_developments_2024.html', 'title': 'AI Developments in Early 2024', 'id': 'c343e4c4-643c-4fcd-b2cb-8edaa2c90fda'}, page_content='AI Developments in Early 2024\\n\\n\\n\\n\\nKey AI Developments in Early 2024\\n\\nPublished: February 25, 2024\\nAuthor: AI Research Team'),\n",
              " Document(metadata={'source': 'data/ai_developments_2024.html', 'title': 'AI Developments in Early 2024', 'id': 'e0304cfe-bed0-4c2f-866a-78e77dac8db0'}, page_content=\"Major Breakthroughs in Language Models\\nThe first quarter of 2024 has seen remarkable advances in language model capabilities. Claude 3 was released with significantly improved reasoning capabilities and reduced hallucination rates. Google's Gemini series demonstrated unprecedented multimodal understanding, combining text, image, and code analysis in ways previously thought impossible.\\nAdvances in Model Efficiency\"),\n",
              " Document(metadata={'source': 'data/ai_developments_2024.html', 'title': 'AI Developments in Early 2024', 'id': '01d61f03-e95b-4a99-9956-4bd8e9476160'}, page_content='Researchers have made significant strides in reducing the computational requirements of large language models. New techniques in model quantization have allowed for running powerful models on consumer hardware. The development of MoE (Mixture of Experts) architectures has enabled more efficient processing while maintaining high performance.\\nEthical AI and Governance\\nThe AI community has placed increased emphasis on responsible AI development. New frameworks for model evaluation have been established, focusing on bias detection and mitigation. Several major tech companies have signed agreements to implement ethical AI guidelines in their development processes.\\nApplications in Healthcare'),\n",
              " Document(metadata={'source': 'data/ai_developments_2024.html', 'title': 'AI Developments in Early 2024', 'id': '41541405-4150-4c4e-92fa-e655cf4861a1'}, page_content=\"AI systems have shown promising results in medical diagnosis and drug discovery. Machine learning models have successfully predicted protein structures with unprecedented accuracy, leading to breakthroughs in drug development. Additionally, AI-powered diagnostic tools have achieved human-level accuracy in identifying various medical conditions from imaging data.\\nFuture Directions\\nLooking ahead, researchers are focusing on developing more interpretable AI systems. There's also growing interest in creating models that can learn continuously from new data while maintaining stability on existing tasks. The integration of symbolic reasoning with neural networks remains an active area of research.\"),\n",
              " Document(metadata={'source': 'data/podcast_blog.html', 'title': 'Tech & Science Podcast Blog', 'id': '8a67c226-2bb3-46d1-9472-9a8a889815ab'}, page_content=\"Tech & Science Podcast Blog\\n\\n\\n\\nTech & Science Podcast Transcripts\\n\\nAre Humans Dumb?\\nTopic: are humans dumb\\n\\n[INTRO]\\n\\nWelcome to our podcast where we delve into the intriguing question: Are humans dumb? Today, we will explore this topic from two contrasting perspectives - skepticism and belief. Let's navigate through the complexities of human cognition and behavior to uncover the opportunities, risks, key questions, and potential solutions surrounding this thought-provoking issue.\\n\\n[SKEPTIC PERSPECTIVE]\"),\n",
              " Document(metadata={'source': 'data/podcast_blog.html', 'title': 'Tech & Science Podcast Blog', 'id': '232ef5e0-51b4-494a-bdad-b74b2d11851e'}, page_content=\"Let's start with the skeptic's viewpoint. When examining the information related to human intelligence, it's essential to consider the evolutionary perspective. The study suggesting a decline in human cognition over time raises crucial questions about intelligence trends. However, we must critically assess the study's methodology and sample size to validate its findings. How can we ensure the accuracy of such studies and their implications for human cognition?\\n\\n[Transition to Subjectivity in Judging Intelligence]\"),\n",
              " Document(metadata={'source': 'data/podcast_blog.html', 'title': 'Tech & Science Podcast Blog', 'id': '6e99d573-a2c6-49c2-b9f0-cd3c4dea8e24'}, page_content=\"Moving on to the subjectivity in judging intelligence, the diverse perceptions of human intellect highlight the challenge of defining and measuring intelligence comprehensively. How can we develop a more inclusive and accurate understanding of intelligence that considers the full spectrum of human capabilities and limitations?\\n\\n[BELIEVER PERSPECTIVE]\\n\\nShifting to the believer's perspective, despite concerns about human cognition, there are opportunities for growth and improvement. The evolution of problem-solving abilities through technology and collaboration offers a pathway to enhance individual judgment. How can we leverage technological advancements and collaborative efforts to boost problem-solving skills in society?\\n\\n[CONCLUSION]\"),\n",
              " Document(metadata={'source': 'data/podcast_blog.html', 'title': 'Tech & Science Podcast Blog', 'id': '202383c3-c1fe-4ecd-949a-679923f6e137'}, page_content=\"[CONCLUSION]\\n\\nIn conclusion, the debate on human intelligence is multifaceted, encompassing evolutionary, social, ethical, and psychological dimensions. By exploring diverse perspectives and considering the opportunities and risks associated with human cognition, we can pave the way for growth and improvement.\\n\\n[TAKEAWAYS]\\n\\nAs we reflect on today's discussion, remember to approach discussions on intelligence with empathy and respect, embrace innovation while exercising prudence, and seek opportunities for personal and societal growth. By understanding the complexities of human cognition and behavior, we can strive towards a more inclusive and intellectually vibrant future.\"),\n",
              " Document(metadata={'source': 'data/podcast_blog.html', 'title': 'Tech & Science Podcast Blog', 'id': '893b6efc-df63-460b-989c-a66b78205d90'}, page_content=\"Quantum Computing and Cryptography\\nTopic: What are the latest developments in quantum computing and how will they impact cryptography?\\n\\nWelcome to the Quantum Computing and Cryptography podcast, where we delve into the latest developments shaping the future of data security. Today, we're exploring the impact of quantum computing on cryptography, weighing the opportunities and challenges it presents.\\n\\n[SKEPTIC PERSPECTIVE]\"),\n",
              " Document(metadata={'source': 'data/podcast_blog.html', 'title': 'Tech & Science Podcast Blog', 'id': '5efeffaa-cba0-4ed0-8927-c33c9eecb889'}, page_content=\"Quantum computing's advancements offer exciting prospects for cryptography, but we must tread carefully amidst the challenges. One key aspect is the development of Post-Quantum Cryptography (PQC). While researchers are making strides in PQC algorithms, the transition to quantum-safe protocols poses significant hurdles. Implementing these new standards across systems without compromising security is a complex task.\\n\\n[BELIEVER PERSPECTIVE]\"),\n",
              " Document(metadata={'source': 'data/podcast_blog.html', 'title': 'Tech & Science Podcast Blog', 'id': '633bffcb-41ed-4e99-bab5-e1121c333822'}, page_content=\"The latest quantum computing developments offer a blend of challenges and opportunities for cryptography. Advancements in Post-Quantum Cryptography and innovative solutions like Quantum Key Distribution present avenues to enhance encryption techniques and secure data effectively. By investing in R&D for quantum-safe protocols, organizations can adapt to the evolving cryptographic landscape.\\n\\n[CONCLUSION]\\n\\nAs we wrap up, it's clear that quantum computing's impact on cryptography is both promising and complex. Organizations must proactively engage with these challenges to build a secure and resilient cryptographic infrastructure for the future.\\n\\n[ACTIONABLE TAKEAWAYS]\"),\n",
              " Document(metadata={'source': 'data/podcast_blog.html', 'title': 'Tech & Science Podcast Blog', 'id': 'e1e3e9cd-b71d-44b1-9c4f-8861b4d8502b'}, page_content='1. Stay updated on advancements in Post-Quantum Cryptography and Quantum Key Distribution.\\n2. Invest in research and development of quantum-resistant encryption techniques.\\n3. Collaborate with industry stakeholders to establish robust security standards.\\n4. Plan a phased transition towards quantum-safe protocols to ensure compatibility with current systems.\\n        \\n\\n\\nEnvironmental Impact of Fast Fashion\\nTopic: Explain the environmental impact of fast fashion and sustainable alternatives\\n\\n[INTRO]'),\n",
              " Document(metadata={'source': 'data/podcast_blog.html', 'title': 'Tech & Science Podcast Blog', 'id': 'cf41d737-a3d9-4174-a27c-e48263826d40'}, page_content=\"[INTRO]\\n\\nWelcome to our podcast where we delve into the environmental impact of fast fashion and explore sustainable alternatives. Today, we'll navigate through the complexities of this issue by presenting a balanced debate between skeptics and believers of sustainable fashion.\\n\\n[SKEPTIC PERSPECTIVE]\\n\\nLet's start by examining the skeptic's viewpoint. Fast fashion undeniably poses a significant environmental threat, with its resource depletion, greenhouse gas emissions, and chemical pollution. While sustainable alternatives offer hope, they come with their own set of challenges.\"),\n",
              " Document(metadata={'source': 'data/podcast_blog.html', 'title': 'Tech & Science Podcast Blog', 'id': '559de558-8d5c-4c80-839e-4b08aae0e946'}, page_content='The cost considerations associated with sustainable fashion can hinder accessibility for lower-income consumers, potentially widening disparities in the industry. Moreover, greenwashing practices by some fast fashion brands mislead consumers, making it hard to distinguish truly sustainable options.\\n\\n[POSITIVE ASPECTS]\\n\\nDespite these challenges, believers in sustainable fashion see a silver lining. Sustainable materials like organic cotton and hemp offer a path to reduce resource usage and carbon footprints. By embracing renewable energy sources and engaging consumers to prioritize quality over quantity, the industry can drive positive change.\\n\\n[CONCLUSION]'),\n",
              " Document(metadata={'source': 'data/podcast_blog.html', 'title': 'Tech & Science Podcast Blog', 'id': '23acaf2c-b261-4f4f-a0aa-9024e534153d'}, page_content=\"[CONCLUSION]\\n\\nAs we conclude, it's evident that the fashion industry stands at a crossroads. Embracing sustainable alternatives not only mitigates environmental harm but also fosters innovation and consumer trust. By working together and embracing change, we can pave the way for a more environmentally conscious fashion ecosystem.\\n\\n[TAKEAWAYS]\\n\\nRemember, your choices as a consumer matter. Support brands that prioritize sustainability, stay informed, and advocate for a greener fashion industry. Together, we can make a difference.\\n        \\n\\n\\nAI Impact on Job Markets\\nTopic: How does artificial intelligence impact job markets and what skills will be important in the future?\"),\n",
              " Document(metadata={'source': 'data/podcast_blog.html', 'title': 'Tech & Science Podcast Blog', 'id': '0243d51c-5511-4d75-8183-96d57d3a133a'}, page_content='Welcome to the AI Impact podcast, where we explore the intersection of artificial intelligence and job markets. Today, we delve into a crucial debate on how AI influences job opportunities and the essential skills needed for the future.\\n\\n[SKEPTIC PERSPECTIVE]\\n\\nJob displacement and skill mismatch are critical concerns. While AI creates new job opportunities, it also has the potential to automate and eliminate certain roles, leading to challenges for workers who need to transition into AI-related fields. How can we address these skill mismatches and ensure a smooth transition for displaced workers?\\n\\n[BELIEVER PERSPECTIVE]'),\n",
              " Document(metadata={'source': 'data/podcast_blog.html', 'title': 'Tech & Science Podcast Blog', 'id': '04febdf7-4a5f-4cfe-8ac8-c56c5cb2f9f2'}, page_content=\"Transforming job markets through AI automation can lead to more engaging and creative roles. The emergence of new job opportunities allows for specialization and innovation. How can individuals seize these opportunities for personal growth and career advancement?\\n\\n[CONCLUSION]\\n\\nAs we wrap up, it's clear that preparing for an AI-driven economy requires a proactive approach to skills development, education, and certification. By embracing the opportunities and addressing the risks, individuals can thrive in the evolving landscape of AI integration in job markets.\\n\\n[ACTIONABLE TAKEAWAYS]\"),\n",
              " Document(metadata={'source': 'data/podcast_blog.html', 'title': 'Tech & Science Podcast Blog', 'id': '194b2252-1085-4feb-bb7e-80c76ca7b854'}, page_content=\"1. Evaluate your current skill set and identify areas for AI-related upskilling.\\n2. Stay informed about industry trends and advancements in AI technology.\\n3. Explore reputable AI education programs and certifications to enhance your expertise.\\n4. Advocate for inclusive access to AI education initiatives in your community or organization.\\n        \\n\\n\\nSocial Media and Mental Health\\nTopic: What are the psychological effects of social media on mental health?\\n\\n[INTRO]\\n\\nWelcome to our podcast where we delve into the intriguing topic of the psychological effects of social media on mental health. Today, we'll explore the various perspectives surrounding this issue and discuss the opportunities and challenges it presents.\\n\\n[DEBATE BEGINS]\"),\n",
              " Document(metadata={'source': 'data/podcast_blog.html', 'title': 'Tech & Science Podcast Blog', 'id': 'cea9787e-0707-4321-ab9c-6997560f4b39'}, page_content='[DEBATE BEGINS]\\n\\nOur skeptic raises valid points about the complexities of studying the relationship between social media and mental health. The distinction between causation and correlation is crucial. While studies suggest a link between excessive social media use and mental health issues, establishing direct causality can be challenging due to confounding factors.\\n\\n[BELIEVER PERSPECTIVE]'),\n",
              " Document(metadata={'source': 'data/podcast_blog.html', 'title': 'Tech & Science Podcast Blog', 'id': 'b8624808-5bca-469c-8246-e3acec55a3bd'}, page_content='On the other hand, our believer highlights the positive aspects and opportunities for growth in this space. Increased awareness and education about healthy social media habits, the potential for community support, the availability of digital wellbeing tools, positive content creation, and the therapeutic benefits of online platforms all offer avenues for promoting mental health and wellbeing.\\n\\n[CONCLUSION]'),\n",
              " Document(metadata={'source': 'data/podcast_blog.html', 'title': 'Tech & Science Podcast Blog', 'id': '25d11b9e-c326-4c94-a84e-8b32d6a6cc35'}, page_content=\"[CONCLUSION]\\n\\nAs we wrap up, it's clear that navigating the psychological effects of social media on mental health requires a comprehensive approach. By collaborating with social media platforms, implementing educational campaigns, fostering supportive communities, advocating for mental health policies, and supporting mental health professionals, we can work towards a healthier online environment.\\n\\nRemember, striking a balance between the benefits and risks of social media use is essential. Let's continue the conversation and strive to make social media a positive force for mental health and wellbeing.\\n        \\n\\n\\nBlockchain Beyond Cryptocurrency\\nTopic: Explain the basics of blockchain technology and its applications beyond cryptocurrency\"),\n",
              " Document(metadata={'source': 'data/podcast_blog.html', 'title': 'Tech & Science Podcast Blog', 'id': '065146cd-2ade-4596-a001-a1936730e13f'}, page_content=\"[INTRO]\\n\\nWelcome to the Tech Innovators Podcast, where we explore the latest trends and technologies shaping our future. Today, we dive into the world of blockchain technology and its applications beyond cryptocurrency.\\n\\n[SKEPTIC PERSPECTIVE]\\n\\nWhen discussing blockchain technology beyond cryptocurrency, it's crucial to acknowledge the challenges that come with its widespread adoption. Scalability issues, energy consumption concerns, regulatory hurdles, interoperability challenges, security risks, and user adoption barriers pose significant obstacles. These limitations must be addressed to unlock the full potential of blockchain technology across industries.\\n\\n[BELIEVER PERSPECTIVE]\"),\n",
              " Document(metadata={'source': 'data/podcast_blog.html', 'title': 'Tech & Science Podcast Blog', 'id': 'd1219cb4-b01d-447d-b131-3959e8c838e7'}, page_content='On the flip side, blockchain technology offers a myriad of opportunities in cybersecurity, data storage, smart contracts, supply chain management, healthcare, and finance. Its decentralized and secure nature enhances data security, transparency, and efficiency in various sectors. By leveraging these applications, industries can revolutionize their operations and drive progress and trust.\\n\\n[CONCLUSION]'),\n",
              " Document(metadata={'source': 'data/podcast_blog.html', 'title': 'Tech & Science Podcast Blog', 'id': '92cb78b4-32ec-455e-906d-060e28539b87'}, page_content=\"[CONCLUSION]\\n\\nAs we wrap up today's discussion, it's clear that blockchain technology holds immense promise beyond cryptocurrencies. By addressing scalability, regulatory, and security challenges, while leveraging its diverse applications, industries can unlock the full potential of blockchain technology. Remember, collaboration, research, education, and innovation are key to harnessing the power of blockchain for a more secure and efficient future.\\n        \\n\\n\\nRenewable Energy Breakthroughs\\nTopic: What are the latest breakthroughs in renewable energy technology?\\n\\n[INTRO]\"),\n",
              " Document(metadata={'source': 'data/podcast_blog.html', 'title': 'Tech & Science Podcast Blog', 'id': '142b0de4-ad40-4e16-bfb1-9710b5d029ab'}, page_content=\"[INTRO]\\n\\nWelcome to the Renewable Energy Revolution podcast, where we explore the latest breakthroughs in renewable energy technology. Today, we dive into a debate between skeptics and believers about the opportunities and risks associated with these innovations.\\n\\n[SKEPTIC PERSPECTIVE]\\n\\nThe latest breakthroughs in renewable energy technology hold promise for a sustainable future, but it's crucial to dissect the challenges they bring. Green hydrogen production, for instance, faces hurdles due to high costs and infrastructure demands. Scaling up efficiently is key to its success.\\n\\n[BELIEVER PERSPECTIVE]\"),\n",
              " Document(metadata={'source': 'data/podcast_blog.html', 'title': 'Tech & Science Podcast Blog', 'id': 'baa4b1e3-e007-4887-a4e7-d0402dea8faa'}, page_content=\"Green hydrogen production offers a revolutionary way to store excess renewable energy and decarbonize various sectors. By leveraging renewable sources, we can address energy intermittency issues and foster a cleaner energy ecosystem.\\n\\n[CONCLUSION]\\n\\nAs we navigate the complexities of integrating the latest renewable energy technologies, it's essential to address key questions and find solutions for a sustainable and resilient energy future. By collaborating, investing in research, and advocating for supportive policies, we can accelerate the transition to a greener and brighter future.\\n        \\n\\n\\nSpace Exploration Benefits\\nTopic: How does space exploration benefit everyday life on Earth?\\n\\n[INTRO]\"),\n",
              " Document(metadata={'source': 'data/podcast_blog.html', 'title': 'Tech & Science Podcast Blog', 'id': 'c2724c16-686b-469c-85e8-f9e2ce736499'}, page_content=\"[INTRO]\\n\\nWelcome to the Space Explorers Podcast, where we unravel the mysteries of the cosmos and explore how they impact our lives here on Earth. Today, we're diving into a thought-provoking debate on the benefits and challenges of space exploration for everyday life.\\n\\n[SKEPTIC PERSPECTIVE]\\n\\nSpace exploration undeniably brings advancements, but we must consider the cost and resource allocation involved. Funds diverted to space programs could address pressing issues like poverty and healthcare. The environmental impact and equity concerns also raise red flags.\\n\\n[BELIEVER PERSPECTIVE]\"),\n",
              " Document(metadata={'source': 'data/podcast_blog.html', 'title': 'Tech & Science Podcast Blog', 'id': 'b8309511-e6c5-4a65-acc2-9516a986456e'}, page_content=\"While the skeptic raises valid points, let's not overlook the positive impacts of space exploration. Health innovations, technological advancements, and job creation are just the tip of the iceberg. Space missions inspire curiosity, drive education, and pave the way for future colonization.\\n\\n[CONCLUSION]\\n\\nAs we conclude this enlightening discussion, remember that the cosmos hold both promise and peril. By navigating the complexities of space exploration with wisdom and foresight, we can unlock a universe of possibilities while safeguarding our planet and its inhabitants.\\n        \\n\\n\\nMedical Research Advances in Cancer Treatment\\nTopic: What are the most promising advances in medical research for treating cancer?\\n\\n[INTRO]\"),\n",
              " Document(metadata={'source': 'data/podcast_blog.html', 'title': 'Tech & Science Podcast Blog', 'id': '4af1ce8b-03d7-48c6-84b2-339991a5b7bb'}, page_content=\"[INTRO]\\n\\nWelcome to the Health Innovations podcast, where we explore the latest advances in medical research. Today, we dive into the topic of the most promising breakthroughs in cancer treatment. We'll hear from two perspectives - one skeptical and one optimistic - to provide a balanced view on the opportunities and challenges in this field.\\n\\n[SKEPTIC PERSPECTIVE]\\n\\nWhile the advancements in medical research for cancer treatment are promising, we must acknowledge the hurdles that come with them. Immunotherapy faces issues with response variability and severe side effects that need careful management. Clinical trials may not always represent the diversity of the population, and long-term effects can differ from short-term benefits.\"),\n",
              " Document(metadata={'source': 'data/podcast_blog.html', 'title': 'Tech & Science Podcast Blog', 'id': '7fdd94f7-eb25-47c6-bd0d-cb1cb2864db1'}, page_content=\"[BELIEVER PERSPECTIVE]\\n\\nThe recent advances in cancer research present a wealth of opportunities. Immunotherapy, clinical trials, genomic data integration, surgical platforms, and new treatments offer groundbreaking approaches that can lead to personalized treatments, reduced side effects, and improved survival rates.\\n\\n[CONCLUSION]\\n\\nAs we wrap up, it's clear that while the advancements in cancer research offer hope for transformative treatments, addressing challenges and ensuring ethical, accessible, and efficient implementation is crucial. By collaborating, monitoring, and prioritizing patient well-being, we can truly revolutionize cancer care for a brighter future.\"),\n",
              " Document(metadata={'source': 'data/podcast_blog.html', 'title': 'Tech & Science Podcast Blog', 'id': 'd7a4c7ff-4df3-413f-9616-519558e16966'}, page_content=\"Impact of Microplastics on Marine Ecosystems\\nTopic: Explain the impact of microplastics on marine ecosystems\\n\\n[INTRO]\\n\\nWelcome to our podcast where we delve into the critical issue of microplastic pollution and its impact on marine ecosystems. Today, we'll explore the multifaceted debate surrounding this environmental challenge, from the risks it poses to the opportunities for positive change.\\n\\n[SKEPTIC PERSPECTIVE]\"),\n",
              " Document(metadata={'source': 'data/podcast_blog.html', 'title': 'Tech & Science Podcast Blog', 'id': '4744305b-dd44-4db9-b226-7014fa159d60'}, page_content=\"The sources we've examined underscore the grave consequences of microplastics on marine life. These tiny particles cause physical harm, toxicity, and pose a threat through entanglement and ingestion. The widespread presence of microplastics in the ocean not only endangers marine organisms but also raises concerns for the broader environment and human health.\\n\\n[BELIEVER PERSPECTIVE]\\n\\nWhile the impact of microplastics is indeed alarming, there are avenues for positive change. Researchers are actively studying microplastics, paving the way for innovative cleanup technologies. Increasing public awareness and education can drive behavioral changes, while regulations and policies can limit plastic usage.\\n\\n[CONCLUSION]\"),\n",
              " Document(metadata={'source': 'data/podcast_blog.html', 'title': 'Tech & Science Podcast Blog', 'id': '0e7b292d-47c2-44b1-a8f6-0c2c545f8083'}, page_content=\"[CONCLUSION]\\n\\nAs we wrap up, it's evident that the impact of microplastics on marine ecosystems is multifaceted. By recognizing the challenges and opportunities, we can collectively work towards a cleaner and healthier marine environment. Stay informed, stay engaged, and let's make a positive difference for our oceans.\\n        \\n\\n\\nGenetic Engineering and CRISPR Technology\\nTopic: What are the ethical implications of genetic engineering and CRISPR technology?\\n\\n[INTRO]\\n\\nWelcome to our podcast where we delve into the ethical implications of genetic engineering and CRISPR technology. Today, we'll explore the diverse perspectives surrounding this cutting-edge technology, from the risks and challenges to the promising opportunities it presents.\"),\n",
              " Document(metadata={'source': 'data/podcast_blog.html', 'title': 'Tech & Science Podcast Blog', 'id': 'ed28fca7-77d2-4a5c-b2e3-3c7302cb7612'}, page_content='[SKEPTIC PERSPECTIVE]\\n\\nGenetic engineering and CRISPR technology introduce a myriad of ethical dilemmas that cannot be ignored. The ability to edit the human germline raises profound questions about heritable changes, long-term consequences, and the moral responsibility tied to altering the gene pool. Additionally, issues surrounding informed consent, access to technology, unintended consequences, and the risk of eugenics and discrimination loom large.\\n\\n[BELIEVER PERSPECTIVE]'),\n",
              " Document(metadata={'source': 'data/podcast_blog.html', 'title': 'Tech & Science Podcast Blog', 'id': '0ebcc42d-50a5-4470-a0f4-44d9ec3d4998'}, page_content=\"While ethical concerns are valid, it's essential to recognize the immense opportunities CRISPR technology presents. From precision medicine advancements to enhanced food security and environmental conservation, CRISPR offers a pathway to personalized healthcare, resilient crops, and sustainable practices.\\n\\n[CONCLUSION]\\n\\nAs we wrap up, it's evident that the ethical implications of genetic engineering and CRISPR technology are multifaceted. By striking a balance between innovation and ethical considerations, we can navigate this complex landscape responsibly.\\n        \\n\\n\\n5G Technology and Telecommunications\\nTopic: How is 5G technology changing telecommunications and what are its potential risks?\\n\\n[INTRO]\"),\n",
              " Document(metadata={'source': 'data/podcast_blog.html', 'title': 'Tech & Science Podcast Blog', 'id': '1e87e5c7-699f-4277-81be-b4aa89361d4a'}, page_content=\"[INTRO]\\n\\nWelcome to the TechTalk podcast, where we delve into the latest advancements shaping the world of technology. Today, we're exploring the transformative impact of 5G technology on telecommunications and the critical considerations surrounding its adoption.\\n\\n[SKEPTIC PERSPECTIVE]\\n\\nWhile 5G presents exciting opportunities, we mustn't overlook the potential risks. Health concerns related to radiofrequency radiation, cybersecurity threats, infrastructure challenges, regulatory considerations are paramount. The impact on human health and the need for robust cybersecurity measures are critical aspects that require thorough research and regulatory oversight.\\n\\n[BELIEVER PERSPECTIVE]\"),\n",
              " Document(metadata={'source': 'data/podcast_blog.html', 'title': 'Tech & Science Podcast Blog', 'id': '336f5a3a-42a0-46f1-b485-0ce5c3208b37'}, page_content=\"5G technology is a game-changer in connectivity, empowering businesses to innovate, enhancing IoT capabilities, enabling smart city initiatives, and revolutionizing healthcare delivery. The potential for faster speeds, low latency, and seamless communication opens doors to a more connected and efficient future.\\n\\n[CONCLUSION]\\n\\nAs we wrap up, it's evident that 5G technology is reshaping telecommunications with its promise of faster speeds, enhanced connectivity, and innovative solutions. However, to fully harness its potential, stakeholders must navigate the risks diligently.\\n        \\n\\n\\nAutonomous Vehicle Technology\\nTopic: What are the latest developments in autonomous vehicle technology?\\n\\n[INTRO]\"),\n",
              " Document(metadata={'source': 'data/podcast_blog.html', 'title': 'Tech & Science Podcast Blog', 'id': '157f4273-9127-4c35-a4c9-e2f9ec8f7a8d'}, page_content=\"[INTRO]\\n\\nWelcome to the latest episode of Innovate Now, where we explore the cutting-edge world of technology. Today, we're exploring the advancements in autonomous vehicle technology and the diverse perspectives surrounding its development.\\n\\n[SKEPTIC PERSPECTIVE]\\n\\nLet's kick off by acknowledging the significant challenges and limitations that accompany the latest developments in autonomous vehicle technology. Safety concerns, regulatory hurdles, cybersecurity risks, infrastructure readiness, ethical dilemmas, technological limitations, and consumer acceptance all pose substantial obstacles.\\n\\n[BELIEVER PERSPECTIVE]\"),\n",
              " Document(metadata={'source': 'data/podcast_blog.html', 'title': 'Tech & Science Podcast Blog', 'id': 'd355bfe2-f712-4f62-b153-6b2b91b469c9'}, page_content=\"While it's crucial to address these challenges, it's equally important to recognize the promising opportunities that autonomous vehicles bring. Collaborative efforts between universities and industries, the integration of AI for enhanced safety and efficiency, improved self-driving capabilities, economic growth potential, enhanced user experiences, and the progressive shift towards automation all paint a picture of a future filled with innovation and sustainability.\\n\\n[CONCLUSION]\\n\\nAs we navigate the complexities of autonomous vehicle technology, it's clear that a balanced approach considering both risks and opportunities is key to shaping a future where innovation and societal well-being go hand in hand.\"),\n",
              " Document(metadata={'source': 'data/podcast_blog.html', 'title': 'Tech & Science Podcast Blog', 'id': '4101df71-5e8b-422e-9961-6afffde99cc7'}, page_content='Climate Change Science and Impacts\\nTopic: Explain the science behind climate change and its global impacts\\n\\n[INTRO]\\n\\nWelcome to the Climate Change Conundrum, where we unravel the complexities of the science behind climate change and its global impacts. Today, we dive into a debate between skeptics and believers, exploring the challenges and opportunities that come with addressing this pressing issue.\\n\\n[SKEPTIC PERSPECTIVE]'),\n",
              " Document(metadata={'source': 'data/podcast_blog.html', 'title': 'Tech & Science Podcast Blog', 'id': 'e3d45615-0d48-42d7-b394-008f06ee806d'}, page_content=\"As we delve into the science of climate change, it's vital to acknowledge the challenges that come with mitigating its impacts. One key aspect is the balance between mitigation and adaptation strategies. Finding the right equilibrium between reducing emissions and adjusting to inevitable changes poses a significant challenge.\\n\\n[BELIEVER PERSPECTIVE]\"),\n",
              " Document(metadata={'source': 'data/podcast_blog.html', 'title': 'Tech & Science Podcast Blog', 'id': '61da62ce-1e5c-4a30-92b9-02621aa72c77'}, page_content=\"While the challenges are undeniable, the science of climate change also offers a beacon of hope. The wealth of data provides a solid foundation for raising awareness and education, empowering informed decision-making. Innovations in technology, collaborative efforts like the Paris Agreement, and opportunities for economic growth in the transition to a low-carbon economy showcase the positive side of addressing climate change.\\n\\n[CONCLUSION]\\n\\nAs we navigate the climate change conundrum, it's evident that a multifaceted approach is essential. By embracing innovation, collaboration, education, and sustainable practices, we can pave the way for a more resilient and sustainable future.\"),\n",
              " Document(metadata={'source': 'data/podcast_blog.html', 'title': 'Tech & Science Podcast Blog', 'id': 'd9ed17e2-158e-4bbb-b57a-5a8e4cdc242c'}, page_content=\"Machine Learning in Healthcare\\nTopic: How is machine learning transforming healthcare diagnosis and treatment?\\n\\n[INTRO]\\n\\nWelcome to the Healthcare Tech Talk podcast, where we explore the intersection of technology and healthcare. Today, we dive into the transformative impact of machine learning on healthcare diagnosis and treatment.\\n\\n[SKEPTIC PERSPECTIVE]\\n\\nMachine learning in healthcare offers immense potential, but it's crucial to address the challenges and limitations to ensure its ethical and effective implementation. Data Privacy and Security, Bias and Fairness in algorithms, and the lack of Interpretability in some models raise questions about accountability.\\n\\n[BELIEVER PERSPECTIVE]\"),\n",
              " Document(metadata={'source': 'data/podcast_blog.html', 'title': 'Tech & Science Podcast Blog', 'id': 'dc0ce3b7-df38-4e98-9544-3186816ccdc1'}, page_content='Machine learning presents numerous opportunities in healthcare. It enables Enhanced Patient Care through personalized treatment plans and Efficiency and Speed in diagnosis. The ability to derive Innovative Insights from data can lead to groundbreaking discoveries.\\n\\n[CONCLUSION]\\n\\nTo wrap up, stakeholders must balance the promises of machine learning with ethical considerations to revolutionize healthcare responsibly.\\n        \\n\\n\\nConspiracy Theory Psychology\\nTopic: What are the psychological factors behind conspiracy theory belief?\\n\\n[INTRO]'),\n",
              " Document(metadata={'source': 'data/podcast_blog.html', 'title': 'Tech & Science Podcast Blog', 'id': 'ae2e3b9d-f7cb-427e-bc58-2a85f8c83c92'}, page_content=\"[INTRO]\\n\\nWelcome to our podcast, where we delve into the intriguing topic of the psychological factors behind conspiracy theory belief. Today, we'll explore the complexities surrounding why individuals are drawn to such narratives and discuss opportunities and risks associated with understanding and addressing these beliefs.\\n\\n[SKEPTIC PERSPECTIVE]\\n\\nWhen examining the psychological factors behind conspiracy theory beliefs, it's crucial to acknowledge the intricate web of influences at play. Confirmation bias, social dynamics, group polarization, and psychological vulnerabilities all contribute to the formation and maintenance of these beliefs.\\n\\n[BELIEVER PERSPECTIVE]\"),\n",
              " Document(metadata={'source': 'data/podcast_blog.html', 'title': 'Tech & Science Podcast Blog', 'id': '15595cd8-c5aa-4456-8b59-20fa515b02f7'}, page_content=\"Understanding the psychological factors behind belief in conspiracy theories offers opportunities for constructive interventions. By enhancing critical thinking skills, building trust in institutions, and emphasizing emotional intelligence, we can help individuals navigate uncertainty without resorting to conspiratorial explanations.\\n\\n[CONCLUSION]\\n\\nAs we conclude our discussion, it's evident that understanding the psychological factors behind conspiracy theory belief is a multifaceted endeavor. By embracing the opportunities presented and navigating the risks thoughtfully, we can work towards a more informed, resilient, and united society.\"),\n",
              " Document(metadata={'source': 'data/podcast_blog.html', 'title': 'Tech & Science Podcast Blog', 'id': '501d67c3-de50-48e4-bc66-0b3029dd1fcc'}, page_content=\"Urbanization and Biodiversity\\nTopic: Explain the impact of urbanization on biodiversity and ecosystems\\n\\n[INTRO]\\n\\nWelcome to our podcast where we delve into the impact of urbanization on biodiversity and ecosystems. Today, we'll explore the complexities surrounding this issue and discuss potential solutions for sustainable urban development.\\n\\n[SKEPTIC PERSPECTIVE]\\n\\nUrbanization has been shown to have detrimental effects on biodiversity and ecosystems. Fragmentation and isolation of habitats, introduction of invasive species, pollution, and climate change are among the key challenges highlighted.\\n\\n[BELIEVER PERSPECTIVE]\"),\n",
              " Document(metadata={'source': 'data/podcast_blog.html', 'title': 'Tech & Science Podcast Blog', 'id': '5fed099f-e1bc-4171-b143-e246d3aff82c'}, page_content='By incorporating green spaces, promoting urban wildlife conservation, and engaging communities in conservation efforts, urban areas can become hubs for biodiversity. Sustainable development practices, coupled with policy support for nature conservation, can create a harmonious balance between urban development and biodiversity preservation.\\n\\n[CONCLUSION]\\n\\nIn conclusion, addressing the impact of urbanization on biodiversity requires a multifaceted approach that considers environmental, social, and economic factors. By integrating green practices, engaging communities, and advocating for nature-friendly policies, urban areas can become thriving ecosystems that benefit both humans and wildlife.'),\n",
              " Document(metadata={'source': 'data/podcast_blog.html', 'title': 'Tech & Science Podcast Blog', 'id': '2d0b6e63-a65d-4cd6-a4ec-6896b30f8d47'}, page_content=\"Nutrition and Mental Health\\nTopic: How does nutrition affect mental health and cognitive function?\\n\\n[INTRO]\\n\\nWelcome to our podcast where we explore the intriguing connection between nutrition and mental health. Today, we dive into a debate surrounding the impact of diet on cognitive function and well-being.\\n\\n[SKEPTIC PERSPECTIVE]\\n\\nIt's crucial to acknowledge that while nutrient deficiencies can affect mental health and cognition, individual responses to diet vary significantly due to genetic factors and health conditions. This variability complicates the direct link between nutrition and brain function.\\n\\n[BELIEVER PERSPECTIVE]\"),\n",
              " Document(metadata={'source': 'data/podcast_blog.html', 'title': 'Tech & Science Podcast Blog', 'id': '5b0f3a3c-02e3-46e4-8eef-9e287c4fe2b0'}, page_content=\"Nutrient deficiencies can be addressed proactively through balanced diets and targeted supplementation, potentially alleviating symptoms of depression and cognitive decline. The gut-brain connection underscores the importance of a nutritious diet in maintaining mental clarity and emotional well-being.\\n\\n[CONCLUSION]\\n\\nAs we wrap up, it's clear that the relationship between nutrition and mental health is multifaceted. By acknowledging the challenges and opportunities, we can strive for a balanced approach that maximizes the benefits of a healthy diet while addressing the risks involved.\\n        \\n\\n\\nRenewable Energy Storage Solutions\\nTopic: What are the latest advances in renewable energy storage solutions?\\n\\n[INTRO]\"),\n",
              " Document(metadata={'source': 'data/podcast_blog.html', 'title': 'Tech & Science Podcast Blog', 'id': '70a26a6e-756f-4e7f-91cb-8748cfd5e592'}, page_content=\"[INTRO]\\n\\nWelcome to the Renewable Energy Revolution podcast, where we explore the latest advances in renewable energy storage solutions. Today, we dive into a debate between skeptics and believers on the opportunities and risks surrounding these innovations.\\n\\n[SKEPTIC PERSPECTIVE]\\n\\nWhile the advancements in renewable energy storage solutions show promise, it's essential to consider the challenges they pose. The cost, scalability, resource dependency, reliability, regulatory frameworks, cybersecurity concerns, and environmental impact are critical factors that need attention.\\n\\n[BELIEVER PERSPECTIVE]\"),\n",
              " Document(metadata={'source': 'data/podcast_blog.html', 'title': 'Tech & Science Podcast Blog', 'id': 'f3c85b89-8e77-4abc-b7e9-bfba6e9e49e9'}, page_content=\"The latest advances offer exciting opportunities to transform our energy landscape. Zinc-Air and Sodium-Ion batteries, AI-driven systems, cutting-edge innovations, and battery energy storage systems present efficient and sustainable solutions.\\n\\n[CONCLUSION]\\n\\nAs we wrap up, it's clear that renewable energy storage solutions hold immense potential in transforming our energy landscape. By addressing the challenges and leveraging the opportunities, we can create dynamic and sustainable energy systems for the future.\\n        \\n\\n\\nGut Bacteria and Human Health\\nTopic: Explain the role of gut bacteria in human health and disease\\n\\n[INTRO]\"),\n",
              " Document(metadata={'source': 'data/podcast_blog.html', 'title': 'Tech & Science Podcast Blog', 'id': '3c66f935-0956-4c3c-ae97-def132e9d9c2'}, page_content='[INTRO]\\n\\nWelcome to \"Health Matters,\" where we delve into the fascinating world of human health and well-being. Today, we\\'re exploring the intricate relationship between gut bacteria and human health.\\n\\n[SKEPTIC PERSPECTIVE]\\n\\nThe diversity of gut microbiota among individuals poses a significant challenge in establishing universal guidelines or treatments. Additionally, determining causation versus correlation in studies linking gut bacteria to health conditions remains a complex task.\\n\\n[BELIEVER PERSPECTIVE]\\n\\nPersonalized health interventions based on gut microbiota analysis offer a tailored approach to improving health outcomes. By optimizing diets and developing targeted therapies, we can revolutionize disease management.\\n\\n[CONCLUSION]'),\n",
              " Document(metadata={'source': 'data/podcast_blog.html', 'title': 'Tech & Science Podcast Blog', 'id': '6f6e1f0a-ef2c-447b-9a79-61d5d070ecb8'}, page_content='[CONCLUSION]\\n\\nAs we wrap up, it\\'s clear that understanding the complexities and potentials of our gut microbiota is a crucial step towards a healthier tomorrow. Stay tuned for more insightful discussions on \"Health Matters.\"\\n        \\n\\n\\nAugmented Reality in Education\\nTopic: How is augmented reality changing education and professional training?\\n\\n[INTRO]\\n\\nWelcome to the TechEd Talk podcast, where we explore the intersection of technology and education. Today, we dive into the fascinating realm of augmented reality and its impact on education and professional training.\\n\\n[SKEPTIC PERSPECTIVE]'),\n",
              " Document(metadata={'source': 'data/podcast_blog.html', 'title': 'Tech & Science Podcast Blog', 'id': '49468587-d3dc-45cd-a0db-1d3e7684f12d'}, page_content=\"When discussing the integration of augmented reality (AR) in education and professional training, it's crucial to acknowledge the challenges that may arise. Cost and Access, Technical Issues, Training and Support for educators, Privacy and Ethical Concerns, and Content Quality and Pedagogical Integration are vital considerations.\\n\\n[BELIEVER PERSPECTIVE]\\n\\nAugmented reality offers a plethora of benefits in education and professional training. It provides Enhanced Learning Experiences through interactivity and immersion, Cost-Effective Training Solutions, Improved Accessibility and Inclusivity for all learners, and Collaborative Teaching Methods.\\n\\n[CONCLUSION]\"),\n",
              " Document(metadata={'source': 'data/podcast_blog.html', 'title': 'Tech & Science Podcast Blog', 'id': '44c0a75a-96c7-4fb3-aae2-86da9fda5842'}, page_content=\"[CONCLUSION]\\n\\nAs we wrap up, it's clear that augmented reality holds immense potential in transforming education and professional training. By addressing the challenges and leveraging the opportunities, we can create dynamic and engaging learning environments for all stakeholders involved.\"),\n",
              " Document(metadata={'source': 'data/tech_podcast_series.html', 'title': 'Tech & Science Podcast Series', 'id': 'b4924f77-0ded-4374-bad6-79bb63337a7b'}, page_content=\"Tech & Science Podcast Series\\n\\n\\n\\n\\nTech & Science Podcast Series\\nExploring the frontiers of technology, science, and innovation\\n\\n\\n\\n\\nAI Developments in 2024\\n\\nEpisode 1 • 45 min\\n\\nAI\\nTechnology\\nInnovation\\n\\n\\n\\nExplore the latest breakthroughs in AI, from Claude 3's improved reasoning to Google's Gemini series. Learn about advances in model efficiency, ethical AI development, and healthcare applications.\\n\\n▶ Play Episode\\n\\n\\nQuantum Computing & Cryptography\\n\\nEpisode 2 • 40 min\\n\\nQuantum\\nSecurity\\nTechnology\\n\\n\\n\\nDive into the world of quantum computing and its impact on cryptography. Understand post-quantum cryptography, quantum key distribution, and the future of data security.\\n\\n▶ Play Episode\\n\\n\\nEnvironmental Impact of Fast Fashion\"),\n",
              " Document(metadata={'source': 'data/tech_podcast_series.html', 'title': 'Tech & Science Podcast Series', 'id': '3d07add7-4469-4070-9f42-a9f0030082e2'}, page_content='Episode 3 • 35 min\\n\\nEnvironment\\nFashion\\nSustainability\\n\\n\\n\\nExamine the environmental consequences of fast fashion and explore sustainable alternatives. Learn about resource depletion, pollution, and innovative solutions for a greener fashion industry.\\n\\n▶ Play Episode\\n\\n\\nAI Impact on Job Markets\\n\\nEpisode 4 • 42 min\\n\\nAI\\nJobs\\nFuture Skills\\n\\n\\n\\nAnalyze how artificial intelligence is reshaping job markets and what skills will be crucial in the future. Discover opportunities, challenges, and strategies for career development.\\n\\n▶ Play Episode\\n\\n\\nSocial Media & Mental Health\\n\\nEpisode 5 • 38 min\\n\\nMental Health\\nSocial Media\\nPsychology'),\n",
              " Document(metadata={'source': 'data/tech_podcast_series.html', 'title': 'Tech & Science Podcast Series', 'id': '289e6437-d0ff-48c6-97c0-086fc273480e'}, page_content='Investigate the psychological effects of social media on mental health. Understand the impact on well-being, addiction patterns, and strategies for healthy digital habits.\\n\\n▶ Play Episode\\n\\n\\nBlockchain Beyond Cryptocurrency\\n\\nEpisode 6 • 44 min\\n\\nBlockchain\\nTechnology\\nInnovation\\n\\n\\n\\nExplore blockchain applications beyond cryptocurrency. Learn about smart contracts, supply chain management, healthcare records, and the future of decentralized systems.\\n\\n▶ Play Episode\\n\\n\\nRenewable Energy Breakthroughs\\n\\nEpisode 7 • 41 min\\n\\nEnergy\\nSustainability\\nTechnology\\n\\n\\n\\nDiscover the latest breakthroughs in renewable energy technology. Learn about innovations in solar, wind, and storage solutions shaping our sustainable future.\\n\\n▶ Play Episode'),\n",
              " Document(metadata={'source': 'data/tech_podcast_series.html', 'title': 'Tech & Science Podcast Series', 'id': '7de561d6-b472-4a23-aa20-6e62388e20dc'}, page_content='▶ Play Episode\\n\\n\\nSpace Exploration Benefits\\n\\nEpisode 8 • 39 min\\n\\nSpace\\nScience\\nTechnology\\n\\n\\n\\nExplore how space exploration benefits everyday life on Earth. From technological innovations to scientific discoveries, understand the impact of space research.\\n\\n▶ Play Episode')]"
            ]
          },
          "execution_count": 26,
          "metadata": {},
          "output_type": "execute_result"
        }
      ],
      "source": [
        "training_documents"
      ]
    },
    {
      "cell_type": "code",
      "execution_count": 27,
      "metadata": {
        "id": "MTS4GTSEcnG4"
      },
      "outputs": [],
      "source": [
        "training_split_documents = training_documents[:len(training_documents) - 62]\n",
        "val_split_documents = training_documents[-62: -31]\n",
        "test_split_documents = training_documents[-31:]"
      ]
    },
    {
      "cell_type": "code",
      "execution_count": 28,
      "metadata": {
        "id": "_EWfmIscMrvg"
      },
      "outputs": [],
      "source": [
        "from langchain_openai import ChatOpenAI\n",
        "\n",
        "qa_chat_model = ChatOpenAI(\n",
        "    model=\"gpt-4o-mini\",\n",
        "    temperature=0\n",
        ")"
      ]
    },
    {
      "cell_type": "code",
      "execution_count": 29,
      "metadata": {
        "id": "diEWcw00NMSj"
      },
      "outputs": [],
      "source": [
        "from langchain_core.prompts import ChatPromptTemplate\n",
        "\n",
        "qa_prompt = \"\"\"\\\n",
        "Given the following context, you must generate questions based on only the provided context.\n",
        "\n",
        "You are to generate {n_questions} questions which should be provided in the following format:\n",
        "\n",
        "1. QUESTION #1\n",
        "2. QUESTION #2\n",
        "...\n",
        "\n",
        "Context:\n",
        "{context}\n",
        "\"\"\"\n",
        "\n",
        "qa_prompt_template = ChatPromptTemplate.from_template(qa_prompt)"
      ]
    },
    {
      "cell_type": "code",
      "execution_count": 30,
      "metadata": {},
      "outputs": [
        {
          "data": {
            "text/plain": [
              "ChatPromptTemplate(input_variables=['context', 'n_questions'], input_types={}, partial_variables={}, messages=[HumanMessagePromptTemplate(prompt=PromptTemplate(input_variables=['context', 'n_questions'], input_types={}, partial_variables={}, template='Given the following context, you must generate questions based on only the provided context.\\n\\nYou are to generate {n_questions} questions which should be provided in the following format:\\n\\n1. QUESTION #1\\n2. QUESTION #2\\n...\\n\\nContext:\\n{context}\\n'), additional_kwargs={})])"
            ]
          },
          "execution_count": 30,
          "metadata": {},
          "output_type": "execute_result"
        }
      ],
      "source": [
        "qa_prompt_template"
      ]
    },
    {
      "cell_type": "markdown",
      "metadata": {
        "id": "u87Izpgm6_fk"
      },
      "source": [
        "We'll create a simple chain to query the LLM!"
      ]
    },
    {
      "cell_type": "code",
      "execution_count": 31,
      "metadata": {
        "id": "ggl9SSjiNbpG"
      },
      "outputs": [],
      "source": [
        "question_generation_chain = qa_prompt_template | qa_chat_model"
      ]
    },
    {
      "cell_type": "code",
      "execution_count": 32,
      "metadata": {
        "id": "U4yi4NfTCnLc"
      },
      "outputs": [],
      "source": [
        "import asyncio\n",
        "import uuid\n",
        "from tqdm import tqdm\n",
        "\n",
        "async def process_document(document, n_questions):\n",
        "    questions_generated = await question_generation_chain.ainvoke({\"context\": document.page_content, \"n_questions\": n_questions})\n",
        "\n",
        "    doc_questions = {}\n",
        "    doc_relevant_docs = {}\n",
        "\n",
        "    for question in questions_generated.content.split(\"\\n\"):\n",
        "        question_id = str(uuid.uuid4())\n",
        "        doc_questions[question_id] = \"\".join(question.split(\".\")[1:]).strip()\n",
        "        doc_relevant_docs[question_id] = [document.metadata[\"id\"]]\n",
        "\n",
        "    return doc_questions, doc_relevant_docs\n",
        "\n",
        "async def create_questions(documents, n_questions):\n",
        "    tasks = [process_document(doc, n_questions) for doc in documents]\n",
        "\n",
        "    questions = {}\n",
        "    relevant_docs = {}\n",
        "\n",
        "    for task in tqdm(asyncio.as_completed(tasks), total=len(documents), desc=\"Processing documents\"):\n",
        "        doc_questions, doc_relevant_docs = await task\n",
        "        questions.update(doc_questions)\n",
        "        relevant_docs.update(doc_relevant_docs)\n",
        "\n",
        "    return questions, relevant_docs"
      ]
    },
    {
      "cell_type": "code",
      "execution_count": 33,
      "metadata": {
        "colab": {
          "base_uri": "https://localhost:8080/"
        },
        "id": "85Dq6KRqEs0F",
        "outputId": "60dcd580-b6e8-4e3b-d605-05b492ca5c96"
      },
      "outputs": [
        {
          "name": "stderr",
          "output_type": "stream",
          "text": [
            "Processing documents: 100%|██████████| 100/100 [00:10<00:00,  9.99it/s]\n"
          ]
        }
      ],
      "source": [
        "training_questions, training_relevant_contexts = await create_questions(training_split_documents, 2)"
      ]
    },
    {
      "cell_type": "markdown",
      "metadata": {
        "id": "_FSTG0bb7w73"
      },
      "source": [
        "We'll use the function to generate training, validation, and test data."
      ]
    },
    {
      "cell_type": "code",
      "execution_count": 34,
      "metadata": {
        "colab": {
          "base_uri": "https://localhost:8080/"
        },
        "id": "eIZm4CqGVzBx",
        "outputId": "65a7703a-c528-40f6-aff4-1be84902cfc4"
      },
      "outputs": [
        {
          "name": "stderr",
          "output_type": "stream",
          "text": [
            "Processing documents: 100%|██████████| 31/31 [00:04<00:00,  6.78it/s]\n"
          ]
        }
      ],
      "source": [
        "val_questions, val_relevant_contexts = await create_questions(val_split_documents, 2)"
      ]
    },
    {
      "cell_type": "code",
      "execution_count": 35,
      "metadata": {
        "colab": {
          "base_uri": "https://localhost:8080/"
        },
        "id": "o6qUHg9sV2_y",
        "outputId": "b03bf5c6-d392-40bf-a061-1daceba2962e"
      },
      "outputs": [
        {
          "name": "stderr",
          "output_type": "stream",
          "text": [
            "Processing documents: 100%|██████████| 31/31 [00:04<00:00,  7.35it/s]\n"
          ]
        }
      ],
      "source": [
        "test_questions, test_relevant_contexts = await create_questions(test_split_documents, 2)"
      ]
    },
    {
      "cell_type": "code",
      "execution_count": 36,
      "metadata": {
        "id": "iF6IFFq9VsNu"
      },
      "outputs": [],
      "source": [
        "import json\n",
        "\n",
        "training_corpus = {train_item.metadata[\"id\"] : train_item.page_content for train_item in training_split_documents}\n",
        "\n",
        "train_dataset = {\n",
        "    \"questions\" : training_questions,\n",
        "    \"relevant_contexts\" : training_relevant_contexts,\n",
        "    \"corpus\" : training_corpus\n",
        "}\n",
        "\n",
        "with open(\"training_dataset.jsonl\", \"w\") as f:\n",
        "  json.dump(train_dataset, f)"
      ]
    },
    {
      "cell_type": "code",
      "execution_count": 37,
      "metadata": {
        "id": "PqF9WaueV-V8"
      },
      "outputs": [],
      "source": [
        "val_corpus = {val_item.metadata[\"id\"] : val_item.page_content for val_item in val_split_documents}\n",
        "\n",
        "val_dataset = {\n",
        "    \"questions\" : val_questions,\n",
        "    \"relevant_contexts\" : val_relevant_contexts,\n",
        "    \"corpus\" : val_corpus\n",
        "}\n",
        "\n",
        "with open(\"val_dataset.jsonl\", \"w\") as f:\n",
        "  json.dump(val_dataset, f)"
      ]
    },
    {
      "cell_type": "code",
      "execution_count": 38,
      "metadata": {
        "id": "0DSQ7WMnWAu6"
      },
      "outputs": [],
      "source": [
        "train_corpus = {test_item.metadata[\"id\"] : test_item.page_content for test_item in test_split_documents}\n",
        "\n",
        "test_dataset = {\n",
        "    \"questions\" : test_questions,\n",
        "    \"relevant_contexts\" : test_relevant_contexts,\n",
        "    \"corpus\" : train_corpus\n",
        "}\n",
        "\n",
        "with open(\"test_dataset.jsonl\", \"w\") as f:\n",
        "  json.dump(test_dataset, f)"
      ]
    },
    {
      "cell_type": "code",
      "execution_count": 39,
      "metadata": {
        "colab": {
          "base_uri": "https://localhost:8080/"
        },
        "id": "AXzVHP3v1Cno",
        "outputId": "a9d6ca65-d355-460d-de89-7446a441512b"
      },
      "outputs": [],
      "source": [
        "#!pip install -qU sentence_transformers datasets pyarrow"
      ]
    },
    {
      "cell_type": "code",
      "execution_count": 40,
      "metadata": {
        "colab": {
          "base_uri": "https://localhost:8080/"
        },
        "id": "G-PGsQB7Xo6V",
        "outputId": "8df58392-a82b-45f9-ce4e-b4155522e2c6"
      },
      "outputs": [],
      "source": [
        "from sentence_transformers import SentenceTransformer\n",
        "\n",
        "model_id = \"Snowflake/snowflake-arctic-embed-l\"\n",
        "model = SentenceTransformer(model_id)"
      ]
    },
    {
      "cell_type": "code",
      "execution_count": 41,
      "metadata": {
        "id": "B-WbpuUWYFJr"
      },
      "outputs": [],
      "source": [
        "from torch.utils.data import DataLoader\n",
        "from torch.utils.data import Dataset\n",
        "from sentence_transformers import InputExample"
      ]
    },
    {
      "cell_type": "code",
      "execution_count": 42,
      "metadata": {
        "id": "8Lokhy6KYHAv"
      },
      "outputs": [],
      "source": [
        "BATCH_SIZE = 10"
      ]
    },
    {
      "cell_type": "code",
      "execution_count": 43,
      "metadata": {
        "id": "JJk37zQsYJ4P"
      },
      "outputs": [],
      "source": [
        "corpus = train_dataset['corpus']\n",
        "queries = train_dataset['questions']\n",
        "relevant_docs = train_dataset['relevant_contexts']\n",
        "\n",
        "examples = []\n",
        "for query_id, query in queries.items():\n",
        "    doc_id = relevant_docs[query_id][0]\n",
        "    text = corpus[doc_id]\n",
        "    example = InputExample(texts=[query, text])\n",
        "    examples.append(example)"
      ]
    },
    {
      "cell_type": "code",
      "execution_count": 44,
      "metadata": {
        "id": "tiizmeIqZ_-w"
      },
      "outputs": [],
      "source": [
        "loader = DataLoader(\n",
        "    examples, batch_size=BATCH_SIZE\n",
        ")"
      ]
    },
    {
      "cell_type": "code",
      "execution_count": 45,
      "metadata": {
        "id": "Uga4nnBqlVeh"
      },
      "outputs": [],
      "source": [
        "from sentence_transformers.losses import MatryoshkaLoss, MultipleNegativesRankingLoss\n",
        "\n",
        "matryoshka_dimensions = [768, 512, 256, 128, 64]\n",
        "inner_train_loss = MultipleNegativesRankingLoss(model)\n",
        "train_loss = MatryoshkaLoss(\n",
        "    model, inner_train_loss, matryoshka_dims=matryoshka_dimensions\n",
        ")"
      ]
    },
    {
      "cell_type": "code",
      "execution_count": 46,
      "metadata": {
        "id": "f0hAFwUyaHQG"
      },
      "outputs": [],
      "source": [
        "from sentence_transformers.evaluation import InformationRetrievalEvaluator\n",
        "\n",
        "corpus = val_dataset['corpus']\n",
        "queries = val_dataset['questions']\n",
        "relevant_docs = val_dataset['relevant_contexts']\n",
        "\n",
        "evaluator = InformationRetrievalEvaluator(queries, corpus, relevant_docs)"
      ]
    },
    {
      "cell_type": "code",
      "execution_count": 47,
      "metadata": {
        "id": "svZG0pBHiQr6"
      },
      "outputs": [],
      "source": [
        "EPOCHS = 10"
      ]
    },
    {
      "cell_type": "code",
      "execution_count": 48,
      "metadata": {},
      "outputs": [
        {
          "data": {
            "text/html": [
              "<button onClick=\"this.nextSibling.style.display='block';this.style.display='none';\">Display W&B run</button><iframe src='https://wandb.ai/dummy/dummy/runs/xf3aqdk8?jupyter=true' style='border:none;width:100%;height:420px;display:none;'></iframe>"
            ],
            "text/plain": [
              "<wandb.sdk.wandb_run.Run at 0x7f587810ba10>"
            ]
          },
          "execution_count": 48,
          "metadata": {},
          "output_type": "execute_result"
        }
      ],
      "source": [
        "import wandb\n",
        "wandb.init(mode=\"disabled\")"
      ]
    },
    {
      "cell_type": "code",
      "execution_count": 49,
      "metadata": {
        "colab": {
          "base_uri": "https://localhost:8080/",
          "height": 753,
          "referenced_widgets": [
            "0d3fc6edfdab4fe9aff8e805632eadad",
            "ebe8aa7a82124b57bce2d826c1dea0fa",
            "aa11c10b4234452d9430744ab89b59a2",
            "ca05cbcd72cb41d9856804ffb17b26cb",
            "cc2a33e9a7ac4c5699346fcbf53b7c95",
            "408f4dfce21a45cfad36047677ec8658",
            "ca5804644ef345c1b4f670fb7f088fe8",
            "2a872283afaa4a33a9bc3f9e57b3650b",
            "fe4d1052824c4ed29c38c5311087e650",
            "e283b1608c4d4266a03c57dc95aabb2e",
            "bfc4997e3bd94e66bebaa1ffdae1b99e"
          ]
        },
        "id": "aDhUHZY-iR09",
        "outputId": "6dbd9320-f7b9-46d6-b891-efdd12086631"
      },
      "outputs": [
        {
          "data": {
            "application/vnd.jupyter.widget-view+json": {
              "model_id": "dfd871a60f49468e85489c26ef357793",
              "version_major": 2,
              "version_minor": 0
            },
            "text/plain": [
              "Computing widget examples:   0%|          | 0/1 [00:00<?, ?example/s]"
            ]
          },
          "metadata": {},
          "output_type": "display_data"
        },
        {
          "name": "stderr",
          "output_type": "stream",
          "text": [
            "\u001b[34m\u001b[1mwandb\u001b[0m: \u001b[33mWARNING\u001b[0m The `run_name` is currently set to the same value as `TrainingArguments.output_dir`. If this was not intended, please specify a different run name by setting the `TrainingArguments.run_name` parameter.\n"
          ]
        },
        {
          "data": {
            "text/html": [
              "\n",
              "    <div>\n",
              "      \n",
              "      <progress value='200' max='200' style='width:300px; height:20px; vertical-align: middle;'></progress>\n",
              "      [200/200 20:52, Epoch 10/10]\n",
              "    </div>\n",
              "    <table border=\"1\" class=\"dataframe\">\n",
              "  <thead>\n",
              " <tr style=\"text-align: left;\">\n",
              "      <th>Step</th>\n",
              "      <th>Training Loss</th>\n",
              "      <th>Validation Loss</th>\n",
              "      <th>Cosine Accuracy@1</th>\n",
              "      <th>Cosine Accuracy@3</th>\n",
              "      <th>Cosine Accuracy@5</th>\n",
              "      <th>Cosine Accuracy@10</th>\n",
              "      <th>Cosine Precision@1</th>\n",
              "      <th>Cosine Precision@3</th>\n",
              "      <th>Cosine Precision@5</th>\n",
              "      <th>Cosine Precision@10</th>\n",
              "      <th>Cosine Recall@1</th>\n",
              "      <th>Cosine Recall@3</th>\n",
              "      <th>Cosine Recall@5</th>\n",
              "      <th>Cosine Recall@10</th>\n",
              "      <th>Cosine Ndcg@10</th>\n",
              "      <th>Cosine Mrr@10</th>\n",
              "      <th>Cosine Map@100</th>\n",
              "    </tr>\n",
              "  </thead>\n",
              "  <tbody>\n",
              "    <tr>\n",
              "      <td>20</td>\n",
              "      <td>No log</td>\n",
              "      <td>No log</td>\n",
              "      <td>0.774194</td>\n",
              "      <td>0.983871</td>\n",
              "      <td>1.000000</td>\n",
              "      <td>1.000000</td>\n",
              "      <td>0.774194</td>\n",
              "      <td>0.327957</td>\n",
              "      <td>0.200000</td>\n",
              "      <td>0.100000</td>\n",
              "      <td>0.774194</td>\n",
              "      <td>0.983871</td>\n",
              "      <td>1.000000</td>\n",
              "      <td>1.000000</td>\n",
              "      <td>0.900761</td>\n",
              "      <td>0.866935</td>\n",
              "      <td>0.866935</td>\n",
              "    </tr>\n",
              "    <tr>\n",
              "      <td>40</td>\n",
              "      <td>No log</td>\n",
              "      <td>No log</td>\n",
              "      <td>0.806452</td>\n",
              "      <td>0.983871</td>\n",
              "      <td>1.000000</td>\n",
              "      <td>1.000000</td>\n",
              "      <td>0.806452</td>\n",
              "      <td>0.327957</td>\n",
              "      <td>0.200000</td>\n",
              "      <td>0.100000</td>\n",
              "      <td>0.806452</td>\n",
              "      <td>0.983871</td>\n",
              "      <td>1.000000</td>\n",
              "      <td>1.000000</td>\n",
              "      <td>0.919002</td>\n",
              "      <td>0.891129</td>\n",
              "      <td>0.891129</td>\n",
              "    </tr>\n",
              "    <tr>\n",
              "      <td>50</td>\n",
              "      <td>No log</td>\n",
              "      <td>No log</td>\n",
              "      <td>0.774194</td>\n",
              "      <td>0.983871</td>\n",
              "      <td>1.000000</td>\n",
              "      <td>1.000000</td>\n",
              "      <td>0.774194</td>\n",
              "      <td>0.327957</td>\n",
              "      <td>0.200000</td>\n",
              "      <td>0.100000</td>\n",
              "      <td>0.774194</td>\n",
              "      <td>0.983871</td>\n",
              "      <td>1.000000</td>\n",
              "      <td>1.000000</td>\n",
              "      <td>0.904985</td>\n",
              "      <td>0.872312</td>\n",
              "      <td>0.872312</td>\n",
              "    </tr>\n",
              "    <tr>\n",
              "      <td>60</td>\n",
              "      <td>No log</td>\n",
              "      <td>No log</td>\n",
              "      <td>0.774194</td>\n",
              "      <td>0.983871</td>\n",
              "      <td>1.000000</td>\n",
              "      <td>1.000000</td>\n",
              "      <td>0.774194</td>\n",
              "      <td>0.327957</td>\n",
              "      <td>0.200000</td>\n",
              "      <td>0.100000</td>\n",
              "      <td>0.774194</td>\n",
              "      <td>0.983871</td>\n",
              "      <td>1.000000</td>\n",
              "      <td>1.000000</td>\n",
              "      <td>0.904985</td>\n",
              "      <td>0.872312</td>\n",
              "      <td>0.872312</td>\n",
              "    </tr>\n",
              "    <tr>\n",
              "      <td>80</td>\n",
              "      <td>No log</td>\n",
              "      <td>No log</td>\n",
              "      <td>0.758065</td>\n",
              "      <td>0.983871</td>\n",
              "      <td>1.000000</td>\n",
              "      <td>1.000000</td>\n",
              "      <td>0.758065</td>\n",
              "      <td>0.327957</td>\n",
              "      <td>0.200000</td>\n",
              "      <td>0.100000</td>\n",
              "      <td>0.758065</td>\n",
              "      <td>0.983871</td>\n",
              "      <td>1.000000</td>\n",
              "      <td>1.000000</td>\n",
              "      <td>0.899032</td>\n",
              "      <td>0.864247</td>\n",
              "      <td>0.864247</td>\n",
              "    </tr>\n",
              "    <tr>\n",
              "      <td>100</td>\n",
              "      <td>No log</td>\n",
              "      <td>No log</td>\n",
              "      <td>0.790323</td>\n",
              "      <td>0.983871</td>\n",
              "      <td>1.000000</td>\n",
              "      <td>1.000000</td>\n",
              "      <td>0.790323</td>\n",
              "      <td>0.327957</td>\n",
              "      <td>0.200000</td>\n",
              "      <td>0.100000</td>\n",
              "      <td>0.790323</td>\n",
              "      <td>0.983871</td>\n",
              "      <td>1.000000</td>\n",
              "      <td>1.000000</td>\n",
              "      <td>0.910937</td>\n",
              "      <td>0.880376</td>\n",
              "      <td>0.880376</td>\n",
              "    </tr>\n",
              "    <tr>\n",
              "      <td>120</td>\n",
              "      <td>No log</td>\n",
              "      <td>No log</td>\n",
              "      <td>0.774194</td>\n",
              "      <td>0.983871</td>\n",
              "      <td>1.000000</td>\n",
              "      <td>1.000000</td>\n",
              "      <td>0.774194</td>\n",
              "      <td>0.327957</td>\n",
              "      <td>0.200000</td>\n",
              "      <td>0.100000</td>\n",
              "      <td>0.774194</td>\n",
              "      <td>0.983871</td>\n",
              "      <td>1.000000</td>\n",
              "      <td>1.000000</td>\n",
              "      <td>0.902873</td>\n",
              "      <td>0.869624</td>\n",
              "      <td>0.869624</td>\n",
              "    </tr>\n",
              "    <tr>\n",
              "      <td>140</td>\n",
              "      <td>No log</td>\n",
              "      <td>No log</td>\n",
              "      <td>0.774194</td>\n",
              "      <td>0.967742</td>\n",
              "      <td>1.000000</td>\n",
              "      <td>1.000000</td>\n",
              "      <td>0.774194</td>\n",
              "      <td>0.322581</td>\n",
              "      <td>0.200000</td>\n",
              "      <td>0.100000</td>\n",
              "      <td>0.774194</td>\n",
              "      <td>0.967742</td>\n",
              "      <td>1.000000</td>\n",
              "      <td>1.000000</td>\n",
              "      <td>0.901755</td>\n",
              "      <td>0.868280</td>\n",
              "      <td>0.868280</td>\n",
              "    </tr>\n",
              "    <tr>\n",
              "      <td>150</td>\n",
              "      <td>No log</td>\n",
              "      <td>No log</td>\n",
              "      <td>0.774194</td>\n",
              "      <td>0.983871</td>\n",
              "      <td>1.000000</td>\n",
              "      <td>1.000000</td>\n",
              "      <td>0.774194</td>\n",
              "      <td>0.327957</td>\n",
              "      <td>0.200000</td>\n",
              "      <td>0.100000</td>\n",
              "      <td>0.774194</td>\n",
              "      <td>0.983871</td>\n",
              "      <td>1.000000</td>\n",
              "      <td>1.000000</td>\n",
              "      <td>0.902873</td>\n",
              "      <td>0.869624</td>\n",
              "      <td>0.869624</td>\n",
              "    </tr>\n",
              "    <tr>\n",
              "      <td>160</td>\n",
              "      <td>No log</td>\n",
              "      <td>No log</td>\n",
              "      <td>0.774194</td>\n",
              "      <td>0.983871</td>\n",
              "      <td>1.000000</td>\n",
              "      <td>1.000000</td>\n",
              "      <td>0.774194</td>\n",
              "      <td>0.327957</td>\n",
              "      <td>0.200000</td>\n",
              "      <td>0.100000</td>\n",
              "      <td>0.774194</td>\n",
              "      <td>0.983871</td>\n",
              "      <td>1.000000</td>\n",
              "      <td>1.000000</td>\n",
              "      <td>0.902873</td>\n",
              "      <td>0.869624</td>\n",
              "      <td>0.869624</td>\n",
              "    </tr>\n",
              "    <tr>\n",
              "      <td>180</td>\n",
              "      <td>No log</td>\n",
              "      <td>No log</td>\n",
              "      <td>0.758065</td>\n",
              "      <td>0.967742</td>\n",
              "      <td>1.000000</td>\n",
              "      <td>1.000000</td>\n",
              "      <td>0.758065</td>\n",
              "      <td>0.322581</td>\n",
              "      <td>0.200000</td>\n",
              "      <td>0.100000</td>\n",
              "      <td>0.758065</td>\n",
              "      <td>0.967742</td>\n",
              "      <td>1.000000</td>\n",
              "      <td>1.000000</td>\n",
              "      <td>0.895802</td>\n",
              "      <td>0.860215</td>\n",
              "      <td>0.860215</td>\n",
              "    </tr>\n",
              "    <tr>\n",
              "      <td>200</td>\n",
              "      <td>No log</td>\n",
              "      <td>No log</td>\n",
              "      <td>0.758065</td>\n",
              "      <td>0.967742</td>\n",
              "      <td>1.000000</td>\n",
              "      <td>1.000000</td>\n",
              "      <td>0.758065</td>\n",
              "      <td>0.322581</td>\n",
              "      <td>0.200000</td>\n",
              "      <td>0.100000</td>\n",
              "      <td>0.758065</td>\n",
              "      <td>0.967742</td>\n",
              "      <td>1.000000</td>\n",
              "      <td>1.000000</td>\n",
              "      <td>0.895802</td>\n",
              "      <td>0.860215</td>\n",
              "      <td>0.860215</td>\n",
              "    </tr>\n",
              "  </tbody>\n",
              "</table><p>"
            ],
            "text/plain": [
              "<IPython.core.display.HTML object>"
            ]
          },
          "metadata": {},
          "output_type": "display_data"
        }
      ],
      "source": [
        "warmup_steps = int(len(loader) * EPOCHS * 0.1)\n",
        "\n",
        "model.fit(\n",
        "    train_objectives=[(loader, train_loss)],\n",
        "    epochs=EPOCHS,\n",
        "    warmup_steps=warmup_steps,\n",
        "    output_path='finetuned_arctic_ft',\n",
        "    show_progress_bar=True,\n",
        "    evaluator=evaluator,\n",
        "    evaluation_steps=50\n",
        ")"
      ]
    },
    {
      "cell_type": "code",
      "execution_count": 53,
      "metadata": {
        "colab": {
          "base_uri": "https://localhost:8080/",
          "height": 17,
          "referenced_widgets": [
            "58699484312f460cb96ac44e3af14aa2",
            "d45a7d95e5b14a6f88d5798fec9c40a7",
            "b011a6ccf8e745c6be6f3a17b7d61dce",
            "1016780729b04ba489d488922173ddae",
            "9d34dac405fd40139d5dc04eecef55ed",
            "d6169577ffb341a69eb0175e301b6a44",
            "d4acc9a7aca04564bfaefe33de079394",
            "4e2c257232c3472697e03350de43cb30",
            "381c780ce17e4662981175400fb8a0f8",
            "878dc96f87dd45f389948a546db33e94",
            "006bf6f5ebaf400486a6b82610381db0",
            "9198dd0fa8f04aa7b75307aa2d513bfb",
            "59cd26ae53024fbd85431b6683cd119c",
            "4e7ccd97042c4fb9a201b6dc76762e04",
            "72ec09e2cbbf4788b1561abfcdd0819a",
            "fb1e19624fde4d3c8048ce00264d6056",
            "9638a0456e0c41b1b9b9757932f55c53",
            "18825dc83221412ab602830fc00db71b",
            "a6ea48a80c194d128959422368aa0e10",
            "9f4026c62c60493caa18c014ae414e65"
          ]
        },
        "id": "b3iwclvyRD8L",
        "outputId": "1471e984-9351-478c-de34-6eb32263fa30"
      },
      "outputs": [
        {
          "data": {
            "application/vnd.jupyter.widget-view+json": {
              "model_id": "1d6ad73601cf463bacbb5b151c5fd5bd",
              "version_major": 2,
              "version_minor": 0
            },
            "text/plain": [
              "VBox(children=(HTML(value='<center> <img\\nsrc=https://huggingface.co/front/assets/huggingface_logo-noborder.sv…"
            ]
          },
          "metadata": {},
          "output_type": "display_data"
        }
      ],
      "source": [
        "from huggingface_hub import notebook_login\n",
        "\n",
        "notebook_login()"
      ]
    },
    {
      "cell_type": "code",
      "execution_count": 54,
      "metadata": {
        "id": "_pn-Y6yjRoHk"
      },
      "outputs": [],
      "source": [
        "hf_username = \"dataera2013\""
      ]
    },
    {
      "cell_type": "code",
      "execution_count": 55,
      "metadata": {
        "colab": {
          "base_uri": "https://localhost:8080/",
          "height": 67,
          "referenced_widgets": [
            "e5c86e0e33264ed8b6325e44f9421653",
            "acf3991e5d644f468264f561b28b514a",
            "4a723c6a56e94309b2e3abe63f28aedc",
            "ef25768d3b0746b48c6d02e9bd151bf9",
            "cc1f0bc4a1a74568b9c74a7392a1568f",
            "95160a05de5b402b9bdb0bd2d099cd00",
            "cf376b0ea3544055b8867d7013526502",
            "869814ecd49e46f9a33dd53130e6953f",
            "cc7d460d3c5a4ac6a9b64929736d6598",
            "13e9bf583f6442d395334947379a280a",
            "1995b4d98fe044e38f1980d47033ca40"
          ]
        },
        "id": "Nqhf3zWa9AiJ",
        "outputId": "c601b2a8-f8e9-4d71-9c7b-8ea4999ff077"
      },
      "outputs": [
        {
          "data": {
            "application/vnd.jupyter.widget-view+json": {
              "model_id": "a5c0cdbcbf7a4482980d93040a4ffa97",
              "version_major": 2,
              "version_minor": 0
            },
            "text/plain": [
              "model.safetensors:   0%|          | 0.00/1.34G [00:00<?, ?B/s]"
            ]
          },
          "metadata": {},
          "output_type": "display_data"
        },
        {
          "data": {
            "text/plain": [
              "'https://huggingface.co/dataera2013/mt-1/commit/0b529104372cfa96a990b1416c9caf42430da234'"
            ]
          },
          "execution_count": 55,
          "metadata": {},
          "output_type": "execute_result"
        }
      ],
      "source": [
        "model.push_to_hub(f\"{hf_username}/mt-1\")"
      ]
    },
    {
      "cell_type": "code",
      "execution_count": 56,
      "metadata": {
        "id": "Vq-2oqU0wHFr"
      },
      "outputs": [],
      "source": [
        "import pandas as pd\n",
        "\n",
        "from langchain_community.vectorstores import FAISS\n",
        "from langchain_openai.embeddings import OpenAIEmbeddings\n",
        "from langchain_core.documents import Document\n",
        "from tqdm.auto import tqdm"
      ]
    },
    {
      "cell_type": "code",
      "execution_count": 57,
      "metadata": {
        "id": "0713_3cowX4q"
      },
      "outputs": [],
      "source": [
        "def evaluate_openai(\n",
        "    dataset,\n",
        "    embed_model,\n",
        "    top_k=5,\n",
        "    verbose=False,\n",
        "):\n",
        "  corpus = dataset['corpus']\n",
        "  questions = dataset['questions']\n",
        "  relevant_docs = dataset['relevant_contexts']\n",
        "  documents = [Document(page_content=content, metadata={\"id\": doc_id}) for doc_id, content in corpus.items()]\n",
        "  vectorstore = FAISS.from_documents(documents, embed_model)\n",
        "\n",
        "  retriever = vectorstore.as_retriever(search_kwargs={\"k\": top_k})\n",
        "\n",
        "  eval_results = []\n",
        "  for id, question in tqdm(questions.items()):\n",
        "    retrieved_nodes = retriever.invoke(question)\n",
        "    retrieved_ids = [node.metadata[\"id\"] for node in retrieved_nodes]\n",
        "    expected_id = relevant_docs[id][0]\n",
        "    is_hit = expected_id in retrieved_ids\n",
        "    eval_results.append({\"id\": id, \"question\": question, \"expected_id\": expected_id, \"is_hit\": is_hit})\n",
        "\n",
        "  return eval_results"
      ]
    },
    {
      "cell_type": "code",
      "execution_count": 59,
      "metadata": {
        "colab": {
          "base_uri": "https://localhost:8080/"
        },
        "id": "kyY3PztaxnU3",
        "outputId": "5a1ec5e9-00fc-4140-d5b6-aa752dd4c9fa"
      },
      "outputs": [
        {
          "data": {
            "application/vnd.jupyter.widget-view+json": {
              "model_id": "2ca01bacf7234cc787cba9007f73c263",
              "version_major": 2,
              "version_minor": 0
            },
            "text/plain": [
              "  0%|          | 0/62 [00:00<?, ?it/s]"
            ]
          },
          "metadata": {},
          "output_type": "display_data"
        }
      ],
      "source": [
        "te3_openai = OpenAIEmbeddings(model=\"text-embedding-3-small\")\n",
        "te3_results = evaluate_openai(test_dataset, te3_openai)"
      ]
    },
    {
      "cell_type": "code",
      "execution_count": 60,
      "metadata": {
        "id": "kkyW90TCxx_i"
      },
      "outputs": [],
      "source": [
        "te3_results_df = pd.DataFrame(te3_results)"
      ]
    },
    {
      "cell_type": "code",
      "execution_count": 62,
      "metadata": {
        "colab": {
          "base_uri": "https://localhost:8080/"
        },
        "id": "MscVRdNCylJ-",
        "outputId": "275beff8-3c59-4063-8270-c01736b4ee05"
      },
      "outputs": [
        {
          "data": {
            "text/plain": [
              "np.float64(1.0)"
            ]
          },
          "execution_count": 62,
          "metadata": {},
          "output_type": "execute_result"
        }
      ],
      "source": [
        "te3_hit_rate = te3_results_df[\"is_hit\"].mean()\n",
        "te3_hit_rate"
      ]
    },
    {
      "cell_type": "code",
      "execution_count": 63,
      "metadata": {
        "colab": {
          "base_uri": "https://localhost:8080/"
        },
        "id": "OEskxwvFypHe",
        "outputId": "a3aad8ce-48ef-4d8f-9ed0-122b1ec9a000"
      },
      "outputs": [
        {
          "data": {
            "application/vnd.jupyter.widget-view+json": {
              "model_id": "c49266fc28594c3fa1c7d5e8b126ec69",
              "version_major": 2,
              "version_minor": 0
            },
            "text/plain": [
              "  0%|          | 0/62 [00:00<?, ?it/s]"
            ]
          },
          "metadata": {},
          "output_type": "display_data"
        }
      ],
      "source": [
        "from langchain_huggingface import HuggingFaceEmbeddings\n",
        "\n",
        "huggingface_embeddings = HuggingFaceEmbeddings(model_name=\"Snowflake/snowflake-arctic-embed-l\")\n",
        "arctic_embed_m_results = evaluate_openai(test_dataset, huggingface_embeddings)"
      ]
    },
    {
      "cell_type": "code",
      "execution_count": 64,
      "metadata": {
        "id": "KlKgiXTWzMTg"
      },
      "outputs": [],
      "source": [
        "arctic_embed_m_results_df = pd.DataFrame(arctic_embed_m_results)"
      ]
    },
    {
      "cell_type": "code",
      "execution_count": 65,
      "metadata": {},
      "outputs": [
        {
          "data": {
            "text/html": [
              "<div>\n",
              "<style scoped>\n",
              "    .dataframe tbody tr th:only-of-type {\n",
              "        vertical-align: middle;\n",
              "    }\n",
              "\n",
              "    .dataframe tbody tr th {\n",
              "        vertical-align: top;\n",
              "    }\n",
              "\n",
              "    .dataframe thead th {\n",
              "        text-align: right;\n",
              "    }\n",
              "</style>\n",
              "<table border=\"1\" class=\"dataframe\">\n",
              "  <thead>\n",
              "    <tr style=\"text-align: right;\">\n",
              "      <th></th>\n",
              "      <th>id</th>\n",
              "      <th>question</th>\n",
              "      <th>expected_id</th>\n",
              "      <th>is_hit</th>\n",
              "    </tr>\n",
              "  </thead>\n",
              "  <tbody>\n",
              "    <tr>\n",
              "      <th>0</th>\n",
              "      <td>fb21ff81-8635-4dae-bce1-96a18423d51d</td>\n",
              "      <td>What challenges are associated with establishi...</td>\n",
              "      <td>3c66f935-0956-4c3c-ae97-def132e9d9c2</td>\n",
              "      <td>True</td>\n",
              "    </tr>\n",
              "    <tr>\n",
              "      <th>1</th>\n",
              "      <td>95ba87fa-dd80-47cb-abb4-446737f65e99</td>\n",
              "      <td>How can personalized health interventions base...</td>\n",
              "      <td>3c66f935-0956-4c3c-ae97-def132e9d9c2</td>\n",
              "      <td>True</td>\n",
              "    </tr>\n",
              "    <tr>\n",
              "      <th>2</th>\n",
              "      <td>1a0685e4-ee25-4219-b546-2f213f577ae1</td>\n",
              "      <td>What are some of the challenges associated wit...</td>\n",
              "      <td>49468587-d3dc-45cd-a0db-1d3e7684f12d</td>\n",
              "      <td>True</td>\n",
              "    </tr>\n",
              "    <tr>\n",
              "      <th>3</th>\n",
              "      <td>7d488b6c-680d-42f1-a2c4-66d78d7a4a01</td>\n",
              "      <td>How does augmented reality enhance learning ex...</td>\n",
              "      <td>49468587-d3dc-45cd-a0db-1d3e7684f12d</td>\n",
              "      <td>True</td>\n",
              "    </tr>\n",
              "    <tr>\n",
              "      <th>4</th>\n",
              "      <td>72ccea24-c792-4e1a-9c2e-e1219298112b</td>\n",
              "      <td>What are some of the risks that microplastics ...</td>\n",
              "      <td>d7a4c7ff-4df3-413f-9616-519558e16966</td>\n",
              "      <td>True</td>\n",
              "    </tr>\n",
              "    <tr>\n",
              "      <th>...</th>\n",
              "      <td>...</td>\n",
              "      <td>...</td>\n",
              "      <td>...</td>\n",
              "      <td>...</td>\n",
              "    </tr>\n",
              "    <tr>\n",
              "      <th>57</th>\n",
              "      <td>5f82045f-5458-405c-b77a-5975b816675d</td>\n",
              "      <td>How do mitigation and adaptation strategies ne...</td>\n",
              "      <td>e3d45615-0d48-42d7-b394-008f06ee806d</td>\n",
              "      <td>True</td>\n",
              "    </tr>\n",
              "    <tr>\n",
              "      <th>58</th>\n",
              "      <td>aa86a73e-3cb3-46fd-8891-689a9f4c8c69</td>\n",
              "      <td>What are some of the latest advances in energy...</td>\n",
              "      <td>f3c85b89-8e77-4abc-b7e9-bfba6e9e49e9</td>\n",
              "      <td>True</td>\n",
              "    </tr>\n",
              "    <tr>\n",
              "      <th>59</th>\n",
              "      <td>2fdeb3d3-c69d-4f3e-b44a-d2277c3c3c46</td>\n",
              "      <td>How do Zinc-Air and Sodium-Ion batteries contr...</td>\n",
              "      <td>f3c85b89-8e77-4abc-b7e9-bfba6e9e49e9</td>\n",
              "      <td>True</td>\n",
              "    </tr>\n",
              "    <tr>\n",
              "      <th>60</th>\n",
              "      <td>f3b51f65-0e2f-4d5b-9a7e-1afdf3e78efe</td>\n",
              "      <td>What are some of the key challenges to biodive...</td>\n",
              "      <td>501d67c3-de50-48e4-bc66-0b3029dd1fcc</td>\n",
              "      <td>False</td>\n",
              "    </tr>\n",
              "    <tr>\n",
              "      <th>61</th>\n",
              "      <td>586609fd-5314-4905-95f3-452db835aba4</td>\n",
              "      <td>How does the believer perspective contribute t...</td>\n",
              "      <td>501d67c3-de50-48e4-bc66-0b3029dd1fcc</td>\n",
              "      <td>False</td>\n",
              "    </tr>\n",
              "  </tbody>\n",
              "</table>\n",
              "<p>62 rows × 4 columns</p>\n",
              "</div>"
            ],
            "text/plain": [
              "                                      id  \\\n",
              "0   fb21ff81-8635-4dae-bce1-96a18423d51d   \n",
              "1   95ba87fa-dd80-47cb-abb4-446737f65e99   \n",
              "2   1a0685e4-ee25-4219-b546-2f213f577ae1   \n",
              "3   7d488b6c-680d-42f1-a2c4-66d78d7a4a01   \n",
              "4   72ccea24-c792-4e1a-9c2e-e1219298112b   \n",
              "..                                   ...   \n",
              "57  5f82045f-5458-405c-b77a-5975b816675d   \n",
              "58  aa86a73e-3cb3-46fd-8891-689a9f4c8c69   \n",
              "59  2fdeb3d3-c69d-4f3e-b44a-d2277c3c3c46   \n",
              "60  f3b51f65-0e2f-4d5b-9a7e-1afdf3e78efe   \n",
              "61  586609fd-5314-4905-95f3-452db835aba4   \n",
              "\n",
              "                                             question  \\\n",
              "0   What challenges are associated with establishi...   \n",
              "1   How can personalized health interventions base...   \n",
              "2   What are some of the challenges associated wit...   \n",
              "3   How does augmented reality enhance learning ex...   \n",
              "4   What are some of the risks that microplastics ...   \n",
              "..                                                ...   \n",
              "57  How do mitigation and adaptation strategies ne...   \n",
              "58  What are some of the latest advances in energy...   \n",
              "59  How do Zinc-Air and Sodium-Ion batteries contr...   \n",
              "60  What are some of the key challenges to biodive...   \n",
              "61  How does the believer perspective contribute t...   \n",
              "\n",
              "                             expected_id  is_hit  \n",
              "0   3c66f935-0956-4c3c-ae97-def132e9d9c2    True  \n",
              "1   3c66f935-0956-4c3c-ae97-def132e9d9c2    True  \n",
              "2   49468587-d3dc-45cd-a0db-1d3e7684f12d    True  \n",
              "3   49468587-d3dc-45cd-a0db-1d3e7684f12d    True  \n",
              "4   d7a4c7ff-4df3-413f-9616-519558e16966    True  \n",
              "..                                   ...     ...  \n",
              "57  e3d45615-0d48-42d7-b394-008f06ee806d    True  \n",
              "58  f3c85b89-8e77-4abc-b7e9-bfba6e9e49e9    True  \n",
              "59  f3c85b89-8e77-4abc-b7e9-bfba6e9e49e9    True  \n",
              "60  501d67c3-de50-48e4-bc66-0b3029dd1fcc   False  \n",
              "61  501d67c3-de50-48e4-bc66-0b3029dd1fcc   False  \n",
              "\n",
              "[62 rows x 4 columns]"
            ]
          },
          "execution_count": 65,
          "metadata": {},
          "output_type": "execute_result"
        }
      ],
      "source": [
        "arctic_embed_m_results_df"
      ]
    },
    {
      "cell_type": "code",
      "execution_count": 66,
      "metadata": {
        "colab": {
          "base_uri": "https://localhost:8080/"
        },
        "id": "zV5vJWrJzOhc",
        "outputId": "30049be6-deb9-4ceb-dc13-24d7e125f131"
      },
      "outputs": [
        {
          "data": {
            "text/plain": [
              "np.float64(0.8548387096774194)"
            ]
          },
          "execution_count": 66,
          "metadata": {},
          "output_type": "execute_result"
        }
      ],
      "source": [
        "arctic_embed_m_hit_rate = arctic_embed_m_results_df[\"is_hit\"].mean()\n",
        "arctic_embed_m_hit_rate"
      ]
    },
    {
      "cell_type": "markdown",
      "metadata": {
        "id": "lcR3-0s19_lu"
      },
      "source": [
        "### `Snowflake/snowflake-arctic-embed-l` (fine-tuned)"
      ]
    },
    {
      "cell_type": "code",
      "execution_count": 69,
      "metadata": {
        "colab": {
          "base_uri": "https://localhost:8080/"
        },
        "id": "Ilse1LduzP1i",
        "outputId": "292ab58f-7594-45fc-a5b8-1062cc553f66"
      },
      "outputs": [
        {
          "name": "stderr",
          "output_type": "stream",
          "text": [
            "Some weights of BertModel were not initialized from the model checkpoint at finetuned_arctic_ft and are newly initialized: ['pooler.dense.bias', 'pooler.dense.weight']\n",
            "You should probably TRAIN this model on a down-stream task to be able to use it for predictions and inference.\n"
          ]
        },
        {
          "data": {
            "application/vnd.jupyter.widget-view+json": {
              "model_id": "66e1da03c7c443e8b506ee5af0f5952e",
              "version_major": 2,
              "version_minor": 0
            },
            "text/plain": [
              "  0%|          | 0/62 [00:00<?, ?it/s]"
            ]
          },
          "metadata": {},
          "output_type": "display_data"
        }
      ],
      "source": [
        "finetune_embeddings = HuggingFaceEmbeddings(model_name=\"finetuned_arctic_ft\")\n",
        "finetune_results = evaluate_openai(test_dataset, finetune_embeddings)"
      ]
    },
    {
      "cell_type": "code",
      "execution_count": 70,
      "metadata": {
        "id": "xxhZPqkNzZlh"
      },
      "outputs": [],
      "source": [
        "finetune_results_df = pd.DataFrame(finetune_results)"
      ]
    },
    {
      "cell_type": "code",
      "execution_count": 71,
      "metadata": {
        "colab": {
          "base_uri": "https://localhost:8080/"
        },
        "id": "4thAK2BXzaj6",
        "outputId": "e890b5d1-86b7-4bfe-8ffe-a779a132e0c6"
      },
      "outputs": [
        {
          "data": {
            "text/plain": [
              "np.float64(1.0)"
            ]
          },
          "execution_count": 71,
          "metadata": {},
          "output_type": "execute_result"
        }
      ],
      "source": [
        "finetune_hit_rate = finetune_results_df[\"is_hit\"].mean()\n",
        "finetune_hit_rate"
      ]
    },
    {
      "cell_type": "code",
      "execution_count": 72,
      "metadata": {
        "id": "KwQ2_LqNr0Tw"
      },
      "outputs": [],
      "source": [
        "text_splitter = RecursiveCharacterTextSplitter(\n",
        "    chunk_size = 600,\n",
        "    chunk_overlap  = 50,\n",
        "    length_function = len\n",
        ")\n",
        "\n",
        "training_documents = text_splitter.split_documents(text_loader.load())"
      ]
    },
    {
      "cell_type": "code",
      "execution_count": 73,
      "metadata": {
        "id": "azIGIKYfmNCT"
      },
      "outputs": [],
      "source": [
        "from langchain_community.vectorstores import FAISS\n",
        "\n",
        "base_vectorstore = FAISS.from_documents(training_documents, huggingface_embeddings)\n",
        "base_retriever = base_vectorstore.as_retriever(search_kwargs={\"k\": 6})"
      ]
    },
    {
      "cell_type": "code",
      "execution_count": 74,
      "metadata": {
        "id": "G10Fr-aKojeA"
      },
      "outputs": [],
      "source": [
        "from langchain_core.prompts import ChatPromptTemplate\n",
        "\n",
        "RAG_PROMPT = \"\"\"\\\n",
        "Given a provided context and a question, you must answer the question. If you do not know the answer, you must state that you do not know.\n",
        "\n",
        "Context:\n",
        "{context}\n",
        "\n",
        "Question:\n",
        "{question}\n",
        "\n",
        "Answer:\n",
        "\"\"\"\n",
        "\n",
        "rag_prompt_template = ChatPromptTemplate.from_template(RAG_PROMPT)"
      ]
    },
    {
      "cell_type": "code",
      "execution_count": 75,
      "metadata": {
        "id": "5-mfbbrypMHG"
      },
      "outputs": [],
      "source": [
        "rag_llm =  ChatOpenAI(\n",
        "    model=\"gpt-4o-mini\",\n",
        "    temperature=0\n",
        ")"
      ]
    },
    {
      "cell_type": "code",
      "execution_count": 76,
      "metadata": {
        "id": "ssuR-LaboyGq"
      },
      "outputs": [],
      "source": [
        "from operator import itemgetter\n",
        "from langchain_core.output_parsers import StrOutputParser\n",
        "from langchain_core.runnables import RunnablePassthrough, RunnableParallel\n",
        "\n",
        "base_rag_chain = (\n",
        "    {\"context\": itemgetter(\"question\") | base_retriever, \"question\": itemgetter(\"question\")}\n",
        "    | RunnablePassthrough.assign(context=itemgetter(\"context\"))\n",
        "    | {\"response\": rag_prompt_template | rag_llm | StrOutputParser(), \"context\": itemgetter(\"context\")}\n",
        ")"
      ]
    },
    {
      "cell_type": "code",
      "execution_count": 77,
      "metadata": {
        "colab": {
          "base_uri": "https://localhost:8080/",
          "height": 87
        },
        "id": "emm6WbB9pfKt",
        "outputId": "f0e0c83f-c617-493e-99ce-869061a315f3"
      },
      "outputs": [
        {
          "data": {
            "text/plain": [
              "'An agent, in the context of AI, is a term that refers to AI systems that can act on your behalf. However, the term is considered vague and lacks a single, clear definition. Some people view agents as systems that autonomously perform tasks, while others think of them as LLMs (large language models) that utilize tools to solve problems. The concept of \"agents\" is still evolving, and there are ongoing discussions about their utility and effectiveness, particularly regarding their ability to distinguish truth from fiction.'"
            ]
          },
          "execution_count": 77,
          "metadata": {},
          "output_type": "execute_result"
        }
      ],
      "source": [
        "base_rag_chain.invoke({\"question\" : \"What is an agent?\"})[\"response\"]"
      ]
    },
    {
      "cell_type": "code",
      "execution_count": 78,
      "metadata": {
        "colab": {
          "base_uri": "https://localhost:8080/",
          "height": 87
        },
        "id": "mUOrd0OBprAq",
        "outputId": "0070d677-0bde-48be-a8a3-f0c53b9eee90"
      },
      "outputs": [
        {
          "data": {
            "text/plain": [
              "'Organizations that have produced better-than-GPT-3 class models include Anthropic, Mistral, Google, Meta, EleutherAI, Stability AI, TII in Abu Dhabi (Falcon), Microsoft Research, xAI, Replit, Baidu, and several others.'"
            ]
          },
          "execution_count": 78,
          "metadata": {},
          "output_type": "execute_result"
        }
      ],
      "source": [
        "base_rag_chain.invoke({\"question\" : \"Who has produced better models than GPT-3?\"})[\"response\"]"
      ]
    },
    {
      "cell_type": "code",
      "execution_count": 79,
      "metadata": {
        "colab": {
          "base_uri": "https://localhost:8080/",
          "height": 70
        },
        "id": "OnfuFl59py7I",
        "outputId": "37480e29-17a6-40e2-fe8a-7eb6ea270569"
      },
      "outputs": [
        {
          "data": {
            "text/plain": [
              "'I do not know.'"
            ]
          },
          "execution_count": 79,
          "metadata": {},
          "output_type": "execute_result"
        }
      ],
      "source": [
        "base_rag_chain.invoke({\"question\" : \"What is the laziest AI month?\"})[\"response\"]"
      ]
    },
    {
      "cell_type": "code",
      "execution_count": 80,
      "metadata": {
        "colab": {
          "base_uri": "https://localhost:8080/",
          "height": 122
        },
        "id": "-NmqwHBDqTZ8",
        "outputId": "86d7b59a-97c6-4b65-805f-ae449e3b1a20"
      },
      "outputs": [
        {
          "data": {
            "text/plain": [
              "'I do not know.'"
            ]
          },
          "execution_count": 80,
          "metadata": {},
          "output_type": "execute_result"
        }
      ],
      "source": [
        "base_rag_chain.invoke({\"question\" : \"What is the largest model that Simon has run on his phone?\"})[\"response\"]"
      ]
    },
    {
      "cell_type": "code",
      "execution_count": 81,
      "metadata": {
        "id": "ihO7tP6mqATy"
      },
      "outputs": [],
      "source": [
        "finetune_vectorstore = FAISS.from_documents(training_documents, finetune_embeddings)\n",
        "finetune_retriever = finetune_vectorstore.as_retriever(search_kwargs={\"k\": 6})"
      ]
    },
    {
      "cell_type": "code",
      "execution_count": 82,
      "metadata": {
        "id": "1_cIFvWzqKGY"
      },
      "outputs": [],
      "source": [
        "finetune_rag_chain = (\n",
        "    {\"context\": itemgetter(\"question\") | finetune_retriever, \"question\": itemgetter(\"question\")}\n",
        "    | RunnablePassthrough.assign(context=itemgetter(\"context\"))\n",
        "    | {\"response\": rag_prompt_template | rag_llm | StrOutputParser(), \"context\": itemgetter(\"context\")}\n",
        ")"
      ]
    },
    {
      "cell_type": "code",
      "execution_count": 83,
      "metadata": {
        "colab": {
          "base_uri": "https://localhost:8080/",
          "height": 70
        },
        "id": "OJmRHJF2qNgj",
        "outputId": "b99d4b58-8487-48ec-ee6c-8ea93f9b0192"
      },
      "outputs": [
        {
          "data": {
            "text/plain": [
              "'An \"agent\" is a term that lacks a single, clear, and widely understood meaning in the context of AI. It generally refers to AI systems that can act on behalf of a user, but interpretations vary. Some people view agents as entities that perform tasks like a travel agent, while others think of them as LLMs (Large Language Models) that utilize tools to solve problems. The term is often associated with concepts of autonomy, but there is significant ambiguity surrounding its definition and practical implementation.'"
            ]
          },
          "execution_count": 83,
          "metadata": {},
          "output_type": "execute_result"
        }
      ],
      "source": [
        "finetune_rag_chain.invoke({\"question\" : \"What is an Agent?\"})[\"response\"]"
      ]
    },
    {
      "cell_type": "code",
      "execution_count": 84,
      "metadata": {
        "colab": {
          "base_uri": "https://localhost:8080/",
          "height": 122
        },
        "id": "EnK-c2ugqPPh",
        "outputId": "b8300e0a-1b51-48dd-93c3-254e0aa84e36"
      },
      "outputs": [
        {
          "data": {
            "text/plain": [
              "'Organizations that have produced better models than GPT-3 include Anthropic, Mistral, Google, Meta, EleutherAI, Stability AI, TII in Abu Dhabi (Falcon), Microsoft Research, xAI, Replit, Baidu, and several others.'"
            ]
          },
          "execution_count": 84,
          "metadata": {},
          "output_type": "execute_result"
        }
      ],
      "source": [
        "finetune_rag_chain.invoke({\"question\" : \"Who has produced better models than GPT-3?\"})[\"response\"]"
      ]
    },
    {
      "cell_type": "code",
      "execution_count": 85,
      "metadata": {
        "colab": {
          "base_uri": "https://localhost:8080/",
          "height": 70
        },
        "id": "83hssg1AWozc",
        "outputId": "8d1ef134-7889-4379-a49b-6c0a476b7a1a"
      },
      "outputs": [
        {
          "data": {
            "text/plain": [
              "'I do not know.'"
            ]
          },
          "execution_count": 85,
          "metadata": {},
          "output_type": "execute_result"
        }
      ],
      "source": [
        "finetune_rag_chain.invoke({\"question\" : \"What is the laziest AI month?\"})[\"response\"]"
      ]
    },
    {
      "cell_type": "code",
      "execution_count": 86,
      "metadata": {
        "colab": {
          "base_uri": "https://localhost:8080/",
          "height": 122
        },
        "id": "rsHmGeFbqRET",
        "outputId": "1ab223c2-d2fc-46ac-8541-af038de3166d"
      },
      "outputs": [
        {
          "data": {
            "text/plain": [
              "'Simon has run the Llama 3.2 3B model on his iPhone.'"
            ]
          },
          "execution_count": 86,
          "metadata": {},
          "output_type": "execute_result"
        }
      ],
      "source": [
        "finetune_rag_chain.invoke({\"question\" : \"What is the largest model that Simon has run on his phone?\"})[\"response\"]"
      ]
    },
    {
      "cell_type": "code",
      "execution_count": 87,
      "metadata": {},
      "outputs": [
        {
          "name": "stderr",
          "output_type": "stream",
          "text": [
            "[nltk_data] Downloading collection 'all'\n",
            "[nltk_data]    | \n",
            "[nltk_data]    | Downloading package abc to\n",
            "[nltk_data]    |     /home/nageshbm/nltk_data...\n",
            "[nltk_data]    |   Package abc is already up-to-date!\n",
            "[nltk_data]    | Downloading package alpino to\n",
            "[nltk_data]    |     /home/nageshbm/nltk_data...\n",
            "[nltk_data]    |   Package alpino is already up-to-date!\n",
            "[nltk_data]    | Downloading package averaged_perceptron_tagger to\n",
            "[nltk_data]    |     /home/nageshbm/nltk_data...\n",
            "[nltk_data]    |   Package averaged_perceptron_tagger is already up-\n",
            "[nltk_data]    |       to-date!\n",
            "[nltk_data]    | Downloading package averaged_perceptron_tagger_eng to\n",
            "[nltk_data]    |     /home/nageshbm/nltk_data...\n",
            "[nltk_data]    |   Package averaged_perceptron_tagger_eng is already\n",
            "[nltk_data]    |       up-to-date!\n",
            "[nltk_data]    | Downloading package averaged_perceptron_tagger_ru to\n",
            "[nltk_data]    |     /home/nageshbm/nltk_data...\n",
            "[nltk_data]    |   Package averaged_perceptron_tagger_ru is already\n",
            "[nltk_data]    |       up-to-date!\n",
            "[nltk_data]    | Downloading package averaged_perceptron_tagger_rus to\n",
            "[nltk_data]    |     /home/nageshbm/nltk_data...\n",
            "[nltk_data]    |   Package averaged_perceptron_tagger_rus is already\n",
            "[nltk_data]    |       up-to-date!\n",
            "[nltk_data]    | Downloading package basque_grammars to\n",
            "[nltk_data]    |     /home/nageshbm/nltk_data...\n",
            "[nltk_data]    |   Package basque_grammars is already up-to-date!\n",
            "[nltk_data]    | Downloading package bcp47 to\n",
            "[nltk_data]    |     /home/nageshbm/nltk_data...\n",
            "[nltk_data]    |   Package bcp47 is already up-to-date!\n",
            "[nltk_data]    | Downloading package biocreative_ppi to\n",
            "[nltk_data]    |     /home/nageshbm/nltk_data...\n",
            "[nltk_data]    |   Package biocreative_ppi is already up-to-date!\n",
            "[nltk_data]    | Downloading package bllip_wsj_no_aux to\n",
            "[nltk_data]    |     /home/nageshbm/nltk_data...\n",
            "[nltk_data]    |   Package bllip_wsj_no_aux is already up-to-date!\n",
            "[nltk_data]    | Downloading package book_grammars to\n",
            "[nltk_data]    |     /home/nageshbm/nltk_data...\n",
            "[nltk_data]    |   Package book_grammars is already up-to-date!\n",
            "[nltk_data]    | Downloading package brown to\n",
            "[nltk_data]    |     /home/nageshbm/nltk_data...\n",
            "[nltk_data]    |   Package brown is already up-to-date!\n",
            "[nltk_data]    | Downloading package brown_tei to\n",
            "[nltk_data]    |     /home/nageshbm/nltk_data...\n",
            "[nltk_data]    |   Package brown_tei is already up-to-date!\n",
            "[nltk_data]    | Downloading package cess_cat to\n",
            "[nltk_data]    |     /home/nageshbm/nltk_data...\n",
            "[nltk_data]    |   Package cess_cat is already up-to-date!\n",
            "[nltk_data]    | Downloading package cess_esp to\n",
            "[nltk_data]    |     /home/nageshbm/nltk_data...\n",
            "[nltk_data]    |   Package cess_esp is already up-to-date!\n",
            "[nltk_data]    | Downloading package chat80 to\n",
            "[nltk_data]    |     /home/nageshbm/nltk_data...\n",
            "[nltk_data]    |   Package chat80 is already up-to-date!\n",
            "[nltk_data]    | Downloading package city_database to\n",
            "[nltk_data]    |     /home/nageshbm/nltk_data...\n",
            "[nltk_data]    |   Package city_database is already up-to-date!\n",
            "[nltk_data]    | Downloading package cmudict to\n",
            "[nltk_data]    |     /home/nageshbm/nltk_data...\n",
            "[nltk_data]    |   Package cmudict is already up-to-date!\n",
            "[nltk_data]    | Downloading package comparative_sentences to\n",
            "[nltk_data]    |     /home/nageshbm/nltk_data...\n",
            "[nltk_data]    |   Package comparative_sentences is already up-to-\n",
            "[nltk_data]    |       date!\n",
            "[nltk_data]    | Downloading package comtrans to\n",
            "[nltk_data]    |     /home/nageshbm/nltk_data...\n",
            "[nltk_data]    |   Package comtrans is already up-to-date!\n",
            "[nltk_data]    | Downloading package conll2000 to\n",
            "[nltk_data]    |     /home/nageshbm/nltk_data...\n",
            "[nltk_data]    |   Package conll2000 is already up-to-date!\n",
            "[nltk_data]    | Downloading package conll2002 to\n",
            "[nltk_data]    |     /home/nageshbm/nltk_data...\n",
            "[nltk_data]    |   Package conll2002 is already up-to-date!\n",
            "[nltk_data]    | Downloading package conll2007 to\n",
            "[nltk_data]    |     /home/nageshbm/nltk_data...\n",
            "[nltk_data]    |   Package conll2007 is already up-to-date!\n",
            "[nltk_data]    | Downloading package crubadan to\n",
            "[nltk_data]    |     /home/nageshbm/nltk_data...\n",
            "[nltk_data]    |   Package crubadan is already up-to-date!\n",
            "[nltk_data]    | Downloading package dependency_treebank to\n",
            "[nltk_data]    |     /home/nageshbm/nltk_data...\n",
            "[nltk_data]    |   Package dependency_treebank is already up-to-date!\n",
            "[nltk_data]    | Downloading package dolch to\n",
            "[nltk_data]    |     /home/nageshbm/nltk_data...\n",
            "[nltk_data]    |   Package dolch is already up-to-date!\n",
            "[nltk_data]    | Downloading package europarl_raw to\n",
            "[nltk_data]    |     /home/nageshbm/nltk_data...\n",
            "[nltk_data]    |   Package europarl_raw is already up-to-date!\n",
            "[nltk_data]    | Downloading package extended_omw to\n",
            "[nltk_data]    |     /home/nageshbm/nltk_data...\n",
            "[nltk_data]    |   Package extended_omw is already up-to-date!\n",
            "[nltk_data]    | Downloading package floresta to\n",
            "[nltk_data]    |     /home/nageshbm/nltk_data...\n",
            "[nltk_data]    |   Package floresta is already up-to-date!\n",
            "[nltk_data]    | Downloading package framenet_v15 to\n",
            "[nltk_data]    |     /home/nageshbm/nltk_data...\n",
            "[nltk_data]    |   Package framenet_v15 is already up-to-date!\n",
            "[nltk_data]    | Downloading package framenet_v17 to\n",
            "[nltk_data]    |     /home/nageshbm/nltk_data...\n",
            "[nltk_data]    |   Package framenet_v17 is already up-to-date!\n",
            "[nltk_data]    | Downloading package gazetteers to\n",
            "[nltk_data]    |     /home/nageshbm/nltk_data...\n",
            "[nltk_data]    |   Package gazetteers is already up-to-date!\n",
            "[nltk_data]    | Downloading package genesis to\n",
            "[nltk_data]    |     /home/nageshbm/nltk_data...\n",
            "[nltk_data]    |   Package genesis is already up-to-date!\n",
            "[nltk_data]    | Downloading package gutenberg to\n",
            "[nltk_data]    |     /home/nageshbm/nltk_data...\n",
            "[nltk_data]    |   Package gutenberg is already up-to-date!\n",
            "[nltk_data]    | Downloading package ieer to\n",
            "[nltk_data]    |     /home/nageshbm/nltk_data...\n",
            "[nltk_data]    |   Package ieer is already up-to-date!\n",
            "[nltk_data]    | Downloading package inaugural to\n",
            "[nltk_data]    |     /home/nageshbm/nltk_data...\n",
            "[nltk_data]    |   Package inaugural is already up-to-date!\n",
            "[nltk_data]    | Downloading package indian to\n",
            "[nltk_data]    |     /home/nageshbm/nltk_data...\n",
            "[nltk_data]    |   Package indian is already up-to-date!\n",
            "[nltk_data]    | Downloading package jeita to\n",
            "[nltk_data]    |     /home/nageshbm/nltk_data...\n",
            "[nltk_data]    |   Package jeita is already up-to-date!\n",
            "[nltk_data]    | Downloading package kimmo to\n",
            "[nltk_data]    |     /home/nageshbm/nltk_data...\n",
            "[nltk_data]    |   Package kimmo is already up-to-date!\n",
            "[nltk_data]    | Downloading package knbc to\n",
            "[nltk_data]    |     /home/nageshbm/nltk_data...\n",
            "[nltk_data]    |   Package knbc is already up-to-date!\n",
            "[nltk_data]    | Downloading package large_grammars to\n",
            "[nltk_data]    |     /home/nageshbm/nltk_data...\n",
            "[nltk_data]    |   Package large_grammars is already up-to-date!\n",
            "[nltk_data]    | Downloading package lin_thesaurus to\n",
            "[nltk_data]    |     /home/nageshbm/nltk_data...\n",
            "[nltk_data]    |   Package lin_thesaurus is already up-to-date!\n",
            "[nltk_data]    | Downloading package mac_morpho to\n",
            "[nltk_data]    |     /home/nageshbm/nltk_data...\n",
            "[nltk_data]    |   Package mac_morpho is already up-to-date!\n",
            "[nltk_data]    | Downloading package machado to\n",
            "[nltk_data]    |     /home/nageshbm/nltk_data...\n",
            "[nltk_data]    |   Package machado is already up-to-date!\n",
            "[nltk_data]    | Downloading package masc_tagged to\n",
            "[nltk_data]    |     /home/nageshbm/nltk_data...\n",
            "[nltk_data]    |   Package masc_tagged is already up-to-date!\n",
            "[nltk_data]    | Downloading package maxent_ne_chunker to\n",
            "[nltk_data]    |     /home/nageshbm/nltk_data...\n",
            "[nltk_data]    |   Package maxent_ne_chunker is already up-to-date!\n",
            "[nltk_data]    | Downloading package maxent_ne_chunker_tab to\n",
            "[nltk_data]    |     /home/nageshbm/nltk_data...\n",
            "[nltk_data]    |   Package maxent_ne_chunker_tab is already up-to-\n",
            "[nltk_data]    |       date!\n",
            "[nltk_data]    | Downloading package maxent_treebank_pos_tagger to\n",
            "[nltk_data]    |     /home/nageshbm/nltk_data...\n",
            "[nltk_data]    |   Package maxent_treebank_pos_tagger is already up-\n",
            "[nltk_data]    |       to-date!\n",
            "[nltk_data]    | Downloading package maxent_treebank_pos_tagger_tab to\n",
            "[nltk_data]    |     /home/nageshbm/nltk_data...\n",
            "[nltk_data]    |   Package maxent_treebank_pos_tagger_tab is already\n",
            "[nltk_data]    |       up-to-date!\n",
            "[nltk_data]    | Downloading package moses_sample to\n",
            "[nltk_data]    |     /home/nageshbm/nltk_data...\n",
            "[nltk_data]    |   Package moses_sample is already up-to-date!\n",
            "[nltk_data]    | Downloading package movie_reviews to\n",
            "[nltk_data]    |     /home/nageshbm/nltk_data...\n",
            "[nltk_data]    |   Package movie_reviews is already up-to-date!\n",
            "[nltk_data]    | Downloading package mte_teip5 to\n",
            "[nltk_data]    |     /home/nageshbm/nltk_data...\n",
            "[nltk_data]    |   Package mte_teip5 is already up-to-date!\n",
            "[nltk_data]    | Downloading package mwa_ppdb to\n",
            "[nltk_data]    |     /home/nageshbm/nltk_data...\n",
            "[nltk_data]    |   Package mwa_ppdb is already up-to-date!\n",
            "[nltk_data]    | Downloading package names to\n",
            "[nltk_data]    |     /home/nageshbm/nltk_data...\n",
            "[nltk_data]    |   Package names is already up-to-date!\n",
            "[nltk_data]    | Downloading package nombank.1.0 to\n",
            "[nltk_data]    |     /home/nageshbm/nltk_data...\n",
            "[nltk_data]    |   Package nombank.1.0 is already up-to-date!\n",
            "[nltk_data]    | Downloading package nonbreaking_prefixes to\n",
            "[nltk_data]    |     /home/nageshbm/nltk_data...\n",
            "[nltk_data]    |   Package nonbreaking_prefixes is already up-to-date!\n",
            "[nltk_data]    | Downloading package nps_chat to\n",
            "[nltk_data]    |     /home/nageshbm/nltk_data...\n",
            "[nltk_data]    |   Package nps_chat is already up-to-date!\n",
            "[nltk_data]    | Downloading package omw to\n",
            "[nltk_data]    |     /home/nageshbm/nltk_data...\n",
            "[nltk_data]    |   Package omw is already up-to-date!\n",
            "[nltk_data]    | Downloading package omw-1.4 to\n",
            "[nltk_data]    |     /home/nageshbm/nltk_data...\n",
            "[nltk_data]    |   Package omw-1.4 is already up-to-date!\n",
            "[nltk_data]    | Downloading package opinion_lexicon to\n",
            "[nltk_data]    |     /home/nageshbm/nltk_data...\n",
            "[nltk_data]    |   Package opinion_lexicon is already up-to-date!\n",
            "[nltk_data]    | Downloading package panlex_swadesh to\n",
            "[nltk_data]    |     /home/nageshbm/nltk_data...\n",
            "[nltk_data]    |   Package panlex_swadesh is already up-to-date!\n",
            "[nltk_data]    | Downloading package paradigms to\n",
            "[nltk_data]    |     /home/nageshbm/nltk_data...\n",
            "[nltk_data]    |   Package paradigms is already up-to-date!\n",
            "[nltk_data]    | Downloading package pe08 to\n",
            "[nltk_data]    |     /home/nageshbm/nltk_data...\n",
            "[nltk_data]    |   Package pe08 is already up-to-date!\n",
            "[nltk_data]    | Downloading package perluniprops to\n",
            "[nltk_data]    |     /home/nageshbm/nltk_data...\n",
            "[nltk_data]    |   Package perluniprops is already up-to-date!\n",
            "[nltk_data]    | Downloading package pil to\n",
            "[nltk_data]    |     /home/nageshbm/nltk_data...\n",
            "[nltk_data]    |   Package pil is already up-to-date!\n",
            "[nltk_data]    | Downloading package pl196x to\n",
            "[nltk_data]    |     /home/nageshbm/nltk_data...\n",
            "[nltk_data]    |   Package pl196x is already up-to-date!\n",
            "[nltk_data]    | Downloading package porter_test to\n",
            "[nltk_data]    |     /home/nageshbm/nltk_data...\n",
            "[nltk_data]    |   Package porter_test is already up-to-date!\n",
            "[nltk_data]    | Downloading package ppattach to\n",
            "[nltk_data]    |     /home/nageshbm/nltk_data...\n",
            "[nltk_data]    |   Package ppattach is already up-to-date!\n",
            "[nltk_data]    | Downloading package problem_reports to\n",
            "[nltk_data]    |     /home/nageshbm/nltk_data...\n",
            "[nltk_data]    |   Package problem_reports is already up-to-date!\n",
            "[nltk_data]    | Downloading package product_reviews_1 to\n",
            "[nltk_data]    |     /home/nageshbm/nltk_data...\n",
            "[nltk_data]    |   Package product_reviews_1 is already up-to-date!\n",
            "[nltk_data]    | Downloading package product_reviews_2 to\n",
            "[nltk_data]    |     /home/nageshbm/nltk_data...\n",
            "[nltk_data]    |   Package product_reviews_2 is already up-to-date!\n",
            "[nltk_data]    | Downloading package propbank to\n",
            "[nltk_data]    |     /home/nageshbm/nltk_data...\n",
            "[nltk_data]    |   Package propbank is already up-to-date!\n",
            "[nltk_data]    | Downloading package pros_cons to\n",
            "[nltk_data]    |     /home/nageshbm/nltk_data...\n",
            "[nltk_data]    |   Package pros_cons is already up-to-date!\n",
            "[nltk_data]    | Downloading package ptb to\n",
            "[nltk_data]    |     /home/nageshbm/nltk_data...\n",
            "[nltk_data]    |   Package ptb is already up-to-date!\n",
            "[nltk_data]    | Downloading package punkt to\n",
            "[nltk_data]    |     /home/nageshbm/nltk_data...\n",
            "[nltk_data]    |   Package punkt is already up-to-date!\n",
            "[nltk_data]    | Downloading package punkt_tab to\n",
            "[nltk_data]    |     /home/nageshbm/nltk_data...\n",
            "[nltk_data]    |   Package punkt_tab is already up-to-date!\n",
            "[nltk_data]    | Downloading package qc to /home/nageshbm/nltk_data...\n",
            "[nltk_data]    |   Package qc is already up-to-date!\n",
            "[nltk_data]    | Downloading package reuters to\n",
            "[nltk_data]    |     /home/nageshbm/nltk_data...\n",
            "[nltk_data]    |   Package reuters is already up-to-date!\n",
            "[nltk_data]    | Downloading package rslp to\n",
            "[nltk_data]    |     /home/nageshbm/nltk_data...\n",
            "[nltk_data]    |   Package rslp is already up-to-date!\n",
            "[nltk_data]    | Downloading package rte to\n",
            "[nltk_data]    |     /home/nageshbm/nltk_data...\n",
            "[nltk_data]    |   Package rte is already up-to-date!\n",
            "[nltk_data]    | Downloading package sample_grammars to\n",
            "[nltk_data]    |     /home/nageshbm/nltk_data...\n",
            "[nltk_data]    |   Package sample_grammars is already up-to-date!\n",
            "[nltk_data]    | Downloading package semcor to\n",
            "[nltk_data]    |     /home/nageshbm/nltk_data...\n",
            "[nltk_data]    |   Package semcor is already up-to-date!\n",
            "[nltk_data]    | Downloading package senseval to\n",
            "[nltk_data]    |     /home/nageshbm/nltk_data...\n",
            "[nltk_data]    |   Package senseval is already up-to-date!\n",
            "[nltk_data]    | Downloading package sentence_polarity to\n",
            "[nltk_data]    |     /home/nageshbm/nltk_data...\n",
            "[nltk_data]    |   Package sentence_polarity is already up-to-date!\n",
            "[nltk_data]    | Downloading package sentiwordnet to\n",
            "[nltk_data]    |     /home/nageshbm/nltk_data...\n",
            "[nltk_data]    |   Package sentiwordnet is already up-to-date!\n",
            "[nltk_data]    | Downloading package shakespeare to\n",
            "[nltk_data]    |     /home/nageshbm/nltk_data...\n",
            "[nltk_data]    |   Package shakespeare is already up-to-date!\n",
            "[nltk_data]    | Downloading package sinica_treebank to\n",
            "[nltk_data]    |     /home/nageshbm/nltk_data...\n",
            "[nltk_data]    |   Package sinica_treebank is already up-to-date!\n",
            "[nltk_data]    | Downloading package smultron to\n",
            "[nltk_data]    |     /home/nageshbm/nltk_data...\n",
            "[nltk_data]    |   Package smultron is already up-to-date!\n",
            "[nltk_data]    | Downloading package snowball_data to\n",
            "[nltk_data]    |     /home/nageshbm/nltk_data...\n",
            "[nltk_data]    |   Package snowball_data is already up-to-date!\n",
            "[nltk_data]    | Downloading package spanish_grammars to\n",
            "[nltk_data]    |     /home/nageshbm/nltk_data...\n",
            "[nltk_data]    |   Package spanish_grammars is already up-to-date!\n",
            "[nltk_data]    | Downloading package state_union to\n",
            "[nltk_data]    |     /home/nageshbm/nltk_data...\n",
            "[nltk_data]    |   Package state_union is already up-to-date!\n",
            "[nltk_data]    | Downloading package stopwords to\n",
            "[nltk_data]    |     /home/nageshbm/nltk_data...\n",
            "[nltk_data]    |   Package stopwords is already up-to-date!\n",
            "[nltk_data]    | Downloading package subjectivity to\n",
            "[nltk_data]    |     /home/nageshbm/nltk_data...\n",
            "[nltk_data]    |   Package subjectivity is already up-to-date!\n",
            "[nltk_data]    | Downloading package swadesh to\n",
            "[nltk_data]    |     /home/nageshbm/nltk_data...\n",
            "[nltk_data]    |   Package swadesh is already up-to-date!\n",
            "[nltk_data]    | Downloading package switchboard to\n",
            "[nltk_data]    |     /home/nageshbm/nltk_data...\n",
            "[nltk_data]    |   Package switchboard is already up-to-date!\n",
            "[nltk_data]    | Downloading package tagsets to\n",
            "[nltk_data]    |     /home/nageshbm/nltk_data...\n",
            "[nltk_data]    |   Package tagsets is already up-to-date!\n",
            "[nltk_data]    | Downloading package tagsets_json to\n",
            "[nltk_data]    |     /home/nageshbm/nltk_data...\n",
            "[nltk_data]    |   Package tagsets_json is already up-to-date!\n",
            "[nltk_data]    | Downloading package timit to\n",
            "[nltk_data]    |     /home/nageshbm/nltk_data...\n",
            "[nltk_data]    |   Package timit is already up-to-date!\n",
            "[nltk_data]    | Downloading package toolbox to\n",
            "[nltk_data]    |     /home/nageshbm/nltk_data...\n",
            "[nltk_data]    |   Package toolbox is already up-to-date!\n",
            "[nltk_data]    | Downloading package treebank to\n",
            "[nltk_data]    |     /home/nageshbm/nltk_data...\n",
            "[nltk_data]    |   Package treebank is already up-to-date!\n",
            "[nltk_data]    | Downloading package twitter_samples to\n",
            "[nltk_data]    |     /home/nageshbm/nltk_data...\n",
            "[nltk_data]    |   Package twitter_samples is already up-to-date!\n",
            "[nltk_data]    | Downloading package udhr to\n",
            "[nltk_data]    |     /home/nageshbm/nltk_data...\n",
            "[nltk_data]    |   Package udhr is already up-to-date!\n",
            "[nltk_data]    | Downloading package udhr2 to\n",
            "[nltk_data]    |     /home/nageshbm/nltk_data...\n",
            "[nltk_data]    |   Package udhr2 is already up-to-date!\n",
            "[nltk_data]    | Downloading package unicode_samples to\n",
            "[nltk_data]    |     /home/nageshbm/nltk_data...\n",
            "[nltk_data]    |   Package unicode_samples is already up-to-date!\n",
            "[nltk_data]    | Downloading package universal_tagset to\n",
            "[nltk_data]    |     /home/nageshbm/nltk_data...\n",
            "[nltk_data]    |   Package universal_tagset is already up-to-date!\n",
            "[nltk_data]    | Downloading package universal_treebanks_v20 to\n",
            "[nltk_data]    |     /home/nageshbm/nltk_data...\n",
            "[nltk_data]    |   Package universal_treebanks_v20 is already up-to-\n",
            "[nltk_data]    |       date!\n",
            "[nltk_data]    | Downloading package vader_lexicon to\n",
            "[nltk_data]    |     /home/nageshbm/nltk_data...\n",
            "[nltk_data]    |   Package vader_lexicon is already up-to-date!\n",
            "[nltk_data]    | Downloading package verbnet to\n",
            "[nltk_data]    |     /home/nageshbm/nltk_data...\n",
            "[nltk_data]    |   Package verbnet is already up-to-date!\n",
            "[nltk_data]    | Downloading package verbnet3 to\n",
            "[nltk_data]    |     /home/nageshbm/nltk_data...\n",
            "[nltk_data]    |   Package verbnet3 is already up-to-date!\n",
            "[nltk_data]    | Downloading package webtext to\n",
            "[nltk_data]    |     /home/nageshbm/nltk_data...\n",
            "[nltk_data]    |   Package webtext is already up-to-date!\n",
            "[nltk_data]    | Downloading package wmt15_eval to\n",
            "[nltk_data]    |     /home/nageshbm/nltk_data...\n",
            "[nltk_data]    |   Package wmt15_eval is already up-to-date!\n",
            "[nltk_data]    | Downloading package word2vec_sample to\n",
            "[nltk_data]    |     /home/nageshbm/nltk_data...\n",
            "[nltk_data]    |   Package word2vec_sample is already up-to-date!\n",
            "[nltk_data]    | Downloading package wordnet to\n",
            "[nltk_data]    |     /home/nageshbm/nltk_data...\n",
            "[nltk_data]    |   Package wordnet is already up-to-date!\n",
            "[nltk_data]    | Downloading package wordnet2021 to\n",
            "[nltk_data]    |     /home/nageshbm/nltk_data...\n",
            "[nltk_data]    |   Package wordnet2021 is already up-to-date!\n",
            "[nltk_data]    | Downloading package wordnet2022 to\n",
            "[nltk_data]    |     /home/nageshbm/nltk_data...\n",
            "[nltk_data]    |   Package wordnet2022 is already up-to-date!\n",
            "[nltk_data]    | Downloading package wordnet31 to\n",
            "[nltk_data]    |     /home/nageshbm/nltk_data...\n",
            "[nltk_data]    |   Package wordnet31 is already up-to-date!\n",
            "[nltk_data]    | Downloading package wordnet_ic to\n",
            "[nltk_data]    |     /home/nageshbm/nltk_data...\n",
            "[nltk_data]    |   Package wordnet_ic is already up-to-date!\n",
            "[nltk_data]    | Downloading package words to\n",
            "[nltk_data]    |     /home/nageshbm/nltk_data...\n",
            "[nltk_data]    |   Package words is already up-to-date!\n",
            "[nltk_data]    | Downloading package ycoe to\n",
            "[nltk_data]    |     /home/nageshbm/nltk_data...\n",
            "[nltk_data]    |   Package ycoe is already up-to-date!\n",
            "[nltk_data]    | \n",
            "[nltk_data]  Done downloading collection all\n"
          ]
        }
      ],
      "source": [
        "# First, install all required NLTK data\n",
        "import nltk\n",
        "import ssl\n",
        "\n",
        "try:\n",
        "    _create_unverified_https_context = ssl._create_unverified_context\n",
        "except AttributeError:\n",
        "    pass\n",
        "else:\n",
        "    ssl._create_default_https_context = _create_unverified_https_context\n",
        "\n",
        "# Download all NLTK data\n",
        "nltk.download('all')\n",
        "\n",
        "# Now proceed with loading\n",
        "from langchain_community.document_loaders import DirectoryLoader\n",
        "path = \"data/\"\n",
        "loader = DirectoryLoader(path, glob=\"*.html\")\n",
        "docs = loader.load()"
      ]
    },
    {
      "cell_type": "code",
      "execution_count": 88,
      "metadata": {},
      "outputs": [],
      "source": [
        "# Now proceed with loading the HTML files\n",
        "from langchain_community.document_loaders import DirectoryLoader\n",
        "\n",
        "path = \"data/\"\n",
        "loader = DirectoryLoader(path, glob=\"*.html\")\n",
        "docs = loader.load()"
      ]
    },
    {
      "cell_type": "code",
      "execution_count": 89,
      "metadata": {},
      "outputs": [],
      "source": [
        "from ragas.llms import LangchainLLMWrapper\n",
        "from ragas.embeddings import LangchainEmbeddingsWrapper\n",
        "from langchain_openai import ChatOpenAI\n",
        "from langchain_openai import OpenAIEmbeddings\n",
        "generator_llm = LangchainLLMWrapper(ChatOpenAI(model=\"gpt-4o\"))\n",
        "generator_embeddings = LangchainEmbeddingsWrapper(OpenAIEmbeddings())"
      ]
    },
    {
      "cell_type": "code",
      "execution_count": 90,
      "metadata": {},
      "outputs": [
        {
          "data": {
            "application/vnd.jupyter.widget-view+json": {
              "model_id": "c147c6d7d7744ee0b67b60f6bd7769d4",
              "version_major": 2,
              "version_minor": 0
            },
            "text/plain": [
              "Applying HeadlinesExtractor:   0%|          | 0/3 [00:00<?, ?it/s]"
            ]
          },
          "metadata": {},
          "output_type": "display_data"
        },
        {
          "data": {
            "application/vnd.jupyter.widget-view+json": {
              "model_id": "b4c185e94d4f4c6388b134b68b154454",
              "version_major": 2,
              "version_minor": 0
            },
            "text/plain": [
              "Applying HeadlineSplitter:   0%|          | 0/5 [00:00<?, ?it/s]"
            ]
          },
          "metadata": {},
          "output_type": "display_data"
        },
        {
          "name": "stderr",
          "output_type": "stream",
          "text": [
            "unable to apply transformation: 'headlines' property not found in this node\n",
            "unable to apply transformation: 'headlines' property not found in this node\n"
          ]
        },
        {
          "data": {
            "application/vnd.jupyter.widget-view+json": {
              "model_id": "657dc01a520345a5bfbf3eb51a5b344f",
              "version_major": 2,
              "version_minor": 0
            },
            "text/plain": [
              "Applying SummaryExtractor:   0%|          | 0/3 [00:00<?, ?it/s]"
            ]
          },
          "metadata": {},
          "output_type": "display_data"
        },
        {
          "data": {
            "application/vnd.jupyter.widget-view+json": {
              "model_id": "3eba2b84954149e9b3b0ee21317cf77b",
              "version_major": 2,
              "version_minor": 0
            },
            "text/plain": [
              "Applying CustomNodeFilter:   0%|          | 0/18 [00:00<?, ?it/s]"
            ]
          },
          "metadata": {},
          "output_type": "display_data"
        },
        {
          "data": {
            "application/vnd.jupyter.widget-view+json": {
              "model_id": "1eba25043dee45d1b6f1728168f294aa",
              "version_major": 2,
              "version_minor": 0
            },
            "text/plain": [
              "Applying [EmbeddingExtractor, ThemesExtractor, NERExtractor]:   0%|          | 0/39 [00:00<?, ?it/s]"
            ]
          },
          "metadata": {},
          "output_type": "display_data"
        },
        {
          "data": {
            "application/vnd.jupyter.widget-view+json": {
              "model_id": "d4123d0d7dcb403d9146b0932b3a9f8b",
              "version_major": 2,
              "version_minor": 0
            },
            "text/plain": [
              "Applying [CosineSimilarityBuilder, OverlapScoreBuilder]:   0%|          | 0/2 [00:00<?, ?it/s]"
            ]
          },
          "metadata": {},
          "output_type": "display_data"
        },
        {
          "data": {
            "application/vnd.jupyter.widget-view+json": {
              "model_id": "51038bc478ab431498e106961789fa42",
              "version_major": 2,
              "version_minor": 0
            },
            "text/plain": [
              "Generating personas:   0%|          | 0/3 [00:00<?, ?it/s]"
            ]
          },
          "metadata": {},
          "output_type": "display_data"
        },
        {
          "data": {
            "application/vnd.jupyter.widget-view+json": {
              "model_id": "e593bb4c1d73406db569efd7141efa5f",
              "version_major": 2,
              "version_minor": 0
            },
            "text/plain": [
              "Generating Scenarios:   0%|          | 0/3 [00:00<?, ?it/s]"
            ]
          },
          "metadata": {},
          "output_type": "display_data"
        },
        {
          "data": {
            "application/vnd.jupyter.widget-view+json": {
              "model_id": "36f5b0f3334640268d36029023de9227",
              "version_major": 2,
              "version_minor": 0
            },
            "text/plain": [
              "Generating Samples:   0%|          | 0/12 [00:00<?, ?it/s]"
            ]
          },
          "metadata": {},
          "output_type": "display_data"
        }
      ],
      "source": [
        "from ragas.testset import TestsetGenerator\n",
        "\n",
        "generator = TestsetGenerator(llm=generator_llm, embedding_model=generator_embeddings)\n",
        "dataset = generator.generate_with_langchain_docs(docs, testset_size=10)"
      ]
    },
    {
      "cell_type": "code",
      "execution_count": 91,
      "metadata": {},
      "outputs": [
        {
          "data": {
            "text/html": [
              "<div>\n",
              "<style scoped>\n",
              "    .dataframe tbody tr th:only-of-type {\n",
              "        vertical-align: middle;\n",
              "    }\n",
              "\n",
              "    .dataframe tbody tr th {\n",
              "        vertical-align: top;\n",
              "    }\n",
              "\n",
              "    .dataframe thead th {\n",
              "        text-align: right;\n",
              "    }\n",
              "</style>\n",
              "<table border=\"1\" class=\"dataframe\">\n",
              "  <thead>\n",
              "    <tr style=\"text-align: right;\">\n",
              "      <th></th>\n",
              "      <th>user_input</th>\n",
              "      <th>reference_contexts</th>\n",
              "      <th>reference</th>\n",
              "      <th>synthesizer_name</th>\n",
              "    </tr>\n",
              "  </thead>\n",
              "  <tbody>\n",
              "    <tr>\n",
              "      <th>0</th>\n",
              "      <td>What role did OpenAI play in the development o...</td>\n",
              "      <td>[Gullibility is the biggest unsolved problem C...</td>\n",
              "      <td>A year ago, OpenAI was the only organization t...</td>\n",
              "      <td>single_hop_specifc_query_synthesizer</td>\n",
              "    </tr>\n",
              "    <tr>\n",
              "      <th>1</th>\n",
              "      <td>Does ChatGPT get lazy in Decembur, and how doe...</td>\n",
              "      <td>[that they haven’t shared yet. Vibes Based Dev...</td>\n",
              "      <td>The honest answer is 'maybe'! No-one is entire...</td>\n",
              "      <td>single_hop_specifc_query_synthesizer</td>\n",
              "    </tr>\n",
              "    <tr>\n",
              "      <th>2</th>\n",
              "      <td>What were the key developments in Large Langua...</td>\n",
              "      <td>[Simon Willison’s Weblog Subscribe Stuff we fi...</td>\n",
              "      <td>2023 was the breakthrough year for Large Langu...</td>\n",
              "      <td>single_hop_specifc_query_synthesizer</td>\n",
              "    </tr>\n",
              "    <tr>\n",
              "      <th>3</th>\n",
              "      <td>What insights did Simon Willison share about A...</td>\n",
              "      <td>[issues in a way that’s surprisingly easy to f...</td>\n",
              "      <td>Simon Willison shared insights on various AI d...</td>\n",
              "      <td>single_hop_specifc_query_synthesizer</td>\n",
              "    </tr>\n",
              "    <tr>\n",
              "      <th>4</th>\n",
              "      <td>Why is gullibility considered a major unsolved...</td>\n",
              "      <td>[&lt;1-hop&gt;\\n\\nGullibility is the biggest unsolve...</td>\n",
              "      <td>Gullibility is considered a major unsolved pro...</td>\n",
              "      <td>multi_hop_abstract_query_synthesizer</td>\n",
              "    </tr>\n",
              "    <tr>\n",
              "      <th>5</th>\n",
              "      <td>How does the uneven distribution of knowledge ...</td>\n",
              "      <td>[&lt;1-hop&gt;\\n\\nPrompt driven app generation is a ...</td>\n",
              "      <td>The uneven distribution of knowledge in AI tec...</td>\n",
              "      <td>multi_hop_abstract_query_synthesizer</td>\n",
              "    </tr>\n",
              "    <tr>\n",
              "      <th>6</th>\n",
              "      <td>How have advancements in large language models...</td>\n",
              "      <td>[&lt;1-hop&gt;\\n\\nGullibility is the biggest unsolve...</td>\n",
              "      <td>Advancements in large language models (LLMs) h...</td>\n",
              "      <td>multi_hop_abstract_query_synthesizer</td>\n",
              "    </tr>\n",
              "    <tr>\n",
              "      <th>7</th>\n",
              "      <td>What are the challenges in evaluating Large La...</td>\n",
              "      <td>[&lt;1-hop&gt;\\n\\nGullibility is the biggest unsolve...</td>\n",
              "      <td>Evaluating Large Language Models (LLMs) presen...</td>\n",
              "      <td>multi_hop_abstract_query_synthesizer</td>\n",
              "    </tr>\n",
              "    <tr>\n",
              "      <th>8</th>\n",
              "      <td>How did the advancements in large language mod...</td>\n",
              "      <td>[&lt;1-hop&gt;\\n\\nSimon Willison’s Weblog Subscribe ...</td>\n",
              "      <td>In 2024, significant advancements in large lan...</td>\n",
              "      <td>multi_hop_specific_query_synthesizer</td>\n",
              "    </tr>\n",
              "    <tr>\n",
              "      <th>9</th>\n",
              "      <td>How does the efficiency and cost-effectiveness...</td>\n",
              "      <td>[&lt;1-hop&gt;\\n\\nreasoning patterns. Another common...</td>\n",
              "      <td>GPT-4o is significantly more cost-effective co...</td>\n",
              "      <td>multi_hop_specific_query_synthesizer</td>\n",
              "    </tr>\n",
              "    <tr>\n",
              "      <th>10</th>\n",
              "      <td>What are the notable advancements and challeng...</td>\n",
              "      <td>[&lt;1-hop&gt;\\n\\nreasoning patterns. Another common...</td>\n",
              "      <td>In 2024, large language models (LLMs) like Cla...</td>\n",
              "      <td>multi_hop_specific_query_synthesizer</td>\n",
              "    </tr>\n",
              "    <tr>\n",
              "      <th>11</th>\n",
              "      <td>How does the environmental impact of training ...</td>\n",
              "      <td>[&lt;1-hop&gt;\\n\\nday after that. DeepSeek v3 is a h...</td>\n",
              "      <td>The environmental impact of training large lan...</td>\n",
              "      <td>multi_hop_specific_query_synthesizer</td>\n",
              "    </tr>\n",
              "  </tbody>\n",
              "</table>\n",
              "</div>"
            ],
            "text/plain": [
              "                                           user_input  \\\n",
              "0   What role did OpenAI play in the development o...   \n",
              "1   Does ChatGPT get lazy in Decembur, and how doe...   \n",
              "2   What were the key developments in Large Langua...   \n",
              "3   What insights did Simon Willison share about A...   \n",
              "4   Why is gullibility considered a major unsolved...   \n",
              "5   How does the uneven distribution of knowledge ...   \n",
              "6   How have advancements in large language models...   \n",
              "7   What are the challenges in evaluating Large La...   \n",
              "8   How did the advancements in large language mod...   \n",
              "9   How does the efficiency and cost-effectiveness...   \n",
              "10  What are the notable advancements and challeng...   \n",
              "11  How does the environmental impact of training ...   \n",
              "\n",
              "                                   reference_contexts  \\\n",
              "0   [Gullibility is the biggest unsolved problem C...   \n",
              "1   [that they haven’t shared yet. Vibes Based Dev...   \n",
              "2   [Simon Willison’s Weblog Subscribe Stuff we fi...   \n",
              "3   [issues in a way that’s surprisingly easy to f...   \n",
              "4   [<1-hop>\\n\\nGullibility is the biggest unsolve...   \n",
              "5   [<1-hop>\\n\\nPrompt driven app generation is a ...   \n",
              "6   [<1-hop>\\n\\nGullibility is the biggest unsolve...   \n",
              "7   [<1-hop>\\n\\nGullibility is the biggest unsolve...   \n",
              "8   [<1-hop>\\n\\nSimon Willison’s Weblog Subscribe ...   \n",
              "9   [<1-hop>\\n\\nreasoning patterns. Another common...   \n",
              "10  [<1-hop>\\n\\nreasoning patterns. Another common...   \n",
              "11  [<1-hop>\\n\\nday after that. DeepSeek v3 is a h...   \n",
              "\n",
              "                                            reference  \\\n",
              "0   A year ago, OpenAI was the only organization t...   \n",
              "1   The honest answer is 'maybe'! No-one is entire...   \n",
              "2   2023 was the breakthrough year for Large Langu...   \n",
              "3   Simon Willison shared insights on various AI d...   \n",
              "4   Gullibility is considered a major unsolved pro...   \n",
              "5   The uneven distribution of knowledge in AI tec...   \n",
              "6   Advancements in large language models (LLMs) h...   \n",
              "7   Evaluating Large Language Models (LLMs) presen...   \n",
              "8   In 2024, significant advancements in large lan...   \n",
              "9   GPT-4o is significantly more cost-effective co...   \n",
              "10  In 2024, large language models (LLMs) like Cla...   \n",
              "11  The environmental impact of training large lan...   \n",
              "\n",
              "                        synthesizer_name  \n",
              "0   single_hop_specifc_query_synthesizer  \n",
              "1   single_hop_specifc_query_synthesizer  \n",
              "2   single_hop_specifc_query_synthesizer  \n",
              "3   single_hop_specifc_query_synthesizer  \n",
              "4   multi_hop_abstract_query_synthesizer  \n",
              "5   multi_hop_abstract_query_synthesizer  \n",
              "6   multi_hop_abstract_query_synthesizer  \n",
              "7   multi_hop_abstract_query_synthesizer  \n",
              "8   multi_hop_specific_query_synthesizer  \n",
              "9   multi_hop_specific_query_synthesizer  \n",
              "10  multi_hop_specific_query_synthesizer  \n",
              "11  multi_hop_specific_query_synthesizer  "
            ]
          },
          "execution_count": 91,
          "metadata": {},
          "output_type": "execute_result"
        }
      ],
      "source": [
        "dataset.to_pandas()"
      ]
    },
    {
      "cell_type": "code",
      "execution_count": 92,
      "metadata": {},
      "outputs": [],
      "source": [
        "path = \"data/\"\n",
        "loader = DirectoryLoader(path, glob=\"*.html\")\n",
        "docs = loader.load()"
      ]
    },
    {
      "cell_type": "code",
      "execution_count": 93,
      "metadata": {},
      "outputs": [],
      "source": [
        "base_embeddings = HuggingFaceEmbeddings(model_name=\"Snowflake/snowflake-arctic-embed-l\")"
      ]
    },
    {
      "cell_type": "code",
      "execution_count": 94,
      "metadata": {},
      "outputs": [
        {
          "name": "stderr",
          "output_type": "stream",
          "text": [
            "Some weights of BertModel were not initialized from the model checkpoint at dataera2013/legal-ft-2 and are newly initialized: ['pooler.dense.bias', 'pooler.dense.weight']\n",
            "You should probably TRAIN this model on a down-stream task to be able to use it for predictions and inference.\n"
          ]
        }
      ],
      "source": [
        "ft_embeddings = HuggingFaceEmbeddings(model_name=\"dataera2013/legal-ft-2\")"
      ]
    },
    {
      "cell_type": "code",
      "execution_count": 95,
      "metadata": {},
      "outputs": [],
      "source": [
        "from langchain_qdrant import QdrantVectorStore\n",
        "from qdrant_client import QdrantClient\n",
        "from qdrant_client.http.models import Distance, VectorParams\n",
        "\n",
        "client = QdrantClient(\":memory:\")\n",
        "\n",
        "client.create_collection(\n",
        "    collection_name=\"base_ai_across_years\",\n",
        "    vectors_config=VectorParams(size=1024, distance=Distance.COSINE),\n",
        ")\n",
        "\n",
        "client.create_collection(\n",
        "    collection_name=\"ft_ai_across_years\",\n",
        "    vectors_config=VectorParams(size=1024, distance=Distance.COSINE),\n",
        ")\n",
        "\n",
        "base_vector_store = QdrantVectorStore(\n",
        "    client=client,\n",
        "    collection_name=\"base_ai_across_years\",\n",
        "    embedding=base_embeddings,\n",
        ")\n",
        "\n",
        "ft_vector_store = QdrantVectorStore(\n",
        "    client=client,\n",
        "    collection_name=\"ft_ai_across_years\",\n",
        "    embedding=ft_embeddings,\n",
        ")"
      ]
    },
    {
      "cell_type": "code",
      "execution_count": 96,
      "metadata": {},
      "outputs": [
        {
          "data": {
            "text/plain": [
              "117"
            ]
          },
          "execution_count": 96,
          "metadata": {},
          "output_type": "execute_result"
        }
      ],
      "source": [
        "from langchain.text_splitter import RecursiveCharacterTextSplitter\n",
        "\n",
        "text_splitter = RecursiveCharacterTextSplitter(chunk_size=1000, chunk_overlap=200)\n",
        "split_documents = text_splitter.split_documents(docs)\n",
        "len(split_documents)"
      ]
    },
    {
      "cell_type": "code",
      "execution_count": 97,
      "metadata": {},
      "outputs": [],
      "source": [
        "_ = base_vector_store.add_documents(documents=split_documents)"
      ]
    },
    {
      "cell_type": "code",
      "execution_count": 98,
      "metadata": {},
      "outputs": [],
      "source": [
        "__ = ft_vector_store.add_documents(documents=split_documents)"
      ]
    },
    {
      "cell_type": "code",
      "execution_count": 99,
      "metadata": {},
      "outputs": [],
      "source": [
        "base_retriever = base_vector_store.as_retriever(search_kwargs={\"k\": 5})\n",
        "ft_retriever = ft_vector_store.as_retriever(search_kwargs={\"k\": 5})"
      ]
    },
    {
      "cell_type": "code",
      "execution_count": 100,
      "metadata": {},
      "outputs": [],
      "source": [
        "def base_retrieve(state):\n",
        "  retrieved_docs = base_retriever.invoke(state[\"question\"])\n",
        "  return {\"context\" : retrieved_docs}\n",
        "\n",
        "def ft_retrieve(state): \n",
        "  retrieved_docs = ft_retriever.invoke(state[\"question\"])\n",
        "  return {\"context\" : retrieved_docs}"
      ]
    },
    {
      "cell_type": "code",
      "execution_count": 101,
      "metadata": {},
      "outputs": [],
      "source": [
        "from langchain.prompts import ChatPromptTemplate\n",
        "\n",
        "RAG_PROMPT = \"\"\"\\\n",
        "You are a helpful assistant who answers questions based on provided context. You must only use the provided context, and cannot use your own knowledge.\n",
        "\n",
        "### Question\n",
        "{question}\n",
        "\n",
        "### Context\n",
        "{context}\n",
        "\"\"\"\n",
        "\n",
        "rag_prompt = ChatPromptTemplate.from_template(RAG_PROMPT)"
      ]
    },
    {
      "cell_type": "code",
      "execution_count": 102,
      "metadata": {},
      "outputs": [],
      "source": [
        "from langchain_openai import ChatOpenAI\n",
        "\n",
        "llm = ChatOpenAI(model=\"gpt-4o-mini\")"
      ]
    },
    {
      "cell_type": "code",
      "execution_count": 103,
      "metadata": {},
      "outputs": [],
      "source": [
        "def generate(state):\n",
        "  docs_content = \"\\n\\n\".join(doc.page_content for doc in state[\"context\"])\n",
        "  messages = rag_prompt.format_messages(question=state[\"question\"], context=docs_content)\n",
        "  response = llm.invoke(messages)\n",
        "  return {\"response\" : response.content}"
      ]
    },
    {
      "cell_type": "code",
      "execution_count": 104,
      "metadata": {},
      "outputs": [],
      "source": [
        "from langgraph.graph import START, StateGraph\n",
        "from typing_extensions import List, TypedDict\n",
        "from langchain_core.documents import Document\n",
        "\n",
        "class BaseState(TypedDict):\n",
        "  question: str\n",
        "  context: List[Document]\n",
        "  response: str\n",
        "\n",
        "class FState(TypedDict):\n",
        "  question: str\n",
        "  context: List[Document]\n",
        "  response: str\n"
      ]
    },
    {
      "cell_type": "code",
      "execution_count": 105,
      "metadata": {},
      "outputs": [],
      "source": [
        "base_graph_builder = StateGraph(BaseState).add_sequence([base_retrieve, generate])\n",
        "base_graph_builder.add_edge(START, \"base_retrieve\")\n",
        "base_graph = base_graph_builder.compile()\n",
        "\n",
        "ft_graph_builder = StateGraph(FState).add_sequence([ft_retrieve, generate])\n",
        "ft_graph_builder.add_edge(START, \"ft_retrieve\")\n",
        "ft_graph = ft_graph_builder.compile()"
      ]
    },
    {
      "cell_type": "code",
      "execution_count": 106,
      "metadata": {},
      "outputs": [
        {
          "data": {
            "text/plain": [
              "'LLM agents can be useful in several ways, though they come with inherent challenges. They are particularly effective at writing code, utilizing the simpler grammar rules of programming languages, which makes them adept at assisting in software development. Additionally, they can help generate training data for smaller, more cost-effective models by leveraging larger models to create high-quality examples.\\n\\nHowever, the key to maximizing the utility of LLMs lies in understanding their power and unreliability. Users must develop skills to navigate their flaws and avoid pitfalls. There are good applications for LLMs, but realizing their value requires guidance and education, as well as recognition of their complexities. Ultimately, LLM agents have the potential for genuine value, particularly in tasks like coding, when used with an informed and careful approach.'"
            ]
          },
          "execution_count": 106,
          "metadata": {},
          "output_type": "execute_result"
        }
      ],
      "source": [
        "response = base_graph.invoke({\"question\" : \"How are LLM agents useful?\"})\n",
        "response[\"response\"]"
      ]
    },
    {
      "cell_type": "code",
      "execution_count": 107,
      "metadata": {},
      "outputs": [
        {
          "data": {
            "text/plain": [
              "'LLM agents are useful in various ways, particularly in enhancing productivity and decision-making. Here are some specific applications highlighted in the context:\\n\\n1. **Answering Questions**: LLMs are capable of providing answers to queries, making them valuable tools for information retrieval.\\n2. **Summarizing Documents**: They can condense large volumes of information into concise summaries, aiding in information processing.\\n3. **Language Translation**: LLMs facilitate communication by translating text from one language to another.\\n4. **Information Extraction**: They can extract relevant data from various sources, simplifying the analysis of information.\\n5. **Code Generation**: LLMs have shown competence in writing code, which can significantly improve workflow for programmers.\\n6. **Personal Productivity**: Users can leverage LLMs for personal tasks, enhancing their quality of life by improving efficiency and effectiveness in various activities.\\n\\nWhile there are many positive applications, the context also emphasizes the need for critical thinking and guidance when using these tools to avoid potential pitfalls and negative consequences.'"
            ]
          },
          "execution_count": 107,
          "metadata": {},
          "output_type": "execute_result"
        }
      ],
      "source": [
        "response = ft_graph.invoke({\"question\" : \"How are LLM agents useful?\"})\n",
        "response[\"response\"]"
      ]
    },
    {
      "cell_type": "code",
      "execution_count": 108,
      "metadata": {},
      "outputs": [],
      "source": [
        "base_dataset = dataset\n",
        "ft_dataset = dataset\n",
        "\n",
        "for base_test_row in base_dataset:\n",
        "  base_response = base_graph.invoke({\"question\" : base_test_row.eval_sample.user_input})\n",
        "  base_test_row.eval_sample.response = base_response[\"response\"]\n",
        "  base_test_row.eval_sample.retrieved_contexts = [context.page_content for context in base_response[\"context\"]]\n",
        "\n",
        "for ft_test_row in ft_dataset:\n",
        "  ft_response = ft_graph.invoke({\"question\" : ft_test_row.eval_sample.user_input})\n",
        "  ft_test_row.eval_sample.response = ft_response[\"response\"]\n",
        "  ft_test_row.eval_sample.retrieved_contexts = [context.page_content for context in ft_response[\"context\"]]"
      ]
    },
    {
      "cell_type": "code",
      "execution_count": 109,
      "metadata": {},
      "outputs": [
        {
          "data": {
            "text/html": [
              "<div>\n",
              "<style scoped>\n",
              "    .dataframe tbody tr th:only-of-type {\n",
              "        vertical-align: middle;\n",
              "    }\n",
              "\n",
              "    .dataframe tbody tr th {\n",
              "        vertical-align: top;\n",
              "    }\n",
              "\n",
              "    .dataframe thead th {\n",
              "        text-align: right;\n",
              "    }\n",
              "</style>\n",
              "<table border=\"1\" class=\"dataframe\">\n",
              "  <thead>\n",
              "    <tr style=\"text-align: right;\">\n",
              "      <th></th>\n",
              "      <th>user_input</th>\n",
              "      <th>retrieved_contexts</th>\n",
              "      <th>reference_contexts</th>\n",
              "      <th>response</th>\n",
              "      <th>reference</th>\n",
              "      <th>synthesizer_name</th>\n",
              "    </tr>\n",
              "  </thead>\n",
              "  <tbody>\n",
              "    <tr>\n",
              "      <th>0</th>\n",
              "      <td>What role did OpenAI play in the development o...</td>\n",
              "      <td>[Simon Willison’s Weblog\\n\\nSubscribe\\n\\nStuff...</td>\n",
              "      <td>[Gullibility is the biggest unsolved problem C...</td>\n",
              "      <td>OpenAI played a significant role in the develo...</td>\n",
              "      <td>A year ago, OpenAI was the only organization t...</td>\n",
              "      <td>single_hop_specifc_query_synthesizer</td>\n",
              "    </tr>\n",
              "    <tr>\n",
              "      <th>1</th>\n",
              "      <td>Does ChatGPT get lazy in Decembur, and how doe...</td>\n",
              "      <td>[But on the other hand, the things you sometim...</td>\n",
              "      <td>[that they haven’t shared yet. Vibes Based Dev...</td>\n",
              "      <td>Yes, ChatGPT may get \"lazy\" in December, as it...</td>\n",
              "      <td>The honest answer is 'maybe'! No-one is entire...</td>\n",
              "      <td>single_hop_specifc_query_synthesizer</td>\n",
              "    </tr>\n",
              "    <tr>\n",
              "      <th>2</th>\n",
              "      <td>What were the key developments in Large Langua...</td>\n",
              "      <td>[Simon Willison’s Weblog\\n\\nSubscribe\\n\\nStuff...</td>\n",
              "      <td>[Simon Willison’s Weblog Subscribe Stuff we fi...</td>\n",
              "      <td>In 2023, the key developments in Large Languag...</td>\n",
              "      <td>2023 was the breakthrough year for Large Langu...</td>\n",
              "      <td>single_hop_specifc_query_synthesizer</td>\n",
              "    </tr>\n",
              "    <tr>\n",
              "      <th>3</th>\n",
              "      <td>What insights did Simon Willison share about A...</td>\n",
              "      <td>[Simon Willison’s Weblog\\n\\nSubscribe\\n\\nStuff...</td>\n",
              "      <td>[issues in a way that’s surprisingly easy to f...</td>\n",
              "      <td>In 2023, Simon Willison highlighted several ke...</td>\n",
              "      <td>Simon Willison shared insights on various AI d...</td>\n",
              "      <td>single_hop_specifc_query_synthesizer</td>\n",
              "    </tr>\n",
              "    <tr>\n",
              "      <th>4</th>\n",
              "      <td>Why is gullibility considered a major unsolved...</td>\n",
              "      <td>[Gullibility is the biggest unsolved problem\\n...</td>\n",
              "      <td>[&lt;1-hop&gt;\\n\\nGullibility is the biggest unsolve...</td>\n",
              "      <td>Gullibility is considered a major unsolved pro...</td>\n",
              "      <td>Gullibility is considered a major unsolved pro...</td>\n",
              "      <td>multi_hop_abstract_query_synthesizer</td>\n",
              "    </tr>\n",
              "    <tr>\n",
              "      <th>5</th>\n",
              "      <td>How does the uneven distribution of knowledge ...</td>\n",
              "      <td>[There is so much space for helpful education ...</td>\n",
              "      <td>[&lt;1-hop&gt;\\n\\nPrompt driven app generation is a ...</td>\n",
              "      <td>The uneven distribution of knowledge in AI tec...</td>\n",
              "      <td>The uneven distribution of knowledge in AI tec...</td>\n",
              "      <td>multi_hop_abstract_query_synthesizer</td>\n",
              "    </tr>\n",
              "    <tr>\n",
              "      <th>6</th>\n",
              "      <td>How have advancements in large language models...</td>\n",
              "      <td>[Simon Willison’s Weblog\\n\\nSubscribe\\n\\nStuff...</td>\n",
              "      <td>[&lt;1-hop&gt;\\n\\nGullibility is the biggest unsolve...</td>\n",
              "      <td>Advancements in large language models (LLMs) h...</td>\n",
              "      <td>Advancements in large language models (LLMs) h...</td>\n",
              "      <td>multi_hop_abstract_query_synthesizer</td>\n",
              "    </tr>\n",
              "    <tr>\n",
              "      <th>7</th>\n",
              "      <td>What are the challenges in evaluating Large La...</td>\n",
              "      <td>[Code may be the best application\\n\\nThe ethic...</td>\n",
              "      <td>[&lt;1-hop&gt;\\n\\nGullibility is the biggest unsolve...</td>\n",
              "      <td>Evaluating Large Language Models (LLMs) presen...</td>\n",
              "      <td>Evaluating Large Language Models (LLMs) presen...</td>\n",
              "      <td>multi_hop_abstract_query_synthesizer</td>\n",
              "    </tr>\n",
              "    <tr>\n",
              "      <th>8</th>\n",
              "      <td>How did the advancements in large language mod...</td>\n",
              "      <td>[Key AI Developments in Early 2024\\n\\nPublishe...</td>\n",
              "      <td>[&lt;1-hop&gt;\\n\\nSimon Willison’s Weblog Subscribe ...</td>\n",
              "      <td>The advancements in large language models (LLM...</td>\n",
              "      <td>In 2024, significant advancements in large lan...</td>\n",
              "      <td>multi_hop_specific_query_synthesizer</td>\n",
              "    </tr>\n",
              "    <tr>\n",
              "      <th>9</th>\n",
              "      <td>How does the efficiency and cost-effectiveness...</td>\n",
              "      <td>[Today $30/mTok gets you OpenAI’s most expensi...</td>\n",
              "      <td>[&lt;1-hop&gt;\\n\\nreasoning patterns. Another common...</td>\n",
              "      <td>GPT-4o is significantly more efficient and cos...</td>\n",
              "      <td>GPT-4o is significantly more cost-effective co...</td>\n",
              "      <td>multi_hop_specific_query_synthesizer</td>\n",
              "    </tr>\n",
              "    <tr>\n",
              "      <th>10</th>\n",
              "      <td>What are the notable advancements and challeng...</td>\n",
              "      <td>[Key AI Developments in Early 2024\\n\\nPublishe...</td>\n",
              "      <td>[&lt;1-hop&gt;\\n\\nreasoning patterns. Another common...</td>\n",
              "      <td>In 2024, notable advancements and challenges a...</td>\n",
              "      <td>In 2024, large language models (LLMs) like Cla...</td>\n",
              "      <td>multi_hop_specific_query_synthesizer</td>\n",
              "    </tr>\n",
              "    <tr>\n",
              "      <th>11</th>\n",
              "      <td>How does the environmental impact of training ...</td>\n",
              "      <td>[The much bigger problem here is the enormous ...</td>\n",
              "      <td>[&lt;1-hop&gt;\\n\\nday after that. DeepSeek v3 is a h...</td>\n",
              "      <td>The environmental impact of training large lan...</td>\n",
              "      <td>The environmental impact of training large lan...</td>\n",
              "      <td>multi_hop_specific_query_synthesizer</td>\n",
              "    </tr>\n",
              "  </tbody>\n",
              "</table>\n",
              "</div>"
            ],
            "text/plain": [
              "                                           user_input  \\\n",
              "0   What role did OpenAI play in the development o...   \n",
              "1   Does ChatGPT get lazy in Decembur, and how doe...   \n",
              "2   What were the key developments in Large Langua...   \n",
              "3   What insights did Simon Willison share about A...   \n",
              "4   Why is gullibility considered a major unsolved...   \n",
              "5   How does the uneven distribution of knowledge ...   \n",
              "6   How have advancements in large language models...   \n",
              "7   What are the challenges in evaluating Large La...   \n",
              "8   How did the advancements in large language mod...   \n",
              "9   How does the efficiency and cost-effectiveness...   \n",
              "10  What are the notable advancements and challeng...   \n",
              "11  How does the environmental impact of training ...   \n",
              "\n",
              "                                   retrieved_contexts  \\\n",
              "0   [Simon Willison’s Weblog\\n\\nSubscribe\\n\\nStuff...   \n",
              "1   [But on the other hand, the things you sometim...   \n",
              "2   [Simon Willison’s Weblog\\n\\nSubscribe\\n\\nStuff...   \n",
              "3   [Simon Willison’s Weblog\\n\\nSubscribe\\n\\nStuff...   \n",
              "4   [Gullibility is the biggest unsolved problem\\n...   \n",
              "5   [There is so much space for helpful education ...   \n",
              "6   [Simon Willison’s Weblog\\n\\nSubscribe\\n\\nStuff...   \n",
              "7   [Code may be the best application\\n\\nThe ethic...   \n",
              "8   [Key AI Developments in Early 2024\\n\\nPublishe...   \n",
              "9   [Today $30/mTok gets you OpenAI’s most expensi...   \n",
              "10  [Key AI Developments in Early 2024\\n\\nPublishe...   \n",
              "11  [The much bigger problem here is the enormous ...   \n",
              "\n",
              "                                   reference_contexts  \\\n",
              "0   [Gullibility is the biggest unsolved problem C...   \n",
              "1   [that they haven’t shared yet. Vibes Based Dev...   \n",
              "2   [Simon Willison’s Weblog Subscribe Stuff we fi...   \n",
              "3   [issues in a way that’s surprisingly easy to f...   \n",
              "4   [<1-hop>\\n\\nGullibility is the biggest unsolve...   \n",
              "5   [<1-hop>\\n\\nPrompt driven app generation is a ...   \n",
              "6   [<1-hop>\\n\\nGullibility is the biggest unsolve...   \n",
              "7   [<1-hop>\\n\\nGullibility is the biggest unsolve...   \n",
              "8   [<1-hop>\\n\\nSimon Willison’s Weblog Subscribe ...   \n",
              "9   [<1-hop>\\n\\nreasoning patterns. Another common...   \n",
              "10  [<1-hop>\\n\\nreasoning patterns. Another common...   \n",
              "11  [<1-hop>\\n\\nday after that. DeepSeek v3 is a h...   \n",
              "\n",
              "                                             response  \\\n",
              "0   OpenAI played a significant role in the develo...   \n",
              "1   Yes, ChatGPT may get \"lazy\" in December, as it...   \n",
              "2   In 2023, the key developments in Large Languag...   \n",
              "3   In 2023, Simon Willison highlighted several ke...   \n",
              "4   Gullibility is considered a major unsolved pro...   \n",
              "5   The uneven distribution of knowledge in AI tec...   \n",
              "6   Advancements in large language models (LLMs) h...   \n",
              "7   Evaluating Large Language Models (LLMs) presen...   \n",
              "8   The advancements in large language models (LLM...   \n",
              "9   GPT-4o is significantly more efficient and cos...   \n",
              "10  In 2024, notable advancements and challenges a...   \n",
              "11  The environmental impact of training large lan...   \n",
              "\n",
              "                                            reference  \\\n",
              "0   A year ago, OpenAI was the only organization t...   \n",
              "1   The honest answer is 'maybe'! No-one is entire...   \n",
              "2   2023 was the breakthrough year for Large Langu...   \n",
              "3   Simon Willison shared insights on various AI d...   \n",
              "4   Gullibility is considered a major unsolved pro...   \n",
              "5   The uneven distribution of knowledge in AI tec...   \n",
              "6   Advancements in large language models (LLMs) h...   \n",
              "7   Evaluating Large Language Models (LLMs) presen...   \n",
              "8   In 2024, significant advancements in large lan...   \n",
              "9   GPT-4o is significantly more cost-effective co...   \n",
              "10  In 2024, large language models (LLMs) like Cla...   \n",
              "11  The environmental impact of training large lan...   \n",
              "\n",
              "                        synthesizer_name  \n",
              "0   single_hop_specifc_query_synthesizer  \n",
              "1   single_hop_specifc_query_synthesizer  \n",
              "2   single_hop_specifc_query_synthesizer  \n",
              "3   single_hop_specifc_query_synthesizer  \n",
              "4   multi_hop_abstract_query_synthesizer  \n",
              "5   multi_hop_abstract_query_synthesizer  \n",
              "6   multi_hop_abstract_query_synthesizer  \n",
              "7   multi_hop_abstract_query_synthesizer  \n",
              "8   multi_hop_specific_query_synthesizer  \n",
              "9   multi_hop_specific_query_synthesizer  \n",
              "10  multi_hop_specific_query_synthesizer  \n",
              "11  multi_hop_specific_query_synthesizer  "
            ]
          },
          "execution_count": 109,
          "metadata": {},
          "output_type": "execute_result"
        }
      ],
      "source": [
        "base_dataset.to_pandas()"
      ]
    },
    {
      "cell_type": "code",
      "execution_count": 110,
      "metadata": {},
      "outputs": [
        {
          "data": {
            "text/html": [
              "<div>\n",
              "<style scoped>\n",
              "    .dataframe tbody tr th:only-of-type {\n",
              "        vertical-align: middle;\n",
              "    }\n",
              "\n",
              "    .dataframe tbody tr th {\n",
              "        vertical-align: top;\n",
              "    }\n",
              "\n",
              "    .dataframe thead th {\n",
              "        text-align: right;\n",
              "    }\n",
              "</style>\n",
              "<table border=\"1\" class=\"dataframe\">\n",
              "  <thead>\n",
              "    <tr style=\"text-align: right;\">\n",
              "      <th></th>\n",
              "      <th>user_input</th>\n",
              "      <th>retrieved_contexts</th>\n",
              "      <th>reference_contexts</th>\n",
              "      <th>response</th>\n",
              "      <th>reference</th>\n",
              "      <th>synthesizer_name</th>\n",
              "    </tr>\n",
              "  </thead>\n",
              "  <tbody>\n",
              "    <tr>\n",
              "      <th>0</th>\n",
              "      <td>What role did OpenAI play in the development o...</td>\n",
              "      <td>[Simon Willison’s Weblog\\n\\nSubscribe\\n\\nStuff...</td>\n",
              "      <td>[Gullibility is the biggest unsolved problem C...</td>\n",
              "      <td>OpenAI played a significant role in the develo...</td>\n",
              "      <td>A year ago, OpenAI was the only organization t...</td>\n",
              "      <td>single_hop_specifc_query_synthesizer</td>\n",
              "    </tr>\n",
              "    <tr>\n",
              "      <th>1</th>\n",
              "      <td>Does ChatGPT get lazy in Decembur, and how doe...</td>\n",
              "      <td>[But on the other hand, the things you sometim...</td>\n",
              "      <td>[that they haven’t shared yet. Vibes Based Dev...</td>\n",
              "      <td>Yes, ChatGPT may get \"lazy\" in December, as it...</td>\n",
              "      <td>The honest answer is 'maybe'! No-one is entire...</td>\n",
              "      <td>single_hop_specifc_query_synthesizer</td>\n",
              "    </tr>\n",
              "    <tr>\n",
              "      <th>2</th>\n",
              "      <td>What were the key developments in Large Langua...</td>\n",
              "      <td>[Simon Willison’s Weblog\\n\\nSubscribe\\n\\nStuff...</td>\n",
              "      <td>[Simon Willison’s Weblog Subscribe Stuff we fi...</td>\n",
              "      <td>In 2023, the key developments in Large Languag...</td>\n",
              "      <td>2023 was the breakthrough year for Large Langu...</td>\n",
              "      <td>single_hop_specifc_query_synthesizer</td>\n",
              "    </tr>\n",
              "    <tr>\n",
              "      <th>3</th>\n",
              "      <td>What insights did Simon Willison share about A...</td>\n",
              "      <td>[Simon Willison’s Weblog\\n\\nSubscribe\\n\\nStuff...</td>\n",
              "      <td>[issues in a way that’s surprisingly easy to f...</td>\n",
              "      <td>In 2023, Simon Willison highlighted several ke...</td>\n",
              "      <td>Simon Willison shared insights on various AI d...</td>\n",
              "      <td>single_hop_specifc_query_synthesizer</td>\n",
              "    </tr>\n",
              "    <tr>\n",
              "      <th>4</th>\n",
              "      <td>Why is gullibility considered a major unsolved...</td>\n",
              "      <td>[Gullibility is the biggest unsolved problem\\n...</td>\n",
              "      <td>[&lt;1-hop&gt;\\n\\nGullibility is the biggest unsolve...</td>\n",
              "      <td>Gullibility is considered a major unsolved pro...</td>\n",
              "      <td>Gullibility is considered a major unsolved pro...</td>\n",
              "      <td>multi_hop_abstract_query_synthesizer</td>\n",
              "    </tr>\n",
              "    <tr>\n",
              "      <th>5</th>\n",
              "      <td>How does the uneven distribution of knowledge ...</td>\n",
              "      <td>[There is so much space for helpful education ...</td>\n",
              "      <td>[&lt;1-hop&gt;\\n\\nPrompt driven app generation is a ...</td>\n",
              "      <td>The uneven distribution of knowledge in AI tec...</td>\n",
              "      <td>The uneven distribution of knowledge in AI tec...</td>\n",
              "      <td>multi_hop_abstract_query_synthesizer</td>\n",
              "    </tr>\n",
              "    <tr>\n",
              "      <th>6</th>\n",
              "      <td>How have advancements in large language models...</td>\n",
              "      <td>[Simon Willison’s Weblog\\n\\nSubscribe\\n\\nStuff...</td>\n",
              "      <td>[&lt;1-hop&gt;\\n\\nGullibility is the biggest unsolve...</td>\n",
              "      <td>Advancements in large language models (LLMs) h...</td>\n",
              "      <td>Advancements in large language models (LLMs) h...</td>\n",
              "      <td>multi_hop_abstract_query_synthesizer</td>\n",
              "    </tr>\n",
              "    <tr>\n",
              "      <th>7</th>\n",
              "      <td>What are the challenges in evaluating Large La...</td>\n",
              "      <td>[Code may be the best application\\n\\nThe ethic...</td>\n",
              "      <td>[&lt;1-hop&gt;\\n\\nGullibility is the biggest unsolve...</td>\n",
              "      <td>Evaluating Large Language Models (LLMs) presen...</td>\n",
              "      <td>Evaluating Large Language Models (LLMs) presen...</td>\n",
              "      <td>multi_hop_abstract_query_synthesizer</td>\n",
              "    </tr>\n",
              "    <tr>\n",
              "      <th>8</th>\n",
              "      <td>How did the advancements in large language mod...</td>\n",
              "      <td>[Key AI Developments in Early 2024\\n\\nPublishe...</td>\n",
              "      <td>[&lt;1-hop&gt;\\n\\nSimon Willison’s Weblog Subscribe ...</td>\n",
              "      <td>The advancements in large language models (LLM...</td>\n",
              "      <td>In 2024, significant advancements in large lan...</td>\n",
              "      <td>multi_hop_specific_query_synthesizer</td>\n",
              "    </tr>\n",
              "    <tr>\n",
              "      <th>9</th>\n",
              "      <td>How does the efficiency and cost-effectiveness...</td>\n",
              "      <td>[Today $30/mTok gets you OpenAI’s most expensi...</td>\n",
              "      <td>[&lt;1-hop&gt;\\n\\nreasoning patterns. Another common...</td>\n",
              "      <td>GPT-4o is significantly more efficient and cos...</td>\n",
              "      <td>GPT-4o is significantly more cost-effective co...</td>\n",
              "      <td>multi_hop_specific_query_synthesizer</td>\n",
              "    </tr>\n",
              "    <tr>\n",
              "      <th>10</th>\n",
              "      <td>What are the notable advancements and challeng...</td>\n",
              "      <td>[Key AI Developments in Early 2024\\n\\nPublishe...</td>\n",
              "      <td>[&lt;1-hop&gt;\\n\\nreasoning patterns. Another common...</td>\n",
              "      <td>In 2024, notable advancements and challenges a...</td>\n",
              "      <td>In 2024, large language models (LLMs) like Cla...</td>\n",
              "      <td>multi_hop_specific_query_synthesizer</td>\n",
              "    </tr>\n",
              "    <tr>\n",
              "      <th>11</th>\n",
              "      <td>How does the environmental impact of training ...</td>\n",
              "      <td>[The much bigger problem here is the enormous ...</td>\n",
              "      <td>[&lt;1-hop&gt;\\n\\nday after that. DeepSeek v3 is a h...</td>\n",
              "      <td>The environmental impact of training large lan...</td>\n",
              "      <td>The environmental impact of training large lan...</td>\n",
              "      <td>multi_hop_specific_query_synthesizer</td>\n",
              "    </tr>\n",
              "  </tbody>\n",
              "</table>\n",
              "</div>"
            ],
            "text/plain": [
              "                                           user_input  \\\n",
              "0   What role did OpenAI play in the development o...   \n",
              "1   Does ChatGPT get lazy in Decembur, and how doe...   \n",
              "2   What were the key developments in Large Langua...   \n",
              "3   What insights did Simon Willison share about A...   \n",
              "4   Why is gullibility considered a major unsolved...   \n",
              "5   How does the uneven distribution of knowledge ...   \n",
              "6   How have advancements in large language models...   \n",
              "7   What are the challenges in evaluating Large La...   \n",
              "8   How did the advancements in large language mod...   \n",
              "9   How does the efficiency and cost-effectiveness...   \n",
              "10  What are the notable advancements and challeng...   \n",
              "11  How does the environmental impact of training ...   \n",
              "\n",
              "                                   retrieved_contexts  \\\n",
              "0   [Simon Willison’s Weblog\\n\\nSubscribe\\n\\nStuff...   \n",
              "1   [But on the other hand, the things you sometim...   \n",
              "2   [Simon Willison’s Weblog\\n\\nSubscribe\\n\\nStuff...   \n",
              "3   [Simon Willison’s Weblog\\n\\nSubscribe\\n\\nStuff...   \n",
              "4   [Gullibility is the biggest unsolved problem\\n...   \n",
              "5   [There is so much space for helpful education ...   \n",
              "6   [Simon Willison’s Weblog\\n\\nSubscribe\\n\\nStuff...   \n",
              "7   [Code may be the best application\\n\\nThe ethic...   \n",
              "8   [Key AI Developments in Early 2024\\n\\nPublishe...   \n",
              "9   [Today $30/mTok gets you OpenAI’s most expensi...   \n",
              "10  [Key AI Developments in Early 2024\\n\\nPublishe...   \n",
              "11  [The much bigger problem here is the enormous ...   \n",
              "\n",
              "                                   reference_contexts  \\\n",
              "0   [Gullibility is the biggest unsolved problem C...   \n",
              "1   [that they haven’t shared yet. Vibes Based Dev...   \n",
              "2   [Simon Willison’s Weblog Subscribe Stuff we fi...   \n",
              "3   [issues in a way that’s surprisingly easy to f...   \n",
              "4   [<1-hop>\\n\\nGullibility is the biggest unsolve...   \n",
              "5   [<1-hop>\\n\\nPrompt driven app generation is a ...   \n",
              "6   [<1-hop>\\n\\nGullibility is the biggest unsolve...   \n",
              "7   [<1-hop>\\n\\nGullibility is the biggest unsolve...   \n",
              "8   [<1-hop>\\n\\nSimon Willison’s Weblog Subscribe ...   \n",
              "9   [<1-hop>\\n\\nreasoning patterns. Another common...   \n",
              "10  [<1-hop>\\n\\nreasoning patterns. Another common...   \n",
              "11  [<1-hop>\\n\\nday after that. DeepSeek v3 is a h...   \n",
              "\n",
              "                                             response  \\\n",
              "0   OpenAI played a significant role in the develo...   \n",
              "1   Yes, ChatGPT may get \"lazy\" in December, as it...   \n",
              "2   In 2023, the key developments in Large Languag...   \n",
              "3   In 2023, Simon Willison highlighted several ke...   \n",
              "4   Gullibility is considered a major unsolved pro...   \n",
              "5   The uneven distribution of knowledge in AI tec...   \n",
              "6   Advancements in large language models (LLMs) h...   \n",
              "7   Evaluating Large Language Models (LLMs) presen...   \n",
              "8   The advancements in large language models (LLM...   \n",
              "9   GPT-4o is significantly more efficient and cos...   \n",
              "10  In 2024, notable advancements and challenges a...   \n",
              "11  The environmental impact of training large lan...   \n",
              "\n",
              "                                            reference  \\\n",
              "0   A year ago, OpenAI was the only organization t...   \n",
              "1   The honest answer is 'maybe'! No-one is entire...   \n",
              "2   2023 was the breakthrough year for Large Langu...   \n",
              "3   Simon Willison shared insights on various AI d...   \n",
              "4   Gullibility is considered a major unsolved pro...   \n",
              "5   The uneven distribution of knowledge in AI tec...   \n",
              "6   Advancements in large language models (LLMs) h...   \n",
              "7   Evaluating Large Language Models (LLMs) presen...   \n",
              "8   In 2024, significant advancements in large lan...   \n",
              "9   GPT-4o is significantly more cost-effective co...   \n",
              "10  In 2024, large language models (LLMs) like Cla...   \n",
              "11  The environmental impact of training large lan...   \n",
              "\n",
              "                        synthesizer_name  \n",
              "0   single_hop_specifc_query_synthesizer  \n",
              "1   single_hop_specifc_query_synthesizer  \n",
              "2   single_hop_specifc_query_synthesizer  \n",
              "3   single_hop_specifc_query_synthesizer  \n",
              "4   multi_hop_abstract_query_synthesizer  \n",
              "5   multi_hop_abstract_query_synthesizer  \n",
              "6   multi_hop_abstract_query_synthesizer  \n",
              "7   multi_hop_abstract_query_synthesizer  \n",
              "8   multi_hop_specific_query_synthesizer  \n",
              "9   multi_hop_specific_query_synthesizer  \n",
              "10  multi_hop_specific_query_synthesizer  \n",
              "11  multi_hop_specific_query_synthesizer  "
            ]
          },
          "execution_count": 110,
          "metadata": {},
          "output_type": "execute_result"
        }
      ],
      "source": [
        "ft_dataset.to_pandas()"
      ]
    },
    {
      "cell_type": "code",
      "execution_count": 111,
      "metadata": {},
      "outputs": [],
      "source": [
        "from ragas import EvaluationDataset\n",
        "\n",
        "base_evaluation_dataset = EvaluationDataset.from_pandas(base_dataset.to_pandas())\n",
        "ft_evaluation_dataset = EvaluationDataset.from_pandas(ft_dataset.to_pandas())"
      ]
    },
    {
      "cell_type": "code",
      "execution_count": 112,
      "metadata": {},
      "outputs": [],
      "source": [
        "from ragas import evaluate\n",
        "from ragas.llms import LangchainLLMWrapper\n",
        "\n",
        "evaluator_llm = LangchainLLMWrapper(ChatOpenAI(model=\"gpt-4o-mini\"))"
      ]
    },
    {
      "cell_type": "code",
      "execution_count": 113,
      "metadata": {},
      "outputs": [
        {
          "data": {
            "application/vnd.jupyter.widget-view+json": {
              "model_id": "97647ce6a0be4be8aa99640141ce898b",
              "version_major": 2,
              "version_minor": 0
            },
            "text/plain": [
              "Evaluating:   0%|          | 0/72 [00:00<?, ?it/s]"
            ]
          },
          "metadata": {},
          "output_type": "display_data"
        },
        {
          "data": {
            "application/vnd.jupyter.widget-view+json": {
              "model_id": "b461c40caee14624a78125195ce6d424",
              "version_major": 2,
              "version_minor": 0
            },
            "text/plain": [
              "Evaluating:   0%|          | 0/72 [00:00<?, ?it/s]"
            ]
          },
          "metadata": {},
          "output_type": "display_data"
        }
      ],
      "source": [
        "from ragas.metrics import LLMContextRecall, Faithfulness, FactualCorrectness, ResponseRelevancy, ContextEntityRecall, NoiseSensitivity\n",
        "from ragas import evaluate, RunConfig\n",
        "\n",
        "custom_run_config = RunConfig(timeout=360)\n",
        "\n",
        "base_result = evaluate(\n",
        "    dataset=base_evaluation_dataset,\n",
        "    metrics=[LLMContextRecall(), Faithfulness(), FactualCorrectness(), ResponseRelevancy(), ContextEntityRecall(), NoiseSensitivity()],\n",
        "    llm=evaluator_llm,\n",
        "    run_config=custom_run_config\n",
        ")\n",
        "\n",
        "ft_result = evaluate(\n",
        "    dataset=ft_evaluation_dataset,\n",
        "    metrics=[LLMContextRecall(), Faithfulness(), FactualCorrectness(), ResponseRelevancy(), ContextEntityRecall(), NoiseSensitivity()],\n",
        "    llm=evaluator_llm,\n",
        "    run_config=custom_run_config\n",
        ")"
      ]
    },
    {
      "cell_type": "code",
      "execution_count": 114,
      "metadata": {},
      "outputs": [
        {
          "data": {
            "text/plain": [
              "{'context_recall': 0.7302, 'faithfulness': 0.8521, 'factual_correctness': 0.5267, 'answer_relevancy': 0.7904, 'context_entity_recall': 0.2991, 'noise_sensitivity_relevant': 0.2556}"
            ]
          },
          "execution_count": 114,
          "metadata": {},
          "output_type": "execute_result"
        }
      ],
      "source": [
        "base_result"
      ]
    },
    {
      "cell_type": "code",
      "execution_count": 115,
      "metadata": {},
      "outputs": [
        {
          "data": {
            "text/plain": [
              "{'context_recall': 0.7778, 'faithfulness': 0.8532, 'factual_correctness': 0.5658, 'answer_relevancy': 0.7909, 'context_entity_recall': 0.3107, 'noise_sensitivity_relevant': 0.2628}"
            ]
          },
          "execution_count": 115,
          "metadata": {},
          "output_type": "execute_result"
        }
      ],
      "source": [
        "ft_result"
      ]
    }
  ],
  "metadata": {
    "accelerator": "GPU",
    "colab": {
      "gpuType": "L4",
      "machine_shape": "hm",
      "provenance": []
    },
    "kernelspec": {
      "display_name": ".venv",
      "language": "python",
      "name": "python3"
    },
    "language_info": {
      "codemirror_mode": {
        "name": "ipython",
        "version": 3
      },
      "file_extension": ".py",
      "mimetype": "text/x-python",
      "name": "python",
      "nbconvert_exporter": "python",
      "pygments_lexer": "ipython3",
      "version": "3.13.1"
    },
    "widgets": {
      "application/vnd.jupyter.widget-state+json": {
        "006bf6f5ebaf400486a6b82610381db0": {
          "model_module": "@jupyter-widgets/controls",
          "model_module_version": "1.5.0",
          "model_name": "DescriptionStyleModel",
          "state": {
            "_model_module": "@jupyter-widgets/controls",
            "_model_module_version": "1.5.0",
            "_model_name": "DescriptionStyleModel",
            "_view_count": null,
            "_view_module": "@jupyter-widgets/base",
            "_view_module_version": "1.2.0",
            "_view_name": "StyleView",
            "description_width": ""
          }
        },
        "0d3fc6edfdab4fe9aff8e805632eadad": {
          "model_module": "@jupyter-widgets/controls",
          "model_module_version": "1.5.0",
          "model_name": "HBoxModel",
          "state": {
            "_dom_classes": [],
            "_model_module": "@jupyter-widgets/controls",
            "_model_module_version": "1.5.0",
            "_model_name": "HBoxModel",
            "_view_count": null,
            "_view_module": "@jupyter-widgets/controls",
            "_view_module_version": "1.5.0",
            "_view_name": "HBoxView",
            "box_style": "",
            "children": [
              "IPY_MODEL_ebe8aa7a82124b57bce2d826c1dea0fa",
              "IPY_MODEL_aa11c10b4234452d9430744ab89b59a2",
              "IPY_MODEL_ca05cbcd72cb41d9856804ffb17b26cb"
            ],
            "layout": "IPY_MODEL_cc2a33e9a7ac4c5699346fcbf53b7c95"
          }
        },
        "1016780729b04ba489d488922173ddae": {
          "model_module": "@jupyter-widgets/controls",
          "model_module_version": "1.5.0",
          "model_name": "CheckboxModel",
          "state": {
            "_dom_classes": [],
            "_model_module": "@jupyter-widgets/controls",
            "_model_module_version": "1.5.0",
            "_model_name": "CheckboxModel",
            "_view_count": null,
            "_view_module": "@jupyter-widgets/controls",
            "_view_module_version": "1.5.0",
            "_view_name": "CheckboxView",
            "description": "Add token as git credential?",
            "description_tooltip": null,
            "disabled": false,
            "indent": true,
            "layout": "IPY_MODEL_9198dd0fa8f04aa7b75307aa2d513bfb",
            "style": "IPY_MODEL_59cd26ae53024fbd85431b6683cd119c",
            "value": true
          }
        },
        "13e9bf583f6442d395334947379a280a": {
          "model_module": "@jupyter-widgets/base",
          "model_module_version": "1.2.0",
          "model_name": "LayoutModel",
          "state": {
            "_model_module": "@jupyter-widgets/base",
            "_model_module_version": "1.2.0",
            "_model_name": "LayoutModel",
            "_view_count": null,
            "_view_module": "@jupyter-widgets/base",
            "_view_module_version": "1.2.0",
            "_view_name": "LayoutView",
            "align_content": null,
            "align_items": null,
            "align_self": null,
            "border": null,
            "bottom": null,
            "display": null,
            "flex": null,
            "flex_flow": null,
            "grid_area": null,
            "grid_auto_columns": null,
            "grid_auto_flow": null,
            "grid_auto_rows": null,
            "grid_column": null,
            "grid_gap": null,
            "grid_row": null,
            "grid_template_areas": null,
            "grid_template_columns": null,
            "grid_template_rows": null,
            "height": null,
            "justify_content": null,
            "justify_items": null,
            "left": null,
            "margin": null,
            "max_height": null,
            "max_width": null,
            "min_height": null,
            "min_width": null,
            "object_fit": null,
            "object_position": null,
            "order": null,
            "overflow": null,
            "overflow_x": null,
            "overflow_y": null,
            "padding": null,
            "right": null,
            "top": null,
            "visibility": null,
            "width": null
          }
        },
        "18825dc83221412ab602830fc00db71b": {
          "model_module": "@jupyter-widgets/controls",
          "model_module_version": "1.5.0",
          "model_name": "LabelModel",
          "state": {
            "_dom_classes": [],
            "_model_module": "@jupyter-widgets/controls",
            "_model_module_version": "1.5.0",
            "_model_name": "LabelModel",
            "_view_count": null,
            "_view_module": "@jupyter-widgets/controls",
            "_view_module_version": "1.5.0",
            "_view_name": "LabelView",
            "description": "",
            "description_tooltip": null,
            "layout": "IPY_MODEL_a6ea48a80c194d128959422368aa0e10",
            "placeholder": "​",
            "style": "IPY_MODEL_9f4026c62c60493caa18c014ae414e65",
            "value": "Connecting..."
          }
        },
        "1995b4d98fe044e38f1980d47033ca40": {
          "model_module": "@jupyter-widgets/controls",
          "model_module_version": "1.5.0",
          "model_name": "DescriptionStyleModel",
          "state": {
            "_model_module": "@jupyter-widgets/controls",
            "_model_module_version": "1.5.0",
            "_model_name": "DescriptionStyleModel",
            "_view_count": null,
            "_view_module": "@jupyter-widgets/base",
            "_view_module_version": "1.2.0",
            "_view_name": "StyleView",
            "description_width": ""
          }
        },
        "2a872283afaa4a33a9bc3f9e57b3650b": {
          "model_module": "@jupyter-widgets/base",
          "model_module_version": "1.2.0",
          "model_name": "LayoutModel",
          "state": {
            "_model_module": "@jupyter-widgets/base",
            "_model_module_version": "1.2.0",
            "_model_name": "LayoutModel",
            "_view_count": null,
            "_view_module": "@jupyter-widgets/base",
            "_view_module_version": "1.2.0",
            "_view_name": "LayoutView",
            "align_content": null,
            "align_items": null,
            "align_self": null,
            "border": null,
            "bottom": null,
            "display": null,
            "flex": null,
            "flex_flow": null,
            "grid_area": null,
            "grid_auto_columns": null,
            "grid_auto_flow": null,
            "grid_auto_rows": null,
            "grid_column": null,
            "grid_gap": null,
            "grid_row": null,
            "grid_template_areas": null,
            "grid_template_columns": null,
            "grid_template_rows": null,
            "height": null,
            "justify_content": null,
            "justify_items": null,
            "left": null,
            "margin": null,
            "max_height": null,
            "max_width": null,
            "min_height": null,
            "min_width": null,
            "object_fit": null,
            "object_position": null,
            "order": null,
            "overflow": null,
            "overflow_x": null,
            "overflow_y": null,
            "padding": null,
            "right": null,
            "top": null,
            "visibility": null,
            "width": null
          }
        },
        "381c780ce17e4662981175400fb8a0f8": {
          "model_module": "@jupyter-widgets/controls",
          "model_module_version": "1.5.0",
          "model_name": "DescriptionStyleModel",
          "state": {
            "_model_module": "@jupyter-widgets/controls",
            "_model_module_version": "1.5.0",
            "_model_name": "DescriptionStyleModel",
            "_view_count": null,
            "_view_module": "@jupyter-widgets/base",
            "_view_module_version": "1.2.0",
            "_view_name": "StyleView",
            "description_width": ""
          }
        },
        "408f4dfce21a45cfad36047677ec8658": {
          "model_module": "@jupyter-widgets/base",
          "model_module_version": "1.2.0",
          "model_name": "LayoutModel",
          "state": {
            "_model_module": "@jupyter-widgets/base",
            "_model_module_version": "1.2.0",
            "_model_name": "LayoutModel",
            "_view_count": null,
            "_view_module": "@jupyter-widgets/base",
            "_view_module_version": "1.2.0",
            "_view_name": "LayoutView",
            "align_content": null,
            "align_items": null,
            "align_self": null,
            "border": null,
            "bottom": null,
            "display": null,
            "flex": null,
            "flex_flow": null,
            "grid_area": null,
            "grid_auto_columns": null,
            "grid_auto_flow": null,
            "grid_auto_rows": null,
            "grid_column": null,
            "grid_gap": null,
            "grid_row": null,
            "grid_template_areas": null,
            "grid_template_columns": null,
            "grid_template_rows": null,
            "height": null,
            "justify_content": null,
            "justify_items": null,
            "left": null,
            "margin": null,
            "max_height": null,
            "max_width": null,
            "min_height": null,
            "min_width": null,
            "object_fit": null,
            "object_position": null,
            "order": null,
            "overflow": null,
            "overflow_x": null,
            "overflow_y": null,
            "padding": null,
            "right": null,
            "top": null,
            "visibility": null,
            "width": null
          }
        },
        "4a723c6a56e94309b2e3abe63f28aedc": {
          "model_module": "@jupyter-widgets/controls",
          "model_module_version": "1.5.0",
          "model_name": "FloatProgressModel",
          "state": {
            "_dom_classes": [],
            "_model_module": "@jupyter-widgets/controls",
            "_model_module_version": "1.5.0",
            "_model_name": "FloatProgressModel",
            "_view_count": null,
            "_view_module": "@jupyter-widgets/controls",
            "_view_module_version": "1.5.0",
            "_view_name": "ProgressView",
            "bar_style": "success",
            "description": "",
            "description_tooltip": null,
            "layout": "IPY_MODEL_869814ecd49e46f9a33dd53130e6953f",
            "max": 1336413848,
            "min": 0,
            "orientation": "horizontal",
            "style": "IPY_MODEL_cc7d460d3c5a4ac6a9b64929736d6598",
            "value": 1336413848
          }
        },
        "4e2c257232c3472697e03350de43cb30": {
          "model_module": "@jupyter-widgets/base",
          "model_module_version": "1.2.0",
          "model_name": "LayoutModel",
          "state": {
            "_model_module": "@jupyter-widgets/base",
            "_model_module_version": "1.2.0",
            "_model_name": "LayoutModel",
            "_view_count": null,
            "_view_module": "@jupyter-widgets/base",
            "_view_module_version": "1.2.0",
            "_view_name": "LayoutView",
            "align_content": null,
            "align_items": null,
            "align_self": null,
            "border": null,
            "bottom": null,
            "display": null,
            "flex": null,
            "flex_flow": null,
            "grid_area": null,
            "grid_auto_columns": null,
            "grid_auto_flow": null,
            "grid_auto_rows": null,
            "grid_column": null,
            "grid_gap": null,
            "grid_row": null,
            "grid_template_areas": null,
            "grid_template_columns": null,
            "grid_template_rows": null,
            "height": null,
            "justify_content": null,
            "justify_items": null,
            "left": null,
            "margin": null,
            "max_height": null,
            "max_width": null,
            "min_height": null,
            "min_width": null,
            "object_fit": null,
            "object_position": null,
            "order": null,
            "overflow": null,
            "overflow_x": null,
            "overflow_y": null,
            "padding": null,
            "right": null,
            "top": null,
            "visibility": null,
            "width": null
          }
        },
        "4e7ccd97042c4fb9a201b6dc76762e04": {
          "model_module": "@jupyter-widgets/base",
          "model_module_version": "1.2.0",
          "model_name": "LayoutModel",
          "state": {
            "_model_module": "@jupyter-widgets/base",
            "_model_module_version": "1.2.0",
            "_model_name": "LayoutModel",
            "_view_count": null,
            "_view_module": "@jupyter-widgets/base",
            "_view_module_version": "1.2.0",
            "_view_name": "LayoutView",
            "align_content": null,
            "align_items": null,
            "align_self": null,
            "border": null,
            "bottom": null,
            "display": null,
            "flex": null,
            "flex_flow": null,
            "grid_area": null,
            "grid_auto_columns": null,
            "grid_auto_flow": null,
            "grid_auto_rows": null,
            "grid_column": null,
            "grid_gap": null,
            "grid_row": null,
            "grid_template_areas": null,
            "grid_template_columns": null,
            "grid_template_rows": null,
            "height": null,
            "justify_content": null,
            "justify_items": null,
            "left": null,
            "margin": null,
            "max_height": null,
            "max_width": null,
            "min_height": null,
            "min_width": null,
            "object_fit": null,
            "object_position": null,
            "order": null,
            "overflow": null,
            "overflow_x": null,
            "overflow_y": null,
            "padding": null,
            "right": null,
            "top": null,
            "visibility": null,
            "width": null
          }
        },
        "58699484312f460cb96ac44e3af14aa2": {
          "model_module": "@jupyter-widgets/controls",
          "model_module_version": "1.5.0",
          "model_name": "VBoxModel",
          "state": {
            "_dom_classes": [],
            "_model_module": "@jupyter-widgets/controls",
            "_model_module_version": "1.5.0",
            "_model_name": "VBoxModel",
            "_view_count": null,
            "_view_module": "@jupyter-widgets/controls",
            "_view_module_version": "1.5.0",
            "_view_name": "VBoxView",
            "box_style": "",
            "children": [],
            "layout": "IPY_MODEL_d4acc9a7aca04564bfaefe33de079394"
          }
        },
        "59cd26ae53024fbd85431b6683cd119c": {
          "model_module": "@jupyter-widgets/controls",
          "model_module_version": "1.5.0",
          "model_name": "DescriptionStyleModel",
          "state": {
            "_model_module": "@jupyter-widgets/controls",
            "_model_module_version": "1.5.0",
            "_model_name": "DescriptionStyleModel",
            "_view_count": null,
            "_view_module": "@jupyter-widgets/base",
            "_view_module_version": "1.2.0",
            "_view_name": "StyleView",
            "description_width": ""
          }
        },
        "72ec09e2cbbf4788b1561abfcdd0819a": {
          "model_module": "@jupyter-widgets/controls",
          "model_module_version": "1.5.0",
          "model_name": "ButtonStyleModel",
          "state": {
            "_model_module": "@jupyter-widgets/controls",
            "_model_module_version": "1.5.0",
            "_model_name": "ButtonStyleModel",
            "_view_count": null,
            "_view_module": "@jupyter-widgets/base",
            "_view_module_version": "1.2.0",
            "_view_name": "StyleView",
            "button_color": null,
            "font_weight": ""
          }
        },
        "869814ecd49e46f9a33dd53130e6953f": {
          "model_module": "@jupyter-widgets/base",
          "model_module_version": "1.2.0",
          "model_name": "LayoutModel",
          "state": {
            "_model_module": "@jupyter-widgets/base",
            "_model_module_version": "1.2.0",
            "_model_name": "LayoutModel",
            "_view_count": null,
            "_view_module": "@jupyter-widgets/base",
            "_view_module_version": "1.2.0",
            "_view_name": "LayoutView",
            "align_content": null,
            "align_items": null,
            "align_self": null,
            "border": null,
            "bottom": null,
            "display": null,
            "flex": null,
            "flex_flow": null,
            "grid_area": null,
            "grid_auto_columns": null,
            "grid_auto_flow": null,
            "grid_auto_rows": null,
            "grid_column": null,
            "grid_gap": null,
            "grid_row": null,
            "grid_template_areas": null,
            "grid_template_columns": null,
            "grid_template_rows": null,
            "height": null,
            "justify_content": null,
            "justify_items": null,
            "left": null,
            "margin": null,
            "max_height": null,
            "max_width": null,
            "min_height": null,
            "min_width": null,
            "object_fit": null,
            "object_position": null,
            "order": null,
            "overflow": null,
            "overflow_x": null,
            "overflow_y": null,
            "padding": null,
            "right": null,
            "top": null,
            "visibility": null,
            "width": null
          }
        },
        "878dc96f87dd45f389948a546db33e94": {
          "model_module": "@jupyter-widgets/base",
          "model_module_version": "1.2.0",
          "model_name": "LayoutModel",
          "state": {
            "_model_module": "@jupyter-widgets/base",
            "_model_module_version": "1.2.0",
            "_model_name": "LayoutModel",
            "_view_count": null,
            "_view_module": "@jupyter-widgets/base",
            "_view_module_version": "1.2.0",
            "_view_name": "LayoutView",
            "align_content": null,
            "align_items": null,
            "align_self": null,
            "border": null,
            "bottom": null,
            "display": null,
            "flex": null,
            "flex_flow": null,
            "grid_area": null,
            "grid_auto_columns": null,
            "grid_auto_flow": null,
            "grid_auto_rows": null,
            "grid_column": null,
            "grid_gap": null,
            "grid_row": null,
            "grid_template_areas": null,
            "grid_template_columns": null,
            "grid_template_rows": null,
            "height": null,
            "justify_content": null,
            "justify_items": null,
            "left": null,
            "margin": null,
            "max_height": null,
            "max_width": null,
            "min_height": null,
            "min_width": null,
            "object_fit": null,
            "object_position": null,
            "order": null,
            "overflow": null,
            "overflow_x": null,
            "overflow_y": null,
            "padding": null,
            "right": null,
            "top": null,
            "visibility": null,
            "width": null
          }
        },
        "9198dd0fa8f04aa7b75307aa2d513bfb": {
          "model_module": "@jupyter-widgets/base",
          "model_module_version": "1.2.0",
          "model_name": "LayoutModel",
          "state": {
            "_model_module": "@jupyter-widgets/base",
            "_model_module_version": "1.2.0",
            "_model_name": "LayoutModel",
            "_view_count": null,
            "_view_module": "@jupyter-widgets/base",
            "_view_module_version": "1.2.0",
            "_view_name": "LayoutView",
            "align_content": null,
            "align_items": null,
            "align_self": null,
            "border": null,
            "bottom": null,
            "display": null,
            "flex": null,
            "flex_flow": null,
            "grid_area": null,
            "grid_auto_columns": null,
            "grid_auto_flow": null,
            "grid_auto_rows": null,
            "grid_column": null,
            "grid_gap": null,
            "grid_row": null,
            "grid_template_areas": null,
            "grid_template_columns": null,
            "grid_template_rows": null,
            "height": null,
            "justify_content": null,
            "justify_items": null,
            "left": null,
            "margin": null,
            "max_height": null,
            "max_width": null,
            "min_height": null,
            "min_width": null,
            "object_fit": null,
            "object_position": null,
            "order": null,
            "overflow": null,
            "overflow_x": null,
            "overflow_y": null,
            "padding": null,
            "right": null,
            "top": null,
            "visibility": null,
            "width": null
          }
        },
        "95160a05de5b402b9bdb0bd2d099cd00": {
          "model_module": "@jupyter-widgets/base",
          "model_module_version": "1.2.0",
          "model_name": "LayoutModel",
          "state": {
            "_model_module": "@jupyter-widgets/base",
            "_model_module_version": "1.2.0",
            "_model_name": "LayoutModel",
            "_view_count": null,
            "_view_module": "@jupyter-widgets/base",
            "_view_module_version": "1.2.0",
            "_view_name": "LayoutView",
            "align_content": null,
            "align_items": null,
            "align_self": null,
            "border": null,
            "bottom": null,
            "display": null,
            "flex": null,
            "flex_flow": null,
            "grid_area": null,
            "grid_auto_columns": null,
            "grid_auto_flow": null,
            "grid_auto_rows": null,
            "grid_column": null,
            "grid_gap": null,
            "grid_row": null,
            "grid_template_areas": null,
            "grid_template_columns": null,
            "grid_template_rows": null,
            "height": null,
            "justify_content": null,
            "justify_items": null,
            "left": null,
            "margin": null,
            "max_height": null,
            "max_width": null,
            "min_height": null,
            "min_width": null,
            "object_fit": null,
            "object_position": null,
            "order": null,
            "overflow": null,
            "overflow_x": null,
            "overflow_y": null,
            "padding": null,
            "right": null,
            "top": null,
            "visibility": null,
            "width": null
          }
        },
        "9638a0456e0c41b1b9b9757932f55c53": {
          "model_module": "@jupyter-widgets/controls",
          "model_module_version": "1.5.0",
          "model_name": "DescriptionStyleModel",
          "state": {
            "_model_module": "@jupyter-widgets/controls",
            "_model_module_version": "1.5.0",
            "_model_name": "DescriptionStyleModel",
            "_view_count": null,
            "_view_module": "@jupyter-widgets/base",
            "_view_module_version": "1.2.0",
            "_view_name": "StyleView",
            "description_width": ""
          }
        },
        "9d34dac405fd40139d5dc04eecef55ed": {
          "model_module": "@jupyter-widgets/controls",
          "model_module_version": "1.5.0",
          "model_name": "ButtonModel",
          "state": {
            "_dom_classes": [],
            "_model_module": "@jupyter-widgets/controls",
            "_model_module_version": "1.5.0",
            "_model_name": "ButtonModel",
            "_view_count": null,
            "_view_module": "@jupyter-widgets/controls",
            "_view_module_version": "1.5.0",
            "_view_name": "ButtonView",
            "button_style": "",
            "description": "Login",
            "disabled": false,
            "icon": "",
            "layout": "IPY_MODEL_4e7ccd97042c4fb9a201b6dc76762e04",
            "style": "IPY_MODEL_72ec09e2cbbf4788b1561abfcdd0819a",
            "tooltip": ""
          }
        },
        "9f4026c62c60493caa18c014ae414e65": {
          "model_module": "@jupyter-widgets/controls",
          "model_module_version": "1.5.0",
          "model_name": "DescriptionStyleModel",
          "state": {
            "_model_module": "@jupyter-widgets/controls",
            "_model_module_version": "1.5.0",
            "_model_name": "DescriptionStyleModel",
            "_view_count": null,
            "_view_module": "@jupyter-widgets/base",
            "_view_module_version": "1.2.0",
            "_view_name": "StyleView",
            "description_width": ""
          }
        },
        "a6ea48a80c194d128959422368aa0e10": {
          "model_module": "@jupyter-widgets/base",
          "model_module_version": "1.2.0",
          "model_name": "LayoutModel",
          "state": {
            "_model_module": "@jupyter-widgets/base",
            "_model_module_version": "1.2.0",
            "_model_name": "LayoutModel",
            "_view_count": null,
            "_view_module": "@jupyter-widgets/base",
            "_view_module_version": "1.2.0",
            "_view_name": "LayoutView",
            "align_content": null,
            "align_items": null,
            "align_self": null,
            "border": null,
            "bottom": null,
            "display": null,
            "flex": null,
            "flex_flow": null,
            "grid_area": null,
            "grid_auto_columns": null,
            "grid_auto_flow": null,
            "grid_auto_rows": null,
            "grid_column": null,
            "grid_gap": null,
            "grid_row": null,
            "grid_template_areas": null,
            "grid_template_columns": null,
            "grid_template_rows": null,
            "height": null,
            "justify_content": null,
            "justify_items": null,
            "left": null,
            "margin": null,
            "max_height": null,
            "max_width": null,
            "min_height": null,
            "min_width": null,
            "object_fit": null,
            "object_position": null,
            "order": null,
            "overflow": null,
            "overflow_x": null,
            "overflow_y": null,
            "padding": null,
            "right": null,
            "top": null,
            "visibility": null,
            "width": null
          }
        },
        "aa11c10b4234452d9430744ab89b59a2": {
          "model_module": "@jupyter-widgets/controls",
          "model_module_version": "1.5.0",
          "model_name": "FloatProgressModel",
          "state": {
            "_dom_classes": [],
            "_model_module": "@jupyter-widgets/controls",
            "_model_module_version": "1.5.0",
            "_model_name": "FloatProgressModel",
            "_view_count": null,
            "_view_module": "@jupyter-widgets/controls",
            "_view_module_version": "1.5.0",
            "_view_name": "ProgressView",
            "bar_style": "",
            "description": "",
            "description_tooltip": null,
            "layout": "IPY_MODEL_2a872283afaa4a33a9bc3f9e57b3650b",
            "max": 1,
            "min": 0,
            "orientation": "horizontal",
            "style": "IPY_MODEL_fe4d1052824c4ed29c38c5311087e650",
            "value": 1
          }
        },
        "acf3991e5d644f468264f561b28b514a": {
          "model_module": "@jupyter-widgets/controls",
          "model_module_version": "1.5.0",
          "model_name": "HTMLModel",
          "state": {
            "_dom_classes": [],
            "_model_module": "@jupyter-widgets/controls",
            "_model_module_version": "1.5.0",
            "_model_name": "HTMLModel",
            "_view_count": null,
            "_view_module": "@jupyter-widgets/controls",
            "_view_module_version": "1.5.0",
            "_view_name": "HTMLView",
            "description": "",
            "description_tooltip": null,
            "layout": "IPY_MODEL_95160a05de5b402b9bdb0bd2d099cd00",
            "placeholder": "​",
            "style": "IPY_MODEL_cf376b0ea3544055b8867d7013526502",
            "value": "model.safetensors: 100%"
          }
        },
        "b011a6ccf8e745c6be6f3a17b7d61dce": {
          "model_module": "@jupyter-widgets/controls",
          "model_module_version": "1.5.0",
          "model_name": "PasswordModel",
          "state": {
            "_dom_classes": [],
            "_model_module": "@jupyter-widgets/controls",
            "_model_module_version": "1.5.0",
            "_model_name": "PasswordModel",
            "_view_count": null,
            "_view_module": "@jupyter-widgets/controls",
            "_view_module_version": "1.5.0",
            "_view_name": "PasswordView",
            "continuous_update": true,
            "description": "Token:",
            "description_tooltip": null,
            "disabled": false,
            "layout": "IPY_MODEL_878dc96f87dd45f389948a546db33e94",
            "placeholder": "​",
            "style": "IPY_MODEL_006bf6f5ebaf400486a6b82610381db0",
            "value": ""
          }
        },
        "bfc4997e3bd94e66bebaa1ffdae1b99e": {
          "model_module": "@jupyter-widgets/controls",
          "model_module_version": "1.5.0",
          "model_name": "DescriptionStyleModel",
          "state": {
            "_model_module": "@jupyter-widgets/controls",
            "_model_module_version": "1.5.0",
            "_model_name": "DescriptionStyleModel",
            "_view_count": null,
            "_view_module": "@jupyter-widgets/base",
            "_view_module_version": "1.2.0",
            "_view_name": "StyleView",
            "description_width": ""
          }
        },
        "ca05cbcd72cb41d9856804ffb17b26cb": {
          "model_module": "@jupyter-widgets/controls",
          "model_module_version": "1.5.0",
          "model_name": "HTMLModel",
          "state": {
            "_dom_classes": [],
            "_model_module": "@jupyter-widgets/controls",
            "_model_module_version": "1.5.0",
            "_model_name": "HTMLModel",
            "_view_count": null,
            "_view_module": "@jupyter-widgets/controls",
            "_view_module_version": "1.5.0",
            "_view_name": "HTMLView",
            "description": "",
            "description_tooltip": null,
            "layout": "IPY_MODEL_e283b1608c4d4266a03c57dc95aabb2e",
            "placeholder": "​",
            "style": "IPY_MODEL_bfc4997e3bd94e66bebaa1ffdae1b99e",
            "value": " 0/1 [00:00&lt;?, ?example/s]"
          }
        },
        "ca5804644ef345c1b4f670fb7f088fe8": {
          "model_module": "@jupyter-widgets/controls",
          "model_module_version": "1.5.0",
          "model_name": "DescriptionStyleModel",
          "state": {
            "_model_module": "@jupyter-widgets/controls",
            "_model_module_version": "1.5.0",
            "_model_name": "DescriptionStyleModel",
            "_view_count": null,
            "_view_module": "@jupyter-widgets/base",
            "_view_module_version": "1.2.0",
            "_view_name": "StyleView",
            "description_width": ""
          }
        },
        "cc1f0bc4a1a74568b9c74a7392a1568f": {
          "model_module": "@jupyter-widgets/base",
          "model_module_version": "1.2.0",
          "model_name": "LayoutModel",
          "state": {
            "_model_module": "@jupyter-widgets/base",
            "_model_module_version": "1.2.0",
            "_model_name": "LayoutModel",
            "_view_count": null,
            "_view_module": "@jupyter-widgets/base",
            "_view_module_version": "1.2.0",
            "_view_name": "LayoutView",
            "align_content": null,
            "align_items": null,
            "align_self": null,
            "border": null,
            "bottom": null,
            "display": null,
            "flex": null,
            "flex_flow": null,
            "grid_area": null,
            "grid_auto_columns": null,
            "grid_auto_flow": null,
            "grid_auto_rows": null,
            "grid_column": null,
            "grid_gap": null,
            "grid_row": null,
            "grid_template_areas": null,
            "grid_template_columns": null,
            "grid_template_rows": null,
            "height": null,
            "justify_content": null,
            "justify_items": null,
            "left": null,
            "margin": null,
            "max_height": null,
            "max_width": null,
            "min_height": null,
            "min_width": null,
            "object_fit": null,
            "object_position": null,
            "order": null,
            "overflow": null,
            "overflow_x": null,
            "overflow_y": null,
            "padding": null,
            "right": null,
            "top": null,
            "visibility": null,
            "width": null
          }
        },
        "cc2a33e9a7ac4c5699346fcbf53b7c95": {
          "model_module": "@jupyter-widgets/base",
          "model_module_version": "1.2.0",
          "model_name": "LayoutModel",
          "state": {
            "_model_module": "@jupyter-widgets/base",
            "_model_module_version": "1.2.0",
            "_model_name": "LayoutModel",
            "_view_count": null,
            "_view_module": "@jupyter-widgets/base",
            "_view_module_version": "1.2.0",
            "_view_name": "LayoutView",
            "align_content": null,
            "align_items": null,
            "align_self": null,
            "border": null,
            "bottom": null,
            "display": null,
            "flex": null,
            "flex_flow": null,
            "grid_area": null,
            "grid_auto_columns": null,
            "grid_auto_flow": null,
            "grid_auto_rows": null,
            "grid_column": null,
            "grid_gap": null,
            "grid_row": null,
            "grid_template_areas": null,
            "grid_template_columns": null,
            "grid_template_rows": null,
            "height": null,
            "justify_content": null,
            "justify_items": null,
            "left": null,
            "margin": null,
            "max_height": null,
            "max_width": null,
            "min_height": null,
            "min_width": null,
            "object_fit": null,
            "object_position": null,
            "order": null,
            "overflow": null,
            "overflow_x": null,
            "overflow_y": null,
            "padding": null,
            "right": null,
            "top": null,
            "visibility": "hidden",
            "width": null
          }
        },
        "cc7d460d3c5a4ac6a9b64929736d6598": {
          "model_module": "@jupyter-widgets/controls",
          "model_module_version": "1.5.0",
          "model_name": "ProgressStyleModel",
          "state": {
            "_model_module": "@jupyter-widgets/controls",
            "_model_module_version": "1.5.0",
            "_model_name": "ProgressStyleModel",
            "_view_count": null,
            "_view_module": "@jupyter-widgets/base",
            "_view_module_version": "1.2.0",
            "_view_name": "StyleView",
            "bar_color": null,
            "description_width": ""
          }
        },
        "cf376b0ea3544055b8867d7013526502": {
          "model_module": "@jupyter-widgets/controls",
          "model_module_version": "1.5.0",
          "model_name": "DescriptionStyleModel",
          "state": {
            "_model_module": "@jupyter-widgets/controls",
            "_model_module_version": "1.5.0",
            "_model_name": "DescriptionStyleModel",
            "_view_count": null,
            "_view_module": "@jupyter-widgets/base",
            "_view_module_version": "1.2.0",
            "_view_name": "StyleView",
            "description_width": ""
          }
        },
        "d45a7d95e5b14a6f88d5798fec9c40a7": {
          "model_module": "@jupyter-widgets/controls",
          "model_module_version": "1.5.0",
          "model_name": "HTMLModel",
          "state": {
            "_dom_classes": [],
            "_model_module": "@jupyter-widgets/controls",
            "_model_module_version": "1.5.0",
            "_model_name": "HTMLModel",
            "_view_count": null,
            "_view_module": "@jupyter-widgets/controls",
            "_view_module_version": "1.5.0",
            "_view_name": "HTMLView",
            "description": "",
            "description_tooltip": null,
            "layout": "IPY_MODEL_4e2c257232c3472697e03350de43cb30",
            "placeholder": "​",
            "style": "IPY_MODEL_381c780ce17e4662981175400fb8a0f8",
            "value": "<center> <img\nsrc=https://huggingface.co/front/assets/huggingface_logo-noborder.svg\nalt='Hugging Face'> <br> Copy a token from <a\nhref=\"https://huggingface.co/settings/tokens\" target=\"_blank\">your Hugging Face\ntokens page</a> and paste it below. <br> Immediately click login after copying\nyour token or it might be stored in plain text in this notebook file. </center>"
          }
        },
        "d4acc9a7aca04564bfaefe33de079394": {
          "model_module": "@jupyter-widgets/base",
          "model_module_version": "1.2.0",
          "model_name": "LayoutModel",
          "state": {
            "_model_module": "@jupyter-widgets/base",
            "_model_module_version": "1.2.0",
            "_model_name": "LayoutModel",
            "_view_count": null,
            "_view_module": "@jupyter-widgets/base",
            "_view_module_version": "1.2.0",
            "_view_name": "LayoutView",
            "align_content": null,
            "align_items": "center",
            "align_self": null,
            "border": null,
            "bottom": null,
            "display": "flex",
            "flex": null,
            "flex_flow": "column",
            "grid_area": null,
            "grid_auto_columns": null,
            "grid_auto_flow": null,
            "grid_auto_rows": null,
            "grid_column": null,
            "grid_gap": null,
            "grid_row": null,
            "grid_template_areas": null,
            "grid_template_columns": null,
            "grid_template_rows": null,
            "height": null,
            "justify_content": null,
            "justify_items": null,
            "left": null,
            "margin": null,
            "max_height": null,
            "max_width": null,
            "min_height": null,
            "min_width": null,
            "object_fit": null,
            "object_position": null,
            "order": null,
            "overflow": null,
            "overflow_x": null,
            "overflow_y": null,
            "padding": null,
            "right": null,
            "top": null,
            "visibility": null,
            "width": "50%"
          }
        },
        "d6169577ffb341a69eb0175e301b6a44": {
          "model_module": "@jupyter-widgets/controls",
          "model_module_version": "1.5.0",
          "model_name": "HTMLModel",
          "state": {
            "_dom_classes": [],
            "_model_module": "@jupyter-widgets/controls",
            "_model_module_version": "1.5.0",
            "_model_name": "HTMLModel",
            "_view_count": null,
            "_view_module": "@jupyter-widgets/controls",
            "_view_module_version": "1.5.0",
            "_view_name": "HTMLView",
            "description": "",
            "description_tooltip": null,
            "layout": "IPY_MODEL_fb1e19624fde4d3c8048ce00264d6056",
            "placeholder": "​",
            "style": "IPY_MODEL_9638a0456e0c41b1b9b9757932f55c53",
            "value": "\n<b>Pro Tip:</b> If you don't already have one, you can create a dedicated\n'notebooks' token with 'write' access, that you can then easily reuse for all\nnotebooks. </center>"
          }
        },
        "e283b1608c4d4266a03c57dc95aabb2e": {
          "model_module": "@jupyter-widgets/base",
          "model_module_version": "1.2.0",
          "model_name": "LayoutModel",
          "state": {
            "_model_module": "@jupyter-widgets/base",
            "_model_module_version": "1.2.0",
            "_model_name": "LayoutModel",
            "_view_count": null,
            "_view_module": "@jupyter-widgets/base",
            "_view_module_version": "1.2.0",
            "_view_name": "LayoutView",
            "align_content": null,
            "align_items": null,
            "align_self": null,
            "border": null,
            "bottom": null,
            "display": null,
            "flex": null,
            "flex_flow": null,
            "grid_area": null,
            "grid_auto_columns": null,
            "grid_auto_flow": null,
            "grid_auto_rows": null,
            "grid_column": null,
            "grid_gap": null,
            "grid_row": null,
            "grid_template_areas": null,
            "grid_template_columns": null,
            "grid_template_rows": null,
            "height": null,
            "justify_content": null,
            "justify_items": null,
            "left": null,
            "margin": null,
            "max_height": null,
            "max_width": null,
            "min_height": null,
            "min_width": null,
            "object_fit": null,
            "object_position": null,
            "order": null,
            "overflow": null,
            "overflow_x": null,
            "overflow_y": null,
            "padding": null,
            "right": null,
            "top": null,
            "visibility": null,
            "width": null
          }
        },
        "e5c86e0e33264ed8b6325e44f9421653": {
          "model_module": "@jupyter-widgets/controls",
          "model_module_version": "1.5.0",
          "model_name": "HBoxModel",
          "state": {
            "_dom_classes": [],
            "_model_module": "@jupyter-widgets/controls",
            "_model_module_version": "1.5.0",
            "_model_name": "HBoxModel",
            "_view_count": null,
            "_view_module": "@jupyter-widgets/controls",
            "_view_module_version": "1.5.0",
            "_view_name": "HBoxView",
            "box_style": "",
            "children": [
              "IPY_MODEL_acf3991e5d644f468264f561b28b514a",
              "IPY_MODEL_4a723c6a56e94309b2e3abe63f28aedc",
              "IPY_MODEL_ef25768d3b0746b48c6d02e9bd151bf9"
            ],
            "layout": "IPY_MODEL_cc1f0bc4a1a74568b9c74a7392a1568f"
          }
        },
        "ebe8aa7a82124b57bce2d826c1dea0fa": {
          "model_module": "@jupyter-widgets/controls",
          "model_module_version": "1.5.0",
          "model_name": "HTMLModel",
          "state": {
            "_dom_classes": [],
            "_model_module": "@jupyter-widgets/controls",
            "_model_module_version": "1.5.0",
            "_model_name": "HTMLModel",
            "_view_count": null,
            "_view_module": "@jupyter-widgets/controls",
            "_view_module_version": "1.5.0",
            "_view_name": "HTMLView",
            "description": "",
            "description_tooltip": null,
            "layout": "IPY_MODEL_408f4dfce21a45cfad36047677ec8658",
            "placeholder": "​",
            "style": "IPY_MODEL_ca5804644ef345c1b4f670fb7f088fe8",
            "value": "Computing widget examples:   0%"
          }
        },
        "ef25768d3b0746b48c6d02e9bd151bf9": {
          "model_module": "@jupyter-widgets/controls",
          "model_module_version": "1.5.0",
          "model_name": "HTMLModel",
          "state": {
            "_dom_classes": [],
            "_model_module": "@jupyter-widgets/controls",
            "_model_module_version": "1.5.0",
            "_model_name": "HTMLModel",
            "_view_count": null,
            "_view_module": "@jupyter-widgets/controls",
            "_view_module_version": "1.5.0",
            "_view_name": "HTMLView",
            "description": "",
            "description_tooltip": null,
            "layout": "IPY_MODEL_13e9bf583f6442d395334947379a280a",
            "placeholder": "​",
            "style": "IPY_MODEL_1995b4d98fe044e38f1980d47033ca40",
            "value": " 1.34G/1.34G [01:11&lt;00:00, 21.0MB/s]"
          }
        },
        "fb1e19624fde4d3c8048ce00264d6056": {
          "model_module": "@jupyter-widgets/base",
          "model_module_version": "1.2.0",
          "model_name": "LayoutModel",
          "state": {
            "_model_module": "@jupyter-widgets/base",
            "_model_module_version": "1.2.0",
            "_model_name": "LayoutModel",
            "_view_count": null,
            "_view_module": "@jupyter-widgets/base",
            "_view_module_version": "1.2.0",
            "_view_name": "LayoutView",
            "align_content": null,
            "align_items": null,
            "align_self": null,
            "border": null,
            "bottom": null,
            "display": null,
            "flex": null,
            "flex_flow": null,
            "grid_area": null,
            "grid_auto_columns": null,
            "grid_auto_flow": null,
            "grid_auto_rows": null,
            "grid_column": null,
            "grid_gap": null,
            "grid_row": null,
            "grid_template_areas": null,
            "grid_template_columns": null,
            "grid_template_rows": null,
            "height": null,
            "justify_content": null,
            "justify_items": null,
            "left": null,
            "margin": null,
            "max_height": null,
            "max_width": null,
            "min_height": null,
            "min_width": null,
            "object_fit": null,
            "object_position": null,
            "order": null,
            "overflow": null,
            "overflow_x": null,
            "overflow_y": null,
            "padding": null,
            "right": null,
            "top": null,
            "visibility": null,
            "width": null
          }
        },
        "fe4d1052824c4ed29c38c5311087e650": {
          "model_module": "@jupyter-widgets/controls",
          "model_module_version": "1.5.0",
          "model_name": "ProgressStyleModel",
          "state": {
            "_model_module": "@jupyter-widgets/controls",
            "_model_module_version": "1.5.0",
            "_model_name": "ProgressStyleModel",
            "_view_count": null,
            "_view_module": "@jupyter-widgets/base",
            "_view_module_version": "1.2.0",
            "_view_name": "StyleView",
            "bar_color": null,
            "description_width": ""
          }
        }
      }
    }
  },
  "nbformat": 4,
  "nbformat_minor": 0
}
