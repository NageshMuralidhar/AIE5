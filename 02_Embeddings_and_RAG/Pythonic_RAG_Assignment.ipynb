{
  "cells": [
    {
      "cell_type": "markdown",
      "metadata": {
        "id": "lElF3o5PR6ys"
      },
      "source": [
        "# Your First RAG Application\n",
        "\n",
        "In this notebook, we'll walk you through each of the components that are involved in a simple RAG application.\n",
        "\n",
        "We won't be leveraging any fancy tools, just the OpenAI Python SDK, Numpy, and some classic Python.\n",
        "\n",
        "> NOTE: This was done with Python 3.11.4.\n",
        "\n",
        "> NOTE: There might be [compatibility issues](https://github.com/wandb/wandb/issues/7683) if you're on NVIDIA driver >552.44 As an interim solution - you can rollback your drivers to the 552.44.\n"
      ]
    },
    {
      "cell_type": "markdown",
      "metadata": {
        "id": "5CtcL8P8R6yt"
      },
      "source": [
        "## Table of Contents:\n",
        "\n",
        "- Task 1: Imports and Utilities\n",
        "- Task 2: Documents\n",
        "- Task 3: Embeddings and Vectors\n",
        "- Task 4: Prompts\n",
        "- Task 5: Retrieval Augmented Generation\n",
        "  - 🚧 Activity #1: Augment RAG\n"
      ]
    },
    {
      "cell_type": "markdown",
      "metadata": {
        "id": "1Dz6GYilR6yt"
      },
      "source": [
        "Let's look at a rather complicated looking visual representation of a basic RAG application.\n",
        "\n",
        "<img src=\"https://i.imgur.com/vD8b016.png\" />\n"
      ]
    },
    {
      "cell_type": "markdown",
      "metadata": {
        "id": "PjmC0KFtR6yt"
      },
      "source": [
        "## Task 1: Imports and Utility\n",
        "\n",
        "We're just doing some imports and enabling `async` to work within the Jupyter environment here, nothing too crazy!\n"
      ]
    },
    {
      "cell_type": "code",
      "execution_count": 88,
      "metadata": {
        "id": "Z1dyrG4hR6yt"
      },
      "outputs": [],
      "source": [
        "from aimakerspace.text_utils import TextFileLoader, CharacterTextSplitter\n",
        "from aimakerspace.vectordatabase import VectorDatabase\n",
        "import asyncio"
      ]
    },
    {
      "cell_type": "code",
      "execution_count": 89,
      "metadata": {
        "id": "9OrFZRnER6yt"
      },
      "outputs": [],
      "source": [
        "import nest_asyncio\n",
        "nest_asyncio.apply()"
      ]
    },
    {
      "cell_type": "markdown",
      "metadata": {
        "id": "M0jGnpQsR6yu"
      },
      "source": [
        "## Task 2: Documents\n",
        "\n",
        "We'll be concerning ourselves with this part of the flow in the following section:\n",
        "\n",
        "<img src=\"https://i.imgur.com/jTm9gjk.png\" />\n"
      ]
    },
    {
      "cell_type": "markdown",
      "metadata": {
        "id": "-SFPWvRUR6yu"
      },
      "source": [
        "### Loading Source Documents\n",
        "\n",
        "So, first things first, we need some documents to work with.\n",
        "\n",
        "While we could work directly with the `.txt` files (or whatever file-types you wanted to extend this to) we can instead do some batch processing of those documents at the beginning in order to store them in a more machine compatible format.\n",
        "\n",
        "In this case, we're going to parse our text file into a single document in memory.\n",
        "\n",
        "Let's look at the relevant bits of the `TextFileLoader` class:\n",
        "\n",
        "```python\n",
        "def load_file(self):\n",
        "        with open(self.path, \"r\", encoding=self.encoding) as f:\n",
        "            self.documents.append(f.read())\n",
        "```\n",
        "\n",
        "We're simply loading the document using the built in `open` method, and storing that output in our `self.documents` list.\n"
      ]
    },
    {
      "cell_type": "code",
      "execution_count": 90,
      "metadata": {},
      "outputs": [
        {
          "name": "stdout",
          "output_type": "stream",
          "text": [
            "Requirement already satisfied: transformers in /opt/anaconda3/envs/llmops-course/lib/python3.11/site-packages (4.48.0)\n",
            "Requirement already satisfied: torchaudio in /opt/anaconda3/envs/llmops-course/lib/python3.11/site-packages (2.5.1)\n",
            "Requirement already satisfied: filelock in /opt/anaconda3/envs/llmops-course/lib/python3.11/site-packages (from transformers) (3.16.1)\n",
            "Requirement already satisfied: huggingface-hub<1.0,>=0.24.0 in /opt/anaconda3/envs/llmops-course/lib/python3.11/site-packages (from transformers) (0.27.1)\n",
            "Requirement already satisfied: numpy>=1.17 in /opt/anaconda3/envs/llmops-course/lib/python3.11/site-packages (from transformers) (2.0.2)\n",
            "Requirement already satisfied: packaging>=20.0 in /opt/anaconda3/envs/llmops-course/lib/python3.11/site-packages (from transformers) (23.2)\n",
            "Requirement already satisfied: pyyaml>=5.1 in /opt/anaconda3/envs/llmops-course/lib/python3.11/site-packages (from transformers) (6.0.2)\n",
            "Requirement already satisfied: regex!=2019.12.17 in /opt/anaconda3/envs/llmops-course/lib/python3.11/site-packages (from transformers) (2024.11.6)\n",
            "Requirement already satisfied: requests in /opt/anaconda3/envs/llmops-course/lib/python3.11/site-packages (from transformers) (2.32.3)\n",
            "Requirement already satisfied: tokenizers<0.22,>=0.21 in /opt/anaconda3/envs/llmops-course/lib/python3.11/site-packages (from transformers) (0.21.0)\n",
            "Requirement already satisfied: safetensors>=0.4.1 in /opt/anaconda3/envs/llmops-course/lib/python3.11/site-packages (from transformers) (0.5.2)\n",
            "Requirement already satisfied: tqdm>=4.27 in /opt/anaconda3/envs/llmops-course/lib/python3.11/site-packages (from transformers) (4.67.1)\n",
            "Requirement already satisfied: torch==2.5.1 in /opt/anaconda3/envs/llmops-course/lib/python3.11/site-packages (from torchaudio) (2.5.1)\n",
            "Requirement already satisfied: typing-extensions>=4.8.0 in /opt/anaconda3/envs/llmops-course/lib/python3.11/site-packages (from torch==2.5.1->torchaudio) (4.12.2)\n",
            "Requirement already satisfied: networkx in /opt/anaconda3/envs/llmops-course/lib/python3.11/site-packages (from torch==2.5.1->torchaudio) (3.4.2)\n",
            "Requirement already satisfied: jinja2 in /opt/anaconda3/envs/llmops-course/lib/python3.11/site-packages (from torch==2.5.1->torchaudio) (3.1.5)\n",
            "Requirement already satisfied: fsspec in /opt/anaconda3/envs/llmops-course/lib/python3.11/site-packages (from torch==2.5.1->torchaudio) (2024.12.0)\n",
            "Requirement already satisfied: sympy==1.13.1 in /opt/anaconda3/envs/llmops-course/lib/python3.11/site-packages (from torch==2.5.1->torchaudio) (1.13.1)\n",
            "Requirement already satisfied: mpmath<1.4,>=1.1.0 in /opt/anaconda3/envs/llmops-course/lib/python3.11/site-packages (from sympy==1.13.1->torch==2.5.1->torchaudio) (1.3.0)\n",
            "Requirement already satisfied: charset-normalizer<4,>=2 in /opt/anaconda3/envs/llmops-course/lib/python3.11/site-packages (from requests->transformers) (3.4.1)\n",
            "Requirement already satisfied: idna<4,>=2.5 in /opt/anaconda3/envs/llmops-course/lib/python3.11/site-packages (from requests->transformers) (3.10)\n",
            "Requirement already satisfied: urllib3<3,>=1.21.1 in /opt/anaconda3/envs/llmops-course/lib/python3.11/site-packages (from requests->transformers) (2.3.0)\n",
            "Requirement already satisfied: certifi>=2017.4.17 in /opt/anaconda3/envs/llmops-course/lib/python3.11/site-packages (from requests->transformers) (2024.12.14)\n",
            "Requirement already satisfied: MarkupSafe>=2.0 in /opt/anaconda3/envs/llmops-course/lib/python3.11/site-packages (from jinja2->torch==2.5.1->torchaudio) (3.0.2)\n",
            "Note: you may need to restart the kernel to use updated packages.\n",
            "Requirement already satisfied: librosa in /opt/anaconda3/envs/llmops-course/lib/python3.11/site-packages (0.10.2.post1)\n",
            "Requirement already satisfied: audioread>=2.1.9 in /opt/anaconda3/envs/llmops-course/lib/python3.11/site-packages (from librosa) (3.0.1)\n",
            "Requirement already satisfied: numpy!=1.22.0,!=1.22.1,!=1.22.2,>=1.20.3 in /opt/anaconda3/envs/llmops-course/lib/python3.11/site-packages (from librosa) (2.0.2)\n",
            "Requirement already satisfied: scipy>=1.2.0 in /opt/anaconda3/envs/llmops-course/lib/python3.11/site-packages (from librosa) (1.15.1)\n",
            "Requirement already satisfied: scikit-learn>=0.20.0 in /opt/anaconda3/envs/llmops-course/lib/python3.11/site-packages (from librosa) (1.6.1)\n",
            "Requirement already satisfied: joblib>=0.14 in /opt/anaconda3/envs/llmops-course/lib/python3.11/site-packages (from librosa) (1.4.2)\n",
            "Requirement already satisfied: decorator>=4.3.0 in /opt/anaconda3/envs/llmops-course/lib/python3.11/site-packages (from librosa) (5.1.1)\n",
            "Requirement already satisfied: numba>=0.51.0 in /opt/anaconda3/envs/llmops-course/lib/python3.11/site-packages (from librosa) (0.60.0)\n",
            "Requirement already satisfied: soundfile>=0.12.1 in /opt/anaconda3/envs/llmops-course/lib/python3.11/site-packages (from librosa) (0.13.0)\n",
            "Requirement already satisfied: pooch>=1.1 in /opt/anaconda3/envs/llmops-course/lib/python3.11/site-packages (from librosa) (1.8.2)\n",
            "Requirement already satisfied: soxr>=0.3.2 in /opt/anaconda3/envs/llmops-course/lib/python3.11/site-packages (from librosa) (0.5.0.post1)\n",
            "Requirement already satisfied: typing-extensions>=4.1.1 in /opt/anaconda3/envs/llmops-course/lib/python3.11/site-packages (from librosa) (4.12.2)\n",
            "Requirement already satisfied: lazy-loader>=0.1 in /opt/anaconda3/envs/llmops-course/lib/python3.11/site-packages (from librosa) (0.4)\n",
            "Requirement already satisfied: msgpack>=1.0 in /opt/anaconda3/envs/llmops-course/lib/python3.11/site-packages (from librosa) (1.1.0)\n",
            "Requirement already satisfied: packaging in /opt/anaconda3/envs/llmops-course/lib/python3.11/site-packages (from lazy-loader>=0.1->librosa) (23.2)\n",
            "Requirement already satisfied: llvmlite<0.44,>=0.43.0dev0 in /opt/anaconda3/envs/llmops-course/lib/python3.11/site-packages (from numba>=0.51.0->librosa) (0.43.0)\n",
            "Requirement already satisfied: platformdirs>=2.5.0 in /opt/anaconda3/envs/llmops-course/lib/python3.11/site-packages (from pooch>=1.1->librosa) (4.3.6)\n",
            "Requirement already satisfied: requests>=2.19.0 in /opt/anaconda3/envs/llmops-course/lib/python3.11/site-packages (from pooch>=1.1->librosa) (2.32.3)\n",
            "Requirement already satisfied: threadpoolctl>=3.1.0 in /opt/anaconda3/envs/llmops-course/lib/python3.11/site-packages (from scikit-learn>=0.20.0->librosa) (3.5.0)\n",
            "Requirement already satisfied: cffi>=1.0 in /opt/anaconda3/envs/llmops-course/lib/python3.11/site-packages (from soundfile>=0.12.1->librosa) (1.17.1)\n",
            "Requirement already satisfied: pycparser in /opt/anaconda3/envs/llmops-course/lib/python3.11/site-packages (from cffi>=1.0->soundfile>=0.12.1->librosa) (2.22)\n",
            "Requirement already satisfied: charset-normalizer<4,>=2 in /opt/anaconda3/envs/llmops-course/lib/python3.11/site-packages (from requests>=2.19.0->pooch>=1.1->librosa) (3.4.1)\n",
            "Requirement already satisfied: idna<4,>=2.5 in /opt/anaconda3/envs/llmops-course/lib/python3.11/site-packages (from requests>=2.19.0->pooch>=1.1->librosa) (3.10)\n",
            "Requirement already satisfied: urllib3<3,>=1.21.1 in /opt/anaconda3/envs/llmops-course/lib/python3.11/site-packages (from requests>=2.19.0->pooch>=1.1->librosa) (2.3.0)\n",
            "Requirement already satisfied: certifi>=2017.4.17 in /opt/anaconda3/envs/llmops-course/lib/python3.11/site-packages (from requests>=2.19.0->pooch>=1.1->librosa) (2024.12.14)\n",
            "Note: you may need to restart the kernel to use updated packages.\n",
            "Requirement already satisfied: reportlab in /opt/anaconda3/envs/llmops-course/lib/python3.11/site-packages (4.2.5)\n",
            "Requirement already satisfied: pillow>=9.0.0 in /opt/anaconda3/envs/llmops-course/lib/python3.11/site-packages (from reportlab) (11.1.0)\n",
            "Requirement already satisfied: chardet in /opt/anaconda3/envs/llmops-course/lib/python3.11/site-packages (from reportlab) (5.2.0)\n",
            "Note: you may need to restart the kernel to use updated packages.\n",
            "Requirement already satisfied: PyPDF2 in /opt/anaconda3/envs/llmops-course/lib/python3.11/site-packages (3.0.1)\n",
            "Note: you may need to restart the kernel to use updated packages.\n"
          ]
        }
      ],
      "source": [
        "%pip install transformers torchaudio\n",
        "%pip install librosa\n",
        "%pip install reportlab\n",
        "%pip install PyPDF2\n"
      ]
    },
    {
      "cell_type": "code",
      "execution_count": 91,
      "metadata": {},
      "outputs": [
        {
          "name": "stderr",
          "output_type": "stream",
          "text": [
            "Some weights of Wav2Vec2ForCTC were not initialized from the model checkpoint at facebook/wav2vec2-base-960h and are newly initialized: ['wav2vec2.masked_spec_embed']\n",
            "You should probably TRAIN this model on a down-stream task to be able to use it for predictions and inference.\n"
          ]
        },
        {
          "name": "stdout",
          "output_type": "stream",
          "text": [
            "O WHILE MOST PEOPLE O VOID SPENDIN THE NIGHT IN JAIL TOJOHN BELLEVOUX JUMP AT THE OPPORTUNITY FOR THE PAST THREE YEARS BELEVOX HAVE BEEN WALKING FROM COUNTRY TO COUNTRY WITH THE GOAL OF CIRCUMNAVIGATING THE GLOBE ON FOOT THIS REQUIRED SLEEPING IN TENTS STRANGERS HIND AND THE OCCASIONAL JAL CELL ALONG THE WAY BUT THIS MORNING AS BELEVOUX WAS READY TO LEAVE THE POLICE CHIEF WHO HAD AGREED TO HIS SLEEPING ARRANGEMENT WAS NOWHERE TO BE FOUND AND THE GUARDS ORN'T FYING HIS STORY FEW PEOPLE HAVE THE TIME ORE DESIRE TO WALK SUCH EXTREME LANTS HOWEVER RESEARCH SHOWS THAT ADDING EVEN A MODEST T AMOUNT OF WALKING TO YOUR DAILY ROUTINE CAND TO RA MADIC WIT IN PROVE YOUR HEALTH SO WHAT EXACTLY HAVENS T YOUR BODY WHEN YOU INCREASE YOUR DAILY STEPCOUNT A SINGLE AFTERNOON STROLLL CAN IMPROVE YOUR RO AND ES SEM THEMS OF ANXIETY AND DEPRESSION WALKING E SPECIALLY AT A BRISK PACE ISS THOUGHT TO TRIGER THE RELEASE OF PAN RELEAVING IN DORPHANS AND CURB THE RELIES OF DISTRESS HORMON CORTISAL WITHIN WEEKS OF ADDING MORE STEPS TO YOUR ROUTINE YOUR BODY ADACTS WHILE IT MAY SEEM SIMPLE WALKING REQUIRES THE FORDINATION AND EFFORT OF MANY MUSCLES IN YOUR LEGS TORSO AND BACK TO KEEP UP WITH THE INCREASE AND ENERGY DEMAND THE VESSELS AR ROUND THESE MUSCLES ARE REMODELLED TO DELIVER MORE OXIGEN AT THE SAME TIME YOUR HEART BECOMES MORE EFFICIENT AT PUMPING BLOOD IN A FEW MONTHS THESE CHANGES CAN LOWERER BLOOD PRESSURE AND REDUCE YOUR RISK OF HARTATTACK AND STROKE CARRYING THE WEIGHT OF YOUR BODY AS YOU WALK PLACES STRESS ON THE BONES BUT THIS STRES ACTUALLY MAKES THE BONE STRONGER AS IT STIMULATES THE ABSORBTIO OF CALCIUM AND MINERALS THAT'S WHY YEARS OF CONSISTENT WALKING CAND HELP RETAIN BONEDENSITY WHICH USUALLY DECLINS WITH AGE BUILDING A LIFE LONG WALKING OTAN COMES WITH MANY OTHER BENEFENS FROM EAITING IN WAIHTMANAGEMENT TO REDUCSING YOUR RIS FOR TITDO DIABETIES NUMEROUSCANSERS AND DIMENSION SIMPLY PUT ORWALKING IS EXERCISE AND UNLIKE OTHER FORMS IT DOESN'T REQUIRE AQITNESS AND IS ALKEN MORE ACCESSIBL TO PEOPLE OF VARYING AGES AND VANISLEVELS WHILE AT TIVITY TRACTERS USUALLY BILL TAN TOS AND STEPS AS THE IDEAL VENTWORK SUDIESE SHOW THAT ANY INCREESE ANSTEPS PER DAY CAN YIELD HEALTH BENEFITS AND THESE STEPS DON'T NEED TOBE TCAKEN CONTINUOUSLY FOR THOSE WHO LIVE IN WALKABLE NEIGHBOURHOODS STEPS  BARE EASILY AHUMULATED THROUGHUT THE DAY  FWALKING TO  WOR  TO PICK UPGRO TREES ORTOM WITH FRENDS AND LIVING WHERE SHOPS ANAMENITIES ARE EASY TO GET TO ON FOOT COMES WITHEDS ONE SEDE OF PERKS RESIDENTS IN THESE COMMUNITIES  AR ALFAN LESS RELIANT ON VEHICLES WHICH TRANSLATES TO IMPROVEDAIR QUALITY AND REDUCED LOCAL GREEN HOUS GASSIMISIENS AND IT CAN EVEN CHANGED THE WAY YOU SEE THE WORLD ONCE STUDY OF SENIORS AN HONGCONG FOUND THAT THOSE LIVING IN MORE WALKABLE NEIGHBOURHOODS REPORTED FEELING LESS LONELINESS AND MORE LIFE SATISFACTION HAND THOSE LIVING AND LESS WALKABLE NEIGHBOURHOODS SO WHY DOES AT EVERY ONE TOES WAL ONE BID REASON IS THAT ANY HOB DON AT ATS US TO SATE WEL MAN TIIN PLACES TOTO STR DOSPITE THE KNOWN BENEFITS WANKEN MANY CITIES AND TOWNS HAVE BEND DESIGNED WITH ONLY DRIVING IN MINE STATE AND LOBAL GOVERNMENTS ACROSS THE GLOB OFTEN PRIORITIZE FUNDING FOR HIGHWAYS AND ROBS OVER SIDEWALKS AND PUBLIC PARKS AND EVEN WHEN WALKABLE SPACES EXIST THE ROUTS TO GET TO THEM ARNT ALWAYS PODESTRY AND FRIENDLY IN THE YOUSS RESIDENTIAL AND COMMERCIAL AREAS ARE TIPICALLY ZONE SEPARATELY AND ALTEN ONLY CONNECTED BY BUSY ROAD WAYS BUT THERE ARE WAYS TO MAK PLACES MORE FOOT FRIENDLY IN TWO THOUSAND THIRTEEN VAN COVERCITY OFFICIALS OPEND THE COMOK HELMKIN GREEN WAY TAKING A TWO CILOMETER ROAD AND CONVERTING IT INTO A WALKABLE AND VICABLE SPATES STUDIES FOWN THAT AFTER OPENING PEOPLE LIVIN CLOSE TO THE GREN WAY GOT MORE EXERCISE REDUCED THEIR DAILY CAR TRIPS BY TWENTY THREE PER CENT AND CLUT THEIR PERSONAL GREENHOUS GAS IMISSIONS BY TWENTY WONE PERCENSS AND EVEN SMALL MEASURES CAN HELP AND PLACES LIE BAT OVER MACK FOR EXAMPLE COMMENITY MEMBERS HAVE IMPROVE THE WALKABILITY OF THEIR DOWNTOWNS BY ADDINGS SIMPLE FEACHS LIKE PAINTED CROSS WALKS AND CURBEXTENSIONS AS FOR BELLEVOUX THE GUARDS O VENTUALLY LET HIM OUT HE'D WALK OVER SEVENTY FIVE THOUSAN COLOMETERS IN TOTAL TO COM PLEET HIS JOURNEY BUT IT'S CLEAR YOU DON'T HAVE TO TAKE QUITE THIS MANY STEPS TO SEE AND IMCACT WHILE WE WORK ON MAKING OUR COMMUNITIES MORE WALKABLE WE CAN ALSO WORK ON MAKING DRIVING MORE ENVIROE MENTALLY FRIENDLY FIND OUT WHICH CARS ARE MOST FUEL EFFICIENT WITH THIS VIDIO OR VISIT ADDATTADDAT CAM SLASH EARTHSCHOOL TO CHECK OUT ARE CLIMATE ECTIEN GUIDE AND DISCOVER THE PART YOU CAN PLAY AND PROTECTING OUR PLANET\n",
            "Transcription saved to transcription.pdf\n"
          ]
        }
      ],
      "source": [
        "from transformers import Wav2Vec2ForCTC, Wav2Vec2Processor\n",
        "import torch\n",
        "import librosa\n",
        "from reportlab.pdfgen import canvas\n",
        "\n",
        "# Load pre-trained model and processor\n",
        "model_name = \"facebook/wav2vec2-base-960h\"\n",
        "processor = Wav2Vec2Processor.from_pretrained(model_name)\n",
        "model = Wav2Vec2ForCTC.from_pretrained(model_name)\n",
        "\n",
        "# Load and process audio\n",
        "audio, rate = librosa.load(\"data/example-audio.wav\", sr=16000)\n",
        "input_values = processor(audio, sampling_rate=rate, return_tensors=\"pt\").input_values\n",
        "\n",
        "# Perform inference\n",
        "logits = model(input_values).logits\n",
        "predicted_ids = torch.argmax(logits, dim=-1)\n",
        "transcription = processor.batch_decode(predicted_ids)[0]\n",
        "print(transcription)\n",
        "\n",
        "# Save transcription to a PDF\n",
        "pdf_filename = \"transcription.pdf\"\n",
        "pdf = canvas.Canvas(\"data/transcription.pdf\")\n",
        "\n",
        "# Add transcription text to the PDF\n",
        "pdf.setFont(\"Helvetica\", 12)\n",
        "text_object = pdf.beginText(10, 10)  # Starting position (x, y)\n",
        "text_object.setTextOrigin(10, 600)\n",
        "text_object.setFont(\"Helvetica\", 12)\n",
        "\n",
        "# Split transcription into lines for better formatting in the PDF\n",
        "line_width = 80  # Max number of characters per line\n",
        "lines = [transcription[i:i + line_width] for i in range(0, len(transcription), line_width)]\n",
        "\n",
        "for line in lines:\n",
        "    text_object.textLine(line)\n",
        "\n",
        "pdf.drawText(text_object)\n",
        "pdf.save()\n",
        "\n",
        "print(f\"Transcription saved to {pdf_filename}\")"
      ]
    },
    {
      "cell_type": "code",
      "execution_count": 1,
      "metadata": {},
      "outputs": [
        {
          "ename": "NameError",
          "evalue": "name 'documents' is not defined",
          "output_type": "error",
          "traceback": [
            "\u001b[0;31m---------------------------------------------------------------------------\u001b[0m",
            "\u001b[0;31mNameError\u001b[0m                                 Traceback (most recent call last)",
            "Cell \u001b[0;32mIn[1], line 8\u001b[0m\n\u001b[1;32m      6\u001b[0m \u001b[38;5;66;03m# Extract text from all pages\u001b[39;00m\n\u001b[1;32m      7\u001b[0m \u001b[38;5;28;01mfor\u001b[39;00m page \u001b[38;5;129;01min\u001b[39;00m reader\u001b[38;5;241m.\u001b[39mpages:\n\u001b[0;32m----> 8\u001b[0m     \u001b[43mdocuments\u001b[49m\u001b[38;5;241m.\u001b[39mappend(page\u001b[38;5;241m.\u001b[39mextract_text())\n\u001b[1;32m     10\u001b[0m \u001b[38;5;28mprint\u001b[39m(documents)\n\u001b[1;32m     12\u001b[0m text_splitter \u001b[38;5;241m=\u001b[39m CharacterTextSplitter()\n",
            "\u001b[0;31mNameError\u001b[0m: name 'documents' is not defined"
          ]
        }
      ],
      "source": [
        "from PyPDF2 import PdfReader\n",
        "\n",
        "# Load the PDF file\n",
        "reader = PdfReader(\"data/transcription.pdf\")\n",
        "\n",
        "# Extract text from all pages\n",
        "for page in reader.pages:\n",
        "    documents.append(page.extract_text())\n",
        "\n",
        "print(documents)\n",
        "\n",
        "text_splitter = CharacterTextSplitter()\n",
        "split_pdf_documents = text_splitter.split_texts(documents, size=80)\n",
        "len(split_documents)\n",
        "split_documents[0:1]\n"
      ]
    },
    {
      "cell_type": "code",
      "execution_count": 93,
      "metadata": {
        "colab": {
          "base_uri": "https://localhost:8080/"
        },
        "id": "Ia2sUEuGR6yu",
        "outputId": "84937ecc-c35f-4c4a-a4ab-9da72625954c"
      },
      "outputs": [
        {
          "data": {
            "text/plain": [
              "1"
            ]
          },
          "execution_count": 93,
          "metadata": {},
          "output_type": "execute_result"
        }
      ],
      "source": [
        "text_loader = TextFileLoader(\"data/PMarcaBlogs.txt\")\n",
        "documents = text_loader.load_documents()\n",
        "len(documents)"
      ]
    },
    {
      "cell_type": "code",
      "execution_count": 94,
      "metadata": {
        "colab": {
          "base_uri": "https://localhost:8080/"
        },
        "id": "bV-tj5WFR6yu",
        "outputId": "674eb315-1ff3-4597-bcf5-38ece0a812ac"
      },
      "outputs": [
        {
          "name": "stdout",
          "output_type": "stream",
          "text": [
            "\n",
            "The Pmarca Blog Archives\n",
            "(select posts from 2007-2009)\n",
            "Marc Andreessen\n",
            "copyright: Andreessen Horow\n"
          ]
        }
      ],
      "source": [
        "print(documents[0][:100])"
      ]
    },
    {
      "cell_type": "markdown",
      "metadata": {
        "id": "nHlTvCzYR6yu"
      },
      "source": [
        "### Splitting Text Into Chunks\n",
        "\n",
        "As we can see, there is one massive document.\n",
        "\n",
        "We'll want to chunk the document into smaller parts so it's easier to pass the most relevant snippets to the LLM.\n",
        "\n",
        "There is no fixed way to split/chunk documents - and you'll need to rely on some intuition as well as knowing your data _very_ well in order to build the most robust system.\n",
        "\n",
        "For this toy example, we'll just split blindly on length.\n",
        "\n",
        "> There's an opportunity to clear up some terminology here, for this course we will be stick to the following:\n",
        ">\n",
        "> - \"source documents\" : The `.txt`, `.pdf`, `.html`, ..., files that make up the files and information we start with in its raw format\n",
        "> - \"document(s)\" : single (or more) text object(s)\n",
        "> - \"corpus\" : the combination of all of our documents\n"
      ]
    },
    {
      "cell_type": "markdown",
      "metadata": {
        "id": "2G6Voc0jR6yv"
      },
      "source": [
        "As you can imagine (though it's not specifically true in this toy example) the idea of splitting documents is to break them into managable sized chunks that retain the most relevant local context.\n"
      ]
    },
    {
      "cell_type": "code",
      "execution_count": 95,
      "metadata": {
        "colab": {
          "base_uri": "https://localhost:8080/"
        },
        "id": "UMC4tsEmR6yv",
        "outputId": "08689c0b-57cd-4040-942a-8193e997f5cb"
      },
      "outputs": [
        {
          "data": {
            "text/plain": [
              "373"
            ]
          },
          "execution_count": 95,
          "metadata": {},
          "output_type": "execute_result"
        }
      ],
      "source": [
        "text_splitter = CharacterTextSplitter()\n",
        "split_documents = text_splitter.split_texts(documents)\n",
        "len(split_documents)"
      ]
    },
    {
      "cell_type": "markdown",
      "metadata": {
        "id": "W2wKT0WLR6yv"
      },
      "source": [
        "Let's take a look at some of the documents we've managed to split.\n"
      ]
    },
    {
      "cell_type": "code",
      "execution_count": 96,
      "metadata": {
        "colab": {
          "base_uri": "https://localhost:8080/"
        },
        "id": "vcYMwWJoR6yv",
        "outputId": "20d69876-feca-4826-b4be-32915276987a"
      },
      "outputs": [
        {
          "data": {
            "text/plain": [
              "['\\ufeff\\nThe Pmarca Blog Archives\\n(select posts from 2007-2009)\\nMarc Andreessen\\ncopyright: Andreessen Horowitz\\ncover design: Jessica Hagy\\nproduced using: Pressbooks\\nContents\\nTHE PMARCA GUIDE TO STARTUPS\\nPart 1: Why not to do a startup 2\\nPart 2: When the VCs say \"no\" 10\\nPart 3: \"But I don\\'t know any VCs!\" 18\\nPart 4: The only thing that matters 25\\nPart 5: The Moby Dick theory of big companies 33\\nPart 6: How much funding is too little? Too much? 41\\nPart 7: Why a startup\\'s initial business plan doesn\\'t\\nmatter that much\\n49\\nTHE PMARCA GUIDE TO HIRING\\nPart 8: Hiring, managing, promoting, and Dring\\nexecutives\\n54\\nPart 9: How to hire a professional CEO 68\\nHow to hire the best people you\\'ve ever worked\\nwith\\n69\\nTHE PMARCA GUIDE TO BIG COMPANIES\\nPart 1: Turnaround! 82\\nPart 2: Retaining great people 86\\nTHE PMARCA GUIDE TO CAREER, PRODUCTIVITY,\\nAND SOME OTHER THINGS\\nIntroduction 97\\nPart 1: Opportunity 99\\nPart 2: Skills and education 107\\nPart 3: Where to go and why 120\\nThe Pmarca Guide to Personal Productivi']"
            ]
          },
          "execution_count": 96,
          "metadata": {},
          "output_type": "execute_result"
        }
      ],
      "source": [
        "split_documents[0:1]"
      ]
    },
    {
      "cell_type": "markdown",
      "metadata": {
        "id": "HOU-RFP_R6yv"
      },
      "source": [
        "## Task 3: Embeddings and Vectors\n",
        "\n",
        "Next, we have to convert our corpus into a \"machine readable\" format as we explored in the Embedding Primer notebook.\n",
        "\n",
        "Today, we're going to talk about the actual process of creating, and then storing, these embeddings, and how we can leverage that to intelligently add context to our queries.\n"
      ]
    },
    {
      "cell_type": "markdown",
      "metadata": {},
      "source": [
        "### OpenAI API Key\n",
        "\n",
        "In order to access OpenAI's APIs, we'll need to provide our OpenAI API Key!\n",
        "\n",
        "You can work through the folder \"OpenAI API Key Setup\" for more information on this process if you don't already have an API Key!\n"
      ]
    },
    {
      "cell_type": "code",
      "execution_count": 65,
      "metadata": {},
      "outputs": [],
      "source": [
        "import os\n",
        "import openai\n",
        "from getpass import getpass\n",
        "\n",
        "openai.api_key = getpass(\"OpenAI API Key: \")\n",
        "os.environ[\"OPENAI_API_KEY\"] = openai.api_key"
      ]
    },
    {
      "cell_type": "markdown",
      "metadata": {},
      "source": [
        "### Vector Database\n",
        "\n",
        "Let's set up our vector database to hold all our documents and their embeddings!\n"
      ]
    },
    {
      "cell_type": "markdown",
      "metadata": {
        "id": "kDQrfAR1R6yv"
      },
      "source": [
        "While this is all baked into 1 call - we can look at some of the code that powers this process to get a better understanding:\n",
        "\n",
        "Let's look at our `VectorDatabase().__init__()`:\n",
        "\n",
        "```python\n",
        "def __init__(self, embedding_model: EmbeddingModel = None):\n",
        "        self.vectors = defaultdict(np.array)\n",
        "        self.embedding_model = embedding_model or EmbeddingModel()\n",
        "```\n",
        "\n",
        "As you can see - our vectors are merely stored as a dictionary of `np.array` objects.\n",
        "\n",
        "Secondly, our `VectorDatabase()` has a default `EmbeddingModel()` which is a wrapper for OpenAI's `text-embedding-3-small` model.\n",
        "\n",
        "> **Quick Info About `text-embedding-3-small`**:\n",
        ">\n",
        "> - It has a context window of **8191** tokens\n",
        "> - It returns vectors with dimension **1536**\n"
      ]
    },
    {
      "cell_type": "markdown",
      "metadata": {
        "id": "L273pRdeR6yv"
      },
      "source": [
        "#### ❓Question #1:\n",
        "\n",
        "The default embedding dimension of `text-embedding-3-small` is 1536, as noted above.\n",
        "\n",
        "1. Is there any way to modify this dimension?\n",
        "2. What technique does OpenAI use to achieve this?\n",
        "\n",
        "> NOTE: Check out this [API documentation](https://platform.openai.com/docs/api-reference/embeddings/create) for the answer to question #1, and [this documentation](https://platform.openai.com/docs/guides/embeddings/use-cases) for an answer to question #2!\n"
      ]
    },
    {
      "cell_type": "markdown",
      "metadata": {},
      "source": [
        "<div style=\"background-color: #2b2c4f; padding: 10px; border-radius: 5px; border: 1px solid #b3d9ff;\">\n",
        "### &#x2611; Answer\n",
        "\n",
        "1. No, the dimension cannot be modified directly. However, we can use dimensionality reduction techniques to reduce the dimension of the embeddings. Ex: PCA, SVD, t-SNE, etc. Also we can use clustering techniques to reduce the dimension of the embeddings. Ex: K-Means, DBSCAN, etc. Additionally we can pass a custom dimension to the embedding model.\n",
        "\n",
        "2. OpenAI uses a technique called \"dimensionality reduction\" to achieve this. Ex: PCA, SVD, t-SNE, etc.\n",
        "\n",
        "</div>\n"
      ]
    },
    {
      "cell_type": "markdown",
      "metadata": {
        "id": "w5FZY7K3R6yv"
      },
      "source": [
        "We can call the `async_get_embeddings` method of our `EmbeddingModel()` on a list of `str` and receive a list of `float` back!\n",
        "\n",
        "```python\n",
        "async def async_get_embeddings(self, list_of_text: List[str]) -> List[List[float]]:\n",
        "        return await aget_embeddings(\n",
        "            list_of_text=list_of_text, engine=self.embeddings_model_name\n",
        "        )\n",
        "```\n"
      ]
    },
    {
      "cell_type": "markdown",
      "metadata": {
        "id": "cSct6X0aR6yv"
      },
      "source": [
        "We cast those to `np.array` when we build our `VectorDatabase()`:\n",
        "\n",
        "```python\n",
        "async def abuild_from_list(self, list_of_text: List[str]) -> \"VectorDatabase\":\n",
        "        embeddings = await self.embedding_model.async_get_embeddings(list_of_text)\n",
        "        for text, embedding in zip(list_of_text, embeddings):\n",
        "            self.insert(text, np.array(embedding))\n",
        "        return self\n",
        "```\n",
        "\n",
        "And that's all we need to do!\n"
      ]
    },
    {
      "cell_type": "code",
      "execution_count": 68,
      "metadata": {
        "id": "O4KoLbVDR6yv"
      },
      "outputs": [],
      "source": [
        "vector_db = VectorDatabase()\n",
        "vector_db = asyncio.run(vector_db.abuild_from_list(split_pdf_documents))"
      ]
    },
    {
      "cell_type": "markdown",
      "metadata": {
        "id": "SSZwaGvpR6yv"
      },
      "source": [
        "#### ❓Question #2:\n",
        "\n",
        "What are the benefits of using an `async` approach to collecting our embeddings?\n",
        "\n",
        "> NOTE: Determining the core difference between `async` and `sync` will be useful! If you get stuck - ask ChatGPT!\n"
      ]
    },
    {
      "cell_type": "markdown",
      "metadata": {},
      "source": [
        "<div style=\"background-color: #2b2c4f; padding: 10px; border-radius: 5px; border: 1px solid #b3d9ff;\">\n",
        "\n",
        "### &#x2611; Answer\n",
        "\n",
        "1. Async approach is more efficient and faster as it allows for concurrent execution of the embedding process.\n",
        "2. Async approach is more scalable and can handle more requests per second.\n",
        "3. Async approach is more robust and can handle failures gracefully.\n",
        "\n",
        "</div>\n"
      ]
    },
    {
      "cell_type": "markdown",
      "metadata": {
        "id": "nRBdIt-xR6yw"
      },
      "source": [
        "So, to review what we've done so far in natural language:\n",
        "\n",
        "1. We load source documents\n",
        "2. We split those source documents into smaller chunks (documents)\n",
        "3. We send each of those documents to the `text-embedding-3-small` OpenAI API endpoint\n",
        "4. We store each of the text representations with the vector representations as keys/values in a dictionary\n"
      ]
    },
    {
      "cell_type": "markdown",
      "metadata": {
        "id": "4-vWANZyR6yw"
      },
      "source": [
        "### Semantic Similarity\n",
        "\n",
        "The next step is to be able to query our `VectorDatabase()` with a `str` and have it return to us vectors and text that is most relevant from our corpus.\n",
        "\n",
        "We're going to use the following process to achieve this in our toy example:\n",
        "\n",
        "1. We need to embed our query with the same `EmbeddingModel()` as we used to construct our `VectorDatabase()`\n",
        "2. We loop through every vector in our `VectorDatabase()` and use a distance measure to compare how related they are\n",
        "3. We return a list of the top `k` closest vectors, with their text representations\n",
        "\n",
        "There's some very heavy optimization that can be done at each of these steps - but let's just focus on the basic pattern in this notebook.\n",
        "\n",
        "> We are using [cosine similarity](https://www.engati.com/glossary/cosine-similarity) as a distance metric in this example - but there are many many distance metrics you could use - like [these](https://flavien-vidal.medium.com/similarity-distances-for-natural-language-processing-16f63cd5ba55)\n",
        "\n",
        "> We are using a rather inefficient way of calculating relative distance between the query vector and all other vectors - there are more advanced approaches that are much more efficient, like [ANN](https://towardsdatascience.com/comprehensive-guide-to-approximate-nearest-neighbors-algorithms-8b94f057d6b6)\n"
      ]
    },
    {
      "cell_type": "code",
      "execution_count": 69,
      "metadata": {
        "colab": {
          "base_uri": "https://localhost:8080/"
        },
        "id": "76d96uavR6yw",
        "outputId": "bbfccc31-20a2-41c7-c14d-46554a43ed2d"
      },
      "outputs": [
        {
          "data": {
            "text/plain": [
              "[(\"O WHILE MOST PEOPLE O VOID SPENDIN THE NIGHT IN JAIL TOJOHN BELLEVOUX JUMP AT TH\\nE OPPORTUNITY FOR THE PAST THREE YEARS BELEVOX HAVE BEEN WALKING FROM COUNTRY TO\\n COUNTRY WITH THE GOAL OF CIRCUMNAVIGATING THE GLOBE ON FOOT THIS REQUIRED SLEEP\\nING IN TENTS STRANGERS HIND AND THE OCCASIONAL JAL CELL ALONG THE WAY BUT THIS M\\nORNING AS BELEVOUX WAS READY TO LEAVE THE POLICE CHIEF WHO HAD AGREED TO HIS SLE\\nEPING ARRANGEMENT WAS NOWHERE TO BE FOUND AND THE GUARDS ORN'T FYING HIS STORY F\\nEW PEOPLE HAVE THE TIME ORE DESIRE TO WALK SUCH EXTREME LANTS HOWEVER RESEARCH S\\nHOWS THAT ADDING EVEN A MODEST T AMOUNT OF WALKING TO YOUR DAILY ROUTINE CAND TO\\n RA MADIC WIT IN PROVE YOUR HEALTH SO WHAT EXACTLY HAVENS T YOUR BODY WHEN YOU I\\nNCREASE YOUR DAILY STEPCOUNT A SINGLE AFTERNOON STROLLL CAN IMPROVE YOUR RO AND \\nES SEM THEMS OF ANXIETY AND DEPRESSION WALKING E SPECIALLY AT A BRISK PACE ISS T\\nHOUGHT TO TRIGER THE RELEASE OF PAN RELEAVING IN DORPHANS AND CURB THE RELIES OF\\n DISTRESS HORMON CORTISAL WI\",\n",
              "  np.float64(0.2827271149123997)),\n",
              " (\" the year 2025 that you can imagine.\\nStop reading this blog right now. Go get it. Read it, and then\\ncome back.\\nI’ll wait.\\nIt’s that good.\\nWe’ll see how things turn out, but I would not be the least bit\\nsurprised if we look back from 2025 and say, “I’ll be damned,\\nVinge called it”, just like we look back today on 1981’s True\\nNames and say the same thing.\\nHe better write a sequel.\\nTop 10 science Dction novelists of the '00s ... so far (June 2007) 179\\nBubbles on the brain (October\\n2009)\\nIt has become commonplace in Silicon Valley and in the blogosphere to take the position that we are in another bubble —\\na Web 2.0 bubble, or a dot com bubble redux.\\nI don’t think this is true.\\nLet’s examine the theory of a new bubble from a few diWerent\\nangles.\\nFirst, recall that economist Paul Samuelson once quipped,\\n“Economists have successfully predicted nine of the last Xve\\nrecessions.”\\nOne might paraphrase this for our purposes as “Technology\\nindustry experts have successfully predicted nine of the la\",\n",
              "  np.float64(0.24083996626655998)),\n",
              " ('about. Marusek is oW the charts in terms of creativity and inventiveness — in his debut novel, Counting Heads, he extrapolates\\nwith incredible verve and detail an Earth circa 2134 that is a\\nnear-utopia. I frankly need to read it again. I think it may be a\\nfailure as a novel, but if so, it’s an amazing failure. Well worth\\nkeeping an eye on at the very least — has to win the award for\\nhighest potential.\\nBonus: Vernor Vinge\\nVinge, a retired San Diego State Univeristy professor of mathematics and computer science, is one of the most important science Xction authors ever — and with Arthur C. Clarke one of the\\nbest forecasters in the world.\\nFirst, if you haven’t had the pleasure, be sure to read True\\nNames, Vinge’s 1981 novella that forecast the modern Internet\\nwith shocking clarity. (Ignore the essays, just read the story.)\\nFans of Gibson and Stephenson will be amazed to see how much\\nmore accurately Vinge called it, and before Neuromancer‘s Xrst\\n178 The Pmarca Blog Archives\\npage cleared Gib',\n",
              "  np.float64(0.2323155160491919))]"
            ]
          },
          "execution_count": 69,
          "metadata": {},
          "output_type": "execute_result"
        }
      ],
      "source": [
        "vector_db.search_by_text(\"Who is JOHN BELLEVOUX?\", k=3)"
      ]
    },
    {
      "cell_type": "markdown",
      "metadata": {
        "id": "TehsfIiKR6yw"
      },
      "source": [
        "## Task 4: Prompts\n",
        "\n",
        "In the following section, we'll be looking at the role of prompts - and how they help us to guide our application in the right direction.\n",
        "\n",
        "In this notebook, we're going to rely on the idea of \"zero-shot in-context learning\".\n",
        "\n",
        "This is a lot of words to say: \"We will ask it to perform our desired task in the prompt, and provide no examples.\"\n"
      ]
    },
    {
      "cell_type": "markdown",
      "metadata": {
        "id": "yXpA0UveR6yw"
      },
      "source": [
        "### XYZRolePrompt\n",
        "\n",
        "Before we do that, let's stop and think a bit about how OpenAI's chat models work.\n",
        "\n",
        "We know they have roles - as is indicated in the following API [documentation](https://platform.openai.com/docs/api-reference/chat/create#chat/create-messages)\n",
        "\n",
        "There are three roles, and they function as follows (taken directly from [OpenAI](https://platform.openai.com/docs/guides/gpt/chat-completions-api)):\n",
        "\n",
        "- `{\"role\" : \"system\"}` : The system message helps set the behavior of the assistant. For example, you can modify the personality of the assistant or provide specific instructions about how it should behave throughout the conversation. However note that the system message is optional and the model’s behavior without a system message is likely to be similar to using a generic message such as \"You are a helpful assistant.\"\n",
        "- `{\"role\" : \"user\"}` : The user messages provide requests or comments for the assistant to respond to.\n",
        "- `{\"role\" : \"assistant\"}` : Assistant messages store previous assistant responses, but can also be written by you to give examples of desired behavior.\n",
        "\n",
        "The main idea is this:\n",
        "\n",
        "1. You start with a system message that outlines how the LLM should respond, what kind of behaviours you can expect from it, and more\n",
        "2. Then, you can provide a few examples in the form of \"assistant\"/\"user\" pairs\n",
        "3. Then, you prompt the model with the true \"user\" message.\n",
        "\n",
        "In this example, we'll be forgoing the 2nd step for simplicities sake.\n"
      ]
    },
    {
      "cell_type": "markdown",
      "metadata": {
        "id": "gdZ2KWKSR6yw"
      },
      "source": [
        "#### Utility Functions\n",
        "\n",
        "You'll notice that we're using some utility functions from the `aimakerspace` module - let's take a peek at these and see what they're doing!\n"
      ]
    },
    {
      "cell_type": "markdown",
      "metadata": {
        "id": "GFbeJDDsR6yw"
      },
      "source": [
        "##### XYZRolePrompt\n"
      ]
    },
    {
      "cell_type": "markdown",
      "metadata": {
        "id": "5mojJSE3R6yw"
      },
      "source": [
        "Here we have our `system`, `user`, and `assistant` role prompts.\n",
        "\n",
        "Let's take a peek at what they look like:\n",
        "\n",
        "```python\n",
        "class BasePrompt:\n",
        "    def __init__(self, prompt):\n",
        "        \"\"\"\n",
        "        Initializes the BasePrompt object with a prompt template.\n",
        "\n",
        "        :param prompt: A string that can contain placeholders within curly braces\n",
        "        \"\"\"\n",
        "        self.prompt = prompt\n",
        "        self._pattern = re.compile(r\"\\{([^}]+)\\}\")\n",
        "\n",
        "    def format_prompt(self, **kwargs):\n",
        "        \"\"\"\n",
        "        Formats the prompt string using the keyword arguments provided.\n",
        "\n",
        "        :param kwargs: The values to substitute into the prompt string\n",
        "        :return: The formatted prompt string\n",
        "        \"\"\"\n",
        "        matches = self._pattern.findall(self.prompt)\n",
        "        return self.prompt.format(**{match: kwargs.get(match, \"\") for match in matches})\n",
        "\n",
        "    def get_input_variables(self):\n",
        "        \"\"\"\n",
        "        Gets the list of input variable names from the prompt string.\n",
        "\n",
        "        :return: List of input variable names\n",
        "        \"\"\"\n",
        "        return self._pattern.findall(self.prompt)\n",
        "```\n",
        "\n",
        "Then we have our `RolePrompt` which laser focuses us on the role pattern found in most API endpoints for LLMs.\n",
        "\n",
        "```python\n",
        "class RolePrompt(BasePrompt):\n",
        "    def __init__(self, prompt, role: str):\n",
        "        \"\"\"\n",
        "        Initializes the RolePrompt object with a prompt template and a role.\n",
        "\n",
        "        :param prompt: A string that can contain placeholders within curly braces\n",
        "        :param role: The role for the message ('system', 'user', or 'assistant')\n",
        "        \"\"\"\n",
        "        super().__init__(prompt)\n",
        "        self.role = role\n",
        "\n",
        "    def create_message(self, **kwargs):\n",
        "        \"\"\"\n",
        "        Creates a message dictionary with a role and a formatted message.\n",
        "\n",
        "        :param kwargs: The values to substitute into the prompt string\n",
        "        :return: Dictionary containing the role and the formatted message\n",
        "        \"\"\"\n",
        "        return {\"role\": self.role, \"content\": self.format_prompt(**kwargs)}\n",
        "```\n",
        "\n",
        "We'll look at how the `SystemRolePrompt` is constructed to get a better idea of how that extension works:\n",
        "\n",
        "```python\n",
        "class SystemRolePrompt(RolePrompt):\n",
        "    def __init__(self, prompt: str):\n",
        "        super().__init__(prompt, \"system\")\n",
        "```\n",
        "\n",
        "That pattern is repeated for our `UserRolePrompt` and our `AssistantRolePrompt` as well.\n"
      ]
    },
    {
      "cell_type": "markdown",
      "metadata": {
        "id": "D361R6sMR6yw"
      },
      "source": [
        "##### ChatOpenAI\n"
      ]
    },
    {
      "cell_type": "markdown",
      "metadata": {
        "id": "HJVQ2Pm8R6yw"
      },
      "source": [
        "Next we have our model, which is converted to a format analagous to libraries like LangChain and LlamaIndex.\n",
        "\n",
        "Let's take a peek at how that is constructed:\n",
        "\n",
        "```python\n",
        "class ChatOpenAI:\n",
        "    def __init__(self, model_name: str = \"gpt-4o-mini\"):\n",
        "        self.model_name = model_name\n",
        "        self.openai_api_key = os.getenv(\"OPENAI_API_KEY\")\n",
        "        if self.openai_api_key is None:\n",
        "            raise ValueError(\"OPENAI_API_KEY is not set\")\n",
        "\n",
        "    def run(self, messages, text_only: bool = True):\n",
        "        if not isinstance(messages, list):\n",
        "            raise ValueError(\"messages must be a list\")\n",
        "\n",
        "        openai.api_key = self.openai_api_key\n",
        "        response = openai.ChatCompletion.create(\n",
        "            model=self.model_name, messages=messages\n",
        "        )\n",
        "\n",
        "        if text_only:\n",
        "            return response.choices[0].message.content\n",
        "\n",
        "        return response\n",
        "```\n"
      ]
    },
    {
      "cell_type": "markdown",
      "metadata": {
        "id": "qCU7FfhIR6yw"
      },
      "source": [
        "#### ❓ Question #3:\n",
        "\n",
        "When calling the OpenAI API - are there any ways we can achieve more reproducible outputs?\n",
        "\n",
        "> NOTE: Check out [this section](https://platform.openai.com/docs/guides/text-generation/) of the OpenAI documentation for the answer!\n"
      ]
    },
    {
      "cell_type": "markdown",
      "metadata": {},
      "source": [
        "<div style=\"background-color: #2b2c4f; padding: 10px; border-radius: 5px; border: 1px solid #b3d9ff;\">\n",
        "### &#x2611; Answer\n",
        "\n",
        "1. We can use the `temperature` parameter to control the randomness of the output.\n",
        "2. We can use the `top_p` parameter to control the diversity of the output.\n",
        "3. We can use the `stop` parameter to control the stopping of the output.\n",
        "\n",
        "</div>\n"
      ]
    },
    {
      "cell_type": "markdown",
      "metadata": {
        "id": "c5wcjMLCR6yw"
      },
      "source": [
        "### Creating and Prompting OpenAI's `gpt-4o-mini`!\n",
        "\n",
        "Let's tie all these together and use it to prompt `gpt-4o-mini`!\n"
      ]
    },
    {
      "cell_type": "code",
      "execution_count": 70,
      "metadata": {
        "id": "WIfpIot7R6yw"
      },
      "outputs": [],
      "source": [
        "from aimakerspace.openai_utils.prompts import (\n",
        "    UserRolePrompt,\n",
        "    SystemRolePrompt,\n",
        "    AssistantRolePrompt,\n",
        ")\n",
        "\n",
        "from aimakerspace.openai_utils.chatmodel import ChatOpenAI\n",
        "\n",
        "chat_openai = ChatOpenAI()\n",
        "user_prompt_template = \"{content}\"\n",
        "user_role_prompt = UserRolePrompt(user_prompt_template)\n",
        "system_prompt_template = (\n",
        "    \"You are an expert in {expertise}, you always answer in a kind way.\"\n",
        ")\n",
        "system_role_prompt = SystemRolePrompt(system_prompt_template)\n",
        "\n",
        "messages = [\n",
        "    system_role_prompt.create_message(expertise=\"Python\"),\n",
        "    user_role_prompt.create_message(\n",
        "        content=\"What is the best way to write a loop?\"\n",
        "    ),\n",
        "]\n",
        "\n",
        "response = chat_openai.run(messages)"
      ]
    },
    {
      "cell_type": "code",
      "execution_count": 71,
      "metadata": {
        "colab": {
          "base_uri": "https://localhost:8080/"
        },
        "id": "dHo7lssNR6yw",
        "outputId": "1d3823fa-bb6b-45f6-ddba-b41686388324"
      },
      "outputs": [
        {
          "name": "stdout",
          "output_type": "stream",
          "text": [
            "The best way to write a loop in Python depends on what you need to accomplish, but here are some common practices that can help you write clear and efficient loops:\n",
            "\n",
            "1. **Use `for` loops for iterating over sequences**: If you are working with a list, tuple, dictionary, or any iterable, using a `for` loop is often the most straightforward approach.\n",
            "\n",
            "   ```python\n",
            "   # Example: Iterating through a list\n",
            "   my_list = [1, 2, 3, 4, 5]\n",
            "   for item in my_list:\n",
            "       print(item)\n",
            "   ```\n",
            "\n",
            "2. **Use `while` loops for conditions**: Use a `while` loop when you want to repeat a block of code as long as a certain condition is true.\n",
            "\n",
            "   ```python\n",
            "   # Example: Counting down\n",
            "   count = 5\n",
            "   while count > 0:\n",
            "       print(count)\n",
            "       count -= 1\n",
            "   ```\n",
            "\n",
            "3. **Avoid infinite loops**: Ensure that your loop has a clear exit condition. You can add a break statement if you're using nested conditions to exit a loop early when needed.\n",
            "\n",
            "   ```python\n",
            "   # Example: Breaking out of a loop\n",
            "   for number in range(10):\n",
            "       if number == 5:\n",
            "           break  # Exit the loop when number is 5\n",
            "       print(number)\n",
            "   ```\n",
            "\n",
            "4. **Use `enumerate()` for indexed iterations**: If you need the index of items when looping through a list, use `enumerate()`.\n",
            "\n",
            "   ```python\n",
            "   # Example: Using enumerate\n",
            "   for index, value in enumerate(my_list):\n",
            "       print(f\"Index: {index}, Value: {value}\")\n",
            "   ```\n",
            "\n",
            "5. **List comprehensions for concise loops**: If you're creating a new list by processing elements from an existing list, consider using a list comprehension for clarity and conciseness.\n",
            "\n",
            "   ```python\n",
            "   # Example: List comprehension\n",
            "   squares = [x**2 for x in my_list]\n",
            "   print(squares)\n",
            "   ```\n",
            "\n",
            "6. **Keep your loops understandable**: Use clear variable names and avoid overly complex logic inside the loop. If a loop does too much, consider breaking it into functions.\n",
            "\n",
            "7. **Consider performance**: For large datasets or performance-critical applications, choose your looping method wisely. Sometimes, built-in functions like `map()` or `filter()` can be more efficient.\n",
            "\n",
            "By following these practices, you'll be able to write loops that are not only functional but also easy to read and maintain. If you have a specific scenario in mind where you need to write a loop, feel free to share, and I'd be happy to help!\n"
          ]
        }
      ],
      "source": [
        "print(response)"
      ]
    },
    {
      "cell_type": "markdown",
      "metadata": {
        "id": "r2nxxhB2R6yy"
      },
      "source": [
        "## Task 5: Retrieval Augmented Generation\n",
        "\n",
        "Now we can create a RAG prompt - which will help our system behave in a way that makes sense!\n",
        "\n",
        "There is much you could do here, many tweaks and improvements to be made!\n"
      ]
    },
    {
      "cell_type": "code",
      "execution_count": 78,
      "metadata": {},
      "outputs": [],
      "source": [
        "# Enhanced RetrievalAugmentedQAPipeline with distance metric selection\n",
        "class RetrievalAugmentedQAPipeline:\n",
        "    def __init__(self, llm: ChatOpenAI(), vector_db_retriever: VectorDatabase, \n",
        "                 distance_metric: DistanceMetric = DistanceMetric.EUCLIDEAN) -> None:\n",
        "        self.llm = llm\n",
        "        self.vector_db_retriever = vector_db_retriever\n",
        "        self.distance_metric = distance_metric\n",
        "\n",
        "    def run_pipeline(self, user_query: str, k: int = 4) -> dict:\n",
        "        # Get query embedding\n",
        "        query_embedding = self.vector_db_retriever.embedding_model.get_embeddings([user_query])[0]\n",
        "        \n",
        "        # Calculate distances using selected metric\n",
        "        distances = []\n",
        "        for text, embedding in zip(self.vector_db_retriever.texts, self.vector_db_retriever.embeddings):\n",
        "            distance = calculate_distance(query_embedding, embedding, self.distance_metric)\n",
        "            distances.append((text, distance))\n",
        "        \n",
        "        # Sort by distance and get top k results\n",
        "        context_list = sorted(distances, key=lambda x: x[1])[:k]\n",
        "        \n",
        "        # Format context\n",
        "        context_prompt = \"\\n\".join([context[0] for context in context_list])\n",
        "        \n",
        "        # Create prompts\n",
        "        formatted_system_prompt = rag_prompt.create_message()\n",
        "        formatted_user_prompt = user_prompt.create_message(\n",
        "            user_query=user_query, \n",
        "            context=context_prompt\n",
        "        )\n",
        "        \n",
        "        return {\n",
        "            \"response\": self.llm.run([formatted_system_prompt, formatted_user_prompt]),\n",
        "            \"context\": context_list\n",
        "        }"
      ]
    },
    {
      "cell_type": "code",
      "execution_count": 72,
      "metadata": {
        "id": "D1hamzGaR6yy"
      },
      "outputs": [],
      "source": [
        "RAG_PROMPT_TEMPLATE = \"\"\" \\\n",
        "Use the provided context to answer the user's query.\n",
        "\n",
        "You may not answer the user's query unless there is specific context in the following text.\n",
        "\n",
        "If you do not know the answer, or cannot answer, please respond with \"I don't know\".\n",
        "\"\"\"\n",
        "\n",
        "rag_prompt = SystemRolePrompt(RAG_PROMPT_TEMPLATE)\n",
        "\n",
        "USER_PROMPT_TEMPLATE = \"\"\" \\\n",
        "Context:\n",
        "{context}\n",
        "\n",
        "User Query:\n",
        "{user_query}\n",
        "\"\"\"\n",
        "\n",
        "\n",
        "user_prompt = UserRolePrompt(USER_PROMPT_TEMPLATE)\n",
        "\n",
        "class RetrievalAugmentedQAPipeline:\n",
        "    def __init__(self, llm: ChatOpenAI(), vector_db_retriever: VectorDatabase) -> None:\n",
        "        self.llm = llm\n",
        "        self.vector_db_retriever = vector_db_retriever\n",
        "\n",
        "    def run_pipeline(self, user_query: str) -> str:\n",
        "        context_list = self.vector_db_retriever.search_by_text(user_query, k=4)\n",
        "\n",
        "        context_prompt = \"\"\n",
        "        for context in context_list:\n",
        "            context_prompt += context[0] + \"\\n\"\n",
        "\n",
        "        formatted_system_prompt = rag_prompt.create_message()\n",
        "\n",
        "        formatted_user_prompt = user_prompt.create_message(user_query=user_query, context=context_prompt)\n",
        "\n",
        "        return {\"response\" : self.llm.run([formatted_system_prompt, formatted_user_prompt]), \"context\" : context_list}"
      ]
    },
    {
      "cell_type": "markdown",
      "metadata": {
        "id": "zZIJI19uR6yz"
      },
      "source": [
        "#### ❓ Question #4:\n",
        "\n",
        "What prompting strategies could you use to make the LLM have a more thoughtful, detailed response?\n",
        "\n",
        "What is that strategy called?\n",
        "\n",
        "> NOTE: You can look through the Week 1 Day 1 \"Prompting OpenAI Like A Developer\" material for an answer to this question!\n"
      ]
    },
    {
      "cell_type": "markdown",
      "metadata": {},
      "source": [
        "<div style=\"background-color: #2b2c4f; padding: 10px; border-radius: 5px; border: 1px solid #b3d9ff;\">\n",
        "### &#x2611; Answer\n",
        "\n",
        "1. We can use specific prompting strategies to make the LLM have a more thoughtful, detailed response. Ex: RAG, Prompting, etc.\n",
        "2. We can make use of chain of thought prompting to make the LLM have a more thoughtful, detailed response. However, this might not always work in our favor based on certain requirements.\n",
        "3. Finally we can use \"Retrieval Augmented Generation\" (RAG).\n",
        "\n",
        "</div>\n"
      ]
    },
    {
      "cell_type": "code",
      "execution_count": 81,
      "metadata": {
        "id": "kqbE9fZ6R6yz"
      },
      "outputs": [],
      "source": [
        "retrieval_augmented_qa_pipeline = RetrievalAugmentedQAPipeline(\n",
        "    vector_db_retriever=vector_db,\n",
        "    llm=chat_openai\n",
        ")"
      ]
    },
    {
      "cell_type": "code",
      "execution_count": 80,
      "metadata": {
        "colab": {
          "base_uri": "https://localhost:8080/"
        },
        "id": "jAGhaCGOR6yz",
        "outputId": "e4fb3a1b-d2bc-4e18-ec31-dc0adf767163"
      },
      "outputs": [
        {
          "ename": "AttributeError",
          "evalue": "'VectorDatabase' object has no attribute 'texts'",
          "output_type": "error",
          "traceback": [
            "\u001b[0;31m---------------------------------------------------------------------------\u001b[0m",
            "\u001b[0;31mAttributeError\u001b[0m                            Traceback (most recent call last)",
            "Cell \u001b[0;32mIn[80], line 1\u001b[0m\n\u001b[0;32m----> 1\u001b[0m \u001b[43mretrieval_augmented_qa_pipeline\u001b[49m\u001b[38;5;241;43m.\u001b[39;49m\u001b[43mrun_pipeline\u001b[49m\u001b[43m(\u001b[49m\u001b[38;5;124;43m\"\u001b[39;49m\u001b[38;5;124;43mDid JOHN BELLEVOUX sleep in tents?\u001b[39;49m\u001b[38;5;124;43m\"\u001b[39;49m\u001b[43m)\u001b[49m\n",
            "Cell \u001b[0;32mIn[78], line 15\u001b[0m, in \u001b[0;36mRetrievalAugmentedQAPipeline.run_pipeline\u001b[0;34m(self, user_query, k)\u001b[0m\n\u001b[1;32m     13\u001b[0m \u001b[38;5;66;03m# Calculate distances using selected metric\u001b[39;00m\n\u001b[1;32m     14\u001b[0m distances \u001b[38;5;241m=\u001b[39m []\n\u001b[0;32m---> 15\u001b[0m \u001b[38;5;28;01mfor\u001b[39;00m text, embedding \u001b[38;5;129;01min\u001b[39;00m \u001b[38;5;28mzip\u001b[39m(\u001b[38;5;28;43mself\u001b[39;49m\u001b[38;5;241;43m.\u001b[39;49m\u001b[43mvector_db_retriever\u001b[49m\u001b[38;5;241;43m.\u001b[39;49m\u001b[43mtexts\u001b[49m, \u001b[38;5;28mself\u001b[39m\u001b[38;5;241m.\u001b[39mvector_db_retriever\u001b[38;5;241m.\u001b[39membeddings):\n\u001b[1;32m     16\u001b[0m     distance \u001b[38;5;241m=\u001b[39m calculate_distance(query_embedding, embedding, \u001b[38;5;28mself\u001b[39m\u001b[38;5;241m.\u001b[39mdistance_metric)\n\u001b[1;32m     17\u001b[0m     distances\u001b[38;5;241m.\u001b[39mappend((text, distance))\n",
            "\u001b[0;31mAttributeError\u001b[0m: 'VectorDatabase' object has no attribute 'texts'"
          ]
        }
      ],
      "source": [
        "retrieval_augmented_qa_pipeline.run_pipeline(\"Did JOHN BELLEVOUX sleep in tents?\")"
      ]
    },
    {
      "cell_type": "markdown",
      "metadata": {},
      "source": [
        "### 🏗️ Activity #1:\n",
        "\n",
        "Enhance your RAG application in some way!\n",
        "\n",
        "Suggestions are:\n",
        "\n",
        "- Allow it to work with PDF files\n",
        "- Implement a new distance metric\n",
        "- Add metadata support to the vector database\n",
        "\n",
        "While these are suggestions, you should feel free to make whatever augmentations you desire!\n",
        "\n",
        "> NOTE: These additions might require you to work within the `aimakerspace` library - that's expected!\n"
      ]
    }
  ],
  "metadata": {
    "colab": {
      "provenance": []
    },
    "kernelspec": {
      "display_name": ".venv",
      "language": "python",
      "name": "python3"
    },
    "language_info": {
      "codemirror_mode": {
        "name": "ipython",
        "version": 3
      },
      "file_extension": ".py",
      "mimetype": "text/x-python",
      "name": "python",
      "nbconvert_exporter": "python",
      "pygments_lexer": "ipython3",
      "version": "3.11.11"
    },
    "orig_nbformat": 4,
    "widgets": {
      "application/vnd.jupyter.widget-state+json": {
        "1ce393d9afcf427d9d352259c5d32678": {
          "model_module": "@jupyter-widgets/controls",
          "model_module_version": "1.5.0",
          "model_name": "FloatProgressModel",
          "state": {
            "_dom_classes": [],
            "_model_module": "@jupyter-widgets/controls",
            "_model_module_version": "1.5.0",
            "_model_name": "FloatProgressModel",
            "_view_count": null,
            "_view_module": "@jupyter-widgets/controls",
            "_view_module_version": "1.5.0",
            "_view_name": "ProgressView",
            "bar_style": "",
            "description": "",
            "description_tooltip": null,
            "layout": "IPY_MODEL_4e6efd99f7d346e485b002fb0fa85cc7",
            "max": 1,
            "min": 0,
            "orientation": "horizontal",
            "style": "IPY_MODEL_3dfb67c39958461da6071e4c19c3fa41",
            "value": 1
          }
        },
        "3a4ba348cb004f8ab7b2b1395539c81b": {
          "model_module": "@jupyter-widgets/controls",
          "model_module_version": "1.5.0",
          "model_name": "LabelModel",
          "state": {
            "_dom_classes": [],
            "_model_module": "@jupyter-widgets/controls",
            "_model_module_version": "1.5.0",
            "_model_name": "LabelModel",
            "_view_count": null,
            "_view_module": "@jupyter-widgets/controls",
            "_view_module_version": "1.5.0",
            "_view_name": "LabelView",
            "description": "",
            "description_tooltip": null,
            "layout": "IPY_MODEL_d2ea5009dd16442cb5d8a0ac468e50a8",
            "placeholder": "​",
            "style": "IPY_MODEL_5f00135fe1044051a50ee5e841cbb8e3",
            "value": "0.018 MB of 0.018 MB uploaded\r"
          }
        },
        "3dfb67c39958461da6071e4c19c3fa41": {
          "model_module": "@jupyter-widgets/controls",
          "model_module_version": "1.5.0",
          "model_name": "ProgressStyleModel",
          "state": {
            "_model_module": "@jupyter-widgets/controls",
            "_model_module_version": "1.5.0",
            "_model_name": "ProgressStyleModel",
            "_view_count": null,
            "_view_module": "@jupyter-widgets/base",
            "_view_module_version": "1.2.0",
            "_view_name": "StyleView",
            "bar_color": null,
            "description_width": ""
          }
        },
        "4e6efd99f7d346e485b002fb0fa85cc7": {
          "model_module": "@jupyter-widgets/base",
          "model_module_version": "1.2.0",
          "model_name": "LayoutModel",
          "state": {
            "_model_module": "@jupyter-widgets/base",
            "_model_module_version": "1.2.0",
            "_model_name": "LayoutModel",
            "_view_count": null,
            "_view_module": "@jupyter-widgets/base",
            "_view_module_version": "1.2.0",
            "_view_name": "LayoutView",
            "align_content": null,
            "align_items": null,
            "align_self": null,
            "border": null,
            "bottom": null,
            "display": null,
            "flex": null,
            "flex_flow": null,
            "grid_area": null,
            "grid_auto_columns": null,
            "grid_auto_flow": null,
            "grid_auto_rows": null,
            "grid_column": null,
            "grid_gap": null,
            "grid_row": null,
            "grid_template_areas": null,
            "grid_template_columns": null,
            "grid_template_rows": null,
            "height": null,
            "justify_content": null,
            "justify_items": null,
            "left": null,
            "margin": null,
            "max_height": null,
            "max_width": null,
            "min_height": null,
            "min_width": null,
            "object_fit": null,
            "object_position": null,
            "order": null,
            "overflow": null,
            "overflow_x": null,
            "overflow_y": null,
            "padding": null,
            "right": null,
            "top": null,
            "visibility": null,
            "width": null
          }
        },
        "56a8e24025594e5e9ff3b8581c344691": {
          "model_module": "@jupyter-widgets/base",
          "model_module_version": "1.2.0",
          "model_name": "LayoutModel",
          "state": {
            "_model_module": "@jupyter-widgets/base",
            "_model_module_version": "1.2.0",
            "_model_name": "LayoutModel",
            "_view_count": null,
            "_view_module": "@jupyter-widgets/base",
            "_view_module_version": "1.2.0",
            "_view_name": "LayoutView",
            "align_content": null,
            "align_items": null,
            "align_self": null,
            "border": null,
            "bottom": null,
            "display": null,
            "flex": null,
            "flex_flow": null,
            "grid_area": null,
            "grid_auto_columns": null,
            "grid_auto_flow": null,
            "grid_auto_rows": null,
            "grid_column": null,
            "grid_gap": null,
            "grid_row": null,
            "grid_template_areas": null,
            "grid_template_columns": null,
            "grid_template_rows": null,
            "height": null,
            "justify_content": null,
            "justify_items": null,
            "left": null,
            "margin": null,
            "max_height": null,
            "max_width": null,
            "min_height": null,
            "min_width": null,
            "object_fit": null,
            "object_position": null,
            "order": null,
            "overflow": null,
            "overflow_x": null,
            "overflow_y": null,
            "padding": null,
            "right": null,
            "top": null,
            "visibility": null,
            "width": null
          }
        },
        "5f00135fe1044051a50ee5e841cbb8e3": {
          "model_module": "@jupyter-widgets/controls",
          "model_module_version": "1.5.0",
          "model_name": "DescriptionStyleModel",
          "state": {
            "_model_module": "@jupyter-widgets/controls",
            "_model_module_version": "1.5.0",
            "_model_name": "DescriptionStyleModel",
            "_view_count": null,
            "_view_module": "@jupyter-widgets/base",
            "_view_module_version": "1.2.0",
            "_view_name": "StyleView",
            "description_width": ""
          }
        },
        "bb904e05ece143c79ecc4f20de482f45": {
          "model_module": "@jupyter-widgets/controls",
          "model_module_version": "1.5.0",
          "model_name": "VBoxModel",
          "state": {
            "_dom_classes": [],
            "_model_module": "@jupyter-widgets/controls",
            "_model_module_version": "1.5.0",
            "_model_name": "VBoxModel",
            "_view_count": null,
            "_view_module": "@jupyter-widgets/controls",
            "_view_module_version": "1.5.0",
            "_view_name": "VBoxView",
            "box_style": "",
            "children": [
              "IPY_MODEL_3a4ba348cb004f8ab7b2b1395539c81b",
              "IPY_MODEL_1ce393d9afcf427d9d352259c5d32678"
            ],
            "layout": "IPY_MODEL_56a8e24025594e5e9ff3b8581c344691"
          }
        },
        "d2ea5009dd16442cb5d8a0ac468e50a8": {
          "model_module": "@jupyter-widgets/base",
          "model_module_version": "1.2.0",
          "model_name": "LayoutModel",
          "state": {
            "_model_module": "@jupyter-widgets/base",
            "_model_module_version": "1.2.0",
            "_model_name": "LayoutModel",
            "_view_count": null,
            "_view_module": "@jupyter-widgets/base",
            "_view_module_version": "1.2.0",
            "_view_name": "LayoutView",
            "align_content": null,
            "align_items": null,
            "align_self": null,
            "border": null,
            "bottom": null,
            "display": null,
            "flex": null,
            "flex_flow": null,
            "grid_area": null,
            "grid_auto_columns": null,
            "grid_auto_flow": null,
            "grid_auto_rows": null,
            "grid_column": null,
            "grid_gap": null,
            "grid_row": null,
            "grid_template_areas": null,
            "grid_template_columns": null,
            "grid_template_rows": null,
            "height": null,
            "justify_content": null,
            "justify_items": null,
            "left": null,
            "margin": null,
            "max_height": null,
            "max_width": null,
            "min_height": null,
            "min_width": null,
            "object_fit": null,
            "object_position": null,
            "order": null,
            "overflow": null,
            "overflow_x": null,
            "overflow_y": null,
            "padding": null,
            "right": null,
            "top": null,
            "visibility": null,
            "width": null
          }
        }
      }
    }
  },
  "nbformat": 4,
  "nbformat_minor": 0
}
