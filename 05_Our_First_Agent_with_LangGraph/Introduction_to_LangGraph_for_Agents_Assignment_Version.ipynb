{
  "cells": [
    {
      "cell_type": "markdown",
      "metadata": {
        "id": "gJXW_DgiSebM"
      },
      "source": [
        "# LangGraph and LangSmith - Agentic RAG Powered by LangChain\n",
        "\n",
        "In the following notebook we'll complete the following tasks:\n",
        "\n",
        "- 🤝 Breakout Room #1:\n",
        "  1. Install required libraries\n",
        "  2. Set Environment Variables\n",
        "  3. Creating our Tool Belt\n",
        "  4. Creating Our State\n",
        "  5. Creating and Compiling A Graph!\n",
        "\n",
        "  - 🤝 Breakout Room #2:\n",
        "  1. Evaluating the LangGraph Application with LangSmith\n",
        "  2. Adding Helpfulness Check and \"Loop\" Limits\n",
        "  3. LangGraph for the \"Patterns\" of GenAI"
      ]
    },
    {
      "cell_type": "markdown",
      "metadata": {
        "id": "djQ3nRAgoF67"
      },
      "source": [
        "# 🤝 Breakout Room #1"
      ]
    },
    {
      "cell_type": "markdown",
      "metadata": {
        "id": "e7pQDUhUnIo8"
      },
      "source": [
        "## Part 1: LangGraph - Building Cyclic Applications with LangChain\n",
        "\n",
        "LangGraph is a tool that leverages LangChain Expression Language to build coordinated multi-actor and stateful applications that includes cyclic behaviour.\n",
        "\n",
        "### Why Cycles?\n",
        "\n",
        "In essence, we can think of a cycle in our graph as a more robust and customizable loop. It allows us to keep our application agent-forward while still giving the powerful functionality of traditional loops.\n",
        "\n",
        "Due to the inclusion of cycles over loops, we can also compose rather complex flows through our graph in a much more readable and natural fashion. Effectively allowing us to recreate application flowcharts in code in an almost 1-to-1 fashion.\n",
        "\n",
        "### Why LangGraph?\n",
        "\n",
        "Beyond the agent-forward approach - we can easily compose and combine traditional \"DAG\" (directed acyclic graph) chains with powerful cyclic behaviour due to the tight integration with LCEL. This means it's a natural extension to LangChain's core offerings!"
      ]
    },
    {
      "cell_type": "markdown",
      "metadata": {
        "id": "3_fLDElOVoop"
      },
      "source": [
        "## Task 1:  Dependencies\n",
        "\n",
        "We'll first install all our required libraries.\n",
        "\n",
        "> NOTE: If you're running this locally - please skip this step."
      ]
    },
    {
      "cell_type": "code",
      "execution_count": 1,
      "metadata": {
        "colab": {
          "base_uri": "https://localhost:8080/"
        },
        "id": "KaVwN269EttM",
        "outputId": "ba50f775-3957-4d88-9a88-43acc6966dda"
      },
      "outputs": [
        {
          "name": "stdout",
          "output_type": "stream",
          "text": [
            "  Preparing metadata (setup.py) ... \u001b[?25l\u001b[?25hdone\n",
            "\u001b[2K   \u001b[90m━━━━━━━━━━━━━━━━━━━━━━━━━━━━━━━━━━━━━━━━\u001b[0m \u001b[32m1.0/1.0 MB\u001b[0m \u001b[31m12.9 MB/s\u001b[0m eta \u001b[36m0:00:00\u001b[0m\n",
            "\u001b[2K   \u001b[90m━━━━━━━━━━━━━━━━━━━━━━━━━━━━━━━━━━━━━━━━\u001b[0m \u001b[32m54.4/54.4 kB\u001b[0m \u001b[31m3.4 MB/s\u001b[0m eta \u001b[36m0:00:00\u001b[0m\n",
            "\u001b[2K   \u001b[90m━━━━━━━━━━━━━━━━━━━━━━━━━━━━━━━━━━━━━━━━\u001b[0m \u001b[32m2.5/2.5 MB\u001b[0m \u001b[31m47.3 MB/s\u001b[0m eta \u001b[36m0:00:00\u001b[0m\n",
            "\u001b[2K   \u001b[90m━━━━━━━━━━━━━━━━━━━━━━━━━━━━━━━━━━━━━━━━\u001b[0m \u001b[32m145.8/145.8 kB\u001b[0m \u001b[31m9.1 MB/s\u001b[0m eta \u001b[36m0:00:00\u001b[0m\n",
            "\u001b[2K   \u001b[90m━━━━━━━━━━━━━━━━━━━━━━━━━━━━━━━━━━━━━━━━\u001b[0m \u001b[32m81.3/81.3 kB\u001b[0m \u001b[31m3.3 MB/s\u001b[0m eta \u001b[36m0:00:00\u001b[0m\n",
            "\u001b[2K   \u001b[90m━━━━━━━━━━━━━━━━━━━━━━━━━━━━━━━━━━━━━━━━\u001b[0m \u001b[32m412.4/412.4 kB\u001b[0m \u001b[31m12.1 MB/s\u001b[0m eta \u001b[36m0:00:00\u001b[0m\n",
            "\u001b[2K   \u001b[90m━━━━━━━━━━━━━━━━━━━━━━━━━━━━━━━━━━━━━━━━\u001b[0m \u001b[32m44.7/44.7 kB\u001b[0m \u001b[31m2.7 MB/s\u001b[0m eta \u001b[36m0:00:00\u001b[0m\n",
            "\u001b[2K   \u001b[90m━━━━━━━━━━━━━━━━━━━━━━━━━━━━━━━━━━━━━━━━\u001b[0m \u001b[32m1.2/1.2 MB\u001b[0m \u001b[31m19.5 MB/s\u001b[0m eta \u001b[36m0:00:00\u001b[0m\n",
            "\u001b[2K   \u001b[90m━━━━━━━━━━━━━━━━━━━━━━━━━━━━━━━━━━━━━━━━\u001b[0m \u001b[32m50.8/50.8 kB\u001b[0m \u001b[31m3.1 MB/s\u001b[0m eta \u001b[36m0:00:00\u001b[0m\n",
            "\u001b[?25h  Building wheel for sgmllib3k (setup.py) ... \u001b[?25l\u001b[?25hdone\n"
          ]
        }
      ],
      "source": [
        "!pip install -qU langchain langchain_openai langchain-community langgraph arxiv"
      ]
    },
    {
      "cell_type": "markdown",
      "metadata": {
        "id": "wujPjGJuoPwg"
      },
      "source": [
        "## Task 2: Environment Variables\n",
        "\n",
        "We'll want to set both our OpenAI API key and our LangSmith environment variables."
      ]
    },
    {
      "cell_type": "code",
      "execution_count": 37,
      "metadata": {
        "colab": {
          "base_uri": "https://localhost:8080/"
        },
        "id": "Jdh8CoVWHRvs",
        "outputId": "3fa78560-393c-4ee5-b871-9886bf0d70f4"
      },
      "outputs": [],
      "source": [
        "import os\n",
        "import getpass\n",
        "\n",
        "os.environ[\"OPENAI_API_KEY\"] = getpass.getpass(\"OpenAI API Key:\")"
      ]
    },
    {
      "cell_type": "markdown",
      "metadata": {
        "id": "BLmneW40276B"
      },
      "source": []
    },
    {
      "cell_type": "code",
      "execution_count": 38,
      "metadata": {
        "colab": {
          "base_uri": "https://localhost:8080/"
        },
        "id": "Jkla2fpx28QK",
        "outputId": "52d7ad22-fcb1-4abe-853b-216c55a12650"
      },
      "outputs": [],
      "source": [
        "os.environ[\"TAVILY_API_KEY\"] = getpass.getpass(\"TAVILY_API_KEY\")"
      ]
    },
    {
      "cell_type": "code",
      "execution_count": 39,
      "metadata": {
        "colab": {
          "base_uri": "https://localhost:8080/"
        },
        "id": "Nv0glIDyHmRt",
        "outputId": "b69df90a-b4e1-4ddb-9de0-882d98b68ab2"
      },
      "outputs": [],
      "source": [
        "from uuid import uuid4\n",
        "\n",
        "os.environ[\"LANGCHAIN_TRACING_V2\"] = \"true\"\n",
        "os.environ[\"LANGCHAIN_PROJECT\"] = f\"AIE5 - LangGraph - {uuid4().hex[0:8]}\"\n",
        "os.environ[\"LANGCHAIN_API_KEY\"] = getpass.getpass(\"LangSmith API Key: \")"
      ]
    },
    {
      "cell_type": "markdown",
      "metadata": {
        "id": "sBRyQmEAVzua"
      },
      "source": [
        "## Task 3: Creating our Tool Belt\n",
        "\n",
        "As is usually the case, we'll want to equip our agent with a toolbelt to help answer questions and add external knowledge.\n",
        "\n",
        "There's a tonne of tools in the [LangChain Community Repo](https://github.com/langchain-ai/langchain/tree/master/libs/community/langchain_community/tools) but we'll stick to a couple just so we can observe the cyclic nature of LangGraph in action!\n",
        "\n",
        "We'll leverage:\n",
        "\n",
        "- [Tavily Search Results](https://github.com/langchain-ai/langchain/blob/master/libs/community/langchain_community/tools/tavily_search/tool.py)\n",
        "- [Arxiv](https://github.com/langchain-ai/langchain/tree/master/libs/community/langchain_community/tools/arxiv)"
      ]
    },
    {
      "cell_type": "markdown",
      "metadata": {
        "id": "2k6n_Dob2F46"
      },
      "source": [
        "####🏗️ Activity #1:\n",
        "\n",
        "Please add the tools to use into our toolbelt.\n",
        "\n",
        "> NOTE: Each tool in our toolbelt should be a method."
      ]
    },
    {
      "cell_type": "markdown",
      "metadata": {},
      "source": [
        "#### ✅ Answer:\n",
        "We have added Tavily and Arxiv to the toolbelt."
      ]
    },
    {
      "cell_type": "code",
      "execution_count": 40,
      "metadata": {
        "id": "lAxaSvlfIeOg"
      },
      "outputs": [],
      "source": [
        "from langchain_community.tools.tavily_search import TavilySearchResults\n",
        "from langchain_community.tools.arxiv.tool import ArxivQueryRun\n",
        "\n",
        "tavily_tool = TavilySearchResults(max_results=5)\n",
        "\n",
        "tool_belt = [\n",
        "    tavily_tool,\n",
        "    ArxivQueryRun(),\n",
        "]"
      ]
    },
    {
      "cell_type": "markdown",
      "metadata": {
        "id": "VI-C669ZYVI5"
      },
      "source": [
        "### Model\n",
        "\n",
        "Now we can set-up our model! We'll leverage the familiar OpenAI model suite for this example - but it's not *necessary* to use with LangGraph. LangGraph supports all models - though you might not find success with smaller models - as such, they recommend you stick with:\n",
        "\n",
        "- OpenAI's GPT-3.5 and GPT-4\n",
        "- Anthropic's Claude\n",
        "- Google's Gemini\n",
        "\n",
        "> NOTE: Because we're leveraging the OpenAI function calling API - we'll need to use OpenAI *for this specific example* (or any other service that exposes an OpenAI-style function calling API."
      ]
    },
    {
      "cell_type": "code",
      "execution_count": 41,
      "metadata": {
        "id": "QkNS8rNZJs4z"
      },
      "outputs": [],
      "source": [
        "from langchain_openai import ChatOpenAI\n",
        "\n",
        "model = ChatOpenAI(model=\"gpt-4o\", temperature=0)"
      ]
    },
    {
      "cell_type": "markdown",
      "metadata": {
        "id": "Ugkj3GzuZpQv"
      },
      "source": [
        "Now that we have our model set-up, let's \"put on the tool belt\", which is to say: We'll bind our LangChain formatted tools to the model in an OpenAI function calling format."
      ]
    },
    {
      "cell_type": "code",
      "execution_count": 42,
      "metadata": {
        "id": "4OdMqFafZ_0V"
      },
      "outputs": [],
      "source": [
        "model = model.bind_tools(tool_belt)"
      ]
    },
    {
      "cell_type": "markdown",
      "metadata": {
        "id": "ERzuGo6W18Lr"
      },
      "source": [
        "#### ❓ Question #1:\n",
        "\n",
        "How does the model determine which tool to use?"
      ]
    },
    {
      "cell_type": "markdown",
      "metadata": {},
      "source": [
        "#### ✅ Answer:\n",
        "\n",
        "From the code:\n",
        "model=model.bind_tools(tool_belt)\n",
        "\n",
        "The model is binding the tools to the model.\n",
        "\n",
        "The model is using the tool node to call the tool if there are tool calls in the last message.\n",
        "\n",
        "Additionally here is an explanation of how LLMs choose tools:\n",
        "\n",
        "An LLM decides which tool to use by analyzing the input prompt, understanding the capabilities of each available tool based on its defined schema (including parameters and functions), and then selecting the tool that best aligns with the task at hand, essentially making a calculated decision based on the context and information provided in the prompt; this process is often facilitated through a structured format where the LLM can identify key elements in the query that indicate which tool is needed. \n",
        "\n",
        "Key points about how LLMs choose tools:\n",
        "Tool descriptions and schemas:\n",
        "Each available tool is defined with a clear description of its purpose and expected input parameters, which the LLM can reference when making a selection. \n",
        "\n",
        "Context analysis:\n",
        "The LLM examines the user's prompt to identify relevant keywords, phrases, and concepts that indicate which tool is most likely needed to fulfill the request. \n",
        "\n",
        "Multi-step reasoning:\n",
        "For complex tasks, an LLM might need to use multiple tools sequentially, where the output of one tool informs the selection of the next. \n",
        "\n",
        "Explicit or implicit invocation:\n",
        "In some cases, users may explicitly state which tool they want to use, while in others, the LLM can autonomously decide based on the prompt. \n",
        "\n",
        "Example scenario:\n",
        "Prompt: \"What is the weather like in San Francisco today?\"\n",
        "Tool analysis: The LLM identifies that the \"get weather\" tool is most relevant as it can provide weather information based on location. \n",
        "Output: The LLM uses the \"get weather\" tool to fetch the current weather conditions for San Francisco and presents the results to the user. "
      ]
    },
    {
      "cell_type": "markdown",
      "metadata": {
        "id": "_296Ub96Z_H8"
      },
      "source": [
        "## Task 4: Putting the State in Stateful\n",
        "\n",
        "Earlier we used this phrasing:\n",
        "\n",
        "`coordinated multi-actor and stateful applications`\n",
        "\n",
        "So what does that \"stateful\" mean?\n",
        "\n",
        "To put it simply - we want to have some kind of object which we can pass around our application that holds information about what the current situation (state) is. Since our system will be constructed of many parts moving in a coordinated fashion - we want to be able to ensure we have some commonly understood idea of that state.\n",
        "\n",
        "LangGraph leverages a `StatefulGraph` which uses an `AgentState` object to pass information between the various nodes of the graph.\n",
        "\n",
        "There are more options than what we'll see below - but this `AgentState` object is one that is stored in a `TypedDict` with the key `messages` and the value is a `Sequence` of `BaseMessages` that will be appended to whenever the state changes.\n",
        "\n",
        "Let's think about a simple example to help understand exactly what this means (we'll simplify a great deal to try and clearly communicate what state is doing):\n",
        "\n",
        "1. We initialize our state object:\n",
        "  - `{\"messages\" : []}`\n",
        "2. Our user submits a query to our application.\n",
        "  - New State: `HumanMessage(#1)`\n",
        "  - `{\"messages\" : [HumanMessage(#1)}`\n",
        "3. We pass our state object to an Agent node which is able to read the current state. It will use the last `HumanMessage` as input. It gets some kind of output which it will add to the state.\n",
        "  - New State: `AgentMessage(#1, additional_kwargs {\"function_call\" : \"WebSearchTool\"})`\n",
        "  - `{\"messages\" : [HumanMessage(#1), AgentMessage(#1, ...)]}`\n",
        "4. We pass our state object to a \"conditional node\" (more on this later) which reads the last state to determine if we need to use a tool - which it can determine properly because of our provided object!"
      ]
    },
    {
      "cell_type": "code",
      "execution_count": 43,
      "metadata": {
        "id": "mxL9b_NZKUdL"
      },
      "outputs": [],
      "source": [
        "from typing import TypedDict, Annotated\n",
        "from langgraph.graph.message import add_messages\n",
        "import operator\n",
        "from langchain_core.messages import BaseMessage\n",
        "\n",
        "class AgentState(TypedDict):\n",
        "  messages: Annotated[list, add_messages]"
      ]
    },
    {
      "cell_type": "markdown",
      "metadata": {
        "id": "vWsMhfO9grLu"
      },
      "source": [
        "## Task 5: It's Graphing Time!\n",
        "\n",
        "Now that we have state, and we have tools, and we have an LLM - we can finally start making our graph!\n",
        "\n",
        "Let's take a second to refresh ourselves about what a graph is in this context.\n",
        "\n",
        "Graphs, also called networks in some circles, are a collection of connected objects.\n",
        "\n",
        "The objects in question are typically called nodes, or vertices, and the connections are called edges.\n",
        "\n",
        "Let's look at a simple graph.\n",
        "\n",
        "![image](https://i.imgur.com/2NFLnIc.png)\n",
        "\n",
        "Here, we're using the coloured circles to represent the nodes and the yellow lines to represent the edges. In this case, we're looking at a fully connected graph - where each node is connected by an edge to each other node.\n",
        "\n",
        "If we were to think about nodes in the context of LangGraph - we would think of a function, or an LCEL runnable.\n",
        "\n",
        "If we were to think about edges in the context of LangGraph - we might think of them as \"paths to take\" or \"where to pass our state object next\".\n",
        "\n",
        "Let's create some nodes and expand on our diagram.\n",
        "\n",
        "> NOTE: Due to the tight integration with LCEL - we can comfortably create our nodes in an async fashion!"
      ]
    },
    {
      "cell_type": "code",
      "execution_count": 44,
      "metadata": {
        "id": "91flJWtZLUrl"
      },
      "outputs": [],
      "source": [
        "from langgraph.prebuilt import ToolNode\n",
        "\n",
        "def call_model(state):\n",
        "  messages = state[\"messages\"]\n",
        "  response = model.invoke(messages)\n",
        "  return {\"messages\" : [response]}\n",
        "\n",
        "tool_node = ToolNode(tool_belt)"
      ]
    },
    {
      "cell_type": "markdown",
      "metadata": {
        "id": "2bwR7MgWj3Wg"
      },
      "source": [
        "Now we have two total nodes. We have:\n",
        "\n",
        "- `call_model` is a node that will...well...call the model\n",
        "- `tool_node` is a node which can call a tool\n",
        "\n",
        "Let's start adding nodes! We'll update our diagram along the way to keep track of what this looks like!\n"
      ]
    },
    {
      "cell_type": "code",
      "execution_count": 45,
      "metadata": {
        "colab": {
          "base_uri": "https://localhost:8080/"
        },
        "id": "_vF4_lgtmQNo",
        "outputId": "a4384377-8f7a-415f-be1b-fee6169cb101"
      },
      "outputs": [
        {
          "data": {
            "text/plain": [
              "<langgraph.graph.state.StateGraph at 0x7fe7b82165d0>"
            ]
          },
          "execution_count": 45,
          "metadata": {},
          "output_type": "execute_result"
        }
      ],
      "source": [
        "from langgraph.graph import StateGraph, END\n",
        "\n",
        "uncompiled_graph = StateGraph(AgentState)\n",
        "\n",
        "uncompiled_graph.add_node(\"agent\", call_model)\n",
        "uncompiled_graph.add_node(\"action\", tool_node)"
      ]
    },
    {
      "cell_type": "markdown",
      "metadata": {
        "id": "b8CjRlbVmRpW"
      },
      "source": [
        "Let's look at what we have so far:\n",
        "\n",
        "![image](https://i.imgur.com/md7inqG.png)"
      ]
    },
    {
      "cell_type": "markdown",
      "metadata": {
        "id": "uaXHpPeSnOWC"
      },
      "source": [
        "Next, we'll add our entrypoint. All our entrypoint does is indicate which node is called first."
      ]
    },
    {
      "cell_type": "code",
      "execution_count": 46,
      "metadata": {
        "colab": {
          "base_uri": "https://localhost:8080/"
        },
        "id": "YGCbaYqRnmiw",
        "outputId": "5351807c-2ac7-4316-a3a3-878abeacd114"
      },
      "outputs": [
        {
          "data": {
            "text/plain": [
              "<langgraph.graph.state.StateGraph at 0x7fe7b82165d0>"
            ]
          },
          "execution_count": 46,
          "metadata": {},
          "output_type": "execute_result"
        }
      ],
      "source": [
        "uncompiled_graph.set_entry_point(\"agent\")"
      ]
    },
    {
      "cell_type": "markdown",
      "metadata": {
        "id": "BUsfGoSpoF9U"
      },
      "source": [
        "![image](https://i.imgur.com/wNixpJe.png)"
      ]
    },
    {
      "cell_type": "markdown",
      "metadata": {
        "id": "0Q_pQgHmoW0M"
      },
      "source": [
        "Now we want to build a \"conditional edge\" which will use the output state of a node to determine which path to follow.\n",
        "\n",
        "We can help conceptualize this by thinking of our conditional edge as a conditional in a flowchart!\n",
        "\n",
        "Notice how our function simply checks if there is a \"function_call\" kwarg present.\n",
        "\n",
        "Then we create an edge where the origin node is our agent node and our destination node is *either* the action node or the END (finish the graph).\n",
        "\n",
        "It's important to highlight that the dictionary passed in as the third parameter (the mapping) should be created with the possible outputs of our conditional function in mind. In this case `should_continue` outputs either `\"end\"` or `\"continue\"` which are subsequently mapped to the action node or the END node."
      ]
    },
    {
      "cell_type": "code",
      "execution_count": 47,
      "metadata": {
        "colab": {
          "base_uri": "https://localhost:8080/"
        },
        "id": "1BZgb81VQf9o",
        "outputId": "73a07c15-5f0b-40f2-b033-38b57d056dd8"
      },
      "outputs": [
        {
          "data": {
            "text/plain": [
              "<langgraph.graph.state.StateGraph at 0x7fe7b82165d0>"
            ]
          },
          "execution_count": 47,
          "metadata": {},
          "output_type": "execute_result"
        }
      ],
      "source": [
        "def should_continue(state):\n",
        "  last_message = state[\"messages\"][-1]\n",
        "\n",
        "  if last_message.tool_calls:\n",
        "    return \"action\"\n",
        "\n",
        "  return END\n",
        "\n",
        "uncompiled_graph.add_conditional_edges(\n",
        "    \"agent\",\n",
        "    should_continue\n",
        ")"
      ]
    },
    {
      "cell_type": "markdown",
      "metadata": {
        "id": "-Cvhcf4jp0Ce"
      },
      "source": [
        "Let's visualize what this looks like.\n",
        "\n",
        "![image](https://i.imgur.com/8ZNwKI5.png)"
      ]
    },
    {
      "cell_type": "markdown",
      "metadata": {
        "id": "yKCjWJCkrJb9"
      },
      "source": [
        "Finally, we can add our last edge which will connect our action node to our agent node. This is because we *always* want our action node (which is used to call our tools) to return its output to our agent!"
      ]
    },
    {
      "cell_type": "code",
      "execution_count": 48,
      "metadata": {
        "colab": {
          "base_uri": "https://localhost:8080/"
        },
        "id": "UvcgbHf1rIXZ",
        "outputId": "45d4bdd6-d6bb-4a1d-bb79-cad43c130bf2"
      },
      "outputs": [
        {
          "data": {
            "text/plain": [
              "<langgraph.graph.state.StateGraph at 0x7fe7b82165d0>"
            ]
          },
          "execution_count": 48,
          "metadata": {},
          "output_type": "execute_result"
        }
      ],
      "source": [
        "uncompiled_graph.add_edge(\"action\", \"agent\")"
      ]
    },
    {
      "cell_type": "markdown",
      "metadata": {
        "id": "EiWDwBQtrw7Z"
      },
      "source": [
        "Let's look at the final visualization.\n",
        "\n",
        "![image](https://i.imgur.com/NWO7usO.png)"
      ]
    },
    {
      "cell_type": "markdown",
      "metadata": {
        "id": "KYqDpErlsCsu"
      },
      "source": [
        "All that's left to do now is to compile our workflow - and we're off!"
      ]
    },
    {
      "cell_type": "code",
      "execution_count": 49,
      "metadata": {
        "id": "zt9-KS8DpzNx"
      },
      "outputs": [],
      "source": [
        "compiled_graph = uncompiled_graph.compile()"
      ]
    },
    {
      "cell_type": "markdown",
      "metadata": {
        "id": "xhNWIwBL1W4Q"
      },
      "source": [
        "#### ❓ Question #2:\n",
        "\n",
        "Is there any specific limit to how many times we can cycle?\n",
        "\n",
        "If not, how could we impose a limit to the number of cycles?"
      ]
    },
    {
      "cell_type": "markdown",
      "metadata": {},
      "source": [
        "Yes, there is a limit to how many times we can cycle.\n",
        "\n",
        "We can impose a limit to the number of cycles by adding a conditional edge that checks the length of the state object.\n",
        "\n",
        "If the length of the state object is greater than the limit, we can return the END node.\n",
        "\n",
        "Additonally, we can use the helpfulness check to determine if the agent should continue or not.\n",
        "\n",
        "If the agent should continue, we can return the agent node.\n",
        "\n",
        "If the agent should not continue, we can return the END node.\n",
        "\n"
      ]
    },
    {
      "cell_type": "markdown",
      "metadata": {
        "id": "VEYcTShCsPaa"
      },
      "source": [
        "## Using Our Graph\n",
        "\n",
        "Now that we've created and compiled our graph - we can call it *just as we'd call any other* `Runnable`!\n",
        "\n",
        "Let's try out a few examples to see how it fairs:"
      ]
    },
    {
      "cell_type": "code",
      "execution_count": 50,
      "metadata": {
        "colab": {
          "base_uri": "https://localhost:8080/"
        },
        "id": "Qn4n37PQRPII",
        "outputId": "5eeedfae-089d-496e-e71f-071939fa5832"
      },
      "outputs": [
        {
          "name": "stdout",
          "output_type": "stream",
          "text": [
            "Receiving update from node: 'agent'\n",
            "[AIMessage(content='', additional_kwargs={'tool_calls': [{'id': 'call_l9s1yGTjeWAXr7yAluOOC0KQ', 'function': {'arguments': '{\"query\":\"current captain of the Winnipeg Jets 2023\"}', 'name': 'tavily_search_results_json'}, 'type': 'function'}], 'refusal': None}, response_metadata={'token_usage': {'completion_tokens': 27, 'prompt_tokens': 162, 'total_tokens': 189, 'completion_tokens_details': {'accepted_prediction_tokens': 0, 'audio_tokens': 0, 'reasoning_tokens': 0, 'rejected_prediction_tokens': 0}, 'prompt_tokens_details': {'audio_tokens': 0, 'cached_tokens': 0}}, 'model_name': 'gpt-4o-2024-08-06', 'system_fingerprint': 'fp_4691090a87', 'finish_reason': 'tool_calls', 'logprobs': None}, id='run-68b0abe8-6273-413d-a78b-66dc048ad7c4-0', tool_calls=[{'name': 'tavily_search_results_json', 'args': {'query': 'current captain of the Winnipeg Jets 2023'}, 'id': 'call_l9s1yGTjeWAXr7yAluOOC0KQ', 'type': 'tool_call'}], usage_metadata={'input_tokens': 162, 'output_tokens': 27, 'total_tokens': 189, 'input_token_details': {'audio': 0, 'cache_read': 0}, 'output_token_details': {'audio': 0, 'reasoning': 0}})]\n",
            "\n",
            "\n",
            "\n",
            "Receiving update from node: 'action'\n",
            "[ToolMessage(content='[{\"url\": \"https://thehockeynews.com/nhl/winnipeg-jets/news/jets-name-adam-lowry-as-team-captain\", \"content\": \"Jets Name Adam Lowry as Team Captain - The Hockey News Winnipeg Jets News, Analysis and More My Account Subscriptions Jets Name Adam Lowry as Team Captain The Winnipeg Jets will have a captain for the 2023-24 season. After going captain-less in 2022-23, the Winnipeg Jets unveiled Adam Lowry as the club\\'s new captain on Tuesday morning. Having stripped Wheeler of the \\'C\\' upon joining the Jets last season, head coach Rick Bowness rolled with three alternates in 2022-23, as Lowry, Josh Morrissey and Mark Scheifele each served in leadership roles with the club. Although it will be his first time serving as a team captain since his final year with the Swift Current Broncos in 2012-13, Lowry won\\'t need to look far for leadership examples.\"}, {\"url\": \"https://www.nytimes.com/athletic/4855976/2023/09/12/adam-lowry-jets-captain/\", \"content\": \"Jets name Adam Lowry as captain ahead of 2023-24 season: Why Winnipeg chose him - The Athletic Jets name Adam Lowry as captain ahead of 2023-24 season: Why Winnipeg chose him The team gave forward Adam Lowry the honor Tuesday, making him the third captain in franchise history since the Jets moved from Atlanta. Lowry did exactly that, stitched an “A” on his sweater for the first time in 2022-23, and is now captain of the Winnipeg Jets. Morrissey would have been a worthy choice as captain and is more of an impact player at his position than Lowry is. Lowry served as an assistant captain for the first time last season with Morrissey and Scheifele.\"}, {\"url\": \"https://thehockeynews.com/news/winnipeg-jets-name-adam-lowry-captain\", \"content\": \"Winnipeg Jets Name Adam Lowry Captain - The Hockey News Winnipeg Jets Name Adam Lowry Captain The Winnipeg Jets have named Adam Lowry the third captain in franchise history. Lowry becomes the third captain in Jets franchise history and takes over the role after Blake Wheeler served in it for six years before being stripped of the captaincy prior to the 2022-23 season. The 30-year-old Lowry has spent his entire nine-year NHL career with the Jets, logging 621 regular-season games with the franchise and racking up 93 goals and 111 assists for 204 points in the process. That is the question facing the Canadiens, Red Wings, Bruins, Canucks and six other squads as NHL trade deadline season kicks into gear.\"}, {\"url\": \"https://www.tsn.ca/nhl/winnipeg-jets-name-adam-lowry-captain-1.2006649\", \"content\": \"Winnipeg Jets name Adam Lowry captain | TSN TSN+ TSN+ TSN+ What is TSN+ Jets name Lowry captain ahead of his 10th season with team ![Image 70: Adam Lowry Winnipeg Jets](https://www.tsn.ca/content/dam/tsn/en/home/images/2023/4/22/adam-lowry-1-1950014-1682371533274.jpeg)Adam Lowry - Getty Images WINNIPEG — The pride in Adam Lowry\\'s voice was evident after being named captain of the Winnipeg Jets on Tuesday. “Now the organization is being led by someone that was a true Winnipeg Jet from day one,” said Jets general manager Kevin Cheveldayoff, who drafted the forward in 2011. \\\\\"We believe the time is right for Adam Lowry to assume this role and set the standard for the way the Winnipeg Jets will move forward with new leadership and new purpose.”\"}, {\"url\": \"https://globalnews.ca/news/9954570/winnipeg-jets-adam-lowry-captain/\", \"content\": \"Lowry, 30, becomes the third captain in Jets 2.0 history, following in the footsteps of Andrew Ladd, who announced his retirement from hockey on Sunday, and Blake Wheeler.\"}]', name='tavily_search_results_json', id='31e48c29-8868-4c31-acb8-4b212ef42237', tool_call_id='call_l9s1yGTjeWAXr7yAluOOC0KQ', artifact={'query': 'current captain of the Winnipeg Jets 2023', 'follow_up_questions': None, 'answer': None, 'images': [], 'results': [{'title': 'Jets Name Adam Lowry as Team Captain - The Hockey News', 'url': 'https://thehockeynews.com/nhl/winnipeg-jets/news/jets-name-adam-lowry-as-team-captain', 'content': \"Jets Name Adam Lowry as Team Captain - The Hockey News Winnipeg Jets News, Analysis and More My Account Subscriptions Jets Name Adam Lowry as Team Captain The Winnipeg Jets will have a captain for the 2023-24 season. After going captain-less in 2022-23, the Winnipeg Jets unveiled Adam Lowry as the club's new captain on Tuesday morning. Having stripped Wheeler of the 'C' upon joining the Jets last season, head coach Rick Bowness rolled with three alternates in 2022-23, as Lowry, Josh Morrissey and Mark Scheifele each served in leadership roles with the club. Although it will be his first time serving as a team captain since his final year with the Swift Current Broncos in 2012-13, Lowry won't need to look far for leadership examples.\", 'score': 0.9227683, 'raw_content': None}, {'title': 'Jets name Adam Lowry as captain ahead of 2023-24 season: Why Winnipeg ...', 'url': 'https://www.nytimes.com/athletic/4855976/2023/09/12/adam-lowry-jets-captain/', 'content': 'Jets name Adam Lowry as captain ahead of 2023-24 season: Why Winnipeg chose him - The Athletic Jets name Adam Lowry as captain ahead of 2023-24 season: Why Winnipeg chose him The team gave forward Adam Lowry the honor Tuesday, making him the third captain in franchise history since the Jets moved from Atlanta. Lowry did exactly that, stitched an “A” on his sweater for the first time in 2022-23, and is now captain of the Winnipeg Jets. Morrissey would have been a worthy choice as captain and is more of an impact player at his position than Lowry is. Lowry served as an assistant captain for the first time last season with Morrissey and Scheifele.', 'score': 0.8991304, 'raw_content': None}, {'title': 'Winnipeg Jets Name Adam Lowry Captain - The Hockey News', 'url': 'https://thehockeynews.com/news/winnipeg-jets-name-adam-lowry-captain', 'content': 'Winnipeg Jets Name Adam Lowry Captain - The Hockey News Winnipeg Jets Name Adam Lowry Captain The Winnipeg Jets have named Adam Lowry the third captain in franchise history. Lowry becomes the third captain in Jets franchise history and takes over the role after Blake Wheeler served in it for six years before being stripped of the captaincy prior to the 2022-23 season. The 30-year-old Lowry has spent his entire nine-year NHL career with the Jets, logging 621 regular-season games with the franchise and racking up 93 goals and 111 assists for 204 points in the process. That is the question facing the Canadiens, Red Wings, Bruins, Canucks and six other squads as NHL trade deadline season kicks into gear.', 'score': 0.8708723, 'raw_content': None}, {'title': 'Winnipeg Jets name Adam Lowry captain | TSN', 'url': 'https://www.tsn.ca/nhl/winnipeg-jets-name-adam-lowry-captain-1.2006649', 'content': 'Winnipeg Jets name Adam Lowry captain | TSN TSN+ TSN+ TSN+ What is TSN+ Jets name Lowry captain ahead of his 10th season with team ![Image 70: Adam Lowry Winnipeg Jets](https://www.tsn.ca/content/dam/tsn/en/home/images/2023/4/22/adam-lowry-1-1950014-1682371533274.jpeg)Adam Lowry - Getty Images WINNIPEG — The pride in Adam Lowry\\'s voice was evident after being named captain of the Winnipeg Jets on Tuesday. “Now the organization is being led by someone that was a true Winnipeg Jet from day one,” said Jets general manager Kevin Cheveldayoff, who drafted the forward in 2011. \"We believe the time is right for Adam Lowry to assume this role and set the standard for the way the Winnipeg Jets will move forward with new leadership and new purpose.”', 'score': 0.8682137, 'raw_content': None}, {'title': 'Winnipeg Jets announce Adam Lowry as new captain - Global News', 'url': 'https://globalnews.ca/news/9954570/winnipeg-jets-adam-lowry-captain/', 'content': 'Lowry, 30, becomes the third captain in Jets 2.0 history, following in the footsteps of Andrew Ladd, who announced his retirement from hockey on Sunday, and Blake Wheeler.', 'score': 0.740494, 'raw_content': None}], 'response_time': 1.8})]\n",
            "\n",
            "\n",
            "\n",
            "Receiving update from node: 'agent'\n",
            "[AIMessage(content='The current captain of the Winnipeg Jets is Adam Lowry.', additional_kwargs={'refusal': None}, response_metadata={'token_usage': {'completion_tokens': 14, 'prompt_tokens': 1085, 'total_tokens': 1099, 'completion_tokens_details': {'accepted_prediction_tokens': 0, 'audio_tokens': 0, 'reasoning_tokens': 0, 'rejected_prediction_tokens': 0}, 'prompt_tokens_details': {'audio_tokens': 0, 'cached_tokens': 0}}, 'model_name': 'gpt-4o-2024-08-06', 'system_fingerprint': 'fp_4691090a87', 'finish_reason': 'stop', 'logprobs': None}, id='run-4e2f2e9c-0680-42d5-931d-cc27bd65b88c-0', usage_metadata={'input_tokens': 1085, 'output_tokens': 14, 'total_tokens': 1099, 'input_token_details': {'audio': 0, 'cache_read': 0}, 'output_token_details': {'audio': 0, 'reasoning': 0}})]\n",
            "\n",
            "\n",
            "\n"
          ]
        }
      ],
      "source": [
        "from langchain_core.messages import HumanMessage\n",
        "\n",
        "inputs = {\"messages\" : [HumanMessage(content=\"Who is the current captain of the Winnipeg Jets?\")]}\n",
        "\n",
        "async for chunk in compiled_graph.astream(inputs, stream_mode=\"updates\"):\n",
        "    for node, values in chunk.items():\n",
        "        print(f\"Receiving update from node: '{node}'\")\n",
        "        print(values[\"messages\"])\n",
        "        print(\"\\n\\n\")"
      ]
    },
    {
      "cell_type": "markdown",
      "metadata": {
        "id": "DBHnUtLSscRr"
      },
      "source": [
        "Let's look at what happened:\n",
        "\n",
        "1. Our state object was populated with our request\n",
        "2. The state object was passed into our entry point (agent node) and the agent node added an `AIMessage` to the state object and passed it along the conditional edge\n",
        "3. The conditional edge received the state object, found the \"tool_calls\" `additional_kwarg`, and sent the state object to the action node\n",
        "4. The action node added the response from the OpenAI function calling endpoint to the state object and passed it along the edge to the agent node\n",
        "5. The agent node added a response to the state object and passed it along the conditional edge\n",
        "6. The conditional edge received the state object, could not find the \"tool_calls\" `additional_kwarg` and passed the state object to END where we see it output in the cell above!\n",
        "\n",
        "Now let's look at an example that shows a multiple tool usage - all with the same flow!"
      ]
    },
    {
      "cell_type": "code",
      "execution_count": 51,
      "metadata": {
        "colab": {
          "base_uri": "https://localhost:8080/"
        },
        "id": "afv2BuEsV5JG",
        "outputId": "ff009536-d281-4a56-c126-9cd245352bfe"
      },
      "outputs": [
        {
          "name": "stdout",
          "output_type": "stream",
          "text": [
            "Receiving update from node: 'agent'\n",
            "[AIMessage(content='', additional_kwargs={'tool_calls': [{'id': 'call_mlBr5KIbHK6mfZtFKQ22CnaF', 'function': {'arguments': '{\"query\":\"QLoRA\"}', 'name': 'arxiv'}, 'type': 'function'}], 'refusal': None}, response_metadata={'token_usage': {'completion_tokens': 17, 'prompt_tokens': 178, 'total_tokens': 195, 'completion_tokens_details': {'accepted_prediction_tokens': 0, 'audio_tokens': 0, 'reasoning_tokens': 0, 'rejected_prediction_tokens': 0}, 'prompt_tokens_details': {'audio_tokens': 0, 'cached_tokens': 0}}, 'model_name': 'gpt-4o-2024-08-06', 'system_fingerprint': 'fp_4691090a87', 'finish_reason': 'tool_calls', 'logprobs': None}, id='run-b94f87ca-0031-434a-9741-91c98b0492ab-0', tool_calls=[{'name': 'arxiv', 'args': {'query': 'QLoRA'}, 'id': 'call_mlBr5KIbHK6mfZtFKQ22CnaF', 'type': 'tool_call'}], usage_metadata={'input_tokens': 178, 'output_tokens': 17, 'total_tokens': 195, 'input_token_details': {'audio': 0, 'cache_read': 0}, 'output_token_details': {'audio': 0, 'reasoning': 0}})]\n",
            "\n",
            "\n",
            "\n",
            "Receiving update from node: 'action'\n",
            "Tool Used: arxiv\n",
            "[ToolMessage(content='Published: 2023-05-23\\nTitle: QLoRA: Efficient Finetuning of Quantized LLMs\\nAuthors: Tim Dettmers, Artidoro Pagnoni, Ari Holtzman, Luke Zettlemoyer\\nSummary: We present QLoRA, an efficient finetuning approach that reduces memory usage\\nenough to finetune a 65B parameter model on a single 48GB GPU while preserving\\nfull 16-bit finetuning task performance. QLoRA backpropagates gradients through\\na frozen, 4-bit quantized pretrained language model into Low Rank\\nAdapters~(LoRA). Our best model family, which we name Guanaco, outperforms all\\nprevious openly released models on the Vicuna benchmark, reaching 99.3% of the\\nperformance level of ChatGPT while only requiring 24 hours of finetuning on a\\nsingle GPU. QLoRA introduces a number of innovations to save memory without\\nsacrificing performance: (a) 4-bit NormalFloat (NF4), a new data type that is\\ninformation theoretically optimal for normally distributed weights (b) double\\nquantization to reduce the average memory footprint by quantizing the\\nquantization constants, and (c) paged optimziers to manage memory spikes. We\\nuse QLoRA to finetune more than 1,000 models, providing a detailed analysis of\\ninstruction following and chatbot performance across 8 instruction datasets,\\nmultiple model types (LLaMA, T5), and model scales that would be infeasible to\\nrun with regular finetuning (e.g. 33B and 65B parameter models). Our results\\nshow that QLoRA finetuning on a small high-quality dataset leads to\\nstate-of-the-art results, even when using smaller models than the previous\\nSoTA. We provide a detailed analysis of chatbot performance based on both human\\nand GPT-4 evaluations showing that GPT-4 evaluations are a cheap and reasonable\\nalternative to human evaluation. Furthermore, we find that current chatbot\\nbenchmarks are not trustworthy to accurately evaluate the performance levels of\\nchatbots. A lemon-picked analysis demonstrates where Guanaco fails compared to\\nChatGPT. We release all of our models and code, including CUDA kernels for\\n4-bit training.\\n\\nPublished: 2024-05-27\\nTitle: Accurate LoRA-Finetuning Quantization of LLMs via Information Retention\\nAuthors: Haotong Qin, Xudong Ma, Xingyu Zheng, Xiaoyang Li, Yang Zhang, Shouda Liu, Jie Luo, Xianglong Liu, Michele Magno\\nSummary: The LoRA-finetuning quantization of LLMs has been extensively studied to\\nobtain accurate yet compact LLMs for deployment on resource-constrained\\nhardware. However, existing methods cause the quantized LLM to severely degrade\\nand even fail to benefit from the finetuning of LoRA. This paper proposes a\\nnovel IR-QLoRA for pushing quantized LLMs with LoRA to be highly accurate\\nthrough information retention. The proposed IR-QLoRA mainly relies on two\\ntechnologies derived from the perspective of unified information: (1)\\nstatistics-based Information Calibration Quantization allows the quantized\\nparameters of LLM to retain original information accurately; (2)\\nfinetuning-based Information Elastic Connection makes LoRA utilizes elastic\\nrepresentation transformation with diverse information. Comprehensive\\nexperiments show that IR-QLoRA can significantly improve accuracy across LLaMA\\nand LLaMA2 families under 2-4 bit-widths, e.g., 4- bit LLaMA-7B achieves 1.4%\\nimprovement on MMLU compared with the state-of-the-art methods. The significant\\nperformance gain requires only a tiny 0.31% additional time consumption,\\nrevealing the satisfactory efficiency of our IR-QLoRA. We highlight that\\nIR-QLoRA enjoys excellent versatility, compatible with various frameworks\\n(e.g., NormalFloat and Integer quantization) and brings general accuracy gains.\\nThe code is available at https://github.com/htqin/ir-qlora.\\n\\nPublished: 2024-06-12\\nTitle: Exploring Fact Memorization and Style Imitation in LLMs Using QLoRA: An Experimental Study and Quality Assessment Methods\\nAuthors: Eugene Vyborov, Oleksiy Osypenko, Serge Sotnyk\\nSummary: There are various methods for adapting LLMs to different domains. The most\\ncommon methods are prompting, finetuning, and RAG. In this w', name='arxiv', id='67537628-e9da-43e5-889a-21f04e872a75', tool_call_id='call_mlBr5KIbHK6mfZtFKQ22CnaF')]\n",
            "\n",
            "\n",
            "\n",
            "Receiving update from node: 'agent'\n",
            "[AIMessage(content='', additional_kwargs={'tool_calls': [{'id': 'call_F06ITr1Q3wJiwXb9jZjtMSrK', 'function': {'arguments': '{\"query\": \"Tim Dettmers latest tweet\"}', 'name': 'tavily_search_results_json'}, 'type': 'function'}, {'id': 'call_BSGkCj9v0JNJDDcup0fpcjlf', 'function': {'arguments': '{\"query\": \"Artidoro Pagnoni latest tweet\"}', 'name': 'tavily_search_results_json'}, 'type': 'function'}, {'id': 'call_ExDJebjyKn6vikjmIKSo3IkQ', 'function': {'arguments': '{\"query\": \"Ari Holtzman latest tweet\"}', 'name': 'tavily_search_results_json'}, 'type': 'function'}, {'id': 'call_M7mVjV3RxU5HsKxMBKF02n42', 'function': {'arguments': '{\"query\": \"Luke Zettlemoyer latest tweet\"}', 'name': 'tavily_search_results_json'}, 'type': 'function'}], 'refusal': None}, response_metadata={'token_usage': {'completion_tokens': 113, 'prompt_tokens': 1157, 'total_tokens': 1270, 'completion_tokens_details': {'accepted_prediction_tokens': 0, 'audio_tokens': 0, 'reasoning_tokens': 0, 'rejected_prediction_tokens': 0}, 'prompt_tokens_details': {'audio_tokens': 0, 'cached_tokens': 0}}, 'model_name': 'gpt-4o-2024-08-06', 'system_fingerprint': 'fp_4691090a87', 'finish_reason': 'tool_calls', 'logprobs': None}, id='run-f1ce743d-c869-4407-922b-4e299291fead-0', tool_calls=[{'name': 'tavily_search_results_json', 'args': {'query': 'Tim Dettmers latest tweet'}, 'id': 'call_F06ITr1Q3wJiwXb9jZjtMSrK', 'type': 'tool_call'}, {'name': 'tavily_search_results_json', 'args': {'query': 'Artidoro Pagnoni latest tweet'}, 'id': 'call_BSGkCj9v0JNJDDcup0fpcjlf', 'type': 'tool_call'}, {'name': 'tavily_search_results_json', 'args': {'query': 'Ari Holtzman latest tweet'}, 'id': 'call_ExDJebjyKn6vikjmIKSo3IkQ', 'type': 'tool_call'}, {'name': 'tavily_search_results_json', 'args': {'query': 'Luke Zettlemoyer latest tweet'}, 'id': 'call_M7mVjV3RxU5HsKxMBKF02n42', 'type': 'tool_call'}], usage_metadata={'input_tokens': 1157, 'output_tokens': 113, 'total_tokens': 1270, 'input_token_details': {'audio': 0, 'cache_read': 0}, 'output_token_details': {'audio': 0, 'reasoning': 0}})]\n",
            "\n",
            "\n",
            "\n",
            "Receiving update from node: 'action'\n",
            "Tool Used: tavily_search_results_json\n",
            "[ToolMessage(content='[{\"url\": \"https://twitter.com/Tim_Dettmers/status/1683118705956491264\", \"content\": \"See new Tweets. Conversation. Tim Dettmers @ ICML23 @Tim_Dettmers. ... @Tim_Dettmers. The latest release of bitsandbytes has an improved CUDA setup and A100 4-bit inference. I thought that A40 and A100 GPUs were close enough, and optimized for A40s, but they are very different. A100 performance is now 40% faster with a small hit for other GPUs.\"}, {\"url\": \"https://twitter.com/Tim_Dettmers/status/1598722460685197312\", \"content\": \"Catch my keynote on 8-bit Methods for Efficient Deep Learning, today at 4:35pm, ballroom C. Besides my work on 8-bit, I will also give a sneak peek into my latest project: Bit-level scaling laws for zeroshot inference. An analysis of 35,000 zeroshot experiments #NeurIPS. 02 Dec 2022 16:55:12\"}, {\"url\": \"https://twitter.com/Tim_Dettmers/status/1654917326381228033\", \"content\": \"See new Tweets. Conversation. Andrej Karpathy ... Tim Dettmers @Tim_Dettmers. Super excited to push this even further: - Next week: bitsandbytes 4-bit closed beta that allows you to finetune 30B/65B LLaMA models on a single 24/48 GB GPU (no degradation vs full fine-tuning in 16-bit) - Two weeks: Full release of code, paper, and a collection of\"}, {\"url\": \"https://twitter.com/Tim_Dettmers/status/1678760495262879755\", \"content\": \"\\\\\"The result of long days of CUDA optimizations: the new bitsandbytes release includes 4-bit inference, which is up to 4.2x faster than 16-bit inference (bsz=1). Full HF integration for all models. No code change needed. Bnb is growing rapidly, just shy of 1M installs/month🧵\\\\\"\"}, {\"url\": \"https://www.linkedin.com/posts/evolution-iq_tim-dettmers-on-twitter-activity-7060970767819124736-L-rb\", \"content\": \"Tim Dettmers on Twitter. Big moves in the opensource LLM world over last few weeks. * 4-bit models are coming via bitsandbytes (fine-tune a 65B model on a single GPU!) https://lnkd.in/ecZUMppe\"}]', name='tavily_search_results_json', id='272bb886-74a3-435b-bba2-681c0ed7cb4d', tool_call_id='call_F06ITr1Q3wJiwXb9jZjtMSrK', artifact={'query': 'Tim Dettmers latest tweet', 'follow_up_questions': None, 'answer': None, 'images': [], 'results': [{'title': 'Tim Dettmers @ ICML23 on Twitter: \"The latest release of bitsandbytes ...', 'url': 'https://twitter.com/Tim_Dettmers/status/1683118705956491264', 'content': 'See new Tweets. Conversation. Tim Dettmers @ ICML23 @Tim_Dettmers. ... @Tim_Dettmers. The latest release of bitsandbytes has an improved CUDA setup and A100 4-bit inference. I thought that A40 and A100 GPUs were close enough, and optimized for A40s, but they are very different. A100 performance is now 40% faster with a small hit for other GPUs.', 'score': 0.85157084, 'raw_content': None}, {'title': 'Tim Dettmers @ NeurIPS on Twitter: \"Catch my keynote on 8-bit Methods ...', 'url': 'https://twitter.com/Tim_Dettmers/status/1598722460685197312', 'content': 'Catch my keynote on 8-bit Methods for Efficient Deep Learning, today at 4:35pm, ballroom C. Besides my work on 8-bit, I will also give a sneak peek into my latest project: Bit-level scaling laws for zeroshot inference. An analysis of 35,000 zeroshot experiments #NeurIPS. 02 Dec 2022 16:55:12', 'score': 0.79080546, 'raw_content': None}, {'title': 'Tim Dettmers on Twitter', 'url': 'https://twitter.com/Tim_Dettmers/status/1654917326381228033', 'content': 'See new Tweets. Conversation. Andrej Karpathy ... Tim Dettmers @Tim_Dettmers. Super excited to push this even further: - Next week: bitsandbytes 4-bit closed beta that allows you to finetune 30B/65B LLaMA models on a single 24/48 GB GPU (no degradation vs full fine-tuning in 16-bit) - Two weeks: Full release of code, paper, and a collection of', 'score': 0.7327644, 'raw_content': None}, {'title': 'Tim Dettmers on Twitter', 'url': 'https://twitter.com/Tim_Dettmers/status/1678760495262879755', 'content': '\"The result of long days of CUDA optimizations: the new bitsandbytes release includes 4-bit inference, which is up to 4.2x faster than 16-bit inference (bsz=1). Full HF integration for all models. No code change needed. Bnb is growing rapidly, just shy of 1M installs/month🧵\"', 'score': 0.70750624, 'raw_content': None}, {'title': 'EvolutionIQ on LinkedIn: Tim Dettmers on Twitter', 'url': 'https://www.linkedin.com/posts/evolution-iq_tim-dettmers-on-twitter-activity-7060970767819124736-L-rb', 'content': 'Tim Dettmers on Twitter. Big moves in the opensource LLM world over last few weeks. * 4-bit models are coming via bitsandbytes (fine-tune a 65B model on a single GPU!) https://lnkd.in/ecZUMppe', 'score': 0.68064564, 'raw_content': None}], 'response_time': 2.48}), ToolMessage(content='[{\"url\": \"https://twitter.com/ArtidoroPagnoni/status/1661438274894966784\", \"content\": \"Thank you to @Tim_Dettmers @universeinanegg @LukeZettlemoyer and the many people who made this project possible! In particular, @younesbelkada and the @huggingface team.\"}, {\"url\": \"https://twitter.com/ArtidoroPagnoni/status/1657036977814794242\", \"content\": \"We are excited to announce QLoRA, a new method for LLM fine-tuning that uses only a fraction of the memory footprint. Please consider joining our private beta to gain early access to QLoRA!\"}, {\"url\": \"https://artidoro.github.io/\", \"content\": \"Ciao! I am a second-year PhD student in Computer Science at the University of Washington. I am advised by Luke Zettlemoyer and work on various topics in NLP. Before UW, I was a master student at the Language and Technologies Institute (LTI) at CMU with Yulia Tsvetkov.In 2018, I worked at Microsoft AI Frameworks for a year.\"}, {\"url\": \"https://twitter.com/ArtidoroPagnoni/status/1661438269610131456\", \"content\": \"- both human and automated evaluations are challenging when comparing strong systems - using large eval datasets with many prompts, like the OA benchmark, is important for evaluation - many possible improvements to our setup including RLHF explorations\"}, {\"url\": \"https://twitter.com/ArtidoroPagnoni\", \"content\": \"The latest posts from @ArtidoroPagnoni\"}]', name='tavily_search_results_json', id='0be881d5-79b4-49c2-bd45-dba2cc0670bf', tool_call_id='call_BSGkCj9v0JNJDDcup0fpcjlf', artifact={'query': 'Artidoro Pagnoni latest tweet', 'follow_up_questions': None, 'answer': None, 'images': [], 'results': [{'title': 'Artidoro Pagnoni on Twitter: \"Thank you to @Tim_Dettmers ...', 'url': 'https://twitter.com/ArtidoroPagnoni/status/1661438274894966784', 'content': 'Thank you to @Tim_Dettmers @universeinanegg @LukeZettlemoyer and the many people who made this project possible! In particular, @younesbelkada and the @huggingface team.', 'score': 0.7715858, 'raw_content': None}, {'title': 'Artidoro Pagnoni on Twitter: \"We are excited to announce QLoRA, a new ...', 'url': 'https://twitter.com/ArtidoroPagnoni/status/1657036977814794242', 'content': 'We are excited to announce QLoRA, a new method for LLM fine-tuning that uses only a fraction of the memory footprint. Please consider joining our private beta to gain early access to QLoRA!', 'score': 0.75268626, 'raw_content': None}, {'title': 'Ciao! - Artidoro Pagnoni', 'url': 'https://artidoro.github.io/', 'content': 'Ciao! I am a second-year PhD student in Computer Science at the University of Washington. I am advised by Luke Zettlemoyer and work on various topics in NLP. Before UW, I was a master student at the Language and Technologies Institute (LTI) at CMU with Yulia Tsvetkov.In 2018, I worked at Microsoft AI Frameworks for a year.', 'score': 0.7413937, 'raw_content': None}, {'title': 'Artidoro Pagnoni on Twitter: \"- both human and automated evaluations ...', 'url': 'https://twitter.com/ArtidoroPagnoni/status/1661438269610131456', 'content': '- both human and automated evaluations are challenging when comparing strong systems - using large eval datasets with many prompts, like the OA benchmark, is important for evaluation - many possible improvements to our setup including RLHF explorations', 'score': 0.67192334, 'raw_content': None}, {'title': '@ArtidoroPagnoni | X', 'url': 'https://twitter.com/ArtidoroPagnoni', 'content': 'The latest posts from @ArtidoroPagnoni', 'score': 0.6260562, 'raw_content': None}], 'response_time': 2.03}), ToolMessage(content='[{\"url\": \"https://twitter.com/universeinanegg/status/1678462929669062656\", \"content\": \"Ari Holtzman @ ACL on Twitter: \\\\\"I\\'m around today and talking to folks about what the future of studying generative models might look like, how to meaningfully decompose language model behavior into useful categories, and how to do science as generalization becomes difficult to assess!\"}, {\"url\": \"https://twitter.com/universeinanegg/status/1557439705284653056\", \"content\": \"Ari Holtzman on X: \\\\\"I think the most important thing for figuring out the right hypotheses to explain LM behavior is just giving people access to these models, so they can poke at them on their own, for free. What will we find?\\\\\" / X People on X are the first to know. Sign up I think the most important thing for figuring out the right hypotheses to explain LM behavior is just giving people access to these models, so they can poke at them on their own, for free. Aug 10, 2022 You can try it here: https://docs.google.com/document/d/1JxSo4lQgMDBdnd19VBEoaG-mMfQupQ3XvOrgmRAVtpU/edit?usp=sharing… 1/n New to X? Sign up now to get your own personalized timeline! Sign up with Apple Try reloading.\"}, {\"url\": \"https://twitter.com/universeinanegg/status/1383128271651446787\", \"content\": \"Ari Holtzman\\u200f@universeinanegg11h We show that using generative models for multiple choice by picking the highest probability answer is inherently flawed due to surface form competition—the condition where different strings represent the same concept but compete for probability e.g. MLK and Martin Luther King Jr.\"}, {\"url\": \"https://ariholtzman.com/\", \"content\": \"Nightly Research Statement (Obsolete but Relevant) My goal is to help create the foundations for a science of generative models. Since the field is changing quickly, I\\'ll give a sense of what I\\'m thinking about right now. I\\'ve singled out my three biggest current fascinations below: Fundamental Laws of Language Models While scaling laws are interesting, they are definitely not the whole story\"}, {\"url\": \"https://muckrack.com/ari-holtzman\", \"content\": \"Find Ari Holtzman\\'s articles, email address, contact information, Twitter and more\"}]', name='tavily_search_results_json', id='dcbc6b8c-2eb5-4bdf-9412-9235b8d0b57a', tool_call_id='call_ExDJebjyKn6vikjmIKSo3IkQ', artifact={'query': 'Ari Holtzman latest tweet', 'follow_up_questions': None, 'answer': None, 'images': [], 'results': [{'title': 'Ari Holtzman @ ACL on Twitter', 'url': 'https://twitter.com/universeinanegg/status/1678462929669062656', 'content': 'Ari Holtzman @ ACL on Twitter: \"I\\'m around today and talking to folks about what the future of studying generative models might look like, how to meaningfully decompose language model behavior into useful categories, and how to do science as generalization becomes difficult to assess!', 'score': 0.8232293, 'raw_content': None}, {'title': 'Ari Holtzman on Twitter', 'url': 'https://twitter.com/universeinanegg/status/1557439705284653056', 'content': 'Ari Holtzman on X: \"I think the most important thing for figuring out the right hypotheses to explain LM behavior is just giving people access to these models, so they can poke at them on their own, for free. What will we find?\" / X People on X are the first to know. Sign up I think the most important thing for figuring out the right hypotheses to explain LM behavior is just giving people access to these models, so they can poke at them on their own, for free. Aug 10, 2022 You can try it here: https://docs.google.com/document/d/1JxSo4lQgMDBdnd19VBEoaG-mMfQupQ3XvOrgmRAVtpU/edit?usp=sharing… 1/n New to X? Sign up now to get your own personalized timeline! Sign up with Apple Try reloading.', 'score': 0.767847, 'raw_content': None}, {'title': 'Ari Holtzman on Twitter', 'url': 'https://twitter.com/universeinanegg/status/1383128271651446787', 'content': 'Ari Holtzman\\u200f@universeinanegg11h We show that using generative models for multiple choice by picking the highest probability answer is inherently flawed due to surface form competition—the condition where different strings represent the same concept but compete for probability e.g. MLK and Martin Luther King Jr.', 'score': 0.67321366, 'raw_content': None}, {'title': 'Ari Holtzman', 'url': 'https://ariholtzman.com/', 'content': \"Nightly Research Statement (Obsolete but Relevant) My goal is to help create the foundations for a science of generative models. Since the field is changing quickly, I'll give a sense of what I'm thinking about right now. I've singled out my three biggest current fascinations below: Fundamental Laws of Language Models While scaling laws are interesting, they are definitely not the whole story\", 'score': 0.4108041, 'raw_content': None}, {'title': \"Ari Holtzman's Profile | JD Supra Journalist | Muck Rack\", 'url': 'https://muckrack.com/ari-holtzman', 'content': \"Find Ari Holtzman's articles, email address, contact information, Twitter and more\", 'score': 0.3542772, 'raw_content': None}], 'response_time': 1.83}), ToolMessage(content='[{\"url\": \"https://twitter.com/LukeZettlemoyer/status/1580346811155648512\", \"content\": \"RT @hllo_wrld: Our latest reading to learn paper Language Dynamics Distillation will appear at #NeurIPS2022! In LDD, we pretrain the agent to read to model env dynamics.\"}, {\"url\": \"https://twitter.com/LukeZettlemoyer/status/1679870456608985088\", \"content\": \"RT @ArmenAgha: I\\'m excited to release our most recent work setting a new SOTA FID of 4.88 on text-to-image generation we call CM3Leon (pronounced chameleon)! https\"}, {\"url\": \"https://twitter.com/LukeZettlemoyer/status/1679513235010252800\", \"content\": \"RT @MetaAI: We\\'re honored to share that Meta AI researchers received four different publication awards at ACL this week — including three outstanding paper recognitions! 4️⃣ more, award-winning papers to read from Meta AI at #ACL2023NLP 🧵\"}, {\"url\": \"https://twitter.com/lukezettlemoyer\", \"content\": \"The latest posts from @lukezettlemoyer\"}, {\"url\": \"https://news.cs.washington.edu/2022/02/23/allen-schools-luke-zettlemoyer-elected-fellow-of-the-association-for-computational-linguistics-for-expanding-the-frontiers-of-natural-language-processing/\", \"content\": \"Luke Zettlemoyer, a professor in the Allen School\\'s Natural Language Processing group and a research director at Meta AI, was recently elected a Fellow of the Association for Computational Linguistics (ACL) for \\\\\"significant contributions to grounded semantics, semantic parsing, and representation learning for natural language processing.\\\\\" Since he arrived at…\"}]', name='tavily_search_results_json', id='a09ef866-92b5-4e67-8ccc-677d570d770c', tool_call_id='call_M7mVjV3RxU5HsKxMBKF02n42', artifact={'query': 'Luke Zettlemoyer latest tweet', 'follow_up_questions': None, 'answer': None, 'images': [], 'results': [{'title': 'Luke Zettlemoyer on Twitter: \"RT @hllo_wrld: Our latest reading to ...', 'url': 'https://twitter.com/LukeZettlemoyer/status/1580346811155648512', 'content': 'RT @hllo_wrld: Our latest reading to learn paper Language Dynamics Distillation will appear at #NeurIPS2022! In LDD, we pretrain the agent to read to model env dynamics.', 'score': 0.7992077, 'raw_content': None}, {'title': 'Luke Zettlemoyer on Twitter: \"RT @ArmenAgha: I\\'m excited to release our ...', 'url': 'https://twitter.com/LukeZettlemoyer/status/1679870456608985088', 'content': \"RT @ArmenAgha: I'm excited to release our most recent work setting a new SOTA FID of 4.88 on text-to-image generation we call CM3Leon (pronounced chameleon)! https\", 'score': 0.76701033, 'raw_content': None}, {'title': 'Luke Zettlemoyer on Twitter: \"RT @MetaAI: We\\'re honored to share that ...', 'url': 'https://twitter.com/LukeZettlemoyer/status/1679513235010252800', 'content': \"RT @MetaAI: We're honored to share that Meta AI researchers received four different publication awards at ACL this week — including three outstanding paper recognitions! 4️⃣ more, award-winning papers to read from Meta AI at #ACL2023NLP 🧵\", 'score': 0.75181264, 'raw_content': None}, {'title': '@lukezettlemoyer | X', 'url': 'https://twitter.com/lukezettlemoyer', 'content': 'The latest posts from @lukezettlemoyer', 'score': 0.5617203, 'raw_content': None}, {'title': \"Allen School News » Allen School's Luke Zettlemoyer elected Fellow of ...\", 'url': 'https://news.cs.washington.edu/2022/02/23/allen-schools-luke-zettlemoyer-elected-fellow-of-the-association-for-computational-linguistics-for-expanding-the-frontiers-of-natural-language-processing/', 'content': 'Luke Zettlemoyer, a professor in the Allen School\\'s Natural Language Processing group and a research director at Meta AI, was recently elected a Fellow of the Association for Computational Linguistics (ACL) for \"significant contributions to grounded semantics, semantic parsing, and representation learning for natural language processing.\" Since he arrived at…', 'score': 0.47548413, 'raw_content': None}], 'response_time': 1.83})]\n",
            "\n",
            "\n",
            "\n",
            "Receiving update from node: 'agent'\n",
            "[AIMessage(content='Here are the latest tweets from the authors of the QLoRA paper:\\n\\n1. **Tim Dettmers**:\\n   - [Tweet](https://twitter.com/Tim_Dettmers/status/1683118705956491264): \"The latest release of bitsandbytes has an improved CUDA setup and A100 4-bit inference. I thought that A40 and A100 GPUs were close enough, and optimized for A40s, but they are very different. A100 performance is now 40% faster with a small hit for other GPUs.\"\\n\\n2. **Artidoro Pagnoni**:\\n   - [Tweet](https://twitter.com/ArtidoroPagnoni/status/1661438274894966784): \"Thank you to @Tim_Dettmers @universeinanegg @LukeZettlemoyer and the many people who made this project possible! In particular, @younesbelkada and the @huggingface team.\"\\n\\n3. **Ari Holtzman**:\\n   - [Tweet](https://twitter.com/universeinanegg/status/1678462929669062656): \"I\\'m around today and talking to folks about what the future of studying generative models might look like, how to meaningfully decompose language model behavior into useful categories, and how to do science as generalization becomes difficult to assess!\"\\n\\n4. **Luke Zettlemoyer**:\\n   - [Tweet](https://twitter.com/LukeZettlemoyer/status/1679870456608985088): \"RT @ArmenAgha: I\\'m excited to release our most recent work setting a new SOTA FID of 4.88 on text-to-image generation we call CM3Leon (pronounced chameleon)!\"\\n\\nThese tweets provide insights into their recent activities and contributions to the field.', additional_kwargs={'refusal': None}, response_metadata={'token_usage': {'completion_tokens': 373, 'prompt_tokens': 3105, 'total_tokens': 3478, 'completion_tokens_details': {'accepted_prediction_tokens': 0, 'audio_tokens': 0, 'reasoning_tokens': 0, 'rejected_prediction_tokens': 0}, 'prompt_tokens_details': {'audio_tokens': 0, 'cached_tokens': 1152}}, 'model_name': 'gpt-4o-2024-08-06', 'system_fingerprint': 'fp_4691090a87', 'finish_reason': 'stop', 'logprobs': None}, id='run-3e745c1e-1106-4e5b-87ee-a077a0d8292d-0', usage_metadata={'input_tokens': 3105, 'output_tokens': 373, 'total_tokens': 3478, 'input_token_details': {'audio': 0, 'cache_read': 1152}, 'output_token_details': {'audio': 0, 'reasoning': 0}})]\n",
            "\n",
            "\n",
            "\n"
          ]
        }
      ],
      "source": [
        "inputs = {\"messages\" : [HumanMessage(content=\"Search Arxiv for the QLoRA paper, then search each of the authors to find out their latest Tweet using Tavily!\")]}\n",
        "\n",
        "async for chunk in compiled_graph.astream(inputs, stream_mode=\"updates\"):\n",
        "    for node, values in chunk.items():\n",
        "        print(f\"Receiving update from node: '{node}'\")\n",
        "        if node == \"action\":\n",
        "          print(f\"Tool Used: {values['messages'][0].name}\")\n",
        "        print(values[\"messages\"])\n",
        "\n",
        "        print(\"\\n\\n\")"
      ]
    },
    {
      "cell_type": "markdown",
      "metadata": {
        "id": "CXzDlZVz1Hnf"
      },
      "source": [
        "####🏗️ Activity #2:\n",
        "\n",
        "Please write out the steps the agent took to arrive at the correct answer."
      ]
    },
    {
      "cell_type": "markdown",
      "metadata": {},
      "source": [
        "Lets fist look at the code as it is:\n",
        "\n",
        "```python\n",
        "\n",
        "\n",
        "\n",
        "inputs = {\"messages\" : [HumanMessage(content=\"Search Arxiv for the QLoRA paper, then search each of the authors to find out their latest Tweet using Tavily!\")]}\n",
        "\n",
        "async for chunk in compiled_graph.astream(inputs, stream_mode=\"updates\"):\n",
        "    for node, values in chunk.items():\n",
        "        print(f\"Receiving update from node: '{node}'\")\n",
        "        if node == \"action\":\n",
        "          print(f\"Tool Used: {values['messages'][0].name}\")\n",
        "        print(values[\"messages\"])\n",
        "\n",
        "        print(\"\\n\\n\")\n",
        "\n",
        "```\n",
        "\n",
        "Now lets look at the steps the agent took to arrive at the correct answer:\n",
        "\n",
        "1. The agent was called with the question \"Search Arxiv for the QLoRA paper, then search each of the authors to find out their latest Tweet using Tavily!\"\n",
        "2. The agent added a HumanMessage to the state object and passed it to the agent node.\n",
        "3. The agent node added an AIMessage to the state object and passed it to the conditional edge.\n",
        "4. The conditional edge received the state object, found the \"tool_calls\" `additional_kwarg`, and sent the state object to the action node.\n",
        "5. The action node added a ToolMessage to the state object and passed it to the agent node.\n",
        "6. The agent node added an AIMessage to the state object and passed it to the conditional edge.\n",
        "7. The conditional edge received the state object, found the \"tool_calls\" `additional_kwarg`, and sent the state object to the action node.\n",
        "8. The action node added a ToolMessage to the state object and passed it to the agent node.\n",
        "9. The agent node added an AIMessage to the state object and passed it to the conditional edge.\n",
        "10. The conditional edge received the state object, found the \"tool_calls\" `additional_kwarg`, and sent the state object to the action node.\n"
      ]
    },
    {
      "cell_type": "markdown",
      "metadata": {
        "id": "v7c8-Uyarh1v"
      },
      "source": [
        "## Part 1: LangSmith Evaluator"
      ]
    },
    {
      "cell_type": "markdown",
      "metadata": {
        "id": "pV3XeFOT1Sar"
      },
      "source": [
        "### Pre-processing for LangSmith"
      ]
    },
    {
      "cell_type": "markdown",
      "metadata": {
        "id": "wruQCuzewUuO"
      },
      "source": [
        "To do a little bit more preprocessing, let's wrap our LangGraph agent in a simple chain."
      ]
    },
    {
      "cell_type": "code",
      "execution_count": 52,
      "metadata": {
        "id": "oeXdQgbxwhTv"
      },
      "outputs": [],
      "source": [
        "def convert_inputs(input_object):\n",
        "  return {\"messages\" : [HumanMessage(content=input_object[\"question\"])]}\n",
        "\n",
        "def parse_output(input_state):\n",
        "  return input_state[\"messages\"][-1].content\n",
        "\n",
        "agent_chain = convert_inputs | compiled_graph | parse_output"
      ]
    },
    {
      "cell_type": "code",
      "execution_count": 53,
      "metadata": {
        "colab": {
          "base_uri": "https://localhost:8080/",
          "height": 105
        },
        "id": "orYxBZXSxJjZ",
        "outputId": "76be837b-6424-4516-8f63-07fbd8c25bf5"
      },
      "outputs": [
        {
          "data": {
            "text/plain": [
              "\"RAG stands for Retrieval-Augmented Generation. It is a technique used in natural language processing (NLP) that combines retrieval-based methods with generative models to improve the quality and accuracy of generated text. Here's a brief overview of how it works:\\n\\n1. **Retrieval**: In the first step, relevant documents or pieces of information are retrieved from a large corpus or database. This is typically done using a retrieval model that identifies the most relevant documents based on the input query or context.\\n\\n2. **Augmentation**: The retrieved documents are then used to augment the input to a generative model. This means that the generative model has access to additional context or information that can help it produce more accurate and contextually relevant responses.\\n\\n3. **Generation**: Finally, a generative model, such as a transformer-based language model, uses the augmented input to generate a response or piece of text. The additional context provided by the retrieved documents helps the model generate more informed and accurate outputs.\\n\\nRAG is particularly useful in scenarios where the generative model needs to produce responses based on a large and diverse set of information, such as in open-domain question answering or conversational AI. By combining retrieval and generation, RAG models can leverage both the precision of retrieval systems and the flexibility of generative models.\""
            ]
          },
          "execution_count": 53,
          "metadata": {},
          "output_type": "execute_result"
        }
      ],
      "source": [
        "agent_chain.invoke({\"question\" : \"What is RAG?\"})"
      ]
    },
    {
      "cell_type": "markdown",
      "metadata": {
        "id": "f9UkCIqkpyZu"
      },
      "source": [
        "### Task 1: Creating An Evaluation Dataset\n",
        "\n",
        "Just as we saw last week, we'll want to create a dataset to test our Agent's ability to answer questions.\n",
        "\n",
        "In order to do this - we'll want to provide some questions and some answers. Let's look at how we can create such a dataset below.\n",
        "\n",
        "```python\n",
        "questions = [\n",
        "    \"What optimizer is used in QLoRA?\",\n",
        "    \"What data type was created in the QLoRA paper?\",\n",
        "    \"What is a Retrieval Augmented Generation system?\",\n",
        "    \"Who authored the QLoRA paper?\",\n",
        "    \"What is the most popular deep learning framework?\",\n",
        "    \"What significant improvements does the LoRA system make?\"\n",
        "]\n",
        "\n",
        "answers = [\n",
        "    {\"must_mention\" : [\"paged\", \"optimizer\"]},\n",
        "    {\"must_mention\" : [\"NF4\", \"NormalFloat\"]},\n",
        "    {\"must_mention\" : [\"ground\", \"context\"]},\n",
        "    {\"must_mention\" : [\"Tim\", \"Dettmers\"]},\n",
        "    {\"must_mention\" : [\"PyTorch\", \"TensorFlow\"]},\n",
        "    {\"must_mention\" : [\"reduce\", \"parameters\"]},\n",
        "]\n",
        "```"
      ]
    },
    {
      "cell_type": "markdown",
      "metadata": {
        "id": "VfMXF2KAsQxs"
      },
      "source": [
        "####🏗️ Activity #3:\n",
        "\n",
        "Please create a dataset in the above format with at least 5 questions."
      ]
    },
    {
      "cell_type": "markdown",
      "metadata": {},
      "source": [
        "#### ✅ Answer:\n",
        "\n",
        "```\n",
        "questions = [\n",
        "    \"How does QLoRA compare to full-model finetuning?\",\n",
        "    \"What is the main difference between QLoRA and other quantization methods?\",\n",
        "    \"What are the key advantages of using QLoRA for model compression?\",\n",
        "    \"How does QLoRA improve the efficiency of model training?\",\n",
        "    \"What are the potential limitations of QLoRA compared to other compression techniques?\"\n",
        "]\n",
        "\n",
        "answers = [\n",
        "    {\"must_mention\" : [\"QLoRA\", \"full-model finetuning\"]},\n",
        "    {\"must_mention\" : [\"QLoRA\", \"other quantization methods\"]},\n",
        "    {\"must_mention\" : [\"QLoRA\", \"model compression\"]},\n",
        "    {\"must_mention\" : [\"QLoRA\", \"model training efficiency\"]},\n",
        "    {\"must_mention\" : [\"QLoRA\", \"other compression techniques\"]},\n",
        "]\n",
        "```\n"
      ]
    },
    {
      "cell_type": "code",
      "execution_count": 54,
      "metadata": {
        "id": "CbagRuJop83E"
      },
      "outputs": [],
      "source": [
        "questions = [\n",
        "    \"What optimizer is used in QLoRA?\",\n",
        "    \"What data type was created in the QLoRA paper?\",\n",
        "    \"What is a Retrieval Augmented Generation system?\",\n",
        "    \"Who authored the QLoRA paper?\",\n",
        "    \"What is the most popular deep learning framework?\",\n",
        "    \"What significant improvements does the LoRA system make?\",\n",
        "    \"How does QLoRA compare to full-model finetuning?\",\n",
        "    \"What is the main difference between QLoRA and other quantization methods?\",\n",
        "    \"What are the key advantages of using QLoRA for model compression?\",\n",
        "    \"How does QLoRA improve the efficiency of model training?\",\n",
        "    \"What are the potential limitations of QLoRA compared to other compression techniques?\"\n",
        "]\n",
        "\n",
        "answers = [\n",
        "    {\"must_mention\" : [\"paged\", \"optimizer\"]},\n",
        "    {\"must_mention\" : [\"NF4\", \"NormalFloat\"]},\n",
        "    {\"must_mention\" : [\"ground\", \"context\"]},\n",
        "    {\"must_mention\" : [\"Tim\", \"Dettmers\"]},\n",
        "    {\"must_mention\" : [\"PyTorch\", \"TensorFlow\"]},\n",
        "    {\"must_mention\" : [\"reduce\", \"parameters\"]},\n",
        "    {\"must_mention\" : [\"QLoRA\", \"full-model finetuning\"]},\n",
        "    {\"must_mention\" : [\"QLoRA\", \"other quantization methods\"]},\n",
        "    {\"must_mention\" : [\"QLoRA\", \"model compression\"]},\n",
        "    {\"must_mention\" : [\"QLoRA\", \"model training efficiency\"]},\n",
        "    {\"must_mention\" : [\"QLoRA\", \"other compression techniques\"]}\n",
        "]"
      ]
    },
    {
      "cell_type": "markdown",
      "metadata": {
        "id": "z7QVFuAmsh7L"
      },
      "source": [
        "Now we can add our dataset to our LangSmith project using the following code which we saw last Thursday!"
      ]
    },
    {
      "cell_type": "code",
      "execution_count": 55,
      "metadata": {
        "id": "RLfrZrgSsn85"
      },
      "outputs": [],
      "source": [
        "from langsmith import Client\n",
        "\n",
        "client = Client()\n",
        "\n",
        "dataset_name = f\"Retrieval Augmented Generation - Evaluation Dataset - {uuid4().hex[0:8]}\"\n",
        "\n",
        "dataset = client.create_dataset(\n",
        "    dataset_name=dataset_name,\n",
        "    description=\"Questions about the QLoRA Paper to Evaluate RAG over the same paper.\"\n",
        ")\n",
        "\n",
        "client.create_examples(\n",
        "    inputs=[{\"question\" : q} for q in questions],\n",
        "    outputs=answers,\n",
        "    dataset_id=dataset.id,\n",
        ")"
      ]
    },
    {
      "cell_type": "markdown",
      "metadata": {
        "id": "ciV73F9Q04w0"
      },
      "source": [
        "#### ❓ Question #3:\n",
        "\n",
        "How are the correct answers associated with the questions?\n",
        "\n",
        "> NOTE: Feel free to indicate if this is problematic or not"
      ]
    },
    {
      "cell_type": "markdown",
      "metadata": {},
      "source": [
        "#### ✅ Answer:\n",
        "\n",
        "The correct answers are associated with the questions through a structured format where each question corresponds to a specific answer that includes key phrases that must be mentioned in the response. This is done using a dictionary format for the answers, where each answer specifies a list of keywords that are expected to be present in the response.\n",
        "\n",
        "Explanation of the Association:\n",
        "1. Questions List: Each question is a string that poses a specific inquiry related to the QLoRA paper or its concepts.\n",
        "2. Answers List: Each answer is represented as a dictionary with a key must_mention, which contains a list of keywords or phrases that should be included in the response to be considered correct.\n",
        "3. Matching Mechanism: When evaluating the responses generated by the agent, the evaluation process checks if the response contains all the keywords specified in the corresponding answer's must_mention list. If the response includes all required keywords, it is deemed correct.\n",
        "\n",
        "Potential Issues:\n",
        "Ambiguity: If the keywords are too broad or common, it may lead to false positives where a response is marked correct even if it doesn't fully address the question.\n",
        "\n",
        "Lack of Context: The evaluation only checks for the presence of keywords without considering the context in which they are used, which might not accurately reflect the quality or relevance of the answer.\n",
        "\n",
        "Flexibility: This method may not account for variations in phrasing or synonyms, which could lead to valid answers being marked incorrect if they do not match the exact keywords.\n",
        "\n",
        "Overall, while this method provides a straightforward way to associate questions with answers, it may benefit from additional context-aware evaluation mechanisms to improve accuracy and relevance."
      ]
    },
    {
      "cell_type": "markdown",
      "metadata": {
        "id": "-lRTXUrTtP9Y"
      },
      "source": [
        "### Task 2: Adding Evaluators\n",
        "\n",
        "Now we can add a custom evaluator to see if our responses contain the expected information.\n",
        "\n",
        "We'll be using a fairly naive exact-match process to determine if our response contains specific strings."
      ]
    },
    {
      "cell_type": "code",
      "execution_count": 56,
      "metadata": {
        "id": "QrAUXMFftlAY"
      },
      "outputs": [],
      "source": [
        "from langsmith.evaluation import EvaluationResult, run_evaluator\n",
        "\n",
        "@run_evaluator\n",
        "def must_mention(run, example) -> EvaluationResult:\n",
        "    prediction = run.outputs.get(\"output\") or \"\"\n",
        "    required = example.outputs.get(\"must_mention\") or []\n",
        "    score = all(phrase in prediction for phrase in required)\n",
        "    return EvaluationResult(key=\"must_mention\", score=score)"
      ]
    },
    {
      "cell_type": "markdown",
      "metadata": {
        "id": "PNtHORUh0jZY"
      },
      "source": [
        "#### ❓ Question #4:\n",
        "\n",
        "What are some ways you could improve this metric as-is?\n",
        "\n",
        "> NOTE: Alternatively you can suggest where gaps exist in this method."
      ]
    },
    {
      "cell_type": "markdown",
      "metadata": {},
      "source": [
        "#### ✅ Answer:\n",
        "\n",
        "Here are some suggestions to improve the must_mention evaluator metric and address potential gaps in its current implementation:\n",
        "1. Contextual Understanding\n",
        "Issue: The current implementation only checks for the presence of required phrases without considering the context in which they appear. This can lead to false positives if the phrases are mentioned but not in a relevant context.\n",
        "Improvement: Implement a more sophisticated natural language processing (NLP) approach that evaluates the context of the phrases. For example, using semantic similarity measures or context-aware embeddings (like BERT) to assess whether the phrases are used appropriately.\n",
        "2. Partial Matches and Synonyms\n",
        "Issue: The evaluator requires exact matches of phrases, which may not account for synonyms or variations in phrasing.\n",
        "Improvement: Introduce a synonym dictionary or use NLP libraries to identify synonyms and variations of the required phrases. This would allow for more flexible matching.\n",
        "3. Weighting of Phrases\n",
        "Issue: All required phrases are treated equally, which may not reflect their importance in the context of the question.\n",
        "Improvement: Assign weights to different phrases based on their significance. For example, some phrases could be deemed more critical than others, and the score could be calculated based on the weighted presence of these phrases.\n",
        "4. Threshold for Scoring\n",
        "Issue: The current implementation returns a binary score (0 or 1) based on whether all phrases are present.\n",
        "Improvement: Implement a scoring system that allows for partial credit. For instance, if 3 out of 5 required phrases are present, the score could reflect that (e.g., 0.6).\n",
        "5. Handling Negations\n",
        "Issue: The evaluator does not account for negations, which can change the meaning of phrases.\n",
        "Improvement: Incorporate a mechanism to detect negations in the prediction. For example, if a required phrase is present but negated (e.g., \"not\", \"never\"), it should affect the score negatively.\n",
        "6. Feedback Loop for Continuous Improvement\n",
        "Issue: The evaluator does not learn from past evaluations.\n",
        "Improvement: Create a feedback mechanism where the evaluator can learn from incorrect evaluations over time, potentially using reinforcement learning techniques to improve its accuracy.\n",
        "7. Logging and Analysis\n",
        "Issue: There is no logging of evaluation results for further analysis.\n",
        "Improvement: Implement logging of evaluation results, including which phrases were matched or missed. This data can be used to analyze common failure points and improve the evaluation criteria.\n",
        "\n",
        "Example of an Improved Evaluator\n",
        "Here’s a conceptual example of how you might start implementing some of these improvements:\n",
        "``` python\n",
        "from langsmith.evaluation import EvaluationResult, run_evaluator\n",
        "from sklearn.metrics.pairwise import cosine_similarity\n",
        "from sentence_transformers import SentenceTransformer\n",
        "\n",
        "model = SentenceTransformer('all-MiniLM-L6-v2')\n",
        "\n",
        "@run_evaluator\n",
        "def improved_must_mention(run, example) -> EvaluationResult:\n",
        "    prediction = run.outputs.get(\"output\") or \"\"\n",
        "    required = example.outputs.get(\"must_mention\") or []\n",
        "    \n",
        "    # Calculate semantic similarity\n",
        "    prediction_embedding = model.encode(prediction)\n",
        "    required_embeddings = model.encode(required)\n",
        "    \n",
        "    # Calculate similarity scores\n",
        "    scores = cosine_similarity([prediction_embedding], required_embeddings)[0]\n",
        "    \n",
        "    # Define a threshold for what constitutes a \"match\"\n",
        "    threshold = 0.7\n",
        "    score = sum(1 for s in scores if s >= threshold) / len(required)\n",
        "    \n",
        "    return EvaluationResult(key=\"improved_must_mention\", score=score)\n",
        "```"
      ]
    },
    {
      "cell_type": "markdown",
      "metadata": {
        "id": "r1RJr349zhv7"
      },
      "source": [
        "Task 3: Evaluating\n",
        "\n",
        "All that is left to do is evaluate our agent's response!"
      ]
    },
    {
      "cell_type": "code",
      "execution_count": 57,
      "metadata": {
        "colab": {
          "base_uri": "https://localhost:8080/",
          "height": 118,
          "referenced_widgets": [
            "efcf57067cf743d8b4ce059a61cbe02e",
            "53e33aae3b97490c82aec7bbb0d6ebba",
            "ad84e0e971d3455db2efe7dd0d1f803e",
            "72adef9b70dd48198b7322b6c5b113cf",
            "8a61d045ffd44ac58f3f13eb10044836",
            "041e22a9b5514e36bd4d1dac01d5d398",
            "886d762f2a7c421382efb5502c6d42a1",
            "ab91fd625bbd43afbf8c6398193a88d0",
            "716557ad09874dcb989d75f7c74424cd",
            "77d4c0ebaae045b58efc4f789c9a2360",
            "0d622ccc56264fac8fd7508dbdbe6e29"
          ]
        },
        "id": "p5TeCUUkuGld",
        "outputId": "2f7d62a2-e78d-447a-d07b-f9e4d500fb79"
      },
      "outputs": [
        {
          "name": "stdout",
          "output_type": "stream",
          "text": [
            "View the evaluation results for experiment: 'RAG Pipeline - Evaluation - 31b5-aa08f0ba' at:\n",
            "https://smith.langchain.com/o/5893d499-6998-4f44-a84d-2fcf6d99ac9b/datasets/1fcd373f-fbdb-4541-b106-e248e00487ef/compare?selectedSessions=952e096e-9313-4d4e-a928-383097d1e395\n",
            "\n",
            "\n"
          ]
        },
        {
          "data": {
            "application/vnd.jupyter.widget-view+json": {
              "model_id": "9979b367ba0042849ec1945e3ef799db",
              "version_major": 2,
              "version_minor": 0
            },
            "text/plain": [
              "0it [00:00, ?it/s]"
            ]
          },
          "metadata": {},
          "output_type": "display_data"
        }
      ],
      "source": [
        "experiment_results = client.evaluate(\n",
        "    agent_chain,\n",
        "    data=dataset_name,\n",
        "    evaluators=[must_mention],\n",
        "    experiment_prefix=f\"RAG Pipeline - Evaluation - {uuid4().hex[0:4]}\",\n",
        "    metadata={\"version\": \"1.0.0\"},\n",
        ")"
      ]
    },
    {
      "cell_type": "code",
      "execution_count": 59,
      "metadata": {
        "colab": {
          "base_uri": "https://localhost:8080/",
          "height": 342
        },
        "id": "eeEqU7s05Byu",
        "outputId": "78395075-a05d-4ebd-c798-ed968b935318"
      },
      "outputs": [
        {
          "data": {
            "text/html": [
              "<ExperimentResults RAG Pipeline - Evaluation - 31b5-aa08f0ba>"
            ],
            "text/plain": [
              "<ExperimentResults RAG Pipeline - Evaluation - 31b5-aa08f0ba>"
            ]
          },
          "execution_count": 59,
          "metadata": {},
          "output_type": "execute_result"
        }
      ],
      "source": [
        "experiment_results"
      ]
    },
    {
      "cell_type": "markdown",
      "metadata": {
        "id": "jhTNe4kWrplB"
      },
      "source": [
        "## Part 2: LangGraph with Helpfulness:"
      ]
    },
    {
      "cell_type": "markdown",
      "metadata": {
        "id": "w1wKRddbIY_S"
      },
      "source": [
        "### Task 3: Adding Helpfulness Check and \"Loop\" Limits\n",
        "\n",
        "Now that we've done evaluation - let's see if we can add an extra step where we review the content we've generated to confirm if it fully answers the user's query!\n",
        "\n",
        "We're going to make a few key adjustments to account for this:\n",
        "\n",
        "1. We're going to add an artificial limit on how many \"loops\" the agent can go through - this will help us to avoid the potential situation where we never exit the loop.\n",
        "2. We'll add to our existing conditional edge to obtain the behaviour we desire."
      ]
    },
    {
      "cell_type": "markdown",
      "metadata": {
        "id": "npTYJ8ayR5B3"
      },
      "source": [
        "First, let's define our state again - we can check the length of the state object, so we don't need additional state for this."
      ]
    },
    {
      "cell_type": "code",
      "execution_count": 60,
      "metadata": {
        "id": "-LQ84YhyJG0w"
      },
      "outputs": [],
      "source": [
        "class AgentState(TypedDict):\n",
        "  messages: Annotated[list, add_messages]"
      ]
    },
    {
      "cell_type": "markdown",
      "metadata": {
        "id": "sD7EV0HqSQcb"
      },
      "source": [
        "Now we can set our graph up! This process will be almost entirely the same - with the inclusion of one additional node/conditional edge!"
      ]
    },
    {
      "cell_type": "markdown",
      "metadata": {
        "id": "oajBwLkFVi1N"
      },
      "source": [
        "####🏗️ Activity #5:\n",
        "\n",
        "Please write markdown for the following cells to explain what each is doing."
      ]
    },
    {
      "cell_type": "markdown",
      "metadata": {},
      "source": [
        "#### ✅ Answer:\n",
        "The cell below is setting up the graph with the helpfulness check and the tool call check.\n",
        "This ensures that the agent will only continue if it is helpful and will only call a tool if there are tool calls in the last message."
      ]
    },
    {
      "cell_type": "code",
      "execution_count": 61,
      "metadata": {
        "colab": {
          "base_uri": "https://localhost:8080/"
        },
        "id": "6r6XXA5FJbVf",
        "outputId": "ff713041-e498-4f0f-a875-a03502b87729"
      },
      "outputs": [
        {
          "data": {
            "text/plain": [
              "<langgraph.graph.state.StateGraph at 0x7fe7bb7b35c0>"
            ]
          },
          "execution_count": 61,
          "metadata": {},
          "output_type": "execute_result"
        }
      ],
      "source": [
        "graph_with_helpfulness_check = StateGraph(AgentState)\n",
        "\n",
        "graph_with_helpfulness_check.add_node(\"agent\", call_model)\n",
        "graph_with_helpfulness_check.add_node(\"action\", tool_node)"
      ]
    },
    {
      "cell_type": "markdown",
      "metadata": {
        "id": "XZ22o2mWVrfp"
      },
      "source": [
        "#### ✅ Answer:\n",
        "The cell below is setting the entry point of the graph to the agent node."
      ]
    },
    {
      "cell_type": "code",
      "execution_count": 62,
      "metadata": {
        "colab": {
          "base_uri": "https://localhost:8080/"
        },
        "id": "HNWHwWxuRiLY",
        "outputId": "295f5a35-ceff-452a-ffb8-c52eada6a816"
      },
      "outputs": [
        {
          "data": {
            "text/plain": [
              "<langgraph.graph.state.StateGraph at 0x7fe7bb7b35c0>"
            ]
          },
          "execution_count": 62,
          "metadata": {},
          "output_type": "execute_result"
        }
      ],
      "source": [
        "graph_with_helpfulness_check.set_entry_point(\"agent\")"
      ]
    },
    {
      "cell_type": "markdown",
      "metadata": {
        "id": "rsXeF6xlaXOZ"
      },
      "source": [
        "#### ✅ Answer:\n",
        "The tool_call_or_helpful function evaluates the helpfulness of a response generated by an AI model based on the context of a conversation. Here's a summary of its functionality:\n",
        "1. Extracts the Last Message: It retrieves the last message from the conversation state.\n",
        "2. Checks for Tool Calls: If the last message indicates that a tool was called, it returns \"action\" to proceed with that action.\n",
        "3. Initial Query and Final Response: It captures the initial user query and the final response from the AI.\n",
        "4. Cycle Limit: If the number of messages exceeds 10, it returns \"END\" to stop further processing.\n",
        "5. Prompt Creation: It constructs a prompt template that asks whether the final response is helpful or not, using the initial query and final response as context.\n",
        "Helpfulness Evaluation: It invokes a model (ChatOpenAI) to assess the helpfulness of the final response based on the prompt.\n",
        "Return Value: If the model indicates the response is helpful (with a 'Y'), it returns \"end\"; otherwise, it returns \"continue\" to keep the conversation going.\n",
        "Overall, the function is designed to determine if the AI's response is useful and to manage the flow of the conversation based on that evaluation."
      ]
    },
    {
      "cell_type": "code",
      "execution_count": 63,
      "metadata": {
        "id": "z_Sq3A9SaV1O"
      },
      "outputs": [],
      "source": [
        "from langchain_core.prompts import PromptTemplate\n",
        "from langchain_core.output_parsers import StrOutputParser\n",
        "\n",
        "def tool_call_or_helpful(state):\n",
        "  last_message = state[\"messages\"][-1]\n",
        "\n",
        "  if last_message.tool_calls:\n",
        "    return \"action\"\n",
        "\n",
        "  initial_query = state[\"messages\"][0]\n",
        "  final_response = state[\"messages\"][-1]\n",
        "\n",
        "  if len(state[\"messages\"]) > 10:\n",
        "    return \"END\"\n",
        "\n",
        "  prompt_template = \"\"\"\\\n",
        "  Given an initial query and a final response, determine if the final response is extremely helpful or not. Please indicate helpfulness with a 'Y' and unhelpfulness as an 'N'.\n",
        "\n",
        "  Initial Query:\n",
        "  {initial_query}\n",
        "\n",
        "  Final Response:\n",
        "  {final_response}\"\"\"\n",
        "\n",
        "  prompt_template = PromptTemplate.from_template(prompt_template)\n",
        "\n",
        "  helpfulness_check_model = ChatOpenAI(model=\"gpt-4\")\n",
        "\n",
        "  helpfulness_chain = prompt_template | helpfulness_check_model | StrOutputParser()\n",
        "\n",
        "  helpfulness_response = helpfulness_chain.invoke({\"initial_query\" : initial_query.content, \"final_response\" : final_response.content})\n",
        "\n",
        "  if \"Y\" in helpfulness_response:\n",
        "    return \"end\"\n",
        "  else:\n",
        "    return \"continue\""
      ]
    },
    {
      "cell_type": "markdown",
      "metadata": {
        "id": "Fz1u9Vf4SHxJ"
      },
      "source": [
        "####🏗️ Activity #4:\n",
        "\n",
        "Please write what is happening in our `tool_call_or_helpful` function!"
      ]
    },
    {
      "cell_type": "markdown",
      "metadata": {},
      "source": [
        "#### ✅ Answer:\n",
        "Here is what is happening in the `tool_call_or_helpful` function:\n",
        "1. It retrieves the last message from the conversation state.\n",
        "2. If the last message indicates that a tool was called, it returns \"action\" to proceed with that action.\n",
        "3. It captures the initial user query and the final response from the AI.\n",
        "4. If the number of messages exceeds 10, it returns \"END\" to stop further processing.\n",
        "5. It constructs a prompt template that asks whether the final response is helpful or not, using the initial query and final response as context.\n"
      ]
    },
    {
      "cell_type": "markdown",
      "metadata": {
        "id": "6BhnBW2YVsJO"
      },
      "source": [
        "#### ✅ Markdown Answer:\n",
        "The code is adding conditional edges to a state graph named graph_with_helpfulness_check. It specifies that when the \"agent\" node is executed, it should evaluate the tool_call_or_helpful function to determine the next action based on the state of the conversation.\n",
        "The mapping provided indicates the following outcomes:\n",
        "If the evaluation returns \"continue\", the flow will loop back to the \"agent\" node.\n",
        "If it returns \"action\", the flow will proceed to the \"action\" node to perform a tool call.\n",
        "If it returns \"end\", the flow will terminate at the END node, stopping further processing.\n",
        "This setup allows the graph to dynamically decide the next step based on the helpfulness of the agent's response and whether a tool needs to be called."
      ]
    },
    {
      "cell_type": "code",
      "execution_count": 64,
      "metadata": {
        "colab": {
          "base_uri": "https://localhost:8080/"
        },
        "id": "aVTKnWMbP_8T",
        "outputId": "7f729b1f-311c-4084-ceaf-0da437900c85"
      },
      "outputs": [
        {
          "data": {
            "text/plain": [
              "<langgraph.graph.state.StateGraph at 0x7fe7bb7b35c0>"
            ]
          },
          "execution_count": 64,
          "metadata": {},
          "output_type": "execute_result"
        }
      ],
      "source": [
        "graph_with_helpfulness_check.add_conditional_edges(\n",
        "    \"agent\",\n",
        "    tool_call_or_helpful,\n",
        "    {\n",
        "        \"continue\" : \"agent\",\n",
        "        \"action\" : \"action\",\n",
        "        \"end\" : END\n",
        "    }\n",
        ")"
      ]
    },
    {
      "cell_type": "markdown",
      "metadata": {
        "id": "ZGDLEWOIVtK0"
      },
      "source": [
        "#### ✅ Answer:\n",
        "The cell below is adding an edge from the \"action\" node to the \"agent\" node. This allows the agent to continue the conversation after the tool call is made."
      ]
    },
    {
      "cell_type": "code",
      "execution_count": 65,
      "metadata": {
        "colab": {
          "base_uri": "https://localhost:8080/"
        },
        "id": "cbDK2MbuREgU",
        "outputId": "21a64c20-27a1-4e0e-afde-a639abaa8b55"
      },
      "outputs": [
        {
          "data": {
            "text/plain": [
              "<langgraph.graph.state.StateGraph at 0x7fe7bb7b35c0>"
            ]
          },
          "execution_count": 65,
          "metadata": {},
          "output_type": "execute_result"
        }
      ],
      "source": [
        "graph_with_helpfulness_check.add_edge(\"action\", \"agent\")"
      ]
    },
    {
      "cell_type": "markdown",
      "metadata": {
        "id": "rSI8AOaEVvT-"
      },
      "source": [
        "#### ✅ Answer:\n",
        "The cell below is compiling the graph with the helpfulness check and the tool call check.\n",
        "This allows the graph to be executed with the helpfulness check and the tool call check.\n",
        "agent_with_helpfulness_check = graph_with_helpfulness_check.compile()"
      ]
    },
    {
      "cell_type": "code",
      "execution_count": 66,
      "metadata": {
        "id": "oQldl8ERQ8lf"
      },
      "outputs": [],
      "source": [
        "agent_with_helpfulness_check = graph_with_helpfulness_check.compile()"
      ]
    },
    {
      "cell_type": "markdown",
      "metadata": {
        "id": "F67FGCMRVwGz"
      },
      "source": [
        "#### ✅ Answer:\n",
        "The cell below is executing the graph with the helpfulness check and the tool call check.\n",
        "This allows the graph to be executed with the helpfulness check and the tool call check.\n",
        "inputs = {\"messages\" : [HumanMessage(content=\"Related to machine learning, what is LoRA? Also, who is Tim Dettmers? Also, what is Attention?\")]}"
      ]
    },
    {
      "cell_type": "code",
      "execution_count": 67,
      "metadata": {
        "colab": {
          "base_uri": "https://localhost:8080/"
        },
        "id": "B3oo8E-PRK1T",
        "outputId": "f152dea8-96ad-4d29-d8b2-a064c96a8bd3"
      },
      "outputs": [
        {
          "name": "stdout",
          "output_type": "stream",
          "text": [
            "Receiving update from node: 'agent'\n",
            "[AIMessage(content='', additional_kwargs={'tool_calls': [{'id': 'call_jMpVKFycCp9r0L7vuZviO3ja', 'function': {'arguments': '{\"query\": \"LoRA machine learning\"}', 'name': 'arxiv'}, 'type': 'function'}, {'id': 'call_41AEJdsnnr3tdtXUCDYB9xjg', 'function': {'arguments': '{\"query\": \"Tim Dettmers\"}', 'name': 'tavily_search_results_json'}, 'type': 'function'}, {'id': 'call_dI2r4N15DlzK8Y5k7SNNah5c', 'function': {'arguments': '{\"query\": \"Attention mechanism machine learning\"}', 'name': 'arxiv'}, 'type': 'function'}], 'refusal': None}, response_metadata={'token_usage': {'completion_tokens': 72, 'prompt_tokens': 177, 'total_tokens': 249, 'completion_tokens_details': {'accepted_prediction_tokens': 0, 'audio_tokens': 0, 'reasoning_tokens': 0, 'rejected_prediction_tokens': 0}, 'prompt_tokens_details': {'audio_tokens': 0, 'cached_tokens': 0}}, 'model_name': 'gpt-4o-2024-08-06', 'system_fingerprint': 'fp_50cad350e4', 'finish_reason': 'tool_calls', 'logprobs': None}, id='run-e3eb81a8-4e58-4ea7-ab58-8ae5cd9ad9f8-0', tool_calls=[{'name': 'arxiv', 'args': {'query': 'LoRA machine learning'}, 'id': 'call_jMpVKFycCp9r0L7vuZviO3ja', 'type': 'tool_call'}, {'name': 'tavily_search_results_json', 'args': {'query': 'Tim Dettmers'}, 'id': 'call_41AEJdsnnr3tdtXUCDYB9xjg', 'type': 'tool_call'}, {'name': 'arxiv', 'args': {'query': 'Attention mechanism machine learning'}, 'id': 'call_dI2r4N15DlzK8Y5k7SNNah5c', 'type': 'tool_call'}], usage_metadata={'input_tokens': 177, 'output_tokens': 72, 'total_tokens': 249, 'input_token_details': {'audio': 0, 'cache_read': 0}, 'output_token_details': {'audio': 0, 'reasoning': 0}})]\n",
            "\n",
            "\n",
            "\n",
            "Receiving update from node: 'action'\n",
            "[ToolMessage(content=\"Published: 2024-10-25\\nTitle: Compress then Serve: Serving Thousands of LoRA Adapters with Little Overhead\\nAuthors: Rickard Brüel-Gabrielsson, Jiacheng Zhu, Onkar Bhardwaj, Leshem Choshen, Kristjan Greenewald, Mikhail Yurochkin, Justin Solomon\\nSummary: Fine-tuning large language models (LLMs) with low-rank adaptations (LoRAs)\\nhas become common practice, often yielding numerous copies of the same LLM\\ndiffering only in their LoRA updates. This paradigm presents challenges for\\nsystems that serve real-time responses to queries that each involve a different\\nLoRA. Prior works optimize the design of such systems but still require\\ncontinuous loading and offloading of LoRAs, as it is infeasible to store\\nthousands of LoRAs in GPU memory. To mitigate this issue, we investigate the\\nefficacy of model compression when serving LoRAs. We propose a method for joint\\ncompression of LoRAs into a shared basis paired with LoRA-specific scaling\\nmatrices. We extend our algorithm to learn clusters of LoRAs that are more\\namenable to joint compression, allowing it to scale gracefully to large LoRA\\ncollections. Our experiments with up to 500 LoRAs demonstrate that compressed\\nLoRAs preserve performance while offering major throughput gains in realistic\\nserving scenarios with over a thousand LoRAs, maintaining 80% of the throughput\\nof serving a single LoRA.\\n\\nPublished: 2024-10-28\\nTitle: KD-LoRA: A Hybrid Approach to Efficient Fine-Tuning with LoRA and Knowledge Distillation\\nAuthors: Rambod Azimi, Rishav Rishav, Marek Teichmann, Samira Ebrahimi Kahou\\nSummary: Large language models (LLMs) have demonstrated remarkable performance across\\nvarious downstream tasks. However, the high computational and memory\\nrequirements of LLMs are a major bottleneck. To address this,\\nparameter-efficient fine-tuning (PEFT) methods such as low-rank adaptation\\n(LoRA) have been proposed to reduce computational costs while ensuring minimal\\nloss in performance. Additionally, knowledge distillation (KD) has been a\\npopular choice for obtaining compact student models from teacher models. In\\nthis work, we present KD-LoRA, a novel fine-tuning method that combines LoRA\\nwith KD. Our results demonstrate that KD-LoRA achieves performance comparable\\nto full fine-tuning (FFT) and LoRA while significantly reducing resource\\nrequirements. Specifically, KD-LoRA retains 98% of LoRA's performance on the\\nGLUE benchmark, while being 40% more compact. Additionally, KD-LoRA reduces GPU\\nmemory usage by 30% compared to LoRA, while decreasing inference time by 30%\\ncompared to both FFT and LoRA. We evaluate KD-LoRA across three encoder-only\\nmodels: BERT, RoBERTa, and DeBERTaV3. Code is available at\\nhttps://github.com/rambodazimi/KD-LoRA.\\n\\nPublished: 2024-04-07\\nTitle: A Note on LoRA\\nAuthors: Vlad Fomenko, Han Yu, Jongho Lee, Stanley Hsieh, Weizhu Chen\\nSummary: LoRA (Low-Rank Adaptation) has emerged as a preferred method for efficiently\\nadapting Large Language Models (LLMs) with remarkable simplicity and efficacy.\\nThis note extends the original LoRA paper by offering new perspectives that\\nwere not initially discussed and presents a series of insights for deploying\\nLoRA at scale. Without introducing new experiments, we aim to improve the\\nunderstanding and application of LoRA.\", name='arxiv', id='13ae74f2-83e0-43d3-921a-b03e697db70c', tool_call_id='call_jMpVKFycCp9r0L7vuZviO3ja'), ToolMessage(content='[{\"url\": \"https://timdettmers.com/about/\", \"content\": \"Tim Dettmers is a research scientist at Ai2 and an incoming assistant professor at CMU. He works on efficient deep learning methods, such as quantization, sparsity, and low-bit inference.\"}, {\"url\": \"https://timdettmers.com/\", \"content\": \"Tim Dettmers is a researcher and teacher in deep learning and natural language processing. His blog covers topics such as hardware, quantization, sparse networks, creativity, and grad school choices.\"}, {\"url\": \"https://ai2050.schmidtsciences.org/fellow/tim-dettmers/\", \"content\": \"Tim Dettmers is an Assistant Professor at Carnegie Mellon University and a Research Scientist at the Allen Institute for AI, and his research focuses on making foundation models, such as ChatGPT, accessible to researchers and practitioners by reducing their resource requirements. AI models like ChatGPT work well for general use but fail in specialized expert domains, such as the medical sciences. To make AI models work in expert domains, one must adapt them, which is costly and requires significant AI expertise. This project overcomes these cost and expertise barriers through two new approaches: (1) use AI models themselves to perform the AI model adaptation process automatically; (2) make the adaptation process cheap so it can be run on regular consumer hardware.\"}, {\"url\": \"https://tech.cornell.edu/events/seminar-cornell-tech-tim-dettmers/\", \"content\": \"Jacobs Technion-Cornell Dual MS Degrees – Health Tech Concentration Jacobs Technion-Cornell Dual MS Degrees – Urban Tech Concentration Cornell Tech Impact Study Jacobs Technion-Cornell Dual MS Degrees – Urban Tech Concentration Cornell Tech Impact Study Seminar @ Cornell Tech: Tim Dettmers Research Events, Seminar @ Cornell Tech, Master\\'s Students, PhDs, Postdocs In this talk, Tim Dettmers will present research that significantly lowers these barriers for a wide range of use cases, including inference algorithms that are used to make predictions after training, finetuning approaches that adapt a trained model to new data, and finally, full training of foundation models from scratch. Tim Dettmers’s research focuses on making foundation models, such as ChatGPT, accessible to researchers and practitioners by reducing their resource requirements.\"}, {\"url\": \"https://scholar.google.com/citations?user=lHI3w5kAAAAJ&hl=en\", \"content\": \"Tim Dettmers. Allen Institute for AI; Carnegie Mellon University. Verified email at allenai.org - Homepage. ... T Dettmers, R Svirschevski, V Egiazarian, D Kuznedelev, E Frantar, ... arXiv preprint arXiv:2306.03078, 2023. 193: 2023: The case for 4-bit precision: k-bit inference scaling laws.\"}]', name='tavily_search_results_json', id='ee6e4641-bbe7-4b4e-a3d6-70fc588796a2', tool_call_id='call_41AEJdsnnr3tdtXUCDYB9xjg', artifact={'query': 'Tim Dettmers', 'follow_up_questions': None, 'answer': None, 'images': [], 'results': [{'title': 'About Me — Tim Dettmers', 'url': 'https://timdettmers.com/about/', 'content': 'Tim Dettmers is a research scientist at Ai2 and an incoming assistant professor at CMU. He works on efficient deep learning methods, such as quantization, sparsity, and low-bit inference.', 'score': 0.9407083, 'raw_content': None}, {'title': 'Tim Dettmers — Making deep learning accessible.', 'url': 'https://timdettmers.com/', 'content': 'Tim Dettmers is a researcher and teacher in deep learning and natural language processing. His blog covers topics such as hardware, quantization, sparse networks, creativity, and grad school choices.', 'score': 0.9405774, 'raw_content': None}, {'title': 'Tim Dettmers - AI2050', 'url': 'https://ai2050.schmidtsciences.org/fellow/tim-dettmers/', 'content': 'Tim Dettmers is an Assistant Professor at Carnegie Mellon University and a Research Scientist at the Allen Institute for AI, and his research focuses on making foundation models, such as ChatGPT, accessible to researchers and practitioners by reducing their resource requirements. AI models like ChatGPT work well for general use but fail in specialized expert domains, such as the medical sciences. To make AI models work in expert domains, one must adapt them, which is costly and requires significant AI expertise. This project overcomes these cost and expertise barriers through two new approaches: (1) use AI models themselves to perform the AI model adaptation process automatically; (2) make the adaptation process cheap so it can be run on regular consumer hardware.', 'score': 0.9263638, 'raw_content': None}, {'title': 'Seminar @ Cornell Tech: Tim Dettmers', 'url': 'https://tech.cornell.edu/events/seminar-cornell-tech-tim-dettmers/', 'content': \"Jacobs Technion-Cornell Dual MS Degrees – Health Tech Concentration Jacobs Technion-Cornell Dual MS Degrees – Urban Tech Concentration Cornell Tech Impact Study Jacobs Technion-Cornell Dual MS Degrees – Urban Tech Concentration Cornell Tech Impact Study Seminar @ Cornell Tech: Tim Dettmers Research Events, Seminar @ Cornell Tech, Master's Students, PhDs, Postdocs In this talk, Tim Dettmers will present research that significantly lowers these barriers for a wide range of use cases, including inference algorithms that are used to make predictions after training, finetuning approaches that adapt a trained model to new data, and finally, full training of foundation models from scratch. Tim Dettmers’s research focuses on making foundation models, such as ChatGPT, accessible to researchers and practitioners by reducing their resource requirements.\", 'score': 0.7574541, 'raw_content': None}, {'title': '\\u202aTim Dettmers\\u202c - \\u202aGoogle Scholar\\u202c', 'url': 'https://scholar.google.com/citations?user=lHI3w5kAAAAJ&hl=en', 'content': 'Tim Dettmers. Allen Institute for AI; Carnegie Mellon University. Verified email at allenai.org - Homepage. ... T Dettmers, R Svirschevski, V Egiazarian, D Kuznedelev, E Frantar, ... arXiv preprint arXiv:2306.03078, 2023. 193: 2023: The case for 4-bit precision: k-bit inference scaling laws.', 'score': 0.66464967, 'raw_content': None}], 'response_time': 1.9}), ToolMessage(content='Published: 2022-03-27\\nTitle: A General Survey on Attention Mechanisms in Deep Learning\\nAuthors: Gianni Brauwers, Flavius Frasincar\\nSummary: Attention is an important mechanism that can be employed for a variety of\\ndeep learning models across many different domains and tasks. This survey\\nprovides an overview of the most important attention mechanisms proposed in the\\nliterature. The various attention mechanisms are explained by means of a\\nframework consisting of a general attention model, uniform notation, and a\\ncomprehensive taxonomy of attention mechanisms. Furthermore, the various\\nmeasures for evaluating attention models are reviewed, and methods to\\ncharacterize the structure of attention models based on the proposed framework\\nare discussed. Last, future work in the field of attention models is\\nconsidered.\\n\\nPublished: 2022-07-04\\nTitle: Attention mechanisms for physiological signal deep learning: which attention should we take?\\nAuthors: Seong-A Park, Hyung-Chul Lee, Chul-Woo Jung, Hyun-Lim Yang\\nSummary: Attention mechanisms are widely used to dramatically improve deep learning\\nmodel performance in various fields. However, their general ability to improve\\nthe performance of physiological signal deep learning model is immature. In\\nthis study, we experimentally analyze four attention mechanisms (e.g.,\\nsqueeze-and-excitation, non-local, convolutional block attention module, and\\nmulti-head self-attention) and three convolutional neural network (CNN)\\narchitectures (e.g., VGG, ResNet, and Inception) for two representative\\nphysiological signal prediction tasks: the classification for predicting\\nhypotension and the regression for predicting cardiac output (CO). We evaluated\\nmultiple combinations for performance and convergence of physiological signal\\ndeep learning model. Accordingly, the CNN models with the spatial attention\\nmechanism showed the best performance in the classification problem, whereas\\nthe channel attention mechanism achieved the lowest error in the regression\\nproblem. Moreover, the performance and convergence of the CNN models with\\nattention mechanisms were better than stand-alone self-attention models in both\\nproblems. Hence, we verified that convolutional operation and attention\\nmechanisms are complementary and provide faster convergence time, despite the\\nstand-alone self-attention models requiring fewer parameters.\\n\\nPublished: 2018-10-17\\nTitle: An Analysis of Attention Mechanisms: The Case of Word Sense Disambiguation in Neural Machine Translation\\nAuthors: Gongbo Tang, Rico Sennrich, Joakim Nivre\\nSummary: Recent work has shown that the encoder-decoder attention mechanisms in neural\\nmachine translation (NMT) are different from the word alignment in statistical\\nmachine translation. In this paper, we focus on analyzing encoder-decoder\\nattention mechanisms, in the case of word sense disambiguation (WSD) in NMT\\nmodels. We hypothesize that attention mechanisms pay more attention to context\\ntokens when translating ambiguous words. We explore the attention distribution\\npatterns when translating ambiguous nouns. Counter-intuitively, we find that\\nattention mechanisms are likely to distribute more attention to the ambiguous\\nnoun itself rather than context tokens, in comparison to other nouns. We\\nconclude that attention mechanism is not the main mechanism used by NMT models\\nto incorporate contextual information for WSD. The experimental results suggest\\nthat NMT models learn to encode contextual information necessary for WSD in the\\nencoder hidden states. For the attention mechanism in Transformer models, we\\nreveal that the first few layers gradually learn to \"align\" source and target\\ntokens and the last few layers learn to extract features from the related but\\nunaligned context tokens.', name='arxiv', id='b0289c30-7a7f-4aa1-90d2-a8f2da2ed071', tool_call_id='call_dI2r4N15DlzK8Y5k7SNNah5c')]\n",
            "\n",
            "\n",
            "\n",
            "Receiving update from node: 'agent'\n",
            "[AIMessage(content='### LoRA in Machine Learning\\nLoRA, or Low-Rank Adaptation, is a method used to efficiently fine-tune large language models (LLMs). It is designed to reduce computational and memory requirements while maintaining performance. LoRA achieves this by adapting models with low-rank updates, which are computationally cheaper than full model updates. Recent research has explored compressing LoRA adapters to serve thousands of them with minimal overhead, and combining LoRA with knowledge distillation to further reduce resource usage while retaining performance.\\n\\n### Tim Dettmers\\nTim Dettmers is a research scientist at the Allen Institute for AI and an incoming assistant professor at Carnegie Mellon University. His work focuses on efficient deep learning methods, including quantization, sparsity, and low-bit inference. He aims to make foundation models like ChatGPT more accessible by reducing their resource requirements, enabling their use in specialized domains without significant expertise or cost.\\n\\n### Attention Mechanism in Machine Learning\\nAttention mechanisms are crucial in deep learning models, particularly in tasks like neural machine translation and physiological signal processing. They allow models to focus on specific parts of the input data, improving performance by dynamically weighting the importance of different input elements. Various attention mechanisms, such as multi-head self-attention and convolutional block attention modules, have been developed to enhance model performance across different tasks. These mechanisms are often used in conjunction with other neural network architectures to improve convergence and accuracy.', additional_kwargs={'refusal': None}, response_metadata={'token_usage': {'completion_tokens': 287, 'prompt_tokens': 2416, 'total_tokens': 2703, 'completion_tokens_details': {'accepted_prediction_tokens': 0, 'audio_tokens': 0, 'reasoning_tokens': 0, 'rejected_prediction_tokens': 0}, 'prompt_tokens_details': {'audio_tokens': 0, 'cached_tokens': 0}}, 'model_name': 'gpt-4o-2024-08-06', 'system_fingerprint': 'fp_50cad350e4', 'finish_reason': 'stop', 'logprobs': None}, id='run-47ea01ae-dfa6-4546-b305-3800b92688c0-0', usage_metadata={'input_tokens': 2416, 'output_tokens': 287, 'total_tokens': 2703, 'input_token_details': {'audio': 0, 'cache_read': 0}, 'output_token_details': {'audio': 0, 'reasoning': 0}})]\n",
            "\n",
            "\n",
            "\n"
          ]
        }
      ],
      "source": [
        "inputs = {\"messages\" : [HumanMessage(content=\"Related to machine learning, what is LoRA? Also, who is Tim Dettmers? Also, what is Attention?\")]}\n",
        "\n",
        "async for chunk in agent_with_helpfulness_check.astream(inputs, stream_mode=\"updates\"):\n",
        "    for node, values in chunk.items():\n",
        "        print(f\"Receiving update from node: '{node}'\")\n",
        "        print(values[\"messages\"])\n",
        "        print(\"\\n\\n\")"
      ]
    },
    {
      "cell_type": "markdown",
      "metadata": {
        "id": "yVmZPs6lnpsM"
      },
      "source": [
        "### Task 4: LangGraph for the \"Patterns\" of GenAI\n",
        "\n",
        "Let's ask our system about the 4 patterns of Generative AI:\n",
        "\n",
        "1. Prompt Engineering\n",
        "2. RAG\n",
        "3. Fine-tuning\n",
        "4. Agents"
      ]
    },
    {
      "cell_type": "code",
      "execution_count": 69,
      "metadata": {
        "id": "ZoLl7GlXoae-"
      },
      "outputs": [],
      "source": [
        "patterns = [\"prompt engineering\", \"RAG\", \"fine-tuning\", \"LLM-based agents\"]"
      ]
    },
    {
      "cell_type": "code",
      "execution_count": 70,
      "metadata": {
        "colab": {
          "base_uri": "https://localhost:8080/"
        },
        "id": "Zkh0YJuCp3Zl",
        "outputId": "d847426e-71b3-47e6-b1ae-351a78d68d1e"
      },
      "outputs": [
        {
          "name": "stdout",
          "output_type": "stream",
          "text": [
            "**Prompt Engineering: Definition and Emergence**\n",
            "\n",
            "**Definition:**\n",
            "Prompt engineering is the process of designing inputs for generative artificial intelligence (AI) models to deliver useful, accurate, and relevant responses. It is primarily used with large language models (LLMs) like OpenAI's ChatGPT and Google Gemini. The goal is to optimize the output from these models by crafting well-engineered prompts, which can lead to improved results and efficiency. This involves creating prompts that guide AI models in generating accurate and relevant responses, minimizing bias, and enhancing performance across various applications such as customer support, content generation, and data analysis. Techniques in prompt engineering include few-shot learning, chain-of-thought reasoning, and iterative refinement.\n",
            "\n",
            "**History and Emergence:**\n",
            "Prompt engineering has evolved significantly alongside advancements in AI and natural language processing (NLP). Initially, prompts were simple, but as LLMs like GPT-3 became more complex, prompt engineering techniques advanced to match these capabilities. The discipline has roots in early language models and information retrieval systems, with significant developments occurring through the introduction of attention mechanisms and reinforcement learning techniques. These advancements have enhanced the controllability and adaptability of language models, making prompt engineering a critical skill in the AI field. The history of prompt engineering reflects humanity's quest for meaningful communication, evolving from basic questioning to sophisticated AI-driven interactions.\n",
            "\n",
            "\n",
            "\n",
            "Retrieval-Augmented Generation (RAG) is a technique that enhances generative artificial intelligence models by integrating information retrieval capabilities. This approach allows models to respond to user queries by referencing a specified set of documents, augmenting the information drawn from their own training data. RAG is particularly useful for tasks requiring deep understanding, contextual awareness, and factual precision, and is already being applied across various industries.\n",
            "\n",
            "The concept of RAG was introduced in a 2020 paper by Patrick Lewis and co-authors from Facebook AI Research (now Meta AI), University College London, and New York University. The paper described RAG as a \"general-purpose fine-tuning recipe\" that can be used by nearly any large language model (LLM) to connect with external resources. This technique has since evolved, with advancements such as the Modular RAG framework and AutoRAG, which optimize the RAG pipeline for specific datasets.\n",
            "\n",
            "RAG has gained popularity due to its ability to improve the precision and reliability of AI models by retrieving and generating contextually suitable content. It represents a significant advancement in the field of generative AI, offering innovative opportunities for the conceptualization and deployment of AI systems.\n",
            "\n",
            "\n",
            "\n",
            "Fine-tuning in machine learning is a process where a pre-trained model is adapted for specific tasks or use cases. This involves adjusting the model's parameters using a new, task-specific dataset, allowing the model to specialize its learned representations for a new or related task. Fine-tuning is a technique within the broader category of transfer learning, where the general knowledge encoded in pre-trained models is refined to focus on the nuances of a specific task or domain. This can be done on the entire neural network or just a subset of its layers, with the non-fine-tuned layers being \"frozen\" during the process.\n",
            "\n",
            "The concept of fine-tuning has been around for a while, but it gained significant attention with the rise of deep learning and transfer learning techniques. It became particularly prominent with the development of large pre-trained models like BERT and GPT, which demonstrated the effectiveness of fine-tuning for various natural language processing tasks.\n",
            "\n",
            "Recent research continues to explore the nuances of fine-tuning, such as its application in differentially private machine learning and reinforcement learning. For instance, studies have examined the dynamics of fine-tuning in privacy-preserving settings and the benefits of hybrid reinforcement learning approaches that combine offline and online data for effective policy fine-tuning.\n",
            "\n",
            "For more detailed insights, you can explore the following resources:\n",
            "- [IBM on Fine-tuning](https://www.ibm.com/think/topics/fine-tuning)\n",
            "- [Wikipedia on Fine-tuning in Deep Learning](https://en.wikipedia.org/wiki/Fine-tuning_(deep_learning))\n",
            "- [DigitalOcean on Fine-tuning](https://www.digitalocean.com/resources/articles/fine-tuning)\n",
            "\n",
            "\n",
            "\n",
            "LLM-based agents, or Large Language Model-based agents, are intelligent systems that utilize large language models to interact with environments, whether physical, digital, or human. These agents are text-based and leverage the generality and few-shot learning capabilities of large language models to outperform earlier agents that were based on rules or reinforcement learning. The flexibility and generality of LLMs allow them to solve problems across various domains without the need for task-specific design and engineering.\n",
            "\n",
            "The concept of agents in AI has evolved significantly over time. It began with symbolic AI agents like ELIZA in 1966, which were limited in scope and rule-based. The development of LLM-based agents represents a significant advancement in this field, enabling more versatile text-based interactions and decision-making across domains.\n",
            "\n",
            "The rise of LLM-based agents is part of the broader evolution of AI, with significant developments occurring in recent years. The exact timeline of when LLM-based agents \"broke onto the scene\" isn't specified in the search results, but the rapid advancements in AI and the increasing capabilities of large language models have been particularly notable in the last few years, especially with the emergence of models like GPT-3 and beyond.\n",
            "\n",
            "\n",
            "\n"
          ]
        }
      ],
      "source": [
        "for pattern in patterns:\n",
        "  what_is_string = f\"What is {pattern} and when did it break onto the scene??\"\n",
        "  inputs = {\"messages\" : [HumanMessage(content=what_is_string)]}\n",
        "  messages = agent_with_helpfulness_check.invoke(inputs)\n",
        "  print(messages[\"messages\"][-1].content)\n",
        "  print(\"\\n\\n\")"
      ]
    }
  ],
  "metadata": {
    "colab": {
      "provenance": []
    },
    "kernelspec": {
      "display_name": ".venv",
      "language": "python",
      "name": "python3"
    },
    "language_info": {
      "codemirror_mode": {
        "name": "ipython",
        "version": 3
      },
      "file_extension": ".py",
      "mimetype": "text/x-python",
      "name": "python",
      "nbconvert_exporter": "python",
      "pygments_lexer": "ipython3",
      "version": "3.13.1"
    },
    "widgets": {
      "application/vnd.jupyter.widget-state+json": {
        "041e22a9b5514e36bd4d1dac01d5d398": {
          "model_module": "@jupyter-widgets/base",
          "model_module_version": "1.2.0",
          "model_name": "LayoutModel",
          "state": {
            "_model_module": "@jupyter-widgets/base",
            "_model_module_version": "1.2.0",
            "_model_name": "LayoutModel",
            "_view_count": null,
            "_view_module": "@jupyter-widgets/base",
            "_view_module_version": "1.2.0",
            "_view_name": "LayoutView",
            "align_content": null,
            "align_items": null,
            "align_self": null,
            "border": null,
            "bottom": null,
            "display": null,
            "flex": null,
            "flex_flow": null,
            "grid_area": null,
            "grid_auto_columns": null,
            "grid_auto_flow": null,
            "grid_auto_rows": null,
            "grid_column": null,
            "grid_gap": null,
            "grid_row": null,
            "grid_template_areas": null,
            "grid_template_columns": null,
            "grid_template_rows": null,
            "height": null,
            "justify_content": null,
            "justify_items": null,
            "left": null,
            "margin": null,
            "max_height": null,
            "max_width": null,
            "min_height": null,
            "min_width": null,
            "object_fit": null,
            "object_position": null,
            "order": null,
            "overflow": null,
            "overflow_x": null,
            "overflow_y": null,
            "padding": null,
            "right": null,
            "top": null,
            "visibility": null,
            "width": null
          }
        },
        "0d622ccc56264fac8fd7508dbdbe6e29": {
          "model_module": "@jupyter-widgets/controls",
          "model_module_version": "1.5.0",
          "model_name": "DescriptionStyleModel",
          "state": {
            "_model_module": "@jupyter-widgets/controls",
            "_model_module_version": "1.5.0",
            "_model_name": "DescriptionStyleModel",
            "_view_count": null,
            "_view_module": "@jupyter-widgets/base",
            "_view_module_version": "1.2.0",
            "_view_name": "StyleView",
            "description_width": ""
          }
        },
        "53e33aae3b97490c82aec7bbb0d6ebba": {
          "model_module": "@jupyter-widgets/controls",
          "model_module_version": "1.5.0",
          "model_name": "HTMLModel",
          "state": {
            "_dom_classes": [],
            "_model_module": "@jupyter-widgets/controls",
            "_model_module_version": "1.5.0",
            "_model_name": "HTMLModel",
            "_view_count": null,
            "_view_module": "@jupyter-widgets/controls",
            "_view_module_version": "1.5.0",
            "_view_name": "HTMLView",
            "description": "",
            "description_tooltip": null,
            "layout": "IPY_MODEL_041e22a9b5514e36bd4d1dac01d5d398",
            "placeholder": "​",
            "style": "IPY_MODEL_886d762f2a7c421382efb5502c6d42a1",
            "value": ""
          }
        },
        "716557ad09874dcb989d75f7c74424cd": {
          "model_module": "@jupyter-widgets/controls",
          "model_module_version": "1.5.0",
          "model_name": "ProgressStyleModel",
          "state": {
            "_model_module": "@jupyter-widgets/controls",
            "_model_module_version": "1.5.0",
            "_model_name": "ProgressStyleModel",
            "_view_count": null,
            "_view_module": "@jupyter-widgets/base",
            "_view_module_version": "1.2.0",
            "_view_name": "StyleView",
            "bar_color": null,
            "description_width": ""
          }
        },
        "72adef9b70dd48198b7322b6c5b113cf": {
          "model_module": "@jupyter-widgets/controls",
          "model_module_version": "1.5.0",
          "model_name": "HTMLModel",
          "state": {
            "_dom_classes": [],
            "_model_module": "@jupyter-widgets/controls",
            "_model_module_version": "1.5.0",
            "_model_name": "HTMLModel",
            "_view_count": null,
            "_view_module": "@jupyter-widgets/controls",
            "_view_module_version": "1.5.0",
            "_view_name": "HTMLView",
            "description": "",
            "description_tooltip": null,
            "layout": "IPY_MODEL_77d4c0ebaae045b58efc4f789c9a2360",
            "placeholder": "​",
            "style": "IPY_MODEL_0d622ccc56264fac8fd7508dbdbe6e29",
            "value": " 6/? [00:36&lt;00:00,  5.78s/it]"
          }
        },
        "77d4c0ebaae045b58efc4f789c9a2360": {
          "model_module": "@jupyter-widgets/base",
          "model_module_version": "1.2.0",
          "model_name": "LayoutModel",
          "state": {
            "_model_module": "@jupyter-widgets/base",
            "_model_module_version": "1.2.0",
            "_model_name": "LayoutModel",
            "_view_count": null,
            "_view_module": "@jupyter-widgets/base",
            "_view_module_version": "1.2.0",
            "_view_name": "LayoutView",
            "align_content": null,
            "align_items": null,
            "align_self": null,
            "border": null,
            "bottom": null,
            "display": null,
            "flex": null,
            "flex_flow": null,
            "grid_area": null,
            "grid_auto_columns": null,
            "grid_auto_flow": null,
            "grid_auto_rows": null,
            "grid_column": null,
            "grid_gap": null,
            "grid_row": null,
            "grid_template_areas": null,
            "grid_template_columns": null,
            "grid_template_rows": null,
            "height": null,
            "justify_content": null,
            "justify_items": null,
            "left": null,
            "margin": null,
            "max_height": null,
            "max_width": null,
            "min_height": null,
            "min_width": null,
            "object_fit": null,
            "object_position": null,
            "order": null,
            "overflow": null,
            "overflow_x": null,
            "overflow_y": null,
            "padding": null,
            "right": null,
            "top": null,
            "visibility": null,
            "width": null
          }
        },
        "886d762f2a7c421382efb5502c6d42a1": {
          "model_module": "@jupyter-widgets/controls",
          "model_module_version": "1.5.0",
          "model_name": "DescriptionStyleModel",
          "state": {
            "_model_module": "@jupyter-widgets/controls",
            "_model_module_version": "1.5.0",
            "_model_name": "DescriptionStyleModel",
            "_view_count": null,
            "_view_module": "@jupyter-widgets/base",
            "_view_module_version": "1.2.0",
            "_view_name": "StyleView",
            "description_width": ""
          }
        },
        "8a61d045ffd44ac58f3f13eb10044836": {
          "model_module": "@jupyter-widgets/base",
          "model_module_version": "1.2.0",
          "model_name": "LayoutModel",
          "state": {
            "_model_module": "@jupyter-widgets/base",
            "_model_module_version": "1.2.0",
            "_model_name": "LayoutModel",
            "_view_count": null,
            "_view_module": "@jupyter-widgets/base",
            "_view_module_version": "1.2.0",
            "_view_name": "LayoutView",
            "align_content": null,
            "align_items": null,
            "align_self": null,
            "border": null,
            "bottom": null,
            "display": null,
            "flex": null,
            "flex_flow": null,
            "grid_area": null,
            "grid_auto_columns": null,
            "grid_auto_flow": null,
            "grid_auto_rows": null,
            "grid_column": null,
            "grid_gap": null,
            "grid_row": null,
            "grid_template_areas": null,
            "grid_template_columns": null,
            "grid_template_rows": null,
            "height": null,
            "justify_content": null,
            "justify_items": null,
            "left": null,
            "margin": null,
            "max_height": null,
            "max_width": null,
            "min_height": null,
            "min_width": null,
            "object_fit": null,
            "object_position": null,
            "order": null,
            "overflow": null,
            "overflow_x": null,
            "overflow_y": null,
            "padding": null,
            "right": null,
            "top": null,
            "visibility": null,
            "width": null
          }
        },
        "ab91fd625bbd43afbf8c6398193a88d0": {
          "model_module": "@jupyter-widgets/base",
          "model_module_version": "1.2.0",
          "model_name": "LayoutModel",
          "state": {
            "_model_module": "@jupyter-widgets/base",
            "_model_module_version": "1.2.0",
            "_model_name": "LayoutModel",
            "_view_count": null,
            "_view_module": "@jupyter-widgets/base",
            "_view_module_version": "1.2.0",
            "_view_name": "LayoutView",
            "align_content": null,
            "align_items": null,
            "align_self": null,
            "border": null,
            "bottom": null,
            "display": null,
            "flex": null,
            "flex_flow": null,
            "grid_area": null,
            "grid_auto_columns": null,
            "grid_auto_flow": null,
            "grid_auto_rows": null,
            "grid_column": null,
            "grid_gap": null,
            "grid_row": null,
            "grid_template_areas": null,
            "grid_template_columns": null,
            "grid_template_rows": null,
            "height": null,
            "justify_content": null,
            "justify_items": null,
            "left": null,
            "margin": null,
            "max_height": null,
            "max_width": null,
            "min_height": null,
            "min_width": null,
            "object_fit": null,
            "object_position": null,
            "order": null,
            "overflow": null,
            "overflow_x": null,
            "overflow_y": null,
            "padding": null,
            "right": null,
            "top": null,
            "visibility": null,
            "width": "20px"
          }
        },
        "ad84e0e971d3455db2efe7dd0d1f803e": {
          "model_module": "@jupyter-widgets/controls",
          "model_module_version": "1.5.0",
          "model_name": "FloatProgressModel",
          "state": {
            "_dom_classes": [],
            "_model_module": "@jupyter-widgets/controls",
            "_model_module_version": "1.5.0",
            "_model_name": "FloatProgressModel",
            "_view_count": null,
            "_view_module": "@jupyter-widgets/controls",
            "_view_module_version": "1.5.0",
            "_view_name": "ProgressView",
            "bar_style": "success",
            "description": "",
            "description_tooltip": null,
            "layout": "IPY_MODEL_ab91fd625bbd43afbf8c6398193a88d0",
            "max": 1,
            "min": 0,
            "orientation": "horizontal",
            "style": "IPY_MODEL_716557ad09874dcb989d75f7c74424cd",
            "value": 1
          }
        },
        "efcf57067cf743d8b4ce059a61cbe02e": {
          "model_module": "@jupyter-widgets/controls",
          "model_module_version": "1.5.0",
          "model_name": "HBoxModel",
          "state": {
            "_dom_classes": [],
            "_model_module": "@jupyter-widgets/controls",
            "_model_module_version": "1.5.0",
            "_model_name": "HBoxModel",
            "_view_count": null,
            "_view_module": "@jupyter-widgets/controls",
            "_view_module_version": "1.5.0",
            "_view_name": "HBoxView",
            "box_style": "",
            "children": [
              "IPY_MODEL_53e33aae3b97490c82aec7bbb0d6ebba",
              "IPY_MODEL_ad84e0e971d3455db2efe7dd0d1f803e",
              "IPY_MODEL_72adef9b70dd48198b7322b6c5b113cf"
            ],
            "layout": "IPY_MODEL_8a61d045ffd44ac58f3f13eb10044836"
          }
        }
      }
    }
  },
  "nbformat": 4,
  "nbformat_minor": 0
}
